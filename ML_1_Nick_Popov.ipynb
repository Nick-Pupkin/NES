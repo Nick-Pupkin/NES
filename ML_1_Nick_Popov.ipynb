{
 "cells": [
  {
   "cell_type": "markdown",
   "metadata": {
    "id": "HcF9My_FhLuk"
   },
   "source": [
    "## Машинное обучение 1, MAE NES\n",
    "\n",
    "## Практическое домашнее задание 1\n",
    "\n",
    "### Общая информация\n",
    "\n",
    "Дата выдачи: 01.11.2024\n",
    "\n",
    "Мягкий дедлайн: 23:59MSK 10.11.2024\n",
    "\n",
    "Жесткий дедлайн: 23:59MSK 12.11.2024"
   ]
  },
  {
   "cell_type": "markdown",
   "metadata": {
    "id": "G64TptyJhLuo"
   },
   "source": [
    "### О задании\n",
    "\n",
    "Задание состоит из двух разделов, посвященных работе с табличными данными с помощью библиотеки `pandas` и визуализации с помощью `matplotlib`. В первом разделе вам предстоит выполнить базовые задания с помощью вышеуказанных библиотек, а во втором распределить студентов по курсам. Баллы даются за выполнение отдельных пунктов. Задачи в рамках одного раздела рекомендуется решать в том порядке, в котором они даны в задании.\n",
    "\n",
    "Задание направлено на освоение jupyter notebook (будет использоваться в дальнейших заданиях), библиотек pandas и matplotlib.\n",
    "\n",
    "### Оценивание и штрафы\n",
    "Каждая из задач имеет определенную «стоимость» (указана в скобках около задачи). Максимально допустимая оценка за работу — 10 баллов без учёта бонусов. Сдавать задание после жёсткого дедлайна нельзя.\n",
    "\n",
    "Задание выполняется самостоятельно. «Похожие» решения считаются плагиатом и все задействованные студенты (в том числе те, у кого списали) не могут получить за него больше 0 баллов (подробнее о плагиате см. на странице курса). Если вы нашли решение какого-то из заданий (или его часть) в открытом источнике, необходимо указать ссылку на этот источник (скорее всего вы будете не единственным, кто это нашел, поэтому чтобы исключить подозрение в плагиате, необходима ссылка на источник).\n",
    "\n",
    "### Формат сдачи\n",
    "Задания сдаются через систему Anytask. Инвайт можно получить у семинариста или ассистента. Присылать необходимо ноутбук с выполненным заданием. Сам ноутбук называйте в формате `homework-practice-01-pandas-Username.ipynb`, где Username — ваша фамилия.\n",
    "\n",
    "Для удобства проверки самостоятельно посчитайте свою максимальную оценку (исходя из набора решенных задач) и укажите ниже.\n",
    "\n",
    "Оценка: xx."
   ]
  },
  {
   "cell_type": "markdown",
   "metadata": {
    "id": "BaXlfHE_hLup"
   },
   "source": [
    "## 0. Введение"
   ]
  },
  {
   "cell_type": "markdown",
   "metadata": {
    "id": "wirAvJNxhLup"
   },
   "source": [
    "Сейчас мы находимся в jupyter-ноутбуке (или ipython-ноутбуке). Это удобная среда для написания кода, проведения экспериментов, изучения данных, построения визуализаций и других нужд, не связанных с написанием production-кода.\n",
    "\n",
    "Ноутбук состоит из ячеек, каждая из которых может быть либо ячейкой с кодом, либо ячейкой с текстом размеченным и неразмеченным. Текст поддерживает markdown-разметку и формулы в Latex.\n",
    "\n",
    "Для работы с содержимым ячейки используется *режим редактирования* (*Edit mode*, включается нажатием клавиши **Enter** после выбора ячейки), а для навигации между ячейками искользуется *командный режим* (*Command mode*, включается нажатием клавиши **Esc**). Тип ячейки можно задать в командном режиме либо с помощью горячих клавиш (**y** to code, **m** to markdown, **r** to edit raw text), либо в меню *Cell -> Cell type*.\n",
    "\n",
    "После заполнения ячейки нужно нажать *Shift + Enter*, эта команда обработает содержимое ячейки: проинтерпретирует код или сверстает размеченный текст."
   ]
  },
  {
   "cell_type": "code",
   "execution_count": 1,
   "metadata": {
    "id": "aQ2_j3nkhLuq"
   },
   "outputs": [
    {
     "data": {
      "text/plain": [
       "4"
      ]
     },
     "execution_count": 1,
     "metadata": {},
     "output_type": "execute_result"
    }
   ],
   "source": [
    "# ячейка с кодом, при выполнении которой появится output\n",
    "2 + 2"
   ]
  },
  {
   "cell_type": "markdown",
   "metadata": {
    "id": "ZlulCwVKhLur"
   },
   "source": [
    "Ячейка с неразмеченным текстом."
   ]
  },
  {
   "cell_type": "markdown",
   "metadata": {
    "id": "A4wkVlIehLur"
   },
   "source": [
    "Попробуйте создать свои ячейки, написать какой-нибудь код и текст какой-нибудь формулой."
   ]
  },
  {
   "cell_type": "code",
   "execution_count": 2,
   "metadata": {
    "id": "BIuaYSvqhLus"
   },
   "outputs": [],
   "source": [
    "# your code"
   ]
  },
  {
   "cell_type": "code",
   "execution_count": 3,
   "metadata": {},
   "outputs": [
    {
     "data": {
      "text/plain": [
       "11.0"
      ]
     },
     "execution_count": 3,
     "metadata": {},
     "output_type": "execute_result"
    }
   ],
   "source": [
    "8+9/3"
   ]
  },
  {
   "cell_type": "markdown",
   "metadata": {
    "id": "iWs6ljrIhLus"
   },
   "source": [
    "[Здесь](https://athena.brynmawr.edu/jupyter/hub/dblank/public/Jupyter%20Notebook%20Users%20Manual.ipynb) находится <s>не</s>большая заметка о используемом языке разметки Markdown. Он позволяет:\n",
    "\n",
    "0. Составлять упорядоченные списки\n",
    "1. Выделять *текст* <s>при</s> **необходимости**\n",
    "2. Добавлять [ссылки](http://imgs.xkcd.com/comics/the_universal_label.png)\n",
    "\n",
    "\n",
    "* Составлять неупорядоченные списки\n",
    "\n",
    "Делать вставки с помощью LaTex:\n",
    "    \n",
    "$\n",
    "\\left\\{\n",
    "\\begin{array}{ll}\n",
    "x = 16 \\sin^3 (t) \\\\\n",
    "y = 13 \\cos (t) - 5 \\cos (2t) - 2 \\cos (3t) - \\cos (4t) \\\\\n",
    "t \\in [0, 2 \\pi]\n",
    "\\end{array}\n",
    "\\right.$"
   ]
  },
  {
   "cell_type": "markdown",
   "metadata": {
    "id": "6fmTGcXOhLus"
   },
   "source": [
    "А ещё можно вставлять картинки, или гифки, или что захотите:\n",
    "\n",
    "<img src=\"https://media1.tenor.com/images/9b8fbe9214504bcf6c60fe4e4f7e114e/tenor.gif?itemid=5416416\" style=\"width: 400px\">"
   ]
  },
  {
   "cell_type": "markdown",
   "metadata": {
    "id": "J_toGw7DhLut"
   },
   "source": [
    "### Google Colab"
   ]
  },
  {
   "cell_type": "markdown",
   "metadata": {
    "id": "jpkbCVjGhLut"
   },
   "source": [
    "Что за колаб?\n",
    "\n",
    "**Google Colab (Colaboratory)** это **Jupyter Notebook + Cloud + Google Drive.**\n",
    "\n",
    "Компания Google предоставляет возможность бесплатно запускать ноутбуки (предварительно загрузив их на свой гугл-диск) прямо в облаке. При этом вам не требуется установка никаких пакетов на свою машину, а работать можно прямиком из браузера. Вот ссылка:"
   ]
  },
  {
   "cell_type": "markdown",
   "metadata": {
    "id": "06MQog3yhLut"
   },
   "source": [
    "https://colab.research.google.com"
   ]
  },
  {
   "cell_type": "markdown",
   "metadata": {
    "id": "5_hfWXKPhLut"
   },
   "source": [
    "При использовании вы увидите много сходств с jupyter ноутбуком. Одним из преимуществ является доступность GPU, соответствующую опцию можно активировать в настройках сервиса. При желании вы сможете найти в интернете много туториалов по использованию или разобраться самостоятельно"
   ]
  },
  {
   "cell_type": "markdown",
   "metadata": {
    "id": "DcRcwHpG8pxB"
   },
   "source": [
    "### Kaggle\n",
    "\n",
    "Альтернативой является **Kaggle**, он же площадка для самых разных соревнований по машинному обучению\n",
    "\n",
    "Он, как и колаб, предоставляет бесплатный GPU, и даже не один, с чётким лимитом в 30 часов в неделю (colab может его внезапно отобрать, kaggle - нет) более мощные CPU с большим числом ядер, и больше Гб ОЗУ (раз так в 2.5)\n",
    "\n",
    "https://www.kaggle.com\n",
    "\n",
    "К сожалению мир не идеален, недостатки следующие:\n",
    "- необходимость загружать датасеты через специальную кнопочку\n",
    "- невозможность использовать свои скрипты и модули :(\n",
    "- нужно тыкать техподдержку, чтобы создать аккаунт из России"
   ]
  },
  {
   "cell_type": "markdown",
   "metadata": {
    "id": "sUe2vnFGhLuu"
   },
   "source": [
    "## 1. Табличные данные и Pandas"
   ]
  },
  {
   "cell_type": "markdown",
   "metadata": {
    "id": "DJQzjjqJhLuu"
   },
   "source": [
    "Pandas — удобная библиотека для работы с табличными данными в Python, если данных не слишком много и они помещаются в оперативную память вашего компьютера. Несмотря на неэффективность реализации и некоторые проблемы, библиотека стала стандартом в анализе данных.\n",
    "\n",
    "Основной объект в `pandas` — это `pd.DataFrame`, представляющий собой таблицу с именованными колонками различных типов, индексом (может быть многоуровневым). DataFrame можно создавать, считывая таблицу из файла или задавая вручную из других объектов.\n",
    "\n",
    "В этой части потребуется выполнить несколько небольших заданий. Можно пойти двумя путями: сначала изучить материалы, а потом приступить к заданиям, или же разбираться \"по ходу\". Выбирайте сами.\n",
    "\n",
    "Материалы:\n",
    "1. [Pandas за 10 минут из официального руководства](http://pandas.pydata.org/pandas-docs/stable/10min.html)\n",
    "2. [Документация](http://pandas.pydata.org/pandas-docs/stable/index.html) (стоит обращаться, если не понятно, как вызывать конкретный метод)\n",
    "3. [Примеры использования функционала](http://nbviewer.jupyter.org/github/justmarkham/pandas-videos/blob/master/pandas.ipynb)\n",
    "\n",
    "Многие из заданий можно выполнить несколькими способами. Не существуют единственно верного, но попробуйте максимально задействовать арсенал pandas и ориентируйтесь на простоту и понятность вашего кода. Мы не будем подсказывать, что нужно использовать для решения конкретной задачи, попробуйте находить необходимый функционал сами (название метода чаще всего очевидно). В помощь вам документация, поиск и StackOverflow."
   ]
  },
  {
   "cell_type": "code",
   "execution_count": 4,
   "metadata": {
    "id": "26zbFY25hLuv",
    "outputId": "404c22c6-2696-48ab-c71e-7a3ffbc36b18"
   },
   "outputs": [
    {
     "name": "stdout",
     "output_type": "stream",
     "text": [
      "%pylab is deprecated, use %matplotlib inline and import the required libraries.\n",
      "Populating the interactive namespace from numpy and matplotlib\n"
     ]
    }
   ],
   "source": [
    "# personally don't like warnings\n",
    "import warnings\n",
    "warnings.filterwarnings(\"ignore\")\n",
    "\n",
    "%pylab inline\n",
    "import pandas as pd"
   ]
  },
  {
   "cell_type": "markdown",
   "metadata": {
    "id": "QZmj3q3c8A8c"
   },
   "source": [
    "<span style=\"color:red\">Перед выполнением задания необходимо ознакомиться с первым семинаром (seminars/sem01-pandas.ipynb) </span>.\n",
    "\n",
    "Это поможет вам получить общее понимание происходяшего и успешнее справиться с заданием.\n",
    "\n",
    "Также успешному выполнению способствует внимательное чтение текста задания от начала до конца.\n",
    "\n",
    "Удачи!"
   ]
  },
  {
   "cell_type": "markdown",
   "metadata": {
    "id": "dneJl9TyhLuv"
   },
   "source": [
    "Скачаем подготовленные на семинаре данные:"
   ]
  },
  {
   "cell_type": "code",
   "execution_count": 5,
   "metadata": {
    "id": "rj_I0RslhLuw"
   },
   "outputs": [],
   "source": [
    "# seems like it's for colab\n",
    "# !wget  -O 'end_seminar.xlsx' -q 'https://www.dropbox.com/s/f4rm8sjc3v99p0m/_end_seminar.xlsx?dl=0'\n",
    "# url = 'https://www.dropbox.com/s/f4rm8sjc3v99p0m/_end_seminar.xlsx?dl=1'  # Change dl=0 to dl=1 for direct download\n",
    "# df = pd.read_excel(url)"
   ]
  },
  {
   "cell_type": "markdown",
   "metadata": {
    "id": "5hp7bn_ThLuw"
   },
   "source": [
    "Для пользователей Windows: скачайте файл самостоятельно и поместите его в папку с тетрадкой. Или попробуйте один из следующих вариантов:"
   ]
  },
  {
   "cell_type": "code",
   "execution_count": 6,
   "metadata": {
    "id": "4h4_BaX8hLuw"
   },
   "outputs": [],
   "source": [
    "# !powershell iwr -outf somefile https://somesite/somefile"
   ]
  },
  {
   "cell_type": "code",
   "execution_count": 7,
   "metadata": {
    "id": "7bHroLGChLuw"
   },
   "outputs": [
    {
     "name": "stdout",
     "output_type": "stream",
     "text": [
      "Requirement already satisfied: wget in c:\\users\\popov\\anaconda3\\envs\\nes\\lib\\site-packages (3.2)\n"
     ]
    },
    {
     "data": {
      "text/plain": [
       "'end_seminar (17).xlsx'"
      ]
     },
     "execution_count": 7,
     "metadata": {},
     "output_type": "execute_result"
    }
   ],
   "source": [
    "!pip install wget\n",
    "import wget\n",
    "wget.download('https://dropbox.com/s/f4rm8sjc3v99p0m/_end_seminar.xlsx?dl=1', 'end_seminar.xlsx')"
   ]
  },
  {
   "cell_type": "markdown",
   "metadata": {
    "id": "VFs_6IythLux"
   },
   "source": [
    "##### В первой части задания (до раздела \"Распределение студентов по курсам\") использование циклов запрещается и повлечет за собой снижение оценки. Использование <code>vectorize</code> и  <code>apply</code>, <code>apply_along_axis</code> и всего, где можно применить лямбда-функции (`assign`, `map`, ...) крайне нежелательно"
   ]
  },
  {
   "cell_type": "markdown",
   "metadata": {
    "id": "shFkfJkohLux"
   },
   "source": [
    "Для каждой задачи из этого раздела вы должны написать код для получения ответа, а также дать текстовый ответ, если он предполагается.\n",
    "\n",
    "На некоторые вопросы вы можете получить путём пристального взгляда на таблицу, но это не будет засчитываться. Вы в любом случае должны получить ответ с помощью кода."
   ]
  },
  {
   "cell_type": "markdown",
   "metadata": {
    "id": "gDD85M7bhLux"
   },
   "source": [
    "#### 1. [0.5 баллов] Откройте файл с таблицей (не забудьте про её формат). Выведите 3 последних строки.\n",
    "\n",
    "Посмотрите на данные и скажите, что они из себя представляют, сколько в таблице строк, какие столбцы? (на это не надо отвечать, просто подумайте об этом)"
   ]
  },
  {
   "cell_type": "code",
   "execution_count": 8,
   "metadata": {
    "id": "PKulur3LhLuy"
   },
   "outputs": [
    {
     "data": {
      "text/html": [
       "<div>\n",
       "<style scoped>\n",
       "    .dataframe tbody tr th:only-of-type {\n",
       "        vertical-align: middle;\n",
       "    }\n",
       "\n",
       "    .dataframe tbody tr th {\n",
       "        vertical-align: top;\n",
       "    }\n",
       "\n",
       "    .dataframe thead th {\n",
       "        text-align: right;\n",
       "    }\n",
       "</style>\n",
       "<table border=\"1\" class=\"dataframe\">\n",
       "  <thead>\n",
       "    <tr style=\"text-align: right;\">\n",
       "      <th></th>\n",
       "      <th>timestamp</th>\n",
       "      <th>id</th>\n",
       "      <th>rating</th>\n",
       "      <th>18_group</th>\n",
       "      <th>is_mi</th>\n",
       "      <th>fall_1</th>\n",
       "      <th>fall_2</th>\n",
       "      <th>fall_3</th>\n",
       "      <th>spring_1</th>\n",
       "      <th>spring_2</th>\n",
       "      <th>spring_3</th>\n",
       "      <th>is_first_time</th>\n",
       "      <th>percentile</th>\n",
       "      <th>17_group</th>\n",
       "      <th>blended</th>\n",
       "      <th>is_ml_student</th>\n",
       "    </tr>\n",
       "  </thead>\n",
       "  <tbody>\n",
       "    <tr>\n",
       "      <th>0</th>\n",
       "      <td>2020-05-15 01:12:50.543</td>\n",
       "      <td>93ff79a51cd602f1dd3028ba2c129503</td>\n",
       "      <td>698</td>\n",
       "      <td>181.0</td>\n",
       "      <td>NaN</td>\n",
       "      <td>Язык SQL</td>\n",
       "      <td>Высокопроизводительные вычисления</td>\n",
       "      <td>Матричные вычисления</td>\n",
       "      <td>Дискретная оптимизация</td>\n",
       "      <td>Численные методы</td>\n",
       "      <td>Машинное обучение 2</td>\n",
       "      <td>Да</td>\n",
       "      <td>0.183857</td>\n",
       "      <td>NaN</td>\n",
       "      <td>NaN</td>\n",
       "      <td>NaN</td>\n",
       "    </tr>\n",
       "    <tr>\n",
       "      <th>1</th>\n",
       "      <td>2020-05-15 02:46:48.066</td>\n",
       "      <td>26b01b1c4cd5656bab18d24c548834fb</td>\n",
       "      <td>647</td>\n",
       "      <td>181.0</td>\n",
       "      <td>NaN</td>\n",
       "      <td>Высокопроизводительные вычисления</td>\n",
       "      <td>Безопасность компьютерных систем</td>\n",
       "      <td>Язык SQL</td>\n",
       "      <td>Дискретная оптимизация</td>\n",
       "      <td>Численные методы</td>\n",
       "      <td>Машинное обучение 2</td>\n",
       "      <td>Нет</td>\n",
       "      <td>0.426009</td>\n",
       "      <td>NaN</td>\n",
       "      <td>NaN</td>\n",
       "      <td>NaN</td>\n",
       "    </tr>\n",
       "    <tr>\n",
       "      <th>2</th>\n",
       "      <td>2020-05-15 03:12:41.480</td>\n",
       "      <td>30f3653fc176d54e89ac3179c455c6dd</td>\n",
       "      <td>624</td>\n",
       "      <td>185.0</td>\n",
       "      <td>NaN</td>\n",
       "      <td>Безопасность компьютерных систем</td>\n",
       "      <td>Матричные вычисления</td>\n",
       "      <td>Моделирование временных рядов</td>\n",
       "      <td>Дискретная оптимизация</td>\n",
       "      <td>Машинное обучение 2</td>\n",
       "      <td>Численные методы</td>\n",
       "      <td>Да</td>\n",
       "      <td>0.538117</td>\n",
       "      <td>NaN</td>\n",
       "      <td>NaN</td>\n",
       "      <td>NaN</td>\n",
       "    </tr>\n",
       "    <tr>\n",
       "      <th>3</th>\n",
       "      <td>2020-05-15 04:43:08.994</td>\n",
       "      <td>1528f0eaa027580820ccf0d92a53ad68</td>\n",
       "      <td>579</td>\n",
       "      <td>182.0</td>\n",
       "      <td>NaN</td>\n",
       "      <td>Statistical Learning Theory</td>\n",
       "      <td>Высокопроизводительные вычисления</td>\n",
       "      <td>Матричные вычисления</td>\n",
       "      <td>Дискретная оптимизация</td>\n",
       "      <td>Численные методы</td>\n",
       "      <td>Машинное обучение 2</td>\n",
       "      <td>Да</td>\n",
       "      <td>0.744395</td>\n",
       "      <td>NaN</td>\n",
       "      <td>NaN</td>\n",
       "      <td>NaN</td>\n",
       "    </tr>\n",
       "  </tbody>\n",
       "</table>\n",
       "</div>"
      ],
      "text/plain": [
       "                timestamp                                id  rating  18_group  \\\n",
       "0 2020-05-15 01:12:50.543  93ff79a51cd602f1dd3028ba2c129503     698     181.0   \n",
       "1 2020-05-15 02:46:48.066  26b01b1c4cd5656bab18d24c548834fb     647     181.0   \n",
       "2 2020-05-15 03:12:41.480  30f3653fc176d54e89ac3179c455c6dd     624     185.0   \n",
       "3 2020-05-15 04:43:08.994  1528f0eaa027580820ccf0d92a53ad68     579     182.0   \n",
       "\n",
       "   is_mi                             fall_1  \\\n",
       "0    NaN                           Язык SQL   \n",
       "1    NaN  Высокопроизводительные вычисления   \n",
       "2    NaN   Безопасность компьютерных систем   \n",
       "3    NaN        Statistical Learning Theory   \n",
       "\n",
       "                              fall_2                         fall_3  \\\n",
       "0  Высокопроизводительные вычисления           Матричные вычисления   \n",
       "1   Безопасность компьютерных систем                       Язык SQL   \n",
       "2               Матричные вычисления  Моделирование временных рядов   \n",
       "3  Высокопроизводительные вычисления           Матричные вычисления   \n",
       "\n",
       "                 spring_1             spring_2             spring_3  \\\n",
       "0  Дискретная оптимизация     Численные методы  Машинное обучение 2   \n",
       "1  Дискретная оптимизация     Численные методы  Машинное обучение 2   \n",
       "2  Дискретная оптимизация  Машинное обучение 2     Численные методы   \n",
       "3  Дискретная оптимизация     Численные методы  Машинное обучение 2   \n",
       "\n",
       "  is_first_time  percentile  17_group blended  is_ml_student  \n",
       "0            Да    0.183857       NaN     NaN            NaN  \n",
       "1           Нет    0.426009       NaN     NaN            NaN  \n",
       "2            Да    0.538117       NaN     NaN            NaN  \n",
       "3            Да    0.744395       NaN     NaN            NaN  "
      ]
     },
     "execution_count": 8,
     "metadata": {},
     "output_type": "execute_result"
    }
   ],
   "source": [
    "data_1 = pd.read_excel('end_seminar.xlsx')\n",
    "data_1.head(4)"
   ]
  },
  {
   "cell_type": "markdown",
   "metadata": {},
   "source": [
    "From the sections we know that this is the dataset with course choices of students."
   ]
  },
  {
   "cell_type": "code",
   "execution_count": 9,
   "metadata": {},
   "outputs": [
    {
     "data": {
      "text/plain": [
       "(361, 16)"
      ]
     },
     "execution_count": 9,
     "metadata": {},
     "output_type": "execute_result"
    }
   ],
   "source": [
    "data_1.shape"
   ]
  },
  {
   "cell_type": "code",
   "execution_count": 10,
   "metadata": {},
   "outputs": [
    {
     "data": {
      "text/plain": [
       "timestamp        datetime64[ns]\n",
       "id                       object\n",
       "rating                    int64\n",
       "18_group                float64\n",
       "is_mi                   float64\n",
       "fall_1                   object\n",
       "fall_2                   object\n",
       "fall_3                   object\n",
       "spring_1                 object\n",
       "spring_2                 object\n",
       "spring_3                 object\n",
       "is_first_time            object\n",
       "percentile              float64\n",
       "17_group                float64\n",
       "blended                  object\n",
       "is_ml_student           float64\n",
       "dtype: object"
      ]
     },
     "execution_count": 10,
     "metadata": {},
     "output_type": "execute_result"
    }
   ],
   "source": [
    "data_1.dtypes"
   ]
  },
  {
   "cell_type": "code",
   "execution_count": 11,
   "metadata": {},
   "outputs": [
    {
     "data": {
      "text/html": [
       "<div>\n",
       "<style scoped>\n",
       "    .dataframe tbody tr th:only-of-type {\n",
       "        vertical-align: middle;\n",
       "    }\n",
       "\n",
       "    .dataframe tbody tr th {\n",
       "        vertical-align: top;\n",
       "    }\n",
       "\n",
       "    .dataframe thead th {\n",
       "        text-align: right;\n",
       "    }\n",
       "</style>\n",
       "<table border=\"1\" class=\"dataframe\">\n",
       "  <thead>\n",
       "    <tr style=\"text-align: right;\">\n",
       "      <th></th>\n",
       "      <th>timestamp</th>\n",
       "      <th>rating</th>\n",
       "      <th>18_group</th>\n",
       "      <th>is_mi</th>\n",
       "      <th>percentile</th>\n",
       "      <th>17_group</th>\n",
       "      <th>is_ml_student</th>\n",
       "    </tr>\n",
       "  </thead>\n",
       "  <tbody>\n",
       "    <tr>\n",
       "      <th>count</th>\n",
       "      <td>361</td>\n",
       "      <td>361.000000</td>\n",
       "      <td>223.000000</td>\n",
       "      <td>18.0</td>\n",
       "      <td>361.000000</td>\n",
       "      <td>138.000000</td>\n",
       "      <td>57.0</td>\n",
       "    </tr>\n",
       "    <tr>\n",
       "      <th>mean</th>\n",
       "      <td>2020-05-18 05:47:44.605210368</td>\n",
       "      <td>833.346260</td>\n",
       "      <td>184.520179</td>\n",
       "      <td>1.0</td>\n",
       "      <td>0.497230</td>\n",
       "      <td>173.355072</td>\n",
       "      <td>1.0</td>\n",
       "    </tr>\n",
       "    <tr>\n",
       "      <th>min</th>\n",
       "      <td>2020-05-14 20:23:21.662000</td>\n",
       "      <td>495.000000</td>\n",
       "      <td>181.000000</td>\n",
       "      <td>1.0</td>\n",
       "      <td>0.000000</td>\n",
       "      <td>171.000000</td>\n",
       "      <td>1.0</td>\n",
       "    </tr>\n",
       "    <tr>\n",
       "      <th>25%</th>\n",
       "      <td>2020-05-17 17:40:31.867000064</td>\n",
       "      <td>613.000000</td>\n",
       "      <td>183.000000</td>\n",
       "      <td>1.0</td>\n",
       "      <td>0.246637</td>\n",
       "      <td>172.000000</td>\n",
       "      <td>1.0</td>\n",
       "    </tr>\n",
       "    <tr>\n",
       "      <th>50%</th>\n",
       "      <td>2020-05-18 19:23:38.273999872</td>\n",
       "      <td>697.000000</td>\n",
       "      <td>185.000000</td>\n",
       "      <td>1.0</td>\n",
       "      <td>0.497758</td>\n",
       "      <td>173.000000</td>\n",
       "      <td>1.0</td>\n",
       "    </tr>\n",
       "    <tr>\n",
       "      <th>75%</th>\n",
       "      <td>2020-05-18 22:24:55.160000</td>\n",
       "      <td>1111.000000</td>\n",
       "      <td>187.000000</td>\n",
       "      <td>1.0</td>\n",
       "      <td>0.746377</td>\n",
       "      <td>175.000000</td>\n",
       "      <td>1.0</td>\n",
       "    </tr>\n",
       "    <tr>\n",
       "      <th>max</th>\n",
       "      <td>2020-05-24 01:23:31.946000</td>\n",
       "      <td>1457.000000</td>\n",
       "      <td>188.000000</td>\n",
       "      <td>1.0</td>\n",
       "      <td>0.995516</td>\n",
       "      <td>177.000000</td>\n",
       "      <td>1.0</td>\n",
       "    </tr>\n",
       "    <tr>\n",
       "      <th>std</th>\n",
       "      <td>NaN</td>\n",
       "      <td>266.665103</td>\n",
       "      <td>2.271701</td>\n",
       "      <td>0.0</td>\n",
       "      <td>0.289071</td>\n",
       "      <td>1.795374</td>\n",
       "      <td>0.0</td>\n",
       "    </tr>\n",
       "  </tbody>\n",
       "</table>\n",
       "</div>"
      ],
      "text/plain": [
       "                           timestamp       rating    18_group  is_mi  \\\n",
       "count                            361   361.000000  223.000000   18.0   \n",
       "mean   2020-05-18 05:47:44.605210368   833.346260  184.520179    1.0   \n",
       "min       2020-05-14 20:23:21.662000   495.000000  181.000000    1.0   \n",
       "25%    2020-05-17 17:40:31.867000064   613.000000  183.000000    1.0   \n",
       "50%    2020-05-18 19:23:38.273999872   697.000000  185.000000    1.0   \n",
       "75%       2020-05-18 22:24:55.160000  1111.000000  187.000000    1.0   \n",
       "max       2020-05-24 01:23:31.946000  1457.000000  188.000000    1.0   \n",
       "std                              NaN   266.665103    2.271701    0.0   \n",
       "\n",
       "       percentile    17_group  is_ml_student  \n",
       "count  361.000000  138.000000           57.0  \n",
       "mean     0.497230  173.355072            1.0  \n",
       "min      0.000000  171.000000            1.0  \n",
       "25%      0.246637  172.000000            1.0  \n",
       "50%      0.497758  173.000000            1.0  \n",
       "75%      0.746377  175.000000            1.0  \n",
       "max      0.995516  177.000000            1.0  \n",
       "std      0.289071    1.795374            0.0  "
      ]
     },
     "execution_count": 11,
     "metadata": {},
     "output_type": "execute_result"
    }
   ],
   "source": [
    "data_1.describe()\n"
   ]
  },
  {
   "cell_type": "markdown",
   "metadata": {
    "id": "P6dOzc7e85Bs"
   },
   "source": [
    "### Ответьте на вопросы:\n",
    "1. Сколько было уникальных пользователей из групп 18-го года набора, а сколько из групп 17-го года?"
   ]
  },
  {
   "cell_type": "code",
   "execution_count": 12,
   "metadata": {
    "id": "ZLBcHvHf890B"
   },
   "outputs": [
    {
     "data": {
      "text/html": [
       "<div>\n",
       "<style scoped>\n",
       "    .dataframe tbody tr th:only-of-type {\n",
       "        vertical-align: middle;\n",
       "    }\n",
       "\n",
       "    .dataframe tbody tr th {\n",
       "        vertical-align: top;\n",
       "    }\n",
       "\n",
       "    .dataframe thead th {\n",
       "        text-align: right;\n",
       "    }\n",
       "</style>\n",
       "<table border=\"1\" class=\"dataframe\">\n",
       "  <thead>\n",
       "    <tr style=\"text-align: right;\">\n",
       "      <th></th>\n",
       "      <th>17_group</th>\n",
       "      <th>18_group</th>\n",
       "    </tr>\n",
       "  </thead>\n",
       "  <tbody>\n",
       "    <tr>\n",
       "      <th>0</th>\n",
       "      <td>NaN</td>\n",
       "      <td>181.0</td>\n",
       "    </tr>\n",
       "    <tr>\n",
       "      <th>1</th>\n",
       "      <td>NaN</td>\n",
       "      <td>181.0</td>\n",
       "    </tr>\n",
       "    <tr>\n",
       "      <th>2</th>\n",
       "      <td>NaN</td>\n",
       "      <td>185.0</td>\n",
       "    </tr>\n",
       "    <tr>\n",
       "      <th>3</th>\n",
       "      <td>NaN</td>\n",
       "      <td>182.0</td>\n",
       "    </tr>\n",
       "    <tr>\n",
       "      <th>4</th>\n",
       "      <td>NaN</td>\n",
       "      <td>183.0</td>\n",
       "    </tr>\n",
       "    <tr>\n",
       "      <th>...</th>\n",
       "      <td>...</td>\n",
       "      <td>...</td>\n",
       "    </tr>\n",
       "    <tr>\n",
       "      <th>356</th>\n",
       "      <td>174.0</td>\n",
       "      <td>NaN</td>\n",
       "    </tr>\n",
       "    <tr>\n",
       "      <th>357</th>\n",
       "      <td>174.0</td>\n",
       "      <td>NaN</td>\n",
       "    </tr>\n",
       "    <tr>\n",
       "      <th>358</th>\n",
       "      <td>173.0</td>\n",
       "      <td>NaN</td>\n",
       "    </tr>\n",
       "    <tr>\n",
       "      <th>359</th>\n",
       "      <td>172.0</td>\n",
       "      <td>NaN</td>\n",
       "    </tr>\n",
       "    <tr>\n",
       "      <th>360</th>\n",
       "      <td>176.0</td>\n",
       "      <td>NaN</td>\n",
       "    </tr>\n",
       "  </tbody>\n",
       "</table>\n",
       "<p>361 rows × 2 columns</p>\n",
       "</div>"
      ],
      "text/plain": [
       "     17_group  18_group\n",
       "0         NaN     181.0\n",
       "1         NaN     181.0\n",
       "2         NaN     185.0\n",
       "3         NaN     182.0\n",
       "4         NaN     183.0\n",
       "..        ...       ...\n",
       "356     174.0       NaN\n",
       "357     174.0       NaN\n",
       "358     173.0       NaN\n",
       "359     172.0       NaN\n",
       "360     176.0       NaN\n",
       "\n",
       "[361 rows x 2 columns]"
      ]
     },
     "execution_count": 12,
     "metadata": {},
     "output_type": "execute_result"
    }
   ],
   "source": [
    "data_1.loc[:, [\"17_group\", \"18_group\"]] # these are groups "
   ]
  },
  {
   "cell_type": "code",
   "execution_count": 13,
   "metadata": {},
   "outputs": [
    {
     "data": {
      "text/plain": [
       "array([ nan, 172., 176., 171., 175., 173., 174., 177.])"
      ]
     },
     "execution_count": 13,
     "metadata": {},
     "output_type": "execute_result"
    }
   ],
   "source": [
    "data_1[\"17_group\"].unique()"
   ]
  },
  {
   "cell_type": "code",
   "execution_count": 14,
   "metadata": {},
   "outputs": [
    {
     "data": {
      "text/plain": [
       "8"
      ]
     },
     "execution_count": 14,
     "metadata": {},
     "output_type": "execute_result"
    }
   ],
   "source": [
    "len(data_1[\"17_group\"].unique())"
   ]
  },
  {
   "cell_type": "markdown",
   "metadata": {},
   "source": [
    "There were 8 groups in the 17th year."
   ]
  },
  {
   "cell_type": "code",
   "execution_count": 15,
   "metadata": {},
   "outputs": [
    {
     "data": {
      "text/plain": [
       "9"
      ]
     },
     "execution_count": 15,
     "metadata": {},
     "output_type": "execute_result"
    }
   ],
   "source": [
    "len(data_1[\"18_group\"].unique())"
   ]
  },
  {
   "cell_type": "markdown",
   "metadata": {},
   "source": [
    "There were 8 groups in the 18th year."
   ]
  },
  {
   "cell_type": "markdown",
   "metadata": {},
   "source": [
    "Overall users count\n",
    "\n",
    "17th"
   ]
  },
  {
   "cell_type": "code",
   "execution_count": 16,
   "metadata": {},
   "outputs": [
    {
     "data": {
      "text/plain": [
       "138"
      ]
     },
     "execution_count": 16,
     "metadata": {},
     "output_type": "execute_result"
    }
   ],
   "source": [
    "data_1.loc[data_1['17_group'].notna()][\"id\"].count()"
   ]
  },
  {
   "cell_type": "markdown",
   "metadata": {},
   "source": [
    "18th"
   ]
  },
  {
   "cell_type": "code",
   "execution_count": 17,
   "metadata": {},
   "outputs": [
    {
     "data": {
      "text/plain": [
       "223"
      ]
     },
     "execution_count": 17,
     "metadata": {},
     "output_type": "execute_result"
    }
   ],
   "source": [
    "data_1.loc[data_1['18_group'].notna()][\"id\"].count()"
   ]
  },
  {
   "cell_type": "markdown",
   "metadata": {
    "id": "dt89P1sG88NN"
   },
   "source": [
    "2. Есть ли уникальные студенты с равными перцентилями?"
   ]
  },
  {
   "cell_type": "code",
   "execution_count": 18,
   "metadata": {
    "id": "NA8Yy9D98-Nv"
   },
   "outputs": [
    {
     "name": "stdout",
     "output_type": "stream",
     "text": [
      "There are students with equal percentiles\n",
      "Duplicate percentiles and counts:\n",
      "percentile\n",
      "0.807971    2\n",
      "0.795964    2\n",
      "0.773543    2\n",
      "0.526906    2\n",
      "0.293478    2\n",
      "0.000000    2\n",
      "0.547101    2\n",
      "0.764493    2\n",
      "0.338565    2\n",
      "0.369955    2\n",
      "0.204036    2\n",
      "0.576233    2\n",
      "0.822870    2\n",
      "0.939462    2\n",
      "0.513453    2\n",
      "Name: count, dtype: int64\n"
     ]
    }
   ],
   "source": [
    "# Check if any students have equal percentiles\n",
    "if data_1['percentile'].nunique() == data_1.shape[0]: # number of unique == number of all\n",
    "    print(\"No students with equal percentiles\")\n",
    "else:\n",
    "    print(\"There are students with equal percentiles\")\n",
    "    \n",
    "    # Show duplicate percentiles and their counts\n",
    "    dup_percentiles = data_1['percentile'].value_counts()\n",
    "    print(\"Duplicate percentiles and counts:\")\n",
    "    print(dup_percentiles[dup_percentiles > 1])\n"
   ]
  },
  {
   "cell_type": "code",
   "execution_count": 19,
   "metadata": {},
   "outputs": [
    {
     "data": {
      "text/plain": [
       "array([2, 1], dtype=int64)"
      ]
     },
     "execution_count": 19,
     "metadata": {},
     "output_type": "execute_result"
    }
   ],
   "source": [
    "dup_percentiles.unique()"
   ]
  },
  {
   "cell_type": "markdown",
   "metadata": {
    "id": "jPiMwyqHhLuy"
   },
   "source": [
    "#### 2. [0.5 балла] Есть ли в данных пропуски? В каких колонках? Сколько их в каждой из этих колонок?"
   ]
  },
  {
   "cell_type": "code",
   "execution_count": 20,
   "metadata": {
    "id": "edY1RrSOhLuy"
   },
   "outputs": [
    {
     "name": "stdout",
     "output_type": "stream",
     "text": [
      "timestamp          0\n",
      "id                 0\n",
      "rating             0\n",
      "18_group         138\n",
      "is_mi            343\n",
      "fall_1             0\n",
      "fall_2             0\n",
      "fall_3             0\n",
      "spring_1           0\n",
      "spring_2           0\n",
      "spring_3           0\n",
      "is_first_time      2\n",
      "percentile         0\n",
      "17_group         223\n",
      "blended          223\n",
      "is_ml_student    304\n",
      "dtype: int64\n"
     ]
    }
   ],
   "source": [
    "missing_values = data_1.isnull().sum()\n",
    "print(missing_values)"
   ]
  },
  {
   "cell_type": "markdown",
   "metadata": {
    "id": "B5ORhP2uhLuz"
   },
   "source": [
    "Заполните пропуски пустой строкой для строковых колонок, нулём для числовых и False для булевых (постарайтесь избежать перечисления названий всех столбцов)."
   ]
  },
  {
   "cell_type": "code",
   "execution_count": 21,
   "metadata": {
    "id": "TlF_JJ2ghLuz"
   },
   "outputs": [],
   "source": [
    "# string\n",
    "data_1.update(data_1.select_dtypes(include='object').fillna(''))\n",
    "\n",
    "# numeric\n",
    "data_1.update(data_1.select_dtypes(include='number').fillna(0))\n",
    "\n",
    "# boolean\n",
    "data_1.update(data_1.select_dtypes(include='bool').fillna(False))"
   ]
  },
  {
   "cell_type": "markdown",
   "metadata": {
    "id": "w5ELhkT1hLuz"
   },
   "source": [
    "#### 3. [0.5 балла] Посмотрите повнимательнее на колонку 'is_first_time'.\n",
    "\n",
    "Каково процентное соотношение ответов? Сколько из них \"Нет\"?"
   ]
  },
  {
   "cell_type": "code",
   "execution_count": 22,
   "metadata": {
    "id": "VEfiNsyQhLuz"
   },
   "outputs": [
    {
     "data": {
      "text/plain": [
       "is_first_time\n",
       "Да     85.318560\n",
       "Нет    14.127424\n",
       "        0.554017\n",
       "Name: proportion, dtype: float64"
      ]
     },
     "execution_count": 22,
     "metadata": {},
     "output_type": "execute_result"
    }
   ],
   "source": [
    "data_1['is_first_time'].value_counts(normalize=True) * 100\n",
    "# normalize=True - frequency"
   ]
  },
  {
   "cell_type": "code",
   "execution_count": 23,
   "metadata": {},
   "outputs": [
    {
     "data": {
      "text/plain": [
       "is_first_time\n",
       "Да     308\n",
       "Нет     51\n",
       "         2\n",
       "Name: count, dtype: int64"
      ]
     },
     "execution_count": 23,
     "metadata": {},
     "output_type": "execute_result"
    }
   ],
   "source": [
    "data_1['is_first_time'].value_counts()"
   ]
  },
  {
   "cell_type": "markdown",
   "metadata": {
    "id": "7ufxpSDO9Hyc"
   },
   "source": [
    "Если вы найдете повторные обращения студентов, оставьте только самую позднюю версию. В дальнейших заданиях используйте версию данных без повторов.\n",
    "\n",
    "<i>Обращения со значением \"Нет\" в 'is_first_time' могут быть как повторными, так и первичными, поскольку поле заполняли сами студенты.</i>"
   ]
  },
  {
   "cell_type": "code",
   "execution_count": 24,
   "metadata": {
    "id": "M0Wx60oU9IkX"
   },
   "outputs": [],
   "source": [
    "data_1 = data_1.sort_values(by='timestamp').drop_duplicates(subset=[\"id\"], keep=\"last\")"
   ]
  },
  {
   "cell_type": "markdown",
   "metadata": {
    "id": "IlzHp3HVhLuz"
   },
   "source": [
    "#### 4. [0.5 балла] Какие  blended-курсы для четверокурсников существуют? На какой blended-курс записалось наибольшее количество студентов? На каком из blended-курсов собрались студенты с самым высоким средним рейтингом (выведите этот курс и количество студентов на нем)?"
   ]
  },
  {
   "cell_type": "code",
   "execution_count": 25,
   "metadata": {
    "id": "bsn4vn8RhLuy"
   },
   "outputs": [
    {
     "data": {
      "text/plain": [
       "array(['DevOps', 'Введение в дифференциальную геометрию',\n",
       "       'Соревновательный анализ данных'], dtype=object)"
      ]
     },
     "execution_count": 25,
     "metadata": {},
     "output_type": "execute_result"
    }
   ],
   "source": [
    "# 17th group has the following courses:\n",
    "data_1[data_1['17_group'] > 0]['blended'].unique()"
   ]
  },
  {
   "cell_type": "code",
   "execution_count": 26,
   "metadata": {},
   "outputs": [
    {
     "data": {
      "text/plain": [
       "blended\n",
       "DevOps                                   87\n",
       "Введение в дифференциальную геометрию    15\n",
       "Соревновательный анализ данных           32\n",
       "Name: id, dtype: int64"
      ]
     },
     "execution_count": 26,
     "metadata": {},
     "output_type": "execute_result"
    }
   ],
   "source": [
    "# DevOps is the most popular course\n",
    "data_1[data_1['17_group'] > 0].groupby('blended').count().loc[:,\"id\"]"
   ]
  },
  {
   "cell_type": "code",
   "execution_count": 27,
   "metadata": {},
   "outputs": [
    {
     "data": {
      "text/plain": [
       "blended\n",
       "DevOps                                   1154.172414\n",
       "Введение в дифференциальную геометрию    1210.733333\n",
       "Соревновательный анализ данных           1144.218750\n",
       "Name: rating, dtype: float64"
      ]
     },
     "execution_count": 27,
     "metadata": {},
     "output_type": "execute_result"
    }
   ],
   "source": [
    "data_1[data_1['17_group'] > 0].groupby('blended')[\"rating\"].mean()"
   ]
  },
  {
   "cell_type": "markdown",
   "metadata": {},
   "source": [
    "\"Введение в дифференциальную геометрию\" has the highest accumulared students score. We already know that is has 15 students."
   ]
  },
  {
   "cell_type": "markdown",
   "metadata": {
    "id": "IU_FLt8HhLu0"
   },
   "source": [
    "#### 5. [1 балл] Выясните, есть ли студенты с абсолютно одинаковыми предпочтениями по всем курсам.\n",
    "\n",
    "Для этого сформируйте таблицу, где для каждого возможного набора курсов посчитано количество студентов, выбравших такой набор, и оставьте только строки где это количество больше 1.\n",
    "\n",
    "В данном случае набор курсов задается упорядоченным множеством ('fall_1', 'fall_2', 'fall_3', 'spring_1', 'spring_2', 'spring_3', 'blended'). Элемент blended будет нулевым для 3-го курса."
   ]
  },
  {
   "cell_type": "code",
   "execution_count": 28,
   "metadata": {
    "id": "j_BRWerHhLu0"
   },
   "outputs": [
    {
     "data": {
      "text/html": [
       "<div>\n",
       "<style scoped>\n",
       "    .dataframe tbody tr th:only-of-type {\n",
       "        vertical-align: middle;\n",
       "    }\n",
       "\n",
       "    .dataframe tbody tr th {\n",
       "        vertical-align: top;\n",
       "    }\n",
       "\n",
       "    .dataframe thead th {\n",
       "        text-align: right;\n",
       "    }\n",
       "</style>\n",
       "<table border=\"1\" class=\"dataframe\">\n",
       "  <thead>\n",
       "    <tr style=\"text-align: right;\">\n",
       "      <th></th>\n",
       "      <th>index</th>\n",
       "      <th>Courses combination</th>\n",
       "      <th>id</th>\n",
       "    </tr>\n",
       "  </thead>\n",
       "  <tbody>\n",
       "    <tr>\n",
       "      <th>0</th>\n",
       "      <td>0</td>\n",
       "      <td>Statistical Learning Theory, Анализ неструктур...</td>\n",
       "      <td>2</td>\n",
       "    </tr>\n",
       "    <tr>\n",
       "      <th>1</th>\n",
       "      <td>60</td>\n",
       "      <td>Байесовские методы машинного обучения, Анализ ...</td>\n",
       "      <td>2</td>\n",
       "    </tr>\n",
       "    <tr>\n",
       "      <th>2</th>\n",
       "      <td>62</td>\n",
       "      <td>Байесовские методы машинного обучения, Анализ ...</td>\n",
       "      <td>2</td>\n",
       "    </tr>\n",
       "    <tr>\n",
       "      <th>3</th>\n",
       "      <td>72</td>\n",
       "      <td>Безопасность компьютерных систем, Statistical ...</td>\n",
       "      <td>3</td>\n",
       "    </tr>\n",
       "    <tr>\n",
       "      <th>4</th>\n",
       "      <td>84</td>\n",
       "      <td>Безопасность компьютерных систем, Высокопроизв...</td>\n",
       "      <td>2</td>\n",
       "    </tr>\n",
       "    <tr>\n",
       "      <th>5</th>\n",
       "      <td>102</td>\n",
       "      <td>Безопасность компьютерных систем, Высокопроизв...</td>\n",
       "      <td>3</td>\n",
       "    </tr>\n",
       "    <tr>\n",
       "      <th>6</th>\n",
       "      <td>105</td>\n",
       "      <td>Безопасность компьютерных систем, Высокопроизв...</td>\n",
       "      <td>2</td>\n",
       "    </tr>\n",
       "    <tr>\n",
       "      <th>7</th>\n",
       "      <td>113</td>\n",
       "      <td>Безопасность компьютерных систем, Матричные вы...</td>\n",
       "      <td>2</td>\n",
       "    </tr>\n",
       "    <tr>\n",
       "      <th>8</th>\n",
       "      <td>137</td>\n",
       "      <td>Безопасность компьютерных систем, Сбор и обраб...</td>\n",
       "      <td>2</td>\n",
       "    </tr>\n",
       "    <tr>\n",
       "      <th>9</th>\n",
       "      <td>155</td>\n",
       "      <td>Безопасность компьютерных систем, Теория баз д...</td>\n",
       "      <td>2</td>\n",
       "    </tr>\n",
       "    <tr>\n",
       "      <th>10</th>\n",
       "      <td>184</td>\n",
       "      <td>Высокопроизводительные вычисления, Безопасност...</td>\n",
       "      <td>2</td>\n",
       "    </tr>\n",
       "    <tr>\n",
       "      <th>11</th>\n",
       "      <td>201</td>\n",
       "      <td>Высокопроизводительные вычисления, Сбор и обра...</td>\n",
       "      <td>2</td>\n",
       "    </tr>\n",
       "    <tr>\n",
       "      <th>12</th>\n",
       "      <td>244</td>\n",
       "      <td>Моделирование временных рядов, Сбор и обработк...</td>\n",
       "      <td>2</td>\n",
       "    </tr>\n",
       "    <tr>\n",
       "      <th>13</th>\n",
       "      <td>292</td>\n",
       "      <td>Сбор и обработка данных с помощью краудсорсинг...</td>\n",
       "      <td>2</td>\n",
       "    </tr>\n",
       "    <tr>\n",
       "      <th>14</th>\n",
       "      <td>313</td>\n",
       "      <td>Язык SQL, Высокопроизводительные вычисления, Т...</td>\n",
       "      <td>2</td>\n",
       "    </tr>\n",
       "  </tbody>\n",
       "</table>\n",
       "</div>"
      ],
      "text/plain": [
       "    index                                Courses combination  id\n",
       "0       0  Statistical Learning Theory, Анализ неструктур...   2\n",
       "1      60  Байесовские методы машинного обучения, Анализ ...   2\n",
       "2      62  Байесовские методы машинного обучения, Анализ ...   2\n",
       "3      72  Безопасность компьютерных систем, Statistical ...   3\n",
       "4      84  Безопасность компьютерных систем, Высокопроизв...   2\n",
       "5     102  Безопасность компьютерных систем, Высокопроизв...   3\n",
       "6     105  Безопасность компьютерных систем, Высокопроизв...   2\n",
       "7     113  Безопасность компьютерных систем, Матричные вы...   2\n",
       "8     137  Безопасность компьютерных систем, Сбор и обраб...   2\n",
       "9     155  Безопасность компьютерных систем, Теория баз д...   2\n",
       "10    184  Высокопроизводительные вычисления, Безопасност...   2\n",
       "11    201  Высокопроизводительные вычисления, Сбор и обра...   2\n",
       "12    244  Моделирование временных рядов, Сбор и обработк...   2\n",
       "13    292  Сбор и обработка данных с помощью краудсорсинг...   2\n",
       "14    313  Язык SQL, Высокопроизводительные вычисления, Т...   2"
      ]
     },
     "execution_count": 28,
     "metadata": {},
     "output_type": "execute_result"
    }
   ],
   "source": [
    "# create a column for all possible combinations\n",
    "data_1['Courses combination'] = data_1[\"fall_1\"] + ', ' + data_1[\"fall_2\"] + ', ' + data_1[\"fall_3\"] +\\\n",
    "', ' + data_1[\"spring_1\"] + ', ' + data_1[\"spring_2\"] + ', ' + data_1[\"spring_3\"] +\\\n",
    "', ' + data_1[\"blended\"]\n",
    "\n",
    "# count students\n",
    "Courses = data_1.groupby('Courses combination').count()['id'].reset_index() # create aggregation\n",
    "Courses[Courses['id'] > 1].reset_index() # take only specific rows"
   ]
  },
  {
   "cell_type": "markdown",
   "metadata": {
    "id": "spu3r3vchLu0"
   },
   "source": [
    "#### 6. [0.5 балла] Найдите курсы по выбору, на которые записывались как студенты 18-го года набора, так и студенты 17-го года."
   ]
  },
  {
   "cell_type": "code",
   "execution_count": 29,
   "metadata": {},
   "outputs": [
    {
     "data": {
      "text/html": [
       "<div>\n",
       "<style scoped>\n",
       "    .dataframe tbody tr th:only-of-type {\n",
       "        vertical-align: middle;\n",
       "    }\n",
       "\n",
       "    .dataframe tbody tr th {\n",
       "        vertical-align: top;\n",
       "    }\n",
       "\n",
       "    .dataframe thead th {\n",
       "        text-align: right;\n",
       "    }\n",
       "</style>\n",
       "<table border=\"1\" class=\"dataframe\">\n",
       "  <thead>\n",
       "    <tr style=\"text-align: right;\">\n",
       "      <th></th>\n",
       "      <th>timestamp</th>\n",
       "      <th>id</th>\n",
       "      <th>rating</th>\n",
       "      <th>18_group</th>\n",
       "      <th>is_mi</th>\n",
       "      <th>fall_1</th>\n",
       "      <th>fall_2</th>\n",
       "      <th>fall_3</th>\n",
       "      <th>spring_1</th>\n",
       "      <th>spring_2</th>\n",
       "      <th>spring_3</th>\n",
       "      <th>is_first_time</th>\n",
       "      <th>percentile</th>\n",
       "      <th>17_group</th>\n",
       "      <th>blended</th>\n",
       "      <th>is_ml_student</th>\n",
       "      <th>Courses combination</th>\n",
       "    </tr>\n",
       "  </thead>\n",
       "  <tbody>\n",
       "    <tr>\n",
       "      <th>223</th>\n",
       "      <td>2020-05-14 20:23:21.662</td>\n",
       "      <td>d555d2805e1d93d4f023e57dc4c8f403</td>\n",
       "      <td>996</td>\n",
       "      <td>0.0</td>\n",
       "      <td>0.0</td>\n",
       "      <td>Безопасность компьютерных систем</td>\n",
       "      <td>Глубинное обучение в обработке звука</td>\n",
       "      <td>Байесовские методы машинного обучения</td>\n",
       "      <td>Компьютерное зрение</td>\n",
       "      <td>Обучение с подкреплением</td>\n",
       "      <td>Проектирование и разработка высоконагруженных ...</td>\n",
       "      <td>Да</td>\n",
       "      <td>0.963768</td>\n",
       "      <td>172.0</td>\n",
       "      <td>DevOps</td>\n",
       "      <td>0.0</td>\n",
       "      <td>Безопасность компьютерных систем, Глубинное об...</td>\n",
       "    </tr>\n",
       "    <tr>\n",
       "      <th>224</th>\n",
       "      <td>2020-05-14 20:47:13.833</td>\n",
       "      <td>253bbe1a2021d0404712a1e4acd22939</td>\n",
       "      <td>1106</td>\n",
       "      <td>0.0</td>\n",
       "      <td>0.0</td>\n",
       "      <td>Безопасность компьютерных систем</td>\n",
       "      <td>Моделирование временных рядов</td>\n",
       "      <td>Statistical Learning Theory</td>\n",
       "      <td>Проектирование и разработка высоконагруженных ...</td>\n",
       "      <td>Численные методы</td>\n",
       "      <td>Методы сжатия и передачи медиаданных</td>\n",
       "      <td>Да</td>\n",
       "      <td>0.673913</td>\n",
       "      <td>176.0</td>\n",
       "      <td>DevOps</td>\n",
       "      <td>0.0</td>\n",
       "      <td>Безопасность компьютерных систем, Моделировани...</td>\n",
       "    </tr>\n",
       "    <tr>\n",
       "      <th>225</th>\n",
       "      <td>2020-05-14 20:52:42.734</td>\n",
       "      <td>881b1a6fda195b354ae2edb396a69f5d</td>\n",
       "      <td>1084</td>\n",
       "      <td>0.0</td>\n",
       "      <td>0.0</td>\n",
       "      <td>Безопасность компьютерных систем</td>\n",
       "      <td>Анализ неструктурированных данных</td>\n",
       "      <td>Глубинное обучение в обработке звука</td>\n",
       "      <td>Компьютерное зрение</td>\n",
       "      <td>Проектирование и разработка высоконагруженных ...</td>\n",
       "      <td>Генеративные модели в машинном обучении</td>\n",
       "      <td>Да</td>\n",
       "      <td>0.782609</td>\n",
       "      <td>172.0</td>\n",
       "      <td>DevOps</td>\n",
       "      <td>0.0</td>\n",
       "      <td>Безопасность компьютерных систем, Анализ нестр...</td>\n",
       "    </tr>\n",
       "  </tbody>\n",
       "</table>\n",
       "</div>"
      ],
      "text/plain": [
       "                  timestamp                                id  rating  \\\n",
       "223 2020-05-14 20:23:21.662  d555d2805e1d93d4f023e57dc4c8f403     996   \n",
       "224 2020-05-14 20:47:13.833  253bbe1a2021d0404712a1e4acd22939    1106   \n",
       "225 2020-05-14 20:52:42.734  881b1a6fda195b354ae2edb396a69f5d    1084   \n",
       "\n",
       "     18_group  is_mi                            fall_1  \\\n",
       "223       0.0    0.0  Безопасность компьютерных систем   \n",
       "224       0.0    0.0  Безопасность компьютерных систем   \n",
       "225       0.0    0.0  Безопасность компьютерных систем   \n",
       "\n",
       "                                   fall_2  \\\n",
       "223  Глубинное обучение в обработке звука   \n",
       "224         Моделирование временных рядов   \n",
       "225     Анализ неструктурированных данных   \n",
       "\n",
       "                                    fall_3  \\\n",
       "223  Байесовские методы машинного обучения   \n",
       "224            Statistical Learning Theory   \n",
       "225   Глубинное обучение в обработке звука   \n",
       "\n",
       "                                              spring_1  \\\n",
       "223                                Компьютерное зрение   \n",
       "224  Проектирование и разработка высоконагруженных ...   \n",
       "225                                Компьютерное зрение   \n",
       "\n",
       "                                              spring_2  \\\n",
       "223                           Обучение с подкреплением   \n",
       "224                                   Численные методы   \n",
       "225  Проектирование и разработка высоконагруженных ...   \n",
       "\n",
       "                                              spring_3 is_first_time  \\\n",
       "223  Проектирование и разработка высоконагруженных ...            Да   \n",
       "224               Методы сжатия и передачи медиаданных            Да   \n",
       "225            Генеративные модели в машинном обучении            Да   \n",
       "\n",
       "     percentile  17_group blended  is_ml_student  \\\n",
       "223    0.963768     172.0  DevOps            0.0   \n",
       "224    0.673913     176.0  DevOps            0.0   \n",
       "225    0.782609     172.0  DevOps            0.0   \n",
       "\n",
       "                                   Courses combination  \n",
       "223  Безопасность компьютерных систем, Глубинное об...  \n",
       "224  Безопасность компьютерных систем, Моделировани...  \n",
       "225  Безопасность компьютерных систем, Анализ нестр...  "
      ]
     },
     "execution_count": 29,
     "metadata": {},
     "output_type": "execute_result"
    }
   ],
   "source": [
    "data_1.head(3)"
   ]
  },
  {
   "cell_type": "code",
   "execution_count": 30,
   "metadata": {
    "id": "t21fWi8ShLu0"
   },
   "outputs": [
    {
     "data": {
      "text/plain": [
       "array(['Безопасность компьютерных систем',\n",
       "       'Высокопроизводительные вычисления', 'Statistical Learning Theory',\n",
       "       'Моделирование временных рядов',\n",
       "       'Сбор и обработка данных с помощью краудсорсинга',\n",
       "       'Принятие решений в условиях риска и неопределённости',\n",
       "       'Численные методы'], dtype=object)"
      ]
     },
     "execution_count": 30,
     "metadata": {},
     "output_type": "execute_result"
    }
   ],
   "source": [
    "# pd.melt() - convert a from a wide format to a long one.\n",
    "C_17 = pd.melt(data_1[data_1['17_group'] > 0], id_vars=\"id\",\n",
    "# id_vars=\"id\" - identifier (not transformed)                    \n",
    "                     value_vars=['fall_1', 'fall_2', 'fall_3', 'spring_1',\n",
    "                                 'spring_2', 'spring_3'])\n",
    "\n",
    "# value_vars - transformed ( their values also comprise a separate column)\n",
    "C_18 = pd.melt(data_1[data_1['18_group'] > 0], id_vars=\"id\",\n",
    "                     value_vars=['fall_1', 'fall_2', 'fall_3', 'spring_1',\n",
    "                                 'spring_2', 'spring_3'])\n",
    "\n",
    "# we merge , but only by the courses which were take by both student groups (thus, inner)\n",
    "Joint_courses = pd.merge(C_17, C_18, how='inner', on='value')['value'].unique()\n",
    "Joint_courses"
   ]
  },
  {
   "cell_type": "markdown",
   "metadata": {
    "id": "PYfX-Dr5hLu0"
   },
   "source": [
    "Методом исключения найдите курсы, которые предлагались только студентам 18-го года и только студентам 17-го года."
   ]
  },
  {
   "cell_type": "code",
   "execution_count": 31,
   "metadata": {
    "id": "G9SWBOpehLu1"
   },
   "outputs": [
    {
     "data": {
      "text/plain": [
       "array(['Язык SQL', 'Теория баз данных', 'Матричные вычисления',\n",
       "       'Дискретная оптимизация', 'Компьютерные сети',\n",
       "       'Промышленное программирование на языке Java',\n",
       "       'Дополнительные главы прикладной статистики',\n",
       "       'Анализ данных в бизнесе', 'Машинное обучение 2',\n",
       "       'Системы баз данных'], dtype=object)"
      ]
     },
     "execution_count": 31,
     "metadata": {},
     "output_type": "execute_result"
    }
   ],
   "source": [
    "# 18th: take all EXCEPT these which are joint (differentiate dy column \"value')\n",
    "C_18[~C_18['value'].isin(Joint_courses)]['value'].unique()\n"
   ]
  },
  {
   "cell_type": "code",
   "execution_count": 32,
   "metadata": {},
   "outputs": [
    {
     "data": {
      "text/plain": [
       "array(['Глубинное обучение в обработке звука',\n",
       "       'Анализ неструктурированных данных',\n",
       "       'Байесовские методы машинного обучения', 'Компьютерное зрение',\n",
       "       'Проектирование и разработка высоконагруженных сервисов',\n",
       "       'Конфликты и кооперация', 'Символьные вычисления',\n",
       "       'Методы сжатия и передачи медиаданных', 'Обучение с подкреплением',\n",
       "       'Генеративные модели в машинном обучении'], dtype=object)"
      ]
     },
     "execution_count": 32,
     "metadata": {},
     "output_type": "execute_result"
    }
   ],
   "source": [
    "# 17th\n",
    "C_17[~C_17['value'].isin(Joint_courses)]['value'].unique()"
   ]
  },
  {
   "cell_type": "markdown",
   "metadata": {
    "id": "uL45Tg5fhLu1"
   },
   "source": [
    "### Визуализации и matplotlib"
   ]
  },
  {
   "cell_type": "markdown",
   "metadata": {
    "id": "MY9lKmP2hLu1"
   },
   "source": [
    "При работе с данными часто неудобно делать какие-то выводы, если смотреть на таблицу и числа в частности, поэтому важно уметь визуализировать данные. Здесь будут описаны ключевые правила оформления графиков для **всех** домашних заданий.\n",
    "\n",
    "У matplotlib, конечно же, есть [документация](https://matplotlib.org/users/index.html) с большим количеством [примеров](https://matplotlib.org/examples/), но для начала достаточно знать про несколько основных типов графиков:\n",
    "- plot — обычный поточечный график, которым можно изображать кривые или отдельные точки;\n",
    "- hist — гистограмма, показывающая распределение некоторой величины;\n",
    "- scatter — график, показывающий взаимосвязь двух величин;\n",
    "- bar — столбцовый график, показывающий взаимосвязь количественной величины от категориальной.\n",
    "\n",
    "В этом задании вы попробуете построить один из них. Не забывайте про базовые принципы построения приличных графиков:\n",
    "- оси должны быть подписаны, причём не слишком мелко;\n",
    "- у графика должно быть название;\n",
    "- если изображено несколько графиков, то необходима поясняющая легенда;\n",
    "- все линии на графиках должны быть чётко видны (нет похожих цветов или цветов, сливающихся с фоном);\n",
    "- если отображена величина, имеющая очевидный диапазон значений (например, проценты могут быть от 0 до 100), то желательно масштабировать ось на весь диапазон значений (исключением является случай, когда вам необходимо показать малое отличие, которое незаметно в таких масштабах);\n",
    "- сетка на графике помогает оценить значения в точках на глаз, это обычно полезно, поэтому лучше ее отрисовывать;\n",
    "- если распределение на гистограмме имеет тяжёлые хвосты, лучше использовать логарифмическую шкалу.\n",
    "\n",
    "Еще одна билиотека для визуализации: [seaborn](https://jakevdp.github.io/PythonDataScienceHandbook/04.14-visualization-with-seaborn.html) (обычно сокращается до sns). Это настройка над matplotlib, иногда удобнее и красивее делать визуализации через неё.\n",
    "\n",
    "**5 пунктов после которых ваши графики не будут прежними:**\n",
    "- для красивой картинки <code>%config InlineBackend.figure_format = 'retina'</code>\n",
    "- задаем размер (почти) всех графиков (можно выбрать другие значения) <code>plt.rcParams['figure.figsize'] = 8, 5</code>\n",
    "- размер шрифта подписей графиков <code>plt.rcParams['font.size'] = 12</code>\n",
    "- формат в котором сохраняется изображение <code>mpl.rcParams['savefig.format'] = 'pdf'</code>\n",
    "- sns – seaborn, добавляет решетку <code>sns.set_style('darkgrid')</code>\n",
    "\n",
    "Добавьте эти функции в ячейку ниже. Каждый график все равно придется настраивать отдельно, но указанные строчки позволят значительно упростить процесс.  "
   ]
  },
  {
   "cell_type": "code",
   "execution_count": 33,
   "metadata": {
    "id": "na9doUOFhLu1"
   },
   "outputs": [],
   "source": [
    "%matplotlib inline\n",
    "import matplotlib.pyplot as plt\n",
    "import seaborn as sns\n",
    "\n",
    "%config InlineBackend.figure_format = 'retina'  \n",
    "plt.rcParams['figure.figsize'] = 8, 9          \n",
    "plt.rcParams['font.size'] = 12                  \n",
    "mpl.rcParams['savefig.format'] = 'pdf'\n",
    "sns.set_style('darkgrid')"
   ]
  },
  {
   "cell_type": "markdown",
   "metadata": {
    "id": "kikwLpxfhLu1"
   },
   "source": [
    "#### 7. [0.5 балла] Постройте график средних рейтингов по дням получения ответов (bar plot)."
   ]
  },
  {
   "cell_type": "code",
   "execution_count": 34,
   "metadata": {
    "id": "UTPLVeQvhLu2"
   },
   "outputs": [
    {
     "data": {
      "image/png": "[encoded data removed]",
      "text/plain": [
       "<Figure size 800x900 with 1 Axes>"
      ]
     },
     "metadata": {
      "image/png": {
       "height": 832,
       "width": 708
      }
     },
     "output_type": "display_data"
    }
   ],
   "source": [
    "# standard aggeregation\n",
    "dat_plot = data_1.groupby(data_1['timestamp'].dt.date)['rating'].mean()\n",
    "\n",
    "# Compute the rolling average for smoothing\n",
    "dat_plot_smooth = dat_plot.rolling(window=1, center=True).mean()\n",
    "\n",
    "# graph itself\n",
    "plt.bar(dat_plot.index, dat_plot.values)\n",
    "plt.xticks(dat_plot.index, rotation=40)\n",
    "plt.ylabel('Mean rating')\n",
    "plt.xlabel('Date')\n",
    "plt.title(\"Mean rating by the dates of respones\")\n",
    "\n",
    "plt.plot(dat_plot.index, dat_plot_smooth, color='blue', linewidth=2, label='Rolling Average (Window=3)')\n",
    "fig = plt.gcf() # to request \n",
    "\n",
    "plt.show()"
   ]
  },
  {
   "cell_type": "markdown",
   "metadata": {
    "id": "AmsQg9_xhLu2"
   },
   "source": [
    "Сохраните график в формате pdf (так он останется векторизованным)."
   ]
  },
  {
   "cell_type": "code",
   "execution_count": 35,
   "metadata": {
    "id": "vKZNSwWghLu2"
   },
   "outputs": [],
   "source": [
    "fig.savefig('Mean_rate_day', dpi=300) # had to make it a bit tall, just for pdf to include x-asix names"
   ]
  },
  {
   "cell_type": "markdown",
   "metadata": {
    "id": "sCgWwjl0hLu2"
   },
   "source": [
    "### 2. Распределение студентов по курсам."
   ]
  },
  {
   "cell_type": "markdown",
   "metadata": {
    "id": "6rjOnzRN8A8l"
   },
   "source": [
    "<span style=\"color:red\">!!!ВНИМАТЕЛЬНО ИЗУЧИТЕ ТЕКСТ НИЖЕ!!!</span>.\n",
    "\n",
    "<span style=\"color:orange\">Если во время выполнения заданий у вас вознинут вопросы -- еще раз перечитайте текст целиком, скорее всего ответы уже содержатся в нем.</span>"
   ]
  },
  {
   "cell_type": "markdown",
   "metadata": {
    "id": "VNqXUpr4hLu3"
   },
   "source": [
    "Теперь вам нужно распределить студентов по осенним курсам по выбору, учитывая их предпочтения."
   ]
  },
  {
   "cell_type": "markdown",
   "metadata": {
    "id": "5cAR2FgphLu3"
   },
   "source": [
    "## 📌 **Алгоритм распределения студентов по курсам**:\n",
    "1. По умолчанию на каждой дисциплине по выбору у 3 и 4 курсов может учиться 1 группа (до 30 студентов). Исключения описаны ниже. На blended-дисциплинах для четверокурсников количество мест не ограничено.\n",
    "2. Проводится первая волна отбора. Для каждой дисциплины формируется список тех, кто указал её первым приоритетом (если студент должен выбрать два курса по выбору, то для него дисциплины, которые он указал первым и вторым приоритетом, рассматриваются как дисциплины первого приоритета). Если желающих больше, чем мест, то выбирается топ по перцентилю рейтинга.\n",
    "3. На дисциплинах, где остались места после первой волны, формируются списки тех, кто выбрал их вторым приоритетом, и места заполняются лучшими по перцентили рейтинга студентами. После этого проводится такая же процедура для дисциплин третьего приоритета.\n",
    "4. Если студент не попал на необходимое количество курсов по итогам трёх волн, с ним связывается учебный офис и решает вопрос в индивидуальном порядке."
   ]
  },
  {
   "cell_type": "markdown",
   "metadata": {
    "id": "BiNKVwS6hLu3"
   },
   "source": [
    "## ☝️ **Обращаем ваше внимание на следующие детали:**\n",
    "- Конкурс на каждый курс общий для 3-го и 4-го курса\n",
    "\n",
    "- По умолчанию студент выбирает один осенний и один весенний курс по выбору, а также четверокурсники выбирают один blended-курс. Студенты групп 17-го года специализаций МОП и ТИ выбирают по 2 осенних и 2 весенних курса по выбору, также студенты групп 18' специализации МИ выбирают 2 осенних курса. <i>Для студентов, которые выбирают 2 курса (например, осенних) первый приоритет — <code>fall_1</code> и <code>fall_2</code>, второй приоритет — <code>fall_3</code>. Такие студенты участвуют только в двух волнах отбора</i>.\n",
    "\n",
    "- Студенты специализации МОП не могут выбрать весенним курсом по выбору Машинное обучение 2. **Если студент специализации МОП выбрал Машинное обучение 2, то его приоритеты сдвигаются.** Из-за совпадений первого и второго курса по выбору двигать приоритеты не надо.\n",
    "\n",
    "- Blended-курсы не трогайте, по ним не надо распределять, на другие курсы они никак не влияют.\n",
    "\n",
    "- Заведомо известно, что в процессе распределения не возникнет ситуации, когда на одно место претендуют студенты с одинаковым перцентилем.\n",
    "\n",
    "- Постарайтесь воздержаться от использования циклов там, где это возможно. <i>Допустимо итерироваться по <b>курсам</b>, на которые проводится отбор, и по <b>волнам</b> отбора. Если вы придумаете, как обойтись и без этих циклов, то на усмотрение проверяющего могут быть добавлены бонусные баллы. <b>Дублирование кода не признается успешным избавлением от циклов</b></i>\n",
    "\n",
    "- На выходе ожидается файл res_fall.csv с результатами распределения на осенние курсы по выбору. Файл должен быть следующего формата:\n",
    "\n",
    "    * Три колонки: ID, course1, course2\n",
    "    \n",
    "    * Если студент не попал на курс, но должен был, то вместо названия курса в ячейке должна быть строка \"???\"\n",
    "    \n",
    "    * Если студент должен выбрать только один курс, то в колонке course2 для него должна стоять строка \"-\"\n",
    "    \n",
    "    * Если студент должен выбрать два курса по выбору, то порядок в колонках course1 и course2 не важен.\n",
    "    \n",
    "    * hint: для сохранения воспользуйтесь `df.to_csv('solution.csv', index=None)`\n",
    "    \n",
    "\n",
    "Для работы вам могут понадобиться следующие данные:\n",
    "\n",
    "- Результаты опроса (вы уже использовали этот файл в первой части задания, но на всякий случай ссылка: https://www.dropbox.com/s/f4rm8sjc3v99p0m/_end_seminar.xlsx?dl=0)\n",
    "\n",
    "- Соответствие номеров групп специализациям:\n",
    "\n",
    "    * 171, 172 - МОП; 173 - ТИ; 174 — АДИС; 175, 176 — РС; 177 — АПР\n",
    "    \n",
    "    * У студентов 18-го года номера групп соответствуют номерам до распределения по специализациям. Это означает, что по номеру группы 18* нельзя однозначно определить специализацию студента. При этом в рамках распределения важно знать информацию только о двух из них: МОП и МИ. Эти знание можно получить из колонок 'is_ml_student\n",
    "' и 'is_mi' соответственно.\n",
    "\n",
    "- Ограничения по количеству мест на курсах по выбору:\n",
    "\n",
    "    * Осенние: везде 30 мест, кроме Statistical Learning Theory (60 мест), Высокопроизводительных вычислений (60 мест), Анализа неструктурированных данных ($\\infty$ мест)\n",
    "\n",
    "    * Весенние: везде 30 мест, кроме Обучения с подкреплением (60 мест), Анализа данных в бизнесе (60 мест).\n",
    "\n",
    "\n",
    "Кстати, убедитесь, что в данных больше нет пропусков и повторных записей."
   ]
  },
  {
   "cell_type": "markdown",
   "metadata": {
    "id": "o5t55IcQhLu4"
   },
   "source": [
    "#### 0. Проверка\n",
    "\n",
    "Для начала давайте убедимся, что вы успешно выполнили задания первой части и проверим ваши данные на наличие пропусков и повторов:"
   ]
  },
  {
   "cell_type": "code",
   "execution_count": 36,
   "metadata": {
    "id": "34HWEdVdhLu4"
   },
   "outputs": [],
   "source": [
    "assert data_1.shape[0] == 347, 'В таблице остались повторы или потеряны данные'\n",
    "\n",
    "assert data_1.isna().sum().sum() == 0, 'В таблице остались пропуски'"
   ]
  },
  {
   "cell_type": "markdown",
   "metadata": {
    "id": "_ImUFyG3hLu4"
   },
   "source": [
    "Если вы не получили AssertionError, то можете продолжать."
   ]
  },
  {
   "cell_type": "markdown",
   "metadata": {
    "id": "LTGSwwvAhLu4"
   },
   "source": [
    "#### 1. [1 балл] Создайте новый признак, обозначающий, сколько осенних курсов должен выбрать студент\n",
    "\n",
    "В этом вам может помочь информация о специализации и группе стундента."
   ]
  },
  {
   "cell_type": "code",
   "execution_count": 37,
   "metadata": {},
   "outputs": [
    {
     "data": {
      "text/plain": [
       "Index(['timestamp', 'id', 'rating', '18_group', 'is_mi', 'fall_1', 'fall_2',\n",
       "       'fall_3', 'spring_1', 'spring_2', 'spring_3', 'is_first_time',\n",
       "       'percentile', '17_group', 'blended', 'is_ml_student',\n",
       "       'Courses combination'],\n",
       "      dtype='object')"
      ]
     },
     "execution_count": 37,
     "metadata": {},
     "output_type": "execute_result"
    }
   ],
   "source": [
    "data_1.columns\n"
   ]
  },
  {
   "cell_type": "code",
   "execution_count": 38,
   "metadata": {},
   "outputs": [
    {
     "data": {
      "text/plain": [
       "223    172.0\n",
       "224    176.0\n",
       "225    172.0\n",
       "226    171.0\n",
       "227    176.0\n",
       "       ...  \n",
       "220      0.0\n",
       "360    176.0\n",
       "359    172.0\n",
       "221      0.0\n",
       "222      0.0\n",
       "Name: 17_group, Length: 347, dtype: float64"
      ]
     },
     "execution_count": 38,
     "metadata": {},
     "output_type": "execute_result"
    }
   ],
   "source": [
    "data_1[\"17_group\"]"
   ]
  },
  {
   "cell_type": "code",
   "execution_count": 39,
   "metadata": {
    "id": "ouxo0kHFhLu4"
   },
   "outputs": [
    {
     "data": {
      "text/html": [
       "<div>\n",
       "<style scoped>\n",
       "    .dataframe tbody tr th:only-of-type {\n",
       "        vertical-align: middle;\n",
       "    }\n",
       "\n",
       "    .dataframe tbody tr th {\n",
       "        vertical-align: top;\n",
       "    }\n",
       "\n",
       "    .dataframe thead th {\n",
       "        text-align: right;\n",
       "    }\n",
       "</style>\n",
       "<table border=\"1\" class=\"dataframe\">\n",
       "  <thead>\n",
       "    <tr style=\"text-align: right;\">\n",
       "      <th></th>\n",
       "      <th>id</th>\n",
       "      <th>17_group</th>\n",
       "      <th>18_group</th>\n",
       "      <th>is_mi</th>\n",
       "      <th>fall_courses_num</th>\n",
       "    </tr>\n",
       "  </thead>\n",
       "  <tbody>\n",
       "    <tr>\n",
       "      <th>320</th>\n",
       "      <td>f98ac9a12b43a53c0fa44491cb56890c</td>\n",
       "      <td>171.0</td>\n",
       "      <td>0.0</td>\n",
       "      <td>0.0</td>\n",
       "      <td>2</td>\n",
       "    </tr>\n",
       "    <tr>\n",
       "      <th>14</th>\n",
       "      <td>105209181e880d891f19de83b4b1478d</td>\n",
       "      <td>0.0</td>\n",
       "      <td>183.0</td>\n",
       "      <td>0.0</td>\n",
       "      <td>1</td>\n",
       "    </tr>\n",
       "    <tr>\n",
       "      <th>80</th>\n",
       "      <td>3e106aaef8b24dbb01319c73e14c2936</td>\n",
       "      <td>0.0</td>\n",
       "      <td>182.0</td>\n",
       "      <td>0.0</td>\n",
       "      <td>1</td>\n",
       "    </tr>\n",
       "    <tr>\n",
       "      <th>345</th>\n",
       "      <td>b65194fec33b2358296f74f6d948efdf</td>\n",
       "      <td>175.0</td>\n",
       "      <td>0.0</td>\n",
       "      <td>0.0</td>\n",
       "      <td>1</td>\n",
       "    </tr>\n",
       "  </tbody>\n",
       "</table>\n",
       "</div>"
      ],
      "text/plain": [
       "                                   id  17_group  18_group  is_mi  \\\n",
       "320  f98ac9a12b43a53c0fa44491cb56890c     171.0       0.0    0.0   \n",
       "14   105209181e880d891f19de83b4b1478d       0.0     183.0    0.0   \n",
       "80   3e106aaef8b24dbb01319c73e14c2936       0.0     182.0    0.0   \n",
       "345  b65194fec33b2358296f74f6d948efdf     175.0       0.0    0.0   \n",
       "\n",
       "     fall_courses_num  \n",
       "320                 2  \n",
       "14                  1  \n",
       "80                  1  \n",
       "345                 1  "
      ]
     },
     "execution_count": 39,
     "metadata": {},
     "output_type": "execute_result"
    }
   ],
   "source": [
    "def determine_fall_courses(group_17, group_18, is_mi):\n",
    "    if group_17 in [171, 172, 173]:  # МОП and ТИ specializations (17)\n",
    "        return 2\n",
    "    elif bool(is_mi):  # МИ specialization (18)\n",
    "        return 2\n",
    "    # Default case for all others\n",
    "    else:\n",
    "        return 1 \n",
    "\n",
    "# Apply the function\n",
    "data_1['fall_courses_num'] = data_1.apply(\n",
    "    lambda row: determine_fall_courses(row['17_group'], row['18_group'], row['is_mi']),\n",
    "    axis=1\n",
    ")\n",
    "\n",
    "# Display\n",
    "data_1[['id', '17_group', '18_group', 'is_mi', 'fall_courses_num']].sample(4)"
   ]
  },
  {
   "cell_type": "code",
   "execution_count": 40,
   "metadata": {},
   "outputs": [
    {
     "data": {
      "text/plain": [
       "array([2, 1], dtype=int64)"
      ]
     },
     "execution_count": 40,
     "metadata": {},
     "output_type": "execute_result"
    }
   ],
   "source": [
    "data_1['fall_courses_num'].unique()"
   ]
  },
  {
   "cell_type": "markdown",
   "metadata": {
    "id": "S47aq1sQhLu4"
   },
   "source": [
    "Проверка:"
   ]
  },
  {
   "cell_type": "code",
   "execution_count": 41,
   "metadata": {
    "id": "OlOgzDKDhLu5"
   },
   "outputs": [],
   "source": [
    "col_name =  \"fall_courses_num\"  # insert your new column name as str\n",
    "\n",
    "assert(data_1[data_1['id'] == '2662600c2c37e11e62f6ee0b88452f22'][col_name] == 2).all()\n",
    "assert(data_1[data_1['id'] == 'd555d2805e1d93d4f023e57dc4c8f403'][col_name] == 2).all()\n",
    "assert(data_1[data_1['id'] == '8fe79f84f36e3a5d2d6745621321302c'][col_name] == 1).all()\n",
    "assert(data_1[data_1['id'] == 'e4caca755ee0bdd711e18fb8084958b5'][col_name] == 1).all()"
   ]
  },
  {
   "cell_type": "markdown",
   "metadata": {
    "id": "VtQYhwuPhLu5"
   },
   "source": [
    "#### 2. [2 балла] Распределите студентов в соответствии с первым приоритетом"
   ]
  },
  {
   "cell_type": "code",
   "execution_count": 42,
   "metadata": {},
   "outputs": [
    {
     "data": {
      "text/plain": [
       "Index(['timestamp', 'id', 'rating', '18_group', 'is_mi', 'fall_1', 'fall_2',\n",
       "       'fall_3', 'spring_1', 'spring_2', 'spring_3', 'is_first_time',\n",
       "       'percentile', '17_group', 'blended', 'is_ml_student',\n",
       "       'Courses combination', 'fall_courses_num'],\n",
       "      dtype='object')"
      ]
     },
     "execution_count": 42,
     "metadata": {},
     "output_type": "execute_result"
    }
   ],
   "source": [
    "data_1.columns"
   ]
  },
  {
   "cell_type": "code",
   "execution_count": 43,
   "metadata": {},
   "outputs": [
    {
     "data": {
      "text/plain": [
       "['Statistical Learning Theory',\n",
       " 'Анализ неструктурированных данных',\n",
       " 'Байесовские методы машинного обучения',\n",
       " 'Безопасность компьютерных систем',\n",
       " 'Высокопроизводительные вычисления',\n",
       " 'Глубинное обучение в обработке звука',\n",
       " 'Матричные вычисления',\n",
       " 'Моделирование временных рядов',\n",
       " 'Принятие решений в условиях риска и неопределённости',\n",
       " 'Сбор и обработка данных с помощью краудсорсинга',\n",
       " 'Теория баз данных',\n",
       " 'Язык SQL']"
      ]
     },
     "execution_count": 43,
     "metadata": {},
     "output_type": "execute_result"
    }
   ],
   "source": [
    "# Extract the list of all fall courses from the dataset\n",
    "fall_courses = sorted(data_1['fall_1'].dropna().unique().tolist())\n",
    "fall_courses"
   ]
  },
  {
   "cell_type": "code",
   "execution_count": 44,
   "metadata": {},
   "outputs": [
    {
     "data": {
      "text/plain": [
       "{'Statistical Learning Theory': 30,\n",
       " 'Анализ неструктурированных данных': 348,\n",
       " 'Байесовские методы машинного обучения': 30,\n",
       " 'Безопасность компьютерных систем': 30,\n",
       " 'Высокопроизводительные вычисления': 60,\n",
       " 'Глубинное обучение в обработке звука': 30,\n",
       " 'Матричные вычисления': 30,\n",
       " 'Моделирование временных рядов': 30,\n",
       " 'Принятие решений в условиях риска и неопределённости': 30,\n",
       " 'Сбор и обработка данных с помощью краудсорсинга': 30,\n",
       " 'Теория баз данных': 30,\n",
       " 'Язык SQL': 30,\n",
       " 'Статистическое обучение': 60}"
      ]
     },
     "execution_count": 44,
     "metadata": {},
     "output_type": "execute_result"
    }
   ],
   "source": [
    "# Set seat limit to 30 for all fall courses\n",
    "seat_limits_fall = {course: 30 for course in fall_courses}\n",
    "# Update seat limits for specific fall courses\n",
    "seat_limits_fall.update({\n",
    "    'Статистическое обучение': 60,\n",
    "    'Высокопроизводительные вычисления': 60,\n",
    "    'Анализ неструктурированных данных': data_1.shape[0] + 1  # number greater than the # observations\n",
    "})\n",
    "seat_limits_fall"
   ]
  },
  {
   "cell_type": "code",
   "execution_count": 45,
   "metadata": {},
   "outputs": [
    {
     "data": {
      "text/plain": [
       "{'Statistical Learning Theory': 0,\n",
       " 'Анализ неструктурированных данных': 0,\n",
       " 'Байесовские методы машинного обучения': 0,\n",
       " 'Безопасность компьютерных систем': 0,\n",
       " 'Высокопроизводительные вычисления': 0,\n",
       " 'Глубинное обучение в обработке звука': 0,\n",
       " 'Матричные вычисления': 0,\n",
       " 'Моделирование временных рядов': 0,\n",
       " 'Принятие решений в условиях риска и неопределённости': 0,\n",
       " 'Сбор и обработка данных с помощью краудсорсинга': 0,\n",
       " 'Теория баз данных': 0,\n",
       " 'Язык SQL': 0,\n",
       " 'Статистическое обучение': 0}"
      ]
     },
     "execution_count": 45,
     "metadata": {},
     "output_type": "execute_result"
    }
   ],
   "source": [
    "# Initialize seat tracking for fall courses\n",
    "course_seats_taken_fall = {course: 0 for course in seat_limits_fall}\n",
    "course_seats_taken_fall"
   ]
  },
  {
   "cell_type": "code",
   "execution_count": 46,
   "metadata": {},
   "outputs": [
    {
     "data": {
      "text/plain": [
       "0      0.995516\n",
       "1      0.992754\n",
       "2      0.991031\n",
       "3      0.986547\n",
       "4      0.985507\n",
       "         ...   \n",
       "342    0.008969\n",
       "343    0.007246\n",
       "344    0.004484\n",
       "345    0.000000\n",
       "346    0.000000\n",
       "Name: percentile, Length: 347, dtype: float64"
      ]
     },
     "execution_count": 46,
     "metadata": {},
     "output_type": "execute_result"
    }
   ],
   "source": [
    "# Sort students by percentile (descending) to prioritize higher percentile for course allocation\n",
    "data_1 = data_1.sort_values(by='percentile', ascending=False).reset_index(drop=True)\n",
    "data_1['percentile']"
   ]
  },
  {
   "cell_type": "code",
   "execution_count": 47,
   "metadata": {},
   "outputs": [
    {
     "data": {
      "text/plain": [
       "0      [Принятие решений в условиях риска и неопредел...\n",
       "1                    [Анализ неструктурированных данных]\n",
       "2                     [Безопасность компьютерных систем]\n",
       "3                     [Безопасность компьютерных систем]\n",
       "4      [Безопасность компьютерных систем, Принятие ре...\n",
       "                             ...                        \n",
       "342    [Сбор и обработка данных с помощью краудсорсинга]\n",
       "343                  [Высокопроизводительные вычисления]\n",
       "344                               [Матричные вычисления]\n",
       "345    [Statistical Learning Theory, Высокопроизводит...\n",
       "346                   [Безопасность компьютерных систем]\n",
       "Name: first_priority, Length: 347, dtype: object"
      ]
     },
     "execution_count": 47,
     "metadata": {},
     "output_type": "execute_result"
    }
   ],
   "source": [
    "# Initialize course allocation with \"???\"\n",
    "data_1['course_1'] = \"???\"\n",
    "data_1['course_2'] = \"???\"\n",
    "\n",
    "# Create a column dictionary \"first_priority\" which contains fall_1 if fall_courses_num == 1, and [fall_1, fall_2] if fall_courses_num == 2\n",
    "data_1['first_priority'] = data_1.apply(lambda row: [row['fall_1'], row['fall_2']] if\\\n",
    "                                        row['fall_courses_num'] == 2 else [row['fall_1']], axis=1)\n",
    "data_1['first_priority']"
   ]
  },
  {
   "cell_type": "code",
   "execution_count": 48,
   "metadata": {},
   "outputs": [],
   "source": [
    "def allocate_courses(data_students, seat_limits, seats_taken):\n",
    "    for idx, student in data_students.iterrows():\n",
    "        courses_needed = student['fall_courses_num']\n",
    "        k = 0  # Tracks how many courses have been assigned\n",
    "        \n",
    "        # Iterate through the first_priority courses until all needed courses are assigned\n",
    "        for course in student['first_priority']:\n",
    "            if k < courses_needed:  # Check if the student still needs to take more courses\n",
    "                if seats_taken[course] < seat_limits[course]:  # Check if there are places available\n",
    "                    seats_taken[course] += 1  # Increment the seat counter\n",
    "                    if k == 0:\n",
    "                        data_students.at[idx, 'course_1'] = course  # Assign the first course\n",
    "                    elif k == 1:\n",
    "                        data_students.at[idx, 'course_2'] = course  # Assign the second course\n",
    "                    k += 1  # Increment the number of allocated courses"
   ]
  },
  {
   "cell_type": "code",
   "execution_count": 49,
   "metadata": {},
   "outputs": [],
   "source": [
    "# Allocate courses for students based on their priorities\n",
    "allocate_courses(data_1, seat_limits_fall, course_seats_taken_fall)"
   ]
  },
  {
   "cell_type": "code",
   "execution_count": 50,
   "metadata": {},
   "outputs": [
    {
     "data": {
      "text/plain": [
       "course_1\n",
       "???                                                     89\n",
       "Statistical Learning Theory                             25\n",
       "Анализ неструктурированных данных                       34\n",
       "Байесовские методы машинного обучения                   17\n",
       "Безопасность компьютерных систем                        28\n",
       "Высокопроизводительные вычисления                       42\n",
       "Глубинное обучение в обработке звука                    11\n",
       "Матричные вычисления                                    14\n",
       "Моделирование временных рядов                           22\n",
       "Принятие решений в условиях риска и неопределённости     5\n",
       "Сбор и обработка данных с помощью краудсорсинга         22\n",
       "Теория баз данных                                       11\n",
       "Язык SQL                                                27\n",
       "Name: count, dtype: int64"
      ]
     },
     "execution_count": 50,
     "metadata": {},
     "output_type": "execute_result"
    }
   ],
   "source": [
    "data_1['course_1'].value_counts().sort_index()"
   ]
  },
  {
   "cell_type": "code",
   "execution_count": 51,
   "metadata": {},
   "outputs": [],
   "source": [
    "# Creating a small sample dataset from data_1 for debugging purposes\n",
    "sample_data = {\n",
    "    'id': ['001', '002', '003', '004', '005'],\n",
    "    'percentile': [95, 85, 75, 65, 55],\n",
    "    'fall_courses_num': [1, 2, 1, 2, 1],\n",
    "    'fall_1': ['Statistical Learning Theory', 'Анализ неструктурированных данных', 'Высокопроизводительные вычисления', 'Statistical Learning Theory', 'Анализ неструктурированных данных'],\n",
    "    'fall_2': [None, 'Statistical Learning Theory', 'Анализ неструктурированных данных', 'Анализ неструктурированных данных', None]\n",
    "}\n",
    "\n",
    "sample_data = {\n",
    "    'id': ['001', '002', '003', '004', '005', '006', '007', '008', '009', '010'],\n",
    "    'percentile': [95, 90, 85, 80, 75, 70, 65, 60, 55, 50],\n",
    "    'fall_courses_num': [1, 2, 1, 2, 1, 2, 1, 2, 1, 2],\n",
    "    'fall_1': [\n",
    "        'Статистическое обучение', 'Анализ неструктурированных данных', 'Высокопроизводительные вычисления',\n",
    "        'Статистическое обучение', 'Анализ неструктурированных данных', 'Высокопроизводительные вычисления',\n",
    "        'Статистическое обучение', 'Анализ неструктурированных данных', 'Высокопроизводительные вычисления',\n",
    "        'Статистическое обучение'\n",
    "    ],\n",
    "    'fall_2': [\n",
    "        'Анализ неструктурированных данных', 'Высокопроизводительные вычисления', None, 'Анализ неструктурированных данных',\n",
    "        None, 'Статистическое обучение', 'Высокопроизводительные вычисления', 'Высокопроизводительные вычисления',\n",
    "        None, 'Анализ неструктурированных данных'\n",
    "    ]\n",
    "}\n",
    "# Creating a DataFrame\n",
    "data_1_sample = pd.DataFrame(sample_data)\n",
    "data_1_sample = data_1"
   ]
  },
  {
   "cell_type": "code",
   "execution_count": 52,
   "metadata": {},
   "outputs": [
    {
     "data": {
      "text/html": [
       "<div>\n",
       "<style scoped>\n",
       "    .dataframe tbody tr th:only-of-type {\n",
       "        vertical-align: middle;\n",
       "    }\n",
       "\n",
       "    .dataframe tbody tr th {\n",
       "        vertical-align: top;\n",
       "    }\n",
       "\n",
       "    .dataframe thead th {\n",
       "        text-align: right;\n",
       "    }\n",
       "</style>\n",
       "<table border=\"1\" class=\"dataframe\">\n",
       "  <thead>\n",
       "    <tr style=\"text-align: right;\">\n",
       "      <th></th>\n",
       "      <th>timestamp</th>\n",
       "      <th>id</th>\n",
       "      <th>rating</th>\n",
       "      <th>18_group</th>\n",
       "      <th>is_mi</th>\n",
       "      <th>fall_1</th>\n",
       "      <th>fall_2</th>\n",
       "      <th>fall_3</th>\n",
       "      <th>spring_1</th>\n",
       "      <th>spring_2</th>\n",
       "      <th>...</th>\n",
       "      <th>is_first_time</th>\n",
       "      <th>percentile</th>\n",
       "      <th>17_group</th>\n",
       "      <th>blended</th>\n",
       "      <th>is_ml_student</th>\n",
       "      <th>Courses combination</th>\n",
       "      <th>fall_courses_num</th>\n",
       "      <th>course_1</th>\n",
       "      <th>course_2</th>\n",
       "      <th>first_priority</th>\n",
       "    </tr>\n",
       "  </thead>\n",
       "  <tbody>\n",
       "    <tr>\n",
       "      <th>0</th>\n",
       "      <td>2020-05-20 11:34:10.787</td>\n",
       "      <td>7a21ef645ecb42198be493dd65320e78</td>\n",
       "      <td>495</td>\n",
       "      <td>188.0</td>\n",
       "      <td>0.0</td>\n",
       "      <td>Принятие решений в условиях риска и неопределё...</td>\n",
       "      <td>Язык SQL</td>\n",
       "      <td>Сбор и обработка данных с помощью краудсорсинга</td>\n",
       "      <td>Анализ данных в бизнесе</td>\n",
       "      <td>Промышленное программирование на языке Java</td>\n",
       "      <td>...</td>\n",
       "      <td>Да</td>\n",
       "      <td>0.995516</td>\n",
       "      <td>0.0</td>\n",
       "      <td></td>\n",
       "      <td>0.0</td>\n",
       "      <td>Принятие решений в условиях риска и неопределё...</td>\n",
       "      <td>1</td>\n",
       "      <td>Принятие решений в условиях риска и неопределё...</td>\n",
       "      <td>???</td>\n",
       "      <td>[Принятие решений в условиях риска и неопредел...</td>\n",
       "    </tr>\n",
       "    <tr>\n",
       "      <th>1</th>\n",
       "      <td>2020-05-18 23:12:29.049</td>\n",
       "      <td>d539461bf254cf8b3201cdf7990b119e</td>\n",
       "      <td>964</td>\n",
       "      <td>0.0</td>\n",
       "      <td>0.0</td>\n",
       "      <td>Анализ неструктурированных данных</td>\n",
       "      <td>Глубинное обучение в обработке звука</td>\n",
       "      <td>Statistical Learning Theory</td>\n",
       "      <td>Обучение с подкреплением</td>\n",
       "      <td>Компьютерное зрение</td>\n",
       "      <td>...</td>\n",
       "      <td>Да</td>\n",
       "      <td>0.992754</td>\n",
       "      <td>174.0</td>\n",
       "      <td>DevOps</td>\n",
       "      <td>0.0</td>\n",
       "      <td>Анализ неструктурированных данных, Глубинное о...</td>\n",
       "      <td>1</td>\n",
       "      <td>Анализ неструктурированных данных</td>\n",
       "      <td>???</td>\n",
       "      <td>[Анализ неструктурированных данных]</td>\n",
       "    </tr>\n",
       "    <tr>\n",
       "      <th>2</th>\n",
       "      <td>2020-05-18 21:12:00.134</td>\n",
       "      <td>be4fa2120de3397ae21eac38ff0060e3</td>\n",
       "      <td>502</td>\n",
       "      <td>187.0</td>\n",
       "      <td>0.0</td>\n",
       "      <td>Безопасность компьютерных систем</td>\n",
       "      <td>Язык SQL</td>\n",
       "      <td>Матричные вычисления</td>\n",
       "      <td>Промышленное программирование на языке Java</td>\n",
       "      <td>Численные методы</td>\n",
       "      <td>...</td>\n",
       "      <td>Да</td>\n",
       "      <td>0.991031</td>\n",
       "      <td>0.0</td>\n",
       "      <td></td>\n",
       "      <td>0.0</td>\n",
       "      <td>Безопасность компьютерных систем, Язык SQL, Ма...</td>\n",
       "      <td>1</td>\n",
       "      <td>Безопасность компьютерных систем</td>\n",
       "      <td>???</td>\n",
       "      <td>[Безопасность компьютерных систем]</td>\n",
       "    </tr>\n",
       "    <tr>\n",
       "      <th>3</th>\n",
       "      <td>2020-05-18 22:29:14.162</td>\n",
       "      <td>40b18d40197e3db66312a026e06b8ff1</td>\n",
       "      <td>515</td>\n",
       "      <td>188.0</td>\n",
       "      <td>0.0</td>\n",
       "      <td>Безопасность компьютерных систем</td>\n",
       "      <td>Язык SQL</td>\n",
       "      <td>Сбор и обработка данных с помощью краудсорсинга</td>\n",
       "      <td>Промышленное программирование на языке Java</td>\n",
       "      <td>Компьютерные сети</td>\n",
       "      <td>...</td>\n",
       "      <td>Нет</td>\n",
       "      <td>0.986547</td>\n",
       "      <td>0.0</td>\n",
       "      <td></td>\n",
       "      <td>0.0</td>\n",
       "      <td>Безопасность компьютерных систем, Язык SQL, Сб...</td>\n",
       "      <td>1</td>\n",
       "      <td>Безопасность компьютерных систем</td>\n",
       "      <td>???</td>\n",
       "      <td>[Безопасность компьютерных систем]</td>\n",
       "    </tr>\n",
       "    <tr>\n",
       "      <th>4</th>\n",
       "      <td>2020-05-23 21:16:40.916</td>\n",
       "      <td>79d14db48e4737af731960ae212d5134</td>\n",
       "      <td>966</td>\n",
       "      <td>0.0</td>\n",
       "      <td>0.0</td>\n",
       "      <td>Безопасность компьютерных систем</td>\n",
       "      <td>Принятие решений в условиях риска и неопределё...</td>\n",
       "      <td>Анализ неструктурированных данных</td>\n",
       "      <td>Проектирование и разработка высоконагруженных ...</td>\n",
       "      <td>Методы сжатия и передачи медиаданных</td>\n",
       "      <td>...</td>\n",
       "      <td>Да</td>\n",
       "      <td>0.985507</td>\n",
       "      <td>172.0</td>\n",
       "      <td>DevOps</td>\n",
       "      <td>0.0</td>\n",
       "      <td>Безопасность компьютерных систем, Принятие реш...</td>\n",
       "      <td>2</td>\n",
       "      <td>Безопасность компьютерных систем</td>\n",
       "      <td>Принятие решений в условиях риска и неопределё...</td>\n",
       "      <td>[Безопасность компьютерных систем, Принятие ре...</td>\n",
       "    </tr>\n",
       "    <tr>\n",
       "      <th>...</th>\n",
       "      <td>...</td>\n",
       "      <td>...</td>\n",
       "      <td>...</td>\n",
       "      <td>...</td>\n",
       "      <td>...</td>\n",
       "      <td>...</td>\n",
       "      <td>...</td>\n",
       "      <td>...</td>\n",
       "      <td>...</td>\n",
       "      <td>...</td>\n",
       "      <td>...</td>\n",
       "      <td>...</td>\n",
       "      <td>...</td>\n",
       "      <td>...</td>\n",
       "      <td>...</td>\n",
       "      <td>...</td>\n",
       "      <td>...</td>\n",
       "      <td>...</td>\n",
       "      <td>...</td>\n",
       "      <td>...</td>\n",
       "      <td>...</td>\n",
       "    </tr>\n",
       "    <tr>\n",
       "      <th>342</th>\n",
       "      <td>2020-05-15 21:34:32.550</td>\n",
       "      <td>86d929f6fd741e56e93cee5900298849</td>\n",
       "      <td>761</td>\n",
       "      <td>181.0</td>\n",
       "      <td>0.0</td>\n",
       "      <td>Сбор и обработка данных с помощью краудсорсинга</td>\n",
       "      <td>Сбор и обработка данных с помощью краудсорсинга</td>\n",
       "      <td>Сбор и обработка данных с помощью краудсорсинга</td>\n",
       "      <td>Дополнительные главы прикладной статистики</td>\n",
       "      <td>Дополнительные главы прикладной статистики</td>\n",
       "      <td>...</td>\n",
       "      <td>Да</td>\n",
       "      <td>0.008969</td>\n",
       "      <td>0.0</td>\n",
       "      <td></td>\n",
       "      <td>0.0</td>\n",
       "      <td>Сбор и обработка данных с помощью краудсорсинг...</td>\n",
       "      <td>1</td>\n",
       "      <td>???</td>\n",
       "      <td>???</td>\n",
       "      <td>[Сбор и обработка данных с помощью краудсорсинга]</td>\n",
       "    </tr>\n",
       "    <tr>\n",
       "      <th>343</th>\n",
       "      <td>2020-05-18 12:39:47.722</td>\n",
       "      <td>7fe7df0d207babbf30249b3063ac1f26</td>\n",
       "      <td>1365</td>\n",
       "      <td>0.0</td>\n",
       "      <td>0.0</td>\n",
       "      <td>Высокопроизводительные вычисления</td>\n",
       "      <td>Сбор и обработка данных с помощью краудсорсинга</td>\n",
       "      <td>Моделирование временных рядов</td>\n",
       "      <td>Проектирование и разработка высоконагруженных ...</td>\n",
       "      <td>Методы сжатия и передачи медиаданных</td>\n",
       "      <td>...</td>\n",
       "      <td>Да</td>\n",
       "      <td>0.007246</td>\n",
       "      <td>175.0</td>\n",
       "      <td>DevOps</td>\n",
       "      <td>0.0</td>\n",
       "      <td>Высокопроизводительные вычисления, Сбор и обра...</td>\n",
       "      <td>1</td>\n",
       "      <td>Высокопроизводительные вычисления</td>\n",
       "      <td>???</td>\n",
       "      <td>[Высокопроизводительные вычисления]</td>\n",
       "    </tr>\n",
       "    <tr>\n",
       "      <th>344</th>\n",
       "      <td>2020-05-18 18:03:57.347</td>\n",
       "      <td>e0ca1a9548af9a3f98428c62420aa484</td>\n",
       "      <td>764</td>\n",
       "      <td>182.0</td>\n",
       "      <td>0.0</td>\n",
       "      <td>Матричные вычисления</td>\n",
       "      <td>Безопасность компьютерных систем</td>\n",
       "      <td>Statistical Learning Theory</td>\n",
       "      <td>Дискретная оптимизация</td>\n",
       "      <td>Дополнительные главы прикладной статистики</td>\n",
       "      <td>...</td>\n",
       "      <td>Да</td>\n",
       "      <td>0.004484</td>\n",
       "      <td>0.0</td>\n",
       "      <td></td>\n",
       "      <td>0.0</td>\n",
       "      <td>Матричные вычисления, Безопасность компьютерны...</td>\n",
       "      <td>1</td>\n",
       "      <td>Матричные вычисления</td>\n",
       "      <td>???</td>\n",
       "      <td>[Матричные вычисления]</td>\n",
       "    </tr>\n",
       "    <tr>\n",
       "      <th>345</th>\n",
       "      <td>2020-05-14 21:52:43.844</td>\n",
       "      <td>3a7326c9e355a67d3805824ca34c4bc5</td>\n",
       "      <td>1457</td>\n",
       "      <td>0.0</td>\n",
       "      <td>0.0</td>\n",
       "      <td>Statistical Learning Theory</td>\n",
       "      <td>Высокопроизводительные вычисления</td>\n",
       "      <td>Statistical Learning Theory</td>\n",
       "      <td>Символьные вычисления</td>\n",
       "      <td>Численные методы</td>\n",
       "      <td>...</td>\n",
       "      <td>Да</td>\n",
       "      <td>0.000000</td>\n",
       "      <td>173.0</td>\n",
       "      <td>Введение в дифференциальную геометрию</td>\n",
       "      <td>0.0</td>\n",
       "      <td>Statistical Learning Theory, Высокопроизводите...</td>\n",
       "      <td>2</td>\n",
       "      <td>Высокопроизводительные вычисления</td>\n",
       "      <td>???</td>\n",
       "      <td>[Statistical Learning Theory, Высокопроизводит...</td>\n",
       "    </tr>\n",
       "    <tr>\n",
       "      <th>346</th>\n",
       "      <td>2020-05-18 17:09:23.589</td>\n",
       "      <td>3e106aaef8b24dbb01319c73e14c2936</td>\n",
       "      <td>784</td>\n",
       "      <td>182.0</td>\n",
       "      <td>0.0</td>\n",
       "      <td>Безопасность компьютерных систем</td>\n",
       "      <td>Statistical Learning Theory</td>\n",
       "      <td>Матричные вычисления</td>\n",
       "      <td>Дискретная оптимизация</td>\n",
       "      <td>Промышленное программирование на языке Java</td>\n",
       "      <td>...</td>\n",
       "      <td>Да</td>\n",
       "      <td>0.000000</td>\n",
       "      <td>0.0</td>\n",
       "      <td></td>\n",
       "      <td>1.0</td>\n",
       "      <td>Безопасность компьютерных систем, Statistical ...</td>\n",
       "      <td>1</td>\n",
       "      <td>???</td>\n",
       "      <td>???</td>\n",
       "      <td>[Безопасность компьютерных систем]</td>\n",
       "    </tr>\n",
       "  </tbody>\n",
       "</table>\n",
       "<p>347 rows × 21 columns</p>\n",
       "</div>"
      ],
      "text/plain": [
       "                  timestamp                                id  rating  \\\n",
       "0   2020-05-20 11:34:10.787  7a21ef645ecb42198be493dd65320e78     495   \n",
       "1   2020-05-18 23:12:29.049  d539461bf254cf8b3201cdf7990b119e     964   \n",
       "2   2020-05-18 21:12:00.134  be4fa2120de3397ae21eac38ff0060e3     502   \n",
       "3   2020-05-18 22:29:14.162  40b18d40197e3db66312a026e06b8ff1     515   \n",
       "4   2020-05-23 21:16:40.916  79d14db48e4737af731960ae212d5134     966   \n",
       "..                      ...                               ...     ...   \n",
       "342 2020-05-15 21:34:32.550  86d929f6fd741e56e93cee5900298849     761   \n",
       "343 2020-05-18 12:39:47.722  7fe7df0d207babbf30249b3063ac1f26    1365   \n",
       "344 2020-05-18 18:03:57.347  e0ca1a9548af9a3f98428c62420aa484     764   \n",
       "345 2020-05-14 21:52:43.844  3a7326c9e355a67d3805824ca34c4bc5    1457   \n",
       "346 2020-05-18 17:09:23.589  3e106aaef8b24dbb01319c73e14c2936     784   \n",
       "\n",
       "     18_group  is_mi                                             fall_1  \\\n",
       "0       188.0    0.0  Принятие решений в условиях риска и неопределё...   \n",
       "1         0.0    0.0                  Анализ неструктурированных данных   \n",
       "2       187.0    0.0                   Безопасность компьютерных систем   \n",
       "3       188.0    0.0                   Безопасность компьютерных систем   \n",
       "4         0.0    0.0                   Безопасность компьютерных систем   \n",
       "..        ...    ...                                                ...   \n",
       "342     181.0    0.0    Сбор и обработка данных с помощью краудсорсинга   \n",
       "343       0.0    0.0                  Высокопроизводительные вычисления   \n",
       "344     182.0    0.0                               Матричные вычисления   \n",
       "345       0.0    0.0                        Statistical Learning Theory   \n",
       "346     182.0    0.0                   Безопасность компьютерных систем   \n",
       "\n",
       "                                                fall_2  \\\n",
       "0                                             Язык SQL   \n",
       "1                 Глубинное обучение в обработке звука   \n",
       "2                                             Язык SQL   \n",
       "3                                             Язык SQL   \n",
       "4    Принятие решений в условиях риска и неопределё...   \n",
       "..                                                 ...   \n",
       "342    Сбор и обработка данных с помощью краудсорсинга   \n",
       "343    Сбор и обработка данных с помощью краудсорсинга   \n",
       "344                   Безопасность компьютерных систем   \n",
       "345                  Высокопроизводительные вычисления   \n",
       "346                        Statistical Learning Theory   \n",
       "\n",
       "                                              fall_3  \\\n",
       "0    Сбор и обработка данных с помощью краудсорсинга   \n",
       "1                        Statistical Learning Theory   \n",
       "2                               Матричные вычисления   \n",
       "3    Сбор и обработка данных с помощью краудсорсинга   \n",
       "4                  Анализ неструктурированных данных   \n",
       "..                                               ...   \n",
       "342  Сбор и обработка данных с помощью краудсорсинга   \n",
       "343                    Моделирование временных рядов   \n",
       "344                      Statistical Learning Theory   \n",
       "345                      Statistical Learning Theory   \n",
       "346                             Матричные вычисления   \n",
       "\n",
       "                                              spring_1  \\\n",
       "0                              Анализ данных в бизнесе   \n",
       "1                             Обучение с подкреплением   \n",
       "2          Промышленное программирование на языке Java   \n",
       "3          Промышленное программирование на языке Java   \n",
       "4    Проектирование и разработка высоконагруженных ...   \n",
       "..                                                 ...   \n",
       "342         Дополнительные главы прикладной статистики   \n",
       "343  Проектирование и разработка высоконагруженных ...   \n",
       "344                             Дискретная оптимизация   \n",
       "345                              Символьные вычисления   \n",
       "346                             Дискретная оптимизация   \n",
       "\n",
       "                                        spring_2  ... is_first_time  \\\n",
       "0    Промышленное программирование на языке Java  ...            Да   \n",
       "1                            Компьютерное зрение  ...            Да   \n",
       "2                               Численные методы  ...            Да   \n",
       "3                              Компьютерные сети  ...           Нет   \n",
       "4           Методы сжатия и передачи медиаданных  ...            Да   \n",
       "..                                           ...  ...           ...   \n",
       "342   Дополнительные главы прикладной статистики  ...            Да   \n",
       "343         Методы сжатия и передачи медиаданных  ...            Да   \n",
       "344   Дополнительные главы прикладной статистики  ...            Да   \n",
       "345                             Численные методы  ...            Да   \n",
       "346  Промышленное программирование на языке Java  ...            Да   \n",
       "\n",
       "    percentile  17_group                                blended is_ml_student  \\\n",
       "0     0.995516       0.0                                                  0.0   \n",
       "1     0.992754     174.0                                 DevOps           0.0   \n",
       "2     0.991031       0.0                                                  0.0   \n",
       "3     0.986547       0.0                                                  0.0   \n",
       "4     0.985507     172.0                                 DevOps           0.0   \n",
       "..         ...       ...                                    ...           ...   \n",
       "342   0.008969       0.0                                                  0.0   \n",
       "343   0.007246     175.0                                 DevOps           0.0   \n",
       "344   0.004484       0.0                                                  0.0   \n",
       "345   0.000000     173.0  Введение в дифференциальную геометрию           0.0   \n",
       "346   0.000000       0.0                                                  1.0   \n",
       "\n",
       "                                   Courses combination fall_courses_num  \\\n",
       "0    Принятие решений в условиях риска и неопределё...                1   \n",
       "1    Анализ неструктурированных данных, Глубинное о...                1   \n",
       "2    Безопасность компьютерных систем, Язык SQL, Ма...                1   \n",
       "3    Безопасность компьютерных систем, Язык SQL, Сб...                1   \n",
       "4    Безопасность компьютерных систем, Принятие реш...                2   \n",
       "..                                                 ...              ...   \n",
       "342  Сбор и обработка данных с помощью краудсорсинг...                1   \n",
       "343  Высокопроизводительные вычисления, Сбор и обра...                1   \n",
       "344  Матричные вычисления, Безопасность компьютерны...                1   \n",
       "345  Statistical Learning Theory, Высокопроизводите...                2   \n",
       "346  Безопасность компьютерных систем, Statistical ...                1   \n",
       "\n",
       "                                              course_1  \\\n",
       "0    Принятие решений в условиях риска и неопределё...   \n",
       "1                    Анализ неструктурированных данных   \n",
       "2                     Безопасность компьютерных систем   \n",
       "3                     Безопасность компьютерных систем   \n",
       "4                     Безопасность компьютерных систем   \n",
       "..                                                 ...   \n",
       "342                                                ???   \n",
       "343                  Высокопроизводительные вычисления   \n",
       "344                               Матричные вычисления   \n",
       "345                  Высокопроизводительные вычисления   \n",
       "346                                                ???   \n",
       "\n",
       "                                              course_2  \\\n",
       "0                                                  ???   \n",
       "1                                                  ???   \n",
       "2                                                  ???   \n",
       "3                                                  ???   \n",
       "4    Принятие решений в условиях риска и неопределё...   \n",
       "..                                                 ...   \n",
       "342                                                ???   \n",
       "343                                                ???   \n",
       "344                                                ???   \n",
       "345                                                ???   \n",
       "346                                                ???   \n",
       "\n",
       "                                        first_priority  \n",
       "0    [Принятие решений в условиях риска и неопредел...  \n",
       "1                  [Анализ неструктурированных данных]  \n",
       "2                   [Безопасность компьютерных систем]  \n",
       "3                   [Безопасность компьютерных систем]  \n",
       "4    [Безопасность компьютерных систем, Принятие ре...  \n",
       "..                                                 ...  \n",
       "342  [Сбор и обработка данных с помощью краудсорсинга]  \n",
       "343                [Высокопроизводительные вычисления]  \n",
       "344                             [Матричные вычисления]  \n",
       "345  [Statistical Learning Theory, Высокопроизводит...  \n",
       "346                 [Безопасность компьютерных систем]  \n",
       "\n",
       "[347 rows x 21 columns]"
      ]
     },
     "execution_count": 52,
     "metadata": {},
     "output_type": "execute_result"
    }
   ],
   "source": [
    "# Creating \"first_priority\" column as in the allocation process\n",
    "data_1_sample['first_priority'] = data_1_sample.apply(lambda row: [row['fall_1'], row['fall_2']] if row['fall_courses_num'] == 2 else [row['fall_1']], axis=1)\n",
    "data_1_sample"
   ]
  },
  {
   "cell_type": "code",
   "execution_count": 53,
   "metadata": {},
   "outputs": [
    {
     "data": {
      "text/plain": [
       "{'Statistical Learning Theory': 3,\n",
       " 'Анализ неструктурированных данных': 3,\n",
       " 'Байесовские методы машинного обучения': 3,\n",
       " 'Безопасность компьютерных систем': 3,\n",
       " 'Высокопроизводительные вычисления': 3,\n",
       " 'Глубинное обучение в обработке звука': 3,\n",
       " 'Матричные вычисления': 3,\n",
       " 'Моделирование временных рядов': 3,\n",
       " 'Принятие решений в условиях риска и неопределённости': 3,\n",
       " 'Сбор и обработка данных с помощью краудсорсинга': 3,\n",
       " 'Теория баз данных': 3,\n",
       " 'Язык SQL': 3}"
      ]
     },
     "execution_count": 53,
     "metadata": {},
     "output_type": "execute_result"
    }
   ],
   "source": [
    "# Set seat limit to 30 for all fall courses\n",
    "fall_courses = sorted(data_1_sample['fall_1'].dropna().unique().tolist())\n",
    "seat_limits_fall = {course: 3 for course in fall_courses}\n",
    "seat_limits_fall"
   ]
  },
  {
   "cell_type": "code",
   "execution_count": 54,
   "metadata": {},
   "outputs": [],
   "source": [
    "# Initialize seat tracking for fall courses\n",
    "course_seats_taken_fall = {course: 0 for course in seat_limits_fall}\n",
    "\n",
    "# Initialize course allocation with \"???\"\n",
    "data_1_sample['course_1'] = \"???\"\n",
    "data_1_sample['course_2'] = \"???\"\n"
   ]
  },
  {
   "cell_type": "code",
   "execution_count": 55,
   "metadata": {},
   "outputs": [],
   "source": [
    "# Iterate over each student and allocate courses based on priority\n",
    "def allocate_courses(data_students, seat_limits, seats_taken):\n",
    "    for idx, student in data_students.iterrows():\n",
    "        courses_needed = student['fall_courses_num']\n",
    "        k = 0  # Tracks how many courses have been assigned\n",
    "        \n",
    "        # Iterate through the first_priority courses until all needed courses are assigned\n",
    "        for course in student['first_priority']:\n",
    "            if k < courses_needed:  # Check if the student still needs to take more courses\n",
    "                if seats_taken[course] < seat_limits[course]:  # Check if there are places available\n",
    "                    seats_taken[course] += 1  # Increment the seat counter\n",
    "                    if k == 0:\n",
    "                        data_students.at[idx, 'course_1'] = course  # Assign the first course\n",
    "                    elif k == 1:\n",
    "                        data_students.at[idx, 'course_2'] = course  # Assign the second course\n",
    "                    k += 1  # Increment the number of allocated courses\n"
   ]
  },
  {
   "cell_type": "code",
   "execution_count": 56,
   "metadata": {},
   "outputs": [
    {
     "data": {
      "text/html": [
       "<div>\n",
       "<style scoped>\n",
       "    .dataframe tbody tr th:only-of-type {\n",
       "        vertical-align: middle;\n",
       "    }\n",
       "\n",
       "    .dataframe tbody tr th {\n",
       "        vertical-align: top;\n",
       "    }\n",
       "\n",
       "    .dataframe thead th {\n",
       "        text-align: right;\n",
       "    }\n",
       "</style>\n",
       "<table border=\"1\" class=\"dataframe\">\n",
       "  <thead>\n",
       "    <tr style=\"text-align: right;\">\n",
       "      <th></th>\n",
       "      <th>timestamp</th>\n",
       "      <th>id</th>\n",
       "      <th>rating</th>\n",
       "      <th>18_group</th>\n",
       "      <th>is_mi</th>\n",
       "      <th>fall_1</th>\n",
       "      <th>fall_2</th>\n",
       "      <th>fall_3</th>\n",
       "      <th>spring_1</th>\n",
       "      <th>spring_2</th>\n",
       "      <th>...</th>\n",
       "      <th>is_first_time</th>\n",
       "      <th>percentile</th>\n",
       "      <th>17_group</th>\n",
       "      <th>blended</th>\n",
       "      <th>is_ml_student</th>\n",
       "      <th>Courses combination</th>\n",
       "      <th>fall_courses_num</th>\n",
       "      <th>course_1</th>\n",
       "      <th>course_2</th>\n",
       "      <th>first_priority</th>\n",
       "    </tr>\n",
       "  </thead>\n",
       "  <tbody>\n",
       "    <tr>\n",
       "      <th>0</th>\n",
       "      <td>2020-05-20 11:34:10.787</td>\n",
       "      <td>7a21ef645ecb42198be493dd65320e78</td>\n",
       "      <td>495</td>\n",
       "      <td>188.0</td>\n",
       "      <td>0.0</td>\n",
       "      <td>Принятие решений в условиях риска и неопределё...</td>\n",
       "      <td>Язык SQL</td>\n",
       "      <td>Сбор и обработка данных с помощью краудсорсинга</td>\n",
       "      <td>Анализ данных в бизнесе</td>\n",
       "      <td>Промышленное программирование на языке Java</td>\n",
       "      <td>...</td>\n",
       "      <td>Да</td>\n",
       "      <td>0.995516</td>\n",
       "      <td>0.0</td>\n",
       "      <td></td>\n",
       "      <td>0.0</td>\n",
       "      <td>Принятие решений в условиях риска и неопределё...</td>\n",
       "      <td>1</td>\n",
       "      <td>Принятие решений в условиях риска и неопределё...</td>\n",
       "      <td>???</td>\n",
       "      <td>[Принятие решений в условиях риска и неопредел...</td>\n",
       "    </tr>\n",
       "    <tr>\n",
       "      <th>1</th>\n",
       "      <td>2020-05-18 23:12:29.049</td>\n",
       "      <td>d539461bf254cf8b3201cdf7990b119e</td>\n",
       "      <td>964</td>\n",
       "      <td>0.0</td>\n",
       "      <td>0.0</td>\n",
       "      <td>Анализ неструктурированных данных</td>\n",
       "      <td>Глубинное обучение в обработке звука</td>\n",
       "      <td>Statistical Learning Theory</td>\n",
       "      <td>Обучение с подкреплением</td>\n",
       "      <td>Компьютерное зрение</td>\n",
       "      <td>...</td>\n",
       "      <td>Да</td>\n",
       "      <td>0.992754</td>\n",
       "      <td>174.0</td>\n",
       "      <td>DevOps</td>\n",
       "      <td>0.0</td>\n",
       "      <td>Анализ неструктурированных данных, Глубинное о...</td>\n",
       "      <td>1</td>\n",
       "      <td>Анализ неструктурированных данных</td>\n",
       "      <td>???</td>\n",
       "      <td>[Анализ неструктурированных данных]</td>\n",
       "    </tr>\n",
       "    <tr>\n",
       "      <th>2</th>\n",
       "      <td>2020-05-18 21:12:00.134</td>\n",
       "      <td>be4fa2120de3397ae21eac38ff0060e3</td>\n",
       "      <td>502</td>\n",
       "      <td>187.0</td>\n",
       "      <td>0.0</td>\n",
       "      <td>Безопасность компьютерных систем</td>\n",
       "      <td>Язык SQL</td>\n",
       "      <td>Матричные вычисления</td>\n",
       "      <td>Промышленное программирование на языке Java</td>\n",
       "      <td>Численные методы</td>\n",
       "      <td>...</td>\n",
       "      <td>Да</td>\n",
       "      <td>0.991031</td>\n",
       "      <td>0.0</td>\n",
       "      <td></td>\n",
       "      <td>0.0</td>\n",
       "      <td>Безопасность компьютерных систем, Язык SQL, Ма...</td>\n",
       "      <td>1</td>\n",
       "      <td>Безопасность компьютерных систем</td>\n",
       "      <td>???</td>\n",
       "      <td>[Безопасность компьютерных систем]</td>\n",
       "    </tr>\n",
       "    <tr>\n",
       "      <th>3</th>\n",
       "      <td>2020-05-18 22:29:14.162</td>\n",
       "      <td>40b18d40197e3db66312a026e06b8ff1</td>\n",
       "      <td>515</td>\n",
       "      <td>188.0</td>\n",
       "      <td>0.0</td>\n",
       "      <td>Безопасность компьютерных систем</td>\n",
       "      <td>Язык SQL</td>\n",
       "      <td>Сбор и обработка данных с помощью краудсорсинга</td>\n",
       "      <td>Промышленное программирование на языке Java</td>\n",
       "      <td>Компьютерные сети</td>\n",
       "      <td>...</td>\n",
       "      <td>Нет</td>\n",
       "      <td>0.986547</td>\n",
       "      <td>0.0</td>\n",
       "      <td></td>\n",
       "      <td>0.0</td>\n",
       "      <td>Безопасность компьютерных систем, Язык SQL, Сб...</td>\n",
       "      <td>1</td>\n",
       "      <td>Безопасность компьютерных систем</td>\n",
       "      <td>???</td>\n",
       "      <td>[Безопасность компьютерных систем]</td>\n",
       "    </tr>\n",
       "    <tr>\n",
       "      <th>4</th>\n",
       "      <td>2020-05-23 21:16:40.916</td>\n",
       "      <td>79d14db48e4737af731960ae212d5134</td>\n",
       "      <td>966</td>\n",
       "      <td>0.0</td>\n",
       "      <td>0.0</td>\n",
       "      <td>Безопасность компьютерных систем</td>\n",
       "      <td>Принятие решений в условиях риска и неопределё...</td>\n",
       "      <td>Анализ неструктурированных данных</td>\n",
       "      <td>Проектирование и разработка высоконагруженных ...</td>\n",
       "      <td>Методы сжатия и передачи медиаданных</td>\n",
       "      <td>...</td>\n",
       "      <td>Да</td>\n",
       "      <td>0.985507</td>\n",
       "      <td>172.0</td>\n",
       "      <td>DevOps</td>\n",
       "      <td>0.0</td>\n",
       "      <td>Безопасность компьютерных систем, Принятие реш...</td>\n",
       "      <td>2</td>\n",
       "      <td>Безопасность компьютерных систем</td>\n",
       "      <td>Принятие решений в условиях риска и неопределё...</td>\n",
       "      <td>[Безопасность компьютерных систем, Принятие ре...</td>\n",
       "    </tr>\n",
       "    <tr>\n",
       "      <th>...</th>\n",
       "      <td>...</td>\n",
       "      <td>...</td>\n",
       "      <td>...</td>\n",
       "      <td>...</td>\n",
       "      <td>...</td>\n",
       "      <td>...</td>\n",
       "      <td>...</td>\n",
       "      <td>...</td>\n",
       "      <td>...</td>\n",
       "      <td>...</td>\n",
       "      <td>...</td>\n",
       "      <td>...</td>\n",
       "      <td>...</td>\n",
       "      <td>...</td>\n",
       "      <td>...</td>\n",
       "      <td>...</td>\n",
       "      <td>...</td>\n",
       "      <td>...</td>\n",
       "      <td>...</td>\n",
       "      <td>...</td>\n",
       "      <td>...</td>\n",
       "    </tr>\n",
       "    <tr>\n",
       "      <th>342</th>\n",
       "      <td>2020-05-15 21:34:32.550</td>\n",
       "      <td>86d929f6fd741e56e93cee5900298849</td>\n",
       "      <td>761</td>\n",
       "      <td>181.0</td>\n",
       "      <td>0.0</td>\n",
       "      <td>Сбор и обработка данных с помощью краудсорсинга</td>\n",
       "      <td>Сбор и обработка данных с помощью краудсорсинга</td>\n",
       "      <td>Сбор и обработка данных с помощью краудсорсинга</td>\n",
       "      <td>Дополнительные главы прикладной статистики</td>\n",
       "      <td>Дополнительные главы прикладной статистики</td>\n",
       "      <td>...</td>\n",
       "      <td>Да</td>\n",
       "      <td>0.008969</td>\n",
       "      <td>0.0</td>\n",
       "      <td></td>\n",
       "      <td>0.0</td>\n",
       "      <td>Сбор и обработка данных с помощью краудсорсинг...</td>\n",
       "      <td>1</td>\n",
       "      <td>???</td>\n",
       "      <td>???</td>\n",
       "      <td>[Сбор и обработка данных с помощью краудсорсинга]</td>\n",
       "    </tr>\n",
       "    <tr>\n",
       "      <th>343</th>\n",
       "      <td>2020-05-18 12:39:47.722</td>\n",
       "      <td>7fe7df0d207babbf30249b3063ac1f26</td>\n",
       "      <td>1365</td>\n",
       "      <td>0.0</td>\n",
       "      <td>0.0</td>\n",
       "      <td>Высокопроизводительные вычисления</td>\n",
       "      <td>Сбор и обработка данных с помощью краудсорсинга</td>\n",
       "      <td>Моделирование временных рядов</td>\n",
       "      <td>Проектирование и разработка высоконагруженных ...</td>\n",
       "      <td>Методы сжатия и передачи медиаданных</td>\n",
       "      <td>...</td>\n",
       "      <td>Да</td>\n",
       "      <td>0.007246</td>\n",
       "      <td>175.0</td>\n",
       "      <td>DevOps</td>\n",
       "      <td>0.0</td>\n",
       "      <td>Высокопроизводительные вычисления, Сбор и обра...</td>\n",
       "      <td>1</td>\n",
       "      <td>???</td>\n",
       "      <td>???</td>\n",
       "      <td>[Высокопроизводительные вычисления]</td>\n",
       "    </tr>\n",
       "    <tr>\n",
       "      <th>344</th>\n",
       "      <td>2020-05-18 18:03:57.347</td>\n",
       "      <td>e0ca1a9548af9a3f98428c62420aa484</td>\n",
       "      <td>764</td>\n",
       "      <td>182.0</td>\n",
       "      <td>0.0</td>\n",
       "      <td>Матричные вычисления</td>\n",
       "      <td>Безопасность компьютерных систем</td>\n",
       "      <td>Statistical Learning Theory</td>\n",
       "      <td>Дискретная оптимизация</td>\n",
       "      <td>Дополнительные главы прикладной статистики</td>\n",
       "      <td>...</td>\n",
       "      <td>Да</td>\n",
       "      <td>0.004484</td>\n",
       "      <td>0.0</td>\n",
       "      <td></td>\n",
       "      <td>0.0</td>\n",
       "      <td>Матричные вычисления, Безопасность компьютерны...</td>\n",
       "      <td>1</td>\n",
       "      <td>???</td>\n",
       "      <td>???</td>\n",
       "      <td>[Матричные вычисления]</td>\n",
       "    </tr>\n",
       "    <tr>\n",
       "      <th>345</th>\n",
       "      <td>2020-05-14 21:52:43.844</td>\n",
       "      <td>3a7326c9e355a67d3805824ca34c4bc5</td>\n",
       "      <td>1457</td>\n",
       "      <td>0.0</td>\n",
       "      <td>0.0</td>\n",
       "      <td>Statistical Learning Theory</td>\n",
       "      <td>Высокопроизводительные вычисления</td>\n",
       "      <td>Statistical Learning Theory</td>\n",
       "      <td>Символьные вычисления</td>\n",
       "      <td>Численные методы</td>\n",
       "      <td>...</td>\n",
       "      <td>Да</td>\n",
       "      <td>0.000000</td>\n",
       "      <td>173.0</td>\n",
       "      <td>Введение в дифференциальную геометрию</td>\n",
       "      <td>0.0</td>\n",
       "      <td>Statistical Learning Theory, Высокопроизводите...</td>\n",
       "      <td>2</td>\n",
       "      <td>???</td>\n",
       "      <td>???</td>\n",
       "      <td>[Statistical Learning Theory, Высокопроизводит...</td>\n",
       "    </tr>\n",
       "    <tr>\n",
       "      <th>346</th>\n",
       "      <td>2020-05-18 17:09:23.589</td>\n",
       "      <td>3e106aaef8b24dbb01319c73e14c2936</td>\n",
       "      <td>784</td>\n",
       "      <td>182.0</td>\n",
       "      <td>0.0</td>\n",
       "      <td>Безопасность компьютерных систем</td>\n",
       "      <td>Statistical Learning Theory</td>\n",
       "      <td>Матричные вычисления</td>\n",
       "      <td>Дискретная оптимизация</td>\n",
       "      <td>Промышленное программирование на языке Java</td>\n",
       "      <td>...</td>\n",
       "      <td>Да</td>\n",
       "      <td>0.000000</td>\n",
       "      <td>0.0</td>\n",
       "      <td></td>\n",
       "      <td>1.0</td>\n",
       "      <td>Безопасность компьютерных систем, Statistical ...</td>\n",
       "      <td>1</td>\n",
       "      <td>???</td>\n",
       "      <td>???</td>\n",
       "      <td>[Безопасность компьютерных систем]</td>\n",
       "    </tr>\n",
       "  </tbody>\n",
       "</table>\n",
       "<p>347 rows × 21 columns</p>\n",
       "</div>"
      ],
      "text/plain": [
       "                  timestamp                                id  rating  \\\n",
       "0   2020-05-20 11:34:10.787  7a21ef645ecb42198be493dd65320e78     495   \n",
       "1   2020-05-18 23:12:29.049  d539461bf254cf8b3201cdf7990b119e     964   \n",
       "2   2020-05-18 21:12:00.134  be4fa2120de3397ae21eac38ff0060e3     502   \n",
       "3   2020-05-18 22:29:14.162  40b18d40197e3db66312a026e06b8ff1     515   \n",
       "4   2020-05-23 21:16:40.916  79d14db48e4737af731960ae212d5134     966   \n",
       "..                      ...                               ...     ...   \n",
       "342 2020-05-15 21:34:32.550  86d929f6fd741e56e93cee5900298849     761   \n",
       "343 2020-05-18 12:39:47.722  7fe7df0d207babbf30249b3063ac1f26    1365   \n",
       "344 2020-05-18 18:03:57.347  e0ca1a9548af9a3f98428c62420aa484     764   \n",
       "345 2020-05-14 21:52:43.844  3a7326c9e355a67d3805824ca34c4bc5    1457   \n",
       "346 2020-05-18 17:09:23.589  3e106aaef8b24dbb01319c73e14c2936     784   \n",
       "\n",
       "     18_group  is_mi                                             fall_1  \\\n",
       "0       188.0    0.0  Принятие решений в условиях риска и неопределё...   \n",
       "1         0.0    0.0                  Анализ неструктурированных данных   \n",
       "2       187.0    0.0                   Безопасность компьютерных систем   \n",
       "3       188.0    0.0                   Безопасность компьютерных систем   \n",
       "4         0.0    0.0                   Безопасность компьютерных систем   \n",
       "..        ...    ...                                                ...   \n",
       "342     181.0    0.0    Сбор и обработка данных с помощью краудсорсинга   \n",
       "343       0.0    0.0                  Высокопроизводительные вычисления   \n",
       "344     182.0    0.0                               Матричные вычисления   \n",
       "345       0.0    0.0                        Statistical Learning Theory   \n",
       "346     182.0    0.0                   Безопасность компьютерных систем   \n",
       "\n",
       "                                                fall_2  \\\n",
       "0                                             Язык SQL   \n",
       "1                 Глубинное обучение в обработке звука   \n",
       "2                                             Язык SQL   \n",
       "3                                             Язык SQL   \n",
       "4    Принятие решений в условиях риска и неопределё...   \n",
       "..                                                 ...   \n",
       "342    Сбор и обработка данных с помощью краудсорсинга   \n",
       "343    Сбор и обработка данных с помощью краудсорсинга   \n",
       "344                   Безопасность компьютерных систем   \n",
       "345                  Высокопроизводительные вычисления   \n",
       "346                        Statistical Learning Theory   \n",
       "\n",
       "                                              fall_3  \\\n",
       "0    Сбор и обработка данных с помощью краудсорсинга   \n",
       "1                        Statistical Learning Theory   \n",
       "2                               Матричные вычисления   \n",
       "3    Сбор и обработка данных с помощью краудсорсинга   \n",
       "4                  Анализ неструктурированных данных   \n",
       "..                                               ...   \n",
       "342  Сбор и обработка данных с помощью краудсорсинга   \n",
       "343                    Моделирование временных рядов   \n",
       "344                      Statistical Learning Theory   \n",
       "345                      Statistical Learning Theory   \n",
       "346                             Матричные вычисления   \n",
       "\n",
       "                                              spring_1  \\\n",
       "0                              Анализ данных в бизнесе   \n",
       "1                             Обучение с подкреплением   \n",
       "2          Промышленное программирование на языке Java   \n",
       "3          Промышленное программирование на языке Java   \n",
       "4    Проектирование и разработка высоконагруженных ...   \n",
       "..                                                 ...   \n",
       "342         Дополнительные главы прикладной статистики   \n",
       "343  Проектирование и разработка высоконагруженных ...   \n",
       "344                             Дискретная оптимизация   \n",
       "345                              Символьные вычисления   \n",
       "346                             Дискретная оптимизация   \n",
       "\n",
       "                                        spring_2  ... is_first_time  \\\n",
       "0    Промышленное программирование на языке Java  ...            Да   \n",
       "1                            Компьютерное зрение  ...            Да   \n",
       "2                               Численные методы  ...            Да   \n",
       "3                              Компьютерные сети  ...           Нет   \n",
       "4           Методы сжатия и передачи медиаданных  ...            Да   \n",
       "..                                           ...  ...           ...   \n",
       "342   Дополнительные главы прикладной статистики  ...            Да   \n",
       "343         Методы сжатия и передачи медиаданных  ...            Да   \n",
       "344   Дополнительные главы прикладной статистики  ...            Да   \n",
       "345                             Численные методы  ...            Да   \n",
       "346  Промышленное программирование на языке Java  ...            Да   \n",
       "\n",
       "    percentile  17_group                                blended is_ml_student  \\\n",
       "0     0.995516       0.0                                                  0.0   \n",
       "1     0.992754     174.0                                 DevOps           0.0   \n",
       "2     0.991031       0.0                                                  0.0   \n",
       "3     0.986547       0.0                                                  0.0   \n",
       "4     0.985507     172.0                                 DevOps           0.0   \n",
       "..         ...       ...                                    ...           ...   \n",
       "342   0.008969       0.0                                                  0.0   \n",
       "343   0.007246     175.0                                 DevOps           0.0   \n",
       "344   0.004484       0.0                                                  0.0   \n",
       "345   0.000000     173.0  Введение в дифференциальную геометрию           0.0   \n",
       "346   0.000000       0.0                                                  1.0   \n",
       "\n",
       "                                   Courses combination fall_courses_num  \\\n",
       "0    Принятие решений в условиях риска и неопределё...                1   \n",
       "1    Анализ неструктурированных данных, Глубинное о...                1   \n",
       "2    Безопасность компьютерных систем, Язык SQL, Ма...                1   \n",
       "3    Безопасность компьютерных систем, Язык SQL, Сб...                1   \n",
       "4    Безопасность компьютерных систем, Принятие реш...                2   \n",
       "..                                                 ...              ...   \n",
       "342  Сбор и обработка данных с помощью краудсорсинг...                1   \n",
       "343  Высокопроизводительные вычисления, Сбор и обра...                1   \n",
       "344  Матричные вычисления, Безопасность компьютерны...                1   \n",
       "345  Statistical Learning Theory, Высокопроизводите...                2   \n",
       "346  Безопасность компьютерных систем, Statistical ...                1   \n",
       "\n",
       "                                              course_1  \\\n",
       "0    Принятие решений в условиях риска и неопределё...   \n",
       "1                    Анализ неструктурированных данных   \n",
       "2                     Безопасность компьютерных систем   \n",
       "3                     Безопасность компьютерных систем   \n",
       "4                     Безопасность компьютерных систем   \n",
       "..                                                 ...   \n",
       "342                                                ???   \n",
       "343                                                ???   \n",
       "344                                                ???   \n",
       "345                                                ???   \n",
       "346                                                ???   \n",
       "\n",
       "                                              course_2  \\\n",
       "0                                                  ???   \n",
       "1                                                  ???   \n",
       "2                                                  ???   \n",
       "3                                                  ???   \n",
       "4    Принятие решений в условиях риска и неопределё...   \n",
       "..                                                 ...   \n",
       "342                                                ???   \n",
       "343                                                ???   \n",
       "344                                                ???   \n",
       "345                                                ???   \n",
       "346                                                ???   \n",
       "\n",
       "                                        first_priority  \n",
       "0    [Принятие решений в условиях риска и неопредел...  \n",
       "1                  [Анализ неструктурированных данных]  \n",
       "2                   [Безопасность компьютерных систем]  \n",
       "3                   [Безопасность компьютерных систем]  \n",
       "4    [Безопасность компьютерных систем, Принятие ре...  \n",
       "..                                                 ...  \n",
       "342  [Сбор и обработка данных с помощью краудсорсинга]  \n",
       "343                [Высокопроизводительные вычисления]  \n",
       "344                             [Матричные вычисления]  \n",
       "345  [Statistical Learning Theory, Высокопроизводит...  \n",
       "346                 [Безопасность компьютерных систем]  \n",
       "\n",
       "[347 rows x 21 columns]"
      ]
     },
     "execution_count": 56,
     "metadata": {},
     "output_type": "execute_result"
    }
   ],
   "source": [
    "\n",
    "# Allocate courses for students based on their priorities\n",
    "allocate_courses(data_1_sample, seat_limits_fall, course_seats_taken_fall)\n",
    "\n",
    "# Display the updated DataFrame to verify\n",
    "data_1_sample"
   ]
  },
  {
   "cell_type": "code",
   "execution_count": 57,
   "metadata": {},
   "outputs": [],
   "source": [
    "allocate_courses(data_1_sample, seat_limits_fall, course_seats_taken_fall)"
   ]
  },
  {
   "cell_type": "code",
   "execution_count": 58,
   "metadata": {},
   "outputs": [
    {
     "data": {
      "text/plain": [
       "fall_1\n",
       "Statistical Learning Theory                             10\n",
       "Анализ неструктурированных данных                       21\n",
       "Байесовские методы машинного обучения                   16\n",
       "Безопасность компьютерных систем                        14\n",
       "Высокопроизводительные вычисления                        3\n",
       "Глубинное обучение в обработке звука                     6\n",
       "Матричные вычисления                                     1\n",
       "Моделирование временных рядов                            6\n",
       "Принятие решений в условиях риска и неопределённости     1\n",
       "Сбор и обработка данных с помощью краудсорсинга          8\n",
       "Теория баз данных                                        1\n",
       "Язык SQL                                                 2\n",
       "Name: count, dtype: int64"
      ]
     },
     "execution_count": 58,
     "metadata": {},
     "output_type": "execute_result"
    }
   ],
   "source": [
    "data_1[data_1['fall_courses_num'] == 2]['fall_1'].value_counts().sort_index()"
   ]
  },
  {
   "cell_type": "code",
   "execution_count": 59,
   "metadata": {},
   "outputs": [
    {
     "data": {
      "text/plain": [
       "fall_1\n",
       "Statistical Learning Theory                              25\n",
       "Анализ неструктурированных данных                        32\n",
       "Байесовские методы машинного обучения                    16\n",
       "Безопасность компьютерных систем                        110\n",
       "Высокопроизводительные вычисления                        41\n",
       "Глубинное обучение в обработке звука                     10\n",
       "Матричные вычисления                                     14\n",
       "Моделирование временных рядов                            22\n",
       "Принятие решений в условиях риска и неопределённости      5\n",
       "Сбор и обработка данных с помощью краудсорсинга          34\n",
       "Теория баз данных                                        11\n",
       "Язык SQL                                                 27\n",
       "Name: count, dtype: int64"
      ]
     },
     "execution_count": 59,
     "metadata": {},
     "output_type": "execute_result"
    }
   ],
   "source": [
    "data_1['fall_1'].value_counts().sort_index()"
   ]
  },
  {
   "cell_type": "code",
   "execution_count": 60,
   "metadata": {},
   "outputs": [
    {
     "data": {
      "text/plain": [
       "<bound method Series.unique of 0      -\n",
       "1      -\n",
       "2      -\n",
       "3      -\n",
       "4       \n",
       "      ..\n",
       "342    -\n",
       "343    -\n",
       "344    -\n",
       "345     \n",
       "346    -\n",
       "Name: course_2, Length: 347, dtype: object>"
      ]
     },
     "execution_count": 60,
     "metadata": {},
     "output_type": "execute_result"
    }
   ],
   "source": [
    " # Mark the second course as \"-\" for students who only need one course\n",
    "data_1['course_2'] = data_1.apply(\n",
    "    lambda row: \"-\" if row['fall_courses_num'] == 1  else \" \",\n",
    "    axis=1\n",
    ")\n",
    "\n",
    "data_1['course_2'].unique"
   ]
  },
  {
   "cell_type": "markdown",
   "metadata": {
    "id": "vc5zXP5hhLu5"
   },
   "source": [
    "Здесь для проверки приведена таблица, в которой есть 2 дополнительные колонки:\n",
    "    \n",
    "    1) is_first_place - является ли студент лучшим по перцентили хотя бы на одном из курсов, куда он был зачислен\n",
    "    (True / NaN)\n",
    "    \n",
    "    2) is_last_place  - является ли студент худшим по перцентили хотя бы на одном из курсов, куда он был зачислен (True / NaN)"
   ]
  },
  {
   "cell_type": "code",
   "execution_count": 61,
   "metadata": {},
   "outputs": [],
   "source": [
    "data_1['is_first_place'] = data_1.apply(\n",
    "    lambda row: True if row['rating'] == data_1[data_1['course_1'] == row['course_1']]['rating'].max() else pd.NA,\n",
    "    axis=1\n",
    ")\n",
    "\n",
    "data_1['is_last_place'] = data_1.apply(\n",
    "    lambda row: True if row['rating'] == data_1[data_1['course_1'] == row['course_1']]['rating'].min() else pd.NA,\n",
    "    axis=1\n",
    ")\n"
   ]
  },
  {
   "cell_type": "code",
   "execution_count": 62,
   "metadata": {
    "id": "uZTkGEq5hLu5"
   },
   "outputs": [],
   "source": [
    "# fr some reason there was a decoder problem, had to manually download the file\n",
    "check_df = pd.read_csv('_2_task_check.csv')"
   ]
  },
  {
   "cell_type": "markdown",
   "metadata": {
    "id": "E_fbyB9qhLu5"
   },
   "source": [
    "После распределения студентов в соответствии с первым приоритетом добавьте в свой датафрейм аналогичные признаки и запустите проверку:"
   ]
  },
  {
   "cell_type": "code",
   "execution_count": 63,
   "metadata": {
    "id": "GOAzQeYehLu6"
   },
   "outputs": [
    {
     "ename": "ValueError",
     "evalue": "Can only compare identically-labeled (both index and columns) DataFrame objects",
     "output_type": "error",
     "traceback": [
      "\u001b[1;31m---------------------------------------------------------------------------\u001b[0m",
      "\u001b[1;31mValueError\u001b[0m                                Traceback (most recent call last)",
      "\u001b[1;32m~\\AppData\\Local\\Temp\\ipykernel_24008\\596583614.py\u001b[0m in \u001b[0;36m?\u001b[1;34m()\u001b[0m\n\u001b[0;32m      1\u001b[0m \u001b[0mfir_col_name\u001b[0m \u001b[1;33m=\u001b[0m  \u001b[1;34m'is_first_place'\u001b[0m   \u001b[1;31m# insert name of your new column with is_first_place as str\u001b[0m\u001b[1;33m\u001b[0m\u001b[1;33m\u001b[0m\u001b[0m\n\u001b[0;32m      2\u001b[0m \u001b[0mlast_col_name\u001b[0m \u001b[1;33m=\u001b[0m   \u001b[1;34m'is_last_place'\u001b[0m \u001b[1;31m# insert name of your new column with is_last_place as str\u001b[0m\u001b[1;33m\u001b[0m\u001b[1;33m\u001b[0m\u001b[0m\n\u001b[0;32m      3\u001b[0m \u001b[1;33m\u001b[0m\u001b[0m\n\u001b[0;32m      4\u001b[0m \u001b[1;33m\u001b[0m\u001b[0m\n\u001b[1;32m----> 5\u001b[1;33m assert((data_1[data_1[fir_col_name].isna() == False][['id']].sort_values('id').reset_index(drop=True)\n\u001b[0m\u001b[0;32m      6\u001b[0m         \u001b[1;33m==\u001b[0m\u001b[1;33m\u001b[0m\u001b[1;33m\u001b[0m\u001b[0m\n\u001b[0;32m      7\u001b[0m         \u001b[0mcheck_df\u001b[0m\u001b[1;33m[\u001b[0m\u001b[0mcheck_df\u001b[0m\u001b[1;33m[\u001b[0m\u001b[1;34m'is_first_place'\u001b[0m\u001b[1;33m]\u001b[0m\u001b[1;33m.\u001b[0m\u001b[0misna\u001b[0m\u001b[1;33m(\u001b[0m\u001b[1;33m)\u001b[0m \u001b[1;33m==\u001b[0m \u001b[1;32mFalse\u001b[0m\u001b[1;33m]\u001b[0m\u001b[1;33m[\u001b[0m\u001b[1;33m[\u001b[0m\u001b[1;34m'id'\u001b[0m\u001b[1;33m]\u001b[0m\u001b[1;33m]\u001b[0m\u001b[1;33m.\u001b[0m\u001b[0msort_values\u001b[0m\u001b[1;33m(\u001b[0m\u001b[1;34m'id'\u001b[0m\u001b[1;33m)\u001b[0m\u001b[1;33m.\u001b[0m\u001b[0mreset_index\u001b[0m\u001b[1;33m(\u001b[0m\u001b[0mdrop\u001b[0m\u001b[1;33m=\u001b[0m\u001b[1;32mTrue\u001b[0m\u001b[1;33m)\u001b[0m\u001b[1;33m\u001b[0m\u001b[1;33m\u001b[0m\u001b[0m\n\u001b[0;32m      8\u001b[0m        ).id.values).all()\n",
      "\u001b[1;32m~\\anaconda3\\envs\\NES\\Lib\\site-packages\\pandas\\core\\ops\\common.py\u001b[0m in \u001b[0;36m?\u001b[1;34m(self, other)\u001b[0m\n\u001b[0;32m     72\u001b[0m                     \u001b[1;32mreturn\u001b[0m \u001b[0mNotImplemented\u001b[0m\u001b[1;33m\u001b[0m\u001b[1;33m\u001b[0m\u001b[0m\n\u001b[0;32m     73\u001b[0m \u001b[1;33m\u001b[0m\u001b[0m\n\u001b[0;32m     74\u001b[0m         \u001b[0mother\u001b[0m \u001b[1;33m=\u001b[0m \u001b[0mitem_from_zerodim\u001b[0m\u001b[1;33m(\u001b[0m\u001b[0mother\u001b[0m\u001b[1;33m)\u001b[0m\u001b[1;33m\u001b[0m\u001b[1;33m\u001b[0m\u001b[0m\n\u001b[0;32m     75\u001b[0m \u001b[1;33m\u001b[0m\u001b[0m\n\u001b[1;32m---> 76\u001b[1;33m         \u001b[1;32mreturn\u001b[0m \u001b[0mmethod\u001b[0m\u001b[1;33m(\u001b[0m\u001b[0mself\u001b[0m\u001b[1;33m,\u001b[0m \u001b[0mother\u001b[0m\u001b[1;33m)\u001b[0m\u001b[1;33m\u001b[0m\u001b[1;33m\u001b[0m\u001b[0m\n\u001b[0m",
      "\u001b[1;32m~\\anaconda3\\envs\\NES\\Lib\\site-packages\\pandas\\core\\arraylike.py\u001b[0m in \u001b[0;36m?\u001b[1;34m(self, other)\u001b[0m\n\u001b[0;32m     38\u001b[0m     \u001b[1;33m@\u001b[0m\u001b[0munpack_zerodim_and_defer\u001b[0m\u001b[1;33m(\u001b[0m\u001b[1;34m\"__eq__\"\u001b[0m\u001b[1;33m)\u001b[0m\u001b[1;33m\u001b[0m\u001b[1;33m\u001b[0m\u001b[0m\n\u001b[0;32m     39\u001b[0m     \u001b[1;32mdef\u001b[0m \u001b[0m__eq__\u001b[0m\u001b[1;33m(\u001b[0m\u001b[0mself\u001b[0m\u001b[1;33m,\u001b[0m \u001b[0mother\u001b[0m\u001b[1;33m)\u001b[0m\u001b[1;33m:\u001b[0m\u001b[1;33m\u001b[0m\u001b[1;33m\u001b[0m\u001b[0m\n\u001b[1;32m---> 40\u001b[1;33m         \u001b[1;32mreturn\u001b[0m \u001b[0mself\u001b[0m\u001b[1;33m.\u001b[0m\u001b[0m_cmp_method\u001b[0m\u001b[1;33m(\u001b[0m\u001b[0mother\u001b[0m\u001b[1;33m,\u001b[0m \u001b[0moperator\u001b[0m\u001b[1;33m.\u001b[0m\u001b[0meq\u001b[0m\u001b[1;33m)\u001b[0m\u001b[1;33m\u001b[0m\u001b[1;33m\u001b[0m\u001b[0m\n\u001b[0m",
      "\u001b[1;32m~\\anaconda3\\envs\\NES\\Lib\\site-packages\\pandas\\core\\frame.py\u001b[0m in \u001b[0;36m?\u001b[1;34m(self, other, op)\u001b[0m\n\u001b[0;32m   7881\u001b[0m     \u001b[1;32mdef\u001b[0m \u001b[0m_cmp_method\u001b[0m\u001b[1;33m(\u001b[0m\u001b[0mself\u001b[0m\u001b[1;33m,\u001b[0m \u001b[0mother\u001b[0m\u001b[1;33m,\u001b[0m \u001b[0mop\u001b[0m\u001b[1;33m)\u001b[0m\u001b[1;33m:\u001b[0m\u001b[1;33m\u001b[0m\u001b[1;33m\u001b[0m\u001b[0m\n\u001b[0;32m   7882\u001b[0m         \u001b[0maxis\u001b[0m\u001b[1;33m:\u001b[0m \u001b[0mLiteral\u001b[0m\u001b[1;33m[\u001b[0m\u001b[1;36m1\u001b[0m\u001b[1;33m]\u001b[0m \u001b[1;33m=\u001b[0m \u001b[1;36m1\u001b[0m  \u001b[1;31m# only relevant for Series other case\u001b[0m\u001b[1;33m\u001b[0m\u001b[1;33m\u001b[0m\u001b[0m\n\u001b[0;32m   7883\u001b[0m \u001b[1;33m\u001b[0m\u001b[0m\n\u001b[1;32m-> 7884\u001b[1;33m         \u001b[0mself\u001b[0m\u001b[1;33m,\u001b[0m \u001b[0mother\u001b[0m \u001b[1;33m=\u001b[0m \u001b[0mself\u001b[0m\u001b[1;33m.\u001b[0m\u001b[0m_align_for_op\u001b[0m\u001b[1;33m(\u001b[0m\u001b[0mother\u001b[0m\u001b[1;33m,\u001b[0m \u001b[0maxis\u001b[0m\u001b[1;33m,\u001b[0m \u001b[0mflex\u001b[0m\u001b[1;33m=\u001b[0m\u001b[1;32mFalse\u001b[0m\u001b[1;33m,\u001b[0m \u001b[0mlevel\u001b[0m\u001b[1;33m=\u001b[0m\u001b[1;32mNone\u001b[0m\u001b[1;33m)\u001b[0m\u001b[1;33m\u001b[0m\u001b[1;33m\u001b[0m\u001b[0m\n\u001b[0m\u001b[0;32m   7885\u001b[0m \u001b[1;33m\u001b[0m\u001b[0m\n\u001b[0;32m   7886\u001b[0m         \u001b[1;31m# See GH#4537 for discussion of scalar op behavior\u001b[0m\u001b[1;33m\u001b[0m\u001b[1;33m\u001b[0m\u001b[0m\n\u001b[0;32m   7887\u001b[0m         \u001b[0mnew_data\u001b[0m \u001b[1;33m=\u001b[0m \u001b[0mself\u001b[0m\u001b[1;33m.\u001b[0m\u001b[0m_dispatch_frame_op\u001b[0m\u001b[1;33m(\u001b[0m\u001b[0mother\u001b[0m\u001b[1;33m,\u001b[0m \u001b[0mop\u001b[0m\u001b[1;33m,\u001b[0m \u001b[0maxis\u001b[0m\u001b[1;33m=\u001b[0m\u001b[0maxis\u001b[0m\u001b[1;33m)\u001b[0m\u001b[1;33m\u001b[0m\u001b[1;33m\u001b[0m\u001b[0m\n",
      "\u001b[1;32m~\\anaconda3\\envs\\NES\\Lib\\site-packages\\pandas\\core\\frame.py\u001b[0m in \u001b[0;36m?\u001b[1;34m(self, other, axis, flex, level)\u001b[0m\n\u001b[0;32m   8179\u001b[0m                     left, right = left.align(\n\u001b[0;32m   8180\u001b[0m                         \u001b[0mright\u001b[0m\u001b[1;33m,\u001b[0m \u001b[0mjoin\u001b[0m\u001b[1;33m=\u001b[0m\u001b[1;34m\"outer\"\u001b[0m\u001b[1;33m,\u001b[0m \u001b[0mlevel\u001b[0m\u001b[1;33m=\u001b[0m\u001b[0mlevel\u001b[0m\u001b[1;33m,\u001b[0m \u001b[0mcopy\u001b[0m\u001b[1;33m=\u001b[0m\u001b[1;32mFalse\u001b[0m\u001b[1;33m\u001b[0m\u001b[1;33m\u001b[0m\u001b[0m\n\u001b[0;32m   8181\u001b[0m                     )\n\u001b[0;32m   8182\u001b[0m                 \u001b[1;32melse\u001b[0m\u001b[1;33m:\u001b[0m\u001b[1;33m\u001b[0m\u001b[1;33m\u001b[0m\u001b[0m\n\u001b[1;32m-> 8183\u001b[1;33m                     raise ValueError(\n\u001b[0m\u001b[0;32m   8184\u001b[0m                         \u001b[1;34m\"Can only compare identically-labeled (both index and columns) \"\u001b[0m\u001b[1;33m\u001b[0m\u001b[1;33m\u001b[0m\u001b[0m\n\u001b[0;32m   8185\u001b[0m                         \u001b[1;34m\"DataFrame objects\"\u001b[0m\u001b[1;33m\u001b[0m\u001b[1;33m\u001b[0m\u001b[0m\n\u001b[0;32m   8186\u001b[0m                     )\n",
      "\u001b[1;31mValueError\u001b[0m: Can only compare identically-labeled (both index and columns) DataFrame objects"
     ]
    }
   ],
   "source": [
    "fir_col_name =  'is_first_place'   # insert name of your new column with is_first_place as str\n",
    "last_col_name =   'is_last_place' # insert name of your new column with is_last_place as str\n",
    "\n",
    "\n",
    "assert((data_1[data_1[fir_col_name].isna() == False][['id']].sort_values('id').reset_index(drop=True)\n",
    "        ==\n",
    "        check_df[check_df['is_first_place'].isna() == False][['id']].sort_values('id').reset_index(drop=True)\n",
    "       ).id.values).all()\n",
    "\n",
    "\n",
    "assert((df[df[last_col_name].isna() == False][['id']].sort_values('id').reset_index(drop=True)\n",
    "       ==\n",
    "       check_df[check_df['is_last_place'].isna() == False][['id']].sort_values('id').reset_index(drop=True)\n",
    "      ).id.values).all()"
   ]
  },
  {
   "cell_type": "markdown",
   "metadata": {
    "id": "RO6DwNNFhLu6"
   },
   "source": [
    "#### 3. [2 балла] Проведите все три волны отбора студентов на курсы по выбору"
   ]
  },
  {
   "cell_type": "code",
   "execution_count": null,
   "metadata": {
    "id": "jn2OOrLjhLu6"
   },
   "outputs": [],
   "source": [
    "# (￣^￣)ゞ"
   ]
  },
  {
   "cell_type": "markdown",
   "metadata": {
    "id": "1xQjV9BuhLu6"
   },
   "source": [
    "**Отправьте свой файл res_fall.csv в контест (будет в ближайшее время, следите за новостями) и прикрепите/укажите ниже ваш никнейм и ссылку на успешную посылку.**"
   ]
  },
  {
   "cell_type": "markdown",
   "metadata": {
    "id": "QRTbPrgbhLu6"
   },
   "source": [
    "*Дисклеймер:*\n",
    "\n",
    "Успешная посылка в контесте является **обязательным** условием получения полного балла за этот (и следующий) пункт. Если добиться успешной посылки не удастся, баллы будут выставляться на усмотрение проверяюшего.\n",
    "\n",
    "При этом ОК в контесте не гарантирует полный балл. Оценка всё равно может быть снижена в случае обнаружения неэффективностей или ошибок в коде. Если вы сдадите в AnyTask очевидно неработающий код или ноутбук без кода, но при этом в контест будет сдан корректный файл, то это будет расцениваться как плагиат."
   ]
  },
  {
   "cell_type": "markdown",
   "metadata": {
    "id": "1IkQa_gdhLu6"
   },
   "source": [
    "На всякий случай просим вас сдать вместе с ноутбуком файл res_fall.csv в anytask"
   ]
  },
  {
   "cell_type": "markdown",
   "metadata": {
    "id": "k8d711qGhLu7"
   },
   "source": [
    "### 4. [1 балла] Распределите таким же образом студентов еще и на весенние курсы по выбору.\n",
    "\n",
    "Если ваш код был хорошо структурирован, то это не составит проблем.\n",
    "\n",
    "Если вы выполнили это задание, сдайте среди прочего файл res_spring.csv в таком же формате, как и res_fall.csv."
   ]
  },
  {
   "cell_type": "code",
   "execution_count": null,
   "metadata": {
    "id": "hwmusOGThLu7"
   },
   "outputs": [],
   "source": [
    "# (￣^'￣)ゞ"
   ]
  },
  {
   "cell_type": "markdown",
   "metadata": {
    "id": "It7QQZLYhLu7"
   },
   "source": [
    "**Отправьте свой файл res_spring.csv в контест (будет в ближайшее время, следите за новостями) и прикрепите/укажите ниже ваш никнейм и ссылку на успешную посылку.**"
   ]
  },
  {
   "cell_type": "markdown",
   "metadata": {
    "id": "1YcouVTihLu7"
   },
   "source": [
    "На всякий случай просим вас сдать вместе с ноутбуком файл res_spring.csv в anytask"
   ]
  },
  {
   "cell_type": "markdown",
   "metadata": {
    "id": "uY_OY6inhLu7"
   },
   "source": [
    "Вставьте картинку, описывающую ваш опыт выполнения этого задания:"
   ]
  },
  {
   "cell_type": "code",
   "execution_count": null,
   "metadata": {
    "id": "R9_7CnSFhLu7"
   },
   "outputs": [],
   "source": []
  }
 ],
 "metadata": {
  "colab": {
   "provenance": []
  },
  "kernelspec": {
   "display_name": "Python 3 (ipykernel)",
   "language": "python",
   "name": "python3"
  },
  "language_info": {
   "codemirror_mode": {
    "name": "ipython",
    "version": 3
   },
   "file_extension": ".py",
   "mimetype": "text/x-python",
   "name": "python",
   "nbconvert_exporter": "python",
   "pygments_lexer": "ipython3",
   "version": "3.11.8"
  },
  "varInspector": {
   "cols": {
    "lenName": 16,
    "lenType": 16,
    "lenVar": 40
   },
   "kernels_config": {
    "python": {
     "delete_cmd_postfix": "",
     "delete_cmd_prefix": "del ",
     "library": "var_list.py",
     "varRefreshCmd": "print(var_dic_list())"
    },
    "r": {
     "delete_cmd_postfix": ") ",
     "delete_cmd_prefix": "rm(",
     "library": "var_list.r",
     "varRefreshCmd": "cat(var_dic_list()) "
    }
   },
   "types_to_exclude": [
    "module",
    "function",
    "builtin_function_or_method",
    "instance",
    "_Feature"
   ],
   "window_display": false
  },
  "vscode": {
   "interpreter": {
    "hash": "e7370f93d1d0cde622a1f8e1c04877d8463912d04d973331ad4851f04de6915a"
   }
  }
 },
 "nbformat": 4,
 "nbformat_minor": 4
}
