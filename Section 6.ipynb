{
 "cells": [
  {
   "cell_type": "markdown",
   "metadata": {
    "id": "ed_13K3e8NfR"
   },
   "source": [
    "# **<center> Introduction to Python for Practical Problems </center>**\n",
    "# **<center> New Economic School, MAE 2025 </center>**\n",
    "## **<center> Section 6 </center>**\n",
    "\n",
    "План:\n",
    "\n",
    "    1. Чтение и запись файлов\n",
    "        1.1. Файлы типа .txt\n",
    "            1.1.1. Открытие файла в режиме чтения\n",
    "            1.1.2. Открытие файла в режиме записи\n",
    "            1.1.3. Открытие файла в режиме присоединения\n",
    "            1.1.4. Открытие файла при помощи конструкции with open()\n",
    "        1.2. Файлы типа .json\n",
    "            1.2.1. Запись элементов в .json\n",
    "            1.2.2. Чтение содержимого .json \n",
    "    2. Генераторы\n",
    "    3. Статистика и библиотека SciPy\n",
    "        3.1. Пример с нормальным распределением\n",
    "            3.1.1. Функция плотности вероятности (PDF)\n",
    "            3.1.2. Кумулятивная функция распределения (CDF)\n",
    "            3.1.3. Доверительные интервалы\n",
    "            3.1.4. Тест на нормальность распределения\n",
    "            3.1.5. Другие тесты\n",
    "    4. Оптимизация\n",
    "    5. Получение данных с помощью Pandas из различных ресурсов\n",
    "    6. Скрапинг данных (базово)\n",
    "        6.1. Получение данных с сайта\n",
    "        6.2. Выгрузка файлов с сайтов"
   ]
  },
  {
   "cell_type": "code",
   "execution_count": 1,
   "metadata": {
    "id": "sNnXYUX88Cte"
   },
   "outputs": [],
   "source": [
    "import pandas as pd\n",
    "import numpy as np\n",
    "\n",
    "import matplotlib.pylab as plt\n",
    "\n",
    "import warnings\n",
    "warnings.simplefilter(\"ignore\")"
   ]
  },
  {
   "cell_type": "markdown",
   "metadata": {
    "id": "t8DoRWS98_pY"
   },
   "source": [
    "# 1. Чтение и запись файлов"
   ]
  },
  {
   "cell_type": "markdown",
   "metadata": {
    "id": "Lt9eOyFvsZp7"
   },
   "source": [
    "Для того, чтобы работать с текстовым файлом, требуется его открыть. Сделать это можно через встроенный метод `open()`, в котором надо прописать путь до файла (включая название и расширение файла). Данный метод вернет объект файла, который содержит в себе различные методы.\n",
    "\n",
    "В Python файлы категоризованы на бинарные и текстовые, где текстовые представляют из себя последовательность строк (а каждая строка является псоедовательностью символов). Каждая строка заканчивается специальным символом перевода строки - `\"\\n\"`. Бинарным файлом считается любой нетекстовый файл. \n",
    "\n",
    "Если с файлом проведены все операции, его можно закрыть, взяв от него мтеод `.close()`. Мотивацией может служить более оптимальное расходование ресурсов, а также желание избежать каких-либо непредусмотренных ошибок в дальнейшем.\n",
    "\n",
    "Чтобы получить все содержимое файла (всю строку), нужно использовать метод `.read()` к открытому файлу. Повторное применение этого метода вернет пустую строку."
   ]
  },
  {
   "cell_type": "markdown",
   "metadata": {},
   "source": [
    "## 1.1. Файлы типа `.txt`"
   ]
  },
  {
   "cell_type": "code",
   "execution_count": 2,
   "metadata": {
    "colab": {
     "base_uri": "https://localhost:8080/",
     "height": 52
    },
    "id": "l78aOBEi9CEc",
    "outputId": "c9ec12d4-bfb3-4024-d9c9-f658d136bcdf"
   },
   "outputs": [
    {
     "data": {
      "text/plain": [
       "'id;column_1;column_2;column_3;column_4;column_5\\n1;4;Moscow;June;2019;257\\n2;7;Moscow;June;2019;304\\n3;5;Novgorod;July;2018;435\\n10;9;Kazan;September;2020;270\\n14;3;Saint Petersburg;November;2019;342'"
      ]
     },
     "execution_count": 2,
     "metadata": {},
     "output_type": "execute_result"
    }
   ],
   "source": [
    "data = open('Section_6_Data.txt')\n",
    "\n",
    "data.read()"
   ]
  },
  {
   "cell_type": "code",
   "execution_count": 3,
   "metadata": {
    "colab": {
     "base_uri": "https://localhost:8080/",
     "height": 35
    },
    "id": "N2iKXA7P_5bK",
    "outputId": "10e69283-ce66-4030-b23d-849b5e23e840"
   },
   "outputs": [
    {
     "data": {
      "text/plain": [
       "''"
      ]
     },
     "execution_count": 3,
     "metadata": {},
     "output_type": "execute_result"
    }
   ],
   "source": [
    "data.read()"
   ]
  },
  {
   "cell_type": "code",
   "execution_count": 4,
   "metadata": {
    "id": "GeRg7xtr_6WQ"
   },
   "outputs": [],
   "source": [
    "data.close()"
   ]
  },
  {
   "cell_type": "markdown",
   "metadata": {
    "id": "AMvznxXr91z4"
   },
   "source": [
    "Открывать файлы можно в режиме чтения (**r**), в режиме записи (**w**), в режиме чтения и записи (**r+**), а также в режиме добавления (**a**). В режиме добавления записи добавятся в конец содержимого файла."
   ]
  },
  {
   "cell_type": "markdown",
   "metadata": {},
   "source": [
    "### 1.1.1. Открытие файла в режиме чтения"
   ]
  },
  {
   "cell_type": "markdown",
   "metadata": {},
   "source": [
    "При открытии файла в режиме чтения вы не сможете записать в него ничего. При прочтении файла в режиме записи вы, напротив, не сможете прочесть его содержимое."
   ]
  },
  {
   "cell_type": "code",
   "execution_count": 5,
   "metadata": {
    "colab": {
     "base_uri": "https://localhost:8080/"
    },
    "id": "dUtXqMdUAQyQ",
    "outputId": "23b49c58-3c99-4cf0-a0a6-c09ad65416c4"
   },
   "outputs": [
    {
     "name": "stdout",
     "output_type": "stream",
     "text": [
      "id;column_1;column_2;column_3;column_4;column_5\n",
      "1;4;Moscow;June;2019;257\n",
      "2;7;Moscow;June;2019;304\n",
      "3;5;Novgorod;July;2018;435\n",
      "10;9;Kazan;September;2020;270\n",
      "14;3;Saint Petersburg;November;2019;342\n"
     ]
    }
   ],
   "source": [
    "data = open('Section_6_Data.txt', mode='r')\n",
    "\n",
    "print(data.read())"
   ]
  },
  {
   "cell_type": "markdown",
   "metadata": {
    "id": "6BfukZgeAF81"
   },
   "source": [
    "Файл мы открыли в режиме чтения. Запись в файл невозможна."
   ]
  },
  {
   "cell_type": "code",
   "execution_count": 7,
   "metadata": {
    "colab": {
     "base_uri": "https://localhost:8080/",
     "height": 164
    },
    "id": "FwRPVHoRACGS",
    "outputId": "505f8194-76cf-45ca-ad74-294018002069"
   },
   "outputs": [],
   "source": [
    "# data.write('something_new\\n')"
   ]
  },
  {
   "cell_type": "code",
   "execution_count": 8,
   "metadata": {
    "id": "NJ0P-VCwALSk"
   },
   "outputs": [],
   "source": [
    "data.close()"
   ]
  },
  {
   "cell_type": "markdown",
   "metadata": {
    "id": "CFdtLaBdAMgp"
   },
   "source": [
    "В методе `.read()`, примененному к открытому файлу, можно указать аргументом число символов, которые хочется вывести. Пример ниже."
   ]
  },
  {
   "cell_type": "code",
   "execution_count": 9,
   "metadata": {
    "colab": {
     "base_uri": "https://localhost:8080/"
    },
    "id": "wBu_qisdAWAF",
    "outputId": "9b059539-9e93-429e-edab-eb9188eda7e0"
   },
   "outputs": [
    {
     "name": "stdout",
     "output_type": "stream",
     "text": [
      "id;column_1\n"
     ]
    }
   ],
   "source": [
    "data = open('Section_6_Data.txt')\n",
    "\n",
    "print(data.read(11))\n",
    "\n",
    "data.close()"
   ]
  },
  {
   "cell_type": "code",
   "execution_count": 10,
   "metadata": {
    "id": "VkvCDWFJBVuG"
   },
   "outputs": [],
   "source": [
    "data = open('Section_6_Data.txt')"
   ]
  },
  {
   "cell_type": "markdown",
   "metadata": {
    "id": "CbTG2aZnAbhk"
   },
   "source": [
    "Метод `.readline()` позволяет считывать по строке/линии файла за 1 итерацию.\n",
    "\n",
    "Данный метод при его вызове выдает следующую строчку. При вызове метода, когда содержимое файла исчерпано, будет возвращаться пустая строка."
   ]
  },
  {
   "cell_type": "code",
   "execution_count": 11,
   "metadata": {
    "colab": {
     "base_uri": "https://localhost:8080/"
    },
    "id": "C4RYD12rBd-_",
    "outputId": "08026913-804f-4c76-e29a-cd03ec52f5bd"
   },
   "outputs": [
    {
     "name": "stdout",
     "output_type": "stream",
     "text": [
      "id;column_1;column_2;column_3;column_4;column_5\n",
      "\n",
      "1;4;Moscow;June;2019;257\n",
      "\n",
      "2;7;Moscow;June;2019;304\n",
      "\n"
     ]
    }
   ],
   "source": [
    "for _ in range(3):\n",
    "    print(data.readline())"
   ]
  },
  {
   "cell_type": "code",
   "execution_count": 12,
   "metadata": {
    "id": "JPthWxQPAz3S"
   },
   "outputs": [],
   "source": [
    "data.close()"
   ]
  },
  {
   "cell_type": "markdown",
   "metadata": {
    "id": "bJqoLW1IA2QP"
   },
   "source": [
    "Чтобы прочесть все строки/линии сразу можно воспользоваться методом `.readlines`()"
   ]
  },
  {
   "cell_type": "code",
   "execution_count": 13,
   "metadata": {
    "colab": {
     "base_uri": "https://localhost:8080/"
    },
    "id": "RYaap80hBhqg",
    "outputId": "104cf2c9-b495-4442-b531-6e2cc0d21124"
   },
   "outputs": [
    {
     "name": "stdout",
     "output_type": "stream",
     "text": [
      "id;column_1;column_2;column_3;column_4;column_5\n",
      " 1;4;Moscow;June;2019;257\n",
      " 2;7;Moscow;June;2019;304\n",
      " 3;5;Novgorod;July;2018;435\n",
      " 10;9;Kazan;September;2020;270\n",
      " 14;3;Saint Petersburg;November;2019;342\n"
     ]
    }
   ],
   "source": [
    "data = open('Section_6_Data.txt')\n",
    "\n",
    "print(*data.readlines())\n",
    "\n",
    "data.close()"
   ]
  },
  {
   "cell_type": "markdown",
   "metadata": {
    "id": "1bYXX6VWA9-R"
   },
   "source": [
    "Также можно итерироваться по строкам в цикле."
   ]
  },
  {
   "cell_type": "code",
   "execution_count": 14,
   "metadata": {
    "colab": {
     "base_uri": "https://localhost:8080/"
    },
    "id": "ufw7rkBWBoBC",
    "outputId": "8afe365f-af35-4f50-e1f2-4a5460d37780"
   },
   "outputs": [
    {
     "name": "stdout",
     "output_type": "stream",
     "text": [
      "id;column_1;column_2;column_3;column_4;column_5\n",
      "\n",
      "1;4;Moscow;June;2019;257\n",
      "\n",
      "2;7;Moscow;June;2019;304\n",
      "\n",
      "3;5;Novgorod;July;2018;435\n",
      "\n",
      "10;9;Kazan;September;2020;270\n",
      "\n",
      "14;3;Saint Petersburg;November;2019;342\n"
     ]
    }
   ],
   "source": [
    "data = open('Section_6_Data.txt')\n",
    "\n",
    "for line in data: \n",
    "    print(line)\n",
    "\n",
    "data.close() "
   ]
  },
  {
   "cell_type": "markdown",
   "metadata": {
    "id": "pDbRc1QFBGJc"
   },
   "source": [
    "После закрытия файла уже нельзя будет работать с ним."
   ]
  },
  {
   "cell_type": "code",
   "execution_count": 17,
   "metadata": {
    "colab": {
     "base_uri": "https://localhost:8080/",
     "height": 181
    },
    "id": "7eSsaF5pCWer",
    "outputId": "c3e3960f-a517-42f8-9df3-2e9fadad92d9"
   },
   "outputs": [],
   "source": [
    "# for line in data: \n",
    "#     print(line)"
   ]
  },
  {
   "cell_type": "markdown",
   "metadata": {},
   "source": [
    "### 1.1.2. Открытие файла в режиме записи"
   ]
  },
  {
   "cell_type": "markdown",
   "metadata": {
    "id": "s-OgTcNbBKSY"
   },
   "source": [
    "В файл также можно записывать строки через метод `.write()` (по 1-й строке за раз). Для этого откроем другой текстовый файл (который необязательно создавать заранее - запись в файл, который не существует, автоматически создаст его, файл будет пустым; подобный трюк не прокатит с режимом чтения)"
   ]
  },
  {
   "cell_type": "code",
   "execution_count": 18,
   "metadata": {
    "colab": {
     "base_uri": "https://localhost:8080/"
    },
    "id": "kZMOmI4zCbOe",
    "outputId": "b38c2fdf-f044-4e14-cdb3-2cf97d148a46"
   },
   "outputs": [
    {
     "data": {
      "text/plain": [
       "21"
      ]
     },
     "execution_count": 18,
     "metadata": {},
     "output_type": "execute_result"
    }
   ],
   "source": [
    "data = open('Section_6_Data_New.txt', mode='w')\n",
    "\n",
    "data.write(\"Something for line 1\\n\") \n",
    "data.write(\"Something for line 2\\n\")\n",
    "data.write(\"Something for line 3\\n\") "
   ]
  },
  {
   "cell_type": "markdown",
   "metadata": {
    "id": "vrDfR6FhBy7S"
   },
   "source": [
    "Файл открыт на запись, прочитать его не можем."
   ]
  },
  {
   "cell_type": "code",
   "execution_count": 21,
   "metadata": {
    "colab": {
     "base_uri": "https://localhost:8080/",
     "height": 164
    },
    "id": "vQ-yR2PmDNGF",
    "outputId": "13b1368a-576b-45ea-885c-8b91acccd42c"
   },
   "outputs": [],
   "source": [
    "# data.read()"
   ]
  },
  {
   "cell_type": "code",
   "execution_count": 22,
   "metadata": {
    "id": "r3dVITMtDIDd"
   },
   "outputs": [],
   "source": [
    "data.close() "
   ]
  },
  {
   "cell_type": "markdown",
   "metadata": {
    "id": "jdrdnsrcB3BC"
   },
   "source": [
    "Прочтем и посмотрим, прошла ли запись"
   ]
  },
  {
   "cell_type": "code",
   "execution_count": 23,
   "metadata": {
    "colab": {
     "base_uri": "https://localhost:8080/"
    },
    "id": "9F5dNyKHD6qk",
    "outputId": "75d02bc0-2d3b-4d72-8b96-289ecbf7eff8"
   },
   "outputs": [
    {
     "name": "stdout",
     "output_type": "stream",
     "text": [
      "Something for line 1\n",
      "Something for line 2\n",
      "Something for line 3\n",
      "\n"
     ]
    }
   ],
   "source": [
    "data = open('Section_6_Data_New.txt', mode='r')\n",
    "\n",
    "print(data.read())\n",
    "\n",
    "data.close()"
   ]
  },
  {
   "cell_type": "markdown",
   "metadata": {},
   "source": [
    "### 1.1.3. Открытие файла в режиме присоединения"
   ]
  },
  {
   "cell_type": "markdown",
   "metadata": {
    "id": "KXvOKO1LB5fX"
   },
   "source": [
    "Тепреь давайте присоединим еще 1 строку с помощью режиме присоединения (`mode = 'a'`)"
   ]
  },
  {
   "cell_type": "code",
   "execution_count": 24,
   "metadata": {
    "id": "0tpNiRiNDSIL"
   },
   "outputs": [],
   "source": [
    "data = open('Section_6_Data_New.txt', mode='a')\n",
    "\n",
    "data.write(\"Something for line 4\\n\") \n",
    "\n",
    "data.close()"
   ]
  },
  {
   "cell_type": "code",
   "execution_count": 25,
   "metadata": {
    "colab": {
     "base_uri": "https://localhost:8080/"
    },
    "id": "NNwH57d4D2y4",
    "outputId": "1aaef485-0cd5-4579-d0c8-f13d637eed5a"
   },
   "outputs": [
    {
     "name": "stdout",
     "output_type": "stream",
     "text": [
      "Something for line 1\n",
      "Something for line 2\n",
      "Something for line 3\n",
      "Something for line 4\n",
      "\n"
     ]
    }
   ],
   "source": [
    "data = open('Section_6_Data_New.txt', mode='r')\n",
    "\n",
    "print(data.read())\n",
    "\n",
    "data.close()"
   ]
  },
  {
   "cell_type": "markdown",
   "metadata": {
    "id": "438ffp-5CCl7"
   },
   "source": [
    "Можно также в файл записывать несколько строк сразу через метод `.writelines()`, подав методу массив из строк."
   ]
  },
  {
   "cell_type": "code",
   "execution_count": 26,
   "metadata": {
    "id": "hy2rjKvVEFuz"
   },
   "outputs": [],
   "source": [
    "data = open('Section_6_Data_New.txt', mode='a')\n",
    "\n",
    "text_lines = [\"Something for line 5\\n\", \n",
    "              \"Something for line 6\\n\", \n",
    "              \"Something for line 7\\n\"] \n",
    "\n",
    "data.writelines(text_lines) \n",
    "\n",
    "data.close() "
   ]
  },
  {
   "cell_type": "code",
   "execution_count": 27,
   "metadata": {
    "colab": {
     "base_uri": "https://localhost:8080/"
    },
    "id": "OAd4v6oLEZWT",
    "outputId": "36c784b4-f45a-4180-f3c2-fdca5e143d06"
   },
   "outputs": [
    {
     "name": "stdout",
     "output_type": "stream",
     "text": [
      "Something for line 1\n",
      "Something for line 2\n",
      "Something for line 3\n",
      "Something for line 4\n",
      "Something for line 5\n",
      "Something for line 6\n",
      "Something for line 7\n",
      "\n"
     ]
    }
   ],
   "source": [
    "data = open('Section_6_Data_New.txt', mode='r')\n",
    "\n",
    "print(data.read())\n",
    "\n",
    "data.close()"
   ]
  },
  {
   "cell_type": "markdown",
   "metadata": {
    "id": "A2-ehTJ8CMQJ"
   },
   "source": [
    "Метод записи же для этого файла перезапишет содержимое."
   ]
  },
  {
   "cell_type": "code",
   "execution_count": 28,
   "metadata": {
    "id": "v0vlJHoQEa1u"
   },
   "outputs": [],
   "source": [
    "data = open('Section_6_Data_New.txt', mode='w')\n",
    "\n",
    "data.write('Something for line 8\\n')\n",
    "\n",
    "data.close()"
   ]
  },
  {
   "cell_type": "code",
   "execution_count": 29,
   "metadata": {
    "colab": {
     "base_uri": "https://localhost:8080/"
    },
    "id": "eMCvvsfzEm50",
    "outputId": "1c2709c6-7a8f-49c4-dd44-c8f117577a11"
   },
   "outputs": [
    {
     "name": "stdout",
     "output_type": "stream",
     "text": [
      "Something for line 8\n",
      "\n"
     ]
    }
   ],
   "source": [
    "data = open('Section_6_Data_New.txt', mode='r')\n",
    "\n",
    "print(data.read())\n",
    "\n",
    "data.close()"
   ]
  },
  {
   "cell_type": "markdown",
   "metadata": {},
   "source": [
    "### 1.1.4. Открытие файла при помощи конструкции `with open()`"
   ]
  },
  {
   "cell_type": "markdown",
   "metadata": {
    "id": "ScwwMRDXCUt-"
   },
   "source": [
    "Также при работе с файлами можно использовать выражение `with`, которое в данном случае открывает файл, выполняет операции под своим блоком (код под блоком `with`) и автоматически закрывает файл. Таким образом, не надо прописывать закрытие файла. Вдобавок, можно считать это выражении при работе с файлами некой страховкой."
   ]
  },
  {
   "cell_type": "code",
   "execution_count": 30,
   "metadata": {
    "id": "dPctfuw5EojA"
   },
   "outputs": [],
   "source": [
    "with open('Section_6_Data.txt', mode='r') as file:\n",
    "    data = file.read()"
   ]
  },
  {
   "cell_type": "code",
   "execution_count": 31,
   "metadata": {
    "colab": {
     "base_uri": "https://localhost:8080/"
    },
    "id": "uP1jmA_EDLg1",
    "outputId": "17bebf3b-126a-4205-cc1c-39fbce17fdce"
   },
   "outputs": [
    {
     "name": "stdout",
     "output_type": "stream",
     "text": [
      "id;column_1;column_2;column_3;column_4;column_5\n",
      "1;4;Moscow;June;2019;257\n",
      "2;7;Moscow;June;2019;304\n",
      "3;5;Novgorod;July;2018;435\n",
      "10;9;Kazan;September;2020;270\n",
      "14;3;Saint Petersburg;November;2019;342\n"
     ]
    }
   ],
   "source": [
    "print(data)"
   ]
  },
  {
   "cell_type": "code",
   "execution_count": 32,
   "metadata": {
    "colab": {
     "base_uri": "https://localhost:8080/"
    },
    "id": "i5ENGdWsDEl8",
    "outputId": "54a2ec83-0512-4675-df5e-bc751f7a2239"
   },
   "outputs": [
    {
     "name": "stdout",
     "output_type": "stream",
     "text": [
      "id;column_1;column_2;column_3;column_4;column_5\n",
      "\n",
      "1;4;Moscow;June;2019;257\n",
      "\n",
      "2;7;Moscow;June;2019;304\n",
      "\n",
      "3;5;Novgorod;July;2018;435\n",
      "\n",
      "10;9;Kazan;September;2020;270\n",
      "\n",
      "14;3;Saint Petersburg;November;2019;342\n"
     ]
    }
   ],
   "source": [
    "with open('Section_6_Data.txt', mode='r') as file:\n",
    "    for line in file:\n",
    "        print(line)"
   ]
  },
  {
   "cell_type": "markdown",
   "metadata": {
    "id": "9XIGzANADOdz"
   },
   "source": [
    "Т.к. файл автоматически закрывается, дальше работать с ним не получится"
   ]
  },
  {
   "cell_type": "code",
   "execution_count": 36,
   "metadata": {
    "colab": {
     "base_uri": "https://localhost:8080/",
     "height": 164
    },
    "id": "y9mIVMvlFJ3_",
    "outputId": "db6f0dc0-085c-4383-9361-093e923916e0"
   },
   "outputs": [],
   "source": [
    "# file.read()"
   ]
  },
  {
   "cell_type": "code",
   "execution_count": 37,
   "metadata": {
    "id": "49FKYzFDFm0F"
   },
   "outputs": [],
   "source": [
    "with open('Section_6_Data.txt', mode='r') as file:\n",
    "    data = file.readlines()"
   ]
  },
  {
   "cell_type": "code",
   "execution_count": 38,
   "metadata": {
    "colab": {
     "base_uri": "https://localhost:8080/"
    },
    "id": "a6wY6l13FodV",
    "outputId": "89f7d23b-22ea-4c2d-e067-e7d18c8d14d5"
   },
   "outputs": [
    {
     "data": {
      "text/plain": [
       "['id;column_1;column_2;column_3;column_4;column_5\\n',\n",
       " '1;4;Moscow;June;2019;257\\n',\n",
       " '2;7;Moscow;June;2019;304\\n',\n",
       " '3;5;Novgorod;July;2018;435\\n',\n",
       " '10;9;Kazan;September;2020;270\\n',\n",
       " '14;3;Saint Petersburg;November;2019;342']"
      ]
     },
     "execution_count": 38,
     "metadata": {},
     "output_type": "execute_result"
    }
   ],
   "source": [
    "data"
   ]
  },
  {
   "cell_type": "markdown",
   "metadata": {
    "id": "p18LgN96Evg1"
   },
   "source": [
    "Можно пройтись по строкам внутри списка и для каждой строки сделать список из ее элементов, убрав символ перевода строки и разбив строку на элементы с помощью методов `.rstrip()` и потом `.split(sep)`"
   ]
  },
  {
   "cell_type": "code",
   "execution_count": 39,
   "metadata": {
    "colab": {
     "base_uri": "https://localhost:8080/"
    },
    "id": "N_MKWVXvFNYc",
    "outputId": "15aa4884-2abf-4f5a-8842-3d4fba1ae304"
   },
   "outputs": [
    {
     "data": {
      "text/plain": [
       "[['id', 'column_1', 'column_2', 'column_3', 'column_4', 'column_5'],\n",
       " ['1', '4', 'Moscow', 'June', '2019', '257'],\n",
       " ['2', '7', 'Moscow', 'June', '2019', '304'],\n",
       " ['3', '5', 'Novgorod', 'July', '2018', '435'],\n",
       " ['10', '9', 'Kazan', 'September', '2020', '270'],\n",
       " ['14', '3', 'Saint Petersburg', 'November', '2019', '342']]"
      ]
     },
     "execution_count": 39,
     "metadata": {},
     "output_type": "execute_result"
    }
   ],
   "source": [
    "text_lines = []\n",
    "\n",
    "for i in data:\n",
    "    text_lines.append(i.rstrip().split(';'))\n",
    "\n",
    "text_lines"
   ]
  },
  {
   "cell_type": "markdown",
   "metadata": {
    "id": "rkAGGuV0E8-v"
   },
   "source": [
    "Теперь удобно представить данные в виде датафрейма"
   ]
  },
  {
   "cell_type": "code",
   "execution_count": 40,
   "metadata": {
    "colab": {
     "base_uri": "https://localhost:8080/",
     "height": 204
    },
    "id": "Dysa8iMRF82u",
    "outputId": "a903f4e8-161a-4042-87a9-b387dabc9292"
   },
   "outputs": [
    {
     "data": {
      "text/html": [
       "<div>\n",
       "<style scoped>\n",
       "    .dataframe tbody tr th:only-of-type {\n",
       "        vertical-align: middle;\n",
       "    }\n",
       "\n",
       "    .dataframe tbody tr th {\n",
       "        vertical-align: top;\n",
       "    }\n",
       "\n",
       "    .dataframe thead th {\n",
       "        text-align: right;\n",
       "    }\n",
       "</style>\n",
       "<table border=\"1\" class=\"dataframe\">\n",
       "  <thead>\n",
       "    <tr style=\"text-align: right;\">\n",
       "      <th></th>\n",
       "      <th>id</th>\n",
       "      <th>column_1</th>\n",
       "      <th>column_2</th>\n",
       "      <th>column_3</th>\n",
       "      <th>column_4</th>\n",
       "      <th>column_5</th>\n",
       "    </tr>\n",
       "  </thead>\n",
       "  <tbody>\n",
       "    <tr>\n",
       "      <th>0</th>\n",
       "      <td>1</td>\n",
       "      <td>4</td>\n",
       "      <td>Moscow</td>\n",
       "      <td>June</td>\n",
       "      <td>2019</td>\n",
       "      <td>257</td>\n",
       "    </tr>\n",
       "    <tr>\n",
       "      <th>1</th>\n",
       "      <td>2</td>\n",
       "      <td>7</td>\n",
       "      <td>Moscow</td>\n",
       "      <td>June</td>\n",
       "      <td>2019</td>\n",
       "      <td>304</td>\n",
       "    </tr>\n",
       "    <tr>\n",
       "      <th>2</th>\n",
       "      <td>3</td>\n",
       "      <td>5</td>\n",
       "      <td>Novgorod</td>\n",
       "      <td>July</td>\n",
       "      <td>2018</td>\n",
       "      <td>435</td>\n",
       "    </tr>\n",
       "    <tr>\n",
       "      <th>3</th>\n",
       "      <td>10</td>\n",
       "      <td>9</td>\n",
       "      <td>Kazan</td>\n",
       "      <td>September</td>\n",
       "      <td>2020</td>\n",
       "      <td>270</td>\n",
       "    </tr>\n",
       "    <tr>\n",
       "      <th>4</th>\n",
       "      <td>14</td>\n",
       "      <td>3</td>\n",
       "      <td>Saint Petersburg</td>\n",
       "      <td>November</td>\n",
       "      <td>2019</td>\n",
       "      <td>342</td>\n",
       "    </tr>\n",
       "  </tbody>\n",
       "</table>\n",
       "</div>"
      ],
      "text/plain": [
       "   id column_1          column_2   column_3 column_4 column_5\n",
       "0   1        4            Moscow       June     2019      257\n",
       "1   2        7            Moscow       June     2019      304\n",
       "2   3        5          Novgorod       July     2018      435\n",
       "3  10        9             Kazan  September     2020      270\n",
       "4  14        3  Saint Petersburg   November     2019      342"
      ]
     },
     "execution_count": 40,
     "metadata": {},
     "output_type": "execute_result"
    }
   ],
   "source": [
    "df = pd.DataFrame(data = text_lines[1:], columns = text_lines[0])\n",
    "\n",
    "df"
   ]
  },
  {
   "cell_type": "markdown",
   "metadata": {
    "id": "4dpH6RtvFHQh"
   },
   "source": [
    "Можем также проверять условия внутри файла"
   ]
  },
  {
   "cell_type": "code",
   "execution_count": 41,
   "metadata": {
    "colab": {
     "base_uri": "https://localhost:8080/"
    },
    "id": "Tdo-ZqGKGQKn",
    "outputId": "4b93035c-6062-44a1-b92a-385f7b79e1a7"
   },
   "outputs": [
    {
     "name": "stdout",
     "output_type": "stream",
     "text": [
      "id;column_1;column_2;column_3;column_4;column_5\n",
      "\n",
      "3;5;Novgorod;July;2018;435\n",
      "\n",
      "10;9;Kazan;September;2020;270\n",
      "\n",
      "14;3;Saint Petersburg;November;2019;342\n"
     ]
    }
   ],
   "source": [
    "with open('Section_6_Data.txt', mode='r') as file:\n",
    "    for line in file.readlines():\n",
    "        if 'Moscow' not in line.rstrip().split(';'):\n",
    "            print(line)"
   ]
  },
  {
   "cell_type": "markdown",
   "metadata": {},
   "source": [
    "## 1.2. Файлы типа `.json`"
   ]
  },
  {
   "cell_type": "markdown",
   "metadata": {
    "id": "WO5LIiv4FKnd"
   },
   "source": [
    "JSON -  один из наиболее часто встречаемых форматов данных. Подробнее о нем, и зачем он нужен можно прочесть [здесь](https://ru.wikipedia.org/wiki/JSON) и [здесь](https://qastack.ru/programming/383692/what-is-json-and-why-would-i-use-it)\n",
    "\n",
    "Для работы с json-файлом, давайте сперва создадим его. Зададим словарь ниже"
   ]
  },
  {
   "cell_type": "code",
   "execution_count": 42,
   "metadata": {},
   "outputs": [],
   "source": [
    "import json"
   ]
  },
  {
   "cell_type": "code",
   "execution_count": 43,
   "metadata": {
    "id": "4jbaezjAHLNL"
   },
   "outputs": [],
   "source": [
    "obj = \"\"\"\n",
    "{\"customer_id\": \"3\",\n",
    " \"place_of_living\": \"Canada\",\n",
    " \"degree\": \"masters\",\n",
    " \"majors\": [{\"name\": \"Industrial Organization\", \"n courses\": 4, \"GPA\": 4.6},\n",
    "              {\"name\": \"Finance\", \"n courses\": 7, \"GPA\": 4.9}]}\n",
    "\"\"\""
   ]
  },
  {
   "cell_type": "markdown",
   "metadata": {},
   "source": [
    "### 1.2.1. Запись элементов в `.json`"
   ]
  },
  {
   "cell_type": "markdown",
   "metadata": {
    "id": "vgY-5JTHFt4e"
   },
   "source": [
    "Запишем содержимое в переменную с помощью метода `.loads()`"
   ]
  },
  {
   "cell_type": "code",
   "execution_count": 44,
   "metadata": {
    "colab": {
     "base_uri": "https://localhost:8080/"
    },
    "id": "W6n67PbMtzpr",
    "outputId": "60650fff-5fc3-47f3-9b47-481738a2f5da"
   },
   "outputs": [
    {
     "data": {
      "text/plain": [
       "{'customer_id': '3',\n",
       " 'place_of_living': 'Canada',\n",
       " 'degree': 'masters',\n",
       " 'majors': [{'name': 'Industrial Organization', 'n courses': 4, 'GPA': 4.6},\n",
       "  {'name': 'Finance', 'n courses': 7, 'GPA': 4.9}]}"
      ]
     },
     "execution_count": 44,
     "metadata": {},
     "output_type": "execute_result"
    }
   ],
   "source": [
    "res = json.loads(obj)\n",
    "\n",
    "res"
   ]
  },
  {
   "cell_type": "markdown",
   "metadata": {
    "id": "F-1vjFd0F4-g"
   },
   "source": [
    "Запишем содержимое в файл с помощью метода `.dump()`"
   ]
  },
  {
   "cell_type": "code",
   "execution_count": 45,
   "metadata": {
    "id": "ee1DqspmuBNO"
   },
   "outputs": [],
   "source": [
    "with open('json_data.json', mode='w', encoding='utf-8') as file:\n",
    "    json.dump(res, file)"
   ]
  },
  {
   "cell_type": "markdown",
   "metadata": {},
   "source": [
    "### 1.2.2. Чтение содержимого `.json`"
   ]
  },
  {
   "cell_type": "markdown",
   "metadata": {
    "id": "TfhsjGuiGCLE"
   },
   "source": [
    "Проверим как прошла запись, прочитав файл с помощью метода `.load()`"
   ]
  },
  {
   "cell_type": "code",
   "execution_count": 46,
   "metadata": {
    "id": "4_WbkvqluJRs"
   },
   "outputs": [],
   "source": [
    "with open('json_data.json') as file:\n",
    "    data = json.load(file)"
   ]
  },
  {
   "cell_type": "code",
   "execution_count": 47,
   "metadata": {
    "colab": {
     "base_uri": "https://localhost:8080/"
    },
    "id": "HRTtNEEIu0-G",
    "outputId": "c995ba1d-6818-49bc-df99-9abf363d9ac0"
   },
   "outputs": [
    {
     "data": {
      "text/plain": [
       "{'customer_id': '3',\n",
       " 'place_of_living': 'Canada',\n",
       " 'degree': 'masters',\n",
       " 'majors': [{'name': 'Industrial Organization', 'n courses': 4, 'GPA': 4.6},\n",
       "  {'name': 'Finance', 'n courses': 7, 'GPA': 4.9}]}"
      ]
     },
     "execution_count": 47,
     "metadata": {},
     "output_type": "execute_result"
    }
   ],
   "source": [
    "data"
   ]
  },
  {
   "cell_type": "code",
   "execution_count": 48,
   "metadata": {
    "colab": {
     "base_uri": "https://localhost:8080/"
    },
    "id": "mJOeIulR9Bfc",
    "outputId": "435ff7b5-1541-4f71-d4b0-a395378c8428"
   },
   "outputs": [
    {
     "data": {
      "text/plain": [
       "dict_values(['3', 'Canada', 'masters', [{'name': 'Industrial Organization', 'n courses': 4, 'GPA': 4.6}, {'name': 'Finance', 'n courses': 7, 'GPA': 4.9}]])"
      ]
     },
     "execution_count": 48,
     "metadata": {},
     "output_type": "execute_result"
    }
   ],
   "source": [
    "data.values()"
   ]
  },
  {
   "cell_type": "markdown",
   "metadata": {
    "id": "zu4Um6gczIQI"
   },
   "source": [
    "# 2. Генераторы"
   ]
  },
  {
   "cell_type": "markdown",
   "metadata": {
    "id": "QdONXVkRGQkC"
   },
   "source": [
    "Генератор - объект, который сразу же при его создании не делает каки-либо вычислений с его элементами. Генератор хранит в памяти только последний вчисленный элемент, а также правило перехода к следующему элементу + условие, при котором переход прерывается\n",
    "\n",
    "Вычисление следующего значения происходит при вызове метода `next()` к объекту генератора.\n",
    "\n",
    "Мотивация использования можем быть в более эконом расходовании ресурсов - файлы можно прочитывать и проводить операции кусками. А, возможно, поток данных непрерывен: котировки, показания приборов и т.д. Также генераторы можно использовать при желании и/или необходимости задать какую-то свою структуру."
   ]
  },
  {
   "cell_type": "markdown",
   "metadata": {
    "id": "SSvQQkCmHQRZ"
   },
   "source": [
    "Для создания генератора требуется задать функцию, также как мы делали и раньше. Однако вместо `return` будет стоять оператор `yield`. `yield` в отличие от `return` приостанавливает работу функцию, но не завершает.\n",
    "\n",
    "При первом вызове `next()` к объекту генератора выполняется код функции с первой команды до `yield`. При втором и последующих вызовах `next()` выполняется код со следующей после `yield` команды."
   ]
  },
  {
   "cell_type": "markdown",
   "metadata": {
    "id": "IRAkXjoUH92j"
   },
   "source": [
    "Сделаем простой генератор-счетчик"
   ]
  },
  {
   "cell_type": "code",
   "execution_count": 49,
   "metadata": {
    "id": "Gl8aIs67zIZ_"
   },
   "outputs": [],
   "source": [
    "def exhaust(number):\n",
    "    a = 0\n",
    "    while a < number:\n",
    "        yield a\n",
    "        a += 1"
   ]
  },
  {
   "cell_type": "code",
   "execution_count": 50,
   "metadata": {
    "id": "HkDtSFktz5cy"
   },
   "outputs": [],
   "source": [
    "gen_1 = exhaust(10)"
   ]
  },
  {
   "cell_type": "code",
   "execution_count": 51,
   "metadata": {
    "colab": {
     "base_uri": "https://localhost:8080/"
    },
    "id": "JoVOBnca9zBO",
    "outputId": "31de3b25-a1ab-46a7-8f79-49585af7e9bb"
   },
   "outputs": [
    {
     "data": {
      "text/plain": [
       "<generator object exhaust at 0x0000026D541C0C70>"
      ]
     },
     "execution_count": 51,
     "metadata": {},
     "output_type": "execute_result"
    }
   ],
   "source": [
    "gen_1"
   ]
  },
  {
   "cell_type": "code",
   "execution_count": 52,
   "metadata": {
    "colab": {
     "base_uri": "https://localhost:8080/"
    },
    "id": "iop8mSPuz79m",
    "outputId": "54bece0e-7443-4b51-d4a0-d4ac2cf7a3da"
   },
   "outputs": [
    {
     "data": {
      "text/plain": [
       "0"
      ]
     },
     "execution_count": 52,
     "metadata": {},
     "output_type": "execute_result"
    }
   ],
   "source": [
    "next(gen_1)"
   ]
  },
  {
   "cell_type": "code",
   "execution_count": 53,
   "metadata": {
    "colab": {
     "base_uri": "https://localhost:8080/"
    },
    "id": "Zr126XUEz-HC",
    "outputId": "4e19591f-473b-40c1-b1f9-9ac5a6812ea4"
   },
   "outputs": [
    {
     "data": {
      "text/plain": [
       "1"
      ]
     },
     "execution_count": 53,
     "metadata": {},
     "output_type": "execute_result"
    }
   ],
   "source": [
    "next(gen_1)"
   ]
  },
  {
   "cell_type": "markdown",
   "metadata": {
    "id": "PwtghcXdIFJ-"
   },
   "source": [
    "На 10-м вызове `next()` получим ошибку, т.к. итерировать больше нечего"
   ]
  },
  {
   "cell_type": "code",
   "execution_count": 54,
   "metadata": {
    "colab": {
     "base_uri": "https://localhost:8080/",
     "height": 164
    },
    "id": "UB9_AhdIz_Zl",
    "outputId": "d6382851-b134-41cf-b111-a5b21491792e"
   },
   "outputs": [
    {
     "data": {
      "text/plain": [
       "2"
      ]
     },
     "execution_count": 54,
     "metadata": {},
     "output_type": "execute_result"
    }
   ],
   "source": [
    "next(gen_1)"
   ]
  },
  {
   "cell_type": "markdown",
   "metadata": {
    "id": "mrBLcRYHIRI9"
   },
   "source": [
    "Можно итерироваться по значениям генератора в списке. Это чем-то напоминает работу `range()`."
   ]
  },
  {
   "cell_type": "code",
   "execution_count": 55,
   "metadata": {
    "colab": {
     "base_uri": "https://localhost:8080/"
    },
    "id": "iKrfB-Ax0DR7",
    "outputId": "d9caaece-a95a-4ef1-9e40-ad6c3812d68d"
   },
   "outputs": [
    {
     "name": "stdout",
     "output_type": "stream",
     "text": [
      "0\n",
      "1\n",
      "2\n",
      "3\n",
      "4\n",
      "5\n",
      "6\n",
      "7\n",
      "8\n",
      "9\n"
     ]
    }
   ],
   "source": [
    "for i in exhaust(10):\n",
    "    print(i)"
   ]
  },
  {
   "cell_type": "markdown",
   "metadata": {
    "id": "zpyQ7qFFIhkB"
   },
   "source": [
    "Однако, в отличие от `range()`, в свой генератор можно добавить различную специфику"
   ]
  },
  {
   "cell_type": "code",
   "execution_count": 56,
   "metadata": {
    "id": "KXrnqeQ70Lx9"
   },
   "outputs": [],
   "source": [
    "def exhaust_mod(number):\n",
    "    a = 0\n",
    "    while a < number:\n",
    "        if a % 2 == 0:\n",
    "            yield a\n",
    "        a += 1"
   ]
  },
  {
   "cell_type": "code",
   "execution_count": 57,
   "metadata": {
    "colab": {
     "base_uri": "https://localhost:8080/"
    },
    "id": "e6GxeLOO0bQh",
    "outputId": "ebccce82-1204-4779-bbaf-f6ef2dd442a4"
   },
   "outputs": [
    {
     "name": "stdout",
     "output_type": "stream",
     "text": [
      "0\n",
      "2\n",
      "4\n",
      "6\n",
      "8\n"
     ]
    }
   ],
   "source": [
    "for i in exhaust_mod(10):\n",
    "    print(i)"
   ]
  },
  {
   "cell_type": "markdown",
   "metadata": {
    "id": "Gh2jQfj8IoMd"
   },
   "source": [
    "А пример ниже позволяет читать данные построчно (хотя реализация его сыра и плоха, т.к. мы сразу читаем весь файл, а потом возвращаем по строчке)"
   ]
  },
  {
   "cell_type": "code",
   "execution_count": 58,
   "metadata": {
    "id": "_yHdc8so1N4Y"
   },
   "outputs": [],
   "source": [
    "def read_lines(data):\n",
    "    while True:\n",
    "        yield data.readline().rstrip()"
   ]
  },
  {
   "cell_type": "code",
   "execution_count": 59,
   "metadata": {
    "id": "yZ892MVj1GhD"
   },
   "outputs": [],
   "source": [
    "data = open('Section_6_Data.txt', mode='r')\n",
    "\n",
    "res = read_lines(data)"
   ]
  },
  {
   "cell_type": "code",
   "execution_count": 60,
   "metadata": {
    "colab": {
     "base_uri": "https://localhost:8080/",
     "height": 35
    },
    "id": "yMSFRjhR0dPI",
    "outputId": "eac001fe-e1ec-4363-e841-6073294c4525"
   },
   "outputs": [
    {
     "data": {
      "text/plain": [
       "'id;column_1;column_2;column_3;column_4;column_5'"
      ]
     },
     "execution_count": 60,
     "metadata": {},
     "output_type": "execute_result"
    }
   ],
   "source": [
    "next(res)"
   ]
  },
  {
   "cell_type": "code",
   "execution_count": 61,
   "metadata": {
    "id": "UZUTowVF1pae"
   },
   "outputs": [],
   "source": [
    "data.close()"
   ]
  },
  {
   "cell_type": "code",
   "execution_count": 62,
   "metadata": {
    "colab": {
     "base_uri": "https://localhost:8080/",
     "height": 249
    },
    "id": "xqFxUYth1tJW",
    "outputId": "654625e4-51ce-4d1f-b810-6cbdb6f204db"
   },
   "outputs": [
    {
     "ename": "ValueError",
     "evalue": "I/O operation on closed file.",
     "output_type": "error",
     "traceback": [
      "\u001b[1;31m---------------------------------------------------------------------------\u001b[0m",
      "\u001b[1;31mValueError\u001b[0m                                Traceback (most recent call last)",
      "Cell \u001b[1;32mIn[62], line 1\u001b[0m\n\u001b[1;32m----> 1\u001b[0m \u001b[38;5;28mnext\u001b[39m(res)\n",
      "Cell \u001b[1;32mIn[58], line 3\u001b[0m, in \u001b[0;36mread_lines\u001b[1;34m(data)\u001b[0m\n\u001b[0;32m      1\u001b[0m \u001b[38;5;28;01mdef\u001b[39;00m \u001b[38;5;21mread_lines\u001b[39m(data):\n\u001b[0;32m      2\u001b[0m     \u001b[38;5;28;01mwhile\u001b[39;00m \u001b[38;5;28;01mTrue\u001b[39;00m:\n\u001b[1;32m----> 3\u001b[0m         \u001b[38;5;28;01myield\u001b[39;00m data\u001b[38;5;241m.\u001b[39mreadline()\u001b[38;5;241m.\u001b[39mrstrip()\n",
      "\u001b[1;31mValueError\u001b[0m: I/O operation on closed file."
     ]
    }
   ],
   "source": [
    "next(res)"
   ]
  },
  {
   "cell_type": "markdown",
   "metadata": {
    "id": "EjIKyplSIFrB"
   },
   "source": [
    "# 3. Статистика и библиотека `SciPy`\n",
    "\n",
    "<center> <img src=\"https://www.fullstackpython.com/img/logos/scipy.png\" width=50%> </center>\n",
    "\n",
    "`SciPy` - библиотека, предназначенная для различных научных, инженерных и прочих рассчетов. \n",
    "\n",
    "В библиотеке в модуле `stats` реализованы различные методы для работы со случайными величинами, их распределениями, а также для построения доверительных интервалов и тестирования статистических гипотез\n",
    "\n"
   ]
  },
  {
   "cell_type": "code",
   "execution_count": 63,
   "metadata": {
    "id": "d_CPkdhvIG16"
   },
   "outputs": [],
   "source": [
    "import scipy.stats as sts"
   ]
  },
  {
   "cell_type": "markdown",
   "metadata": {},
   "source": [
    "## 3.1. Пример с нормальным распределением"
   ]
  },
  {
   "cell_type": "markdown",
   "metadata": {
    "id": "-IB63nllJlgN"
   },
   "source": [
    "С помощью метода `.ppf()` (примененного к распределиню - в нашем случае `norm`) можно получить обратную функцию плотности распределения\n",
    "\n"
   ]
  },
  {
   "cell_type": "code",
   "execution_count": 64,
   "metadata": {
    "colab": {
     "base_uri": "https://localhost:8080/"
    },
    "id": "vaGiDFzrIaDe",
    "outputId": "9dd21520-bcc1-4a50-9eea-2e3193be2e6c"
   },
   "outputs": [
    {
     "data": {
      "text/plain": [
       "1.6448536269514722"
      ]
     },
     "execution_count": 64,
     "metadata": {},
     "output_type": "execute_result"
    }
   ],
   "source": [
    "sts.norm.ppf(0.95)"
   ]
  },
  {
   "cell_type": "markdown",
   "metadata": {
    "id": "50WSSsFlJrq_"
   },
   "source": [
    "В распределении также можно задать его параметры - для нормального среднее (`loc`) и стандартное отклонение (`scale`)"
   ]
  },
  {
   "cell_type": "code",
   "execution_count": 65,
   "metadata": {
    "colab": {
     "base_uri": "https://localhost:8080/"
    },
    "id": "J_7mCK8DIrVA",
    "outputId": "30a0cd23-b018-456e-d7d3-01e640d6e096"
   },
   "outputs": [
    {
     "data": {
      "text/plain": [
       "4.289707253902945"
      ]
     },
     "execution_count": 65,
     "metadata": {},
     "output_type": "execute_result"
    }
   ],
   "source": [
    "sts.norm.ppf(0.95, loc=1, scale=2)"
   ]
  },
  {
   "cell_type": "markdown",
   "metadata": {},
   "source": [
    "### 3.1.1. Функция плотности вероятности (PDF)"
   ]
  },
  {
   "cell_type": "markdown",
   "metadata": {},
   "source": [
    "Можно для случайных величин посчитать значения плотности распределиня с помощью метода `.pdf()`"
   ]
  },
  {
   "cell_type": "code",
   "execution_count": 66,
   "metadata": {
    "colab": {
     "base_uri": "https://localhost:8080/"
    },
    "id": "F1XPp8I6I4YL",
    "outputId": "3367b409-bc27-4ccf-bbc7-62b2ce38b4f9"
   },
   "outputs": [
    {
     "data": {
      "image/png": "[encoded data removed]",
      "text/plain": [
       "<Figure size 640x480 with 1 Axes>"
      ]
     },
     "metadata": {},
     "output_type": "display_data"
    }
   ],
   "source": [
    "array_of_normals = np.random.normal(size=10000)\n",
    "norm_pdf = sts.norm.pdf(array_of_normals)\n",
    "\n",
    "plt.scatter(array_of_normals, norm_pdf, color='forestgreen', s=2)\n",
    "\n",
    "plt.title('Probability Density Function for $N(0,1)$')\n",
    "plt.grid()\n",
    "\n",
    "None"
   ]
  },
  {
   "cell_type": "markdown",
   "metadata": {},
   "source": [
    "### 3.1.2. Кумулятивная функция распределения (CDF)"
   ]
  },
  {
   "cell_type": "markdown",
   "metadata": {
    "id": "vKBrVxdsKIB8"
   },
   "source": [
    "Также можно посчитать значения функции распределения с помощью метода `.cdf()`"
   ]
  },
  {
   "cell_type": "code",
   "execution_count": 67,
   "metadata": {
    "colab": {
     "base_uri": "https://localhost:8080/"
    },
    "id": "rieBWOl9LSZx",
    "outputId": "50e0256b-e79d-4be7-ef4d-1713f6e35a84"
   },
   "outputs": [
    {
     "data": {
      "image/png": "[encoded data removed]",
      "text/plain": [
       "<Figure size 640x480 with 1 Axes>"
      ]
     },
     "metadata": {},
     "output_type": "display_data"
    }
   ],
   "source": [
    "norm_cdf = sts.norm.cdf(array_of_normals)\n",
    "\n",
    "plt.scatter(array_of_normals, norm_cdf, color='forestgreen', s=2)\n",
    "\n",
    "plt.title('Cumulative Density Function for $N(0,1)$')\n",
    "plt.grid()\n",
    "\n",
    "None"
   ]
  },
  {
   "cell_type": "markdown",
   "metadata": {},
   "source": [
    "### 3.1.3. Доверительные интервалы"
   ]
  },
  {
   "cell_type": "markdown",
   "metadata": {
    "id": "HpbbMJLlKSCb"
   },
   "source": [
    "Можно построить доверительный интервал для среднего своими руками."
   ]
  },
  {
   "cell_type": "code",
   "execution_count": 68,
   "metadata": {
    "id": "m7sMlmGHIaHK"
   },
   "outputs": [],
   "source": [
    "def mean_confidence_interval(sample, confidence=0.95):\n",
    "\n",
    "    n = len(sample)\n",
    "    \n",
    "    mu = np.mean(sample)\n",
    "    se = np.std(sample) / np.sqrt(n)\n",
    "    \n",
    "    critical_value = sts.t.ppf((1+confidence)/2, n-1)\n",
    "\n",
    "    lower = mu - se * critical_value\n",
    "    upper = mu + se * critical_value\n",
    "\n",
    "    return [lower, mu, upper]"
   ]
  },
  {
   "cell_type": "markdown",
   "metadata": {
    "id": "qoCSvHdhKhSw"
   },
   "source": [
    "Метод `.rvs()` у распределения позволяет сгенерировать случайную величину/величины.\n",
    "\n",
    "Создадим выборку из 100 случайных величин из распределения Стьюдента с 3-мя степенями свободы."
   ]
  },
  {
   "cell_type": "code",
   "execution_count": 69,
   "metadata": {
    "colab": {
     "base_uri": "https://localhost:8080/"
    },
    "id": "nudjWC16PBXS",
    "outputId": "56c1dfe1-0524-4520-ae50-4368f72601d2"
   },
   "outputs": [
    {
     "name": "stdout",
     "output_type": "stream",
     "text": [
      "Hand-made Confidence Interval : (-0.2761, 0.2346)\n",
      "Scipy-made Confidence Interval: (-0.2774, 0.2359)\n"
     ]
    }
   ],
   "source": [
    "sample_1 = sts.t.rvs(size=100, df=3)\n",
    "\n",
    "# Наш метод\n",
    "ci_interval_handmade = mean_confidence_interval(sample_1, confidence=0.95)\n",
    "\n",
    "# Встроенный метод из SciPy\n",
    "ci_interval_scipy = sts.t.interval(0.95, df=len(sample_1)-1, loc=np.mean(sample_1), scale=sts.sem(sample_1))\n",
    "\n",
    "print(f'Hand-made Confidence Interval : ({ci_interval_handmade[0]:.4f}, {ci_interval_handmade[2]:.4f})')\n",
    "print(f'Scipy-made Confidence Interval: ({ci_interval_scipy[0]:.4f}, {ci_interval_scipy[1]:.4f})')"
   ]
  },
  {
   "cell_type": "markdown",
   "metadata": {
    "id": "wj0D4HkAK4tf"
   },
   "source": [
    "То же самое можно посчитать и для, например, нормального распределения."
   ]
  },
  {
   "cell_type": "code",
   "execution_count": 70,
   "metadata": {
    "colab": {
     "base_uri": "https://localhost:8080/"
    },
    "id": "dphrMTgMR5hD",
    "outputId": "eca720c1-8082-4bf9-8788-4d0b7d54ef51"
   },
   "outputs": [
    {
     "data": {
      "text/plain": [
       "(-0.2742227860138742, 0.23279404525709316)"
      ]
     },
     "execution_count": 70,
     "metadata": {},
     "output_type": "execute_result"
    }
   ],
   "source": [
    "sts.norm.interval(0.95, loc=np.mean(sample_1), scale=sts.sem(sample_1))"
   ]
  },
  {
   "cell_type": "markdown",
   "metadata": {},
   "source": [
    "### 3.1.4. Тест на нормальность распределения"
   ]
  },
  {
   "cell_type": "markdown",
   "metadata": {
    "id": "NYyBJVVtK_Ck"
   },
   "source": [
    "Визуально тест на нормальность распределения можно провести с помощью графика **QQ-plot**, у которого координаты (x, y) - это координаты, соответствующие определенному квантилю у теоретического и наблюдаемого/тестируемого распределений.\n",
    "\n",
    "Подробнее [тут](https://en.wikipedia.org/wiki/Q%E2%80%93Q_plot)"
   ]
  },
  {
   "cell_type": "code",
   "execution_count": 71,
   "metadata": {
    "id": "dz-WCAE2UPM2"
   },
   "outputs": [],
   "source": [
    "sample_1 = sts.norm.rvs(loc=1, scale=2, size=1000)\n",
    "sample_2 = sts.t.rvs(loc=1, scale=2, df=3, size=1000)"
   ]
  },
  {
   "cell_type": "markdown",
   "metadata": {
    "id": "4eZq2pSFLY3n"
   },
   "source": [
    "График можно создать с помощью метода `.probplot()`."
   ]
  },
  {
   "cell_type": "code",
   "execution_count": 72,
   "metadata": {
    "colab": {
     "base_uri": "https://localhost:8080/",
     "height": 494
    },
    "id": "PrzIt0mbXKav",
    "outputId": "151686f5-064e-49b2-964c-142b9d2e86ae"
   },
   "outputs": [
    {
     "data": {
      "image/png": "[encoded data removed]",
      "text/plain": [
       "<Figure size 640x480 with 1 Axes>"
      ]
     },
     "metadata": {},
     "output_type": "display_data"
    }
   ],
   "source": [
    "res = sts.probplot(sample_1, plot=plt)\n",
    "\n",
    "plt.xlabel('Theoretical quantiles')\n",
    "plt.ylabel('Observed values')\n",
    "\n",
    "plt.title('QQ Plot, Normal Distribution')\n",
    "plt.grid()\n",
    "\n",
    "None"
   ]
  },
  {
   "cell_type": "markdown",
   "metadata": {
    "id": "T7rUdG07L2BG"
   },
   "source": [
    "Для распределения Стьюдента видно, что крайние квантили далеки от нормального распределения, что довольно логично и ожидаемо"
   ]
  },
  {
   "cell_type": "code",
   "execution_count": 73,
   "metadata": {
    "colab": {
     "base_uri": "https://localhost:8080/",
     "height": 494
    },
    "id": "pNl2zDB0VdyJ",
    "outputId": "1d83c05f-7deb-44f1-efb1-148f2fd88c28"
   },
   "outputs": [
    {
     "data": {
      "image/png": "[encoded data removed]",
      "text/plain": [
       "<Figure size 640x480 with 1 Axes>"
      ]
     },
     "metadata": {},
     "output_type": "display_data"
    }
   ],
   "source": [
    "res = sts.probplot(sample_2, plot=plt)\n",
    "\n",
    "plt.xlabel('Theoretical quantiles')\n",
    "plt.ylabel('Observed values')\n",
    "\n",
    "plt.title('QQ Plot, Student Distribution')\n",
    "plt.grid()\n",
    "\n",
    "None"
   ]
  },
  {
   "cell_type": "markdown",
   "metadata": {
    "id": "w-PEN0VUL9zn"
   },
   "source": [
    "В библиотеке также реализованы различные статистические тесты\n",
    "\n",
    "Есть тесты на нормальность, есть тесты для средних и т.д. Подробнее можно прочитать [тут](https://docs.scipy.org/doc/scipy/reference/stats.html)."
   ]
  },
  {
   "cell_type": "markdown",
   "metadata": {
    "id": "YVwbI9PTTM1q"
   },
   "source": [
    "### [Shapiro-Wilk test](https://en.wikipedia.org/wiki/Shapiro%E2%80%93Wilk_test) (normality test)\n",
    "\n",
    "**H0**: the sample has a Gaussian distribution.\n",
    "\n",
    "**H1**: the sample does not have a Gaussian distribution."
   ]
  },
  {
   "cell_type": "code",
   "execution_count": 74,
   "metadata": {
    "colab": {
     "base_uri": "https://localhost:8080/"
    },
    "id": "fVKENsIgRxTe",
    "outputId": "6ef731b5-c02c-4b51-94fd-514e10a891e8"
   },
   "outputs": [
    {
     "name": "stdout",
     "output_type": "stream",
     "text": [
      "Test statistics is 0.8404, and it is True that we can reject the null hypothesis\n",
      "P-value is 1.6399925837446396e-30\n"
     ]
    }
   ],
   "source": [
    "from scipy.stats import shapiro\n",
    "\n",
    "test_statistics, p_value = shapiro(sample_2)\n",
    "\n",
    "print(f'Test statistics is {test_statistics:.4f}, and it is {p_value < 0.05} that we can reject the null hypothesis')\n",
    "print(f'P-value is {p_value}')"
   ]
  },
  {
   "cell_type": "markdown",
   "metadata": {
    "id": "IeJxjYqAUccK"
   },
   "source": [
    "### [Anderson-Darling test](https://en.wikipedia.org/wiki/Anderson%E2%80%93Darling_test) (normality test)\n",
    "\n",
    "**H0**: the sample has a Gaussian distribution.\n",
    "\n",
    "**H1**: the sample does not have a Gaussian distribution."
   ]
  },
  {
   "cell_type": "code",
   "execution_count": 75,
   "metadata": {
    "colab": {
     "base_uri": "https://localhost:8080/"
    },
    "id": "NGwnx26XULak",
    "outputId": "3dc34144-ab93-4c6b-b8ad-40bfa293b5f7"
   },
   "outputs": [
    {
     "data": {
      "text/plain": [
       "  params: FitParams(loc=0.8098202036941123, scale=3.6010366414940314)\n",
       " success: True\n",
       " message: '`anderson` successfully fit the distribution to the data.'"
      ]
     },
     "execution_count": 75,
     "metadata": {},
     "output_type": "execute_result"
    }
   ],
   "source": [
    "from scipy.stats import anderson\n",
    "\n",
    "result = anderson(sample_2)\n",
    "\n",
    "result.fit_result"
   ]
  },
  {
   "cell_type": "markdown",
   "metadata": {},
   "source": [
    "### 3.1.5. Другие тесты"
   ]
  },
  {
   "cell_type": "markdown",
   "metadata": {
    "id": "tN9T-3GlY1SM"
   },
   "source": [
    "### Correlation significance test\n",
    "\n",
    "**H0**: $\\rho = 0 $\n",
    "\n",
    "**H1**: $ \\rho \\neq 0$\n",
    "\n",
    "\\begin{equation} t = \\rho \\times \\frac{\\sqrt{n-2}}{\\sqrt{1-\\rho^2}} \\end{equation}"
   ]
  },
  {
   "cell_type": "code",
   "execution_count": 76,
   "metadata": {
    "colab": {
     "base_uri": "https://localhost:8080/"
    },
    "id": "MWXxQZqGXeE-",
    "outputId": "a750d458-9f16-4723-a8a6-bdc45f9ea5cc"
   },
   "outputs": [
    {
     "data": {
      "text/plain": [
       "PearsonRResult(statistic=0.9630393210724089, pvalue=0.0)"
      ]
     },
     "execution_count": 76,
     "metadata": {},
     "output_type": "execute_result"
    }
   ],
   "source": [
    "from scipy.stats import pearsonr\n",
    "\n",
    "sample_1 = sts.norm.rvs(loc=2, scale=3, size=10000)\n",
    "sample_2 = sample_1 * 0.3 + sts.norm.rvs(loc=0, scale=0.25, size=10000)\n",
    "\n",
    "pearsonr(sample_1, sample_2)"
   ]
  },
  {
   "cell_type": "code",
   "execution_count": 77,
   "metadata": {
    "colab": {
     "base_uri": "https://localhost:8080/"
    },
    "id": "719-FjcTZYRO",
    "outputId": "5e0d63a7-9280-4e51-e3d8-d01526a50fdd"
   },
   "outputs": [
    {
     "data": {
      "text/plain": [
       "PearsonRResult(statistic=-0.005053233048189389, pvalue=0.6133738728366424)"
      ]
     },
     "execution_count": 77,
     "metadata": {},
     "output_type": "execute_result"
    }
   ],
   "source": [
    "sample_1 = sts.norm.rvs(loc=2, scale=3, size=10000)\n",
    "sample_2 = sts.norm.rvs(loc=0, scale=1, size=10000)\n",
    "\n",
    "pearsonr(sample_1, sample_2)"
   ]
  },
  {
   "cell_type": "markdown",
   "metadata": {
    "id": "VXhLmnMjdef7"
   },
   "source": [
    "### [Dickey-Fuller test, Unit Root test](https://en.wikipedia.org/wiki/Augmented_Dickey%E2%80%93Fuller_test)\n",
    "\n",
    "**H0**: a unit root is present (time series is non-stationary)\n",
    "\n",
    "**H1**: a unit root is not present (time series is stationary)"
   ]
  },
  {
   "cell_type": "code",
   "execution_count": 78,
   "metadata": {
    "colab": {
     "base_uri": "https://localhost:8080/"
    },
    "id": "HlVPeUX8bv9W",
    "outputId": "b4799d2c-fecb-4b13-a2b8-5fbb808d1447"
   },
   "outputs": [
    {
     "data": {
      "text/plain": [
       "(-12.302171993561139,\n",
       " 7.407849113140203e-23,\n",
       " 0,\n",
       " 999,\n",
       " {'1%': -3.4369127451400474,\n",
       "  '5%': -2.864437475834273,\n",
       "  '10%': -2.568312754566378},\n",
       " 23.768025981829624)"
      ]
     },
     "execution_count": 78,
     "metadata": {},
     "output_type": "execute_result"
    }
   ],
   "source": [
    "from statsmodels.tsa.stattools import adfuller\n",
    "\n",
    "point = sts.norm.rvs(loc=1, scale=3, size=1)\n",
    "series = np.zeros(1000)\n",
    "series[0] = point\n",
    "\n",
    "for i in range(1, 1000):\n",
    "    series[i] = 0.1 + 0.8 * series[i - 1] + sts.norm.rvs(loc = 0, scale = 0.25, size = 1)\n",
    "\n",
    "adfuller(series)"
   ]
  },
  {
   "cell_type": "markdown",
   "metadata": {
    "id": "1jNSRqmVE6YR"
   },
   "source": [
    "**First data point**: -12.333608904986031: Critical value of the data\n",
    "\n",
    "**Second data point**: 6.34540078124911e-23: Probability that null hypothesis will not be rejected(p-value)\n",
    "\n",
    "**Third data point**: 3: Number of lags used in regression to determine t-statistic\n",
    "\n",
    "**Forth data point**: 996: Number of observations used in the analysis.\n",
    "\n",
    "**Fifth data point**: {'1%': -3.4369325637409154, '5%': -2.8644462162311934, '10%': -2.568317409920808}: T-values corresponding to adfuller test.\n",
    "\n",
    "Since critical value -12.3 < -2.5,-3.4,-2.8 (t-values at 1%, 5% and 10% confidence intervals), null hypothesis can be rejected. So, the data is statoinary\n",
    "\n",
    "Also p-value of 6.35e-23 < 0.05(if we take 5% significance level or 95% confidence interval), null hypothesis can be rejected.\n",
    "\n",
    "Hence, data is stationary (that means it has no relation with time)"
   ]
  },
  {
   "cell_type": "markdown",
   "metadata": {
    "id": "AHofcrwqgNcX"
   },
   "source": [
    "# 4. Оптимизация"
   ]
  },
  {
   "cell_type": "markdown",
   "metadata": {
    "id": "Mn46x3WFM8D9"
   },
   "source": [
    "Также в **SciPy** реализован модуль **optimize** для оптимизации функций (доступна как условная, так и безусловная оптимизация). Подробнее про это можно прочитать [тут](https://docs.scipy.org/doc/scipy/reference/optimize.html)."
   ]
  },
  {
   "cell_type": "markdown",
   "metadata": {
    "id": "Ej5LY4g5NZGJ"
   },
   "source": [
    "Мы будем пользоваться методом `minimize` из этого модуля"
   ]
  },
  {
   "cell_type": "code",
   "execution_count": 79,
   "metadata": {
    "id": "CvWXklWSgOw7"
   },
   "outputs": [],
   "source": [
    "from scipy.optimize import minimize"
   ]
  },
  {
   "cell_type": "markdown",
   "metadata": {
    "id": "Wpb_WbcpNeI0"
   },
   "source": [
    "Напишем простенькую квадратичную функцию одной переменной"
   ]
  },
  {
   "cell_type": "code",
   "execution_count": 80,
   "metadata": {
    "id": "7XDmw5y8hecS"
   },
   "outputs": [],
   "source": [
    "def function_1(x):\n",
    "    return 3 * x ** 2 - 2 * x + 4"
   ]
  },
  {
   "cell_type": "markdown",
   "metadata": {
    "id": "GGz3X1ILNijb"
   },
   "source": [
    "Отобразим ее"
   ]
  },
  {
   "cell_type": "code",
   "execution_count": 81,
   "metadata": {
    "colab": {
     "base_uri": "https://localhost:8080/",
     "height": 329
    },
    "id": "wtPOQLxPh-BZ",
    "outputId": "f0122df3-5d76-4c82-b01c-f0bc9cafc21d"
   },
   "outputs": [
    {
     "data": {
      "image/png": "[encoded data removed]",
      "text/plain": [
       "<Figure size 640x480 with 1 Axes>"
      ]
     },
     "metadata": {},
     "output_type": "display_data"
    }
   ],
   "source": [
    "x = np.linspace(-0.25, 1, num=1000)\n",
    "y = function_1(x)\n",
    "\n",
    "plt.plot(x, y, color='forestgreen')\n",
    "\n",
    "plt.xlabel('x')\n",
    "plt.ylabel('y')\n",
    "\n",
    "plt.grid()\n",
    "\n",
    "None"
   ]
  },
  {
   "cell_type": "markdown",
   "metadata": {
    "id": "yD87-Q1pNj_5"
   },
   "source": [
    "Найдем минимум функции (напоминание - если требуется максимизировать функцию, то нужно минимизировать отрицательную функцию). Для этого в метод `minimize` передадим нашу функцию и изначальные значения для парамтера, по которому проводим оптимизацию, `x0`"
   ]
  },
  {
   "cell_type": "code",
   "execution_count": 82,
   "metadata": {
    "colab": {
     "base_uri": "https://localhost:8080/"
    },
    "id": "kR_aSoiuiPck",
    "outputId": "a8fc40a4-729b-4915-8312-5e8356707e09"
   },
   "outputs": [
    {
     "data": {
      "text/plain": [
       "  message: Optimization terminated successfully.\n",
       "  success: True\n",
       "   status: 0\n",
       "      fun: 3.666666666666677\n",
       "        x: [ 3.333e-01]\n",
       "      nit: 3\n",
       "      jac: [ 3.874e-07]\n",
       " hess_inv: [[ 1.667e-01]]\n",
       "     nfev: 8\n",
       "     njev: 4"
      ]
     },
     "execution_count": 82,
     "metadata": {},
     "output_type": "execute_result"
    }
   ],
   "source": [
    "res = minimize(function_1, x0=5)\n",
    "\n",
    "res"
   ]
  },
  {
   "cell_type": "code",
   "execution_count": 83,
   "metadata": {
    "colab": {
     "base_uri": "https://localhost:8080/"
    },
    "id": "CGq7VHSsikPf",
    "outputId": "a6ff6c69-c004-4ad2-8513-880f65c989d9"
   },
   "outputs": [
    {
     "data": {
      "text/plain": [
       "(4, 3.66666667)"
      ]
     },
     "execution_count": 83,
     "metadata": {},
     "output_type": "execute_result"
    }
   ],
   "source": [
    "function_1(0), function_1(0.3333)"
   ]
  },
  {
   "cell_type": "markdown",
   "metadata": {
    "id": "cibQLqMLN7YZ"
   },
   "source": [
    "Также можно оптимизировать и функции, которые используют данные. Давайте оценим коэффициенты линейной однофакторной регрессии с помощью метода максимальнго правдоподобия.\n",
    "\n",
    "Т.к. оптимизировать проще логарифм функции правдоподобия, то сразу приведу его:\n",
    "\n",
    "\\begin{equation} LL = -\\frac{n}{2} \\log{2\\pi} - n \\log{\\sigma} - \\frac{1}{2\\sigma^2} \\sum_{i=1}^{n} (y_i - (\\alpha + \\beta x_i)^2)\\end{equation}"
   ]
  },
  {
   "cell_type": "markdown",
   "metadata": {
    "id": "nO8ezvIxOr4L"
   },
   "source": [
    "Т.к. мы максимизируем логарифмическую функци правдоподобия, то минимизировать надо отрицательную функцию правдоподобия."
   ]
  },
  {
   "cell_type": "code",
   "execution_count": 84,
   "metadata": {
    "id": "aPE7O_myiwDp"
   },
   "outputs": [],
   "source": [
    "def norm_reg_loglik(coefs, y, x):\n",
    "\n",
    "    alpha = coefs[0]\n",
    "    beta = coefs[1]\n",
    "    S = coefs[2]\n",
    "\n",
    "    n = len(y)\n",
    "\n",
    "    no_data_factor = -n / 2 * np.log(2 * np.pi) - n * np.log(S)\n",
    "    data_factor = -1 / (2 * S ** 2) * sum((y - alpha - beta * x) ** 2)\n",
    "\n",
    "    neg_loglik = -1 * (no_data_factor + data_factor) \n",
    "    \n",
    "    return neg_loglik"
   ]
  },
  {
   "cell_type": "markdown",
   "metadata": {
    "id": "k-JhACr3OyZH"
   },
   "source": [
    "Создадим данные"
   ]
  },
  {
   "cell_type": "code",
   "execution_count": 85,
   "metadata": {
    "colab": {
     "base_uri": "https://localhost:8080/",
     "height": 437
    },
    "id": "i8iX26ZUks-A",
    "outputId": "d43b1f46-036f-40ec-b76d-8bb1abc79d25"
   },
   "outputs": [
    {
     "data": {
      "image/png": "[encoded data removed]",
      "text/plain": [
       "<Figure size 640x480 with 1 Axes>"
      ]
     },
     "metadata": {},
     "output_type": "display_data"
    }
   ],
   "source": [
    "x = sts.norm.rvs(scale=1, loc=3, size=1000)\n",
    "alpha, beta = 0.3, 0.5\n",
    "\n",
    "y = alpha + beta * x + sts.norm.rvs(scale=0.5, loc=0, size=1000)\n",
    "\n",
    "plt.scatter(x, y)\n",
    "\n",
    "plt.ylabel(r'$y=\\alpha + \\beta x +\\epsilon $')\n",
    "\n",
    "plt.grid()\n",
    "\n",
    "None"
   ]
  },
  {
   "cell_type": "markdown",
   "metadata": {
    "id": "OifdJzEqO0bF"
   },
   "source": [
    "Проведем оптимизацию, в качестве метода будем использовать **slsqp**. Также доступны другие методы, про которые можно прочитать [тут](https://docs.scipy.org/doc/scipy/reference/generated/scipy.optimize.minimize.html)."
   ]
  },
  {
   "cell_type": "code",
   "execution_count": 86,
   "metadata": {
    "colab": {
     "base_uri": "https://localhost:8080/"
    },
    "id": "48rZMPzCl9IX",
    "outputId": "0407627e-d904-42e4-93f3-03036f029fd9"
   },
   "outputs": [
    {
     "data": {
      "text/plain": [
       " message: Optimization terminated successfully\n",
       " success: True\n",
       "  status: 0\n",
       "     fun: 734.0235663082489\n",
       "       x: [ 3.512e-01  4.834e-01  5.041e-01]\n",
       "     nit: 46\n",
       "     jac: [ 2.823e-04  1.991e-03  1.183e-03]\n",
       "    nfev: 240\n",
       "    njev: 46"
      ]
     },
     "execution_count": 86,
     "metadata": {},
     "output_type": "execute_result"
    }
   ],
   "source": [
    "res_reg = minimize(fun=norm_reg_loglik, x0=[0.1, 0.1, 0.2], args=(y,x), method='slsqp')\n",
    "\n",
    "res_reg"
   ]
  },
  {
   "cell_type": "markdown",
   "metadata": {
    "id": "VxV7mL36O9mg"
   },
   "source": [
    "Посмотрим на качество подгонки"
   ]
  },
  {
   "cell_type": "code",
   "execution_count": 87,
   "metadata": {
    "id": "5H2-10fgmhlS"
   },
   "outputs": [],
   "source": [
    "alpha_hat = res_reg['x'][0]\n",
    "beta_hat = res_reg['x'][1]\n",
    "\n",
    "y_hat = alpha_hat + beta_hat * x"
   ]
  },
  {
   "cell_type": "code",
   "execution_count": 88,
   "metadata": {
    "colab": {
     "base_uri": "https://localhost:8080/",
     "height": 437
    },
    "id": "qw1_WHammuHn",
    "outputId": "c83d4bdb-0769-44fa-fc17-b73f4683e134"
   },
   "outputs": [
    {
     "data": {
      "image/png": "[encoded data removed]",
      "text/plain": [
       "<Figure size 640x480 with 1 Axes>"
      ]
     },
     "metadata": {},
     "output_type": "display_data"
    }
   ],
   "source": [
    "plt.scatter(x, y, label='Empirical Dependence')\n",
    "plt.plot(x, y_hat, label='Regression Line', color='r')\n",
    "\n",
    "plt.ylabel(r'$y=\\alpha + \\beta x +\\epsilon $')\n",
    "\n",
    "plt.legend()\n",
    "\n",
    "plt.grid()\n",
    "\n",
    "None"
   ]
  },
  {
   "cell_type": "markdown",
   "metadata": {
    "id": "GLgh9qzvPATC"
   },
   "source": [
    "Теперь давайте попрактикуемся с оптимизацией с ограничениями\n",
    "\n",
    "Допустим, у нас есть следующая функция полезности, которые ограничена бюджетом. Также мы не можем продавать товары."
   ]
  },
  {
   "cell_type": "markdown",
   "metadata": {
    "id": "vSMU0NpenBNr"
   },
   "source": [
    "\\begin{equation} U(x_1, x_2) = s_1 \\times x_1 + s_{21} \\times x_2 + s_{22} \\times x_2^2  \\end{equation}\n",
    "\n",
    "\\begin{equation} x_1 \\times p_1 + x_2 \\times p_2 \\leq M \\end{equation}\n",
    "\n",
    "\\begin{equation} x_1 \\geq 0 \\end{equation}\n",
    "\\begin{equation} x_2 \\geq 0 \\end{equation}"
   ]
  },
  {
   "cell_type": "markdown",
   "metadata": {
    "id": "Qn_ORw_pPUda"
   },
   "source": [
    "Определим в коде функцию полезности"
   ]
  },
  {
   "cell_type": "code",
   "execution_count": 89,
   "metadata": {
    "id": "3KlzFZ9WnBY8"
   },
   "outputs": [],
   "source": [
    "def utility_function(quantities, sensitivities):\n",
    "    \n",
    "    q1, q2 = quantities[0], quantities[1]\n",
    "    s1, s21, s22 = sensitivities[0], sensitivities[1], sensitivities[2]\n",
    "    \n",
    "    return -1 * (s1 * q1 + s21 * q2 + s22 * (q2 ** 2))"
   ]
  },
  {
   "cell_type": "markdown",
   "metadata": {
    "id": "CDDHbbRkPWlh"
   },
   "source": [
    "Определим бюджетное ограничение"
   ]
  },
  {
   "cell_type": "code",
   "execution_count": 90,
   "metadata": {
    "id": "ORN6-hAUoMic"
   },
   "outputs": [],
   "source": [
    "def budget_constraint(quantities):\n",
    "    \n",
    "    q1, q2 = quantities[0], quantities[1]\n",
    "    \n",
    "    return -1 * (q1 * 5 + q2 * 10 - 100)"
   ]
  },
  {
   "cell_type": "markdown",
   "metadata": {
    "id": "elK-Lcp4Pb1n"
   },
   "source": [
    "В массив cons передадим ограничения. Каждое ограничение представляет из себя словарь с ключами типа и функции. Тип может быть `eq` (equality) и `ineq` (inequality)\n",
    "\n",
    "Ограничения по самим переменным можно задать массивом bnds, в которых передать границы. Если какой-либо из границ нет, то передается `None`"
   ]
  },
  {
   "cell_type": "code",
   "execution_count": 91,
   "metadata": {
    "id": "azs4Rxj4nlG4"
   },
   "outputs": [],
   "source": [
    "sensitivities = [1.5, 2.5, -1.25]\n",
    "\n",
    "cons = ({'type': 'ineq', \n",
    "         'fun': budget_constraint})\n",
    "\n",
    "bnds = ((0, None), (0, None))"
   ]
  },
  {
   "cell_type": "code",
   "execution_count": 92,
   "metadata": {
    "colab": {
     "base_uri": "https://localhost:8080/"
    },
    "id": "TdvDOZLPsoq0",
    "outputId": "fa695faa-d63c-42ac-971b-22459dfd0258"
   },
   "outputs": [
    {
     "data": {
      "text/plain": [
       " message: Optimization terminated successfully\n",
       " success: True\n",
       "  status: 0\n",
       "     fun: -30.049999999997368\n",
       "       x: [ 2.040e+01 -2.000e-01]\n",
       "     nit: 6\n",
       "     jac: [-1.500e+00 -3.000e+00]\n",
       "    nfev: 18\n",
       "    njev: 6"
      ]
     },
     "execution_count": 92,
     "metadata": {},
     "output_type": "execute_result"
    }
   ],
   "source": [
    "res_util = minimize(utility_function, \n",
    "                    x0=[1,1], \n",
    "                    args=(sensitivities), \n",
    "                    constraints=cons, \n",
    "                    method='slsqp')\n",
    "\n",
    "res_util"
   ]
  },
  {
   "cell_type": "markdown",
   "metadata": {
    "id": "35lHUhZzP7Dw"
   },
   "source": [
    "Видим, что оптимальное число второго товара отрицательно. Давайте добавим ограничения по переменным в `bounds`"
   ]
  },
  {
   "cell_type": "code",
   "execution_count": 93,
   "metadata": {
    "colab": {
     "base_uri": "https://localhost:8080/"
    },
    "id": "06X5jAZoo2H1",
    "outputId": "fe3a4187-1460-4597-e5c1-20b9d899d4cb"
   },
   "outputs": [
    {
     "data": {
      "text/plain": [
       " message: Optimization terminated successfully\n",
       " success: True\n",
       "  status: 0\n",
       "     fun: -29.999999999999968\n",
       "       x: [ 2.000e+01  0.000e+00]\n",
       "     nit: 4\n",
       "     jac: [-1.500e+00 -2.500e+00]\n",
       "    nfev: 12\n",
       "    njev: 4"
      ]
     },
     "execution_count": 93,
     "metadata": {},
     "output_type": "execute_result"
    }
   ],
   "source": [
    "res_util = minimize(utility_function, \n",
    "                    x0=[1,1], \n",
    "                    args=(sensitivities), \n",
    "                    constraints=cons, \n",
    "                    method='slsqp', \n",
    "                    bounds=bnds)\n",
    "res_util"
   ]
  },
  {
   "cell_type": "markdown",
   "metadata": {
    "id": "c3M3LfIzs6-F"
   },
   "source": [
    "# 5. Получение данных с помощью Pandas из различных ресурсов"
   ]
  },
  {
   "cell_type": "markdown",
   "metadata": {},
   "source": [
    "Мы уже доставали данные по котировкам акций с Yahoo-Finance. Теперь попробуем достать данные из других ресурсов при помощи `pandas`."
   ]
  },
  {
   "cell_type": "markdown",
   "metadata": {
    "id": "XVqRPd29QHPb"
   },
   "source": [
    "С помощью библиотеки **pandas_datareader** можно подгружать различные данные (финансовые и экономические, как правило)\n",
    "\n",
    "Подробнее - [здесь](https://pandas-datareader.readthedocs.io/en/latest/remote_data.html#remote-data-wb)"
   ]
  },
  {
   "cell_type": "code",
   "execution_count": 94,
   "metadata": {},
   "outputs": [],
   "source": [
    "# pip install pandas_datareader"
   ]
  },
  {
   "cell_type": "code",
   "execution_count": 97,
   "metadata": {
    "id": "8l_ILUo_vlJP"
   },
   "outputs": [],
   "source": [
    "import pandas_datareader as pdr\n",
    "import pandas_datareader.data as web\n",
    "from datetime import datetime as dt\n",
    "\n",
    "# from API_KEYS import AV_API_KEY # Здесь хранится api для доступа к данным с AV"
   ]
  },
  {
   "cell_type": "code",
   "execution_count": 99,
   "metadata": {
    "colab": {
     "base_uri": "https://localhost:8080/"
    },
    "id": "rqx9hnZ2w6IK",
    "outputId": "9efc0cac-e70c-4be7-ebf7-1383f2777631"
   },
   "outputs": [],
   "source": [
    "# result = web.DataReader(\"AAPL\", \n",
    "#                         \"av-daily\", \n",
    "#                         start=dt(2020, 1, 1), \n",
    "#                         end=dt(2024, 4, 7),\n",
    "#                         api_key=AV_API_KEY)\n",
    "\n",
    "# result"
   ]
  },
  {
   "cell_type": "markdown",
   "metadata": {
    "id": "xSGNDrKbQfqs"
   },
   "source": [
    "Можно поискать, есть ли информация, содержащая следующие вещи"
   ]
  },
  {
   "cell_type": "code",
   "execution_count": 100,
   "metadata": {
    "id": "NNnGSOEcxhvK"
   },
   "outputs": [
    {
     "data": {
      "text/html": [
       "<div>\n",
       "<style scoped>\n",
       "    .dataframe tbody tr th:only-of-type {\n",
       "        vertical-align: middle;\n",
       "    }\n",
       "\n",
       "    .dataframe tbody tr th {\n",
       "        vertical-align: top;\n",
       "    }\n",
       "\n",
       "    .dataframe thead th {\n",
       "        text-align: right;\n",
       "    }\n",
       "</style>\n",
       "<table border=\"1\" class=\"dataframe\">\n",
       "  <thead>\n",
       "    <tr style=\"text-align: right;\">\n",
       "      <th></th>\n",
       "      <th>id</th>\n",
       "      <th>name</th>\n",
       "      <th>unit</th>\n",
       "      <th>source</th>\n",
       "      <th>sourceNote</th>\n",
       "      <th>sourceOrganization</th>\n",
       "      <th>topics</th>\n",
       "    </tr>\n",
       "  </thead>\n",
       "  <tbody>\n",
       "    <tr>\n",
       "      <th>691</th>\n",
       "      <td>6.0.GDPpc_constant</td>\n",
       "      <td>GDP per capita, PPP (constant 2011 internation...</td>\n",
       "      <td></td>\n",
       "      <td>LAC Equity Lab</td>\n",
       "      <td>GDP per capita based on purchasing power parit...</td>\n",
       "      <td>b'World Development Indicators (World Bank)'</td>\n",
       "      <td>Economy &amp; Growth</td>\n",
       "    </tr>\n",
       "    <tr>\n",
       "      <th>10983</th>\n",
       "      <td>NY.GDP.PCAP.KD</td>\n",
       "      <td>GDP per capita (constant 2015 US$)</td>\n",
       "      <td></td>\n",
       "      <td>World Development Indicators</td>\n",
       "      <td>GDP per capita is gross domestic product divid...</td>\n",
       "      <td>b'World Bank national accounts data, and OECD ...</td>\n",
       "      <td>Economy &amp; Growth</td>\n",
       "    </tr>\n",
       "    <tr>\n",
       "      <th>10985</th>\n",
       "      <td>NY.GDP.PCAP.KN</td>\n",
       "      <td>GDP per capita (constant LCU)</td>\n",
       "      <td></td>\n",
       "      <td>World Development Indicators</td>\n",
       "      <td>GDP per capita is gross domestic product divid...</td>\n",
       "      <td>b'World Bank national accounts data, and OECD ...</td>\n",
       "      <td>Economy &amp; Growth</td>\n",
       "    </tr>\n",
       "    <tr>\n",
       "      <th>10987</th>\n",
       "      <td>NY.GDP.PCAP.PP.KD</td>\n",
       "      <td>GDP per capita, PPP (constant 2017 internation...</td>\n",
       "      <td></td>\n",
       "      <td>World Development Indicators</td>\n",
       "      <td>GDP per capita based on purchasing power parit...</td>\n",
       "      <td>b'International Comparison Program, World Bank...</td>\n",
       "      <td>Economy &amp; Growth</td>\n",
       "    </tr>\n",
       "    <tr>\n",
       "      <th>10988</th>\n",
       "      <td>NY.GDP.PCAP.PP.KD.87</td>\n",
       "      <td>GDP per capita, PPP (constant 1987 internation...</td>\n",
       "      <td></td>\n",
       "      <td>WDI Database Archives</td>\n",
       "      <td></td>\n",
       "      <td>b''</td>\n",
       "      <td></td>\n",
       "    </tr>\n",
       "  </tbody>\n",
       "</table>\n",
       "</div>"
      ],
      "text/plain": [
       "                         id  \\\n",
       "691      6.0.GDPpc_constant   \n",
       "10983        NY.GDP.PCAP.KD   \n",
       "10985        NY.GDP.PCAP.KN   \n",
       "10987     NY.GDP.PCAP.PP.KD   \n",
       "10988  NY.GDP.PCAP.PP.KD.87   \n",
       "\n",
       "                                                    name unit  \\\n",
       "691    GDP per capita, PPP (constant 2011 internation...        \n",
       "10983                 GDP per capita (constant 2015 US$)        \n",
       "10985                      GDP per capita (constant LCU)        \n",
       "10987  GDP per capita, PPP (constant 2017 internation...        \n",
       "10988  GDP per capita, PPP (constant 1987 internation...        \n",
       "\n",
       "                             source  \\\n",
       "691                  LAC Equity Lab   \n",
       "10983  World Development Indicators   \n",
       "10985  World Development Indicators   \n",
       "10987  World Development Indicators   \n",
       "10988         WDI Database Archives   \n",
       "\n",
       "                                              sourceNote  \\\n",
       "691    GDP per capita based on purchasing power parit...   \n",
       "10983  GDP per capita is gross domestic product divid...   \n",
       "10985  GDP per capita is gross domestic product divid...   \n",
       "10987  GDP per capita based on purchasing power parit...   \n",
       "10988                                                      \n",
       "\n",
       "                                      sourceOrganization            topics  \n",
       "691         b'World Development Indicators (World Bank)'  Economy & Growth  \n",
       "10983  b'World Bank national accounts data, and OECD ...  Economy & Growth  \n",
       "10985  b'World Bank national accounts data, and OECD ...  Economy & Growth  \n",
       "10987  b'International Comparison Program, World Bank...  Economy & Growth  \n",
       "10988                                                b''                    "
      ]
     },
     "execution_count": 100,
     "metadata": {},
     "output_type": "execute_result"
    }
   ],
   "source": [
    "from pandas_datareader import wb\n",
    "\n",
    "results = wb.search('gdp.*capita.*const')\n",
    "\n",
    "results"
   ]
  },
  {
   "cell_type": "markdown",
   "metadata": {},
   "source": [
    "Скачаем данные по ВВП на душу населения России, США и Канады."
   ]
  },
  {
   "cell_type": "code",
   "execution_count": 101,
   "metadata": {
    "id": "qViaLC9uyQ0E"
   },
   "outputs": [
    {
     "data": {
      "image/png": "[encoded data removed]",
      "text/plain": [
       "<Figure size 600x400 with 1 Axes>"
      ]
     },
     "metadata": {},
     "output_type": "display_data"
    }
   ],
   "source": [
    "gdp = wb.download(indicator='NY.GDP.PCAP.KD', \n",
    "                  country=['US', 'CA', 'RU'], \n",
    "                  start=2010, \n",
    "                  end=2024)\n",
    "\n",
    "gdp.reset_index(inplace=True)\n",
    "gdp.sort_values(['country', 'year'], inplace=True)\n",
    "\n",
    "countries = gdp['country'].unique()\n",
    "\n",
    "plt.figure(figsize=(6,4))\n",
    "\n",
    "for country in countries:\n",
    "    \n",
    "    plt.plot(gdp[gdp['country']==country]['year'], gdp[gdp['country']==country]['NY.GDP.PCAP.KD'], label=country)\n",
    "    \n",
    "plt.xlabel('Date')\n",
    "plt.ylabel('GDP')\n",
    "\n",
    "plt.xticks(rotation=45)\n",
    "    \n",
    "plt.legend()\n",
    "\n",
    "plt.grid()\n",
    "\n",
    "None"
   ]
  },
  {
   "cell_type": "markdown",
   "metadata": {
    "id": "oYiVx_Y3Qm-8"
   },
   "source": [
    "Часть ресурсов требует наличия **API** ключа. Как правило, ключ можно получить в личном кабинете этого ресурс после регистрации. Возможно, за некоторые **API** или их расширенный функционал нужно платить."
   ]
  },
  {
   "cell_type": "markdown",
   "metadata": {
    "id": "dhUSA70AQnrm"
   },
   "source": [
    "# 6. Скрапинг данных (базово)\n",
    "\n",
    "Для скрапинга данных используются различные библиотеки. Базовыми являются **requests**, с помощью которой делается запрос к странице/сайту, и **urllib**.\n",
    "\n",
    "Для парсинга полученного кода страницы с помощью запроса можно пользоваться библиотекой **bs4**, а именно модулем **BeautifulSoup**."
   ]
  },
  {
   "cell_type": "markdown",
   "metadata": {},
   "source": [
    "## 6.1. Получение данных с сайта"
   ]
  },
  {
   "cell_type": "markdown",
   "metadata": {},
   "source": [
    "Мы будем скрапить [следующую страницу](http://www.cbr.ru/statistics/avgprocstav/?UniDbQuery.Posted=True&UniDbQuery.From=1.01.2020&UniDbQuery.To=3.03.2024)"
   ]
  },
  {
   "cell_type": "code",
   "execution_count": 102,
   "metadata": {
    "id": "pcKfsU8C2qWV"
   },
   "outputs": [],
   "source": [
    "from bs4 import BeautifulSoup\n",
    "from requests import get\n",
    "import urllib\n",
    "\n",
    "import time\n",
    "\n",
    "import datetime\n",
    "from dateutil.relativedelta import relativedelta"
   ]
  },
  {
   "cell_type": "markdown",
   "metadata": {
    "id": "ze6nuoHDRf1X"
   },
   "source": [
    "В url'e сами укажем дату, с которой вытащить значения и даты, по которую вытаскивать. Применим метод `get` к данному url."
   ]
  },
  {
   "cell_type": "code",
   "execution_count": 103,
   "metadata": {
    "id": "Taiwlm-B26N9"
   },
   "outputs": [],
   "source": [
    "end_year = time.localtime()[0]\n",
    "end_month = str(time.localtime()[1]-1)\n",
    "    \n",
    "start_year = 2020\n",
    "start_month = str(1)\n",
    "\n",
    "url = 'https://www.cbr.ru/statistics/avgprocstav/?UniDbQuery.Posted=True&UniDbQuery.From=1.'\n",
    "url = url + start_month + '.' + str(start_year) + '&UniDbQuery.To=3.' + end_month + '.' + str(end_year)\n",
    "\n",
    "response = get(url)"
   ]
  },
  {
   "cell_type": "markdown",
   "metadata": {
    "id": "LZiuQiFTSP0T"
   },
   "source": [
    "Получили какую-то HTML'ную кашу. Но если ее развернуть можно увидеть нужные нам данные по ставкам. Также известно, что HTML все же имеет свою структуру, из которой можно выцепить ту часть, которая нам нужна"
   ]
  },
  {
   "cell_type": "code",
   "execution_count": 104,
   "metadata": {
    "colab": {
     "base_uri": "https://localhost:8080/",
     "height": 137
    },
    "id": "AIUpnQsB3bId",
    "outputId": "ecb760d0-b3ed-45e4-9d34-a887571d9014"
   },
   "outputs": [
    {
     "data": {
      "text/plain": [
       "'\\r\\n<!DOCTYPE html>\\r\\n<html>\\r\\n<head>\\r\\n    \\r\\n\\r\\n<meta http-equiv=\"Content-Type\" content=\"text/html; charset=UTF-8\" />\\r\\n<meta http-equiv=\"X-UA-Compatible\" content=\"IE=edge,chrome=1\">\\r\\n<meta name=\"viewport\" content=\"width=device-width, initial-scale=1, shrink-to-fit=no\">\\r\\n<meta name=\"format-detection\" content=\"telephone=no\" />\\r\\n<meta name=\"zoom:lang\" content=\"ru\" />\\r\\n    <meta name=\"zoom:last-modified\" content=\"Fri, 03 May 2024 13:00:12 GMT\" />\\r\\n<title>Динамика максимальной процентной ставки (по вкладам в российских рублях) десяти кредитных организаций, привлекающих наибольший объём депозитов физических лиц | Банк России</title>\\r\\n\\r\\n\\r\\n\\r\\n    <meta property=\"og:image\" content=\"/common/images/share-1.jpg\" />\\r\\n\\r\\n    \\r\\n\\r\\n\\r\\n            <link rel=\"stylesheet\" type=\"text/css\" href=\"/common/libs/jquery-ui/jquery-ui.min.css?v=v478607061\" media=\"all\">\\r\\n\\r\\n            <!--[if IE 9]><link rel=\"stylesheet\" type=\"text/css\" href=\"/common/style/main-ie9.css?v=v3286523716\" media=\"all\"><![endif]-->\\r\\n\\r\\n            <!--[if gt IE 9]><!--><link rel=\"stylesheet\" type=\"text/css\" href=\"/common/style/main.min.css?v=v3286523716\" media=\"all\"><!--<![endif]-->\\r\\n\\r\\n\\r\\n        <script type=\"text/javascript\" src=\"/common/libs/jquery-3.6.1.min.js?v=v478607061\"></script>\\r\\n\\r\\n\\r\\n\\r\\n        <script type=\"text/javascript\" src=\"/common/libs/jquery-ui/jquery-ui.min.js?v=v478607061\"></script>\\r\\n\\r\\n        <script type=\"text/javascript\" src=\"/common/libs/jquery.inputmask.min.js?v=v478607061\"></script>\\r\\n\\r\\n\\r\\n        <script type=\"text/javascript\" src=\"/common/scripts/vendor.js?v=v478607061\"></script>\\r\\n\\r\\n        <script type=\"text/javascript\" src=\"/common/libs/jquery.floatThead.min.js?v=v478607061\"></script>\\r\\n\\r\\n        <script type=\"text/javascript\" src=\"/common/libs/highcharts.js?v=v478607061\"></script>\\r\\n        <script type=\"text/javascript\" src=\"/common/libs/popper.js?v=v478607061\"></script>\\r\\n\\r\\n        <script type=\"text/javascript\" src=\"/common/libs/tippy.js?v=v478607061\"></script>\\r\\n\\r\\n        <script type=\"text/javascript\" src=\"/common/scripts/main.min.js?v=v3286523716\"></script>\\r\\n\\r\\n\\r\\n        <script type=\"text/javascript\" src=\"/common/libs/localization-ru.js?v=v478607061\"></script>\\r\\n        <script type=\"text/javascript\" src=\"/js/jquery.ui.autocomplete-ru.js?v=v1043438991\"></script>\\r\\n\\r\\n        <script type=\"text/javascript\" src=\"/js/jquery.cookie.min.js?v=v4260771145\"></script>\\r\\n\\r\\n        <script type=\"text/javascript\" src=\"/js/site.js?v=v1395547681\"></script>\\r\\n\\r\\n\\r\\n\\r\\n\\r\\n\\r\\n<script src=\"/Modules/Queries/Scripts/queries-ui.js?v=v662783731\" type=\"text/javascript\"></script>\\r\\n<script src=\"/common/libs/exporting.js?v=v478607061\" type=\"text/javascript\"></script>\\r\\n    <script type=\"text/javascript\">\\r\\n    $(function () {\\r\\n        var $menu = $(\\'[data-menu]\\'),\\r\\n            $menuItemBtn = $menu.find(\\'[data-menu-item-btn]\\'),\\r\\n            $menuShow = $(\\'[data-menu-show]\\'),\\r\\n            $menuClose = $(\\'[data-menu-close]\\');\\r\\n        var config = $menu.data(\\'config\\');\\r\\n\\r\\n        $menu.find(\\'[data-cms-wholesite-header-right]\\').html($(\\'#header .header_right\\').html());\\r\\n\\r\\n        $menuShow.on(\\'click.cms_loadwholesite\\', function (event) {\\r\\n            loadWholeSite(true);\\r\\n        });\\r\\n        $menuShow.on(\\'mouseenter.cms_loadwholesite\\', function (event) {\\r\\n            loadWholeSite(false);\\r\\n        });\\r\\n\\r\\n        var xhr = null, g_openMenu = false;\\r\\n        function loadWholeSite(openmenu) {\\r\\n            g_openMenu = g_openMenu || openmenu;\\r\\n            $menuShow.off(\\'click.cms_loadwholesite mouseenter.cms_loadwholesite\\');\\r\\n            if (xhr === null) {\\r\\n                $(\\'.menu_wrap .networks-circle\\').html($(\\'.networks-circle.footer_networks\\').html());\\r\\n                $(\\'.menu_wrap .header_search\\').html($(\\'.header .offsetMenu .header_search\\').html());\\r\\n\\r\\n                xhr = $.ajax(config.url, {\\r\\n                    dataType: \"html\",\\r\\n                    method: \"get\",\\r\\n                    success: function (html) {\\r\\n                        $(\\'[data-cms-wholesite-placeholder]\\').replaceWith(html);\\r\\n\\r\\n                        $menu.find(\\'.menu_tab[data-tabs-tab]\\').each(function () {\\r\\n                            var tab = $(this).data(\\'tabs-tab\\');\\r\\n                            $(this).toggle($menu.find(\\'[data-tabs-content=\"\\' + tab + \\'\"]\\').length != 0);\\r\\n                        });\\r\\n\\r\\n                        app.init($menu);\\r\\n\\r\\n                        for (var i in config.catalogPath) {\\r\\n                            $menu.find(\\'li[data-catalog-id=\"\\' + config.catalogPath[i] + \\'\"]\\')\\r\\n                                .addClass(\"_active\");\\r\\n                            $menu.find(\\'li[data-catalog-id=\"\\' + config.catalogPath[i] + \\'\"]\\')\\r\\n                                .closest(\\'[data-tabs-content]\\')\\r\\n                                .trigger(\\'open-anchor\\');\\r\\n                        }\\r\\n\\r\\n                        \\r\\n                        xhr = true;\\r\\n                    },\\r\\n                    error: function () {\\r\\n                        xhr = null;\\r\\n                    }\\r\\n                });\\r\\n            }\\r\\n        }\\r\\n    });\\r\\n    </script>\\r\\n\\r\\n\\r\\n<script>\\r\\n    if (window.localStorage) {\\r\\n        if (localStorage.getItem(\\'vision-impaired\\'))\\r\\n            document.getElementsByTagName(\\'html\\')[0].className += \\' vision-impaired\\';\\r\\n    }\\r\\n</script>\\r\\n<script>\\r\\n    document.documentElement.style.setProperty(\\'--scrollbar-width\\', \\'17px\\');\\r\\n    setTimeout(function () {\\r\\n        \\r\\n        var div = document.createElement(\\'div\\');\\r\\n\\r\\n        div.style.overflowY = \\'scroll\\';\\r\\n        div.style.width = \\'50px\\';\\r\\n        div.style.height = \\'50px\\';\\r\\n\\r\\n        \\r\\n        div.style.visibility = \\'hidden\\';\\r\\n\\r\\n        document.body.appendChild(div);\\r\\n        var scrollWidth = Math.max(div.offsetWidth - div.clientWidth, 0.15); \\r\\n        document.body.removeChild(div);\\r\\n        \\r\\n        document.documentElement.style.setProperty(\\'--scrollbar-width\\', scrollWidth + \\'px\\');\\r\\n    }, 0);\\r\\n</script>\\r\\n\\r\\n\\r\\n\\r\\n    \\r\\n</head>\\r\\n<body>\\r\\n    \\r\\n\\r\\n    <!-- Yandex.Metrika counter -->\\r\\n    <script type=\"text/javascript\" >\\r\\n       (function(m,e,t,r,i,k,a){m[i]=m[i]||function(){(m[i].a=m[i].a||[]).push(arguments)};\\r\\n       m[i].l=1*new Date();k=e.createElement(t),a=e.getElementsByTagName(t)[0],k.async=1,k.src=r,a.parentNode.insertBefore(k,a)})\\r\\n       (window, document, \"script\", \"https://mc.yandex.ru/metrika/tag.js\", \"ym\");\\r\\n\\r\\n       ym(5774506, \"init\", {\\r\\n            clickmap:true,\\r\\n            trackLinks:true,\\r\\n            accurateTrackBounce:true,\\r\\n            webvisor:true\\r\\n       });\\r\\n    </script>\\r\\n    <noscript><div><img src=\"https://mc.yandex.ru/watch/5774506\" style=\"position:absolute; left:-9999px;\" alt=\"\" /></div></noscript>\\r\\n    <!-- /Yandex.Metrika counter -->   \\r\\n\\r\\n    \\r\\n    \\r\\n<div class=\"old-site-version\" data-old-site-version=\"\">\\r\\n    <div class=\"offsetMenu\">\\r\\n            <div class=\"old-site-version_text\">\\r\\n<a href=\"/support_measures/\">МЕРЫ ЗАЩИТЫ ФИНАНСОВОГО РЫНКА</a>\\r\\n            </div>\\r\\n    </div>\\r\\n</div>\\r\\n\\r\\n    <div class=\"header-print\">\\r\\n    <div class=\"offsetMenu\">\\r\\n        <div class=\"header-print_inner\">\\r\\n            <img class=\"header-print_logo\" alt=\"cbr\" src=\"/common/images/logo.svg\">\\r\\n            <ul class=\"header-print_contacts\">\\r\\n<li>107016, Москва, ул. Неглинная, д.&nbsp;12, к. В, Банк России</li>\\r\\n<li><nobr class=\"phone\">8 800 300-30-00</nobr></li>\\r\\n<li>www.cbr.ru</li>\\r\\n</ul>\\r\\n\\r\\n        </div>\\r\\n    </div>\\r\\n</div>\\r\\n\\r\\n    <header class=\"header\" id=\"header\">\\r\\n        \\r\\n<div class=\"top-line\" data-top-line=\"\">\\r\\n    <div class=\"offsetMenu\">\\r\\n        <div class=\"col-md-23 offset-md-1\">\\r\\n            <div class=\"top-line_inner header_inner\">\\r\\n                <div class=\"row\">\\r\\n                    <div class=\"col-xl-5 col-md-9\">\\r\\n                        <div class=\"header_left\">\\r\\n                                <div class=\"header_menu\" data-menu-show=\"\"></div>\\r\\n                            <a class=\"header_logo\" href=\"/\"></a>\\r\\n                        </div>\\r\\n                    </div>\\r\\n                    <div class=\"col-xl-17 col-md-13 offset-md-1 header_block\">\\r\\n                        <div class=\"header_search\">\\r\\n                                <a class=\"header_search_btn\" href=\"#\" data-search-form-show=\"\" title=\"поиск\">\\r\\n        <div class=\"header_search_icon\"></div><span class=\"d-none d-xl-block\">Поиск по сайту</span>\\r\\n    </a>\\r\\n\\r\\n                        </div>\\r\\n                        <div class=\"d-none d-md-block\">\\r\\n                            <div class=\"header_right\">\\r\\n                                <div class=\"header_link\"><a href=\"/reception/\">Интернет-приемная</a></div><div class=\"header_lang\">\\r\\n            <div class=\"header_lang_item _active\"><span><!--noindex-->RU<!--/noindex--></span></div>\\r\\n            <div class=\"header_lang_item\"><a href=\"/Localization/SwitchLanguage?url=%2Fstatistics%2Favgprocstav%2F%3FUniDbQuery.Posted%3DTrue%26UniDbQuery.From%3D1.1.2020%26UniDbQuery.To%3D3.4.2024&amp;from=ru-RU&amp;to=en-CB\"><!--noindex-->EN<!--/noindex--></a></div>\\r\\n</div>\\r\\n                            </div>\\r\\n                        </div>\\r\\n                    </div>\\r\\n                </div>\\r\\n            </div>\\r\\n        </div>\\r\\n    </div>\\r\\n</div>\\r\\n        <div class=\"offsetMenu\">\\r\\n            <div class=\"col-md-23 offset-md-1\">\\r\\n                <div class=\"header_inner\">\\r\\n                    <div class=\"row\">\\r\\n                        <div class=\"col-xl-5 col-md-9\">\\r\\n                            <div class=\"header_left\">\\r\\n                                    <div class=\"header_menu\" data-menu-show=\"\"></div>\\r\\n                                <a class=\"header_logo\" href=\"/\"></a>\\r\\n                            </div>\\r\\n                        </div>\\r\\n                        <div class=\"col-xl-17 col-md-13 offset-md-1 header_block\">\\r\\n                            <div class=\"header_search\">\\r\\n                                    <a class=\"header_search_btn\" href=\"#\" data-search-form-show=\"\" title=\"поиск\">\\r\\n        <div class=\"header_search_icon\"></div><span class=\"d-none d-xl-block\">Поиск по сайту</span>\\r\\n    </a>\\r\\n\\r\\n                            </div>\\r\\n                            <div class=\"d-none d-md-block\">\\r\\n                                <div class=\"header_right\">\\r\\n                                    <div class=\"header_link\"><a href=\"/reception/\">Интернет-приемная</a></div><div class=\"header_lang\">\\r\\n            <div class=\"header_lang_item _active\"><span><!--noindex-->RU<!--/noindex--></span></div>\\r\\n            <div class=\"header_lang_item\"><a href=\"/Localization/SwitchLanguage?url=%2Fstatistics%2Favgprocstav%2F%3FUniDbQuery.Posted%3DTrue%26UniDbQuery.From%3D1.1.2020%26UniDbQuery.To%3D3.4.2024&amp;from=ru-RU&amp;to=en-CB\"><!--noindex-->EN<!--/noindex--></a></div>\\r\\n</div>\\r\\n                                </div>\\r\\n                            </div>\\r\\n                        </div>\\r\\n                    </div>\\r\\n                </div>\\r\\n            </div>\\r\\n        </div>\\r\\n    </header>\\r\\n    <form class=\"search-form\" action=\"/search/\" method=\"get\" data-search-form=\"\">\\r\\n    <div class=\"offsetMenu\">\\r\\n        <div class=\"col-md-23 offset-md-1\">\\r\\n            <div class=\"search-form_inner\">\\r\\n                <div class=\"search-form_title\">Что вы хотите найти?</div>\\r\\n                <div class=\"search-form_content\">\\r\\n                    <div class=\"search-form_block\">\\r\\n                        <div class=\"search-form_icon\"></div>\\r\\n                        <div class=\"search-form_field\">\\r\\n                            <input name=\"text\" type=\"text\" placeholder=\"Начните писать\" data-search-form-input=\"\" />\\r\\n                        </div>\\r\\n                    </div>\\r\\n                    <div class=\"search-form_btn\">\\r\\n                        <button class=\"b-btn _blue\" data-search-form-btn=\"\">Искать</button>\\r\\n                    </div>\\r\\n                </div>\\r\\n            </div>\\r\\n        </div>\\r\\n    </div>\\r\\n</form>\\r\\n\\r\\n\\r\\n\\r\\n<div class=\"menu_wrap\" data-menu=\"\" data-config=\"{&quot;catalogPath&quot;:[22108,16628],&quot;url&quot;:&quot;/Catalog/SiteMap/GetWholeSiteHtml?blockId=59191&quot;}\">\\r\\n    <div class=\"offsetMenu\">\\r\\n        <div class=\"header_menu _close menu_close d-none d-md-block\" data-menu-close=\"\"></div>\\r\\n        <div class=\"header_inner top-line_inner d-block d-md-none\">\\r\\n            <div class=\"row\">\\r\\n                <div class=\"col-xl-5 col-md-9\">\\r\\n                    <div class=\"header_left\">\\r\\n                        <div role=\"button\" tabindex=\"0\" aria-label=\"Закрыть меню\" class=\"header_menu _close\" data-menu-close=\"\"></div><a class=\"header_logo\" href=\"/\"></a>\\r\\n                    </div>\\r\\n                </div>\\r\\n                <div class=\"col-xl-17 col-md-13 offset-md-1 header_block\">\\r\\n                    <div class=\"header_search\"></div>\\r\\n                </div>\\r\\n            </div>\\r\\n        </div>\\r\\n        <div class=\"menu row\" data-tabs=\"data-tabs\">\\r\\n            <div class=\"menu_quick col-md-7\">\\r\\n                <div role=\"tablist\" class=\"menu_quick_tabs\">\\r\\n    <a role=\"tab\" id=\"menu_tab_Activity\" aria-controls=\"menu_content_Activity\" aria-selected=\"true\" class=\"menu_tab _active\" href=\"#\" data-tabs-tab=\"Activity\">Деятельность</a>\\r\\n    <a role=\"tab\" id=\"menu_tab_FinancialMarkets\" aria-controls=\"menu_content_FinancialMarkets\" aria-selected=\"false\" class=\"menu_tab\" href=\"#\" data-tabs-tab=\"FinancialMarkets\">Финансовые рынки</a>\\r\\n    <a role=\"tab\" id=\"menu_tab_Documents\" aria-controls=\"menu_content_Documents\" aria-selected=\"false\" class=\"menu_tab\" href=\"#\" data-tabs-tab=\"Documents\">Документы и данные</a>\\r\\n    <a role=\"tab\" id=\"menu_tab_AboutBank\" aria-controls=\"menu_content_AboutBank\" aria-selected=\"false\" class=\"menu_tab\" href=\"#\" data-tabs-tab=\"AboutBank\">О Банке России</a>\\r\\n    <a role=\"tab\" id=\"menu_tab_Services\" aria-controls=\"menu_content_Services\" aria-selected=\"false\" class=\"menu_tab\" href=\"#\" data-tabs-tab=\"Services\">Сервисы</a>\\r\\n</div>\\r\\n<div class=\"menu_quick_links\">\\r\\n    <div class=\"inner_links\"><a href=\"/support_measures/\" title=\"Меры зашиты финансового рынка\" style=\"color:red\">Меры защиты финансового рынка</a>\\n  </div>\\n<div class=\"phones\"><a class=\"menu_phone_val\" href=\"tel:+74993003000\">\\n<div class=\"plus\">+</div>7 499 300-30-00</a><a class=\"menu_phone_val\" href=\"tel:88003003000\">8 800 300-30-00</a><a class=\"menu_phone_val\" href=\"tel:300\">300</a><span>Бесплатно для звонков с мобильных телефонов</span></div>\\n<div class=\"inner_links\">\\n  <a href=\"/news/\" title=\"Новости\">Новости</a>\\n  <a href=\"/rbr/\" title=\"Решения Банка России\">Решения Банка России</a>\\n  <a href=\"/contacts/\" title=\"Контактная информация\">Контактная информация</a>\\n  <a href=\"/sitemap\" title=\"Карта сайта\">Карта сайта</a>\\n  <a href=\"/about/\" title=\"О сайте\">О сайте</a>\\n  </div>\\n<div class=\"networks-circle\">\\n  <a class=\"networks-circle_item _vk\" href=\"https://vk.com/cbr_official\" title=\"ВКонтакте\"></a>\\n  <a class=\"networks-circle_item _yt\" href=\"https://www.youtube.com/user/BankofRussia\" title=\"Youtube\"></a>\\n  <a class=\"networks-circle_item _tg\" href=\"https://t.me/centralbank_russia\" title=\"Telegram\"></a>\\n  <a class=\"networks-circle_item _ydzen\" href=\"https://zen.yandex.ru/id/622372d6a565892091994ea9\" title=\"Яндекс Дзен\"></a>\\n  <a class=\"networks-circle_item _ok\" href=\"https://ok.ru/group/68858679787580\" title=\"Одноклассники\"></a>\\n</div>\\r\\n</div>\\r\\n            </div>\\r\\n            <div class=\"d-md-none link-above\">\\r\\n                <div class=\"header_right\" data-cms-wholesite-header-right=\"\">\\r\\n                </div>\\r\\n                    <div class=\"header_right\">\\r\\n                        <div class=\"header_link\"><a href=\"/fmp_check/\">Проверить участника финансового рынка</a></div>\\r\\n                    </div>\\r\\n            </div>\\r\\n            <div class=\"menu_content_container col-md with-centered-loader\" data-cms-wholesite-placeholder=\"\">\\r\\n            </div>\\r\\n        </div>\\r\\n    </div>\\r\\n</div>\\r\\n\\r\\n    <main id=\"content\">\\r\\n        <div class=\"offsetMenu \">\\r\\n            <div class=\"container-fluid\">\\r\\n                <div class=\"col-md-23 offset-md-1\">\\r\\n                    <div class=\"breadcrumbs\">\\r\\n    <div class=\"breadcrumbs_item\"><a class=\"breadcrumbs_home\" href=\"/\"></a></div>\\r\\n        <div class=\"breadcrumbs_item\">\\r\\n            <a href=\"/statistics/\"><!--noindex-->Статистика<!--/noindex--></a>\\r\\n        </div>\\r\\n    </div>\\r\\n\\r\\n                    <!--index-->\\r\\n<h1 class=\"_medium\"><span class=\"referenceable\">Динамика максимальной процентной ставки (по&#160;вкладам в&#160;российских рублях) десяти кредитных организаций, привлекающих наибольший объём депозитов физических лиц</span>\\r\\n</h1>\\r\\n                                        \\r\\n\\r\\n\\r\\n\\r\\n\\r\\n\\r\\n\\r\\n                                                                                \\r\\n\\r\\n<script type=\"text/javascript\">\\r\\n<!--\\r\\n    var UniDbQuery_Data = {};\\r\\n// -->\\r\\n</script>\\r\\n\\r\\n        <!--noindex-->\\r\\n<form action=\"/statistics/avgprocstav/?UniDbQuery.Posted=True&amp;UniDbQuery.From=1.1.2020&amp;UniDbQuery.To=3.4.2024\" class=\"_with-submit\" method=\"get\"><input id=\"UniDbQuery_Posted\" name=\"UniDbQuery.Posted\" type=\"hidden\" value=\"True\" />    <div class=\"request vertical\" id=\"UniDbQuery_form\">\\r\\n\\r\\n\\r\\n\\r\\n\\r\\n<div>\\r\\n\\r\\n\\r\\n\\r\\n        <div class=\"request_block\">\\r\\n            <div class=\"text-input _m _filter\" data-text-input>\\r\\n                \\r\\n                <label class=\"input_label\">\\r\\n                        <div class=\"datepicker-filter\" data-decadepicker-period-filter\\r\\n         data-min-date=\"2.07.2009\"\\r\\n         data-max-date=\"3.04.2024\"\\r\\n         data-default-value-from=\"3.06.2022\"\\r\\n         data-default-value-to=\"3.04.2024\">\\r\\n        <input class=\"datepicker-filter_input-from\" type=\"hidden\" name=\"UniDbQuery.From\" value=\"3.06.2022\" />\\r\\n        <input class=\"datepicker-filter_input-to\" type=\"hidden\" name=\"UniDbQuery.To\" value=\"3.04.2024\" />\\r\\n        <button class=\"datepicker-filter_button\" type=\"button\">\\r\\n            III.06.2022\\r\\n            - III.04.2024\\r\\n        </button>\\r\\n        <div class=\"datepicker-filter_modal\">\\r\\n            <div class=\"datepicker-filter_head\">\\r\\n                <div class=\"datepicker-filter_close\"></div>\\r\\n            </div>\\r\\n            <div class=\"datepicker-filter_tabs\">\\r\\n                <div class=\"datepicker-filter_tab-from\"></div>&nbsp;-&nbsp;\\r\\n                <div class=\"datepicker-filter_tab-to\"></div>\\r\\n            </div>\\r\\n            <div class=\"datepicker-filter_body\">\\r\\n                <div class=\"datepicker-filter_datepicker-from decadepicker-custom\"></div>\\r\\n                <div class=\"datepicker-filter_datepicker-to decadepicker-custom\"></div>\\r\\n            </div>\\r\\n            <div class=\"datepicker-filter_footer\">\\r\\n                <button class=\"datepicker-filter_apply-btn\" type=\"button\">Применить</button>\\r\\n            </div>\\r\\n        </div>\\r\\n    </div>\\r\\n\\r\\n                        <div class=\"input_placeholder\">Период</div>\\r\\n                </label>\\r\\n            </div>\\r\\n        </div>\\r\\n\\r\\n\\r\\n\\r\\n\\r\\n\\r\\n\\r\\n\\r\\n\\r\\n\\r\\n\\r\\n\\r\\n\\r\\n\\r\\n\\r\\n</div>\\r\\n\\r\\n\\r\\n\\r\\n\\r\\n\\r\\n\\r\\n\\r\\n\\r\\n\\r\\n\\r\\n\\r\\n\\r\\n\\r\\n\\r\\n            <div class=\"request_bottom btns\">\\r\\n                    <button type=\"submit\" id=\"UniDbQuery_searchbutton\" class=\"btn _large _blue \">\\r\\n                        Получить данные\\r\\n                    </button>\\r\\n                            </div>\\r\\n    </div>\\r\\n</form>\\r\\n        <!--/noindex-->\\r\\n\\r\\n\\r\\n<h2 class=\"h3\">Диаграмма изменения максимальной процентной ставки за&#160;выбранный период</h2><div data-cms-chart-container=\"\" class=\"chart-container \"  id=\"UniDbQuery_Charts_0__ChartModel_chart\"></div>\\r\\n        <script>\\r\\n            //<![CDATA[\\r\\n            $(function () {\\r\\n                Highcharts.setOptions({\\r\\n                    lang: {\\r\\n                        decimalPoint: \",\",\\r\\n                        thousandsSep: \"\\xa0\",\\r\\n                    },\\r\\n                });\\r\\n            })\\r\\n            //]]>\\r\\n        </script>\\r\\n    <script>\\r\\n        //<![CDATA[\\r\\n        $(function () {\\r\\n            Highcharts.setOptions({\\r\\n                chart: {\\r\\n                    numberFormatter: numberFormatNoExponent\\r\\n                }\\r\\n            });\\r\\n        });\\r\\n        function numberFormatNoExponent(number, decimals, decimalPoint, thousandsSep) {\\r\\n            let defaultFormatted = Highcharts.numberFormat(number, decimals, decimalPoint, thousandsSep);\\r\\n            if (defaultFormatted.indexOf(\\'e\\') < 0)\\r\\n                return defaultFormatted;\\r\\n\\r\\n            let exponent = defaultFormatted.split(\\'e\\');\\r\\n            if (exponent[1] < 0) {\\r\\n                let intNumber = Math.floor(number);\\r\\n                let intStr = Highcharts.numberFormat(intNumber, 0, decimalPoint, thousandsSep);\\r\\n                let tailStr = number.toFixed(20);\\r\\n                let lailStrSplit = tailStr.split(\\'.\\');\\r\\n                if (tailStr.indexOf(\\'e\\') >= 0) { //toFixed() may still return exponent notation for really long numbers, we simply return it as is\\r\\n                    return defaultFormatted;\\r\\n                }\\r\\n                else if (lailStrSplit[1]) {\\r\\n                    return intStr + decimalPoint + lailStrSplit[1].replace(/0+$/, \"\");\\r\\n                }\\r\\n                else\\r\\n                    return intStr;\\r\\n            }\\r\\n            else if (exponent[1] > 0) {\\r\\n                var modNumber = Highcharts.numberFormat(number / 1000, decimals, decimalPoint, thousandsSep);\\r\\n                var parts = modNumber.split(decimalPoint);\\r\\n                return parts[0] + thousandsSep + \"000\" + decimalPoint + parts[1];\\r\\n            }\\r\\n            else\\r\\n                return defaultFormatted;\\r\\n        }\\r\\n        //]]>\\r\\n    </script>\\r\\n\\r\\n<script>\\r\\n//<![CDATA[\\r\\n    $(function () {\\r\\n        var chartId = \"UniDbQuery_Charts_0__ChartModel_chart\";\\r\\n        var $chart = $(\\'#\\' + chartId);\\r\\n\\r\\n\\r\\n        var settings = {\"chart\":{\"spacingBottom\":5},\"xAxis\":{\"type\":\"category\",\"labels\":{\"style\":{}},\"categories\":[\"III.06.2022\",\"I.07.2022\",\"II.07.2022\",\"III.07.2022\",\"I.08.2022\",\"II.08.2022\",\"III.08.2022\",\"I.09.2022\",\"II.09.2022\",\"III.09.2022\",\"I.10.2022\",\"II.10.2022\",\"III.10.2022\",\"I.11.2022\",\"II.11.2022\",\"III.11.2022\",\"I.12.2022\",\"II.12.2022\",\"III.12.2022\",\"I.01.2023\",\"II.01.2023\",\"III.01.2023\",\"I.02.2023\",\"II.02.2023\",\"III.02.2023\",\"I.03.2023\",\"II.03.2023\",\"III.03.2023\",\"I.04.2023\",\"II.04.2023\",\"III.04.2023\",\"I.05.2023\",\"II.05.2023\",\"III.05.2023\",\"I.06.2023\",\"II.06.2023\",\"III.06.2023\",\"I.07.2023\",\"II.07.2023\",\"III.07.2023\",\"I.08.2023\",\"II.08.2023\",\"III.08.2023\",\"I.09.2023\",\"II.09.2023\",\"III.09.2023\",\"I.10.2023\",\"II.10.2023\",\"III.10.2023\",\"I.11.2023\",\"II.11.2023\",\"III.11.2023\",\"I.12.2023\",\"II.12.2023\",\"III.12.2023\",\"I.01.2024\",\"II.01.2024\",\"III.01.2024\",\"I.02.2024\",\"II.02.2024\",\"III.02.2024\",\"I.03.2024\",\"II.03.2024\",\"III.03.2024\",\"I.04.2024\",\"II.04.2024\",\"III.04.2024\"],\"title\":{},\"crosshair\":{\"color\":\"#f5f5f5\",\"zIndex\":0}},\"yAxis\":[{\"tickAmount\":5,\"title\":{\"text\":\"\"},\"labels\":{\"format\":\"{value:,.f}\",\"style\":{}}}],\"legend\":{\"enabled\":false,\"navigation\":{\"enabled\":false}},\"title\":{},\"subtitle\":{},\"series\":[{\"dataLabels\":{\"enabled\":false,\"format\":\"{point.y:,.f}\",\"style\":{}},\"tooltip\":{},\"type\":\"line\",\"lineWidth\":2,\"marker\":{\"symbol\":\"circle\"},\"data\":[7.7230,7.6450,7.6450,6.9250,6.8250,6.8550,6.8350,6.8350,6.7400,6.5410,6.6690,6.7870,6.8390,6.9840,7.0610,7.2950,7.3920,8.1920,8.1770,8.1300,8.0360,8.0360,7.9260,7.9260,7.6760,7.6760,7.6760,7.6760,7.6760,7.6760,7.6360,7.6360,7.7470,7.7470,7.8270,7.8270,7.8270,7.8270,7.8270,8.1070,8.1460,9.2310,9.6610,9.6960,9.7700,10.1890,10.1800,11.4360,12.0360,13.5670,13.6370,13.6370,14.0030,14.5220,14.7530,14.7930,14.8700,14.8800,14.8300,14.8590,14.7890,14.8470,14.7020,14.8320,14.8320,14.8320,14.9220],\"color\":\"#0088cc\",\"id\":\"s0\",\"name\":\"ставка, %\"}],\"tooltip\":{\"headerFormat\":\"<div class=\\\\\"chart-tooltip-header\\\\\">{point.x}</div>\",\"pointFormat\":\"<div class=\\\\\"chart-tooltip-line\\\\\">\\\\r\\\\n<div class=\\\\\"chart-tooltip-dot\\\\\" style=\\\\\"color:{point.color}\\\\\">●</div>\\\\r\\\\n<div class=\\\\\"chart-tooltip-series\\\\\">{series.name}: </div>\\\\r\\\\n<div class=\\\\\"chart-tooltip-value\\\\\">{point.y:,.f}{series.options.units}</div>\\\\r\\\\n</div>\"},\"responsive\":\\r\\n{\\r\\nrules: [\\r\\n]}};\\r\\n        var patch = $chart.data(\\'highchartsPatch\\');\\r\\n        settings = typeof (patch) === \\'function\\' ? (patch(settings) || settings) : $.extend(true, settings, patch);\\r\\n\\r\\n        $chart.trigger(\\'cms:loadHighchart\\', [settings]);\\r\\n\\r\\n\\r\\n        var chart = Highcharts.chart(chartId, settings);\\r\\n\\r\\n        \\r\\n\\r\\n            app.chartLegendDataHighlighter(chartId, chart);\\r\\n\\r\\n                app.chartsPrint(chart);\\r\\n                })\\r\\n//]]>\\r\\n</script>\\r\\n\\r\\n<div class=\"table-wrapper\">\\r\\n  <div class=\"table\">\\r\\n    <table class=\"data\">\\r\\n      <tr>\\r\\n        <th>Декада</th>\\r\\n        <th>Ставка, %</th>\\r\\n      </tr>\\r\\n      <tr>\\r\\n        <td>III.04.2024</td>\\r\\n        <td>14,9220</td>\\r\\n      </tr>\\r\\n      <tr>\\r\\n        <td>II.04.2024</td>\\r\\n        <td>14,8320</td>\\r\\n      </tr>\\r\\n      <tr>\\r\\n        <td>I.04.2024</td>\\r\\n        <td>14,8320</td>\\r\\n      </tr>\\r\\n      <tr>\\r\\n        <td>III.03.2024</td>\\r\\n        <td>14,8320</td>\\r\\n      </tr>\\r\\n      <tr>\\r\\n        <td>II.03.2024</td>\\r\\n        <td>14,7020</td>\\r\\n      </tr>\\r\\n      <tr>\\r\\n        <td>I.03.2024</td>\\r\\n        <td>14,8470</td>\\r\\n      </tr>\\r\\n      <tr>\\r\\n        <td>III.02.2024</td>\\r\\n        <td>14,7890</td>\\r\\n      </tr>\\r\\n      <tr>\\r\\n        <td>II.02.2024</td>\\r\\n        <td>14,8590</td>\\r\\n      </tr>\\r\\n      <tr>\\r\\n        <td>I.02.2024</td>\\r\\n        <td>14,8300</td>\\r\\n      </tr>\\r\\n      <tr>\\r\\n        <td>III.01.2024</td>\\r\\n        <td>14,8800</td>\\r\\n      </tr>\\r\\n      <tr>\\r\\n        <td>II.01.2024</td>\\r\\n        <td>14,8700</td>\\r\\n      </tr>\\r\\n      <tr>\\r\\n        <td>I.01.2024</td>\\r\\n        <td>14,7930</td>\\r\\n      </tr>\\r\\n      <tr>\\r\\n        <td>III.12.2023</td>\\r\\n        <td>14,7530</td>\\r\\n      </tr>\\r\\n      <tr>\\r\\n        <td>II.12.2023</td>\\r\\n        <td>14,5220</td>\\r\\n      </tr>\\r\\n      <tr>\\r\\n        <td>I.12.2023</td>\\r\\n        <td>14,0030</td>\\r\\n      </tr>\\r\\n      <tr>\\r\\n        <td>III.11.2023</td>\\r\\n        <td>13,6370</td>\\r\\n      </tr>\\r\\n      <tr>\\r\\n        <td>II.11.2023</td>\\r\\n        <td>13,6370</td>\\r\\n      </tr>\\r\\n      <tr>\\r\\n        <td>I.11.2023</td>\\r\\n        <td>13,5670</td>\\r\\n      </tr>\\r\\n      <tr>\\r\\n        <td>III.10.2023</td>\\r\\n        <td>12,0360</td>\\r\\n      </tr>\\r\\n      <tr>\\r\\n        <td>II.10.2023</td>\\r\\n        <td>11,4360</td>\\r\\n      </tr>\\r\\n      <tr>\\r\\n        <td>I.10.2023</td>\\r\\n        <td>10,1800</td>\\r\\n      </tr>\\r\\n      <tr>\\r\\n        <td>III.09.2023</td>\\r\\n        <td>10,1890</td>\\r\\n      </tr>\\r\\n      <tr>\\r\\n        <td>II.09.2023</td>\\r\\n        <td>9,7700</td>\\r\\n      </tr>\\r\\n      <tr>\\r\\n        <td>I.09.2023</td>\\r\\n        <td>9,6960</td>\\r\\n      </tr>\\r\\n      <tr>\\r\\n        <td>III.08.2023</td>\\r\\n        <td>9,6610</td>\\r\\n      </tr>\\r\\n      <tr>\\r\\n        <td>II.08.2023</td>\\r\\n        <td>9,2310</td>\\r\\n      </tr>\\r\\n      <tr>\\r\\n        <td>I.08.2023</td>\\r\\n        <td>8,1460</td>\\r\\n      </tr>\\r\\n      <tr>\\r\\n        <td>III.07.2023</td>\\r\\n        <td>8,1070</td>\\r\\n      </tr>\\r\\n      <tr>\\r\\n        <td>II.07.2023</td>\\r\\n        <td>7,8270</td>\\r\\n      </tr>\\r\\n      <tr>\\r\\n        <td>I.07.2023</td>\\r\\n        <td>7,8270</td>\\r\\n      </tr>\\r\\n      <tr>\\r\\n        <td>III.06.2023</td>\\r\\n        <td>7,8270</td>\\r\\n      </tr>\\r\\n      <tr>\\r\\n        <td>II.06.2023</td>\\r\\n        <td>7,8270</td>\\r\\n      </tr>\\r\\n      <tr>\\r\\n        <td>I.06.2023</td>\\r\\n        <td>7,8270</td>\\r\\n      </tr>\\r\\n      <tr>\\r\\n        <td>III.05.2023</td>\\r\\n        <td>7,7470</td>\\r\\n      </tr>\\r\\n      <tr>\\r\\n        <td>II.05.2023</td>\\r\\n        <td>7,7470</td>\\r\\n      </tr>\\r\\n      <tr>\\r\\n        <td>I.05.2023</td>\\r\\n        <td>7,6360</td>\\r\\n      </tr>\\r\\n      <tr>\\r\\n        <td>III.04.2023</td>\\r\\n        <td>7,6360</td>\\r\\n      </tr>\\r\\n      <tr>\\r\\n        <td>II.04.2023</td>\\r\\n        <td>7,6760</td>\\r\\n      </tr>\\r\\n      <tr>\\r\\n        <td>I.04.2023</td>\\r\\n        <td>7,6760</td>\\r\\n      </tr>\\r\\n      <tr>\\r\\n        <td>III.03.2023</td>\\r\\n        <td>7,6760</td>\\r\\n      </tr>\\r\\n      <tr>\\r\\n        <td>II.03.2023</td>\\r\\n        <td>7,6760</td>\\r\\n      </tr>\\r\\n      <tr>\\r\\n        <td>I.03.2023</td>\\r\\n        <td>7,6760</td>\\r\\n      </tr>\\r\\n      <tr>\\r\\n        <td>III.02.2023</td>\\r\\n        <td>7,6760</td>\\r\\n      </tr>\\r\\n      <tr>\\r\\n        <td>II.02.2023</td>\\r\\n        <td>7,9260</td>\\r\\n      </tr>\\r\\n      <tr>\\r\\n        <td>I.02.2023</td>\\r\\n        <td>7,9260</td>\\r\\n      </tr>\\r\\n      <tr>\\r\\n        <td>III.01.2023</td>\\r\\n        <td>8,0360</td>\\r\\n      </tr>\\r\\n      <tr>\\r\\n        <td>II.01.2023</td>\\r\\n        <td>8,0360</td>\\r\\n      </tr>\\r\\n      <tr>\\r\\n        <td>I.01.2023</td>\\r\\n        <td>8,1300</td>\\r\\n      </tr>\\r\\n      <tr>\\r\\n        <td>III.12.2022</td>\\r\\n        <td>8,1770</td>\\r\\n      </tr>\\r\\n      <tr>\\r\\n        <td>II.12.2022</td>\\r\\n        <td>8,1920</td>\\r\\n      </tr>\\r\\n      <tr>\\r\\n        <td>I.12.2022</td>\\r\\n        <td>7,3920</td>\\r\\n      </tr>\\r\\n      <tr>\\r\\n        <td>III.11.2022</td>\\r\\n        <td>7,2950</td>\\r\\n      </tr>\\r\\n      <tr>\\r\\n        <td>II.11.2022</td>\\r\\n        <td>7,0610</td>\\r\\n      </tr>\\r\\n      <tr>\\r\\n        <td>I.11.2022</td>\\r\\n        <td>6,9840</td>\\r\\n      </tr>\\r\\n      <tr>\\r\\n        <td>III.10.2022</td>\\r\\n        <td>6,8390</td>\\r\\n      </tr>\\r\\n      <tr>\\r\\n        <td>II.10.2022</td>\\r\\n        <td>6,7870</td>\\r\\n      </tr>\\r\\n      <tr>\\r\\n        <td>I.10.2022</td>\\r\\n        <td>6,6690</td>\\r\\n      </tr>\\r\\n      <tr>\\r\\n        <td>III.09.2022</td>\\r\\n        <td>6,5410</td>\\r\\n      </tr>\\r\\n      <tr>\\r\\n        <td>II.09.2022</td>\\r\\n        <td>6,7400</td>\\r\\n      </tr>\\r\\n      <tr>\\r\\n        <td>I.09.2022</td>\\r\\n        <td>6,8350</td>\\r\\n      </tr>\\r\\n      <tr>\\r\\n        <td>III.08.2022</td>\\r\\n        <td>6,8350</td>\\r\\n      </tr>\\r\\n      <tr>\\r\\n        <td>II.08.2022</td>\\r\\n        <td>6,8550</td>\\r\\n      </tr>\\r\\n      <tr>\\r\\n        <td>I.08.2022</td>\\r\\n        <td>6,8250</td>\\r\\n      </tr>\\r\\n      <tr>\\r\\n        <td>III.07.2022</td>\\r\\n        <td>6,9250</td>\\r\\n      </tr>\\r\\n      <tr>\\r\\n        <td>II.07.2022</td>\\r\\n        <td>7,6450</td>\\r\\n      </tr>\\r\\n      <tr>\\r\\n        <td>I.07.2022</td>\\r\\n        <td>7,6450</td>\\r\\n      </tr>\\r\\n      <tr>\\r\\n        <td>III.06.2022</td>\\r\\n        <td>7,7230</td>\\r\\n      </tr>\\r\\n    </table>\\r\\n  </div>\\r\\n</div>\\r\\n                    \\r\\n                    <!--/index-->\\r\\n                    \\r\\n    <div class=\"page-info\">\\r\\n        <!--noindex-->\\r\\n        \\r\\n\\r\\n\\r\\n<div class=\"page-info_helpful\"\\r\\n     data-page-feedback=\"\"\\r\\n     data-feedback-url=\"/Content/PageInfo/RegisterFeedback\">\\r\\n    <!--noindex-->\\r\\n    <div class=\"helpful\" data-helpful=\"\">\\r\\n        Страница была полезной?\\r\\n        <div class=\"helpful_btns\">\\r\\n            <button class=\"helpful_btn _yes\" data-helpful-btn=\"yes\"><i class=\"helpful_icon\"></i><span>Да</span></button>\\r\\n            <button class=\"helpful_btn _no\" data-helpful-btn=\"no\"><i class=\"helpful_icon\"></i><span>Нет</span></button>\\r\\n        </div>\\r\\n    </div>\\r\\n    <!--/noindex-->\\r\\n</div>\\r\\n\\r\\n            <div class=\"page-info_last-update\">Последнее обновление страницы: 03.05.2024</div>\\r\\n        <!--/noindex-->\\r\\n    </div>\\r\\n\\r\\n                </div>\\r\\n            </div>\\r\\n        </div>\\r\\n    </main>\\r\\n\\r\\n    <footer class=\"footer\" id=\"footer\">\\r\\n    <div class=\"offsetMenu\">\\r\\n        <div class=\"footer_main\">\\r\\n            <div class=\"col-md-23 col-xl-22 offset-md-1 offset-xl-2\">\\r\\n                <div class=\"footer_top\">\\r\\n                    <a class=\"footer_logo\" href=\"/\"></a>\\r\\n                    <div class=\"footer_up gotoUp\">\\r\\n                        <div class=\"footer_up_title\">Наверх</div>\\r\\n                        <div class=\"footer_up_icon\"></div>\\r\\n                    </div>\\r\\n                </div>\\r\\n                \\r\\n<div class=\"footer_contacts\">\\r\\n<div class=\"footer_address\">107016, Москва, ул. Неглинная, д.&nbsp;12, к. В, Банк\\r\\nРоссии</div>\\r\\n<div class=\"footer_phones\">\\r\\n<div class=\"footer_phone\"><a class=\"footer_phone_val\" href=\"tel:300\">300</a><span>(круглосуточно, бесплатно для&nbsp;звонков с&nbsp;мобильных телефонов)</span></div>\\r\\n<div class=\"footer_phone\"><a class=\"footer_phone_val\" href=\"tel:88003003000\">8&nbsp;800 300-30-00</a><span>(круглосуточно, бесплатно для&nbsp;звонков из&nbsp;регионов России)</span></div>\\r\\n<div class=\"footer_phone\"><a class=\"footer_phone_val\" href=\"tel:+74993003000\">+7&nbsp;499 300-30-00</a><span>(круглосуточно, в&nbsp;соответствии с&nbsp;тарифами вашего оператора)</span></div>\\r\\n\\r\\n</div>\\r\\n</div>\\r\\n<div class=\"footer_main_block\">\\r\\n<div class=\"footer_left-menu\">\\r\\n<div class=\"footer_left-menu_item\"><a href=\"/lk_uio/\">Личный кабинет участников рынка</a></div>\\r\\n<div class=\"footer_left-menu_item\"><a href=\"/about_br/irp/\">Отношения с&nbsp;инвесторами</a></div>\\r\\n<div class=\"footer_left-menu_item\"><a href=\"/rbr/list_inside/\">Перечень инсайдерской информации Банка России</a></div>\\r\\n<div class=\"footer_left-menu_item\"><a href=\"/analytics/na_vr/\">Официальное опубликование нормативных актов Банка России</a></div>\\r\\n<div class=\"footer_left-menu_item\"><a href=\"/project_na/\">Проекты нормативных актов Банка России</a></div>\\r\\n<div class=\"footer_left-menu_item\"><a href=\"/other/holidays/\">Перечень нерабочих праздничных дней и&nbsp;перенесенных выходных дней</a></div>\\r\\n</div>\\r\\n<div class=\"networks-circle footer_networks\">\\r\\n<a class=\"networks-circle_item _vk\" href=\"https://vk.com/cbr_official\"></a>\\r\\n<a class=\"networks-circle_item _yt\" href=\"https://www.youtube.com/user/BankofRussia\"></a>\\r\\n<a class=\"networks-circle_item _tg\" href=\"https://t.me/centralbank_russia\" title=\"Telegram\"></a>\\r\\n<a class=\"networks-circle_item _ydzen\" href=\"https://dzen.ru/cbr\" title=\"Яндекс Дзен\"></a>\\r\\n<a class=\"networks-circle_item _ok\" href=\"https://ok.ru/group/68858679787580\" title=\"Одноклассники\"></a>\\r\\n</div>\\r\\n</div>\\r\\n<div class=\"footer_menu\">\\r\\n<div class=\"footer_menu_items\">\\r\\n<div class=\"footer_menu_item\"><a href=\"/about/\">О&nbsp;сайте</a></div>\\r\\n<div class=\"footer_menu_item\"><a href=\"/contacts/\">Контакты</a></div>\\r\\n<div class=\"footer_menu_item\"><a href=\"/about_br/anticor/\">Противодействие коррупции</a></div>\\r\\n<div class=\"footer_menu_item\"><a href=\"/development/\">Технические ресурсы</a></div>\\r\\n</div>\\r\\n\\t\\t\\t <div class=\"footer_menu_item _visually-impaired\"><a href=\"#\" title=\"Версия для слабовидящих\"><span class=\"visually-impaired-on\">Версия для&nbsp;слабовидящих</span><span class=\"visually-impaired-off\">Обычная версия</span></a></div>\\r\\n</div>\\r\\n\\r\\n            </div>\\r\\n        </div>\\r\\n        <div class=\"footer_bottom\">\\r\\n            <div class=\"col-md-23 col-xl-22 offset-md-1 offset-xl-2 row\">\\r\\n                <div class=\"footer_bottom_text col-md-12 col-xl-11\">&#169; Банк России, 2000–2024.</div>\\r\\n<div class=\"footer_bottom_aic col-md-11\">Дизайн сайта — <a href=\"https://aic.ru\" target=\"_blank\"><img src=\"/common/images/icons/aic-logo.svg\" /></a></div>\\r\\n\\r\\n\\r\\n            </div>\\r\\n        </div>\\r\\n    </div>\\r\\n</footer>\\r\\n\\r\\n    \\r\\n    \\r\\n\\r\\n        <div class=\"popup-cookies\" data-popup-cookies>\\r\\n            <div class=\"popup-cookies_title\">\\r\\n                На сайте Банка России используются файлы cookie\\r\\n            </div>\\r\\n            <div class=\"popup-cookies_subtitle\">\\r\\n                Оставаясь на <a href=\"/\">www.cbr.ru</a>, вы принимаете\\r\\n                <a href=\\'/user_agreement/\\'>пользовательское соглашение</a>\\r\\n            </div>\\r\\n            <button class=\"btn _medium _blue \" data-popup-cookies-btn>\\r\\n                Подтвердить\\r\\n            </button>\\r\\n        </div>\\r\\n\\r\\n    \\r\\n<!--[if IE 9]><script>$(\\'body\\').addClass(\\'ie9\\')</script><![endif]-->\\r\\n<script src=\"/Modules/Content/Scripts/PageInfo.js?v=v3116962712\" type=\"text/javascript\"></script>\\r\\n    <script type=\"text/javascript\">\\r\\n        $(function () {\\r\\n            Content_PageInfo.init($(\\'[data-page-feedback]\\'));\\r\\n        });\\r\\n    </script>\\r\\n\\r\\n\\r\\n\\r\\n</body>\\r\\n</html>\\r\\n'"
      ]
     },
     "execution_count": 104,
     "metadata": {},
     "output_type": "execute_result"
    }
   ],
   "source": [
    "response.text"
   ]
  },
  {
   "cell_type": "markdown",
   "metadata": {
    "id": "D9Rr2rH6Sdwx"
   },
   "source": [
    "Воспользуемся методом `BeautifulSoup`, передав в него код (текст) страницы и указав вид парсера"
   ]
  },
  {
   "cell_type": "code",
   "execution_count": 105,
   "metadata": {
    "id": "6j0MAyDK3ch_"
   },
   "outputs": [],
   "source": [
    "soup = BeautifulSoup(response.text, 'html.parser')"
   ]
  },
  {
   "cell_type": "markdown",
   "metadata": {
    "id": "TnD3oB1cSqq_"
   },
   "source": [
    "Получили уже что-то более структурированное"
   ]
  },
  {
   "cell_type": "code",
   "execution_count": 106,
   "metadata": {
    "colab": {
     "base_uri": "https://localhost:8080/"
    },
    "id": "QihcTn3p3i2u",
    "outputId": "b7ec36e2-97ab-4873-c270-1bf635b487b2"
   },
   "outputs": [
    {
     "data": {
      "text/plain": [
       "\n",
       "<!DOCTYPE html>\n",
       "\n",
       "<html>\n",
       "<head>\n",
       "<meta content=\"text/html; charset=utf-8\" http-equiv=\"Content-Type\"/>\n",
       "<meta content=\"IE=edge,chrome=1\" http-equiv=\"X-UA-Compatible\"/>\n",
       "<meta content=\"width=device-width, initial-scale=1, shrink-to-fit=no\" name=\"viewport\"/>\n",
       "<meta content=\"telephone=no\" name=\"format-detection\">\n",
       "<meta content=\"ru\" name=\"zoom:lang\">\n",
       "<meta content=\"Fri, 03 May 2024 13:00:12 GMT\" name=\"zoom:last-modified\"/>\n",
       "<title>Динамика максимальной процентной ставки (по вкладам в российских рублях) десяти кредитных организаций, привлекающих наибольший объём депозитов физических лиц | Банк России</title>\n",
       "<meta content=\"/common/images/share-1.jpg\" property=\"og:image\"/>\n",
       "<link href=\"/common/libs/jquery-ui/jquery-ui.min.css?v=v478607061\" media=\"all\" rel=\"stylesheet\" type=\"text/css\"/>\n",
       "<!--[if IE 9]><link rel=\"stylesheet\" type=\"text/css\" href=\"/common/style/main-ie9.css?v=v3286523716\" media=\"all\"><![endif]-->\n",
       "<!--[if gt IE 9]><!--><link href=\"/common/style/main.min.css?v=v3286523716\" media=\"all\" rel=\"stylesheet\" type=\"text/css\"/><!--<![endif]-->\n",
       "<script src=\"/common/libs/jquery-3.6.1.min.js?v=v478607061\" type=\"text/javascript\"></script>\n",
       "<script src=\"/common/libs/jquery-ui/jquery-ui.min.js?v=v478607061\" type=\"text/javascript\"></script>\n",
       "<script src=\"/common/libs/jquery.inputmask.min.js?v=v478607061\" type=\"text/javascript\"></script>\n",
       "<script src=\"/common/scripts/vendor.js?v=v478607061\" type=\"text/javascript\"></script>\n",
       "<script src=\"/common/libs/jquery.floatThead.min.js?v=v478607061\" type=\"text/javascript\"></script>\n",
       "<script src=\"/common/libs/highcharts.js?v=v478607061\" type=\"text/javascript\"></script>\n",
       "<script src=\"/common/libs/popper.js?v=v478607061\" type=\"text/javascript\"></script>\n",
       "<script src=\"/common/libs/tippy.js?v=v478607061\" type=\"text/javascript\"></script>\n",
       "<script src=\"/common/scripts/main.min.js?v=v3286523716\" type=\"text/javascript\"></script>\n",
       "<script src=\"/common/libs/localization-ru.js?v=v478607061\" type=\"text/javascript\"></script>\n",
       "<script src=\"/js/jquery.ui.autocomplete-ru.js?v=v1043438991\" type=\"text/javascript\"></script>\n",
       "<script src=\"/js/jquery.cookie.min.js?v=v4260771145\" type=\"text/javascript\"></script>\n",
       "<script src=\"/js/site.js?v=v1395547681\" type=\"text/javascript\"></script>\n",
       "<script src=\"/Modules/Queries/Scripts/queries-ui.js?v=v662783731\" type=\"text/javascript\"></script>\n",
       "<script src=\"/common/libs/exporting.js?v=v478607061\" type=\"text/javascript\"></script>\n",
       "<script type=\"text/javascript\">\n",
       "    $(function () {\n",
       "        var $menu = $('[data-menu]'),\n",
       "            $menuItemBtn = $menu.find('[data-menu-item-btn]'),\n",
       "            $menuShow = $('[data-menu-show]'),\n",
       "            $menuClose = $('[data-menu-close]');\n",
       "        var config = $menu.data('config');\n",
       "\n",
       "        $menu.find('[data-cms-wholesite-header-right]').html($('#header .header_right').html());\n",
       "\n",
       "        $menuShow.on('click.cms_loadwholesite', function (event) {\n",
       "            loadWholeSite(true);\n",
       "        });\n",
       "        $menuShow.on('mouseenter.cms_loadwholesite', function (event) {\n",
       "            loadWholeSite(false);\n",
       "        });\n",
       "\n",
       "        var xhr = null, g_openMenu = false;\n",
       "        function loadWholeSite(openmenu) {\n",
       "            g_openMenu = g_openMenu || openmenu;\n",
       "            $menuShow.off('click.cms_loadwholesite mouseenter.cms_loadwholesite');\n",
       "            if (xhr === null) {\n",
       "                $('.menu_wrap .networks-circle').html($('.networks-circle.footer_networks').html());\n",
       "                $('.menu_wrap .header_search').html($('.header .offsetMenu .header_search').html());\n",
       "\n",
       "                xhr = $.ajax(config.url, {\n",
       "                    dataType: \"html\",\n",
       "                    method: \"get\",\n",
       "                    success: function (html) {\n",
       "                        $('[data-cms-wholesite-placeholder]').replaceWith(html);\n",
       "\n",
       "                        $menu.find('.menu_tab[data-tabs-tab]').each(function () {\n",
       "                            var tab = $(this).data('tabs-tab');\n",
       "                            $(this).toggle($menu.find('[data-tabs-content=\"' + tab + '\"]').length != 0);\n",
       "                        });\n",
       "\n",
       "                        app.init($menu);\n",
       "\n",
       "                        for (var i in config.catalogPath) {\n",
       "                            $menu.find('li[data-catalog-id=\"' + config.catalogPath[i] + '\"]')\n",
       "                                .addClass(\"_active\");\n",
       "                            $menu.find('li[data-catalog-id=\"' + config.catalogPath[i] + '\"]')\n",
       "                                .closest('[data-tabs-content]')\n",
       "                                .trigger('open-anchor');\n",
       "                        }\n",
       "\n",
       "                        \n",
       "                        xhr = true;\n",
       "                    },\n",
       "                    error: function () {\n",
       "                        xhr = null;\n",
       "                    }\n",
       "                });\n",
       "            }\n",
       "        }\n",
       "    });\n",
       "    </script>\n",
       "<script>\n",
       "    if (window.localStorage) {\n",
       "        if (localStorage.getItem('vision-impaired'))\n",
       "            document.getElementsByTagName('html')[0].className += ' vision-impaired';\n",
       "    }\n",
       "</script>\n",
       "<script>\n",
       "    document.documentElement.style.setProperty('--scrollbar-width', '17px');\n",
       "    setTimeout(function () {\n",
       "        \n",
       "        var div = document.createElement('div');\n",
       "\n",
       "        div.style.overflowY = 'scroll';\n",
       "        div.style.width = '50px';\n",
       "        div.style.height = '50px';\n",
       "\n",
       "        \n",
       "        div.style.visibility = 'hidden';\n",
       "\n",
       "        document.body.appendChild(div);\n",
       "        var scrollWidth = Math.max(div.offsetWidth - div.clientWidth, 0.15); \n",
       "        document.body.removeChild(div);\n",
       "        \n",
       "        document.documentElement.style.setProperty('--scrollbar-width', scrollWidth + 'px');\n",
       "    }, 0);\n",
       "</script>\n",
       "</meta></meta></head>\n",
       "<body>\n",
       "<!-- Yandex.Metrika counter -->\n",
       "<script type=\"text/javascript\">\n",
       "       (function(m,e,t,r,i,k,a){m[i]=m[i]||function(){(m[i].a=m[i].a||[]).push(arguments)};\n",
       "       m[i].l=1*new Date();k=e.createElement(t),a=e.getElementsByTagName(t)[0],k.async=1,k.src=r,a.parentNode.insertBefore(k,a)})\n",
       "       (window, document, \"script\", \"https://mc.yandex.ru/metrika/tag.js\", \"ym\");\n",
       "\n",
       "       ym(5774506, \"init\", {\n",
       "            clickmap:true,\n",
       "            trackLinks:true,\n",
       "            accurateTrackBounce:true,\n",
       "            webvisor:true\n",
       "       });\n",
       "    </script>\n",
       "<noscript><div><img alt=\"\" src=\"https://mc.yandex.ru/watch/5774506\" style=\"position:absolute; left:-9999px;\"/></div></noscript>\n",
       "<!-- /Yandex.Metrika counter -->\n",
       "<div class=\"old-site-version\" data-old-site-version=\"\">\n",
       "<div class=\"offsetMenu\">\n",
       "<div class=\"old-site-version_text\">\n",
       "<a href=\"/support_measures/\">МЕРЫ ЗАЩИТЫ ФИНАНСОВОГО РЫНКА</a>\n",
       "</div>\n",
       "</div>\n",
       "</div>\n",
       "<div class=\"header-print\">\n",
       "<div class=\"offsetMenu\">\n",
       "<div class=\"header-print_inner\">\n",
       "<img alt=\"cbr\" class=\"header-print_logo\" src=\"/common/images/logo.svg\"/>\n",
       "<ul class=\"header-print_contacts\">\n",
       "<li>107016, Москва, ул. Неглинная, д. 12, к. В, Банк России</li>\n",
       "<li><nobr class=\"phone\">8 800 300-30-00</nobr></li>\n",
       "<li>www.cbr.ru</li>\n",
       "</ul>\n",
       "</div>\n",
       "</div>\n",
       "</div>\n",
       "<header class=\"header\" id=\"header\">\n",
       "<div class=\"top-line\" data-top-line=\"\">\n",
       "<div class=\"offsetMenu\">\n",
       "<div class=\"col-md-23 offset-md-1\">\n",
       "<div class=\"top-line_inner header_inner\">\n",
       "<div class=\"row\">\n",
       "<div class=\"col-xl-5 col-md-9\">\n",
       "<div class=\"header_left\">\n",
       "<div class=\"header_menu\" data-menu-show=\"\"></div>\n",
       "<a class=\"header_logo\" href=\"/\"></a>\n",
       "</div>\n",
       "</div>\n",
       "<div class=\"col-xl-17 col-md-13 offset-md-1 header_block\">\n",
       "<div class=\"header_search\">\n",
       "<a class=\"header_search_btn\" data-search-form-show=\"\" href=\"#\" title=\"поиск\">\n",
       "<div class=\"header_search_icon\"></div><span class=\"d-none d-xl-block\">Поиск по сайту</span>\n",
       "</a>\n",
       "</div>\n",
       "<div class=\"d-none d-md-block\">\n",
       "<div class=\"header_right\">\n",
       "<div class=\"header_link\"><a href=\"/reception/\">Интернет-приемная</a></div><div class=\"header_lang\">\n",
       "<div class=\"header_lang_item _active\"><span><!--noindex-->RU<!--/noindex--></span></div>\n",
       "<div class=\"header_lang_item\"><a href=\"/Localization/SwitchLanguage?url=%2Fstatistics%2Favgprocstav%2F%3FUniDbQuery.Posted%3DTrue%26UniDbQuery.From%3D1.1.2020%26UniDbQuery.To%3D3.4.2024&amp;from=ru-RU&amp;to=en-CB\"><!--noindex-->EN<!--/noindex--></a></div>\n",
       "</div>\n",
       "</div>\n",
       "</div>\n",
       "</div>\n",
       "</div>\n",
       "</div>\n",
       "</div>\n",
       "</div>\n",
       "</div>\n",
       "<div class=\"offsetMenu\">\n",
       "<div class=\"col-md-23 offset-md-1\">\n",
       "<div class=\"header_inner\">\n",
       "<div class=\"row\">\n",
       "<div class=\"col-xl-5 col-md-9\">\n",
       "<div class=\"header_left\">\n",
       "<div class=\"header_menu\" data-menu-show=\"\"></div>\n",
       "<a class=\"header_logo\" href=\"/\"></a>\n",
       "</div>\n",
       "</div>\n",
       "<div class=\"col-xl-17 col-md-13 offset-md-1 header_block\">\n",
       "<div class=\"header_search\">\n",
       "<a class=\"header_search_btn\" data-search-form-show=\"\" href=\"#\" title=\"поиск\">\n",
       "<div class=\"header_search_icon\"></div><span class=\"d-none d-xl-block\">Поиск по сайту</span>\n",
       "</a>\n",
       "</div>\n",
       "<div class=\"d-none d-md-block\">\n",
       "<div class=\"header_right\">\n",
       "<div class=\"header_link\"><a href=\"/reception/\">Интернет-приемная</a></div><div class=\"header_lang\">\n",
       "<div class=\"header_lang_item _active\"><span><!--noindex-->RU<!--/noindex--></span></div>\n",
       "<div class=\"header_lang_item\"><a href=\"/Localization/SwitchLanguage?url=%2Fstatistics%2Favgprocstav%2F%3FUniDbQuery.Posted%3DTrue%26UniDbQuery.From%3D1.1.2020%26UniDbQuery.To%3D3.4.2024&amp;from=ru-RU&amp;to=en-CB\"><!--noindex-->EN<!--/noindex--></a></div>\n",
       "</div>\n",
       "</div>\n",
       "</div>\n",
       "</div>\n",
       "</div>\n",
       "</div>\n",
       "</div>\n",
       "</div>\n",
       "</header>\n",
       "<form action=\"/search/\" class=\"search-form\" data-search-form=\"\" method=\"get\">\n",
       "<div class=\"offsetMenu\">\n",
       "<div class=\"col-md-23 offset-md-1\">\n",
       "<div class=\"search-form_inner\">\n",
       "<div class=\"search-form_title\">Что вы хотите найти?</div>\n",
       "<div class=\"search-form_content\">\n",
       "<div class=\"search-form_block\">\n",
       "<div class=\"search-form_icon\"></div>\n",
       "<div class=\"search-form_field\">\n",
       "<input data-search-form-input=\"\" name=\"text\" placeholder=\"Начните писать\" type=\"text\"/>\n",
       "</div>\n",
       "</div>\n",
       "<div class=\"search-form_btn\">\n",
       "<button class=\"b-btn _blue\" data-search-form-btn=\"\">Искать</button>\n",
       "</div>\n",
       "</div>\n",
       "</div>\n",
       "</div>\n",
       "</div>\n",
       "</form>\n",
       "<div class=\"menu_wrap\" data-config='{\"catalogPath\":[22108,16628],\"url\":\"/Catalog/SiteMap/GetWholeSiteHtml?blockId=59191\"}' data-menu=\"\">\n",
       "<div class=\"offsetMenu\">\n",
       "<div class=\"header_menu _close menu_close d-none d-md-block\" data-menu-close=\"\"></div>\n",
       "<div class=\"header_inner top-line_inner d-block d-md-none\">\n",
       "<div class=\"row\">\n",
       "<div class=\"col-xl-5 col-md-9\">\n",
       "<div class=\"header_left\">\n",
       "<div aria-label=\"Закрыть меню\" class=\"header_menu _close\" data-menu-close=\"\" role=\"button\" tabindex=\"0\"></div><a class=\"header_logo\" href=\"/\"></a>\n",
       "</div>\n",
       "</div>\n",
       "<div class=\"col-xl-17 col-md-13 offset-md-1 header_block\">\n",
       "<div class=\"header_search\"></div>\n",
       "</div>\n",
       "</div>\n",
       "</div>\n",
       "<div class=\"menu row\" data-tabs=\"data-tabs\">\n",
       "<div class=\"menu_quick col-md-7\">\n",
       "<div class=\"menu_quick_tabs\" role=\"tablist\">\n",
       "<a aria-controls=\"menu_content_Activity\" aria-selected=\"true\" class=\"menu_tab _active\" data-tabs-tab=\"Activity\" href=\"#\" id=\"menu_tab_Activity\" role=\"tab\">Деятельность</a>\n",
       "<a aria-controls=\"menu_content_FinancialMarkets\" aria-selected=\"false\" class=\"menu_tab\" data-tabs-tab=\"FinancialMarkets\" href=\"#\" id=\"menu_tab_FinancialMarkets\" role=\"tab\">Финансовые рынки</a>\n",
       "<a aria-controls=\"menu_content_Documents\" aria-selected=\"false\" class=\"menu_tab\" data-tabs-tab=\"Documents\" href=\"#\" id=\"menu_tab_Documents\" role=\"tab\">Документы и данные</a>\n",
       "<a aria-controls=\"menu_content_AboutBank\" aria-selected=\"false\" class=\"menu_tab\" data-tabs-tab=\"AboutBank\" href=\"#\" id=\"menu_tab_AboutBank\" role=\"tab\">О Банке России</a>\n",
       "<a aria-controls=\"menu_content_Services\" aria-selected=\"false\" class=\"menu_tab\" data-tabs-tab=\"Services\" href=\"#\" id=\"menu_tab_Services\" role=\"tab\">Сервисы</a>\n",
       "</div>\n",
       "<div class=\"menu_quick_links\">\n",
       "<div class=\"inner_links\"><a href=\"/support_measures/\" style=\"color:red\" title=\"Меры зашиты финансового рынка\">Меры защиты финансового рынка</a>\n",
       "</div>\n",
       "<div class=\"phones\"><a class=\"menu_phone_val\" href=\"tel:+74993003000\">\n",
       "<div class=\"plus\">+</div>7 499 300-30-00</a><a class=\"menu_phone_val\" href=\"tel:88003003000\">8 800 300-30-00</a><a class=\"menu_phone_val\" href=\"tel:300\">300</a><span>Бесплатно для звонков с мобильных телефонов</span></div>\n",
       "<div class=\"inner_links\">\n",
       "<a href=\"/news/\" title=\"Новости\">Новости</a>\n",
       "<a href=\"/rbr/\" title=\"Решения Банка России\">Решения Банка России</a>\n",
       "<a href=\"/contacts/\" title=\"Контактная информация\">Контактная информация</a>\n",
       "<a href=\"/sitemap\" title=\"Карта сайта\">Карта сайта</a>\n",
       "<a href=\"/about/\" title=\"О сайте\">О сайте</a>\n",
       "</div>\n",
       "<div class=\"networks-circle\">\n",
       "<a class=\"networks-circle_item _vk\" href=\"https://vk.com/cbr_official\" title=\"ВКонтакте\"></a>\n",
       "<a class=\"networks-circle_item _yt\" href=\"https://www.youtube.com/user/BankofRussia\" title=\"Youtube\"></a>\n",
       "<a class=\"networks-circle_item _tg\" href=\"https://t.me/centralbank_russia\" title=\"Telegram\"></a>\n",
       "<a class=\"networks-circle_item _ydzen\" href=\"https://zen.yandex.ru/id/622372d6a565892091994ea9\" title=\"Яндекс Дзен\"></a>\n",
       "<a class=\"networks-circle_item _ok\" href=\"https://ok.ru/group/68858679787580\" title=\"Одноклассники\"></a>\n",
       "</div>\n",
       "</div>\n",
       "</div>\n",
       "<div class=\"d-md-none link-above\">\n",
       "<div class=\"header_right\" data-cms-wholesite-header-right=\"\">\n",
       "</div>\n",
       "<div class=\"header_right\">\n",
       "<div class=\"header_link\"><a href=\"/fmp_check/\">Проверить участника финансового рынка</a></div>\n",
       "</div>\n",
       "</div>\n",
       "<div class=\"menu_content_container col-md with-centered-loader\" data-cms-wholesite-placeholder=\"\">\n",
       "</div>\n",
       "</div>\n",
       "</div>\n",
       "</div>\n",
       "<main id=\"content\">\n",
       "<div class=\"offsetMenu\">\n",
       "<div class=\"container-fluid\">\n",
       "<div class=\"col-md-23 offset-md-1\">\n",
       "<div class=\"breadcrumbs\">\n",
       "<div class=\"breadcrumbs_item\"><a class=\"breadcrumbs_home\" href=\"/\"></a></div>\n",
       "<div class=\"breadcrumbs_item\">\n",
       "<a href=\"/statistics/\"><!--noindex-->Статистика<!--/noindex--></a>\n",
       "</div>\n",
       "</div>\n",
       "<!--index-->\n",
       "<h1 class=\"_medium\"><span class=\"referenceable\">Динамика максимальной процентной ставки (по вкладам в российских рублях) десяти кредитных организаций, привлекающих наибольший объём депозитов физических лиц</span>\n",
       "</h1>\n",
       "<script type=\"text/javascript\">\n",
       "<!--\n",
       "    var UniDbQuery_Data = {};\n",
       "// -->\n",
       "</script>\n",
       "<!--noindex-->\n",
       "<form action=\"/statistics/avgprocstav/?UniDbQuery.Posted=True&amp;UniDbQuery.From=1.1.2020&amp;UniDbQuery.To=3.4.2024\" class=\"_with-submit\" method=\"get\"><input id=\"UniDbQuery_Posted\" name=\"UniDbQuery.Posted\" type=\"hidden\" value=\"True\"/> <div class=\"request vertical\" id=\"UniDbQuery_form\">\n",
       "<div>\n",
       "<div class=\"request_block\">\n",
       "<div class=\"text-input _m _filter\" data-text-input=\"\">\n",
       "<label class=\"input_label\">\n",
       "<div class=\"datepicker-filter\" data-decadepicker-period-filter=\"\" data-default-value-from=\"3.06.2022\" data-default-value-to=\"3.04.2024\" data-max-date=\"3.04.2024\" data-min-date=\"2.07.2009\">\n",
       "<input class=\"datepicker-filter_input-from\" name=\"UniDbQuery.From\" type=\"hidden\" value=\"3.06.2022\"/>\n",
       "<input class=\"datepicker-filter_input-to\" name=\"UniDbQuery.To\" type=\"hidden\" value=\"3.04.2024\"/>\n",
       "<button class=\"datepicker-filter_button\" type=\"button\">\n",
       "            III.06.2022\n",
       "            - III.04.2024\n",
       "        </button>\n",
       "<div class=\"datepicker-filter_modal\">\n",
       "<div class=\"datepicker-filter_head\">\n",
       "<div class=\"datepicker-filter_close\"></div>\n",
       "</div>\n",
       "<div class=\"datepicker-filter_tabs\">\n",
       "<div class=\"datepicker-filter_tab-from\"></div> - \n",
       "                <div class=\"datepicker-filter_tab-to\"></div>\n",
       "</div>\n",
       "<div class=\"datepicker-filter_body\">\n",
       "<div class=\"datepicker-filter_datepicker-from decadepicker-custom\"></div>\n",
       "<div class=\"datepicker-filter_datepicker-to decadepicker-custom\"></div>\n",
       "</div>\n",
       "<div class=\"datepicker-filter_footer\">\n",
       "<button class=\"datepicker-filter_apply-btn\" type=\"button\">Применить</button>\n",
       "</div>\n",
       "</div>\n",
       "</div>\n",
       "<div class=\"input_placeholder\">Период</div>\n",
       "</label>\n",
       "</div>\n",
       "</div>\n",
       "</div>\n",
       "<div class=\"request_bottom btns\">\n",
       "<button class=\"btn _large _blue\" id=\"UniDbQuery_searchbutton\" type=\"submit\">\n",
       "                        Получить данные\n",
       "                    </button>\n",
       "</div>\n",
       "</div>\n",
       "</form>\n",
       "<!--/noindex-->\n",
       "<h2 class=\"h3\">Диаграмма изменения максимальной процентной ставки за выбранный период</h2><div class=\"chart-container\" data-cms-chart-container=\"\" id=\"UniDbQuery_Charts_0__ChartModel_chart\"></div>\n",
       "<script>\n",
       "            //<![CDATA[\n",
       "            $(function () {\n",
       "                Highcharts.setOptions({\n",
       "                    lang: {\n",
       "                        decimalPoint: \",\",\n",
       "                        thousandsSep: \" \",\n",
       "                    },\n",
       "                });\n",
       "            })\n",
       "            //]]>\n",
       "        </script>\n",
       "<script>\n",
       "        //<![CDATA[\n",
       "        $(function () {\n",
       "            Highcharts.setOptions({\n",
       "                chart: {\n",
       "                    numberFormatter: numberFormatNoExponent\n",
       "                }\n",
       "            });\n",
       "        });\n",
       "        function numberFormatNoExponent(number, decimals, decimalPoint, thousandsSep) {\n",
       "            let defaultFormatted = Highcharts.numberFormat(number, decimals, decimalPoint, thousandsSep);\n",
       "            if (defaultFormatted.indexOf('e') < 0)\n",
       "                return defaultFormatted;\n",
       "\n",
       "            let exponent = defaultFormatted.split('e');\n",
       "            if (exponent[1] < 0) {\n",
       "                let intNumber = Math.floor(number);\n",
       "                let intStr = Highcharts.numberFormat(intNumber, 0, decimalPoint, thousandsSep);\n",
       "                let tailStr = number.toFixed(20);\n",
       "                let lailStrSplit = tailStr.split('.');\n",
       "                if (tailStr.indexOf('e') >= 0) { //toFixed() may still return exponent notation for really long numbers, we simply return it as is\n",
       "                    return defaultFormatted;\n",
       "                }\n",
       "                else if (lailStrSplit[1]) {\n",
       "                    return intStr + decimalPoint + lailStrSplit[1].replace(/0+$/, \"\");\n",
       "                }\n",
       "                else\n",
       "                    return intStr;\n",
       "            }\n",
       "            else if (exponent[1] > 0) {\n",
       "                var modNumber = Highcharts.numberFormat(number / 1000, decimals, decimalPoint, thousandsSep);\n",
       "                var parts = modNumber.split(decimalPoint);\n",
       "                return parts[0] + thousandsSep + \"000\" + decimalPoint + parts[1];\n",
       "            }\n",
       "            else\n",
       "                return defaultFormatted;\n",
       "        }\n",
       "        //]]>\n",
       "    </script>\n",
       "<script>\n",
       "//<![CDATA[\n",
       "    $(function () {\n",
       "        var chartId = \"UniDbQuery_Charts_0__ChartModel_chart\";\n",
       "        var $chart = $('#' + chartId);\n",
       "\n",
       "\n",
       "        var settings = {\"chart\":{\"spacingBottom\":5},\"xAxis\":{\"type\":\"category\",\"labels\":{\"style\":{}},\"categories\":[\"III.06.2022\",\"I.07.2022\",\"II.07.2022\",\"III.07.2022\",\"I.08.2022\",\"II.08.2022\",\"III.08.2022\",\"I.09.2022\",\"II.09.2022\",\"III.09.2022\",\"I.10.2022\",\"II.10.2022\",\"III.10.2022\",\"I.11.2022\",\"II.11.2022\",\"III.11.2022\",\"I.12.2022\",\"II.12.2022\",\"III.12.2022\",\"I.01.2023\",\"II.01.2023\",\"III.01.2023\",\"I.02.2023\",\"II.02.2023\",\"III.02.2023\",\"I.03.2023\",\"II.03.2023\",\"III.03.2023\",\"I.04.2023\",\"II.04.2023\",\"III.04.2023\",\"I.05.2023\",\"II.05.2023\",\"III.05.2023\",\"I.06.2023\",\"II.06.2023\",\"III.06.2023\",\"I.07.2023\",\"II.07.2023\",\"III.07.2023\",\"I.08.2023\",\"II.08.2023\",\"III.08.2023\",\"I.09.2023\",\"II.09.2023\",\"III.09.2023\",\"I.10.2023\",\"II.10.2023\",\"III.10.2023\",\"I.11.2023\",\"II.11.2023\",\"III.11.2023\",\"I.12.2023\",\"II.12.2023\",\"III.12.2023\",\"I.01.2024\",\"II.01.2024\",\"III.01.2024\",\"I.02.2024\",\"II.02.2024\",\"III.02.2024\",\"I.03.2024\",\"II.03.2024\",\"III.03.2024\",\"I.04.2024\",\"II.04.2024\",\"III.04.2024\"],\"title\":{},\"crosshair\":{\"color\":\"#f5f5f5\",\"zIndex\":0}},\"yAxis\":[{\"tickAmount\":5,\"title\":{\"text\":\"\"},\"labels\":{\"format\":\"{value:,.f}\",\"style\":{}}}],\"legend\":{\"enabled\":false,\"navigation\":{\"enabled\":false}},\"title\":{},\"subtitle\":{},\"series\":[{\"dataLabels\":{\"enabled\":false,\"format\":\"{point.y:,.f}\",\"style\":{}},\"tooltip\":{},\"type\":\"line\",\"lineWidth\":2,\"marker\":{\"symbol\":\"circle\"},\"data\":[7.7230,7.6450,7.6450,6.9250,6.8250,6.8550,6.8350,6.8350,6.7400,6.5410,6.6690,6.7870,6.8390,6.9840,7.0610,7.2950,7.3920,8.1920,8.1770,8.1300,8.0360,8.0360,7.9260,7.9260,7.6760,7.6760,7.6760,7.6760,7.6760,7.6760,7.6360,7.6360,7.7470,7.7470,7.8270,7.8270,7.8270,7.8270,7.8270,8.1070,8.1460,9.2310,9.6610,9.6960,9.7700,10.1890,10.1800,11.4360,12.0360,13.5670,13.6370,13.6370,14.0030,14.5220,14.7530,14.7930,14.8700,14.8800,14.8300,14.8590,14.7890,14.8470,14.7020,14.8320,14.8320,14.8320,14.9220],\"color\":\"#0088cc\",\"id\":\"s0\",\"name\":\"ставка, %\"}],\"tooltip\":{\"headerFormat\":\"<div class=\\\"chart-tooltip-header\\\">{point.x}</div>\",\"pointFormat\":\"<div class=\\\"chart-tooltip-line\\\">\\r\\n<div class=\\\"chart-tooltip-dot\\\" style=\\\"color:{point.color}\\\">●</div>\\r\\n<div class=\\\"chart-tooltip-series\\\">{series.name}: </div>\\r\\n<div class=\\\"chart-tooltip-value\\\">{point.y:,.f}{series.options.units}</div>\\r\\n</div>\"},\"responsive\":\n",
       "{\n",
       "rules: [\n",
       "]}};\n",
       "        var patch = $chart.data('highchartsPatch');\n",
       "        settings = typeof (patch) === 'function' ? (patch(settings) || settings) : $.extend(true, settings, patch);\n",
       "\n",
       "        $chart.trigger('cms:loadHighchart', [settings]);\n",
       "\n",
       "\n",
       "        var chart = Highcharts.chart(chartId, settings);\n",
       "\n",
       "        \n",
       "\n",
       "            app.chartLegendDataHighlighter(chartId, chart);\n",
       "\n",
       "                app.chartsPrint(chart);\n",
       "                })\n",
       "//]]>\n",
       "</script>\n",
       "<div class=\"table-wrapper\">\n",
       "<div class=\"table\">\n",
       "<table class=\"data\">\n",
       "<tr>\n",
       "<th>Декада</th>\n",
       "<th>Ставка, %</th>\n",
       "</tr>\n",
       "<tr>\n",
       "<td>III.04.2024</td>\n",
       "<td>14,9220</td>\n",
       "</tr>\n",
       "<tr>\n",
       "<td>II.04.2024</td>\n",
       "<td>14,8320</td>\n",
       "</tr>\n",
       "<tr>\n",
       "<td>I.04.2024</td>\n",
       "<td>14,8320</td>\n",
       "</tr>\n",
       "<tr>\n",
       "<td>III.03.2024</td>\n",
       "<td>14,8320</td>\n",
       "</tr>\n",
       "<tr>\n",
       "<td>II.03.2024</td>\n",
       "<td>14,7020</td>\n",
       "</tr>\n",
       "<tr>\n",
       "<td>I.03.2024</td>\n",
       "<td>14,8470</td>\n",
       "</tr>\n",
       "<tr>\n",
       "<td>III.02.2024</td>\n",
       "<td>14,7890</td>\n",
       "</tr>\n",
       "<tr>\n",
       "<td>II.02.2024</td>\n",
       "<td>14,8590</td>\n",
       "</tr>\n",
       "<tr>\n",
       "<td>I.02.2024</td>\n",
       "<td>14,8300</td>\n",
       "</tr>\n",
       "<tr>\n",
       "<td>III.01.2024</td>\n",
       "<td>14,8800</td>\n",
       "</tr>\n",
       "<tr>\n",
       "<td>II.01.2024</td>\n",
       "<td>14,8700</td>\n",
       "</tr>\n",
       "<tr>\n",
       "<td>I.01.2024</td>\n",
       "<td>14,7930</td>\n",
       "</tr>\n",
       "<tr>\n",
       "<td>III.12.2023</td>\n",
       "<td>14,7530</td>\n",
       "</tr>\n",
       "<tr>\n",
       "<td>II.12.2023</td>\n",
       "<td>14,5220</td>\n",
       "</tr>\n",
       "<tr>\n",
       "<td>I.12.2023</td>\n",
       "<td>14,0030</td>\n",
       "</tr>\n",
       "<tr>\n",
       "<td>III.11.2023</td>\n",
       "<td>13,6370</td>\n",
       "</tr>\n",
       "<tr>\n",
       "<td>II.11.2023</td>\n",
       "<td>13,6370</td>\n",
       "</tr>\n",
       "<tr>\n",
       "<td>I.11.2023</td>\n",
       "<td>13,5670</td>\n",
       "</tr>\n",
       "<tr>\n",
       "<td>III.10.2023</td>\n",
       "<td>12,0360</td>\n",
       "</tr>\n",
       "<tr>\n",
       "<td>II.10.2023</td>\n",
       "<td>11,4360</td>\n",
       "</tr>\n",
       "<tr>\n",
       "<td>I.10.2023</td>\n",
       "<td>10,1800</td>\n",
       "</tr>\n",
       "<tr>\n",
       "<td>III.09.2023</td>\n",
       "<td>10,1890</td>\n",
       "</tr>\n",
       "<tr>\n",
       "<td>II.09.2023</td>\n",
       "<td>9,7700</td>\n",
       "</tr>\n",
       "<tr>\n",
       "<td>I.09.2023</td>\n",
       "<td>9,6960</td>\n",
       "</tr>\n",
       "<tr>\n",
       "<td>III.08.2023</td>\n",
       "<td>9,6610</td>\n",
       "</tr>\n",
       "<tr>\n",
       "<td>II.08.2023</td>\n",
       "<td>9,2310</td>\n",
       "</tr>\n",
       "<tr>\n",
       "<td>I.08.2023</td>\n",
       "<td>8,1460</td>\n",
       "</tr>\n",
       "<tr>\n",
       "<td>III.07.2023</td>\n",
       "<td>8,1070</td>\n",
       "</tr>\n",
       "<tr>\n",
       "<td>II.07.2023</td>\n",
       "<td>7,8270</td>\n",
       "</tr>\n",
       "<tr>\n",
       "<td>I.07.2023</td>\n",
       "<td>7,8270</td>\n",
       "</tr>\n",
       "<tr>\n",
       "<td>III.06.2023</td>\n",
       "<td>7,8270</td>\n",
       "</tr>\n",
       "<tr>\n",
       "<td>II.06.2023</td>\n",
       "<td>7,8270</td>\n",
       "</tr>\n",
       "<tr>\n",
       "<td>I.06.2023</td>\n",
       "<td>7,8270</td>\n",
       "</tr>\n",
       "<tr>\n",
       "<td>III.05.2023</td>\n",
       "<td>7,7470</td>\n",
       "</tr>\n",
       "<tr>\n",
       "<td>II.05.2023</td>\n",
       "<td>7,7470</td>\n",
       "</tr>\n",
       "<tr>\n",
       "<td>I.05.2023</td>\n",
       "<td>7,6360</td>\n",
       "</tr>\n",
       "<tr>\n",
       "<td>III.04.2023</td>\n",
       "<td>7,6360</td>\n",
       "</tr>\n",
       "<tr>\n",
       "<td>II.04.2023</td>\n",
       "<td>7,6760</td>\n",
       "</tr>\n",
       "<tr>\n",
       "<td>I.04.2023</td>\n",
       "<td>7,6760</td>\n",
       "</tr>\n",
       "<tr>\n",
       "<td>III.03.2023</td>\n",
       "<td>7,6760</td>\n",
       "</tr>\n",
       "<tr>\n",
       "<td>II.03.2023</td>\n",
       "<td>7,6760</td>\n",
       "</tr>\n",
       "<tr>\n",
       "<td>I.03.2023</td>\n",
       "<td>7,6760</td>\n",
       "</tr>\n",
       "<tr>\n",
       "<td>III.02.2023</td>\n",
       "<td>7,6760</td>\n",
       "</tr>\n",
       "<tr>\n",
       "<td>II.02.2023</td>\n",
       "<td>7,9260</td>\n",
       "</tr>\n",
       "<tr>\n",
       "<td>I.02.2023</td>\n",
       "<td>7,9260</td>\n",
       "</tr>\n",
       "<tr>\n",
       "<td>III.01.2023</td>\n",
       "<td>8,0360</td>\n",
       "</tr>\n",
       "<tr>\n",
       "<td>II.01.2023</td>\n",
       "<td>8,0360</td>\n",
       "</tr>\n",
       "<tr>\n",
       "<td>I.01.2023</td>\n",
       "<td>8,1300</td>\n",
       "</tr>\n",
       "<tr>\n",
       "<td>III.12.2022</td>\n",
       "<td>8,1770</td>\n",
       "</tr>\n",
       "<tr>\n",
       "<td>II.12.2022</td>\n",
       "<td>8,1920</td>\n",
       "</tr>\n",
       "<tr>\n",
       "<td>I.12.2022</td>\n",
       "<td>7,3920</td>\n",
       "</tr>\n",
       "<tr>\n",
       "<td>III.11.2022</td>\n",
       "<td>7,2950</td>\n",
       "</tr>\n",
       "<tr>\n",
       "<td>II.11.2022</td>\n",
       "<td>7,0610</td>\n",
       "</tr>\n",
       "<tr>\n",
       "<td>I.11.2022</td>\n",
       "<td>6,9840</td>\n",
       "</tr>\n",
       "<tr>\n",
       "<td>III.10.2022</td>\n",
       "<td>6,8390</td>\n",
       "</tr>\n",
       "<tr>\n",
       "<td>II.10.2022</td>\n",
       "<td>6,7870</td>\n",
       "</tr>\n",
       "<tr>\n",
       "<td>I.10.2022</td>\n",
       "<td>6,6690</td>\n",
       "</tr>\n",
       "<tr>\n",
       "<td>III.09.2022</td>\n",
       "<td>6,5410</td>\n",
       "</tr>\n",
       "<tr>\n",
       "<td>II.09.2022</td>\n",
       "<td>6,7400</td>\n",
       "</tr>\n",
       "<tr>\n",
       "<td>I.09.2022</td>\n",
       "<td>6,8350</td>\n",
       "</tr>\n",
       "<tr>\n",
       "<td>III.08.2022</td>\n",
       "<td>6,8350</td>\n",
       "</tr>\n",
       "<tr>\n",
       "<td>II.08.2022</td>\n",
       "<td>6,8550</td>\n",
       "</tr>\n",
       "<tr>\n",
       "<td>I.08.2022</td>\n",
       "<td>6,8250</td>\n",
       "</tr>\n",
       "<tr>\n",
       "<td>III.07.2022</td>\n",
       "<td>6,9250</td>\n",
       "</tr>\n",
       "<tr>\n",
       "<td>II.07.2022</td>\n",
       "<td>7,6450</td>\n",
       "</tr>\n",
       "<tr>\n",
       "<td>I.07.2022</td>\n",
       "<td>7,6450</td>\n",
       "</tr>\n",
       "<tr>\n",
       "<td>III.06.2022</td>\n",
       "<td>7,7230</td>\n",
       "</tr>\n",
       "</table>\n",
       "</div>\n",
       "</div>\n",
       "<!--/index-->\n",
       "<div class=\"page-info\">\n",
       "<!--noindex-->\n",
       "<div class=\"page-info_helpful\" data-feedback-url=\"/Content/PageInfo/RegisterFeedback\" data-page-feedback=\"\">\n",
       "<!--noindex-->\n",
       "<div class=\"helpful\" data-helpful=\"\">\n",
       "        Страница была полезной?\n",
       "        <div class=\"helpful_btns\">\n",
       "<button class=\"helpful_btn _yes\" data-helpful-btn=\"yes\"><i class=\"helpful_icon\"></i><span>Да</span></button>\n",
       "<button class=\"helpful_btn _no\" data-helpful-btn=\"no\"><i class=\"helpful_icon\"></i><span>Нет</span></button>\n",
       "</div>\n",
       "</div>\n",
       "<!--/noindex-->\n",
       "</div>\n",
       "<div class=\"page-info_last-update\">Последнее обновление страницы: 03.05.2024</div>\n",
       "<!--/noindex-->\n",
       "</div>\n",
       "</div>\n",
       "</div>\n",
       "</div>\n",
       "</main>\n",
       "<footer class=\"footer\" id=\"footer\">\n",
       "<div class=\"offsetMenu\">\n",
       "<div class=\"footer_main\">\n",
       "<div class=\"col-md-23 col-xl-22 offset-md-1 offset-xl-2\">\n",
       "<div class=\"footer_top\">\n",
       "<a class=\"footer_logo\" href=\"/\"></a>\n",
       "<div class=\"footer_up gotoUp\">\n",
       "<div class=\"footer_up_title\">Наверх</div>\n",
       "<div class=\"footer_up_icon\"></div>\n",
       "</div>\n",
       "</div>\n",
       "<div class=\"footer_contacts\">\n",
       "<div class=\"footer_address\">107016, Москва, ул. Неглинная, д. 12, к. В, Банк\n",
       "России</div>\n",
       "<div class=\"footer_phones\">\n",
       "<div class=\"footer_phone\"><a class=\"footer_phone_val\" href=\"tel:300\">300</a><span>(круглосуточно, бесплатно для звонков с мобильных телефонов)</span></div>\n",
       "<div class=\"footer_phone\"><a class=\"footer_phone_val\" href=\"tel:88003003000\">8 800 300-30-00</a><span>(круглосуточно, бесплатно для звонков из регионов России)</span></div>\n",
       "<div class=\"footer_phone\"><a class=\"footer_phone_val\" href=\"tel:+74993003000\">+7 499 300-30-00</a><span>(круглосуточно, в соответствии с тарифами вашего оператора)</span></div>\n",
       "</div>\n",
       "</div>\n",
       "<div class=\"footer_main_block\">\n",
       "<div class=\"footer_left-menu\">\n",
       "<div class=\"footer_left-menu_item\"><a href=\"/lk_uio/\">Личный кабинет участников рынка</a></div>\n",
       "<div class=\"footer_left-menu_item\"><a href=\"/about_br/irp/\">Отношения с инвесторами</a></div>\n",
       "<div class=\"footer_left-menu_item\"><a href=\"/rbr/list_inside/\">Перечень инсайдерской информации Банка России</a></div>\n",
       "<div class=\"footer_left-menu_item\"><a href=\"/analytics/na_vr/\">Официальное опубликование нормативных актов Банка России</a></div>\n",
       "<div class=\"footer_left-menu_item\"><a href=\"/project_na/\">Проекты нормативных актов Банка России</a></div>\n",
       "<div class=\"footer_left-menu_item\"><a href=\"/other/holidays/\">Перечень нерабочих праздничных дней и перенесенных выходных дней</a></div>\n",
       "</div>\n",
       "<div class=\"networks-circle footer_networks\">\n",
       "<a class=\"networks-circle_item _vk\" href=\"https://vk.com/cbr_official\"></a>\n",
       "<a class=\"networks-circle_item _yt\" href=\"https://www.youtube.com/user/BankofRussia\"></a>\n",
       "<a class=\"networks-circle_item _tg\" href=\"https://t.me/centralbank_russia\" title=\"Telegram\"></a>\n",
       "<a class=\"networks-circle_item _ydzen\" href=\"https://dzen.ru/cbr\" title=\"Яндекс Дзен\"></a>\n",
       "<a class=\"networks-circle_item _ok\" href=\"https://ok.ru/group/68858679787580\" title=\"Одноклассники\"></a>\n",
       "</div>\n",
       "</div>\n",
       "<div class=\"footer_menu\">\n",
       "<div class=\"footer_menu_items\">\n",
       "<div class=\"footer_menu_item\"><a href=\"/about/\">О сайте</a></div>\n",
       "<div class=\"footer_menu_item\"><a href=\"/contacts/\">Контакты</a></div>\n",
       "<div class=\"footer_menu_item\"><a href=\"/about_br/anticor/\">Противодействие коррупции</a></div>\n",
       "<div class=\"footer_menu_item\"><a href=\"/development/\">Технические ресурсы</a></div>\n",
       "</div>\n",
       "<div class=\"footer_menu_item _visually-impaired\"><a href=\"#\" title=\"Версия для слабовидящих\"><span class=\"visually-impaired-on\">Версия для слабовидящих</span><span class=\"visually-impaired-off\">Обычная версия</span></a></div>\n",
       "</div>\n",
       "</div>\n",
       "</div>\n",
       "<div class=\"footer_bottom\">\n",
       "<div class=\"col-md-23 col-xl-22 offset-md-1 offset-xl-2 row\">\n",
       "<div class=\"footer_bottom_text col-md-12 col-xl-11\">© Банк России, 2000–2024.</div>\n",
       "<div class=\"footer_bottom_aic col-md-11\">Дизайн сайта — <a href=\"https://aic.ru\" target=\"_blank\"><img src=\"/common/images/icons/aic-logo.svg\"/></a></div>\n",
       "</div>\n",
       "</div>\n",
       "</div>\n",
       "</footer>\n",
       "<div class=\"popup-cookies\" data-popup-cookies=\"\">\n",
       "<div class=\"popup-cookies_title\">\n",
       "                На сайте Банка России используются файлы cookie\n",
       "            </div>\n",
       "<div class=\"popup-cookies_subtitle\">\n",
       "                Оставаясь на <a href=\"/\">www.cbr.ru</a>, вы принимаете\n",
       "                <a href=\"/user_agreement/\">пользовательское соглашение</a>\n",
       "</div>\n",
       "<button class=\"btn _medium _blue\" data-popup-cookies-btn=\"\">\n",
       "                Подтвердить\n",
       "            </button>\n",
       "</div>\n",
       "<!--[if IE 9]><script>$('body').addClass('ie9')</script><![endif]-->\n",
       "<script src=\"/Modules/Content/Scripts/PageInfo.js?v=v3116962712\" type=\"text/javascript\"></script>\n",
       "<script type=\"text/javascript\">\n",
       "        $(function () {\n",
       "            Content_PageInfo.init($('[data-page-feedback]'));\n",
       "        });\n",
       "    </script>\n",
       "</body>\n",
       "</html>"
      ]
     },
     "execution_count": 106,
     "metadata": {},
     "output_type": "execute_result"
    }
   ],
   "source": [
    "soup"
   ]
  },
  {
   "cell_type": "markdown",
   "metadata": {
    "id": "MoQx2VEiSvLa"
   },
   "source": [
    "Можно открыть код страницы и при наведении на него будет подсвечиваться тот участок страницы, на который мы наводим в ее коде.\n",
    "\n",
    "Можно увидеть, что нужные нам данные находятся в **table-wrapper** части"
   ]
  },
  {
   "cell_type": "code",
   "execution_count": 107,
   "metadata": {
    "colab": {
     "base_uri": "https://localhost:8080/"
    },
    "id": "Rec8OVrZ3kWK",
    "outputId": "3777ff32-37e0-4fdb-d3b7-b3cd19d344aa"
   },
   "outputs": [
    {
     "data": {
      "text/plain": [
       "<div class=\"table-wrapper\">\n",
       "<div class=\"table\">\n",
       "<table class=\"data\">\n",
       "<tr>\n",
       "<th>Декада</th>\n",
       "<th>Ставка, %</th>\n",
       "</tr>\n",
       "<tr>\n",
       "<td>III.04.2024</td>\n",
       "<td>14,9220</td>\n",
       "</tr>\n",
       "<tr>\n",
       "<td>II.04.2024</td>\n",
       "<td>14,8320</td>\n",
       "</tr>\n",
       "<tr>\n",
       "<td>I.04.2024</td>\n",
       "<td>14,8320</td>\n",
       "</tr>\n",
       "<tr>\n",
       "<td>III.03.2024</td>\n",
       "<td>14,8320</td>\n",
       "</tr>\n",
       "<tr>\n",
       "<td>II.03.2024</td>\n",
       "<td>14,7020</td>\n",
       "</tr>\n",
       "<tr>\n",
       "<td>I.03.2024</td>\n",
       "<td>14,8470</td>\n",
       "</tr>\n",
       "<tr>\n",
       "<td>III.02.2024</td>\n",
       "<td>14,7890</td>\n",
       "</tr>\n",
       "<tr>\n",
       "<td>II.02.2024</td>\n",
       "<td>14,8590</td>\n",
       "</tr>\n",
       "<tr>\n",
       "<td>I.02.2024</td>\n",
       "<td>14,8300</td>\n",
       "</tr>\n",
       "<tr>\n",
       "<td>III.01.2024</td>\n",
       "<td>14,8800</td>\n",
       "</tr>\n",
       "<tr>\n",
       "<td>II.01.2024</td>\n",
       "<td>14,8700</td>\n",
       "</tr>\n",
       "<tr>\n",
       "<td>I.01.2024</td>\n",
       "<td>14,7930</td>\n",
       "</tr>\n",
       "<tr>\n",
       "<td>III.12.2023</td>\n",
       "<td>14,7530</td>\n",
       "</tr>\n",
       "<tr>\n",
       "<td>II.12.2023</td>\n",
       "<td>14,5220</td>\n",
       "</tr>\n",
       "<tr>\n",
       "<td>I.12.2023</td>\n",
       "<td>14,0030</td>\n",
       "</tr>\n",
       "<tr>\n",
       "<td>III.11.2023</td>\n",
       "<td>13,6370</td>\n",
       "</tr>\n",
       "<tr>\n",
       "<td>II.11.2023</td>\n",
       "<td>13,6370</td>\n",
       "</tr>\n",
       "<tr>\n",
       "<td>I.11.2023</td>\n",
       "<td>13,5670</td>\n",
       "</tr>\n",
       "<tr>\n",
       "<td>III.10.2023</td>\n",
       "<td>12,0360</td>\n",
       "</tr>\n",
       "<tr>\n",
       "<td>II.10.2023</td>\n",
       "<td>11,4360</td>\n",
       "</tr>\n",
       "<tr>\n",
       "<td>I.10.2023</td>\n",
       "<td>10,1800</td>\n",
       "</tr>\n",
       "<tr>\n",
       "<td>III.09.2023</td>\n",
       "<td>10,1890</td>\n",
       "</tr>\n",
       "<tr>\n",
       "<td>II.09.2023</td>\n",
       "<td>9,7700</td>\n",
       "</tr>\n",
       "<tr>\n",
       "<td>I.09.2023</td>\n",
       "<td>9,6960</td>\n",
       "</tr>\n",
       "<tr>\n",
       "<td>III.08.2023</td>\n",
       "<td>9,6610</td>\n",
       "</tr>\n",
       "<tr>\n",
       "<td>II.08.2023</td>\n",
       "<td>9,2310</td>\n",
       "</tr>\n",
       "<tr>\n",
       "<td>I.08.2023</td>\n",
       "<td>8,1460</td>\n",
       "</tr>\n",
       "<tr>\n",
       "<td>III.07.2023</td>\n",
       "<td>8,1070</td>\n",
       "</tr>\n",
       "<tr>\n",
       "<td>II.07.2023</td>\n",
       "<td>7,8270</td>\n",
       "</tr>\n",
       "<tr>\n",
       "<td>I.07.2023</td>\n",
       "<td>7,8270</td>\n",
       "</tr>\n",
       "<tr>\n",
       "<td>III.06.2023</td>\n",
       "<td>7,8270</td>\n",
       "</tr>\n",
       "<tr>\n",
       "<td>II.06.2023</td>\n",
       "<td>7,8270</td>\n",
       "</tr>\n",
       "<tr>\n",
       "<td>I.06.2023</td>\n",
       "<td>7,8270</td>\n",
       "</tr>\n",
       "<tr>\n",
       "<td>III.05.2023</td>\n",
       "<td>7,7470</td>\n",
       "</tr>\n",
       "<tr>\n",
       "<td>II.05.2023</td>\n",
       "<td>7,7470</td>\n",
       "</tr>\n",
       "<tr>\n",
       "<td>I.05.2023</td>\n",
       "<td>7,6360</td>\n",
       "</tr>\n",
       "<tr>\n",
       "<td>III.04.2023</td>\n",
       "<td>7,6360</td>\n",
       "</tr>\n",
       "<tr>\n",
       "<td>II.04.2023</td>\n",
       "<td>7,6760</td>\n",
       "</tr>\n",
       "<tr>\n",
       "<td>I.04.2023</td>\n",
       "<td>7,6760</td>\n",
       "</tr>\n",
       "<tr>\n",
       "<td>III.03.2023</td>\n",
       "<td>7,6760</td>\n",
       "</tr>\n",
       "<tr>\n",
       "<td>II.03.2023</td>\n",
       "<td>7,6760</td>\n",
       "</tr>\n",
       "<tr>\n",
       "<td>I.03.2023</td>\n",
       "<td>7,6760</td>\n",
       "</tr>\n",
       "<tr>\n",
       "<td>III.02.2023</td>\n",
       "<td>7,6760</td>\n",
       "</tr>\n",
       "<tr>\n",
       "<td>II.02.2023</td>\n",
       "<td>7,9260</td>\n",
       "</tr>\n",
       "<tr>\n",
       "<td>I.02.2023</td>\n",
       "<td>7,9260</td>\n",
       "</tr>\n",
       "<tr>\n",
       "<td>III.01.2023</td>\n",
       "<td>8,0360</td>\n",
       "</tr>\n",
       "<tr>\n",
       "<td>II.01.2023</td>\n",
       "<td>8,0360</td>\n",
       "</tr>\n",
       "<tr>\n",
       "<td>I.01.2023</td>\n",
       "<td>8,1300</td>\n",
       "</tr>\n",
       "<tr>\n",
       "<td>III.12.2022</td>\n",
       "<td>8,1770</td>\n",
       "</tr>\n",
       "<tr>\n",
       "<td>II.12.2022</td>\n",
       "<td>8,1920</td>\n",
       "</tr>\n",
       "<tr>\n",
       "<td>I.12.2022</td>\n",
       "<td>7,3920</td>\n",
       "</tr>\n",
       "<tr>\n",
       "<td>III.11.2022</td>\n",
       "<td>7,2950</td>\n",
       "</tr>\n",
       "<tr>\n",
       "<td>II.11.2022</td>\n",
       "<td>7,0610</td>\n",
       "</tr>\n",
       "<tr>\n",
       "<td>I.11.2022</td>\n",
       "<td>6,9840</td>\n",
       "</tr>\n",
       "<tr>\n",
       "<td>III.10.2022</td>\n",
       "<td>6,8390</td>\n",
       "</tr>\n",
       "<tr>\n",
       "<td>II.10.2022</td>\n",
       "<td>6,7870</td>\n",
       "</tr>\n",
       "<tr>\n",
       "<td>I.10.2022</td>\n",
       "<td>6,6690</td>\n",
       "</tr>\n",
       "<tr>\n",
       "<td>III.09.2022</td>\n",
       "<td>6,5410</td>\n",
       "</tr>\n",
       "<tr>\n",
       "<td>II.09.2022</td>\n",
       "<td>6,7400</td>\n",
       "</tr>\n",
       "<tr>\n",
       "<td>I.09.2022</td>\n",
       "<td>6,8350</td>\n",
       "</tr>\n",
       "<tr>\n",
       "<td>III.08.2022</td>\n",
       "<td>6,8350</td>\n",
       "</tr>\n",
       "<tr>\n",
       "<td>II.08.2022</td>\n",
       "<td>6,8550</td>\n",
       "</tr>\n",
       "<tr>\n",
       "<td>I.08.2022</td>\n",
       "<td>6,8250</td>\n",
       "</tr>\n",
       "<tr>\n",
       "<td>III.07.2022</td>\n",
       "<td>6,9250</td>\n",
       "</tr>\n",
       "<tr>\n",
       "<td>II.07.2022</td>\n",
       "<td>7,6450</td>\n",
       "</tr>\n",
       "<tr>\n",
       "<td>I.07.2022</td>\n",
       "<td>7,6450</td>\n",
       "</tr>\n",
       "<tr>\n",
       "<td>III.06.2022</td>\n",
       "<td>7,7230</td>\n",
       "</tr>\n",
       "</table>\n",
       "</div>\n",
       "</div>"
      ]
     },
     "execution_count": 107,
     "metadata": {},
     "output_type": "execute_result"
    }
   ],
   "source": [
    "soup.find_all('div', class_='table-wrapper')[0]"
   ]
  },
  {
   "cell_type": "markdown",
   "metadata": {
    "id": "QCU9rRPyS8eZ"
   },
   "source": [
    "Давайте запишем и используем метод `.find_all()` к данным"
   ]
  },
  {
   "cell_type": "code",
   "execution_count": 108,
   "metadata": {
    "id": "eD5I5WV63tqW"
   },
   "outputs": [],
   "source": [
    "rates_table = soup.find_all('div', class_='table-wrapper')[0]\n",
    "    \n",
    "rates_n_dates = rates_table.find_all('td')"
   ]
  },
  {
   "cell_type": "markdown",
   "metadata": {
    "id": "q2ZYD4tGTEso"
   },
   "source": [
    "С данными ниже дальше будем проводить цикл для окончательной сборки"
   ]
  },
  {
   "cell_type": "code",
   "execution_count": 109,
   "metadata": {
    "colab": {
     "base_uri": "https://localhost:8080/"
    },
    "id": "R_oP9uH83wfk",
    "outputId": "34850196-8913-4fc4-9ef3-477db50ad715"
   },
   "outputs": [
    {
     "data": {
      "text/plain": [
       "[<td>III.04.2024</td>,\n",
       " <td>14,9220</td>,\n",
       " <td>II.04.2024</td>,\n",
       " <td>14,8320</td>,\n",
       " <td>I.04.2024</td>,\n",
       " <td>14,8320</td>,\n",
       " <td>III.03.2024</td>,\n",
       " <td>14,8320</td>,\n",
       " <td>II.03.2024</td>,\n",
       " <td>14,7020</td>,\n",
       " <td>I.03.2024</td>,\n",
       " <td>14,8470</td>,\n",
       " <td>III.02.2024</td>,\n",
       " <td>14,7890</td>,\n",
       " <td>II.02.2024</td>,\n",
       " <td>14,8590</td>,\n",
       " <td>I.02.2024</td>,\n",
       " <td>14,8300</td>,\n",
       " <td>III.01.2024</td>,\n",
       " <td>14,8800</td>,\n",
       " <td>II.01.2024</td>,\n",
       " <td>14,8700</td>,\n",
       " <td>I.01.2024</td>,\n",
       " <td>14,7930</td>,\n",
       " <td>III.12.2023</td>,\n",
       " <td>14,7530</td>,\n",
       " <td>II.12.2023</td>,\n",
       " <td>14,5220</td>,\n",
       " <td>I.12.2023</td>,\n",
       " <td>14,0030</td>,\n",
       " <td>III.11.2023</td>,\n",
       " <td>13,6370</td>,\n",
       " <td>II.11.2023</td>,\n",
       " <td>13,6370</td>,\n",
       " <td>I.11.2023</td>,\n",
       " <td>13,5670</td>,\n",
       " <td>III.10.2023</td>,\n",
       " <td>12,0360</td>,\n",
       " <td>II.10.2023</td>,\n",
       " <td>11,4360</td>,\n",
       " <td>I.10.2023</td>,\n",
       " <td>10,1800</td>,\n",
       " <td>III.09.2023</td>,\n",
       " <td>10,1890</td>,\n",
       " <td>II.09.2023</td>,\n",
       " <td>9,7700</td>,\n",
       " <td>I.09.2023</td>,\n",
       " <td>9,6960</td>,\n",
       " <td>III.08.2023</td>,\n",
       " <td>9,6610</td>,\n",
       " <td>II.08.2023</td>,\n",
       " <td>9,2310</td>,\n",
       " <td>I.08.2023</td>,\n",
       " <td>8,1460</td>,\n",
       " <td>III.07.2023</td>,\n",
       " <td>8,1070</td>,\n",
       " <td>II.07.2023</td>,\n",
       " <td>7,8270</td>,\n",
       " <td>I.07.2023</td>,\n",
       " <td>7,8270</td>,\n",
       " <td>III.06.2023</td>,\n",
       " <td>7,8270</td>,\n",
       " <td>II.06.2023</td>,\n",
       " <td>7,8270</td>,\n",
       " <td>I.06.2023</td>,\n",
       " <td>7,8270</td>,\n",
       " <td>III.05.2023</td>,\n",
       " <td>7,7470</td>,\n",
       " <td>II.05.2023</td>,\n",
       " <td>7,7470</td>,\n",
       " <td>I.05.2023</td>,\n",
       " <td>7,6360</td>,\n",
       " <td>III.04.2023</td>,\n",
       " <td>7,6360</td>,\n",
       " <td>II.04.2023</td>,\n",
       " <td>7,6760</td>,\n",
       " <td>I.04.2023</td>,\n",
       " <td>7,6760</td>,\n",
       " <td>III.03.2023</td>,\n",
       " <td>7,6760</td>,\n",
       " <td>II.03.2023</td>,\n",
       " <td>7,6760</td>,\n",
       " <td>I.03.2023</td>,\n",
       " <td>7,6760</td>,\n",
       " <td>III.02.2023</td>,\n",
       " <td>7,6760</td>,\n",
       " <td>II.02.2023</td>,\n",
       " <td>7,9260</td>,\n",
       " <td>I.02.2023</td>,\n",
       " <td>7,9260</td>,\n",
       " <td>III.01.2023</td>,\n",
       " <td>8,0360</td>,\n",
       " <td>II.01.2023</td>,\n",
       " <td>8,0360</td>,\n",
       " <td>I.01.2023</td>,\n",
       " <td>8,1300</td>,\n",
       " <td>III.12.2022</td>,\n",
       " <td>8,1770</td>,\n",
       " <td>II.12.2022</td>,\n",
       " <td>8,1920</td>,\n",
       " <td>I.12.2022</td>,\n",
       " <td>7,3920</td>,\n",
       " <td>III.11.2022</td>,\n",
       " <td>7,2950</td>,\n",
       " <td>II.11.2022</td>,\n",
       " <td>7,0610</td>,\n",
       " <td>I.11.2022</td>,\n",
       " <td>6,9840</td>,\n",
       " <td>III.10.2022</td>,\n",
       " <td>6,8390</td>,\n",
       " <td>II.10.2022</td>,\n",
       " <td>6,7870</td>,\n",
       " <td>I.10.2022</td>,\n",
       " <td>6,6690</td>,\n",
       " <td>III.09.2022</td>,\n",
       " <td>6,5410</td>,\n",
       " <td>II.09.2022</td>,\n",
       " <td>6,7400</td>,\n",
       " <td>I.09.2022</td>,\n",
       " <td>6,8350</td>,\n",
       " <td>III.08.2022</td>,\n",
       " <td>6,8350</td>,\n",
       " <td>II.08.2022</td>,\n",
       " <td>6,8550</td>,\n",
       " <td>I.08.2022</td>,\n",
       " <td>6,8250</td>,\n",
       " <td>III.07.2022</td>,\n",
       " <td>6,9250</td>,\n",
       " <td>II.07.2022</td>,\n",
       " <td>7,6450</td>,\n",
       " <td>I.07.2022</td>,\n",
       " <td>7,6450</td>,\n",
       " <td>III.06.2022</td>,\n",
       " <td>7,7230</td>]"
      ]
     },
     "execution_count": 109,
     "metadata": {},
     "output_type": "execute_result"
    }
   ],
   "source": [
    "rates_n_dates"
   ]
  },
  {
   "cell_type": "code",
   "execution_count": 110,
   "metadata": {
    "id": "pSf75osiQXjC"
   },
   "outputs": [],
   "source": [
    "dates = []\n",
    "rates = []\n",
    "    \n",
    "for i, j in enumerate(rates_n_dates):\n",
    "    if i%2 == 0:\n",
    "        dates.append(j.text)\n",
    "    else:\n",
    "        rates.append(j.text)\n",
    "            \n",
    "rates = list(map(lambda x: float(x.replace(',', '.')), rates))\n",
    "            \n",
    "rates_table = pd.DataFrame({'Date': dates, 'Rate': rates})"
   ]
  },
  {
   "cell_type": "markdown",
   "metadata": {
    "id": "jlYLGozhTMcS"
   },
   "source": [
    "Получили красивую и удобную табличку с данными"
   ]
  },
  {
   "cell_type": "code",
   "execution_count": 111,
   "metadata": {
    "colab": {
     "base_uri": "https://localhost:8080/",
     "height": 419
    },
    "id": "YA9fcFfiQgYJ",
    "outputId": "cf67426b-8b15-496b-bc1e-72b202c22f13"
   },
   "outputs": [
    {
     "data": {
      "text/html": [
       "<div>\n",
       "<style scoped>\n",
       "    .dataframe tbody tr th:only-of-type {\n",
       "        vertical-align: middle;\n",
       "    }\n",
       "\n",
       "    .dataframe tbody tr th {\n",
       "        vertical-align: top;\n",
       "    }\n",
       "\n",
       "    .dataframe thead th {\n",
       "        text-align: right;\n",
       "    }\n",
       "</style>\n",
       "<table border=\"1\" class=\"dataframe\">\n",
       "  <thead>\n",
       "    <tr style=\"text-align: right;\">\n",
       "      <th></th>\n",
       "      <th>Date</th>\n",
       "      <th>Rate</th>\n",
       "    </tr>\n",
       "  </thead>\n",
       "  <tbody>\n",
       "    <tr>\n",
       "      <th>0</th>\n",
       "      <td>III.04.2024</td>\n",
       "      <td>14.922</td>\n",
       "    </tr>\n",
       "    <tr>\n",
       "      <th>1</th>\n",
       "      <td>II.04.2024</td>\n",
       "      <td>14.832</td>\n",
       "    </tr>\n",
       "    <tr>\n",
       "      <th>2</th>\n",
       "      <td>I.04.2024</td>\n",
       "      <td>14.832</td>\n",
       "    </tr>\n",
       "    <tr>\n",
       "      <th>3</th>\n",
       "      <td>III.03.2024</td>\n",
       "      <td>14.832</td>\n",
       "    </tr>\n",
       "    <tr>\n",
       "      <th>4</th>\n",
       "      <td>II.03.2024</td>\n",
       "      <td>14.702</td>\n",
       "    </tr>\n",
       "    <tr>\n",
       "      <th>...</th>\n",
       "      <td>...</td>\n",
       "      <td>...</td>\n",
       "    </tr>\n",
       "    <tr>\n",
       "      <th>62</th>\n",
       "      <td>I.08.2022</td>\n",
       "      <td>6.825</td>\n",
       "    </tr>\n",
       "    <tr>\n",
       "      <th>63</th>\n",
       "      <td>III.07.2022</td>\n",
       "      <td>6.925</td>\n",
       "    </tr>\n",
       "    <tr>\n",
       "      <th>64</th>\n",
       "      <td>II.07.2022</td>\n",
       "      <td>7.645</td>\n",
       "    </tr>\n",
       "    <tr>\n",
       "      <th>65</th>\n",
       "      <td>I.07.2022</td>\n",
       "      <td>7.645</td>\n",
       "    </tr>\n",
       "    <tr>\n",
       "      <th>66</th>\n",
       "      <td>III.06.2022</td>\n",
       "      <td>7.723</td>\n",
       "    </tr>\n",
       "  </tbody>\n",
       "</table>\n",
       "<p>67 rows × 2 columns</p>\n",
       "</div>"
      ],
      "text/plain": [
       "           Date    Rate\n",
       "0   III.04.2024  14.922\n",
       "1    II.04.2024  14.832\n",
       "2     I.04.2024  14.832\n",
       "3   III.03.2024  14.832\n",
       "4    II.03.2024  14.702\n",
       "..          ...     ...\n",
       "62    I.08.2022   6.825\n",
       "63  III.07.2022   6.925\n",
       "64   II.07.2022   7.645\n",
       "65    I.07.2022   7.645\n",
       "66  III.06.2022   7.723\n",
       "\n",
       "[67 rows x 2 columns]"
      ]
     },
     "execution_count": 111,
     "metadata": {},
     "output_type": "execute_result"
    }
   ],
   "source": [
    "rates_table"
   ]
  },
  {
   "cell_type": "markdown",
   "metadata": {
    "id": "h333xw2mTPYd"
   },
   "source": [
    "Объединим все в 1 функцию"
   ]
  },
  {
   "cell_type": "code",
   "execution_count": 112,
   "metadata": {
    "id": "PMJmvmaB2rFH"
   },
   "outputs": [],
   "source": [
    "def retrieve_top10_max_deposit_rates(start_year, start_month, save=False):\n",
    "    \n",
    "    \"\"\"Returns (parse) the data on maximum deposit rates across top 10 (by assets) banks from CBR.\n",
    "    \n",
    "    Keyword arguments:\n",
    "    start_year -- a year to begin collecting data from (can be either int or str)\n",
    "    start_month -- a month to begin collection data from (can be either int or str; values - from 1 to 12)\n",
    "    -----------------------------------------------------\n",
    "    One needs to turn off VPN to succeed with the request\n",
    "    \"\"\"\n",
    "    \n",
    "    if start_month > 12 or start_month < 1:\n",
    "        raise ValueError('Start month should be between 1 and 12')\n",
    "    \n",
    "    end_year = time.localtime()[0]\n",
    "    end_month = str(time.localtime()[1] - 1)\n",
    "    \n",
    "    start_month = str(start_month)\n",
    "    \n",
    "    if len(start_month) == 1:\n",
    "        start_month = str(0) + start_month\n",
    "    \n",
    "    if len(end_month) == 1:\n",
    "        end_month = str(0) + end_month\n",
    "        \n",
    "    url = 'https://www.cbr.ru/statistics/avgprocstav/?UniDbQuery.Posted=True&UniDbQuery.From=1.'\n",
    "    url = url + start_month + '.' + str(start_year) + '&UniDbQuery.To=3.' + end_month + '.' + str(end_year)\n",
    "    \n",
    "    response = get(url)\n",
    "    soup = BeautifulSoup(response.text, 'html.parser')\n",
    "    \n",
    "    rates_table = soup.find_all('div', class_ = 'table-wrapper')[0]\n",
    "    \n",
    "    rates_n_dates = rates_table.find_all('td')\n",
    "    \n",
    "    dates = []\n",
    "    rates = []\n",
    "    \n",
    "    for i, j in enumerate(rates_n_dates):\n",
    "        \n",
    "        if i%2 == 0:\n",
    "            dates.append(j.text)\n",
    "        else:\n",
    "            rates.append(j.text)\n",
    "            \n",
    "    rates = list(map(lambda x: float(x.replace(',', '.')), rates))\n",
    "            \n",
    "    rates_table = pd.DataFrame({'Date': dates, 'Rate': rates})\n",
    "    \n",
    "    if save:\n",
    "        print('Type the path to the file with its name')\n",
    "        rates_table.to_csv(str(input()) + '.csv')\n",
    "    \n",
    "    return rates_table"
   ]
  },
  {
   "cell_type": "code",
   "execution_count": 113,
   "metadata": {
    "colab": {
     "base_uri": "https://localhost:8080/",
     "height": 1000
    },
    "id": "rq7vwCzyQoIv",
    "outputId": "5fdd3c6f-1912-4a1a-9939-bae13ef51579"
   },
   "outputs": [
    {
     "data": {
      "text/html": [
       "<div>\n",
       "<style scoped>\n",
       "    .dataframe tbody tr th:only-of-type {\n",
       "        vertical-align: middle;\n",
       "    }\n",
       "\n",
       "    .dataframe tbody tr th {\n",
       "        vertical-align: top;\n",
       "    }\n",
       "\n",
       "    .dataframe thead th {\n",
       "        text-align: right;\n",
       "    }\n",
       "</style>\n",
       "<table border=\"1\" class=\"dataframe\">\n",
       "  <thead>\n",
       "    <tr style=\"text-align: right;\">\n",
       "      <th></th>\n",
       "      <th>Date</th>\n",
       "      <th>Rate</th>\n",
       "    </tr>\n",
       "  </thead>\n",
       "  <tbody>\n",
       "    <tr>\n",
       "      <th>0</th>\n",
       "      <td>III.04.2024</td>\n",
       "      <td>14.922</td>\n",
       "    </tr>\n",
       "    <tr>\n",
       "      <th>1</th>\n",
       "      <td>II.04.2024</td>\n",
       "      <td>14.832</td>\n",
       "    </tr>\n",
       "    <tr>\n",
       "      <th>2</th>\n",
       "      <td>I.04.2024</td>\n",
       "      <td>14.832</td>\n",
       "    </tr>\n",
       "    <tr>\n",
       "      <th>3</th>\n",
       "      <td>III.03.2024</td>\n",
       "      <td>14.832</td>\n",
       "    </tr>\n",
       "    <tr>\n",
       "      <th>4</th>\n",
       "      <td>II.03.2024</td>\n",
       "      <td>14.702</td>\n",
       "    </tr>\n",
       "    <tr>\n",
       "      <th>...</th>\n",
       "      <td>...</td>\n",
       "      <td>...</td>\n",
       "    </tr>\n",
       "    <tr>\n",
       "      <th>151</th>\n",
       "      <td>II.02.2020</td>\n",
       "      <td>5.447</td>\n",
       "    </tr>\n",
       "    <tr>\n",
       "      <th>152</th>\n",
       "      <td>I.02.2020</td>\n",
       "      <td>5.489</td>\n",
       "    </tr>\n",
       "    <tr>\n",
       "      <th>153</th>\n",
       "      <td>III.01.2020</td>\n",
       "      <td>5.757</td>\n",
       "    </tr>\n",
       "    <tr>\n",
       "      <th>154</th>\n",
       "      <td>II.01.2020</td>\n",
       "      <td>5.887</td>\n",
       "    </tr>\n",
       "    <tr>\n",
       "      <th>155</th>\n",
       "      <td>I.01.2020</td>\n",
       "      <td>5.927</td>\n",
       "    </tr>\n",
       "  </tbody>\n",
       "</table>\n",
       "<p>156 rows × 2 columns</p>\n",
       "</div>"
      ],
      "text/plain": [
       "            Date    Rate\n",
       "0    III.04.2024  14.922\n",
       "1     II.04.2024  14.832\n",
       "2      I.04.2024  14.832\n",
       "3    III.03.2024  14.832\n",
       "4     II.03.2024  14.702\n",
       "..           ...     ...\n",
       "151   II.02.2020   5.447\n",
       "152    I.02.2020   5.489\n",
       "153  III.01.2020   5.757\n",
       "154   II.01.2020   5.887\n",
       "155    I.01.2020   5.927\n",
       "\n",
       "[156 rows x 2 columns]"
      ]
     },
     "execution_count": 113,
     "metadata": {},
     "output_type": "execute_result"
    }
   ],
   "source": [
    "start_year = 2020\n",
    "start_month = 1\n",
    "\n",
    "retrieve_top10_max_deposit_rates(start_year, start_month, save = False)"
   ]
  },
  {
   "cell_type": "markdown",
   "metadata": {},
   "source": [
    "## 6.2. Выгрузка файлов с сайтов"
   ]
  },
  {
   "cell_type": "markdown",
   "metadata": {
    "id": "HG31D7T3TTNO"
   },
   "source": [
    "С помощью библиотеки **urlllib** и метода `urlretrieve()` в `.request` можно также выгружать файлы с сайтов (не залезая на сайт и прожимая кнопочки)\n",
    "\n",
    "Указать требутеся url до файла для скачивания (ссылка, по которой файл скачивается) и путь, куда сохранить файл"
   ]
  },
  {
   "cell_type": "code",
   "execution_count": 114,
   "metadata": {
    "colab": {
     "base_uri": "https://localhost:8080/"
    },
    "id": "F39eZtmQR7Je",
    "outputId": "ed40769d-5af0-4478-955e-d4eb1a49e7a5"
   },
   "outputs": [
    {
     "data": {
      "text/plain": [
       "('GKS_GDP.xlsx', <http.client.HTTPMessage at 0x26d7a5b8710>)"
      ]
     },
     "execution_count": 114,
     "metadata": {},
     "output_type": "execute_result"
    }
   ],
   "source": [
    "gks_gdp_path = 'https://rosstat.gov.ru/storage/mediabank/VVP_god_s_1995-2023.xlsx'\n",
    "gks_gdp_store_path = 'GKS_GDP.xlsx'\n",
    "\n",
    "urllib.request.urlretrieve(gks_gdp_path, gks_gdp_store_path)"
   ]
  },
  {
   "cell_type": "code",
   "execution_count": 115,
   "metadata": {
    "id": "GuOsZ9ZJSG9k"
   },
   "outputs": [],
   "source": [
    "gks_gdp = pd.read_excel('GKS_GDP.xlsx', sheet_name='6')"
   ]
  },
  {
   "cell_type": "markdown",
   "metadata": {
    "id": "Q0ZMwubHTo_x"
   },
   "source": [
    "Данные действительно загрузили, однако их еще нужно обработать (ручками - однако, если структура файла не меняется, то можно каждый месяц повторять один и тот же скрипт)"
   ]
  },
  {
   "cell_type": "code",
   "execution_count": 116,
   "metadata": {
    "colab": {
     "base_uri": "https://localhost:8080/",
     "height": 1000
    },
    "id": "Lg0fEfWmTFeS",
    "outputId": "69684757-750d-497d-c9c6-347e3b120bd7"
   },
   "outputs": [
    {
     "data": {
      "text/html": [
       "<div>\n",
       "<style scoped>\n",
       "    .dataframe tbody tr th:only-of-type {\n",
       "        vertical-align: middle;\n",
       "    }\n",
       "\n",
       "    .dataframe tbody tr th {\n",
       "        vertical-align: top;\n",
       "    }\n",
       "\n",
       "    .dataframe thead th {\n",
       "        text-align: right;\n",
       "    }\n",
       "</style>\n",
       "<table border=\"1\" class=\"dataframe\">\n",
       "  <thead>\n",
       "    <tr style=\"text-align: right;\">\n",
       "      <th></th>\n",
       "      <th>К содержанию</th>\n",
       "      <th>Unnamed: 1</th>\n",
       "      <th>Unnamed: 2</th>\n",
       "      <th>Unnamed: 3</th>\n",
       "      <th>Unnamed: 4</th>\n",
       "      <th>Unnamed: 5</th>\n",
       "      <th>Unnamed: 6</th>\n",
       "      <th>Unnamed: 7</th>\n",
       "      <th>Unnamed: 8</th>\n",
       "      <th>Unnamed: 9</th>\n",
       "      <th>Unnamed: 10</th>\n",
       "      <th>Unnamed: 11</th>\n",
       "      <th>Unnamed: 12</th>\n",
       "    </tr>\n",
       "  </thead>\n",
       "  <tbody>\n",
       "    <tr>\n",
       "      <th>0</th>\n",
       "      <td>Валовой внутренний продукт1) \\n( в ценах 2021г...</td>\n",
       "      <td>NaN</td>\n",
       "      <td>NaN</td>\n",
       "      <td>NaN</td>\n",
       "      <td>NaN</td>\n",
       "      <td>NaN</td>\n",
       "      <td>NaN</td>\n",
       "      <td>NaN</td>\n",
       "      <td>NaN</td>\n",
       "      <td>NaN</td>\n",
       "      <td>NaN</td>\n",
       "      <td>NaN</td>\n",
       "      <td>NaN</td>\n",
       "    </tr>\n",
       "    <tr>\n",
       "      <th>1</th>\n",
       "      <td>2011</td>\n",
       "      <td>2012.000000</td>\n",
       "      <td>2013.000000</td>\n",
       "      <td>2014.000000</td>\n",
       "      <td>2015.000000</td>\n",
       "      <td>2016.000000</td>\n",
       "      <td>2017.00000</td>\n",
       "      <td>2018.000000</td>\n",
       "      <td>2019.000000</td>\n",
       "      <td>2020.000000</td>\n",
       "      <td>2021.00000</td>\n",
       "      <td>20222)</td>\n",
       "      <td>20232)</td>\n",
       "    </tr>\n",
       "    <tr>\n",
       "      <th>2</th>\n",
       "      <td>117583.90532</td>\n",
       "      <td>122315.582977</td>\n",
       "      <td>124462.737812</td>\n",
       "      <td>125379.116154</td>\n",
       "      <td>122905.738223</td>\n",
       "      <td>123143.771156</td>\n",
       "      <td>125393.24492</td>\n",
       "      <td>128912.206739</td>\n",
       "      <td>131745.794647</td>\n",
       "      <td>128249.716443</td>\n",
       "      <td>135773.76902</td>\n",
       "      <td>134080.634393</td>\n",
       "      <td>138973.636977</td>\n",
       "    </tr>\n",
       "    <tr>\n",
       "      <th>3</th>\n",
       "      <td>NaN</td>\n",
       "      <td>NaN</td>\n",
       "      <td>NaN</td>\n",
       "      <td>NaN</td>\n",
       "      <td>NaN</td>\n",
       "      <td>NaN</td>\n",
       "      <td>NaN</td>\n",
       "      <td>NaN</td>\n",
       "      <td>NaN</td>\n",
       "      <td>NaN</td>\n",
       "      <td>NaN</td>\n",
       "      <td>NaN</td>\n",
       "      <td>NaN</td>\n",
       "    </tr>\n",
       "    <tr>\n",
       "      <th>4</th>\n",
       "      <td>1) Данные содержат изменения, связанные с внед...</td>\n",
       "      <td>NaN</td>\n",
       "      <td>NaN</td>\n",
       "      <td>NaN</td>\n",
       "      <td>NaN</td>\n",
       "      <td>NaN</td>\n",
       "      <td>NaN</td>\n",
       "      <td>NaN</td>\n",
       "      <td>NaN</td>\n",
       "      <td>NaN</td>\n",
       "      <td>NaN</td>\n",
       "      <td>NaN</td>\n",
       "      <td>NaN</td>\n",
       "    </tr>\n",
       "    <tr>\n",
       "      <th>5</th>\n",
       "      <td>2) Без учета статистической информации по Доне...</td>\n",
       "      <td>NaN</td>\n",
       "      <td>NaN</td>\n",
       "      <td>NaN</td>\n",
       "      <td>NaN</td>\n",
       "      <td>NaN</td>\n",
       "      <td>NaN</td>\n",
       "      <td>NaN</td>\n",
       "      <td>NaN</td>\n",
       "      <td>NaN</td>\n",
       "      <td>NaN</td>\n",
       "      <td>NaN</td>\n",
       "      <td>NaN</td>\n",
       "    </tr>\n",
       "  </tbody>\n",
       "</table>\n",
       "</div>"
      ],
      "text/plain": [
       "                                        К содержанию     Unnamed: 1  \\\n",
       "0  Валовой внутренний продукт1) \\n( в ценах 2021г...            NaN   \n",
       "1                                               2011    2012.000000   \n",
       "2                                       117583.90532  122315.582977   \n",
       "3                                                NaN            NaN   \n",
       "4  1) Данные содержат изменения, связанные с внед...            NaN   \n",
       "5  2) Без учета статистической информации по Доне...            NaN   \n",
       "\n",
       "      Unnamed: 2     Unnamed: 3     Unnamed: 4     Unnamed: 5    Unnamed: 6  \\\n",
       "0            NaN            NaN            NaN            NaN           NaN   \n",
       "1    2013.000000    2014.000000    2015.000000    2016.000000    2017.00000   \n",
       "2  124462.737812  125379.116154  122905.738223  123143.771156  125393.24492   \n",
       "3            NaN            NaN            NaN            NaN           NaN   \n",
       "4            NaN            NaN            NaN            NaN           NaN   \n",
       "5            NaN            NaN            NaN            NaN           NaN   \n",
       "\n",
       "      Unnamed: 7     Unnamed: 8     Unnamed: 9   Unnamed: 10    Unnamed: 11  \\\n",
       "0            NaN            NaN            NaN           NaN            NaN   \n",
       "1    2018.000000    2019.000000    2020.000000    2021.00000         20222)   \n",
       "2  128912.206739  131745.794647  128249.716443  135773.76902  134080.634393   \n",
       "3            NaN            NaN            NaN           NaN            NaN   \n",
       "4            NaN            NaN            NaN           NaN            NaN   \n",
       "5            NaN            NaN            NaN           NaN            NaN   \n",
       "\n",
       "     Unnamed: 12  \n",
       "0            NaN  \n",
       "1         20232)  \n",
       "2  138973.636977  \n",
       "3            NaN  \n",
       "4            NaN  \n",
       "5            NaN  "
      ]
     },
     "execution_count": 116,
     "metadata": {},
     "output_type": "execute_result"
    }
   ],
   "source": [
    "gks_gdp"
   ]
  },
  {
   "cell_type": "code",
   "execution_count": 117,
   "metadata": {},
   "outputs": [
    {
     "data": {
      "text/html": [
       "<div>\n",
       "<style scoped>\n",
       "    .dataframe tbody tr th:only-of-type {\n",
       "        vertical-align: middle;\n",
       "    }\n",
       "\n",
       "    .dataframe tbody tr th {\n",
       "        vertical-align: top;\n",
       "    }\n",
       "\n",
       "    .dataframe thead th {\n",
       "        text-align: right;\n",
       "    }\n",
       "</style>\n",
       "<table border=\"1\" class=\"dataframe\">\n",
       "  <thead>\n",
       "    <tr style=\"text-align: right;\">\n",
       "      <th></th>\n",
       "      <th>gdp</th>\n",
       "    </tr>\n",
       "    <tr>\n",
       "      <th>year</th>\n",
       "      <th></th>\n",
       "    </tr>\n",
       "  </thead>\n",
       "  <tbody>\n",
       "    <tr>\n",
       "      <th>2011</th>\n",
       "      <td>117583.90532</td>\n",
       "    </tr>\n",
       "    <tr>\n",
       "      <th>2012</th>\n",
       "      <td>122315.582977</td>\n",
       "    </tr>\n",
       "    <tr>\n",
       "      <th>2013</th>\n",
       "      <td>124462.737812</td>\n",
       "    </tr>\n",
       "    <tr>\n",
       "      <th>2014</th>\n",
       "      <td>125379.116154</td>\n",
       "    </tr>\n",
       "    <tr>\n",
       "      <th>2015</th>\n",
       "      <td>122905.738223</td>\n",
       "    </tr>\n",
       "    <tr>\n",
       "      <th>2016</th>\n",
       "      <td>123143.771156</td>\n",
       "    </tr>\n",
       "    <tr>\n",
       "      <th>2017</th>\n",
       "      <td>125393.24492</td>\n",
       "    </tr>\n",
       "    <tr>\n",
       "      <th>2018</th>\n",
       "      <td>128912.206739</td>\n",
       "    </tr>\n",
       "    <tr>\n",
       "      <th>2019</th>\n",
       "      <td>131745.794647</td>\n",
       "    </tr>\n",
       "    <tr>\n",
       "      <th>2020</th>\n",
       "      <td>128249.716443</td>\n",
       "    </tr>\n",
       "    <tr>\n",
       "      <th>2021</th>\n",
       "      <td>135773.76902</td>\n",
       "    </tr>\n",
       "    <tr>\n",
       "      <th>2022</th>\n",
       "      <td>134080.634393</td>\n",
       "    </tr>\n",
       "    <tr>\n",
       "      <th>2023</th>\n",
       "      <td>138973.636977</td>\n",
       "    </tr>\n",
       "  </tbody>\n",
       "</table>\n",
       "</div>"
      ],
      "text/plain": [
       "                gdp\n",
       "year               \n",
       "2011   117583.90532\n",
       "2012  122315.582977\n",
       "2013  124462.737812\n",
       "2014  125379.116154\n",
       "2015  122905.738223\n",
       "2016  123143.771156\n",
       "2017   125393.24492\n",
       "2018  128912.206739\n",
       "2019  131745.794647\n",
       "2020  128249.716443\n",
       "2021   135773.76902\n",
       "2022  134080.634393\n",
       "2023  138973.636977"
      ]
     },
     "execution_count": 117,
     "metadata": {},
     "output_type": "execute_result"
    }
   ],
   "source": [
    "gks_gdp = pd.read_excel('GKS_GDP.xlsx', sheet_name='6')\n",
    "\n",
    "gks_gdp = gks_gdp.T.loc[:,1:2].rename(columns={1: 'year', 2: 'gdp'})\n",
    "\n",
    "gks_gdp['year'] = [str(y)[:4] for y in gks_gdp['year'].values]\n",
    "gks_gdp['year'] = pd.to_datetime(gks_gdp['year']).dt.year\n",
    "\n",
    "gks_gdp.set_index('year', inplace=True)\n",
    "\n",
    "gks_gdp"
   ]
  },
  {
   "cell_type": "code",
   "execution_count": 118,
   "metadata": {},
   "outputs": [
    {
     "data": {
      "image/png": "[encoded data removed]",
      "text/plain": [
       "<Figure size 640x480 with 1 Axes>"
      ]
     },
     "metadata": {},
     "output_type": "display_data"
    }
   ],
   "source": [
    "plt.plot(gks_gdp['gdp'], color='forestgreen')\n",
    "\n",
    "plt.xlabel('Date')\n",
    "plt.ylabel('GDP')\n",
    "\n",
    "plt.title('Russia GDP in 2011-2023')\n",
    "\n",
    "plt.grid()\n",
    "\n",
    "None"
   ]
  },
  {
   "cell_type": "code",
   "execution_count": null,
   "metadata": {},
   "outputs": [],
   "source": []
  }
 ],
 "metadata": {
  "colab": {
   "collapsed_sections": [],
   "name": "Python_Section_5_6.ipynb",
   "provenance": [],
   "toc_visible": true
  },
  "kernelspec": {
   "display_name": "Python 3 (ipykernel)",
   "language": "python",
   "name": "python3"
  },
  "language_info": {
   "codemirror_mode": {
    "name": "ipython",
    "version": 3
   },
   "file_extension": ".py",
   "mimetype": "text/x-python",
   "name": "python",
   "nbconvert_exporter": "python",
   "pygments_lexer": "ipython3",
   "version": "3.11.8"
  }
 },
 "nbformat": 4,
 "nbformat_minor": 4
}
