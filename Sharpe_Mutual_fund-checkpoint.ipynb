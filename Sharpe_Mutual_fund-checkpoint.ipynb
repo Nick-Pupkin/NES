{
 "cells": [
  {
   "cell_type": "code",
   "execution_count": 1,
   "id": "2085d5f9-799a-4576-a3b1-c1c668c81ed6",
   "metadata": {},
   "outputs": [],
   "source": [
    "import pandas as pd\n",
    "import warnings\n",
    "warnings.simplefilter(\"ignore\")"
   ]
  },
  {
   "cell_type": "markdown",
   "id": "29471867-5b80-4ab6-b8fe-48dc0afffb02",
   "metadata": {},
   "source": [
    "## Pie price dynamic"
   ]
  },
  {
   "cell_type": "code",
   "execution_count": 2,
   "id": "cec2f7f6-5d38-4dbc-876a-5812897d806b",
   "metadata": {},
   "outputs": [
    {
     "name": "stdout",
     "output_type": "stream",
     "text": [
      "<class 'pandas.core.frame.DataFrame'>\n",
      "DatetimeIndex: 957 entries, 2021-08-31 to 2024-04-13\n",
      "Freq: D\n",
      "Data columns (total 1 columns):\n",
      " #   Column  Non-Null Count  Dtype  \n",
      "---  ------  --------------  -----  \n",
      " 0   Value   957 non-null    float64\n",
      "dtypes: float64(1)\n",
      "memory usage: 15.0 KB\n"
     ]
    }
   ],
   "source": [
    "moex_bcs = pd.read_csv('moex_bcs.csv')\n",
    "\n",
    "moex_bcs.rename(columns={'<DATE>':'Date', '<TIME>':'Time', '<CLOSE>':'Value'}, inplace=True)\n",
    "\n",
    "moex_bcs = moex_bcs.drop(['<TICKER>','<PER>','<OPEN>','<HIGH>','<LOW>','<VOL>'], axis=1)\n",
    "\n",
    "moex_bcs.index = pd.to_datetime(moex_bcs['Date'] + ' ' + moex_bcs['Time'], dayfirst = True)\n",
    "\n",
    "moex_bcs = moex_bcs.drop(['Date','Time'], axis=1)\n",
    "\n",
    "moex_bcs = moex_bcs.resample('D')\n",
    "moex_bcs = moex_bcs.interpolate()\n",
    "\n",
    "moex_bcs.info()"
   ]
  },
  {
   "cell_type": "code",
   "execution_count": 3,
   "id": "11a7723c-fe11-43e9-bd8d-ed9dfc6b2ca4",
   "metadata": {},
   "outputs": [
    {
     "data": {
      "text/html": [
       "<div>\n",
       "<style scoped>\n",
       "    .dataframe tbody tr th:only-of-type {\n",
       "        vertical-align: middle;\n",
       "    }\n",
       "\n",
       "    .dataframe tbody tr th {\n",
       "        vertical-align: top;\n",
       "    }\n",
       "\n",
       "    .dataframe thead th {\n",
       "        text-align: right;\n",
       "    }\n",
       "</style>\n",
       "<table border=\"1\" class=\"dataframe\">\n",
       "  <thead>\n",
       "    <tr style=\"text-align: right;\">\n",
       "      <th></th>\n",
       "      <th>Value</th>\n",
       "    </tr>\n",
       "  </thead>\n",
       "  <tbody>\n",
       "    <tr>\n",
       "      <th>2021-08-31</th>\n",
       "      <td>485.8</td>\n",
       "    </tr>\n",
       "    <tr>\n",
       "      <th>2021-09-01</th>\n",
       "      <td>480.6</td>\n",
       "    </tr>\n",
       "    <tr>\n",
       "      <th>2021-09-02</th>\n",
       "      <td>483.4</td>\n",
       "    </tr>\n",
       "    <tr>\n",
       "      <th>2021-09-03</th>\n",
       "      <td>475.1</td>\n",
       "    </tr>\n",
       "  </tbody>\n",
       "</table>\n",
       "</div>"
      ],
      "text/plain": [
       "            Value\n",
       "2021-08-31  485.8\n",
       "2021-09-01  480.6\n",
       "2021-09-02  483.4\n",
       "2021-09-03  475.1"
      ]
     },
     "execution_count": 3,
     "metadata": {},
     "output_type": "execute_result"
    }
   ],
   "source": [
    "moex_bcs.head(4)"
   ]
  },
  {
   "cell_type": "code",
   "execution_count": 4,
   "id": "a53d2951-e8fb-4af6-8333-f53e510b5148",
   "metadata": {},
   "outputs": [
    {
     "data": {
      "text/html": [
       "<div>\n",
       "<style scoped>\n",
       "    .dataframe tbody tr th:only-of-type {\n",
       "        vertical-align: middle;\n",
       "    }\n",
       "\n",
       "    .dataframe tbody tr th {\n",
       "        vertical-align: top;\n",
       "    }\n",
       "\n",
       "    .dataframe thead th {\n",
       "        text-align: right;\n",
       "    }\n",
       "</style>\n",
       "<table border=\"1\" class=\"dataframe\">\n",
       "  <thead>\n",
       "    <tr style=\"text-align: right;\">\n",
       "      <th></th>\n",
       "      <th>Value</th>\n",
       "    </tr>\n",
       "  </thead>\n",
       "  <tbody>\n",
       "    <tr>\n",
       "      <th>2024-04-10</th>\n",
       "      <td>5.60</td>\n",
       "    </tr>\n",
       "    <tr>\n",
       "      <th>2024-04-11</th>\n",
       "      <td>5.64</td>\n",
       "    </tr>\n",
       "    <tr>\n",
       "      <th>2024-04-12</th>\n",
       "      <td>5.66</td>\n",
       "    </tr>\n",
       "    <tr>\n",
       "      <th>2024-04-13</th>\n",
       "      <td>5.66</td>\n",
       "    </tr>\n",
       "  </tbody>\n",
       "</table>\n",
       "</div>"
      ],
      "text/plain": [
       "            Value\n",
       "2024-04-10   5.60\n",
       "2024-04-11   5.64\n",
       "2024-04-12   5.66\n",
       "2024-04-13   5.66"
      ]
     },
     "execution_count": 4,
     "metadata": {},
     "output_type": "execute_result"
    }
   ],
   "source": [
    "moex_bcs.tail(4)"
   ]
  },
  {
   "cell_type": "code",
   "execution_count": 5,
   "id": "c01ce2af-5b24-42e0-b7d2-0916eb34a6dd",
   "metadata": {},
   "outputs": [
    {
     "data": {
      "image/png": "[encoded data removed]",
      "text/plain": [
       "<Figure size 1000x600 with 1 Axes>"
      ]
     },
     "metadata": {},
     "output_type": "display_data"
    }
   ],
   "source": [
    "import datetime\n",
    "import matplotlib.pyplot as plt\n",
    "%matplotlib inline\n",
    "\n",
    "fig = plt.figure(figsize=(10,6))\n",
    "\n",
    "start = '2021-08-31'\n",
    "end = '2024-04-13'\n",
    "\n",
    "plt.axvline(x=datetime.date(2022, 2, 19), color='orange', linestyle='dashed', alpha=0.8)\n",
    "plt.axvline(x=datetime.date(2024, 3, 12), color='blue', linestyle='dashed', alpha=0.8)\n",
    "\n",
    "# plt.axvspan(xmin=datetime.date(2023, 1, 1), xmax=datetime.date(2023, 8, 1), alpha=0.1, color='blue')\n",
    "\n",
    "plt.plot(moex_bcs['Value'][start:end], label='Pie price', color='green')\n",
    "\n",
    "# plt.legend(title='BCS Russian shares (pie prices)', framealpha=1)\n",
    "\n",
    "plt.title('BCS Russian shares pie price dynamic', fontsize=14)\n",
    "\n",
    "plt.xlabel('Date')\n",
    "plt.ylabel('Price, RUB per pie')\n",
    "\n",
    "plt.text(x=datetime.date(2022, 1, 10), y=100, s='The war with Ukraine started', rotation=90, bbox=dict(color='white'), color='black')\n",
    "plt.text(x=datetime.date(2024, 2, 5), y=100, s='Pie splitting: around 100 times', rotation=90, bbox=dict(color='white'), color='black')\n",
    "plt.grid()\n",
    "plt.savefig('Pie_pr_initial.pdf')\n",
    "None"
   ]
  },
  {
   "cell_type": "code",
   "execution_count": 6,
   "id": "75b78c16-f53c-4945-b0cd-aafe00810c02",
   "metadata": {},
   "outputs": [
    {
     "data": {
      "text/plain": [
       "553.5"
      ]
     },
     "execution_count": 6,
     "metadata": {},
     "output_type": "execute_result"
    }
   ],
   "source": [
    "value_2024_03_13 = moex_bcs.loc['2024-03-13', 'Value']\n",
    "value_2024_03_13"
   ]
  },
  {
   "cell_type": "code",
   "execution_count": 7,
   "id": "7e0d6ed4-a183-466f-a864-8ecb98923e1c",
   "metadata": {},
   "outputs": [
    {
     "data": {
      "text/plain": [
       "5.545"
      ]
     },
     "execution_count": 7,
     "metadata": {},
     "output_type": "execute_result"
    }
   ],
   "source": [
    "value_2024_03_20 = moex_bcs.loc['2024-03-20', 'Value']\n",
    "value_2024_03_20"
   ]
  },
  {
   "cell_type": "code",
   "execution_count": 8,
   "id": "05adb45d-d6b3-4e98-9cb4-209e6be48fe9",
   "metadata": {},
   "outputs": [
    {
     "name": "stdout",
     "output_type": "stream",
     "text": [
      "pie split multiplier: 99.81965734896303\n"
     ]
    }
   ],
   "source": [
    "# Calculate the split multiplier\n",
    "split_mult = moex_bcs.loc['2024-03-13', 'Value']/moex_bcs.loc['2024-03-20', 'Value'] # note that it takes time for the market to \n",
    "# change the price accordingly\n",
    "print(f'pie split multiplier: {split_mult}')\n",
    "\n",
    "# Multiply values after the pi splitting by that difference\n",
    "moex_bcs.loc['2024-03-20':, 'Value'] *= split_mult"
   ]
  },
  {
   "cell_type": "code",
   "execution_count": 9,
   "id": "991f9260-d5ea-484b-b7d7-5c059bb095f5",
   "metadata": {},
   "outputs": [
    {
     "data": {
      "text/plain": [
       "2024-03-13    553.500000\n",
       "2024-03-14    475.220714\n",
       "2024-03-15    396.941429\n",
       "2024-03-16    318.662143\n",
       "2024-03-17    240.382857\n",
       "2024-03-18    162.103571\n",
       "2024-03-19     83.824286\n",
       "2024-03-20    553.500000\n",
       "2024-03-21    541.022543\n",
       "2024-03-22    544.017133\n",
       "Freq: D, Name: Value, dtype: float64"
      ]
     },
     "execution_count": 9,
     "metadata": {},
     "output_type": "execute_result"
    }
   ],
   "source": [
    "moex_bcs.loc['2024-03-13':'2024-03-22', 'Value']"
   ]
  },
  {
   "cell_type": "code",
   "execution_count": 10,
   "id": "69030a48-fa11-49e8-8b1a-31683f42cc35",
   "metadata": {},
   "outputs": [
    {
     "data": {
      "text/plain": [
       "2024-03-13    551.75\n",
       "2024-03-14    552.00\n",
       "2024-03-15    552.25\n",
       "2024-03-16    552.50\n",
       "2024-03-17    552.75\n",
       "2024-03-18    553.00\n",
       "2024-03-19    553.25\n",
       "2024-03-20    553.50\n",
       "Name: Value, dtype: float64"
      ]
     },
     "execution_count": 10,
     "metadata": {},
     "output_type": "execute_result"
    }
   ],
   "source": [
    "# now extrapolate the values when the market was reacting (it was just the \n",
    "# stickness of prices which didn't illustrate the real assets' chande of the fund)\n",
    "# Define the two known indexes (when the price was fair and stable)\n",
    "index_start = '2024-03-12'\n",
    "index_end = '2024-03-20'\n",
    "\n",
    "# Get the values at the known indexes\n",
    "value_start = moex_bcs.loc[index_start, 'Value']\n",
    "value_end = moex_bcs.loc[index_end, 'Value']\n",
    "\n",
    "# Get the date range between the two known indexes\n",
    "date_range = pd.date_range(start=index_start, end=index_end)\n",
    "\n",
    "# Calculate the step size for linear interpolation\n",
    "step_size = (value_end - value_start) / (len(date_range) - 1)\n",
    "\n",
    "# Extrapolate values between the two known indexes\n",
    "extrapolated_values = [value_start + i * step_size for i in range(len(date_range))]\n",
    "\n",
    "# Create a DataFrame with the extrapolated values\n",
    "extrapolated_df = pd.DataFrame({'Value': extrapolated_values}, index=date_range)\n",
    "\n",
    "# Combine the original DataFrame with the extrapolated DataFrame\n",
    "moex_bcs = pd.concat([moex_bcs.loc[:index_start], extrapolated_df, moex_bcs.loc[index_end:]])\n",
    "\n",
    "# Remove duplicates within the range '2024-03-13' to '2024-03-20'\n",
    "moex_bcs = moex_bcs[~moex_bcs.index.duplicated(keep='first')]\n",
    "\n",
    "moex_bcs.loc['2024-03-13':'2024-03-20', 'Value']"
   ]
  },
  {
   "cell_type": "code",
   "execution_count": 11,
   "id": "800ece8e-5a00-4d7b-9a42-8022cd712082",
   "metadata": {},
   "outputs": [
    {
     "data": {
      "text/html": [
       "<div>\n",
       "<style scoped>\n",
       "    .dataframe tbody tr th:only-of-type {\n",
       "        vertical-align: middle;\n",
       "    }\n",
       "\n",
       "    .dataframe tbody tr th {\n",
       "        vertical-align: top;\n",
       "    }\n",
       "\n",
       "    .dataframe thead th {\n",
       "        text-align: right;\n",
       "    }\n",
       "</style>\n",
       "<table border=\"1\" class=\"dataframe\">\n",
       "  <thead>\n",
       "    <tr style=\"text-align: right;\">\n",
       "      <th></th>\n",
       "      <th>Value</th>\n",
       "    </tr>\n",
       "  </thead>\n",
       "  <tbody>\n",
       "    <tr>\n",
       "      <th>2024-04-09</th>\n",
       "      <td>563.981064</td>\n",
       "    </tr>\n",
       "    <tr>\n",
       "      <th>2024-04-10</th>\n",
       "      <td>558.990081</td>\n",
       "    </tr>\n",
       "    <tr>\n",
       "      <th>2024-04-11</th>\n",
       "      <td>562.982867</td>\n",
       "    </tr>\n",
       "    <tr>\n",
       "      <th>2024-04-12</th>\n",
       "      <td>564.979261</td>\n",
       "    </tr>\n",
       "    <tr>\n",
       "      <th>2024-04-13</th>\n",
       "      <td>564.979261</td>\n",
       "    </tr>\n",
       "  </tbody>\n",
       "</table>\n",
       "</div>"
      ],
      "text/plain": [
       "                 Value\n",
       "2024-04-09  563.981064\n",
       "2024-04-10  558.990081\n",
       "2024-04-11  562.982867\n",
       "2024-04-12  564.979261\n",
       "2024-04-13  564.979261"
      ]
     },
     "execution_count": 11,
     "metadata": {},
     "output_type": "execute_result"
    }
   ],
   "source": [
    "moex_bcs.tail()"
   ]
  },
  {
   "cell_type": "code",
   "execution_count": 12,
   "id": "52cbf1fb-72fb-496d-9b85-e4bde137d994",
   "metadata": {
    "scrolled": true
   },
   "outputs": [
    {
     "data": {
      "image/png": "[encoded data removed]",
      "text/plain": [
       "<Figure size 1000x600 with 1 Axes>"
      ]
     },
     "metadata": {},
     "output_type": "display_data"
    }
   ],
   "source": [
    "# and build the graph again\n",
    "fig = plt.figure(figsize=(10,6))\n",
    "\n",
    "start = '2021-08-31'\n",
    "end = '2024-04-13'\n",
    "\n",
    "plt.axvline(x=datetime.date(2022, 2, 19), color='orange', linestyle='dashed', alpha=0.8)\n",
    "plt.axvline(x=datetime.date(2024, 3, 12), color='blue', linestyle='dashed', alpha=0.8)\n",
    "plt.axvline(x=datetime.date(2024, 4, 12), color='blue', linestyle='dashed', alpha=0.8)\n",
    "plt.axvspan(xmin=datetime.date(2024, 3, 12), xmax=datetime.date(2024, 4, 12), alpha=0.1, color='blue')\n",
    "\n",
    "plt.plot(moex_bcs['Value'][start:end], label='Pie price', color='green')\n",
    "\n",
    "# plt.legend(title='BCS Russian shares (pie prices)', framealpha=1)\n",
    "\n",
    "plt.title('BCS Russian shares pie price dynamic', fontsize=14)\n",
    "\n",
    "plt.xlabel('Date')\n",
    "plt.ylabel('Daily price, RUB per pie')\n",
    "\n",
    "plt.text(x=datetime.date(2022, 1, 10), y=280, s='The war with Ukraine started', rotation=90, bbox=dict(color='white'), color='black')\n",
    "plt.text(x=datetime.date(2024, 2, 5), y=280, s='Corrected for the pie splitting', rotation=90, bbox=dict(color='white'), color='black')\n",
    "plt.grid()\n",
    "plt.savefig('Pie_pr_corrected.pdf')\n",
    "None"
   ]
  },
  {
   "cell_type": "markdown",
   "id": "282e8748-e9ce-40c6-b9e7-145fb39fc9b7",
   "metadata": {},
   "source": [
    "## Sharpe"
   ]
  },
  {
   "cell_type": "markdown",
   "id": "184d85ef-6835-4787-9255-2fef1010f8d2",
   "metadata": {},
   "source": [
    "Sharpe Ratio =  $\\frac{R_p - R_f}{σ_p}$\n",
    "\n",
    "Where:\n",
    "- R_p is the expected return of the investment.\n",
    "- R_f is the risk-free rate.\n",
    "- σ_p is the standard deviation of the investment's returns."
   ]
  },
  {
   "cell_type": "markdown",
   "id": "7f53f802-0759-4e6d-86a3-66d71bccaaf4",
   "metadata": {},
   "source": [
    "### Expected return on the investment (annual)"
   ]
  },
  {
   "cell_type": "markdown",
   "id": "5cc7d0cd-ccdb-4e83-a4ae-afed7285be02",
   "metadata": {},
   "source": [
    "Return = $\\frac{P_t - P_{t-1}}{P_{t-1}}$\r\n",
    "\r\n",
    "Where:\r\n",
    "- P_t is the price at time t.\r\n",
    "- P_{t-1} is the price at time eriod."
   ]
  },
  {
   "cell_type": "code",
   "execution_count": 13,
   "id": "54b94e83-b411-4180-9a55-25e5df5802df",
   "metadata": {
    "scrolled": true
   },
   "outputs": [
    {
     "data": {
      "text/plain": [
       "0.10736500830747431"
      ]
     },
     "execution_count": 13,
     "metadata": {},
     "output_type": "execute_result"
    }
   ],
   "source": [
    "# Calculate percentage change without multiplying by 100\n",
    "# take the year expected return\n",
    "Returns = moex_bcs['Value'].resample('Y').ffill().pct_change()\n",
    "Return = Returns.mean()\n",
    "Return"
   ]
  },
  {
   "cell_type": "markdown",
   "id": "fd0170ee-0ddd-4944-bc3c-0cf4aae211e8",
   "metadata": {},
   "source": [
    "### Risk-free rate - Central Bank refinance  rate (annual)"
   ]
  },
  {
   "cell_type": "code",
   "execution_count": 14,
   "id": "0bca3902-629f-43ec-9260-9238542d6407",
   "metadata": {},
   "outputs": [],
   "source": [
    "from bs4 import BeautifulSoup\n",
    "from requests import get\n",
    "import urllib\n",
    "\n",
    "import time\n",
    "\n",
    "import datetime\n",
    "from dateutil.relativedelta import relativedelta"
   ]
  },
  {
   "cell_type": "code",
   "execution_count": 15,
   "id": "01d4d23a-b037-4b5d-a082-e28332fa9f00",
   "metadata": {},
   "outputs": [],
   "source": [
    "start_year = str(2021)\n",
    "startonth = '01'\n",
    "start_date = str(31)\n",
    "\n",
    "end_year = str(2024)\n",
    "endonth = '04'\n",
    "end_date = str(13)\n",
    "\n",
    "url = 'https://www.cbr.ru/hd_base/keyrate/?UniDbQuery.Posted=True&UniDbQuery.From='\n",
    "url = url + start_date + '.' + startonth + '.' +  start_year + '&UniDbQuery.To=.'\\\n",
    "+ end_date + '.' + endonth + '.'+ end_year\n",
    "\n",
    "response = get(url)"
   ]
  },
  {
   "cell_type": "code",
   "execution_count": 16,
   "id": "a82a2ff8-3f1b-4c0a-b41b-575e4d4a59f5",
   "metadata": {},
   "outputs": [
    {
     "data": {
      "text/plain": [
       "<Response [200]>"
      ]
     },
     "execution_count": 16,
     "metadata": {},
     "output_type": "execute_result"
    }
   ],
   "source": [
    "response"
   ]
  },
  {
   "cell_type": "code",
   "execution_count": 17,
   "id": "395f496b-bff8-44cb-8971-59fb4cb6169b",
   "metadata": {},
   "outputs": [],
   "source": [
    "soup = BeautifulSoup(response.text, 'html.parser')"
   ]
  },
  {
   "cell_type": "code",
   "execution_count": 18,
   "id": "b3da7ce6-1900-472b-a4aa-24c1c3c1dcd7",
   "metadata": {},
   "outputs": [],
   "source": [
    "rates_table = soup.find_all('div', class_='table-wrapper')[0]\n",
    "    \n",
    "rates_n_dates = rates_table.find_all('td')"
   ]
  },
  {
   "cell_type": "code",
   "execution_count": 19,
   "id": "5ce04c2f-a9fb-4f39-bde8-e843cda4dbe7",
   "metadata": {},
   "outputs": [],
   "source": [
    "dates = []\n",
    "rates = []\n",
    "    \n",
    "for i, j in enumerate(rates_n_dates):\n",
    "    if i%2 == 0:\n",
    "        dates.append(j.text)\n",
    "    else:\n",
    "        rates.append(j.text)\n",
    "            \n",
    "rates = list(map(lambda x: float(x.replace(',', '.')), rates))\n",
    "            \n",
    "rates_table = pd.DataFrame({'Date': dates, 'Rate': rates})"
   ]
  },
  {
   "cell_type": "code",
   "execution_count": 20,
   "id": "6dd10e64-bffd-4114-811b-bcc8b8672c3f",
   "metadata": {},
   "outputs": [
    {
     "data": {
      "text/html": [
       "<div>\n",
       "<style scoped>\n",
       "    .dataframe tbody tr th:only-of-type {\n",
       "        vertical-align: middle;\n",
       "    }\n",
       "\n",
       "    .dataframe tbody tr th {\n",
       "        vertical-align: top;\n",
       "    }\n",
       "\n",
       "    .dataframe thead th {\n",
       "        text-align: right;\n",
       "    }\n",
       "</style>\n",
       "<table border=\"1\" class=\"dataframe\">\n",
       "  <thead>\n",
       "    <tr style=\"text-align: right;\">\n",
       "      <th></th>\n",
       "      <th>Date</th>\n",
       "      <th>Rate</th>\n",
       "    </tr>\n",
       "  </thead>\n",
       "  <tbody>\n",
       "    <tr>\n",
       "      <th>0</th>\n",
       "      <td>15.04.2024</td>\n",
       "      <td>16.00</td>\n",
       "    </tr>\n",
       "    <tr>\n",
       "      <th>1</th>\n",
       "      <td>12.04.2024</td>\n",
       "      <td>16.00</td>\n",
       "    </tr>\n",
       "    <tr>\n",
       "      <th>2</th>\n",
       "      <td>11.04.2024</td>\n",
       "      <td>16.00</td>\n",
       "    </tr>\n",
       "    <tr>\n",
       "      <th>3</th>\n",
       "      <td>10.04.2024</td>\n",
       "      <td>16.00</td>\n",
       "    </tr>\n",
       "    <tr>\n",
       "      <th>4</th>\n",
       "      <td>09.04.2024</td>\n",
       "      <td>16.00</td>\n",
       "    </tr>\n",
       "    <tr>\n",
       "      <th>...</th>\n",
       "      <td>...</td>\n",
       "      <td>...</td>\n",
       "    </tr>\n",
       "    <tr>\n",
       "      <th>808</th>\n",
       "      <td>05.02.2021</td>\n",
       "      <td>4.25</td>\n",
       "    </tr>\n",
       "    <tr>\n",
       "      <th>809</th>\n",
       "      <td>04.02.2021</td>\n",
       "      <td>4.25</td>\n",
       "    </tr>\n",
       "    <tr>\n",
       "      <th>810</th>\n",
       "      <td>03.02.2021</td>\n",
       "      <td>4.25</td>\n",
       "    </tr>\n",
       "    <tr>\n",
       "      <th>811</th>\n",
       "      <td>02.02.2021</td>\n",
       "      <td>4.25</td>\n",
       "    </tr>\n",
       "    <tr>\n",
       "      <th>812</th>\n",
       "      <td>01.02.2021</td>\n",
       "      <td>4.25</td>\n",
       "    </tr>\n",
       "  </tbody>\n",
       "</table>\n",
       "<p>813 rows × 2 columns</p>\n",
       "</div>"
      ],
      "text/plain": [
       "           Date   Rate\n",
       "0    15.04.2024  16.00\n",
       "1    12.04.2024  16.00\n",
       "2    11.04.2024  16.00\n",
       "3    10.04.2024  16.00\n",
       "4    09.04.2024  16.00\n",
       "..          ...    ...\n",
       "808  05.02.2021   4.25\n",
       "809  04.02.2021   4.25\n",
       "810  03.02.2021   4.25\n",
       "811  02.02.2021   4.25\n",
       "812  01.02.2021   4.25\n",
       "\n",
       "[813 rows x 2 columns]"
      ]
     },
     "execution_count": 20,
     "metadata": {},
     "output_type": "execute_result"
    }
   ],
   "source": [
    "rates_table"
   ]
  },
  {
   "cell_type": "code",
   "execution_count": 21,
   "id": "94b7e013-76e3-432c-b0e3-319339c292ad",
   "metadata": {},
   "outputs": [
    {
     "data": {
      "text/html": [
       "<div>\n",
       "<style scoped>\n",
       "    .dataframe tbody tr th:only-of-type {\n",
       "        vertical-align: middle;\n",
       "    }\n",
       "\n",
       "    .dataframe tbody tr th {\n",
       "        vertical-align: top;\n",
       "    }\n",
       "\n",
       "    .dataframe thead th {\n",
       "        text-align: right;\n",
       "    }\n",
       "</style>\n",
       "<table border=\"1\" class=\"dataframe\">\n",
       "  <thead>\n",
       "    <tr style=\"text-align: right;\">\n",
       "      <th></th>\n",
       "      <th>Rate</th>\n",
       "    </tr>\n",
       "    <tr>\n",
       "      <th>Date</th>\n",
       "      <th></th>\n",
       "    </tr>\n",
       "  </thead>\n",
       "  <tbody>\n",
       "    <tr>\n",
       "      <th>15.04.2024</th>\n",
       "      <td>16.00</td>\n",
       "    </tr>\n",
       "    <tr>\n",
       "      <th>12.04.2024</th>\n",
       "      <td>16.00</td>\n",
       "    </tr>\n",
       "    <tr>\n",
       "      <th>11.04.2024</th>\n",
       "      <td>16.00</td>\n",
       "    </tr>\n",
       "    <tr>\n",
       "      <th>10.04.2024</th>\n",
       "      <td>16.00</td>\n",
       "    </tr>\n",
       "    <tr>\n",
       "      <th>09.04.2024</th>\n",
       "      <td>16.00</td>\n",
       "    </tr>\n",
       "    <tr>\n",
       "      <th>...</th>\n",
       "      <td>...</td>\n",
       "    </tr>\n",
       "    <tr>\n",
       "      <th>05.02.2021</th>\n",
       "      <td>4.25</td>\n",
       "    </tr>\n",
       "    <tr>\n",
       "      <th>04.02.2021</th>\n",
       "      <td>4.25</td>\n",
       "    </tr>\n",
       "    <tr>\n",
       "      <th>03.02.2021</th>\n",
       "      <td>4.25</td>\n",
       "    </tr>\n",
       "    <tr>\n",
       "      <th>02.02.2021</th>\n",
       "      <td>4.25</td>\n",
       "    </tr>\n",
       "    <tr>\n",
       "      <th>01.02.2021</th>\n",
       "      <td>4.25</td>\n",
       "    </tr>\n",
       "  </tbody>\n",
       "</table>\n",
       "<p>813 rows × 1 columns</p>\n",
       "</div>"
      ],
      "text/plain": [
       "             Rate\n",
       "Date             \n",
       "15.04.2024  16.00\n",
       "12.04.2024  16.00\n",
       "11.04.2024  16.00\n",
       "10.04.2024  16.00\n",
       "09.04.2024  16.00\n",
       "...           ...\n",
       "05.02.2021   4.25\n",
       "04.02.2021   4.25\n",
       "03.02.2021   4.25\n",
       "02.02.2021   4.25\n",
       "01.02.2021   4.25\n",
       "\n",
       "[813 rows x 1 columns]"
      ]
     },
     "execution_count": 21,
     "metadata": {},
     "output_type": "execute_result"
    }
   ],
   "source": [
    "rates_table.set_index('Date', inplace=True)\n",
    "rates_table"
   ]
  },
  {
   "cell_type": "code",
   "execution_count": 22,
   "id": "c7c4e8c4-fe70-4301-b529-ac66327e9708",
   "metadata": {},
   "outputs": [
    {
     "data": {
      "text/plain": [
       "0.0951660516605166"
      ]
     },
     "execution_count": 22,
     "metadata": {},
     "output_type": "execute_result"
    }
   ],
   "source": [
    "Mean_risk_free_r = rates_table['Rate'].mean()/100 #because in %\n",
    "Mean_risk_free_r"
   ]
  },
  {
   "cell_type": "markdown",
   "id": "e61a0098-b432-46f0-bfe4-f84f35ce2fc9",
   "metadata": {},
   "source": [
    "### Standard deviation of the investment returns (annual)"
   ]
  },
  {
   "cell_type": "code",
   "execution_count": 23,
   "id": "699357a5-930c-43ff-ab88-d858bf717435",
   "metadata": {},
   "outputs": [
    {
     "data": {
      "text/plain": [
       "0.4328624895533663"
      ]
     },
     "execution_count": 23,
     "metadata": {},
     "output_type": "execute_result"
    }
   ],
   "source": [
    "std_returns = Returns.std()\n",
    "std_returns"
   ]
  },
  {
   "cell_type": "markdown",
   "id": "8139ae72-fce3-439d-a483-0fe7a0283072",
   "metadata": {},
   "source": [
    "### The sharpe coefficient"
   ]
  },
  {
   "cell_type": "code",
   "execution_count": 24,
   "id": "56a34ba3-1e47-4a5a-adea-b60e88f09760",
   "metadata": {},
   "outputs": [
    {
     "data": {
      "text/plain": [
       "0.028"
      ]
     },
     "execution_count": 24,
     "metadata": {},
     "output_type": "execute_result"
    }
   ],
   "source": [
    "sharpe = (Return - Mean_risk_free_r)/std_returns\n",
    "sharpe.round(3)"
   ]
  },
  {
   "cell_type": "markdown",
   "id": "9e85cc54-4b61-47db-bff1-573210bca20e",
   "metadata": {},
   "source": [
    "### Comparison to the benchmark (MOEX index)"
   ]
  },
  {
   "cell_type": "code",
   "execution_count": 25,
   "id": "5a69efe9-ee93-4a41-b104-6ea79e6f0ec1",
   "metadata": {},
   "outputs": [],
   "source": [
    "moex = pd.read_csv('moex_index.csv', sep=';', encoding='latin1')"
   ]
  },
  {
   "cell_type": "code",
   "execution_count": 26,
   "id": "36eb6550-0de1-4068-a3d6-2ee45cc271a8",
   "metadata": {},
   "outputs": [
    {
     "data": {
      "text/html": [
       "<div>\n",
       "<style scoped>\n",
       "    .dataframe tbody tr th:only-of-type {\n",
       "        vertical-align: middle;\n",
       "    }\n",
       "\n",
       "    .dataframe tbody tr th {\n",
       "        vertical-align: top;\n",
       "    }\n",
       "\n",
       "    .dataframe thead th {\n",
       "        text-align: right;\n",
       "    }\n",
       "</style>\n",
       "<table border=\"1\" class=\"dataframe\">\n",
       "  <thead>\n",
       "    <tr style=\"text-align: right;\">\n",
       "      <th></th>\n",
       "      <th>BCS_r</th>\n",
       "    </tr>\n",
       "  </thead>\n",
       "  <tbody>\n",
       "    <tr>\n",
       "      <th>2021-08-31</th>\n",
       "      <td>NaN</td>\n",
       "    </tr>\n",
       "    <tr>\n",
       "      <th>2021-09-30</th>\n",
       "      <td>0.041890</td>\n",
       "    </tr>\n",
       "    <tr>\n",
       "      <th>2021-10-31</th>\n",
       "      <td>0.034542</td>\n",
       "    </tr>\n",
       "  </tbody>\n",
       "</table>\n",
       "</div>"
      ],
      "text/plain": [
       "               BCS_r\n",
       "2021-08-31       NaN\n",
       "2021-09-30  0.041890\n",
       "2021-10-31  0.034542"
      ]
     },
     "execution_count": 26,
     "metadata": {},
     "output_type": "execute_result"
    }
   ],
   "source": [
    "Returns_bcs = moex_bcs['Value'].resample('m').ffill().pct_change()\n",
    "Returns_bcs.name = 'BCS_r'\n",
    "Returns_bcs = Returns_bcs.to_frame()\n",
    "Returns_bcs = Returns_bcs.drop_duplicates(keep='first')\n",
    "Returns_bcs.head(3)"
   ]
  },
  {
   "cell_type": "code",
   "execution_count": 27,
   "id": "f2779fdf-70bc-49e0-80ce-439ec4c818ab",
   "metadata": {},
   "outputs": [
    {
     "data": {
      "text/html": [
       "<div>\n",
       "<style scoped>\n",
       "    .dataframe tbody tr th:only-of-type {\n",
       "        vertical-align: middle;\n",
       "    }\n",
       "\n",
       "    .dataframe tbody tr th {\n",
       "        vertical-align: top;\n",
       "    }\n",
       "\n",
       "    .dataframe thead th {\n",
       "        text-align: right;\n",
       "    }\n",
       "</style>\n",
       "<table border=\"1\" class=\"dataframe\">\n",
       "  <thead>\n",
       "    <tr style=\"text-align: right;\">\n",
       "      <th></th>\n",
       "      <th></th>\n",
       "      <th></th>\n",
       "      <th></th>\n",
       "      <th></th>\n",
       "      <th></th>\n",
       "      <th></th>\n",
       "      <th></th>\n",
       "      <th></th>\n",
       "      <th></th>\n",
       "      <th></th>\n",
       "      <th></th>\n",
       "      <th></th>\n",
       "      <th></th>\n",
       "      <th></th>\n",
       "      <th></th>\n",
       "      <th></th>\n",
       "      <th>history</th>\n",
       "    </tr>\n",
       "  </thead>\n",
       "  <tbody>\n",
       "    <tr>\n",
       "      <th rowspan=\"3\" valign=\"top\">SNDX</th>\n",
       "      <th rowspan=\"3\" valign=\"top\">IMOEX</th>\n",
       "      <th>10.04.2024</th>\n",
       "      <th>Èíäåêñ ÌîñÁèðæè</th>\n",
       "      <th>Èíäåêñ ÌîñÁèðæè</th>\n",
       "      <th>3439,11</th>\n",
       "      <th>3424,75</th>\n",
       "      <th>3440,03</th>\n",
       "      <th>3405,46</th>\n",
       "      <th>68204100239,98</th>\n",
       "      <th>0</th>\n",
       "      <th>0</th>\n",
       "      <th>2</th>\n",
       "      <th>6067659667641,639</th>\n",
       "      <th>RUB</th>\n",
       "      <th>1764312998,576100</th>\n",
       "      <th>3</th>\n",
       "      <td>NaN</td>\n",
       "    </tr>\n",
       "    <tr>\n",
       "      <th>11.04.2024</th>\n",
       "      <th>Èíäåêñ ÌîñÁèðæè</th>\n",
       "      <th>Èíäåêñ ÌîñÁèðæè</th>\n",
       "      <th>3439,53</th>\n",
       "      <th>3442,84</th>\n",
       "      <th>3455,61</th>\n",
       "      <th>3431,18</th>\n",
       "      <th>53525607759,33</th>\n",
       "      <th>0</th>\n",
       "      <th>0</th>\n",
       "      <th>2</th>\n",
       "      <th>6068405796074,9795</th>\n",
       "      <th>RUB</th>\n",
       "      <th>1764312998,576100</th>\n",
       "      <th>3</th>\n",
       "      <td>NaN</td>\n",
       "    </tr>\n",
       "    <tr>\n",
       "      <th>12.04.2024</th>\n",
       "      <th>Èíäåêñ ÌîñÁèðæè</th>\n",
       "      <th>Èíäåêñ ÌîñÁèðæè</th>\n",
       "      <th>3456,24</th>\n",
       "      <th>3448,6</th>\n",
       "      <th>3464</th>\n",
       "      <th>3446,79</th>\n",
       "      <th>63944927459,55</th>\n",
       "      <th>0</th>\n",
       "      <th>0</th>\n",
       "      <th>2</th>\n",
       "      <th>6097892530647,947</th>\n",
       "      <th>RUB</th>\n",
       "      <th>1764312998,576100</th>\n",
       "      <th>3</th>\n",
       "      <td>NaN</td>\n",
       "    </tr>\n",
       "  </tbody>\n",
       "</table>\n",
       "</div>"
      ],
      "text/plain": [
       "                                                                                                                                                      history\n",
       "SNDX IMOEX 10.04.2024 Èíäåêñ ÌîñÁèðæè Èíäåêñ ÌîñÁèðæè 3439,11 3424,75 3440,03 3405,46 68204100239,98 0 0 2 6067659667641,639  RUB 1764312998,576100 3     NaN\n",
       "           11.04.2024 Èíäåêñ ÌîñÁèðæè Èíäåêñ ÌîñÁèðæè 3439,53 3442,84 3455,61 3431,18 53525607759,33 0 0 2 6068405796074,9795 RUB 1764312998,576100 3     NaN\n",
       "           12.04.2024 Èíäåêñ ÌîñÁèðæè Èíäåêñ ÌîñÁèðæè 3456,24 3448,6  3464    3446,79 63944927459,55 0 0 2 6097892530647,947  RUB 1764312998,576100 3     NaN"
      ]
     },
     "execution_count": 27,
     "metadata": {},
     "output_type": "execute_result"
    }
   ],
   "source": [
    "moex.tail(3)"
   ]
  },
  {
   "cell_type": "code",
   "execution_count": 28,
   "id": "0fcd280b-0514-465d-a03a-639c172ca783",
   "metadata": {},
   "outputs": [
    {
     "data": {
      "text/html": [
       "<div>\n",
       "<style scoped>\n",
       "    .dataframe tbody tr th:only-of-type {\n",
       "        vertical-align: middle;\n",
       "    }\n",
       "\n",
       "    .dataframe tbody tr th {\n",
       "        vertical-align: top;\n",
       "    }\n",
       "\n",
       "    .dataframe thead th {\n",
       "        text-align: right;\n",
       "    }\n",
       "</style>\n",
       "<table border=\"1\" class=\"dataframe\">\n",
       "  <thead>\n",
       "    <tr style=\"text-align: right;\">\n",
       "      <th></th>\n",
       "      <th>TRADEDATE</th>\n",
       "      <th>CLOSE</th>\n",
       "    </tr>\n",
       "  </thead>\n",
       "  <tbody>\n",
       "    <tr>\n",
       "      <th>1</th>\n",
       "      <td>2021-08-13</td>\n",
       "      <td>3873.00</td>\n",
       "    </tr>\n",
       "    <tr>\n",
       "      <th>2</th>\n",
       "      <td>2021-08-16</td>\n",
       "      <td>3895.31</td>\n",
       "    </tr>\n",
       "    <tr>\n",
       "      <th>3</th>\n",
       "      <td>2021-08-17</td>\n",
       "      <td>3943.01</td>\n",
       "    </tr>\n",
       "    <tr>\n",
       "      <th>4</th>\n",
       "      <td>2021-08-18</td>\n",
       "      <td>3925.17</td>\n",
       "    </tr>\n",
       "    <tr>\n",
       "      <th>5</th>\n",
       "      <td>2021-08-19</td>\n",
       "      <td>3853.98</td>\n",
       "    </tr>\n",
       "    <tr>\n",
       "      <th>...</th>\n",
       "      <td>...</td>\n",
       "      <td>...</td>\n",
       "    </tr>\n",
       "    <tr>\n",
       "      <th>655</th>\n",
       "      <td>2024-04-08</td>\n",
       "      <td>3417.38</td>\n",
       "    </tr>\n",
       "    <tr>\n",
       "      <th>656</th>\n",
       "      <td>2024-04-09</td>\n",
       "      <td>3414.26</td>\n",
       "    </tr>\n",
       "    <tr>\n",
       "      <th>657</th>\n",
       "      <td>2024-04-10</td>\n",
       "      <td>3439.11</td>\n",
       "    </tr>\n",
       "    <tr>\n",
       "      <th>658</th>\n",
       "      <td>2024-04-11</td>\n",
       "      <td>3439.53</td>\n",
       "    </tr>\n",
       "    <tr>\n",
       "      <th>659</th>\n",
       "      <td>2024-04-12</td>\n",
       "      <td>3456.24</td>\n",
       "    </tr>\n",
       "  </tbody>\n",
       "</table>\n",
       "<p>659 rows × 2 columns</p>\n",
       "</div>"
      ],
      "text/plain": [
       "     TRADEDATE    CLOSE\n",
       "1   2021-08-13  3873.00\n",
       "2   2021-08-16  3895.31\n",
       "3   2021-08-17  3943.01\n",
       "4   2021-08-18  3925.17\n",
       "5   2021-08-19  3853.98\n",
       "..         ...      ...\n",
       "655 2024-04-08  3417.38\n",
       "656 2024-04-09  3414.26\n",
       "657 2024-04-10  3439.11\n",
       "658 2024-04-11  3439.53\n",
       "659 2024-04-12  3456.24\n",
       "\n",
       "[659 rows x 2 columns]"
      ]
     },
     "execution_count": 28,
     "metadata": {},
     "output_type": "execute_result"
    }
   ],
   "source": [
    "moex.reset_index(inplace=True)\n",
    "moex.rename(columns={'level_5': 'CLOSE', 'level_2': 'TRADEDATE'}, inplace=True)\n",
    "moex = moex.loc[:, ['TRADEDATE', 'CLOSE']]\n",
    "moex = moex.iloc[1:]\n",
    "moex['TRADEDATE'] = pd.to_datetime(moex['TRADEDATE'])# to dt\n",
    "moex['TRADEDATE'] = moex['TRADEDATE'].dt.strftime('%m-%d-%Y') # change the format, het object\n",
    "moex['TRADEDATE'] = pd.to_datetime(moex['TRADEDATE']) # to dt again\n",
    "moex['CLOSE'] = moex['CLOSE'].str.replace(',', '.').astype(float)\n",
    "moex"
   ]
  },
  {
   "cell_type": "code",
   "execution_count": 29,
   "id": "16b4a8af-2cf0-4904-b956-7470b3b5bd54",
   "metadata": {},
   "outputs": [
    {
     "name": "stdout",
     "output_type": "stream",
     "text": [
      "<class 'pandas.core.frame.DataFrame'>\n",
      "RangeIndex: 659 entries, 1 to 659\n",
      "Data columns (total 2 columns):\n",
      " #   Column     Non-Null Count  Dtype         \n",
      "---  ------     --------------  -----         \n",
      " 0   TRADEDATE  659 non-null    datetime64[ns]\n",
      " 1   CLOSE      659 non-null    float64       \n",
      "dtypes: datetime64[ns](1), float64(1)\n",
      "memory usage: 10.4 KB\n"
     ]
    }
   ],
   "source": [
    "moex.info()"
   ]
  },
  {
   "cell_type": "code",
   "execution_count": 30,
   "id": "265cbeb3-4a8c-453d-a020-9ba6a4153bc2",
   "metadata": {},
   "outputs": [
    {
     "data": {
      "text/html": [
       "<div>\n",
       "<style scoped>\n",
       "    .dataframe tbody tr th:only-of-type {\n",
       "        vertical-align: middle;\n",
       "    }\n",
       "\n",
       "    .dataframe tbody tr th {\n",
       "        vertical-align: top;\n",
       "    }\n",
       "\n",
       "    .dataframe thead th {\n",
       "        text-align: right;\n",
       "    }\n",
       "</style>\n",
       "<table border=\"1\" class=\"dataframe\">\n",
       "  <thead>\n",
       "    <tr style=\"text-align: right;\">\n",
       "      <th></th>\n",
       "      <th>CLOSE</th>\n",
       "    </tr>\n",
       "    <tr>\n",
       "      <th>TRADEDATE</th>\n",
       "      <th></th>\n",
       "    </tr>\n",
       "  </thead>\n",
       "  <tbody>\n",
       "    <tr>\n",
       "      <th>2021-08-13</th>\n",
       "      <td>3873.00</td>\n",
       "    </tr>\n",
       "    <tr>\n",
       "      <th>2021-08-16</th>\n",
       "      <td>3895.31</td>\n",
       "    </tr>\n",
       "    <tr>\n",
       "      <th>2021-08-17</th>\n",
       "      <td>3943.01</td>\n",
       "    </tr>\n",
       "  </tbody>\n",
       "</table>\n",
       "</div>"
      ],
      "text/plain": [
       "              CLOSE\n",
       "TRADEDATE          \n",
       "2021-08-13  3873.00\n",
       "2021-08-16  3895.31\n",
       "2021-08-17  3943.01"
      ]
     },
     "execution_count": 30,
     "metadata": {},
     "output_type": "execute_result"
    }
   ],
   "source": [
    "moex.set_index('TRADEDATE', inplace=True)\n",
    "moex.head(3)"
   ]
  },
  {
   "cell_type": "code",
   "execution_count": 31,
   "id": "2f2fb9cb-6efc-42cc-8ecf-d40c779e44d0",
   "metadata": {},
   "outputs": [
    {
     "name": "stdout",
     "output_type": "stream",
     "text": [
      "<class 'pandas.core.frame.DataFrame'>\n",
      "DatetimeIndex: 659 entries, 2021-08-13 to 2024-04-12\n",
      "Data columns (total 1 columns):\n",
      " #   Column  Non-Null Count  Dtype  \n",
      "---  ------  --------------  -----  \n",
      " 0   CLOSE   659 non-null    float64\n",
      "dtypes: float64(1)\n",
      "memory usage: 10.3 KB\n"
     ]
    }
   ],
   "source": [
    "moex.info()"
   ]
  },
  {
   "cell_type": "code",
   "execution_count": 32,
   "id": "5296a5dc-a0e3-45fa-a97f-a369f3b4bfab",
   "metadata": {},
   "outputs": [
    {
     "data": {
      "text/html": [
       "<div>\n",
       "<style scoped>\n",
       "    .dataframe tbody tr th:only-of-type {\n",
       "        vertical-align: middle;\n",
       "    }\n",
       "\n",
       "    .dataframe tbody tr th {\n",
       "        vertical-align: top;\n",
       "    }\n",
       "\n",
       "    .dataframe thead th {\n",
       "        text-align: right;\n",
       "    }\n",
       "</style>\n",
       "<table border=\"1\" class=\"dataframe\">\n",
       "  <thead>\n",
       "    <tr style=\"text-align: right;\">\n",
       "      <th></th>\n",
       "      <th>MOEX_r</th>\n",
       "    </tr>\n",
       "    <tr>\n",
       "      <th>TRADEDATE</th>\n",
       "      <th></th>\n",
       "    </tr>\n",
       "  </thead>\n",
       "  <tbody>\n",
       "    <tr>\n",
       "      <th>2021-08-31</th>\n",
       "      <td>NaN</td>\n",
       "    </tr>\n",
       "    <tr>\n",
       "      <th>2021-09-30</th>\n",
       "      <td>0.047094</td>\n",
       "    </tr>\n",
       "    <tr>\n",
       "      <th>2021-10-31</th>\n",
       "      <td>0.011327</td>\n",
       "    </tr>\n",
       "    <tr>\n",
       "      <th>2021-11-30</th>\n",
       "      <td>-0.062508</td>\n",
       "    </tr>\n",
       "    <tr>\n",
       "      <th>2021-12-31</th>\n",
       "      <td>-0.026559</td>\n",
       "    </tr>\n",
       "    <tr>\n",
       "      <th>2022-01-31</th>\n",
       "      <td>-0.067827</td>\n",
       "    </tr>\n",
       "    <tr>\n",
       "      <th>2022-02-28</th>\n",
       "      <td>-0.300223</td>\n",
       "    </tr>\n",
       "    <tr>\n",
       "      <th>2022-03-31</th>\n",
       "      <td>0.094326</td>\n",
       "    </tr>\n",
       "    <tr>\n",
       "      <th>2022-04-30</th>\n",
       "      <td>-0.095557</td>\n",
       "    </tr>\n",
       "    <tr>\n",
       "      <th>2022-05-31</th>\n",
       "      <td>-0.036570</td>\n",
       "    </tr>\n",
       "    <tr>\n",
       "      <th>2022-06-30</th>\n",
       "      <td>-0.064056</td>\n",
       "    </tr>\n",
       "    <tr>\n",
       "      <th>2022-07-31</th>\n",
       "      <td>0.004064</td>\n",
       "    </tr>\n",
       "    <tr>\n",
       "      <th>2022-08-31</th>\n",
       "      <td>0.084140</td>\n",
       "    </tr>\n",
       "    <tr>\n",
       "      <th>2022-09-30</th>\n",
       "      <td>-0.184481</td>\n",
       "    </tr>\n",
       "    <tr>\n",
       "      <th>2022-10-31</th>\n",
       "      <td>0.106932</td>\n",
       "    </tr>\n",
       "    <tr>\n",
       "      <th>2022-11-30</th>\n",
       "      <td>0.003655</td>\n",
       "    </tr>\n",
       "    <tr>\n",
       "      <th>2022-12-31</th>\n",
       "      <td>-0.009386</td>\n",
       "    </tr>\n",
       "    <tr>\n",
       "      <th>2023-01-31</th>\n",
       "      <td>0.033183</td>\n",
       "    </tr>\n",
       "    <tr>\n",
       "      <th>2023-02-28</th>\n",
       "      <td>0.012383</td>\n",
       "    </tr>\n",
       "    <tr>\n",
       "      <th>2023-03-31</th>\n",
       "      <td>0.087659</td>\n",
       "    </tr>\n",
       "    <tr>\n",
       "      <th>2023-04-30</th>\n",
       "      <td>0.075192</td>\n",
       "    </tr>\n",
       "    <tr>\n",
       "      <th>2023-05-31</th>\n",
       "      <td>0.031386</td>\n",
       "    </tr>\n",
       "    <tr>\n",
       "      <th>2023-06-30</th>\n",
       "      <td>0.029338</td>\n",
       "    </tr>\n",
       "    <tr>\n",
       "      <th>2023-07-31</th>\n",
       "      <td>0.098711</td>\n",
       "    </tr>\n",
       "    <tr>\n",
       "      <th>2023-08-31</th>\n",
       "      <td>0.050265</td>\n",
       "    </tr>\n",
       "    <tr>\n",
       "      <th>2023-09-30</th>\n",
       "      <td>-0.029346</td>\n",
       "    </tr>\n",
       "    <tr>\n",
       "      <th>2023-10-31</th>\n",
       "      <td>0.021610</td>\n",
       "    </tr>\n",
       "    <tr>\n",
       "      <th>2023-11-30</th>\n",
       "      <td>-0.010990</td>\n",
       "    </tr>\n",
       "    <tr>\n",
       "      <th>2023-12-31</th>\n",
       "      <td>-0.021063</td>\n",
       "    </tr>\n",
       "    <tr>\n",
       "      <th>2024-01-31</th>\n",
       "      <td>0.037133</td>\n",
       "    </tr>\n",
       "    <tr>\n",
       "      <th>2024-02-29</th>\n",
       "      <td>0.013257</td>\n",
       "    </tr>\n",
       "    <tr>\n",
       "      <th>2024-03-31</th>\n",
       "      <td>0.023253</td>\n",
       "    </tr>\n",
       "    <tr>\n",
       "      <th>2024-04-30</th>\n",
       "      <td>0.037122</td>\n",
       "    </tr>\n",
       "  </tbody>\n",
       "</table>\n",
       "</div>"
      ],
      "text/plain": [
       "              MOEX_r\n",
       "TRADEDATE           \n",
       "2021-08-31       NaN\n",
       "2021-09-30  0.047094\n",
       "2021-10-31  0.011327\n",
       "2021-11-30 -0.062508\n",
       "2021-12-31 -0.026559\n",
       "2022-01-31 -0.067827\n",
       "2022-02-28 -0.300223\n",
       "2022-03-31  0.094326\n",
       "2022-04-30 -0.095557\n",
       "2022-05-31 -0.036570\n",
       "2022-06-30 -0.064056\n",
       "2022-07-31  0.004064\n",
       "2022-08-31  0.084140\n",
       "2022-09-30 -0.184481\n",
       "2022-10-31  0.106932\n",
       "2022-11-30  0.003655\n",
       "2022-12-31 -0.009386\n",
       "2023-01-31  0.033183\n",
       "2023-02-28  0.012383\n",
       "2023-03-31  0.087659\n",
       "2023-04-30  0.075192\n",
       "2023-05-31  0.031386\n",
       "2023-06-30  0.029338\n",
       "2023-07-31  0.098711\n",
       "2023-08-31  0.050265\n",
       "2023-09-30 -0.029346\n",
       "2023-10-31  0.021610\n",
       "2023-11-30 -0.010990\n",
       "2023-12-31 -0.021063\n",
       "2024-01-31  0.037133\n",
       "2024-02-29  0.013257\n",
       "2024-03-31  0.023253\n",
       "2024-04-30  0.037122"
      ]
     },
     "execution_count": 32,
     "metadata": {},
     "output_type": "execute_result"
    }
   ],
   "source": [
    "Returns_moex= moex['CLOSE'].resample('m').ffill().pct_change()\n",
    "Returns_moex.name = 'MOEX_r'\n",
    "Returns_moex = Returns_moex.to_frame()\n",
    "Returns_moex = Returns_moex.drop_duplicates(keep='first')\n",
    "Returns_moex"
   ]
  },
  {
   "cell_type": "code",
   "execution_count": 33,
   "id": "e1b440b7-1d82-4d0a-8c06-895fe5d7e64d",
   "metadata": {},
   "outputs": [
    {
     "data": {
      "text/html": [
       "<div>\n",
       "<style scoped>\n",
       "    .dataframe tbody tr th:only-of-type {\n",
       "        vertical-align: middle;\n",
       "    }\n",
       "\n",
       "    .dataframe tbody tr th {\n",
       "        vertical-align: top;\n",
       "    }\n",
       "\n",
       "    .dataframe thead th {\n",
       "        text-align: right;\n",
       "    }\n",
       "</style>\n",
       "<table border=\"1\" class=\"dataframe\">\n",
       "  <thead>\n",
       "    <tr style=\"text-align: right;\">\n",
       "      <th></th>\n",
       "      <th>BCS_r</th>\n",
       "    </tr>\n",
       "  </thead>\n",
       "  <tbody>\n",
       "    <tr>\n",
       "      <th>2021-08-31</th>\n",
       "      <td>NaN</td>\n",
       "    </tr>\n",
       "    <tr>\n",
       "      <th>2021-09-30</th>\n",
       "      <td>0.041890</td>\n",
       "    </tr>\n",
       "    <tr>\n",
       "      <th>2021-10-31</th>\n",
       "      <td>0.034542</td>\n",
       "    </tr>\n",
       "    <tr>\n",
       "      <th>2021-11-30</th>\n",
       "      <td>-0.057547</td>\n",
       "    </tr>\n",
       "    <tr>\n",
       "      <th>2021-12-31</th>\n",
       "      <td>-0.005066</td>\n",
       "    </tr>\n",
       "    <tr>\n",
       "      <th>2022-01-31</th>\n",
       "      <td>-0.072641</td>\n",
       "    </tr>\n",
       "    <tr>\n",
       "      <th>2022-02-28</th>\n",
       "      <td>-0.160125</td>\n",
       "    </tr>\n",
       "    <tr>\n",
       "      <th>2022-03-31</th>\n",
       "      <td>-0.043649</td>\n",
       "    </tr>\n",
       "    <tr>\n",
       "      <th>2022-04-30</th>\n",
       "      <td>-0.070354</td>\n",
       "    </tr>\n",
       "    <tr>\n",
       "      <th>2022-05-31</th>\n",
       "      <td>-0.052941</td>\n",
       "    </tr>\n",
       "    <tr>\n",
       "      <th>2022-06-30</th>\n",
       "      <td>0.007764</td>\n",
       "    </tr>\n",
       "    <tr>\n",
       "      <th>2022-07-31</th>\n",
       "      <td>-0.035439</td>\n",
       "    </tr>\n",
       "    <tr>\n",
       "      <th>2022-08-31</th>\n",
       "      <td>0.039936</td>\n",
       "    </tr>\n",
       "    <tr>\n",
       "      <th>2022-09-30</th>\n",
       "      <td>-0.181260</td>\n",
       "    </tr>\n",
       "    <tr>\n",
       "      <th>2022-10-31</th>\n",
       "      <td>0.178862</td>\n",
       "    </tr>\n",
       "    <tr>\n",
       "      <th>2022-11-30</th>\n",
       "      <td>0.018568</td>\n",
       "    </tr>\n",
       "    <tr>\n",
       "      <th>2022-12-31</th>\n",
       "      <td>0.035937</td>\n",
       "    </tr>\n",
       "    <tr>\n",
       "      <th>2023-01-31</th>\n",
       "      <td>0.015083</td>\n",
       "    </tr>\n",
       "    <tr>\n",
       "      <th>2023-02-28</th>\n",
       "      <td>0.004458</td>\n",
       "    </tr>\n",
       "    <tr>\n",
       "      <th>2023-03-31</th>\n",
       "      <td>0.078402</td>\n",
       "    </tr>\n",
       "    <tr>\n",
       "      <th>2023-04-30</th>\n",
       "      <td>0.070645</td>\n",
       "    </tr>\n",
       "    <tr>\n",
       "      <th>2023-05-31</th>\n",
       "      <td>0.053171</td>\n",
       "    </tr>\n",
       "    <tr>\n",
       "      <th>2023-06-30</th>\n",
       "      <td>0.037713</td>\n",
       "    </tr>\n",
       "    <tr>\n",
       "      <th>2023-07-31</th>\n",
       "      <td>0.076592</td>\n",
       "    </tr>\n",
       "    <tr>\n",
       "      <th>2023-08-31</th>\n",
       "      <td>0.060617</td>\n",
       "    </tr>\n",
       "    <tr>\n",
       "      <th>2023-09-30</th>\n",
       "      <td>-0.010267</td>\n",
       "    </tr>\n",
       "    <tr>\n",
       "      <th>2023-10-31</th>\n",
       "      <td>0.058091</td>\n",
       "    </tr>\n",
       "    <tr>\n",
       "      <th>2023-11-30</th>\n",
       "      <td>-0.001961</td>\n",
       "    </tr>\n",
       "    <tr>\n",
       "      <th>2023-12-31</th>\n",
       "      <td>0.003536</td>\n",
       "    </tr>\n",
       "    <tr>\n",
       "      <th>2024-01-31</th>\n",
       "      <td>0.028778</td>\n",
       "    </tr>\n",
       "    <tr>\n",
       "      <th>2024-02-29</th>\n",
       "      <td>0.018078</td>\n",
       "    </tr>\n",
       "    <tr>\n",
       "      <th>2024-03-31</th>\n",
       "      <td>0.041110</td>\n",
       "    </tr>\n",
       "    <tr>\n",
       "      <th>2024-04-30</th>\n",
       "      <td>0.014337</td>\n",
       "    </tr>\n",
       "  </tbody>\n",
       "</table>\n",
       "</div>"
      ],
      "text/plain": [
       "               BCS_r\n",
       "2021-08-31       NaN\n",
       "2021-09-30  0.041890\n",
       "2021-10-31  0.034542\n",
       "2021-11-30 -0.057547\n",
       "2021-12-31 -0.005066\n",
       "2022-01-31 -0.072641\n",
       "2022-02-28 -0.160125\n",
       "2022-03-31 -0.043649\n",
       "2022-04-30 -0.070354\n",
       "2022-05-31 -0.052941\n",
       "2022-06-30  0.007764\n",
       "2022-07-31 -0.035439\n",
       "2022-08-31  0.039936\n",
       "2022-09-30 -0.181260\n",
       "2022-10-31  0.178862\n",
       "2022-11-30  0.018568\n",
       "2022-12-31  0.035937\n",
       "2023-01-31  0.015083\n",
       "2023-02-28  0.004458\n",
       "2023-03-31  0.078402\n",
       "2023-04-30  0.070645\n",
       "2023-05-31  0.053171\n",
       "2023-06-30  0.037713\n",
       "2023-07-31  0.076592\n",
       "2023-08-31  0.060617\n",
       "2023-09-30 -0.010267\n",
       "2023-10-31  0.058091\n",
       "2023-11-30 -0.001961\n",
       "2023-12-31  0.003536\n",
       "2024-01-31  0.028778\n",
       "2024-02-29  0.018078\n",
       "2024-03-31  0.041110\n",
       "2024-04-30  0.014337"
      ]
     },
     "execution_count": 33,
     "metadata": {},
     "output_type": "execute_result"
    }
   ],
   "source": [
    "Returns_bcs"
   ]
  },
  {
   "cell_type": "code",
   "execution_count": 34,
   "id": "5a48efc0-c538-467f-a0f4-df37c4afef0e",
   "metadata": {},
   "outputs": [
    {
     "name": "stdout",
     "output_type": "stream",
     "text": [
      "<class 'pandas.core.frame.DataFrame'>\n",
      "DatetimeIndex: 33 entries, 2021-08-31 to 2024-04-30\n",
      "Freq: ME\n",
      "Data columns (total 1 columns):\n",
      " #   Column  Non-Null Count  Dtype  \n",
      "---  ------  --------------  -----  \n",
      " 0   MOEX_r  32 non-null     float64\n",
      "dtypes: float64(1)\n",
      "memory usage: 528.0 bytes\n"
     ]
    }
   ],
   "source": [
    "Returns_moex.info()"
   ]
  },
  {
   "cell_type": "code",
   "execution_count": 35,
   "id": "4ef56f25-aafd-4aa2-a062-a4bc3f2b69f6",
   "metadata": {
    "scrolled": true
   },
   "outputs": [
    {
     "data": {
      "image/png": "[encoded data removed]",
      "text/plain": [
       "<Figure size 1000x600 with 1 Axes>"
      ]
     },
     "metadata": {},
     "output_type": "display_data"
    }
   ],
   "source": [
    "# build a graph to compare the perfomance of BCS and MOEX\n",
    "fig = plt.figure(figsize=(10,6))\n",
    "\n",
    "start = '2021-08-31'\n",
    "end = '2024-04-30'\n",
    "plt.axvline(x=datetime.date(2022, 2, 19), color='orange', linestyle='dashed', alpha=0.8)\n",
    "plt.axvline(x=datetime.date(2024, 3, 12), color='blue', linestyle='dashed', alpha=0.8)\n",
    "plt.axvline(x=datetime.date(2024, 4, 12), color='blue', linestyle='dashed', alpha=0.8)\n",
    "plt.axvspan(xmin=datetime.date(2024, 3, 12), xmax=datetime.date(2024, 4, 12), alpha=0.1, color='blue')\n",
    "\n",
    "plt.plot(Returns_bcs['BCS_r'][start:end]*100, label='BCS returns', color='green')\n",
    "plt.plot(Returns_moex['MOEX_r'][start:end]*100, label='Moex returns', color='red')\n",
    "plt.legend(title='BCS vs MOEX', framealpha=1)\n",
    "\n",
    "plt.title('BCS returns compared to MOEX', fontsize=14)\n",
    "\n",
    "plt.xlabel('Date')\n",
    "plt.ylabel('Monthly returns, %')\n",
    "\n",
    "plt.text(x=datetime.date(2022, 1, 10), y=-31, fontsize=10, s='The war with Ukraine', rotation=90, bbox=dict(color='white'), color='black')\n",
    "plt.text(x=datetime.date(2024, 2, 5), y=-31, fontsize=10, s='Corrected for the pie splitting', rotation=90, bbox=dict(color='white'), color='black')\n",
    "plt.grid()\n",
    "plt.savefig('BSC_MOEX.pdf')\n",
    "None"
   ]
  },
  {
   "cell_type": "code",
   "execution_count": 36,
   "id": "42e35e80-d224-431b-9d8e-e6d5c5e95c91",
   "metadata": {},
   "outputs": [
    {
     "data": {
      "image/png": "[encoded data removed]",
      "text/plain": [
       "<Figure size 1000x600 with 1 Axes>"
      ]
     },
     "metadata": {},
     "output_type": "display_data"
    }
   ],
   "source": [
    "# build a graph for the difference in returns\n",
    "import numpy as np\n",
    "fig = plt.figure(figsize=(10,6))\n",
    "plt.axvline(x=datetime.date(2022, 2, 19), color='orange', linestyle=':', alpha=0.8)\n",
    "\n",
    "Returns_dif = Returns_bcs['BCS_r']*100 - Returns_moex['MOEX_r']*100\n",
    "plt.plot(Returns_dif, label='BCS return - MOEX return', color='violet')\n",
    "# Generate daily dates for interpolation/extrapolation\n",
    "Returns_dif_days = pd.date_range(start=start, end=end, freq='D')\n",
    "\n",
    "# Interpolate the monthly values to daily values\n",
    "Returns_dif_days = Returns_dif.reindex(Returns_dif_days).interpolate(method='linear')\n",
    "\n",
    "# Create a boolean mask based on the condition (value >= const)\n",
    "mask = Returns_dif_days >= 0\n",
    "\n",
    "# Fill between the time series and the constant value where the condition is True\n",
    "plt.fill_between(Returns_dif_days.index, Returns_dif_days, 0, where=mask, color='pink', alpha=0.3, label='BCS overperforms MOEX')\n",
    "\n",
    "plt.xlabel('Date')\n",
    "plt.ylabel('Difference in monthly returns, %')\n",
    "\n",
    "plt.text(x=datetime.date(2022, 1, 10), y=-14, fontsize=10, s='The war with Ukraine', rotation=90, bbox=dict(color='white'), color='black')\n",
    "plt.axhline(y=0, color='black', alpha=0.5)\n",
    "plt.axhline(y=Returns_dif.mean(), color='red', linestyle='dashed', label=f'Mean (BCS return - MOEX return) = {Returns_dif.mean().round(3)}')\n",
    "plt.grid()\n",
    "plt.legend()\n",
    "# plt.text(x=datetime.date(2023, 1, 1), y=-10, s = f'Mean (BCS return - MOEX return) = {Returns_dif.mean().round(3)}', fontsize=12, bbox=dict(color='white'), color='black')\n",
    "plt.savefig('BSC_MOEX.pdf')\n",
    "None"
   ]
  },
  {
   "cell_type": "markdown",
   "id": "32563d60-d33f-4c0f-ba4d-5903011f7c51",
   "metadata": {},
   "source": [
    "#### Sharpe for MOEX index"
   ]
  },
  {
   "cell_type": "markdown",
   "id": "2837a70a-21f6-4d23-9d59-0e2ca5893892",
   "metadata": {},
   "source": [
    "#### Expected return on the investment (annual)"
   ]
  },
  {
   "cell_type": "markdown",
   "id": "4fd75de5-c570-46f6-a7d6-c39b3d1c3895",
   "metadata": {},
   "source": [
    "Return = $\\frac{P_t - P_{t-1}}{P_{t-1}}* 100\\%$\r\n",
    "\r\n",
    "Where:\r\n",
    "- P_t is the price at time t.\r\n",
    "- P_{t-1} is the price at time eriod."
   ]
  },
  {
   "cell_type": "code",
   "execution_count": 37,
   "id": "fb37aaf2-6dcd-430e-b363-04edfe4e8376",
   "metadata": {
    "scrolled": true
   },
   "outputs": [
    {
     "data": {
      "text/plain": [
       "0.04090216222452151"
      ]
     },
     "execution_count": 37,
     "metadata": {},
     "output_type": "execute_result"
    }
   ],
   "source": [
    "# Calculate percentage change without multiplying by 100\n",
    "# take the year expected return\n",
    "Returns_moex_annual= moex['CLOSE'].resample('Y').ffill().pct_change()\n",
    "Return_moex_annual = Returns_moex_annual.mean()\n",
    "Return_moex_annual"
   ]
  },
  {
   "cell_type": "markdown",
   "id": "02e4ad6a-0875-4228-9c74-00634a769c4c",
   "metadata": {},
   "source": [
    "#### Standard deviation of the investment returns (annual)"
   ]
  },
  {
   "cell_type": "code",
   "execution_count": 38,
   "id": "ef815664-7493-4b43-99ca-44454b8fbe17",
   "metadata": {},
   "outputs": [
    {
     "data": {
      "text/plain": [
       "0.43969260241795755"
      ]
     },
     "execution_count": 38,
     "metadata": {},
     "output_type": "execute_result"
    }
   ],
   "source": [
    "std_returns_moex = Returns_moex_annual.std()\n",
    "std_returns_moex"
   ]
  },
  {
   "cell_type": "markdown",
   "id": "2cf56e5e-2e7d-4566-892f-7204ce4e1bf2",
   "metadata": {},
   "source": [
    "#### The sharpe coefficient"
   ]
  },
  {
   "cell_type": "code",
   "execution_count": 39,
   "id": "524bc39b-c067-45e5-93da-82c39b5b3051",
   "metadata": {},
   "outputs": [
    {
     "data": {
      "text/plain": [
       "-0.123"
      ]
     },
     "execution_count": 39,
     "metadata": {},
     "output_type": "execute_result"
    }
   ],
   "source": [
    "sharpe_moex = (Return_moex_annual - Mean_risk_free_r)/std_returns_moex\n",
    "sharpe_moex.round(3)"
   ]
  },
  {
   "cell_type": "markdown",
   "id": "aac115cb-bf43-418d-8282-9faf34391199",
   "metadata": {},
   "source": [
    "#### The sharpe coefficients difference (BCS - MOEX)"
   ]
  },
  {
   "cell_type": "code",
   "execution_count": 40,
   "id": "32ae6b9c-688b-4f8e-986b-8f38db0ee2ba",
   "metadata": {},
   "outputs": [
    {
     "name": "stdout",
     "output_type": "stream",
     "text": [
      "The difference netween BCS sharpe and MOEX sharpe:0.152\n"
     ]
    }
   ],
   "source": [
    "print(f'The difference netween BCS sharpe and MOEX sharpe:{(sharpe - sharpe_moex).round(3)}')"
   ]
  }
 ],
 "metadata": {
  "kernelspec": {
   "display_name": "Python 3 (ipykernel)",
   "language": "python",
   "name": "python3"
  },
  "language_info": {
   "codemirror_mode": {
    "name": "ipython",
    "version": 3
   },
   "file_extension": ".py",
   "mimetype": "text/x-python",
   "name": "python",
   "nbconvert_exporter": "python",
   "pygments_lexer": "ipython3",
   "version": "3.11.8"
  }
 },
 "nbformat": 4,
 "nbformat_minor": 5
}
