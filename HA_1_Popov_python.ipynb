{
 "cells": [
  {
   "cell_type": "markdown",
   "metadata": {
    "id": "bcR1qtXrTpMR"
   },
   "source": [
    "# **<center> Введение в Python, New Economic School, MAE 2022 </center>**\n",
    "## **<center> Домашнее Задание 1 </center>**"
   ]
  },
  {
   "cell_type": "markdown",
   "metadata": {
    "id": "nCyGaIewT_yl"
   },
   "source": [
    "### **Задание 1.**\n",
    "\n",
    "Ниже Вам дана строка. Проделайте с ней следующие операции:\n",
    "\n",
    "(После каждой операции выведите полученный результат (`print`))"
   ]
  },
  {
   "cell_type": "code",
   "execution_count": 1,
   "metadata": {
    "tags": []
   },
   "outputs": [],
   "source": [
    "string = 'Please, make some manipulaTions with this String    '"
   ]
  },
  {
   "cell_type": "markdown",
   "metadata": {},
   "source": [
    "(1) Замените все `'a'` на `'@'` "
   ]
  },
  {
   "cell_type": "code",
   "execution_count": 2,
   "metadata": {
    "tags": []
   },
   "outputs": [
    {
     "name": "stdout",
     "output_type": "stream",
     "text": [
      "Updated string: Ple@se, m@ke some m@nipul@Tions with this String    \n"
     ]
    }
   ],
   "source": [
    "string_new = string.replace('a', '@')\n",
    "print(f'Updated string: {string_new}')"
   ]
  },
  {
   "cell_type": "markdown",
   "metadata": {},
   "source": [
    "(2) Приведите строку к нижнему регистру\n"
   ]
  },
  {
   "cell_type": "code",
   "execution_count": 3,
   "metadata": {
    "tags": []
   },
   "outputs": [
    {
     "name": "stdout",
     "output_type": "stream",
     "text": [
      "Updated string: please, make some manipulations with this string    \n"
     ]
    }
   ],
   "source": [
    "string_new = string.lower()\n",
    "print(f'Updated string: {string_new}')"
   ]
  },
  {
   "cell_type": "markdown",
   "metadata": {},
   "source": [
    "(3) Удалите лишние пробелы в конце"
   ]
  },
  {
   "cell_type": "code",
   "execution_count": 4,
   "metadata": {
    "tags": []
   },
   "outputs": [
    {
     "name": "stdout",
     "output_type": "stream",
     "text": [
      "Updated string: Please, make some manipulaTions with this String\n"
     ]
    }
   ],
   "source": [
    "string_new = string.rstrip()\n",
    "print(f'Updated string: {string_new}')"
   ]
  },
  {
   "cell_type": "markdown",
   "metadata": {},
   "source": [
    "(4) Разбейте строку на слова в список (**hint**: подумайте, какой требуется разделитель; возможно, вам понадобится дополнительный шаг и ранее использованный функционал)"
   ]
  },
  {
   "cell_type": "code",
   "execution_count": 5,
   "metadata": {
    "tags": []
   },
   "outputs": [
    {
     "data": {
      "text/plain": [
       "['Please', 'make', 'some', 'manipulaTions', 'with', 'this', 'String']"
      ]
     },
     "execution_count": 5,
     "metadata": {},
     "output_type": "execute_result"
    }
   ],
   "source": [
    "string_new = string.rstrip() #don't need spaces after\n",
    "string_new = string_new.replace(',', '') #don't need a commma as well\n",
    "word_list = string_new.split(sep = ' ')  # ' ' - separator\n",
    "word_list\n",
    "# print(f'List of words: {word_list}')"
   ]
  },
  {
   "cell_type": "markdown",
   "metadata": {
    "id": "sHaaUpjQUJJ4",
    "tags": []
   },
   "source": [
    "### **Задание 2.**\n",
    "\n",
    "Ниже Вам дан список из различных элементов. Проделайте с ним следующее:\n",
    "\n",
    "(После каждой операции выведите полученный результат) "
   ]
  },
  {
   "cell_type": "code",
   "execution_count": 6,
   "metadata": {
    "tags": []
   },
   "outputs": [],
   "source": [
    "problem2_list = [1, 3, 7, 11, 'a', '42', 3, 9, '123', 'bc']"
   ]
  },
  {
   "cell_type": "markdown",
   "metadata": {},
   "source": [
    "(1) Возьмите второй элемент с конца"
   ]
  },
  {
   "cell_type": "code",
   "execution_count": 7,
   "metadata": {
    "tags": []
   },
   "outputs": [
    {
     "name": "stdout",
     "output_type": "stream",
     "text": [
      "Sample: 123\n"
     ]
    }
   ],
   "source": [
    "print(f'Sample: {problem2_list[-2]}')"
   ]
  },
  {
   "cell_type": "markdown",
   "metadata": {},
   "source": [
    "(2) Возьмите все элементы списка с 3-го с начaла по 2-й с конца включительно (без последнего элемента)"
   ]
  },
  {
   "cell_type": "code",
   "execution_count": 8,
   "metadata": {
    "tags": []
   },
   "outputs": [
    {
     "name": "stdout",
     "output_type": "stream",
     "text": [
      "Sample: [11, 'a', '42', 3, 9, '123']\n"
     ]
    }
   ],
   "source": [
    "print(f'Sample: {problem2_list[3:-1]}')"
   ]
  },
  {
   "cell_type": "markdown",
   "metadata": {},
   "source": [
    "(3) Замените 4-й элемент на 42"
   ]
  },
  {
   "cell_type": "code",
   "execution_count": 9,
   "metadata": {
    "tags": []
   },
   "outputs": [
    {
     "name": "stdout",
     "output_type": "stream",
     "text": [
      "[1, 3, 7, 11, 42, '42', 3, 9, '123', 'bc']\n"
     ]
    }
   ],
   "source": [
    "problem2_list[4] = 42\n",
    "print(problem2_list)"
   ]
  },
  {
   "cell_type": "markdown",
   "metadata": {},
   "source": [
    "(4) Возьмите все элементы списка со 2-го с начала по 2-й с конца (не включительно) через 1 (с шагом в 2)"
   ]
  },
  {
   "cell_type": "code",
   "execution_count": 10,
   "metadata": {
    "tags": []
   },
   "outputs": [
    {
     "name": "stdout",
     "output_type": "stream",
     "text": [
      "Sample: [7, 11, 42, '42', 3, 9]\n"
     ]
    }
   ],
   "source": [
    "print(f'Sample: {problem2_list[2:-2:1]}')"
   ]
  },
  {
   "cell_type": "markdown",
   "metadata": {},
   "source": [
    "(5) Соедините все элементы изначального списка в строку через пробел (Вам может потребоваться перевести элементы списка в строковый формат)"
   ]
  },
  {
   "cell_type": "code",
   "execution_count": 11,
   "metadata": {
    "tags": []
   },
   "outputs": [
    {
     "name": "stdout",
     "output_type": "stream",
     "text": [
      "String list: 1 3 7 11 42 42 3 9 123 bc\n"
     ]
    }
   ],
   "source": [
    "problem2_list = [str(x) for x in problem2_list] # convert all list elements into str\n",
    "str_list = ' '.join(problem2_list) # join the list into str\n",
    "print(f'String list: {str_list}')"
   ]
  },
  {
   "cell_type": "markdown",
   "metadata": {
    "id": "LDGFY99keaE0"
   },
   "source": [
    "### **Задание 3.**\n",
    "\n",
    "Вам даны 2 списка. Сделайте из них один список, содержащий в себе все элементы этих 2-х списков."
   ]
  },
  {
   "cell_type": "code",
   "execution_count": 12,
   "metadata": {
    "id": "1usUnveieaQ0",
    "tags": []
   },
   "outputs": [
    {
     "name": "stdout",
     "output_type": "stream",
     "text": [
      "[1, 'a', 3, 5, 2, 4, 'a', 'b', 5]\n"
     ]
    }
   ],
   "source": [
    "problem3_list1 = [1, 'a', 3, 5]\n",
    "problem3_list2 = [2, 4, 'a', 'b', 5]\n",
    "\n",
    "list_united = problem3_list1.copy() # not to change the original object\n",
    "list_united.extend(problem3_list2)\n",
    "print(list_united)"
   ]
  },
  {
   "cell_type": "markdown",
   "metadata": {},
   "source": [
    "$**$ Теперь сделайте из них один список, элементы в котором не повторяются."
   ]
  },
  {
   "cell_type": "code",
   "execution_count": 13,
   "metadata": {
    "tags": []
   },
   "outputs": [
    {
     "name": "stdout",
     "output_type": "stream",
     "text": [
      "[1, 2, 3, 4, 5, 'b', 'a']\n"
     ]
    }
   ],
   "source": [
    "problem3_list1 = [1, 'a', 3, 5]\n",
    "problem3_list2 = [2, 4, 'a', 'b', 5]\n",
    "\n",
    "\"\"\"\n",
    " use the results from the previous code and sets \n",
    " - they automatically preserve only unique values\n",
    "(hope, order of the elements is not essetial. Otherwise - use for cycle and\n",
    " if condition, or specific funtions from the libraries)\n",
    "\"\"\" \n",
    " \n",
    "set_united = set(list_united) \n",
    "list_united = list(set_united)\n",
    "print(list_united)"
   ]
  },
  {
   "cell_type": "markdown",
   "metadata": {
    "id": "WYmNkRY2fJQc"
   },
   "source": [
    "### **Задание 4.**\n",
    "\n",
    "Выводите все значения списка ниже пока индекс элемента меньше 6. Используйте цикл `while`."
   ]
  },
  {
   "cell_type": "code",
   "execution_count": 14,
   "metadata": {
    "id": "d6K2xT3cfJZB",
    "tags": []
   },
   "outputs": [
    {
     "name": "stdout",
     "output_type": "stream",
     "text": [
      "1\n",
      "7\n",
      "True\n",
      "3\n",
      "[2, 1]\n",
      "5\n"
     ]
    }
   ],
   "source": [
    "problem4_list = [1, '7', True, 3, [2, 1], 5, 9, 'H', '4', '4', 30]\n",
    "\n",
    "for i, value in enumerate(problem4_list):\n",
    "    if i < 6:\n",
    "        print(value)\n",
    "    else:\n",
    "        break # not to iterate the list excessively"
   ]
  },
  {
   "cell_type": "markdown",
   "metadata": {
    "id": "AOIBhtyLUK4s"
   },
   "source": [
    "### **Задание 5.**\n",
    "\n",
    "(1) Выведите все элементы списка кроме списка внутри (Ваш алгоритм не должен опираться на индекс этого элемента, программа должна работать для любого списка)"
   ]
  },
  {
   "cell_type": "code",
   "execution_count": 15,
   "metadata": {
    "tags": []
   },
   "outputs": [],
   "source": [
    "problem5_list = [1, 3, 7, 11, 'a', '42', 3, [1, (2, True)], '123', 'bc']"
   ]
  },
  {
   "cell_type": "code",
   "execution_count": 16,
   "metadata": {
    "tags": []
   },
   "outputs": [
    {
     "name": "stdout",
     "output_type": "stream",
     "text": [
      "1\n",
      "3\n",
      "7\n",
      "11\n",
      "a\n",
      "42\n",
      "3\n",
      "123\n",
      "bc\n"
     ]
    }
   ],
   "source": [
    "# a function, printing all elements of the list aside from another lists\n",
    "\n",
    "def print_no_list(list_input):\n",
    "    for i in list_input:\n",
    "        if type(i) != list:\n",
    "            print(i)\n",
    "            \n",
    "# now use the funtion\n",
    "print_no_list(problem5_list)"
   ]
  },
  {
   "cell_type": "markdown",
   "metadata": {},
   "source": [
    "(2) Выведите все элементы списка пока не встретится список внутри (до него) \\ (Ваш алгоритм не должен опираться на индекс этого элемента, программа должна работать для любого списка)"
   ]
  },
  {
   "cell_type": "code",
   "execution_count": 17,
   "metadata": {
    "tags": []
   },
   "outputs": [
    {
     "name": "stdout",
     "output_type": "stream",
     "text": [
      "1\n",
      "3\n",
      "7\n",
      "11\n",
      "a\n",
      "42\n",
      "3\n"
     ]
    }
   ],
   "source": [
    "# a funtion, printing everything before hte list\n",
    "def print_before_list(list_input):\n",
    "    for i in list_input:\n",
    "        if type(i) == list:\n",
    "            break\n",
    "        else:\n",
    "            print(i)\n",
    "\n",
    "# use it \n",
    "print_before_list(problem5_list)"
   ]
  },
  {
   "cell_type": "markdown",
   "metadata": {
    "id": "TfWDs-pgUM13"
   },
   "source": [
    "### **Задание 6.**\n",
    "\n",
    "Для данного списка сделайте следующее:"
   ]
  },
  {
   "cell_type": "code",
   "execution_count": 18,
   "metadata": {
    "tags": []
   },
   "outputs": [],
   "source": [
    "problem6_list = [1, 2, 5, 7, 4, 9, 11, 12, 16, 3, 6, 4]"
   ]
  },
  {
   "cell_type": "markdown",
   "metadata": {},
   "source": [
    "(1) Составьте список из корней тех элементов, которые нацело делятся на 4. Также округлите каждый новый элемент до 4-го знака после запятой"
   ]
  },
  {
   "cell_type": "code",
   "execution_count": 19,
   "metadata": {
    "tags": []
   },
   "outputs": [
    {
     "name": "stdout",
     "output_type": "stream",
     "text": [
      "[1.4142135623730951, 2.0, 3.4641016151377544, 4.0, 2.449489742783178, 2.0]\n"
     ]
    }
   ],
   "source": [
    "problem6_even = []\n",
    "for i in problem6_list:\n",
    "    if i % 2 == 0:\n",
    "        problem6_even.append((i)**0.5)\n",
    "        #% - Remainder of division\n",
    "\n",
    "print(problem6_even)"
   ]
  },
  {
   "cell_type": "markdown",
   "metadata": {},
   "source": [
    "(2) Проделайте тоже самое только в **list comprehension** нотации"
   ]
  },
  {
   "cell_type": "code",
   "execution_count": 20,
   "metadata": {
    "tags": []
   },
   "outputs": [
    {
     "name": "stdout",
     "output_type": "stream",
     "text": [
      "[1.4142135623730951, 2.0, 3.4641016151377544, 4.0, 2.449489742783178, 2.0]\n"
     ]
    }
   ],
   "source": [
    "problem6_even_2 = [i**0.5 for i in problem6_list if i % 2 == 0]\n",
    "print(problem6_even_2)"
   ]
  },
  {
   "cell_type": "markdown",
   "metadata": {
    "id": "nk-egtp2UOmf"
   },
   "source": [
    "### **Задание 7.**\n",
    "\n",
    "Вам даны 2 списка. Верните список, состоящий из элементов разных для каждого из этих двух списков. "
   ]
  },
  {
   "cell_type": "code",
   "execution_count": 21,
   "metadata": {
    "id": "j0Y3-MX6UPng",
    "tags": []
   },
   "outputs": [
    {
     "name": "stdout",
     "output_type": "stream",
     "text": [
      "{1, '5', 3, 4, 2, 7, '6', 11, 13, '4'}\n"
     ]
    }
   ],
   "source": [
    "problem7_list1 = [1, 3, '6', '4', 4, 3, 11, 13, 7]\n",
    "problem7_list2 = [2, 3, '5', '6', 4, 7]\n",
    "\n",
    "\"\"\"\n",
    "Assuming we don't care much about the order of the elements,\n",
    "we should convert our lists into sets and then use use \n",
    "Symmetric Difference of sets (unique elements for each sets).\n",
    "\"\"\"\n",
    "\n",
    "problem7_set1 = set(problem7_list1)\n",
    "problem7_set2 = set(problem7_list2)\n",
    "\n",
    "#union \n",
    "\n",
    "union_pr7 = problem7_set1 | problem7_set2\n",
    "print(union_pr7)"
   ]
  },
  {
   "cell_type": "markdown",
   "metadata": {},
   "source": [
    "Note: Symmetric difference\n",
    "\n",
    "A, B - sets\n",
    "\n",
    "A $\\cup$ B - union \n",
    "\n",
    "A  $\\cap$ B - intersection\n",
    "\n",
    "A $\\triangle$ B = (A $\\cup$ B )-  (A  $\\cap$ B) - symmetric difference"
   ]
  },
  {
   "cell_type": "markdown",
   "metadata": {
    "id": "yhfMvOWrUQIB"
   },
   "source": [
    "### **Задание 8.**\n",
    "\n",
    "Вам дан список из чисел. Выведите индекс числа и True/False в зависимости от того, делится ли число нацело на 3\n",
    "\n",
    "**Например:**\n",
    "\n",
    "Input: `list_a = [1, 2, 3, 4, 5, 6]`\n",
    "\n",
    "Output: \n",
    "\n",
    "0 False \\\\\n",
    "1 False \\\\\n",
    "2 True \\\\\n",
    "3 False \\\\\n",
    "4 False \\\\\n",
    "5 True \\\\"
   ]
  },
  {
   "cell_type": "code",
   "execution_count": 22,
   "metadata": {
    "id": "lmKAFPYHURNt",
    "tags": []
   },
   "outputs": [],
   "source": [
    "problem8_list = [1, 2, 3, 7, 9, 4, 6, 12, 11, 15, 16, 21]"
   ]
  },
  {
   "cell_type": "code",
   "execution_count": 23,
   "metadata": {
    "tags": []
   },
   "outputs": [
    {
     "name": "stdout",
     "output_type": "stream",
     "text": [
      "index: 0; devision by 3: False\n",
      "\n",
      "index: 1; devision by 3: False\n",
      "\n",
      "index: 2; devision by 3: True\n",
      "\n",
      "index: 3; devision by 3: False\n",
      "\n",
      "index: 4; devision by 3: True\n",
      "\n",
      "index: 5; devision by 3: False\n",
      "\n",
      "index: 6; devision by 3: True\n",
      "\n",
      "index: 7; devision by 3: True\n",
      "\n",
      "index: 8; devision by 3: False\n",
      "\n",
      "index: 9; devision by 3: True\n",
      "\n",
      "index: 10; devision by 3: False\n",
      "\n",
      "index: 11; devision by 3: True\n",
      "\n"
     ]
    }
   ],
   "source": [
    "# define a function\n",
    "def devision_3(input_list):\n",
    "    for index, value in enumerate(input_list):\n",
    "        if value % 3 == 0:\n",
    "            print(f'index: {index}; devision by 3: {True}\\n')\n",
    "        else:\n",
    "            print(f'index: {index}; devision by 3: {False}\\n')\n",
    "\n",
    "# use it\n",
    "devision_3(problem8_list)"
   ]
  },
  {
   "cell_type": "markdown",
   "metadata": {
    "id": "ad6AjQeeURnN"
   },
   "source": [
    "### **Задание 9.**\n",
    "\n",
    "Напишите функцию, которая складывает все цифры целого числа. \\\\\n",
    "(Число подается через клавиатуру посредством `input`)\n",
    "\n",
    "**Например:**\n",
    "\n",
    "Input: 123\n",
    "\n",
    "Output: 6"
   ]
  },
  {
   "cell_type": "code",
   "execution_count": 24,
   "metadata": {
    "id": "OKaHcoFGUS2z",
    "tags": []
   },
   "outputs": [
    {
     "name": "stdin",
     "output_type": "stream",
     "text": [
      " 908\n"
     ]
    },
    {
     "name": "stdout",
     "output_type": "stream",
     "text": [
      "sum of figures: 17\n"
     ]
    }
   ],
   "source": [
    "a = int(input())\n",
    "a_str = str(a) # to str - it's iterable for list()\n",
    "a_elements = list(a_str) # get the list of figures\n",
    "a_elements = [int(i) for i in a_elements] # now as int!!!\n",
    "sum = 0\n",
    "for i in a_elements: # and sum them\n",
    "    sum += i\n",
    "print(f'sum of figures: {sum}')"
   ]
  },
  {
   "cell_type": "markdown",
   "metadata": {
    "id": "JC6cC8-dUTCN"
   },
   "source": [
    "### **$*$Задание 10.**\n",
    "\n",
    "Вам дан список из списков. Требуется из него составить словарь, где ключ - первый элемент внутренних списков, а второй элемент - остальные значения внутренних списков. Если внутренний список состоит из 2 элементов, то значению ключа будет соответствовать число. Если внутренний список состоит из 3-х и более элементов, то значению ключа будет соответствовать список из этих чисел. Если внутренний список состоит только из 1-го элемента, то значению ключа будет соответсовать `None`. \n",
    "\n",
    "**Например:**\n",
    "\n",
    "Input: `list_a = [[1, 2], [5,2,3,4], [7, 4, 3], [4, 6,7, True], [9]]`\n",
    "\n",
    "Output: `{1: 2, 5: [2,3,4], 7: [4,3], 4: [6,7, True], 9: None}`\n",
    "\n",
    "Считайте, что первые элементы подсписков не повторяются. Сам список из списков дан ниже."
   ]
  },
  {
   "cell_type": "code",
   "execution_count": 25,
   "metadata": {
    "id": "q6qXGq0oUVaA",
    "tags": []
   },
   "outputs": [],
   "source": [
    "problem10_list = [[4, 'a', 7], ['2', 3, 5], [2, 8, 8], [1, 2], ['5', 4, 1], [3]]"
   ]
  },
  {
   "cell_type": "code",
   "execution_count": 26,
   "metadata": {
    "tags": []
   },
   "outputs": [],
   "source": [
    "# function\n",
    "def dict_strange(input_list):\n",
    "    dict_created = {}\n",
    "    for element in input_list:\n",
    "        for sub_index, sub_element in enumerate(element):\n",
    "            if sub_index == 0:\n",
    "                if len(element) == 1:\n",
    "                    dict_created[sub_element] = None\n",
    "                elif len(element) == 2:\n",
    "                    dict_created[sub_element] = element[sub_index + 1]\n",
    "                else:\n",
    "                    dict_created[sub_element] = element[sub_index + 1:]\n",
    "            else:\n",
    "                break\n",
    "    return(dict_created)"
   ]
  },
  {
   "cell_type": "code",
   "execution_count": 27,
   "metadata": {
    "tags": []
   },
   "outputs": [
    {
     "data": {
      "text/plain": [
       "{1: 2, 5: [2, 3, 4], 7: [4, 3], 4: [6, 7, True], 9: None}"
      ]
     },
     "execution_count": 27,
     "metadata": {},
     "output_type": "execute_result"
    }
   ],
   "source": [
    "# test\n",
    "list_a = [[1, 2], [5,2,3,4], [7, 4, 3], [4, 6,7, True], [9]]\n",
    "dict_strange(list_a)"
   ]
  },
  {
   "cell_type": "markdown",
   "metadata": {},
   "source": [
    "It works."
   ]
  },
  {
   "cell_type": "markdown",
   "metadata": {
    "id": "sf0G6XHzUXFQ"
   },
   "source": [
    "### **$*$Задание 11.**\n",
    "\n",
    "Напишите функцию, которая берет на вход список из элементов, а на выходе выдает словарь, в котором ключ - элемент списка, а значение - сколько раз этот элемент встречается в списке\n",
    "\n",
    "**Например:**\n",
    "\n",
    "Input: `list_a = [1, 1, 2, 3, 1, 3, 7, 9, 4, 3, 1]`\n",
    "Output: `{1: 4, 2: 1, 3: 3, 4: 1, 7: 1, 9: 1}` "
   ]
  },
  {
   "cell_type": "code",
   "execution_count": 28,
   "metadata": {
    "id": "k06oXA2dUYGF",
    "tags": []
   },
   "outputs": [],
   "source": [
    "\"\"\"\n",
    "counter_dict.get(i, 0) - return value by the key i, if there is none - \n",
    "return 0\n",
    "\"\"\"\n",
    "# function\n",
    "def counter_dict(input_list):\n",
    "    counter_dict = {}\n",
    "    for i in input_list:\n",
    "        counter_dict[i] = counter_dict.get(i, 0) + 1 \n",
    "        \"\"\"\n",
    "        add 1 to the value by the key i, if such a key exists; if not - create\n",
    "        one and make its value equal to 0, then add 1\n",
    "        \"\"\"\n",
    "    return(counter_dict)"
   ]
  },
  {
   "cell_type": "code",
   "execution_count": 29,
   "metadata": {
    "tags": []
   },
   "outputs": [
    {
     "name": "stdout",
     "output_type": "stream",
     "text": [
      "{1: 4, 2: 1, 3: 3, 7: 1, 9: 1, 4: 1}\n"
     ]
    }
   ],
   "source": [
    "#test\n",
    "list_a = [1, 1, 2, 3, 1, 3, 7, 9, 4, 3, 1]\n",
    "print(counter_dict(list_a)) "
   ]
  },
  {
   "cell_type": "markdown",
   "metadata": {},
   "source": [
    "It works."
   ]
  },
  {
   "cell_type": "markdown",
   "metadata": {
    "id": "9XZV3hdiUYeU"
   },
   "source": [
    "### **$*$Задание 12.**\n",
    "\n",
    "Напишите функцию, которая на вход получает название файла (строковый формат), а на выходе выдает расширение этого файла (**hint**: расширение идет после точки, однако Вам нужно исключить случаи, когда точка может не относиться к расширению)\n",
    "\n",
    "В случае если у названия файла отсутствует расширение, выведите через `print` сообщение об этом (текст сообщения на Ваше усмотрение)\n",
    "\n",
    "**Например:**\n",
    "\n",
    "Input: ```[file.name', 'file.name.py', 'file.name.', 'filename']```\n",
    "\n",
    "Output: ```['Нет расширения', 'py', 'Нет расширения', 'Нет расширения']```\n",
    "\n",
    "Подумайте над различными возможными случаями при написании Вашей функции."
   ]
  },
  {
   "cell_type": "code",
   "execution_count": 30,
   "metadata": {
    "id": "hXBmszS7UZdB"
   },
   "outputs": [],
   "source": [
    "# your code"
   ]
  },
  {
   "cell_type": "markdown",
   "metadata": {
    "id": "OBqHnBVbhwr-"
   },
   "source": [
    "### **$*$Задание 13.**\n",
    "\n",
    "Напишите функцию, которая берет на вход число и возвращает True/False в зависимости от того является ли число простым."
   ]
  },
  {
   "cell_type": "code",
   "execution_count": 31,
   "metadata": {
    "id": "BLj-3LKchwyV"
   },
   "outputs": [],
   "source": [
    "# your code"
   ]
  },
  {
   "cell_type": "markdown",
   "metadata": {
    "id": "LIwkVxqxh8z5"
   },
   "source": [
    "### **$*$Задание 14.**\n",
    "\n",
    "Напишите функцию, вычисляющую наибольший общий делитель по алгоритму Евклида."
   ]
  },
  {
   "cell_type": "code",
   "execution_count": 32,
   "metadata": {
    "id": "0D_Rg0pCh87R"
   },
   "outputs": [],
   "source": [
    "# your code"
   ]
  },
  {
   "cell_type": "markdown",
   "metadata": {
    "id": "zjG6KfA_iH5H"
   },
   "source": [
    "### **$*$Задание 15.**\n",
    "\n",
    "Напишите функцию, которая на вход принимает 2 массива и возвращает массив из списков, где 1-й элемент в таком списке - попарное произведение, а второй - сумма. Если массивы разной длины - то идете пока есть пара (как ниже в примере)\n",
    "\n",
    "**Например:**\n",
    "\n",
    "Input: \n",
    "\n",
    "`list_1 = [1, 2, 3, 4, 7]`\n",
    "\n",
    "`list_2 = [2, 3, 4, 5]`\n",
    "\n",
    "Output: `[[2, 3], [6, 5], [12, 7], [20, 9]]`"
   ]
  },
  {
   "cell_type": "code",
   "execution_count": 33,
   "metadata": {
    "id": "Tbe0GrzUiIBg",
    "tags": []
   },
   "outputs": [],
   "source": [
    "# your code"
   ]
  }
 ],
 "metadata": {
  "colab": {
   "collapsed_sections": [],
   "name": "Python_HW_1.ipynb",
   "provenance": []
  },
  "kernelspec": {
   "display_name": "Python 3 (ipykernel)",
   "language": "python",
   "name": "python3"
  },
  "language_info": {
   "codemirror_mode": {
    "name": "ipython",
    "version": 3
   },
   "file_extension": ".py",
   "mimetype": "text/x-python",
   "name": "python",
   "nbconvert_exporter": "python",
   "pygments_lexer": "ipython3",
   "version": "3.11.4"
  }
 },
 "nbformat": 4,
 "nbformat_minor": 4
}
