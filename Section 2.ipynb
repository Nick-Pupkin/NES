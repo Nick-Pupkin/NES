{
 "cells": [
  {
   "cell_type": "markdown",
   "metadata": {
    "id": "V5ErA6UK4Ss1"
   },
   "source": [
    "# **<center> Introduction to Python for Practical Problems </center>**\n",
    "# **<center> New Economic School, MAE 2025 </center>**\n",
    "## **<center> Section 2 </center>**\n",
    "\n",
    "План:\n",
    "\n",
    "* Написание функций\n",
    "* Обработка исключений\n",
    "* Лямбда-выражения\n",
    "* Декораторы\n",
    "* Написание классов"
   ]
  },
  {
   "cell_type": "markdown",
   "metadata": {},
   "source": [
    "# 1. Функции"
   ]
  },
  {
   "cell_type": "markdown",
   "metadata": {},
   "source": [
    "## 1.1. Общие правила написания функций"
   ]
  },
  {
   "cell_type": "markdown",
   "metadata": {},
   "source": [
    "Очень важной частью работы с Python является написание функций. Функция берет на вход некий набор аргументов и возвращает определенное значение. Функция определяется оператором ```def```, дальше прописывается название функций и в скобках указываются ее аргументы.\n",
    "\n",
    "При значительном объеме кода у функции правилом хорошего тона является написание комментариев, хотя бы документационной строк. В документационной строке обычно пишут что делает функция, описывают ее аргументы (включая их типы), а также что функция возвращает (включая тип возвращаемого).\n",
    "\n",
    "Если хочется оставить какой-то из аргументов равным какому-то значению по умолчанию, это можно сделать через знак \"равно\". Однако вы должны помещать аргумнеты, для которых указываете значения по умолчанию, после тех элементов, для которых этого не делаете."
   ]
  },
  {
   "cell_type": "code",
   "execution_count": 1,
   "metadata": {},
   "outputs": [],
   "source": [
    "def myfunc_1(a, b, c=True):\n",
    "    \n",
    "    \"\"\"\n",
    "    Docstring for the function where you can provide people with the explanation of what your function does and what are its arguments\n",
    "    \n",
    "    Parameters\n",
    "    ---------\n",
    "    a : float\n",
    "        The first number of summation\n",
    "    b : float\n",
    "        The second number of summation\n",
    "    c : bool, optional\n",
    "        The value that stands for a sign of summation. True stands for a positive sign. The default value is True\n",
    "    \"\"\"\n",
    "    \n",
    "    sum_ab = a + b\n",
    "\n",
    "    if c:\n",
    "        return sum_ab\n",
    "    else:\n",
    "        return -1 * sum_ab"
   ]
  },
  {
   "cell_type": "markdown",
   "metadata": {},
   "source": [
    "Как вызывать функцию:"
   ]
  },
  {
   "cell_type": "code",
   "execution_count": 2,
   "metadata": {},
   "outputs": [
    {
     "data": {
      "text/plain": [
       "(5, 5, -5)"
      ]
     },
     "execution_count": 2,
     "metadata": {},
     "output_type": "execute_result"
    }
   ],
   "source": [
    "myfunc_1(a=3, b=2), myfunc_1(a=3, b=2, c=True), myfunc_1(a=3, b=2, c=False)"
   ]
  },
  {
   "cell_type": "code",
   "execution_count": 3,
   "metadata": {},
   "outputs": [
    {
     "data": {
      "text/plain": [
       "-5"
      ]
     },
     "execution_count": 3,
     "metadata": {},
     "output_type": "execute_result"
    }
   ],
   "source": [
    "mydict = {'a': 3, 'b': 2, 'c': False}\n",
    "\n",
    "myfunc_1(**mydict)"
   ]
  },
  {
   "cell_type": "markdown",
   "metadata": {},
   "source": [
    "Писать ```DocString'и``` совершенно необязательно. Однако для человека, который ранее не был знаком с данной функцией, это способствует быстрому пониманию того, что происходит внутри функции и того, какие именно аргументы нужно подавать вовнутрь для корректной работы функции."
   ]
  },
  {
   "cell_type": "markdown",
   "metadata": {},
   "source": [
    "Для того, чтобы посмотреть на описание функции, нужно сделать следующее:\n",
    "\n",
    "1. Прописать функцию в ячейке. В нашем случае: ```myfunc_1()```\n",
    "2. Встать вовнутрь скобочек, внутри которых прописываются аргументы\n",
    "3. Нажать сочетание клавиш ```Shift``` ```+``` ```Tab```\n",
    "\n",
    "В открывшемся окошке можно узнать все то, про что разработчик функции написал в ```DocString```."
   ]
  },
  {
   "cell_type": "markdown",
   "metadata": {
    "id": "IaUqnX1D6qTF"
   },
   "source": [
    "## 1.2. \"Звездочки\", позиционные и именованные аргументы"
   ]
  },
  {
   "cell_type": "markdown",
   "metadata": {
    "id": "AHgcTQcYygt3"
   },
   "source": [
    "Операторы, помеченные `*` (asterisks), позволяют Вам (как одна из возможностей) **распаковывать** элементы \"одним скопом\". В примере ниже, Вы присваиваете переменным **a**, **b**, и **c** значения из списка. \n",
    "\n",
    "Допустим, Вы бы хотели присваивать **a** первое значение из списка, **c** - последнее, а **b** - все промежуточные. Сделать это можно через добавление оператора `*` слева к переменной. \n",
    "\n",
    "Также через `print(..)` вы можете вывести все элементы списка (не прописывая их через запятую с помощью индексации по списку) путем добавления `*` слева от переменной."
   ]
  },
  {
   "cell_type": "code",
   "execution_count": 4,
   "metadata": {
    "colab": {
     "base_uri": "https://localhost:8080/"
    },
    "id": "apq65BOC4NA_",
    "outputId": "9d6933f7-84b7-4275-e2a2-a0c66c27146a"
   },
   "outputs": [
    {
     "name": "stdout",
     "output_type": "stream",
     "text": [
      "a is 1, b is 2, and c is 3\n",
      "a is 1, b is [2, 3, 4, 5], and c is 6\n",
      "\n",
      "[1, 2, 3, 4]\n",
      "1 2 3 4\n",
      "\n",
      "1st element is 1, 2nd element is 2, 3rd element is 3, 4th element is 4\n"
     ]
    }
   ],
   "source": [
    "a, b, c = [1, 2, 3]\n",
    "\n",
    "print(f'a is {a}, b is {b}, and c is {c}')\n",
    "\n",
    "a, *b, c = [1, 2, 3, 4, 5, 6]\n",
    "\n",
    "print(f'a is {a}, b is {b}, and c is {c}')\n",
    "\n",
    "print()\n",
    "\n",
    "list_1 = [1, 2, 3, 4]\n",
    "\n",
    "print(list_1)\n",
    "print(*list_1)\n",
    "\n",
    "print()\n",
    "\n",
    "print('1st element is {}, 2nd element is {}, 3rd element is {}, 4th element is {}'.format(*list_1))"
   ]
  },
  {
   "cell_type": "markdown",
   "metadata": {
    "id": "WSHZ-tdmzqpp"
   },
   "source": [
    "Также можно схлопнуть два листа в один с помощью данного оператора"
   ]
  },
  {
   "cell_type": "code",
   "execution_count": 5,
   "metadata": {
    "colab": {
     "base_uri": "https://localhost:8080/"
    },
    "id": "ubrcDftK8w1I",
    "outputId": "af7ce55b-c19e-4e25-a3b6-a96133b79da4"
   },
   "outputs": [
    {
     "name": "stdout",
     "output_type": "stream",
     "text": [
      "[1, 2, 3, 4, 5, 'a', 'b', 'c', 'd']\n"
     ]
    }
   ],
   "source": [
    "list_1 = [1, 2, 3, 4, 5]\n",
    "list_2 = ['a', 'b', 'c', 'd']\n",
    "\n",
    "list_3 = [*list_1, *list_2]\n",
    "\n",
    "print(list_3)"
   ]
  },
  {
   "cell_type": "markdown",
   "metadata": {
    "id": "riD7uFhC2VJO"
   },
   "source": [
    "Распаковать элементы словаря тоже можно. Для этого необходимо воспользоваться выражением `**`."
   ]
  },
  {
   "cell_type": "code",
   "execution_count": 6,
   "metadata": {
    "colab": {
     "base_uri": "https://localhost:8080/"
    },
    "id": "tfYzocNj85Xc",
    "outputId": "1ef86fe6-2026-4de6-bc30-1276ec23c8bc"
   },
   "outputs": [
    {
     "name": "stdout",
     "output_type": "stream",
     "text": [
      "{'a': 1, 'b': 2, 'c': 3, 'd': 11, 'e': 22, 'f': 33}\n"
     ]
    }
   ],
   "source": [
    "dict_1 = {'a': 1, 'b': 2, 'c': 3}\n",
    "dict_2 = {'d': 11, 'e': 22, 'f': 33}\n",
    "\n",
    "dict_3 = {**dict_1, **dict_2}\n",
    "\n",
    "print(dict_3)"
   ]
  },
  {
   "cell_type": "markdown",
   "metadata": {
    "id": "ZtPal92w9kmd"
   },
   "source": [
    "## 1.3. Неопределенное число аргументов в функции"
   ]
  },
  {
   "cell_type": "markdown",
   "metadata": {
    "id": "iSlEmQLy2sfW"
   },
   "source": [
    "Часто случается, что часть аргументов у функции (и их количество) определена заранее, а часть аргументов может добавляться (притом, в неизвестном количестве). \n",
    "\n",
    "Для этого Вы можете воспользоваться операторами `*` (для позиционный аргументов) и `**` (для именованных аргументов).\n",
    "\n",
    "* Позиционные аргументы - аргументы, передаваемые в вызов в определённой последовательности (а также на определенных позициях), без указания их имён. \n",
    "* Именованные аргументы - аргументы, передаваемые в вызов с указанием их имён.\n",
    "* Опциональный элемент (значение которого проставлено по дефолту) также является именованным."
   ]
  },
  {
   "cell_type": "markdown",
   "metadata": {
    "id": "IcP_PJQS5UyC"
   },
   "source": [
    "Также стоит помнить, что в функцию сперва подаются позиционные аргументы, а потом уже именованные. Иначе возникнет ошибка, как в примере ниже:"
   ]
  },
  {
   "cell_type": "code",
   "execution_count": 7,
   "metadata": {
    "id": "ydKAl1Gh5fP6"
   },
   "outputs": [],
   "source": [
    "def myfunc_2(person, age=27):\n",
    "    pass\n",
    "\n",
    "# Здесь person - позиционный элемент, а age - именованый (у него есть дефолтное значение, которому age будет равен,\n",
    "# если иного не будет задано)"
   ]
  },
  {
   "cell_type": "code",
   "execution_count": 8,
   "metadata": {
    "colab": {
     "base_uri": "https://localhost:8080/",
     "height": 130
    },
    "id": "eV7JdeSWbG4N",
    "outputId": "6bce31ea-a8d7-45e4-e48b-bfd3a055b1ff"
   },
   "outputs": [],
   "source": [
    "# def myfunc_2(age=27, person):\n",
    "#     pass"
   ]
  },
  {
   "cell_type": "markdown",
   "metadata": {},
   "source": [
    "### 1.3.1. Позиционные аргументы"
   ]
  },
  {
   "cell_type": "markdown",
   "metadata": {
    "id": "GR8UafXf5ixu"
   },
   "source": [
    "Неопределенное число позиционных аргументов можно передать в функцию через добавление `*` слева от общего названия этих элементов. \n",
    "\n",
    "Обычно, их именуют через `*args` в аргументах функции (без `*` в теле функции). При этом название вы можете придумать сами.\n",
    "\n",
    "Создадим функцию, которая выводит транзакции для человека (транзакции подаются как аргументы, число которых не определено - через `*transactions`)"
   ]
  },
  {
   "cell_type": "code",
   "execution_count": 9,
   "metadata": {
    "id": "BHTyAZJC9H-c"
   },
   "outputs": [],
   "source": [
    "def print_transcactions(person, *transactions):\n",
    "    \n",
    "    print(f'{person} did the following transactions: \\n')\n",
    "\n",
    "    for i in transactions:\n",
    "\n",
    "        print(i)"
   ]
  },
  {
   "cell_type": "code",
   "execution_count": 10,
   "metadata": {
    "colab": {
     "base_uri": "https://localhost:8080/"
    },
    "id": "tDOF6vps-Xts",
    "outputId": "c7d20280-09ba-48cf-c8a1-f3e09b998ed2"
   },
   "outputs": [
    {
     "name": "stdout",
     "output_type": "stream",
     "text": [
      "Dereck did the following transactions: \n",
      "\n",
      "-100\n",
      "50\n",
      "100\n"
     ]
    }
   ],
   "source": [
    "print_transcactions('Dereck', -100, 50, 100)"
   ]
  },
  {
   "cell_type": "markdown",
   "metadata": {
    "id": "Xi9-ZB_x7D9k"
   },
   "source": [
    "Число аргументов может быть и больше (и меньше)"
   ]
  },
  {
   "cell_type": "markdown",
   "metadata": {
    "id": "RlF2QSsx-bPC"
   },
   "source": [
    "### 1.3.2. Именованные аргументы"
   ]
  },
  {
   "cell_type": "markdown",
   "metadata": {
    "id": "UjsgRNyP7KWG"
   },
   "source": [
    "Также вы можете передавать неопределенное число именованных аргументов в функцию. В данном случае, функция будет \"воспринимать\" это как передачу ей словаря (ключ - имя аргумента, а значение - значение, соответствующее имени)\n",
    "\n",
    "Обычно, именуют через `**kwargs`, но Выбор имени целиком за Вами."
   ]
  },
  {
   "cell_type": "markdown",
   "metadata": {
    "id": "O6qjxTaJ7hUu"
   },
   "source": [
    "В примере ниже создаем функцию, которая возвращает какую-то информацию о человеке. При этом число аргументов, которые характеризуют эту информацию, неопределено. Итерирование идёт через словарь и его элементы (где элемент - пара из ключа и значения)."
   ]
  },
  {
   "cell_type": "code",
   "execution_count": 11,
   "metadata": {
    "id": "YORyg0aj-aaA"
   },
   "outputs": [],
   "source": [
    "def print_person_info(person, **kwargs):\n",
    "\n",
    "    print(f'The info for {person} is the following: \\n')\n",
    "\n",
    "    for i, j in kwargs.items():\n",
    "        \n",
    "        print(f'{i} is {j}')"
   ]
  },
  {
   "cell_type": "code",
   "execution_count": 12,
   "metadata": {
    "colab": {
     "base_uri": "https://localhost:8080/"
    },
    "id": "xGK_Xf7E--4K",
    "outputId": "9b9a45e0-dcf3-4242-d61a-2a8ef024c9fa"
   },
   "outputs": [
    {
     "name": "stdout",
     "output_type": "stream",
     "text": [
      "The info for Adam Smith is the following: \n",
      "\n",
      "age is 25\n",
      "city is Boston\n"
     ]
    }
   ],
   "source": [
    "print_person_info('Adam Smith', \n",
    "                  age=25, \n",
    "                  city='Boston')"
   ]
  },
  {
   "cell_type": "markdown",
   "metadata": {
    "id": "pMwvKrPd713A"
   },
   "source": [
    "А можно указать и больше именованных аргументов"
   ]
  },
  {
   "cell_type": "code",
   "execution_count": 13,
   "metadata": {
    "colab": {
     "base_uri": "https://localhost:8080/"
    },
    "id": "3OQKCeQq_XsP",
    "outputId": "525b9055-853b-4168-9296-6bfb3c5568c5"
   },
   "outputs": [
    {
     "name": "stdout",
     "output_type": "stream",
     "text": [
      "The info for Jane Black is the following: \n",
      "\n",
      "age is 23\n",
      "city is New-York\n",
      "highest_degree is Masters\n",
      "university is University of New-York\n",
      "maritual_status is Single\n"
     ]
    }
   ],
   "source": [
    "print_person_info('Jane Black', \n",
    "                  age=23, \n",
    "                  city='New-York', \n",
    "                  highest_degree='Masters', \n",
    "                  university='University of New-York', \n",
    "                  maritual_status='Single')"
   ]
  },
  {
   "cell_type": "markdown",
   "metadata": {
    "id": "VhStNoE076Ui"
   },
   "source": [
    "Также можно миксовать позиционные и именованные аргументы. Однако не забывайте, что именованные аргументы идут за позиционными."
   ]
  },
  {
   "cell_type": "markdown",
   "metadata": {
    "id": "g3pCMzyE8Bmz"
   },
   "source": [
    "Ниже функция выводит траты человека. Если аргумент `show_new = True`, то к тратам прибавляются новые транзакции (которые подаются в неопределенном количестве через `*new_transactions`"
   ]
  },
  {
   "cell_type": "code",
   "execution_count": 14,
   "metadata": {
    "id": "uMEJ7n9m_t9j"
   },
   "outputs": [],
   "source": [
    "def print_person_expences(person, expences, *new_transactions, show_new=True):\n",
    "\n",
    "    result = expences\n",
    "\n",
    "    if show_new:\n",
    "        \n",
    "        for t in new_transactions:\n",
    "            \n",
    "            result += t\n",
    "            \n",
    "        print(f'{result} spent by {person}')\n",
    "            \n",
    "    else:\n",
    "        print(f'{result} spent by {person}')\n",
    "        \n",
    "#     return result"
   ]
  },
  {
   "cell_type": "markdown",
   "metadata": {
    "id": "k85UyF7J8Ool"
   },
   "source": [
    "Если были новые транзакции"
   ]
  },
  {
   "cell_type": "code",
   "execution_count": 15,
   "metadata": {
    "colab": {
     "base_uri": "https://localhost:8080/"
    },
    "id": "pQ--6yNoBjwu",
    "outputId": "a3280959-0a8e-4402-d4b5-d977bc050ede"
   },
   "outputs": [
    {
     "name": "stdout",
     "output_type": "stream",
     "text": [
      "445 spent by John Black\n"
     ]
    }
   ],
   "source": [
    "sum_transac = print_person_expences('John Black', \n",
    "                                    345, \n",
    "                                    10, 40, 20, 30)"
   ]
  },
  {
   "cell_type": "markdown",
   "metadata": {
    "id": "M6awhvON8RMW"
   },
   "source": [
    "Если были новые транзакции, **но прибавлять мы их не хотим**"
   ]
  },
  {
   "cell_type": "code",
   "execution_count": 16,
   "metadata": {
    "colab": {
     "base_uri": "https://localhost:8080/"
    },
    "id": "cvbZndKPBpr2",
    "outputId": "c1ab06ee-72e4-42c7-bb96-2239edecc4ea"
   },
   "outputs": [
    {
     "name": "stdout",
     "output_type": "stream",
     "text": [
      "345 spent by John Black\n"
     ]
    }
   ],
   "source": [
    "sum_transac = print_person_expences('John Black', \n",
    "                                    345, \n",
    "                                    10, 40, 20, 30, \n",
    "                                    show_new=False)"
   ]
  },
  {
   "cell_type": "markdown",
   "metadata": {
    "id": "rOE7Bz3T8WiO"
   },
   "source": [
    "### 1.3.3. Совместим все, про что поговорили"
   ]
  },
  {
   "cell_type": "code",
   "execution_count": 17,
   "metadata": {
    "id": "RHvEsMHCBy-i"
   },
   "outputs": [],
   "source": [
    "def print_person_expences(person, expences, *new_transactions, show_new=True, **additional_info):\n",
    "\n",
    "    result = expences\n",
    "\n",
    "    if show_new:\n",
    "        \n",
    "        for t in new_transactions:\n",
    "            \n",
    "            result += t\n",
    "\n",
    "    print(f'{result} spent by {person}')\n",
    "\n",
    "    for i, j in additional_info.items():\n",
    "        \n",
    "        print(f'{i} is {j}')\n",
    "\n",
    "#     return result"
   ]
  },
  {
   "cell_type": "code",
   "execution_count": 18,
   "metadata": {
    "colab": {
     "base_uri": "https://localhost:8080/"
    },
    "id": "ZKIctNmCCfmK",
    "outputId": "d59280e0-41c1-4574-801d-9342e01c9938"
   },
   "outputs": [
    {
     "name": "stdout",
     "output_type": "stream",
     "text": [
      "420 spent by John Black\n",
      "n_transactions is 10\n",
      "share_payed_with_card is 0.7\n"
     ]
    }
   ],
   "source": [
    "print_person_expences('John Black', \n",
    "                      345, \n",
    "                      10, 15, 40, 10, \n",
    "                      show_new=True, \n",
    "                      n_transactions=10, \n",
    "                      share_payed_with_card=0.7)"
   ]
  },
  {
   "cell_type": "markdown",
   "metadata": {
    "id": "VR2aCsveC4Xt"
   },
   "source": [
    "# 2. Обработка исключений"
   ]
  },
  {
   "cell_type": "markdown",
   "metadata": {
    "id": "Nknez_AU8ZQy"
   },
   "source": [
    "Обработка исключений позволяет Вам выполнить Ваш код без прерывания по той или иной ошибке. Такой блок может быть важен, когда Вам хочется так или иначе (несмотря на возможные ошибки) получить результат работы функции.\n",
    "\n",
    "Допустим, Вы собираете информацию по большому количеству сайтов. На 52-м сайте Ваш код падает из-за того, что происходит какая-то ошибка (допустим, сайт распознает Вас как бота). Возможно, Ваш код работает несколько дней (в которые Вы хотели поехать на дачу). Вы уехали, Ваш код упал через полдня, обнаружили Вы это по приезде. \n",
    "\n",
    "Хотелось бы давать указание в коде, что делать (какой код исполнять) при возникновении ошибки. А также что делать, если все ОК.\n",
    "\n",
    "Такие вещи можно делать через операторы `try` и `except`."
   ]
  },
  {
   "cell_type": "markdown",
   "metadata": {
    "id": "9HmPt60P9NU_"
   },
   "source": [
    "## 2.1. Использование `try` и `except`\n",
    "\n",
    "В блок кода под `try:` мы подаем тот код, который мы бы хотели исполнить при отсутствии ошибок.\n",
    "\n",
    "В блок кода под `except ErrorTypeName:` мы подаем тот код, который мы бы хотели исполнить при наличии ошибки **\"ErrorTypeName\"** (виды ошибок могут быть разными - деление на ноль, неверный тип данных, нехватка памяти, синтаксическая ошибка и т.д.)\n",
    "\n",
    "Общий список ошибок можно глянуть, например, [здесь](https://docs.python.org/3/library/exceptions.html)"
   ]
  },
  {
   "cell_type": "markdown",
   "metadata": {
    "id": "po7lj6yM9-50"
   },
   "source": [
    "В функции ниже мы считаем результат попарного деления двух списков (первый список из числетелей, второй - из знаменателей)\n",
    "\n",
    "Если знаменатель равен нулю, то эта ошибка будет обработана как исключение, для нее выполнится следующая пара комманд:\n",
    "\n",
    "```\n",
    "results.append('division by zero')\n",
    "print('Cannot divide by zero')\n",
    "```\n",
    "\n",
    "Если одно из чисел не числовое, то исключение ошибки приведет к исполнению следующего кода:\n",
    "\n",
    "```\n",
    "print('Please enter a number')\n",
    "results.append('not a number')\n",
    "```"
   ]
  },
  {
   "cell_type": "code",
   "execution_count": 19,
   "metadata": {
    "id": "eY6-rzrnC4hq"
   },
   "outputs": [],
   "source": [
    "def pairwise_division(numerators, denominators):\n",
    "\n",
    "    results = []\n",
    "\n",
    "    for i, j in zip(numerators, denominators):\n",
    "\n",
    "        try:\n",
    "            r = round(i/j, 2)\n",
    "            results.append(r)\n",
    "        except ZeroDivisionError:\n",
    "            results.append('division by zero')\n",
    "            print(\"Cannot divide by zero\")\n",
    "        except TypeError:\n",
    "            print(\"Please enter a number\")\n",
    "            results.append('Not a number')\n",
    "\n",
    "    return results"
   ]
  },
  {
   "cell_type": "code",
   "execution_count": 20,
   "metadata": {
    "colab": {
     "base_uri": "https://localhost:8080/"
    },
    "id": "5dPL9G9qEV65",
    "outputId": "f48a9f13-9b48-4a6c-e75d-b76b3e11ce53"
   },
   "outputs": [
    {
     "name": "stdout",
     "output_type": "stream",
     "text": [
      "0.5\n",
      "0.67\n",
      "0.75\n"
     ]
    }
   ],
   "source": [
    "list_1 = [1, 2, 3]\n",
    "list_2 = [2, 3, 4]\n",
    "\n",
    "result = pairwise_division(list_1, list_2)\n",
    "\n",
    "print(*result, sep='\\n')"
   ]
  },
  {
   "cell_type": "markdown",
   "metadata": {
    "id": "HwrAK_nl-iIJ"
   },
   "source": [
    "А теперь посмотрим, что будет если знаменатель равен 0."
   ]
  },
  {
   "cell_type": "code",
   "execution_count": 21,
   "metadata": {
    "colab": {
     "base_uri": "https://localhost:8080/"
    },
    "id": "UeT619CAEm6X",
    "outputId": "fcb119f4-f3c5-4ca3-c5f9-130c56afbca5"
   },
   "outputs": [
    {
     "name": "stdout",
     "output_type": "stream",
     "text": [
      "Cannot divide by zero\n",
      "0.5\n",
      "0.67\n",
      "division by zero\n"
     ]
    }
   ],
   "source": [
    "list_1 = [1, 2, 3]\n",
    "list_2 = [2, 3, 0]\n",
    "\n",
    "result = pairwise_division(list_1, list_2)\n",
    "\n",
    "print(*result, sep='\\n')"
   ]
  },
  {
   "cell_type": "markdown",
   "metadata": {
    "id": "xHw7tHZS-myH"
   },
   "source": [
    "Если тип одного из чисел не принадлежит валидному типу данных."
   ]
  },
  {
   "cell_type": "code",
   "execution_count": 22,
   "metadata": {
    "colab": {
     "base_uri": "https://localhost:8080/"
    },
    "id": "yC-agMaJFJdm",
    "outputId": "36c51772-f442-4e56-aeab-b7c4a24eb0dd"
   },
   "outputs": [
    {
     "name": "stdout",
     "output_type": "stream",
     "text": [
      "Please enter a number\n",
      "0.5\n",
      "0.67\n",
      "Not a number\n"
     ]
    }
   ],
   "source": [
    "list_1 = [1, 2, 3]\n",
    "list_2 = [2, 3, 'd']\n",
    "\n",
    "result = pairwise_division(list_1, list_2)\n",
    "\n",
    "print(*result, sep='\\n')"
   ]
  },
  {
   "cell_type": "code",
   "execution_count": 23,
   "metadata": {
    "colab": {
     "base_uri": "https://localhost:8080/"
    },
    "id": "ANGFhA5pgfpv",
    "outputId": "5a4ad6d9-2496-46dd-9cee-5e67ebc0fbae"
   },
   "outputs": [
    {
     "data": {
      "text/plain": [
       "[0.5, 0.67, 'Not a number']"
      ]
     },
     "execution_count": 23,
     "metadata": {},
     "output_type": "execute_result"
    }
   ],
   "source": [
    "result"
   ]
  },
  {
   "cell_type": "markdown",
   "metadata": {
    "id": "A7zB0QEc-vn6"
   },
   "source": [
    "Мы заранее можем не знать, какая ошибка нас ждет (мы можем забыть все дефолтные ошибки, или же такая ошибка может не существовать). Для этого в качестве имени ошибки можно после `except` подать более общий вариант \"**Exception**\".\n",
    "\n",
    "Стоит отметить, что более частные ошибки обрабатываются в первую очередь. "
   ]
  },
  {
   "cell_type": "code",
   "execution_count": 24,
   "metadata": {
    "id": "Fe6e85ePFe17"
   },
   "outputs": [],
   "source": [
    "def pairwise_division(numerators, denominators):\n",
    "\n",
    "    results = []\n",
    "\n",
    "    for i, j in zip(numerators, denominators):\n",
    "\n",
    "        try:\n",
    "            r = round(i/j, 2)\n",
    "            results.append(r)\n",
    "        except ZeroDivisionError:\n",
    "            results.append('Division by zero')\n",
    "            print(\"Cannot divide by zero\")\n",
    "        except Exception:\n",
    "            results.append('Some other error')\n",
    "            print(\"Other error occured\")\n",
    "\n",
    "    return results"
   ]
  },
  {
   "cell_type": "code",
   "execution_count": 25,
   "metadata": {
    "colab": {
     "base_uri": "https://localhost:8080/"
    },
    "id": "M15a8FgtFe9M",
    "outputId": "b527b3d5-49ee-4d0b-dd8a-6be686943adb"
   },
   "outputs": [
    {
     "name": "stdout",
     "output_type": "stream",
     "text": [
      "Other error occured\n",
      "0.5\n",
      "0.67\n",
      "Some other error\n"
     ]
    }
   ],
   "source": [
    "list_1 = [1, 2, 3]\n",
    "list_2 = [2, 3, [6]]\n",
    "\n",
    "result = pairwise_division(list_1, list_2)\n",
    "\n",
    "print(*result, sep='\\n')"
   ]
  },
  {
   "cell_type": "markdown",
   "metadata": {},
   "source": [
    "## 2.2. Использование `raise`"
   ]
  },
  {
   "cell_type": "markdown",
   "metadata": {
    "id": "iTTFPwW-_MHT"
   },
   "source": [
    "Также можно \"поднимать\" ошибку при выполнении (не выполнении) заданного Вами условия через конструкцию `raise ErrorName('some optional text')`\n",
    "\n"
   ]
  },
  {
   "cell_type": "code",
   "execution_count": 26,
   "metadata": {
    "id": "Y5yv5wm9_dZz"
   },
   "outputs": [],
   "source": [
    "def pairwise_division(numerators, denominators):\n",
    "\n",
    "    results = []\n",
    "\n",
    "    for i, j in zip(numerators, denominators):\n",
    "\n",
    "        try:\n",
    "            if i == 3:\n",
    "                raise ValueError('3 in numerator is not allowed')\n",
    "            else:\n",
    "                r = round(i/j, 2)\n",
    "                results.append(r)\n",
    "        except ZeroDivisionError:\n",
    "            results.append('Division by zero')\n",
    "            print(\"Cannot divide by zero\")\n",
    "        # Из-за того, что мы можем обрабатывать такую ошибку, про которую написали в raise, наш код не падает\n",
    "        except Exception:\n",
    "            results.append('Some other error')\n",
    "            print(\"Other error occured\")\n",
    "\n",
    "    return results"
   ]
  },
  {
   "cell_type": "code",
   "execution_count": 27,
   "metadata": {
    "colab": {
     "base_uri": "https://localhost:8080/"
    },
    "id": "FsCLCB61_eqA",
    "outputId": "e04cad11-9cee-4090-bd48-efddce21c493"
   },
   "outputs": [
    {
     "name": "stdout",
     "output_type": "stream",
     "text": [
      "Other error occured\n",
      "Other error occured\n",
      "\n",
      "0.5\n",
      "0.67\n",
      "Some other error\n",
      "Some other error\n"
     ]
    }
   ],
   "source": [
    "list_1 = [1, 2, 3, 3]\n",
    "list_2 = [2, 3, 'd', 4]\n",
    "\n",
    "result = pairwise_division(list_1, list_2)\n",
    "\n",
    "print()\n",
    "\n",
    "print(*result, sep='\\n')"
   ]
  },
  {
   "cell_type": "markdown",
   "metadata": {
    "id": "opOGXj2q_i2U"
   },
   "source": [
    "Поправим немного функцию и будем обрабатывать только 2 заранее определенных вида ошибок. Можно увидеть, что ошибка для 4-й пары элементов обработана не будет, т.к. относится к другому классу/типу ошибок - **ValueError**, такие ошибки мы не обрабатываем в нашей функции.\n",
    "\n",
    "Ошибка в коде также выведет текст, который мы ей задали (его задавать не обязательно)"
   ]
  },
  {
   "cell_type": "code",
   "execution_count": 28,
   "metadata": {
    "id": "jc4PXVEmG9sB"
   },
   "outputs": [],
   "source": [
    "def pairwise_division(numerators, denominators):\n",
    "\n",
    "    results = []\n",
    "\n",
    "    for i, j in zip(numerators, denominators):\n",
    "\n",
    "        try:\n",
    "            if i == 3:\n",
    "                raise ValueError('3 in numerator is not allowed')\n",
    "            else:\n",
    "                r = round(i/j, 2)\n",
    "                results.append(r)\n",
    "        except ZeroDivisionError:\n",
    "            results.append('division by zero')\n",
    "            print(\"Cannot divide by zero\")\n",
    "        # TypeError - это определенная ошибка, которая не распознает ValueError, поэтому код падает\n",
    "        except TypeError:\n",
    "            results.append('some other error')\n",
    "            print(\"Other error occured\")\n",
    "\n",
    "    return results"
   ]
  },
  {
   "cell_type": "code",
   "execution_count": 29,
   "metadata": {
    "colab": {
     "base_uri": "https://localhost:8080/",
     "height": 334
    },
    "id": "wc05bLF2G91F",
    "outputId": "684a5ea0-169b-4176-e091-ffcf65e470b4"
   },
   "outputs": [],
   "source": [
    "list_1 = [1, 2, 3, 3]\n",
    "list_2 = [2, 3, 'd', 4]\n",
    "\n",
    "# result = pairwise_division(list_1, list_2)\n",
    "# print(result)"
   ]
  },
  {
   "cell_type": "markdown",
   "metadata": {
    "id": "YjhJKrcpGLWx"
   },
   "source": [
    "# 3. Лямбда-выражения (Лямбда-функции)"
   ]
  },
  {
   "cell_type": "markdown",
   "metadata": {},
   "source": [
    "## 3.1. Общие правила написания лямбда-функций"
   ]
  },
  {
   "cell_type": "markdown",
   "metadata": {
    "id": "_iWRSc-RAAQF"
   },
   "source": [
    "Лямбда выражения являются укороченными и анонимными функциями. \n",
    "\n",
    "Их использовани в ряде случаев более удобно, а также компактно. Использовать их можно внутри функций (как и обычные функции), передавать как аргументы (как и обычные функции), принимать у них на вход такие же функции (как и для обычных функций)\n",
    "\n",
    "Конструкция лямбда-выражения следующая: \"**keyword** arguments: *expression*\", где **keyword = lambda**. Пример простенькой функции возведения в квадрат ниже."
   ]
  },
  {
   "cell_type": "code",
   "execution_count": 30,
   "metadata": {
    "colab": {
     "base_uri": "https://localhost:8080/"
    },
    "id": "LfKfz4bvHm5e",
    "outputId": "ad4e7518-b44b-4dbe-f1de-102fccd20ec4"
   },
   "outputs": [
    {
     "data": {
      "text/plain": [
       "4"
      ]
     },
     "execution_count": 30,
     "metadata": {},
     "output_type": "execute_result"
    }
   ],
   "source": [
    "def take_square(x):\n",
    "\n",
    "    return x ** 2\n",
    "\n",
    "take_square(2)"
   ]
  },
  {
   "cell_type": "code",
   "execution_count": 31,
   "metadata": {
    "colab": {
     "base_uri": "https://localhost:8080/"
    },
    "id": "pQdvHigBGLjY",
    "outputId": "94aba861-a48c-40a4-8c3a-0b41e5544569"
   },
   "outputs": [
    {
     "data": {
      "text/plain": [
       "4"
      ]
     },
     "execution_count": 31,
     "metadata": {},
     "output_type": "execute_result"
    }
   ],
   "source": [
    "take_square = lambda x: x**2\n",
    "\n",
    "take_square(2)"
   ]
  },
  {
   "cell_type": "markdown",
   "metadata": {
    "id": "SAxAKMVeAlHJ"
   },
   "source": [
    "Можно даже не определять, а сразу взять"
   ]
  },
  {
   "cell_type": "code",
   "execution_count": 32,
   "metadata": {
    "colab": {
     "base_uri": "https://localhost:8080/"
    },
    "id": "cMWpRzAdHjqA",
    "outputId": "4dd2be14-db73-4d5b-d25c-cc44dc79b69c"
   },
   "outputs": [
    {
     "data": {
      "text/plain": [
       "4"
      ]
     },
     "execution_count": 32,
     "metadata": {},
     "output_type": "execute_result"
    }
   ],
   "source": [
    "(lambda x: x**2)(2)"
   ]
  },
  {
   "cell_type": "markdown",
   "metadata": {
    "id": "SocpjD32ApHT"
   },
   "source": [
    "Можно и несколько параметров передавать"
   ]
  },
  {
   "cell_type": "code",
   "execution_count": 33,
   "metadata": {
    "colab": {
     "base_uri": "https://localhost:8080/"
    },
    "id": "dyawvoe4IZ3o",
    "outputId": "4e863813-3568-4e8c-9253-bf3dda1fdffd"
   },
   "outputs": [
    {
     "data": {
      "text/plain": [
       "8"
      ]
     },
     "execution_count": 33,
     "metadata": {},
     "output_type": "execute_result"
    }
   ],
   "source": [
    "take_power = lambda x, y: x**y\n",
    "\n",
    "take_power(2, 3)"
   ]
  },
  {
   "cell_type": "markdown",
   "metadata": {
    "id": "-sUYxpCwIas4"
   },
   "source": [
    "## 3.2. Лямбда-функции с условиями"
   ]
  },
  {
   "cell_type": "markdown",
   "metadata": {
    "id": "wTKw1MEVArMa"
   },
   "source": [
    "Так можно добавлять условия"
   ]
  },
  {
   "cell_type": "code",
   "execution_count": 34,
   "metadata": {
    "colab": {
     "base_uri": "https://localhost:8080/"
    },
    "id": "xdbJKcnpIjt-",
    "outputId": "0666c666-d7af-4110-ef0e-72452698623e"
   },
   "outputs": [
    {
     "name": "stdout",
     "output_type": "stream",
     "text": [
      "8\n",
      "error\n",
      "2\n"
     ]
    }
   ],
   "source": [
    "take_power = lambda x, y: x**y if x != 0 else 'error'\n",
    "\n",
    "print(take_power(2, 3))\n",
    "print(take_power(0, 2))\n",
    "print(take_power(2, 1))"
   ]
  },
  {
   "cell_type": "markdown",
   "metadata": {
    "id": "EhA5OFYUAtMp"
   },
   "source": [
    "Лямбда-выражение возвращает какое-то значение, поэтому для переданного массива нам надо вернуть какое-то значение (а не какой-то массив)"
   ]
  },
  {
   "cell_type": "code",
   "execution_count": 35,
   "metadata": {
    "colab": {
     "base_uri": "https://localhost:8080/"
    },
    "id": "yxnFHR0XJ1ph",
    "outputId": "fd8b287f-0fcf-43f4-b62a-3ace36c00557"
   },
   "outputs": [
    {
     "data": {
      "text/plain": [
       "14"
      ]
     },
     "execution_count": 35,
     "metadata": {},
     "output_type": "execute_result"
    }
   ],
   "source": [
    "sum_of_squares = lambda x: sum(i**2 for i in x)\n",
    "\n",
    "sum_of_squares([1, 2, 3])"
   ]
  },
  {
   "cell_type": "markdown",
   "metadata": {
    "id": "hJ2bGhscBC8y"
   },
   "source": [
    "Также можно лямбда выражение прописывать внутри функции. Функция ниже будет возвращать лямбда выражение. "
   ]
  },
  {
   "cell_type": "code",
   "execution_count": 36,
   "metadata": {
    "colab": {
     "base_uri": "https://localhost:8080/"
    },
    "id": "hn6WmFgrKa9e",
    "outputId": "79ed11ac-0a21-4723-d580-aafdbfe354d8"
   },
   "outputs": [
    {
     "name": "stdout",
     "output_type": "stream",
     "text": [
      "8\n",
      "27\n"
     ]
    }
   ],
   "source": [
    "def take_power(power):\n",
    "    return lambda x : x**power\n",
    "\n",
    "result_fnc = take_power(3)\n",
    "\n",
    "print(result_fnc(2))\n",
    "print(result_fnc(3))"
   ]
  },
  {
   "cell_type": "markdown",
   "metadata": {
    "id": "0pWT15XnBKVs"
   },
   "source": [
    "Также лямбда выражение можно делать иерархическим"
   ]
  },
  {
   "cell_type": "code",
   "execution_count": 37,
   "metadata": {
    "colab": {
     "base_uri": "https://localhost:8080/"
    },
    "id": "_Wf-IDJcM1hj",
    "outputId": "43ada6f1-6915-4765-95de-d1e0f3297a3a"
   },
   "outputs": [
    {
     "data": {
      "text/plain": [
       "24"
      ]
     },
     "execution_count": 37,
     "metadata": {},
     "output_type": "execute_result"
    }
   ],
   "source": [
    "hierarchical_fnc = lambda x, fnc: x**3 + fnc(x)\n",
    "\n",
    "hierarchical_fnc(3, lambda x: -x)"
   ]
  },
  {
   "cell_type": "markdown",
   "metadata": {
    "id": "pRMhqVf4BN18"
   },
   "source": [
    "Но! Лямбда выражение нельзя аннотировать как обычную функцию в примере ниже (аннотированы типы переменных на входе и выходе)"
   ]
  },
  {
   "cell_type": "code",
   "execution_count": 38,
   "metadata": {
    "colab": {
     "base_uri": "https://localhost:8080/",
     "height": 35
    },
    "id": "MgbydEnFNiBD",
    "outputId": "48717e33-929a-43c0-e50b-f89b3357c536"
   },
   "outputs": [
    {
     "data": {
      "text/plain": [
       "\"Person's name is Jack and surname is White\""
      ]
     },
     "execution_count": 38,
     "metadata": {},
     "output_type": "execute_result"
    }
   ],
   "source": [
    "def print_person(name: str, surname: str) -> str:\n",
    "    \n",
    "    return f\"Person's name is {name} and surname is {surname}\"\n",
    "\n",
    "print_person('Jack', 'White')"
   ]
  },
  {
   "cell_type": "markdown",
   "metadata": {
    "id": "kEhF1yr4KI5U"
   },
   "source": [
    "## 3.3. Map, Filter, Reduce + Itertools"
   ]
  },
  {
   "cell_type": "markdown",
   "metadata": {
    "id": "4mXfJQpdBUuT"
   },
   "source": [
    "Есть ряд удобных встроенных методов - `map`, `filter`, а также некоторых других функций в библиотеках **`functools`** и **`itertools`**\n",
    "\n",
    "Более подробно о методах определенных в них смотрите в документации: [itertools](https://docs.python.org/3/library/itertools.html)"
   ]
  },
  {
   "cell_type": "markdown",
   "metadata": {
    "id": "_pIVHJkCCJal"
   },
   "source": [
    "`map` позволяет применить функцию (лямбда-выражение либо обычную функцию) к элементам массива. `map` возвращает объект класса **map**, по которому можно итерироваться. Чтобы перевести этот объект в список требуется накинуть `list(..)` поверх. Первым аргументом у `map` (а также у `filter` и `reduce`) идет функция, а вторым - массив (упрощение - идет iterable object)\n",
    "\n",
    "Ниже пример работы `map` к списку, от которого мы хотим получить список квадратов элементов."
   ]
  },
  {
   "cell_type": "code",
   "execution_count": 39,
   "metadata": {
    "colab": {
     "base_uri": "https://localhost:8080/"
    },
    "id": "qqu9jnjHKJIB",
    "outputId": "4589cb1f-ac4b-479f-d636-1075c9c2156f"
   },
   "outputs": [],
   "source": [
    "take_square = lambda x: x**2\n",
    "\n",
    "list_1 = [1, 2, 3, 4, 5]\n",
    "\n",
    "# take_square(list_1)"
   ]
  },
  {
   "cell_type": "code",
   "execution_count": 40,
   "metadata": {},
   "outputs": [
    {
     "name": "stdout",
     "output_type": "stream",
     "text": [
      "[1, 4, 9, 16, 25]\n",
      "[1, 4, 9, 16, 25]\n"
     ]
    }
   ],
   "source": [
    "list_2 = list(map(take_square, list_1))\n",
    "list_3 = list(map(lambda x: x ** 2, list_1))\n",
    "\n",
    "print(list_2)\n",
    "print(list_3)"
   ]
  },
  {
   "cell_type": "markdown",
   "metadata": {
    "id": "LG8R-Qd2DNjV"
   },
   "source": [
    "Массив также можно фильтровать с помощью функций и лямбда выражений как в примере ниже"
   ]
  },
  {
   "cell_type": "code",
   "execution_count": 41,
   "metadata": {
    "colab": {
     "base_uri": "https://localhost:8080/"
    },
    "id": "ShK0NhOLLHT0",
    "outputId": "b39e7151-b819-4dc7-b453-713625de1e88"
   },
   "outputs": [
    {
     "name": "stdout",
     "output_type": "stream",
     "text": [
      "[1, 2, 3, 4, 5, 6, 7, 8, 9, 10]\n",
      "[2, 4, 6, 8, 10]\n"
     ]
    }
   ],
   "source": [
    "list_1 = [i for i in range(1, 11)]\n",
    "\n",
    "list_2 = list(filter(lambda x: (x%2==0), list_1))\n",
    "\n",
    "print(list_1)\n",
    "print(list_2)"
   ]
  },
  {
   "cell_type": "markdown",
   "metadata": {
    "id": "wAd2oyFZDUsj"
   },
   "source": [
    "Также есть метод `reduce`, которому на вход подается несколько аргументов, где первый элемент это аккумулированный результат работы функции на предыдущих элементах, а второй аргумент - текущий элемент."
   ]
  },
  {
   "cell_type": "code",
   "execution_count": 42,
   "metadata": {
    "id": "ED22KGRGMYxA"
   },
   "outputs": [],
   "source": [
    "from functools import reduce"
   ]
  },
  {
   "cell_type": "code",
   "execution_count": 43,
   "metadata": {
    "colab": {
     "base_uri": "https://localhost:8080/"
    },
    "id": "vtmMyeBfO7Pi",
    "outputId": "9d0beb38-2921-4fa7-fbb4-6aec87ab13a6"
   },
   "outputs": [
    {
     "name": "stdout",
     "output_type": "stream",
     "text": [
      "55\n",
      "3628800\n"
     ]
    }
   ],
   "source": [
    "list_1 = [i for i in range(1, 11)]\n",
    "\n",
    "result = reduce(lambda x,y: x+y, list_1)\n",
    "print(result)\n",
    "\n",
    "result = reduce(lambda x,y: x*y, list_1)\n",
    "print(result)"
   ]
  },
  {
   "cell_type": "markdown",
   "metadata": {
    "id": "3igcT4wgDlFN"
   },
   "source": [
    "`accumulate` в `itertools` позволяет Вам брать накопленные результата работы функции по массиву. Порядок аргументов отличен от предыдущих методов."
   ]
  },
  {
   "cell_type": "code",
   "execution_count": 44,
   "metadata": {},
   "outputs": [],
   "source": [
    "from itertools import accumulate"
   ]
  },
  {
   "cell_type": "code",
   "execution_count": 45,
   "metadata": {
    "colab": {
     "base_uri": "https://localhost:8080/"
    },
    "id": "zLwpTuvyPLfj",
    "outputId": "b2b2f837-5fd5-4241-c763-dcfb8bdad465"
   },
   "outputs": [
    {
     "name": "stdout",
     "output_type": "stream",
     "text": [
      "[1, 2, 3, 4, 5, 6, 7, 8, 9, 10]\n",
      "[1, 3, 6, 10, 15, 21, 28, 36, 45, 55]\n"
     ]
    }
   ],
   "source": [
    "print(list_1)\n",
    "\n",
    "result = list(accumulate(list_1, lambda x,y: x+y))\n",
    "\n",
    "print(result)"
   ]
  },
  {
   "cell_type": "markdown",
   "metadata": {
    "id": "KEL9BislDygc"
   },
   "source": [
    "Также в `itertool` есть куча полезных методов, которые можно посмотреть ниже, а также в документации выше."
   ]
  },
  {
   "cell_type": "code",
   "execution_count": 46,
   "metadata": {},
   "outputs": [],
   "source": [
    "from itertools import combinations, combinations_with_replacement, permutations"
   ]
  },
  {
   "cell_type": "code",
   "execution_count": 47,
   "metadata": {
    "colab": {
     "base_uri": "https://localhost:8080/"
    },
    "id": "BRS_oc6VQNB-",
    "outputId": "deb959ef-78be-4e3c-c2bf-98077974f5bf"
   },
   "outputs": [
    {
     "data": {
      "text/plain": [
       "[(1, 2), (1, 3), (1, 4), (2, 3), (2, 4), (3, 4)]"
      ]
     },
     "execution_count": 47,
     "metadata": {},
     "output_type": "execute_result"
    }
   ],
   "source": [
    "# комбинации из двух чисел из значений из списка\n",
    "list(combinations([1, 2, 3, 4], 2))"
   ]
  },
  {
   "cell_type": "code",
   "execution_count": 48,
   "metadata": {
    "colab": {
     "base_uri": "https://localhost:8080/"
    },
    "id": "iKrstcomQ1n3",
    "outputId": "ec6f8fdf-9fff-430f-de0c-018885b9e411"
   },
   "outputs": [
    {
     "data": {
      "text/plain": [
       "[('A', 'B', 'C'),\n",
       " ('A', 'B', 'D'),\n",
       " ('A', 'B', 'E'),\n",
       " ('A', 'C', 'D'),\n",
       " ('A', 'C', 'E'),\n",
       " ('A', 'D', 'E'),\n",
       " ('B', 'C', 'D'),\n",
       " ('B', 'C', 'E'),\n",
       " ('B', 'D', 'E'),\n",
       " ('C', 'D', 'E')]"
      ]
     },
     "execution_count": 48,
     "metadata": {},
     "output_type": "execute_result"
    }
   ],
   "source": [
    "# комбинации из трех символов из элементов строки\n",
    "list(combinations('ABCDE', 3))"
   ]
  },
  {
   "cell_type": "code",
   "execution_count": 49,
   "metadata": {
    "colab": {
     "base_uri": "https://localhost:8080/"
    },
    "id": "itbxLhZaQ6L_",
    "outputId": "c8571d9d-36f6-4ed8-b840-eefb4c4dd217"
   },
   "outputs": [
    {
     "data": {
      "text/plain": [
       "[('A', 'A', 'A'),\n",
       " ('A', 'A', 'B'),\n",
       " ('A', 'A', 'C'),\n",
       " ('A', 'B', 'B'),\n",
       " ('A', 'B', 'C'),\n",
       " ('A', 'C', 'C'),\n",
       " ('B', 'B', 'B'),\n",
       " ('B', 'B', 'C'),\n",
       " ('B', 'C', 'C'),\n",
       " ('C', 'C', 'C')]"
      ]
     },
     "execution_count": 49,
     "metadata": {},
     "output_type": "execute_result"
    }
   ],
   "source": [
    "# комбинации из трех символов из элементов строки с повторениями \n",
    "list(combinations_with_replacement('ABC', 3))"
   ]
  },
  {
   "cell_type": "code",
   "execution_count": 50,
   "metadata": {
    "colab": {
     "base_uri": "https://localhost:8080/"
    },
    "id": "qDuJ65VeQ_hX",
    "outputId": "46834393-1301-4c85-a3ce-60b532fb57fa"
   },
   "outputs": [
    {
     "data": {
      "text/plain": [
       "[('A', 'B', 'C'),\n",
       " ('A', 'C', 'B'),\n",
       " ('B', 'A', 'C'),\n",
       " ('B', 'C', 'A'),\n",
       " ('C', 'A', 'B'),\n",
       " ('C', 'B', 'A')]"
      ]
     },
     "execution_count": 50,
     "metadata": {},
     "output_type": "execute_result"
    }
   ],
   "source": [
    "# варианты возможных перестановок\n",
    "list(permutations('ABC'))"
   ]
  },
  {
   "cell_type": "markdown",
   "metadata": {
    "id": "oQr13CSZSGg1"
   },
   "source": [
    "# 4. Декораторы"
   ]
  },
  {
   "cell_type": "markdown",
   "metadata": {
    "id": "XQ_RxAfxEX4c"
   },
   "source": [
    "Декораторы также являются удобным способом для изменения работы функции.\n",
    "\n",
    "Допустим, у вас есть какая-то функция. Вам не хотелось бы переписывать ее снова, дописывая ей какие-то дополнительные возможности. Вам хотелось бы ее дополнить.\n",
    "\n",
    "Для этого можно воспользоваться декорированием одной функции с помощью другой (а функция может быть аргументом другой функции + функция может быть определена внутри другой функции)\n",
    "\n",
    "Для этого нам требуется декорирующая функция, которая на вход берет фукнцию, которую нужно изменить. Внутри декорирующей функции содержится функция-обёртка, которая выполняет какие-то дополнительные вещи + выполняет декорируемую функцию."
   ]
  },
  {
   "cell_type": "markdown",
   "metadata": {
    "id": "cVTwcFfxGTXa"
   },
   "source": [
    "Мы посмотрим на примере ниже. Создадим массив данных, матрицу, где строка - какое-то наблюдение/объект/человек, а элементы строки - значения тех или иных переменных по этому наблюдению.\n",
    "\n",
    "Далее определим вспомогательную функцию для подсчета попарного расстояния (в нашем случае, L1 норма или же Манхэттеновское расстояние)"
   ]
  },
  {
   "cell_type": "code",
   "execution_count": 51,
   "metadata": {
    "id": "yGSJQ0aMSFfs"
   },
   "outputs": [],
   "source": [
    "import time"
   ]
  },
  {
   "cell_type": "code",
   "execution_count": 52,
   "metadata": {
    "id": "9Hv-C-1DZoq9"
   },
   "outputs": [],
   "source": [
    "matrix_list = [[1, 2, 3], \n",
    "               [2, 3, 4], \n",
    "               [3, 4, 5], \n",
    "               [4, 5, 6], \n",
    "               [5, 6, 7], \n",
    "               [6, 7, 8]]"
   ]
  },
  {
   "cell_type": "code",
   "execution_count": 53,
   "metadata": {
    "id": "hHcH1DmOU5hU"
   },
   "outputs": [],
   "source": [
    "def distance_fnc(x, y):\n",
    "    \n",
    "    distance = 0\n",
    "    \n",
    "    for i, j in zip(x, y):\n",
    "        \n",
    "        distance += abs(i-j)\n",
    "        \n",
    "    return distance"
   ]
  },
  {
   "cell_type": "markdown",
   "metadata": {
    "id": "Y4wgMSvrGk25"
   },
   "source": [
    "Определим функцию, которая считает матрицу попарных расстояний (достаточно посчитать значения под или над диагональю)"
   ]
  },
  {
   "cell_type": "code",
   "execution_count": 54,
   "metadata": {
    "id": "5fR3L1jmaFov"
   },
   "outputs": [],
   "source": [
    "def pairwise_distance(matrix_obs):\n",
    "\n",
    "    l = len(matrix_obs)\n",
    "    distance_matrix = []\n",
    "    \n",
    "    for i in range(l):\n",
    "        distance_matrix.append([])\n",
    "        \n",
    "        for j in range(l):\n",
    "            if i > j:\n",
    "                distance = distance_fnc(matrix_obs[i], matrix_obs[j])\n",
    "                distance_matrix[i].append(distance)\n",
    "            else:\n",
    "                distance_matrix[i].append(0)\n",
    "\n",
    "    return distance_matrix"
   ]
  },
  {
   "cell_type": "code",
   "execution_count": 55,
   "metadata": {
    "colab": {
     "base_uri": "https://localhost:8080/"
    },
    "id": "1HrDakWQVFPr",
    "outputId": "6a2454da-833d-40f5-e24b-8fc28b5bf806"
   },
   "outputs": [
    {
     "data": {
      "text/plain": [
       "[[0, 0, 0, 0, 0, 0],\n",
       " [3, 0, 0, 0, 0, 0],\n",
       " [6, 3, 0, 0, 0, 0],\n",
       " [9, 6, 3, 0, 0, 0],\n",
       " [12, 9, 6, 3, 0, 0],\n",
       " [15, 12, 9, 6, 3, 0]]"
      ]
     },
     "execution_count": 55,
     "metadata": {},
     "output_type": "execute_result"
    }
   ],
   "source": [
    "pairwise_distance(matrix_list)"
   ]
  },
  {
   "cell_type": "markdown",
   "metadata": {
    "id": "OUljhMqDG2_E"
   },
   "source": [
    "Создадим функцию-декоратор `measure_time` (название на Ваше усмотрение), которая на вход берет другую функцию, которую нужно изменить (функцию `pairwise_distance`). Мы бы хотели добавить в декорируемую функцию вывод времени работы кода.\n",
    "\n",
    "Для этого внутри функции-декоратора создаем функцию-обёртку `wrapper_func` (название на Ваше усмотрение). Функция-обёртка замеряет время старта работы функции, исполняет функцию (которую ей передали - в частности, `pairwise_distance`), замеряет время конца работы функции, выводит затраченное время и результат (нельзя забывать про `return` внутри функции-обёртки). Чтобы передать в изменяемую функцию ее параметры, их также нужно передать в функцию-обёртку. "
   ]
  },
  {
   "cell_type": "code",
   "execution_count": 56,
   "metadata": {
    "id": "VOSwbRKRYMcz"
   },
   "outputs": [],
   "source": [
    "def measure_time(func):\n",
    "\n",
    "    def wrapper_func(*args):\n",
    "        \n",
    "        start = time.time()\n",
    "        result = func(*args)\n",
    "        end = time.time()\n",
    "        \n",
    "        print(f'Time of execution is {end-start} seconds')\n",
    "        \n",
    "        return result\n",
    "\n",
    "    return wrapper_func"
   ]
  },
  {
   "cell_type": "markdown",
   "metadata": {
    "id": "Bt4XztrEHxqZ"
   },
   "source": [
    "Чтобы обернуть функцию `pairwise_distance` с помощью декоратора нужно поверх определения этой функции через оператор `@` прописать название декоратора."
   ]
  },
  {
   "cell_type": "code",
   "execution_count": 57,
   "metadata": {
    "id": "V0nkrB_VXyOq"
   },
   "outputs": [],
   "source": [
    "@measure_time\n",
    "def pairwise_distance(matrix_obs):\n",
    "\n",
    "    l = len(matrix_obs)\n",
    "    distance_matrix = []\n",
    "    \n",
    "    for i in range(l):\n",
    "        distance_matrix.append([])\n",
    "        \n",
    "        for j in range(l):\n",
    "            if i > j:\n",
    "                distance = distance_fnc(matrix_obs[i], matrix_obs[j])\n",
    "                distance_matrix[i].append(distance)\n",
    "            else:\n",
    "                distance_matrix[i].append(0)\n",
    "\n",
    "    return distance_matrix"
   ]
  },
  {
   "cell_type": "code",
   "execution_count": 58,
   "metadata": {
    "colab": {
     "base_uri": "https://localhost:8080/"
    },
    "id": "T0VR8y7MTv1D",
    "outputId": "d8d9e3d7-e5c6-4123-d1d8-dc2c64efcf1f"
   },
   "outputs": [
    {
     "name": "stdout",
     "output_type": "stream",
     "text": [
      "Time of execution is 0.0 seconds\n"
     ]
    },
    {
     "data": {
      "text/plain": [
       "[[0, 0, 0, 0, 0, 0],\n",
       " [3, 0, 0, 0, 0, 0],\n",
       " [6, 3, 0, 0, 0, 0],\n",
       " [9, 6, 3, 0, 0, 0],\n",
       " [12, 9, 6, 3, 0, 0],\n",
       " [15, 12, 9, 6, 3, 0]]"
      ]
     },
     "execution_count": 58,
     "metadata": {},
     "output_type": "execute_result"
    }
   ],
   "source": [
    "result = pairwise_distance(matrix_list)\n",
    "result"
   ]
  },
  {
   "cell_type": "markdown",
   "metadata": {
    "id": "hz0HJft1H78P"
   },
   "source": [
    "Иначе пришлось бы делать как ниже"
   ]
  },
  {
   "cell_type": "code",
   "execution_count": 59,
   "metadata": {},
   "outputs": [],
   "source": [
    "def pairwise_distance(matrix_obs):\n",
    "\n",
    "    l = len(matrix_obs)\n",
    "    distance_matrix = []\n",
    "    \n",
    "    for i in range(l):\n",
    "        distance_matrix.append([])\n",
    "        \n",
    "        for j in range(l):\n",
    "            if i > j:\n",
    "                distance = distance_fnc(matrix_obs[i], matrix_obs[j])\n",
    "                distance_matrix[i].append(distance)\n",
    "            else:\n",
    "                distance_matrix[i].append(0)\n",
    "\n",
    "    return distance_matrix"
   ]
  },
  {
   "cell_type": "markdown",
   "metadata": {},
   "source": [
    "Первая строчка, по сути, заменяет выражение с `@`"
   ]
  },
  {
   "cell_type": "code",
   "execution_count": 60,
   "metadata": {
    "colab": {
     "base_uri": "https://localhost:8080/"
    },
    "id": "oxRxhWkTimmC",
    "outputId": "2bdd6594-adc6-44c0-c161-02eef0025db1"
   },
   "outputs": [
    {
     "name": "stdout",
     "output_type": "stream",
     "text": [
      "Time of execution is 0.0 seconds\n"
     ]
    },
    {
     "data": {
      "text/plain": [
       "[[0, 0, 0, 0, 0, 0],\n",
       " [3, 0, 0, 0, 0, 0],\n",
       " [6, 3, 0, 0, 0, 0],\n",
       " [9, 6, 3, 0, 0, 0],\n",
       " [12, 9, 6, 3, 0, 0],\n",
       " [15, 12, 9, 6, 3, 0]]"
      ]
     },
     "execution_count": 60,
     "metadata": {},
     "output_type": "execute_result"
    }
   ],
   "source": [
    "pairwise_distance = measure_time(pairwise_distance)\n",
    "pairwise_distance(matrix_list)"
   ]
  },
  {
   "cell_type": "markdown",
   "metadata": {
    "id": "JlyfOmjhIC3q"
   },
   "source": [
    "Далее есть избитый пример про сэндвич, который мы хотим обернуть в начинку, а потом обернуть в хлеб\n",
    "\n",
    "В этом примере используется несколько декораторов - `bread` и `ingredients`"
   ]
  },
  {
   "cell_type": "code",
   "execution_count": 61,
   "metadata": {
    "id": "l-rJ6hw9lmKo"
   },
   "outputs": [],
   "source": [
    "def bread(func):\n",
    "    def wrapper():\n",
    "        print(\"</_______\\>\")\n",
    "        func()\n",
    "        print(\"<\\_______/>\")\n",
    "    return wrapper\n",
    "\n",
    "def ingredients(func):\n",
    "    def wrapper():\n",
    "        print(\"#помидорки#\")\n",
    "        func()\n",
    "        print(\"~~~салат~~~\")\n",
    "    return wrapper"
   ]
  },
  {
   "cell_type": "code",
   "execution_count": 62,
   "metadata": {
    "id": "_IccbahglmNb"
   },
   "outputs": [
    {
     "name": "stdout",
     "output_type": "stream",
     "text": [
      "</_______\\>\n",
      "#помидорки#\n",
      "--ветчина--\n",
      "~~~салат~~~\n",
      "<\\_______/>\n"
     ]
    }
   ],
   "source": [
    "@bread\n",
    "@ingredients\n",
    "def sandwich(food = \"--ветчина--\"):\n",
    "    print(food)\n",
    "    \n",
    "sandwich()"
   ]
  },
  {
   "cell_type": "markdown",
   "metadata": {
    "id": "TsEGOvcwizx8"
   },
   "source": [
    "# 5. Классы"
   ]
  },
  {
   "cell_type": "markdown",
   "metadata": {},
   "source": [
    "## 5.1. Общие правила написания классов"
   ]
  },
  {
   "cell_type": "markdown",
   "metadata": {
    "id": "SXk-eimBIj3l"
   },
   "source": [
    "Одним из главных компонентов является объект. В Python все является объектами. Эти объекты принадлежат какому-то одному классу. Например, 3 может принадлежать классу целых чисел (вещественных чисел, положительных чисел и т.д.). На класс целых чисел определены те или иные операции (сложения, умножения, сравнения и т.д.). Однако для какой-то другой структуры данных/класса, операции (методы) могут быть отличны, а также их поведение может отличаться для объектов разных классов."
   ]
  },
  {
   "cell_type": "code",
   "execution_count": 63,
   "metadata": {},
   "outputs": [
    {
     "name": "stderr",
     "output_type": "stream",
     "text": [
      "<>:1: SyntaxWarning: invalid decimal literal\n",
      "<>:1: SyntaxWarning: invalid decimal literal\n",
      "C:\\Users\\Popov\\AppData\\Local\\Temp\\ipykernel_14940\\4087311075.py:1: SyntaxWarning: invalid decimal literal\n",
      "  3.in([1, 2, 3])\n"
     ]
    },
    {
     "data": {
      "text/plain": [
       "True"
      ]
     },
     "execution_count": 63,
     "metadata": {},
     "output_type": "execute_result"
    }
   ],
   "source": [
    "3.in([1, 2, 3])"
   ]
  },
  {
   "cell_type": "markdown",
   "metadata": {},
   "source": [
    "Класс Вы можете определить через ключевое слово `Class` не забыв про `:` в конце\n",
    "\n",
    "Класс может содержать внутри себя какие-то функции - методы (в контексте классов - методы), а также переменные."
   ]
  },
  {
   "cell_type": "code",
   "execution_count": 64,
   "metadata": {
    "id": "ioPVp4Q-iz-2"
   },
   "outputs": [],
   "source": [
    "class MyClass:\n",
    "    pass"
   ]
  },
  {
   "cell_type": "markdown",
   "metadata": {
    "id": "PtJlYWN5JVlB"
   },
   "source": [
    "Методы с двойным нижним подчеркиванием по бокам являются магическими (это устоявшееся название). Можно их также интерпретировать как базовые (в зависимости от того, где интерпретация и ассоциации для Вас легче). \n",
    "\n",
    "Эти методы являются специальными и не предполагают их вызов напрямую от объекта. Они позволяют вызывать их при применении каких-либо операций с объектами класса.\n",
    "\n",
    "Метод **`__init__(self, ..)`** является инициализатором объекта. Объект определенного класса мы инициализируем какими-то значениями (у человека, например, есть имя и фамилия с возрастом, у товара - код на штрих-коде, срок годности и т.д.). Первым аргументом кладется аргумент **`self`**, который является ссылкой на конкретный экземпляр класса. Устоявшимся (но не обязательным) названием является **self**, и лучше придерживаться этого названия."
   ]
  },
  {
   "cell_type": "markdown",
   "metadata": {
    "id": "81G6rr6nKry5"
   },
   "source": [
    "Определим класс `Person`, инициализируя его именем, фамилией и возрастом человека. **`self`** - ссылка объекта на себя же, записываем в него эти параметры.\n",
    "\n",
    "Магический метод **`__str()__`** позволяет выводить какой-то результат, который мы в нем определяем при вызове `print(object_of_class_person)`\n",
    "\n",
    "Метод `print_person_age(..)` принимает на вход также внешний параметр, city."
   ]
  },
  {
   "cell_type": "code",
   "execution_count": 65,
   "metadata": {
    "id": "PTk0j9bHLYAO"
   },
   "outputs": [],
   "source": [
    "class Person:\n",
    "    \n",
    "    def __init__(self, name, surname, age):\n",
    "        \n",
    "        self.name = name\n",
    "        self.surname = surname\n",
    "        self.age = age\n",
    "        \n",
    "        print('A Person is added')\n",
    "\n",
    "    def __str__(self):\n",
    "        return f'Object for {self.name} {self.surname}'\n",
    "\n",
    "    def print_person_age(self, city):\n",
    "        print(f'The person is {self.age} years old and lives in {city}')"
   ]
  },
  {
   "cell_type": "markdown",
   "metadata": {
    "id": "ETqdwqdfLMX9"
   },
   "source": [
    "Создадим объект `person_1` класса `Person`\n",
    "\n",
    "Нам не надо прописывать следующее, чтобы инициализировать объект:\n",
    "\n",
    "```\n",
    "person_1 = Person()\n",
    "person_1.__init__('Suzie', 'Smith', 27)\n",
    "```\n",
    "\n",
    "Инициализация и передача параметров для инициализации происходит при определении объекта, как указано ниже\n"
   ]
  },
  {
   "cell_type": "code",
   "execution_count": 66,
   "metadata": {
    "colab": {
     "base_uri": "https://localhost:8080/"
    },
    "id": "_Pm_UCu4MJpa",
    "outputId": "79fe9ccc-0872-4f7a-bc28-8db495879b52"
   },
   "outputs": [
    {
     "name": "stdout",
     "output_type": "stream",
     "text": [
      "A Person is added\n"
     ]
    }
   ],
   "source": [
    "person_1 = Person(name='Suzie', \n",
    "                  surname='Smith', \n",
    "                  age=27)"
   ]
  },
  {
   "cell_type": "markdown",
   "metadata": {
    "id": "9Us3VGynLlDp"
   },
   "source": [
    "Через `.` Вы можете посмотреть на аттрибуты объекта (методы и переменные)"
   ]
  },
  {
   "cell_type": "code",
   "execution_count": 67,
   "metadata": {
    "colab": {
     "base_uri": "https://localhost:8080/",
     "height": 35
    },
    "id": "NlhfiL8IMPyG",
    "outputId": "7271c7ed-0918-4fea-ae6d-bec201f2a085"
   },
   "outputs": [
    {
     "data": {
      "text/plain": [
       "'Smith'"
      ]
     },
     "execution_count": 67,
     "metadata": {},
     "output_type": "execute_result"
    }
   ],
   "source": [
    "person_1.surname"
   ]
  },
  {
   "cell_type": "markdown",
   "metadata": {
    "id": "jvmoOYeqLsA6"
   },
   "source": [
    "От объекта Вы можете взять метод, как в примере ниже"
   ]
  },
  {
   "cell_type": "code",
   "execution_count": 68,
   "metadata": {
    "colab": {
     "base_uri": "https://localhost:8080/"
    },
    "id": "_tDvCcPJMSlS",
    "outputId": "ebc2ac0e-a050-4264-80c8-e34d10ab7bb3"
   },
   "outputs": [
    {
     "name": "stdout",
     "output_type": "stream",
     "text": [
      "The person is 27 years old and lives in Kansas\n"
     ]
    }
   ],
   "source": [
    "person_1.print_person_age('Kansas')"
   ]
  },
  {
   "cell_type": "markdown",
   "metadata": {
    "id": "mUj_FgbxLvUM"
   },
   "source": [
    "А вот ниже результат работы магического методы **`__str(..)__`**"
   ]
  },
  {
   "cell_type": "code",
   "execution_count": 69,
   "metadata": {
    "colab": {
     "base_uri": "https://localhost:8080/"
    },
    "id": "4rozn2gfMWCH",
    "outputId": "7dd55057-3d4d-4fb8-e8d9-d49d9b342be6"
   },
   "outputs": [
    {
     "name": "stdout",
     "output_type": "stream",
     "text": [
      "Object for Suzie Smith\n"
     ]
    },
    {
     "data": {
      "text/plain": [
       "'Object for Suzie Smith'"
      ]
     },
     "execution_count": 69,
     "metadata": {},
     "output_type": "execute_result"
    }
   ],
   "source": [
    "print(person_1)\n",
    "\n",
    "person_1.__str__()"
   ]
  },
  {
   "cell_type": "markdown",
   "metadata": {
    "id": "Xf9VDuQgL8Ow"
   },
   "source": [
    "Как и говорилось - все в Python является объектом. Даже переменная, которой присвоено какое-то число. У нас есть ряд операций с числами - например, арифметическое сложение. Арифметическое сложение доступно через оператор `+`, за который, по сути, отвечает магический метод **`__add()__`**. Нам не требуется для сложения этот метод вызывать, если он определен в классе объекта."
   ]
  },
  {
   "cell_type": "code",
   "execution_count": 70,
   "metadata": {
    "colab": {
     "base_uri": "https://localhost:8080/"
    },
    "id": "IROIjvTpNJZu",
    "outputId": "bb91bee0-f0c3-455e-a4f7-95db7270a200"
   },
   "outputs": [
    {
     "data": {
      "text/plain": [
       "(9, 9)"
      ]
     },
     "execution_count": 70,
     "metadata": {},
     "output_type": "execute_result"
    }
   ],
   "source": [
    "a = 5\n",
    "\n",
    "a + 4, a.__add__(4)"
   ]
  },
  {
   "cell_type": "markdown",
   "metadata": {
    "id": "kkQBdFgKMcux"
   },
   "source": [
    "Для класса строк этот же метод работает иначе"
   ]
  },
  {
   "cell_type": "code",
   "execution_count": 71,
   "metadata": {
    "colab": {
     "base_uri": "https://localhost:8080/",
     "height": 35
    },
    "id": "t8AO7CzBtNI3",
    "outputId": "2eae026d-c50f-4f1f-847a-535c1e5db60c"
   },
   "outputs": [
    {
     "data": {
      "text/plain": [
       "'abcd'"
      ]
     },
     "execution_count": 71,
     "metadata": {},
     "output_type": "execute_result"
    }
   ],
   "source": [
    "a = 'ab'\n",
    "c = 'cd'\n",
    "\n",
    "a + c"
   ]
  },
  {
   "cell_type": "markdown",
   "metadata": {
    "id": "83HuR3neM6AW"
   },
   "source": [
    "Можно проверить название класса (тоже магический метод)"
   ]
  },
  {
   "cell_type": "code",
   "execution_count": 72,
   "metadata": {
    "colab": {
     "base_uri": "https://localhost:8080/",
     "height": 35
    },
    "id": "x6rbkr8DMi9p",
    "outputId": "a4ac6f0a-3e72-419e-93ab-3e954d315143"
   },
   "outputs": [
    {
     "data": {
      "text/plain": [
       "'str'"
      ]
     },
     "execution_count": 72,
     "metadata": {},
     "output_type": "execute_result"
    }
   ],
   "source": [
    "c.__class__.__name__"
   ]
  },
  {
   "cell_type": "code",
   "execution_count": 73,
   "metadata": {
    "colab": {
     "base_uri": "https://localhost:8080/",
     "height": 35
    },
    "id": "UtPQSU2StS_u",
    "outputId": "6cb0ec1f-dd1c-4919-8634-527cca447ec6"
   },
   "outputs": [
    {
     "data": {
      "text/plain": [
       "'abcd'"
      ]
     },
     "execution_count": 73,
     "metadata": {},
     "output_type": "execute_result"
    }
   ],
   "source": [
    "a.__add__('cd')"
   ]
  },
  {
   "cell_type": "markdown",
   "metadata": {},
   "source": [
    "## * 5.2. Наследование в классах"
   ]
  },
  {
   "cell_type": "markdown",
   "metadata": {},
   "source": [
    "Более подробно про наследование прочитать можно, например, [тут](https://webdevblog.ru/nasledovanie-i-kompoziciya-rukovodstvo-po-oop-python/)"
   ]
  },
  {
   "cell_type": "markdown",
   "metadata": {
    "id": "bze1OFEpM-Rs"
   },
   "source": [
    "Одним из столпов ООП (объектно-ориентированное программирование) является наследование. \n",
    "\n",
    "Дочерний класс (подкласс) может наследовать те или иные методы (и аргументы) от родительского (суперкласс) класса"
   ]
  },
  {
   "cell_type": "code",
   "execution_count": 74,
   "metadata": {
    "id": "2NLvdA-BttMW"
   },
   "outputs": [],
   "source": [
    "class Person:\n",
    "    \n",
    "    def __init__(self, name, surname, age):\n",
    "        \n",
    "        self.name = name\n",
    "        self.surname = surname\n",
    "        self.age = age\n",
    "        \n",
    "        print('A Person is added')\n",
    "\n",
    "    def __str__(self):\n",
    "        return f'Object for {self.name} {self.surname}'\n",
    "\n",
    "    def print_person_age(self, city):\n",
    "        print(f'The person is {self.age} years old and lives in {city}')"
   ]
  },
  {
   "cell_type": "markdown",
   "metadata": {
    "id": "wi8d1Lx9NOxn"
   },
   "source": [
    "Для унаследования Вашим классом другого класса, требуется передать его в аргументы класса, как указано ниже. \n",
    "\n",
    "В дочернем классе Вы также можете определить новые методы вдобавок к унаследованным."
   ]
  },
  {
   "cell_type": "code",
   "execution_count": 75,
   "metadata": {
    "id": "EsuXs2n6NPyI"
   },
   "outputs": [],
   "source": [
    "class New_Employee(Person):\n",
    "\n",
    "    def greet_employee(self):\n",
    "        print(f'Greeting to our new member {self.name} {self.surname}')"
   ]
  },
  {
   "cell_type": "markdown",
   "metadata": {
    "id": "0f9LdV7lNemC"
   },
   "source": [
    "Не забывайте при инициализации передать все необходимые параметры (метод инициализации унаследован от класса `Person`) "
   ]
  },
  {
   "cell_type": "code",
   "execution_count": 76,
   "metadata": {
    "colab": {
     "base_uri": "https://localhost:8080/"
    },
    "id": "82Pt2pJeNnK-",
    "outputId": "31884487-b739-4f54-b06b-2c86c9f59704"
   },
   "outputs": [
    {
     "name": "stdout",
     "output_type": "stream",
     "text": [
      "A Person is added\n"
     ]
    }
   ],
   "source": [
    "person_2 = New_Employee(name='Suzie', \n",
    "                        surname='Smith', \n",
    "                        age=27)"
   ]
  },
  {
   "cell_type": "markdown",
   "metadata": {
    "id": "JfXPEu4NNmjY"
   },
   "source": [
    "Применим новый метод"
   ]
  },
  {
   "cell_type": "code",
   "execution_count": 77,
   "metadata": {
    "colab": {
     "base_uri": "https://localhost:8080/"
    },
    "id": "uFmcL_hLNq94",
    "outputId": "c515fc43-b2bc-422e-8543-0644f4535a8c"
   },
   "outputs": [
    {
     "name": "stdout",
     "output_type": "stream",
     "text": [
      "Greeting to our new member Suzie Smith\n"
     ]
    }
   ],
   "source": [
    "person_2.greet_employee()"
   ]
  },
  {
   "cell_type": "markdown",
   "metadata": {
    "id": "xA6HtIE1NovG"
   },
   "source": [
    "Старые методы тоже никуда не подевались"
   ]
  },
  {
   "cell_type": "code",
   "execution_count": 78,
   "metadata": {
    "colab": {
     "base_uri": "https://localhost:8080/"
    },
    "id": "Dv4KKpBvt7za",
    "outputId": "2f237fe0-6374-41b3-a323-609a84d15d9b"
   },
   "outputs": [
    {
     "name": "stdout",
     "output_type": "stream",
     "text": [
      "Object for Suzie Smith\n"
     ]
    }
   ],
   "source": [
    "print(person_2)"
   ]
  },
  {
   "cell_type": "code",
   "execution_count": 79,
   "metadata": {
    "id": "t9FG6lW0Nq9T"
   },
   "outputs": [
    {
     "name": "stdout",
     "output_type": "stream",
     "text": [
      "The person is 27 years old and lives in Kansas\n"
     ]
    }
   ],
   "source": [
    "person_2.print_person_age('Kansas')"
   ]
  },
  {
   "cell_type": "code",
   "execution_count": 80,
   "metadata": {
    "id": "OtAUk0bGOA1G"
   },
   "outputs": [],
   "source": [
    "class Person:\n",
    "    \n",
    "    def __init__(self, name, surname, age):\n",
    "        \n",
    "        self.name = name\n",
    "        self.surname = surname\n",
    "        self.age = age\n",
    "        \n",
    "        print('A Person is added')\n",
    "\n",
    "    def __str__(self):\n",
    "        return f'Object for {self.name} {self.surname}'\n",
    "\n",
    "    # Переписали функцию. Нам теперь не интересно то, из какого города работник\n",
    "    def print_person_age(self):\n",
    "        print(f'The person is {self.age} years old')"
   ]
  },
  {
   "cell_type": "markdown",
   "metadata": {
    "id": "zMWvyM1MN0Ac"
   },
   "source": [
    "Также Вы можете добавлять различное количество методов в Ваш класс. Вы также можете изменить метод **`__init(..)__`**, т.к. у Вас могут появиться какие-то дополнительные параметры для инициализации.\n",
    "\n",
    "Например, вы можете инициализировать Ваш класс как в примере ниже. Сперва с помощью встроенного метода `super().__init__(..)` Вы можете передать для инициализации инициализирующие значения родительского класса, а потом добавить дополнительные параметры.\n",
    "\n",
    "Из некоторых источников (дабы не повторяться):\n",
    "\n",
    "* super возвращает объект-посредник (прокси), делегирующий вызовы методов родителю или собрату класса указанного типа."
   ]
  },
  {
   "cell_type": "code",
   "execution_count": 81,
   "metadata": {
    "id": "bd9-oxhnNuRU"
   },
   "outputs": [],
   "source": [
    "class Employee_Normal(Person):\n",
    "\n",
    "    def __init__(self, name, surname, age, wage, hours_worked):\n",
    "        super().__init__(name, surname, age)\n",
    "        self.wage = wage\n",
    "        self.hours_worked = hours_worked\n",
    "\n",
    "    def greet_employee(self):\n",
    "        print(f'Greeting to our new member {self.name} {self.surname}')\n",
    "\n",
    "    def compute_salary(self, n_weeks=4.5):\n",
    "        return self.hours_worked * self.wage * n_weeks"
   ]
  },
  {
   "cell_type": "code",
   "execution_count": 82,
   "metadata": {
    "colab": {
     "base_uri": "https://localhost:8080/"
    },
    "id": "LhtS9K0nOZO8",
    "outputId": "7476dec4-5735-493c-ab81-b59eef11a011"
   },
   "outputs": [
    {
     "name": "stdout",
     "output_type": "stream",
     "text": [
      "A Person is added\n"
     ]
    }
   ],
   "source": [
    "person_3 = Employee_Normal(name='Suzie', \n",
    "                           surname='Smith', \n",
    "                           age=27, \n",
    "                           wage=500, \n",
    "                           hours_worked=40)"
   ]
  },
  {
   "cell_type": "code",
   "execution_count": 83,
   "metadata": {
    "colab": {
     "base_uri": "https://localhost:8080/"
    },
    "id": "YvB4UnPEufqG",
    "outputId": "b004f22e-44c1-4845-d04c-1989a2b1d87e"
   },
   "outputs": [
    {
     "name": "stdout",
     "output_type": "stream",
     "text": [
      "Object for Suzie Smith\n"
     ]
    }
   ],
   "source": [
    "print(person_3)"
   ]
  },
  {
   "cell_type": "code",
   "execution_count": 84,
   "metadata": {
    "colab": {
     "base_uri": "https://localhost:8080/"
    },
    "id": "RuH_dQeoOhgy",
    "outputId": "6aa40ff8-7dc1-4880-f111-1220d96d1be9"
   },
   "outputs": [
    {
     "name": "stdout",
     "output_type": "stream",
     "text": [
      "The person is 27 years old\n"
     ]
    }
   ],
   "source": [
    "person_3.print_person_age()"
   ]
  },
  {
   "cell_type": "code",
   "execution_count": 85,
   "metadata": {
    "colab": {
     "base_uri": "https://localhost:8080/"
    },
    "id": "Cm3r5Ht0OkgC",
    "outputId": "9e3c5dcb-c62c-4340-f986-b6304b451390"
   },
   "outputs": [
    {
     "data": {
      "text/plain": [
       "40000"
      ]
     },
     "execution_count": 85,
     "metadata": {},
     "output_type": "execute_result"
    }
   ],
   "source": [
    "person_3.compute_salary(n_weeks=2)"
   ]
  },
  {
   "cell_type": "markdown",
   "metadata": {},
   "source": [
    "## * 5.3. Полиморфизм и инкапсуляция"
   ]
  },
  {
   "cell_type": "markdown",
   "metadata": {},
   "source": [
    "Более подробно про ООП можно прочитать, например, [тут](https://proglib.io/p/python-oop)"
   ]
  },
  {
   "cell_type": "markdown",
   "metadata": {
    "id": "bVfY_avHPBwo"
   },
   "source": [
    "Также двумя столпами ООП является Полиморфизм и Инкапсуляция.\n",
    "\n",
    "* Полиморфизм - возможность одному методу (с одинаковым названием) для объектов разного класса исполнять разные операции. В данном контексте под полиморфизмом понимается множество форм одного и того же слова – имени метода.\n",
    "* Инкапсуляция - ограничение доступа к составляющим объект компонентам (методам и переменным). Инкапсуляция делает некоторые из компонент доступными только внутри класса.\n",
    "\n",
    "Одиночное подчеркивание в начале имени атрибута говорит о том, что переменная или метод не предназначен для использования вне методов класса, однако атрибут доступен по этому имени.\n",
    "\n",
    "Двойное подчеркивание в начале имени атрибута даёт большую защиту: атрибут становится недоступным по этому имени."
   ]
  },
  {
   "cell_type": "markdown",
   "metadata": {
    "id": "snSEI_w_P5f0"
   },
   "source": [
    "Примером полиморфизма является переопределения метода `print_person_age(..)` в классе `Employee_Normal_Ext`. Его поведение отлично от его поведения в классе `Person` (чуть-чуть переписали).\n",
    "\n",
    "Примером инкапсуляции является метод `__not_use()`, который нельзя вызвать от объекта. Метод `_not_use_not_safe()` не был бы также виден в аттрибутах объекта, но его можно было бы вызвать."
   ]
  },
  {
   "cell_type": "code",
   "execution_count": 86,
   "metadata": {
    "id": "plwHJuH_On7S"
   },
   "outputs": [],
   "source": [
    "class Employee_Normal_Ext(Person):\n",
    "\n",
    "    def __init__(self, name, surname, age, wage, hours_worked):\n",
    "        \n",
    "        super().__init__(name, surname, age)\n",
    "        self.wage = wage\n",
    "        self.hours_worked = hours_worked\n",
    "\n",
    "    def greet_employee(self):\n",
    "        print(f'Greeting to our new member {self.name} {self.surname}')\n",
    "\n",
    "    def print_person_age(self):\n",
    "        print(f'{self.name} {self.surname} is {self.age} years old')\n",
    "\n",
    "    def compute_salary(self, n_weeks):\n",
    "        self.n_weeks = n_weeks # Можно также сохранить \"в себя\" переменную\n",
    "        return self.hours_worked * self.wage * n_weeks\n",
    "\n",
    "    # Python не позволит вызвать такой метод\n",
    "    def __not_use(self):\n",
    "        print('Not use')\n",
    "    \n",
    "    # Python позволит вызвать такой метод, но существует соглашение о том, что методы, которые начинаются с \n",
    "    # нижнего подчеркивания, вызывать не следует\n",
    "    def _not_use_safe(self):\n",
    "        print('Not use, but I cannot restrict you')\n",
    "  "
   ]
  },
  {
   "cell_type": "code",
   "execution_count": 87,
   "metadata": {
    "colab": {
     "base_uri": "https://localhost:8080/"
    },
    "id": "aQs7RsAjO83s",
    "outputId": "ca4cb950-9fbf-4ab2-bc7d-079669196d21"
   },
   "outputs": [
    {
     "name": "stdout",
     "output_type": "stream",
     "text": [
      "A Person is added\n"
     ]
    }
   ],
   "source": [
    "person_4 = Employee_Normal_Ext(name='Suzie', \n",
    "                               surname='Smith', \n",
    "                               age=27, \n",
    "                               wage=500, \n",
    "                               hours_worked=40)"
   ]
  },
  {
   "cell_type": "code",
   "execution_count": 88,
   "metadata": {
    "colab": {
     "base_uri": "https://localhost:8080/"
    },
    "id": "BJ5uvElcO_7J",
    "outputId": "6f761f7e-aad5-4ea8-eb0b-a0f925856eaa"
   },
   "outputs": [
    {
     "name": "stdout",
     "output_type": "stream",
     "text": [
      "Suzie Smith is 27 years old\n"
     ]
    }
   ],
   "source": [
    "person_4.print_person_age()"
   ]
  },
  {
   "cell_type": "code",
   "execution_count": 89,
   "metadata": {
    "colab": {
     "base_uri": "https://localhost:8080/",
     "height": 164
    },
    "id": "juTB4NN0U123",
    "outputId": "421c1ab9-b180-4582-ed49-7506d6943408"
   },
   "outputs": [],
   "source": [
    "# person_4.__not_use()"
   ]
  },
  {
   "cell_type": "code",
   "execution_count": 90,
   "metadata": {
    "colab": {
     "base_uri": "https://localhost:8080/"
    },
    "id": "p29OzYyTQrFP",
    "outputId": "9bb9ae28-08a7-4375-d33a-381e737eb2ca"
   },
   "outputs": [
    {
     "name": "stdout",
     "output_type": "stream",
     "text": [
      "Not use, but I cannot restrict you\n"
     ]
    }
   ],
   "source": [
    "person_4._not_use_safe()"
   ]
  },
  {
   "cell_type": "markdown",
   "metadata": {},
   "source": [
    "До определения переменной `n_weeks` в методе `sompute_salary()`, мы не можем вызвать ее при обращении к классу. После определения вызвать ее уже получится"
   ]
  },
  {
   "cell_type": "code",
   "execution_count": 91,
   "metadata": {
    "colab": {
     "base_uri": "https://localhost:8080/",
     "height": 164
    },
    "id": "87fy-Lo9Qz0S",
    "outputId": "2288ad3c-9fc9-4bba-c457-f574f79f5b31"
   },
   "outputs": [],
   "source": [
    "# person_4.n_weeks"
   ]
  },
  {
   "cell_type": "code",
   "execution_count": 92,
   "metadata": {
    "colab": {
     "base_uri": "https://localhost:8080/"
    },
    "id": "_k0-kMGpQ1Yz",
    "outputId": "85679720-80b2-4c58-98c8-1e30bb53b098"
   },
   "outputs": [
    {
     "data": {
      "text/plain": [
       "40000"
      ]
     },
     "execution_count": 92,
     "metadata": {},
     "output_type": "execute_result"
    }
   ],
   "source": [
    "person_4.compute_salary(n_weeks=2)"
   ]
  },
  {
   "cell_type": "code",
   "execution_count": 93,
   "metadata": {
    "colab": {
     "base_uri": "https://localhost:8080/"
    },
    "id": "TKQNNiwAQ4hP",
    "outputId": "513f00d5-e58c-414d-f840-05730edec12b"
   },
   "outputs": [
    {
     "data": {
      "text/plain": [
       "2"
      ]
     },
     "execution_count": 93,
     "metadata": {},
     "output_type": "execute_result"
    }
   ],
   "source": [
    "person_4.n_weeks"
   ]
  },
  {
   "cell_type": "markdown",
   "metadata": {},
   "source": [
    "## 5.4. Импортирование классов как библиотек"
   ]
  },
  {
   "cell_type": "markdown",
   "metadata": {},
   "source": [
    "Для чего это нужно? Например, у Вас есть какой-то класс, который включает в себя несколько методов, которые, например, часто используются Вами для работы с какими-либо данными. Для того, чтобы каждый раз в новом документе не переопределять этот класс явно (в какой-то ячейке) и чтобы не загрязнять код, можно просто создать файл с расширением `.py`, в котором будет лежать класс, и просто импортировать его из рабочей директории.\n",
    "\n",
    "На самом деле, применений такого подхода очень много, но это является основным для Вас в работе с данными.\n",
    "\n",
    "Делается это все достаточно просто. Сейчас покажу :)"
   ]
  },
  {
   "cell_type": "markdown",
   "metadata": {},
   "source": [
    "**1. Напишем класс `OptionsPricing` с методами, при помощи которых можно оценить цену Put или Call опциона.**"
   ]
  },
  {
   "cell_type": "code",
   "execution_count": 94,
   "metadata": {},
   "outputs": [],
   "source": [
    "from scipy.stats import norm\n",
    "import numpy as np\n",
    "\n",
    "N = norm.cdf\n",
    "\n",
    "class OptionsPricing():\n",
    "    \n",
    "    def __init__(self, S=100, K=100, T=1, r=0.05, q=0, sigma=0.2):\n",
    "        \n",
    "        self.S = S\n",
    "        self.K = K\n",
    "        self.T = T\n",
    "        self.r = r\n",
    "        self.q = q\n",
    "        self.sigma = sigma\n",
    "        \n",
    "    def PRICE_CALL(self):\n",
    "\n",
    "        d1 = (np.log(self.S / self.K) + (self.r - self.q + self.sigma**2 / 2) * self.T) / (self.sigma * np.sqrt(self.T))\n",
    "        d2 = d1 - self.sigma * np.sqrt(self.T)\n",
    "        \n",
    "        return self.S * np.exp(-self.q * self.T) * N(d1) - self.K * np.exp(-self.r * self.T) * N(d2)\n",
    "    \n",
    "    def PRICE_PUT(self):\n",
    "        \n",
    "        d1 = (np.log(self.S / self.K) + (self.r - self.q + self.sigma**2 / 2) * self.T) / (self.sigma * np.sqrt(self.T))\n",
    "        d2 = d1 - self.sigma * np.sqrt(self.T)\n",
    "        \n",
    "        return self.K * np.exp(-self.r * self.T) * N(-d2) - self.S * np.exp(-self.q * self.T) * N(-d1)\n",
    "\n",
    "    def DELTA_CALL(self):\n",
    "        \n",
    "        d1 = (np.log(self.S / self.K) + (self.r - self.q + self.sigma**2 / 2) * self.T) / (self.sigma * np.sqrt(self.T))\n",
    "        delta = np.exp(-self.q * self.T) * N(d1)\n",
    "        \n",
    "        return delta\n",
    "    \n",
    "    def DELTA_PUT(self):\n",
    "        \n",
    "        d1 = (np.log(self.S / self.K) + (self.r - self.q + self.sigma**2 / 2) * self.T) / (self.sigma * np.sqrt(self.T))\n",
    "        delta = np.exp(-self.q * self.T) * (N(d1) - 1)\n",
    "        \n",
    "        return delta\n",
    "    \n",
    "    def GAMMA_CALL(self):\n",
    "        \n",
    "        d1 = (np.log(self.S / self.K) + (self.r - self.q + self.sigma**2 / 2) * self.T) / (self.sigma * np.sqrt(self.T))\n",
    "        gamma = np.exp(-(d1**2 / 2 + self.q * self.T)) / (self.S * self.sigma * np.sqrt(2 * np.pi * self.T))\n",
    "        \n",
    "        return gamma\n",
    "    \n",
    "    def GAMMA_CALL(self):\n",
    "        \n",
    "        d1 = (np.log(self.S / self.K) + (self.r - self.q + self.sigma**2 / 2) * self.T) / (self.sigma * np.sqrt(self.T))\n",
    "        gamma = np.exp(-(d1**2 / 2 + self.q * self.T)) / (self.S * self.sigma * np.sqrt(2 * np.pi * self.T))\n",
    "        \n",
    "        return gamma"
   ]
  },
  {
   "cell_type": "code",
   "execution_count": 95,
   "metadata": {},
   "outputs": [
    {
     "data": {
      "text/plain": [
       "(10.450583572185565, 0.6368306511756191, 0.0187620173458469)"
      ]
     },
     "execution_count": 95,
     "metadata": {},
     "output_type": "execute_result"
    }
   ],
   "source": [
    "call_option_1 = OptionsPricing(S=100, K=100, T=1, r=0.05, q=0, sigma=0.2)\n",
    "\n",
    "call_option_1.PRICE_CALL(), call_option_1.DELTA_CALL(), call_option_1.GAMMA_CALL()"
   ]
  },
  {
   "cell_type": "markdown",
   "metadata": {},
   "source": [
    "**2. Теперь создадим файл с разрешением `.py` и положим туда написанный класс. ОБЯЗАТЕЛЬНО в этот же документ нужно положить библиотеки, которыми вы ползуетесь внутри этого класса.**\n",
    "\n",
    "Файл приложу."
   ]
  },
  {
   "cell_type": "markdown",
   "metadata": {},
   "source": [
    "**3. Попробуем импортировать нашу собственноручно написанную библиотеку.**\n",
    "\n",
    "Можно испортировать весь файл целиком, но тогда придется при обращении к классу прописывать следующее: `FileName.ClassName()`. Удобнее из файла `FileName` импортировать модуль `ClassName`."
   ]
  },
  {
   "cell_type": "code",
   "execution_count": 96,
   "metadata": {},
   "outputs": [],
   "source": [
    "from OptionsPricing import OptionsPricing as OP"
   ]
  },
  {
   "cell_type": "code",
   "execution_count": 97,
   "metadata": {},
   "outputs": [
    {
     "data": {
      "text/plain": [
       "(10.450583572185565, 0.6368306511756191, 0.0187620173458469)"
      ]
     },
     "execution_count": 97,
     "metadata": {},
     "output_type": "execute_result"
    }
   ],
   "source": [
    "call_option_1 = OP(S=100, K=100, T=1, r=0.05, q=0, sigma=0.2)\n",
    "\n",
    "call_option_1.PRICE_CALL(), call_option_1.DELTA_CALL(), call_option_1.GAMMA_CALL()"
   ]
  },
  {
   "cell_type": "markdown",
   "metadata": {},
   "source": [
    "Вау! Мы написали собственный модуль и теперь можем им пользоваться, при этом не захламляя код!!!\n",
    "\n",
    "Здесь мы импортировали этот модуль из той директории, в которой лежит ноутбук, в котором мы работаем. Однако мы также можем выбирать то, из какой директории испортировать файл при помощи библиотеки `sys`, которая используется для определения пути до того или иного файла."
   ]
  },
  {
   "cell_type": "code",
   "execution_count": 98,
   "metadata": {},
   "outputs": [],
   "source": [
    "import sys\n",
    "\n",
    "path = '/Users/egorsivykh/Documents/BS' # Местоположение файла на диске\n",
    "sys.path.append(path)\n",
    "\n",
    "from OptionsPricing import OptionsPricing as OP2"
   ]
  },
  {
   "cell_type": "code",
   "execution_count": 99,
   "metadata": {},
   "outputs": [
    {
     "data": {
      "text/plain": [
       "(10.450583572185565, 0.6368306511756191, 0.0187620173458469)"
      ]
     },
     "execution_count": 99,
     "metadata": {},
     "output_type": "execute_result"
    }
   ],
   "source": [
    "call_option_1 = OP2(S=100, K=100, T=1, r=0.05, q=0, sigma=0.2)\n",
    "\n",
    "call_option_1.PRICE_CALL(), call_option_1.DELTA_CALL(), call_option_1.GAMMA_CALL()"
   ]
  },
  {
   "cell_type": "markdown",
   "metadata": {},
   "source": [
    "Пользуйтесь :)"
   ]
  }
 ],
 "metadata": {
  "colab": {
   "collapsed_sections": [],
   "name": "Python_Section_2.ipynb",
   "provenance": []
  },
  "kernelspec": {
   "display_name": "Python 3 (ipykernel)",
   "language": "python",
   "name": "python3"
  },
  "language_info": {
   "codemirror_mode": {
    "name": "ipython",
    "version": 3
   },
   "file_extension": ".py",
   "mimetype": "text/x-python",
   "name": "python",
   "nbconvert_exporter": "python",
   "pygments_lexer": "ipython3",
   "version": "3.11.4"
  }
 },
 "nbformat": 4,
 "nbformat_minor": 4
}
