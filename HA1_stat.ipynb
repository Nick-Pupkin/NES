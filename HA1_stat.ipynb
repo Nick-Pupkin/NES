{
 "cells": [
  {
   "cell_type": "markdown",
   "id": "c33de948-a5d2-4871-9bf4-e905d3449343",
   "metadata": {
    "tags": []
   },
   "source": [
    "## Task 2.a"
   ]
  },
  {
   "cell_type": "code",
   "execution_count": 1,
   "id": "2d51a1be-62d4-472e-ab6d-71c4df5e860e",
   "metadata": {
    "tags": []
   },
   "outputs": [
    {
     "name": "stdout",
     "output_type": "stream",
     "text": [
      "Sample Mean: 712.1\n",
      "Margin of Error: 2.2735582220664625\n",
      "Confidence Interval: (709.8264417779336, 714.3735582220664)\n"
     ]
    }
   ],
   "source": [
    "import numpy as np\n",
    "from scipy import stats\n",
    "import pandas as pd\n",
    "\n",
    "# Calculate mean and standard deviation\n",
    "sample_mean = 712.1\n",
    "sample_std = 23.2  # ddof=1 for sample standard deviation\n",
    "\n",
    "# Set confidence level and calculate margin of error\n",
    "confidence_level = 0.95\n",
    "alpha = 1 - confidence_level\n",
    "z_critical = stats.norm.ppf(1 - alpha / 2)\n",
    "margin_of_error = z_critical * (sample_std / np.sqrt(400))\n",
    "\n",
    "# Calculate confidence interval\n",
    "confidence_interval = (sample_mean - margin_of_error, sample_mean + margin_of_error)\n",
    "\n",
    "print(\"Sample Mean:\", sample_mean)\n",
    "print(\"Margin of Error:\", margin_of_error)\n",
    "print(\"Confidence Interval:\", confidence_interval)"
   ]
  },
  {
   "cell_type": "markdown",
   "id": "86070e40-bbf2-4f1a-95d6-9e1fec3a851a",
   "metadata": {},
   "source": [
    "## Task 2.b"
   ]
  },
  {
   "cell_type": "code",
   "execution_count": 2,
   "id": "9a9fddce-06b5-45da-884c-59b276306ba3",
   "metadata": {
    "tags": []
   },
   "outputs": [
    {
     "name": "stdout",
     "output_type": "stream",
     "text": [
      "Sample Mean: 10.899999999999977\n",
      "Margin of Error: 4.665581637608406\n",
      "Confidence Interval: (6.234418362391572, 15.565581637608382)\n"
     ]
    }
   ],
   "source": [
    "# Calculate mean and standard deviation\n",
    "sample_mean = 721.8-710.9\n",
    "sample_std_1 = 24.4 \n",
    "sample_std_2 = 20.6\n",
    "n1 = 150\n",
    "n2=250\n",
    "\n",
    "# Set confidence level and calculate margin of error\n",
    "confidence_level = 0.95\n",
    "alpha = 1 - confidence_level\n",
    "z_critical = stats.norm.ppf(1 - alpha / 2)\n",
    "margin_of_error = z_critical * (np.sqrt(sample_std_1**2/n1 + sample_std_2**2/n2))\n",
    "\n",
    "# Calculate confidence interval\n",
    "confidence_interval = (sample_mean - margin_of_error, sample_mean + margin_of_error)\n",
    "\n",
    "print(\"Sample Mean:\", sample_mean)\n",
    "print(\"Margin of Error:\", margin_of_error)\n",
    "print(\"Confidence Interval:\", confidence_interval)"
   ]
  },
  {
   "cell_type": "markdown",
   "id": "a1163127-9abb-4070-b3a6-ccbc7b09a0b1",
   "metadata": {},
   "source": [
    "## Task 4"
   ]
  },
  {
   "cell_type": "code",
   "execution_count": 3,
   "id": "6c539b3a-063a-4586-b47a-a6d7e1ecabb8",
   "metadata": {
    "tags": []
   },
   "outputs": [
    {
     "name": "stderr",
     "output_type": "stream",
     "text": [
      "C:\\Users\\Popov\\AppData\\Local\\Temp\\ipykernel_8972\\1963651850.py:8: FutureWarning: In a future version of pandas all arguments of read_table except for the argument 'filepath_or_buffer' will be keyword-only.\n",
      "  df = pd.read_table(file_path, delimiter)\n",
      "C:\\Users\\Popov\\AppData\\Local\\Temp\\ipykernel_8972\\1963651850.py:13: FutureWarning: The frame.append method is deprecated and will be removed from pandas in a future version. Use pandas.concat instead.\n",
      "  df = df.append(new_row, ignore_index=True)\n"
     ]
    },
    {
     "data": {
      "text/html": [
       "<div>\n",
       "<style scoped>\n",
       "    .dataframe tbody tr th:only-of-type {\n",
       "        vertical-align: middle;\n",
       "    }\n",
       "\n",
       "    .dataframe tbody tr th {\n",
       "        vertical-align: top;\n",
       "    }\n",
       "\n",
       "    .dataframe thead th {\n",
       "        text-align: right;\n",
       "    }\n",
       "</style>\n",
       "<table border=\"1\" class=\"dataframe\">\n",
       "  <thead>\n",
       "    <tr style=\"text-align: right;\">\n",
       "      <th></th>\n",
       "      <th>values</th>\n",
       "    </tr>\n",
       "  </thead>\n",
       "  <tbody>\n",
       "    <tr>\n",
       "      <th>0</th>\n",
       "      <td>0.262148</td>\n",
       "    </tr>\n",
       "    <tr>\n",
       "      <th>1</th>\n",
       "      <td>1.289934</td>\n",
       "    </tr>\n",
       "    <tr>\n",
       "      <th>2</th>\n",
       "      <td>0.670647</td>\n",
       "    </tr>\n",
       "    <tr>\n",
       "      <th>3</th>\n",
       "      <td>-0.581023</td>\n",
       "    </tr>\n",
       "    <tr>\n",
       "      <th>4</th>\n",
       "      <td>1.254245</td>\n",
       "    </tr>\n",
       "    <tr>\n",
       "      <th>5</th>\n",
       "      <td>0.396146</td>\n",
       "    </tr>\n",
       "    <tr>\n",
       "      <th>6</th>\n",
       "      <td>0.689000</td>\n",
       "    </tr>\n",
       "    <tr>\n",
       "      <th>7</th>\n",
       "      <td>1.357607</td>\n",
       "    </tr>\n",
       "    <tr>\n",
       "      <th>8</th>\n",
       "      <td>0.769617</td>\n",
       "    </tr>\n",
       "    <tr>\n",
       "      <th>9</th>\n",
       "      <td>0.490409</td>\n",
       "    </tr>\n",
       "    <tr>\n",
       "      <th>10</th>\n",
       "      <td>0.252373</td>\n",
       "    </tr>\n",
       "    <tr>\n",
       "      <th>11</th>\n",
       "      <td>2.486082</td>\n",
       "    </tr>\n",
       "    <tr>\n",
       "      <th>12</th>\n",
       "      <td>0.460907</td>\n",
       "    </tr>\n",
       "    <tr>\n",
       "      <th>13</th>\n",
       "      <td>1.540601</td>\n",
       "    </tr>\n",
       "    <tr>\n",
       "      <th>14</th>\n",
       "      <td>0.082013</td>\n",
       "    </tr>\n",
       "    <tr>\n",
       "      <th>15</th>\n",
       "      <td>2.028932</td>\n",
       "    </tr>\n",
       "    <tr>\n",
       "      <th>16</th>\n",
       "      <td>1.604450</td>\n",
       "    </tr>\n",
       "    <tr>\n",
       "      <th>17</th>\n",
       "      <td>2.177173</td>\n",
       "    </tr>\n",
       "    <tr>\n",
       "      <th>18</th>\n",
       "      <td>-0.312903</td>\n",
       "    </tr>\n",
       "    <tr>\n",
       "      <th>19</th>\n",
       "      <td>0.032184</td>\n",
       "    </tr>\n",
       "    <tr>\n",
       "      <th>20</th>\n",
       "      <td>0.798745</td>\n",
       "    </tr>\n",
       "    <tr>\n",
       "      <th>21</th>\n",
       "      <td>0.175037</td>\n",
       "    </tr>\n",
       "    <tr>\n",
       "      <th>22</th>\n",
       "      <td>0.966991</td>\n",
       "    </tr>\n",
       "    <tr>\n",
       "      <th>23</th>\n",
       "      <td>-0.705678</td>\n",
       "    </tr>\n",
       "    <tr>\n",
       "      <th>24</th>\n",
       "      <td>-0.542593</td>\n",
       "    </tr>\n",
       "    <tr>\n",
       "      <th>25</th>\n",
       "      <td>-0.513138</td>\n",
       "    </tr>\n",
       "    <tr>\n",
       "      <th>26</th>\n",
       "      <td>2.010124</td>\n",
       "    </tr>\n",
       "    <tr>\n",
       "      <th>27</th>\n",
       "      <td>0.972881</td>\n",
       "    </tr>\n",
       "    <tr>\n",
       "      <th>28</th>\n",
       "      <td>0.038114</td>\n",
       "    </tr>\n",
       "    <tr>\n",
       "      <th>29</th>\n",
       "      <td>0.019968</td>\n",
       "    </tr>\n",
       "  </tbody>\n",
       "</table>\n",
       "</div>"
      ],
      "text/plain": [
       "      values\n",
       "0   0.262148\n",
       "1   1.289934\n",
       "2   0.670647\n",
       "3  -0.581023\n",
       "4   1.254245\n",
       "5   0.396146\n",
       "6   0.689000\n",
       "7   1.357607\n",
       "8   0.769617\n",
       "9   0.490409\n",
       "10  0.252373\n",
       "11  2.486082\n",
       "12  0.460907\n",
       "13  1.540601\n",
       "14  0.082013\n",
       "15  2.028932\n",
       "16  1.604450\n",
       "17  2.177173\n",
       "18 -0.312903\n",
       "19  0.032184\n",
       "20  0.798745\n",
       "21  0.175037\n",
       "22  0.966991\n",
       "23 -0.705678\n",
       "24 -0.542593\n",
       "25 -0.513138\n",
       "26  2.010124\n",
       "27  0.972881\n",
       "28  0.038114\n",
       "29  0.019968"
      ]
     },
     "execution_count": 3,
     "metadata": {},
     "output_type": "execute_result"
    }
   ],
   "source": [
    "# Replace 'your_file.dat' with the path to your DAT file\n",
    "file_path = 'C:/Users/Popov/Documents/NES_studies/Python/Statistics/HA1/ps1.dat'\n",
    "\n",
    "# Specify the delimiter used in your DAT file, for example, '\\t' for tab-delimited\n",
    "delimiter = '\\t'\n",
    "\n",
    "# Read the DAT file into a pandas DataFrame\n",
    "df = pd.read_table(file_path, delimiter)\n",
    "\n",
    "# Display the DataFrame\n",
    "df.rename(columns={'0.019968362039041843': 'values'}, inplace=True)\n",
    "new_row = {'values': 0.019968362039041843}\n",
    "df = df.append(new_row, ignore_index=True)\n",
    "df"
   ]
  },
  {
   "cell_type": "markdown",
   "id": "4371eba8-9e59-4305-8f7e-2ecf074b7b7c",
   "metadata": {},
   "source": [
    "### Exact confidence interval"
   ]
  },
  {
   "cell_type": "markdown",
   "id": "5812fe8b-3ac5-4c37-b5b2-03134ad4509a",
   "metadata": {},
   "source": [
    "Using Student distrubution."
   ]
  },
  {
   "cell_type": "code",
   "execution_count": 4,
   "id": "1b83b478-29b2-4843-a706-999c59cddfaa",
   "metadata": {},
   "outputs": [
    {
     "name": "stdout",
     "output_type": "stream",
     "text": [
      "Confidence Interval: (0.3482187550049923, 0.9965141996286013)\n",
      "Sample mean: 0.6723664773167968\n",
      "Sample standard deviation: 0.8680835433665997\n",
      "Number of observations: 30\n",
      "T-stat (0.025): 2.045229642132703\n",
      "T-stat (0.025): -2.045229642132703\n"
     ]
    }
   ],
   "source": [
    "sample_mean = df['values'].mean()\n",
    "sample_std = st = df['values'].std()\n",
    "\n",
    "# Set the confidence level and degrees of freedom\n",
    "confidence_level = 0.95\n",
    "alpha = 1 - confidence_level\n",
    "degrees_of_freedom = len(df['values']) - 1\n",
    "\n",
    "# Calculate the margin of error\n",
    "margin_of_error = stats.t.ppf((1 - alpha / 2), degrees_of_freedom) * (sample_std / np.sqrt(len(df['values'])))\n",
    "\n",
    "# Calculate the confidence interval\n",
    "confidence_interval = (sample_mean - margin_of_error, sample_mean + margin_of_error)\n",
    "\n",
    "# Print or use the confidence interval\n",
    "print(f\"Confidence Interval: {confidence_interval}\")\n",
    "print(f\"Sample mean: {sample_mean}\")\n",
    "print(f\"Sample standard deviation: {sample_std}\")\n",
    "print(f\"Number of observations: {len(df['values'])}\")\n",
    "print(f\"T-stat (0.025): { stats.t.ppf((1 - alpha / 2), degrees_of_freedom) }\")\n",
    "print(f\"T-stat (0.025): { -stats.t.ppf((1 - alpha / 2), degrees_of_freedom) }\")"
   ]
  },
  {
   "cell_type": "markdown",
   "id": "8bedb74f-ef28-4878-80c9-9bb03c1f85ee",
   "metadata": {},
   "source": [
    "### Approximate confidence interval"
   ]
  },
  {
   "cell_type": "markdown",
   "id": "00b5c5a0-b04b-4f75-8cd7-be4fe036474a",
   "metadata": {},
   "source": [
    "Using standard normal distribution."
   ]
  },
  {
   "cell_type": "code",
   "execution_count": 5,
   "id": "900fd33c-ca32-42ab-bdd8-7bfc5abda8fc",
   "metadata": {
    "tags": []
   },
   "outputs": [
    {
     "name": "stdout",
     "output_type": "stream",
     "text": [
      "Confidence Interval: (0.36173247890704496, 0.9830004757265486)\n",
      "Sample mean: 0.6723664773167968\n",
      "Sample standard deviation: 0.8680835433665997\n",
      "Number of observations: 30\n",
      "T-stat (0.025): 1.959963984540054\n",
      "T-stat (0.025): -1.959963984540054\n"
     ]
    }
   ],
   "source": [
    "sample_mean = df['values'].mean()\n",
    "sample_std = st = df['values'].std()\n",
    "\n",
    "# Set the confidence level and degrees of freedom\n",
    "confidence_level = 0.95\n",
    "alpha = 1 - confidence_level\n",
    "degrees_of_freedom = len(df['values']) - 1\n",
    "\n",
    "# Calculate the margin of error\n",
    "margin_of_error = stats.norm.ppf(1 - alpha / 2) * (sample_std / np.sqrt(len(df['values'])))\n",
    "\n",
    "# Calculate the confidence interval\n",
    "confidence_interval = (sample_mean - margin_of_error, sample_mean + margin_of_error)\n",
    "\n",
    "# Print or use the confidence interval\n",
    "print(f\"Confidence Interval: {confidence_interval}\")\n",
    "print(f\"Sample mean: {sample_mean}\")\n",
    "print(f\"Sample standard deviation: {sample_std}\")\n",
    "print(f\"Number of observations: {len(df['values'])}\")\n",
    "print(f\"T-stat (0.025): { stats.norm.ppf(1 - alpha / 2) }\")\n",
    "print(f\"T-stat (0.025): { -stats.norm.ppf(1 - alpha / 2) }\")"
   ]
  },
  {
   "cell_type": "markdown",
   "id": "d274241d-c425-481e-8a5f-3eb37957b8a4",
   "metadata": {},
   "source": [
    "## Task 5.a"
   ]
  },
  {
   "cell_type": "markdown",
   "id": "4bcb220d-1763-411a-84ae-8c9f57307249",
   "metadata": {},
   "source": [
    "### For S&P-500"
   ]
  },
  {
   "cell_type": "code",
   "execution_count": 6,
   "id": "9b41beaa-df0e-496b-890f-2b247d105f1b",
   "metadata": {
    "tags": []
   },
   "outputs": [
    {
     "name": "stdout",
     "output_type": "stream",
     "text": [
      "[*********************100%%**********************]  1 of 1 completed\n"
     ]
    },
    {
     "data": {
      "text/html": [
       "<div>\n",
       "<style scoped>\n",
       "    .dataframe tbody tr th:only-of-type {\n",
       "        vertical-align: middle;\n",
       "    }\n",
       "\n",
       "    .dataframe tbody tr th {\n",
       "        vertical-align: top;\n",
       "    }\n",
       "\n",
       "    .dataframe thead th {\n",
       "        text-align: right;\n",
       "    }\n",
       "</style>\n",
       "<table border=\"1\" class=\"dataframe\">\n",
       "  <thead>\n",
       "    <tr style=\"text-align: right;\">\n",
       "      <th></th>\n",
       "      <th>Open</th>\n",
       "      <th>High</th>\n",
       "      <th>Low</th>\n",
       "      <th>Close</th>\n",
       "      <th>Adj Close</th>\n",
       "      <th>Volume</th>\n",
       "    </tr>\n",
       "    <tr>\n",
       "      <th>Date</th>\n",
       "      <th></th>\n",
       "      <th></th>\n",
       "      <th></th>\n",
       "      <th></th>\n",
       "      <th></th>\n",
       "      <th></th>\n",
       "    </tr>\n",
       "  </thead>\n",
       "  <tbody>\n",
       "    <tr>\n",
       "      <th>2017-05-24</th>\n",
       "      <td>2401.409912</td>\n",
       "      <td>2405.580078</td>\n",
       "      <td>2397.989990</td>\n",
       "      <td>2404.389893</td>\n",
       "      <td>2404.389893</td>\n",
       "      <td>3389240000</td>\n",
       "    </tr>\n",
       "    <tr>\n",
       "      <th>2017-05-25</th>\n",
       "      <td>2409.540039</td>\n",
       "      <td>2418.709961</td>\n",
       "      <td>2408.010010</td>\n",
       "      <td>2415.070068</td>\n",
       "      <td>2415.070068</td>\n",
       "      <td>3538210000</td>\n",
       "    </tr>\n",
       "    <tr>\n",
       "      <th>2017-05-26</th>\n",
       "      <td>2414.500000</td>\n",
       "      <td>2416.679932</td>\n",
       "      <td>2412.199951</td>\n",
       "      <td>2415.820068</td>\n",
       "      <td>2415.820068</td>\n",
       "      <td>2806930000</td>\n",
       "    </tr>\n",
       "    <tr>\n",
       "      <th>2017-05-30</th>\n",
       "      <td>2411.669922</td>\n",
       "      <td>2415.260010</td>\n",
       "      <td>2409.429932</td>\n",
       "      <td>2412.909912</td>\n",
       "      <td>2412.909912</td>\n",
       "      <td>3205860000</td>\n",
       "    </tr>\n",
       "    <tr>\n",
       "      <th>2017-05-31</th>\n",
       "      <td>2415.629883</td>\n",
       "      <td>2415.989990</td>\n",
       "      <td>2403.590088</td>\n",
       "      <td>2411.800049</td>\n",
       "      <td>2411.800049</td>\n",
       "      <td>4518040000</td>\n",
       "    </tr>\n",
       "  </tbody>\n",
       "</table>\n",
       "</div>"
      ],
      "text/plain": [
       "                   Open         High          Low        Close    Adj Close  \\\n",
       "Date                                                                          \n",
       "2017-05-24  2401.409912  2405.580078  2397.989990  2404.389893  2404.389893   \n",
       "2017-05-25  2409.540039  2418.709961  2408.010010  2415.070068  2415.070068   \n",
       "2017-05-26  2414.500000  2416.679932  2412.199951  2415.820068  2415.820068   \n",
       "2017-05-30  2411.669922  2415.260010  2409.429932  2412.909912  2412.909912   \n",
       "2017-05-31  2415.629883  2415.989990  2403.590088  2411.800049  2411.800049   \n",
       "\n",
       "                Volume  \n",
       "Date                    \n",
       "2017-05-24  3389240000  \n",
       "2017-05-25  3538210000  \n",
       "2017-05-26  2806930000  \n",
       "2017-05-30  3205860000  \n",
       "2017-05-31  4518040000  "
      ]
     },
     "execution_count": 6,
     "metadata": {},
     "output_type": "execute_result"
    }
   ],
   "source": [
    "# pip install yfinance\n",
    "import yfinance as yf\n",
    "# Set the ticker symbol for S&P 500\n",
    "ticker_symbol = \"^GSPC\"\n",
    "\n",
    "# Set the start and end dates for the data\n",
    "start_date = \"2017-05-24\"\n",
    "end_date = \"2022-05-24\"\n",
    "\n",
    "# Download the data\n",
    "sp500_data = yf.download(ticker_symbol, start=start_date, end=end_date)\n",
    "sp500_data = sp500_data.sort_values(by='Date')\n",
    "\n",
    "# Display the downloaded data\n",
    "sp500_data.head()"
   ]
  },
  {
   "cell_type": "code",
   "execution_count": 7,
   "id": "e3f04cb1-24a1-4be0-a28f-1992b0439579",
   "metadata": {
    "tags": []
   },
   "outputs": [],
   "source": [
    "sp500_prices = sp500_data['Close'] # we need it"
   ]
  },
  {
   "cell_type": "markdown",
   "id": "902e7f57-c648-4587-b6e4-394b045d460e",
   "metadata": {},
   "source": [
    "### For sber"
   ]
  },
  {
   "cell_type": "code",
   "execution_count": 8,
   "id": "2490dd61-07b9-419b-9873-60c9bd457474",
   "metadata": {
    "tags": []
   },
   "outputs": [
    {
     "name": "stdout",
     "output_type": "stream",
     "text": [
      "[*********************100%%**********************]  1 of 1 completed\n"
     ]
    },
    {
     "data": {
      "text/html": [
       "<div>\n",
       "<style scoped>\n",
       "    .dataframe tbody tr th:only-of-type {\n",
       "        vertical-align: middle;\n",
       "    }\n",
       "\n",
       "    .dataframe tbody tr th {\n",
       "        vertical-align: top;\n",
       "    }\n",
       "\n",
       "    .dataframe thead th {\n",
       "        text-align: right;\n",
       "    }\n",
       "</style>\n",
       "<table border=\"1\" class=\"dataframe\">\n",
       "  <thead>\n",
       "    <tr style=\"text-align: right;\">\n",
       "      <th></th>\n",
       "      <th>Open</th>\n",
       "      <th>High</th>\n",
       "      <th>Low</th>\n",
       "      <th>Close</th>\n",
       "      <th>Adj Close</th>\n",
       "      <th>Volume</th>\n",
       "    </tr>\n",
       "    <tr>\n",
       "      <th>Date</th>\n",
       "      <th></th>\n",
       "      <th></th>\n",
       "      <th></th>\n",
       "      <th></th>\n",
       "      <th></th>\n",
       "      <th></th>\n",
       "    </tr>\n",
       "  </thead>\n",
       "  <tbody>\n",
       "    <tr>\n",
       "      <th>2017-05-24</th>\n",
       "      <td>166.800003</td>\n",
       "      <td>168.479996</td>\n",
       "      <td>162.509995</td>\n",
       "      <td>165.699997</td>\n",
       "      <td>99.818581</td>\n",
       "      <td>46892442</td>\n",
       "    </tr>\n",
       "    <tr>\n",
       "      <th>2017-05-25</th>\n",
       "      <td>166.500000</td>\n",
       "      <td>166.949997</td>\n",
       "      <td>163.529999</td>\n",
       "      <td>164.050003</td>\n",
       "      <td>98.824623</td>\n",
       "      <td>34373452</td>\n",
       "    </tr>\n",
       "    <tr>\n",
       "      <th>2017-05-26</th>\n",
       "      <td>163.800003</td>\n",
       "      <td>163.800003</td>\n",
       "      <td>160.619995</td>\n",
       "      <td>160.699997</td>\n",
       "      <td>96.806557</td>\n",
       "      <td>46063128</td>\n",
       "    </tr>\n",
       "    <tr>\n",
       "      <th>2017-05-29</th>\n",
       "      <td>161.000000</td>\n",
       "      <td>164.220001</td>\n",
       "      <td>160.690002</td>\n",
       "      <td>163.899994</td>\n",
       "      <td>98.734268</td>\n",
       "      <td>28764933</td>\n",
       "    </tr>\n",
       "    <tr>\n",
       "      <th>2017-05-30</th>\n",
       "      <td>163.149994</td>\n",
       "      <td>163.449997</td>\n",
       "      <td>161.169998</td>\n",
       "      <td>161.639999</td>\n",
       "      <td>97.372826</td>\n",
       "      <td>22672890</td>\n",
       "    </tr>\n",
       "  </tbody>\n",
       "</table>\n",
       "</div>"
      ],
      "text/plain": [
       "                  Open        High         Low       Close  Adj Close  \\\n",
       "Date                                                                    \n",
       "2017-05-24  166.800003  168.479996  162.509995  165.699997  99.818581   \n",
       "2017-05-25  166.500000  166.949997  163.529999  164.050003  98.824623   \n",
       "2017-05-26  163.800003  163.800003  160.619995  160.699997  96.806557   \n",
       "2017-05-29  161.000000  164.220001  160.690002  163.899994  98.734268   \n",
       "2017-05-30  163.149994  163.449997  161.169998  161.639999  97.372826   \n",
       "\n",
       "              Volume  \n",
       "Date                  \n",
       "2017-05-24  46892442  \n",
       "2017-05-25  34373452  \n",
       "2017-05-26  46063128  \n",
       "2017-05-29  28764933  \n",
       "2017-05-30  22672890  "
      ]
     },
     "execution_count": 8,
     "metadata": {},
     "output_type": "execute_result"
    }
   ],
   "source": [
    "# Set the ticker symbol for Sberbank\n",
    "ticker_symbol = \"SBER.ME\"  # Assuming Moscow Exchange (ME) for Sberbank\n",
    "\n",
    "# Set the start and end dates for the data\n",
    "start_date = \"2017-05-24\"\n",
    "end_date = \"2022-05-24\"\n",
    "\n",
    "# Download the data\n",
    "sber_data = yf.download(ticker_symbol, start=start_date, end=end_date)\n",
    "sber_data = sber_data.sort_values(by='Date')\n",
    "\n",
    "# Display the downloaded data\n",
    "sber_data.head()"
   ]
  },
  {
   "cell_type": "code",
   "execution_count": 9,
   "id": "5df7342c-7b05-43e7-a5f2-e218c7831afa",
   "metadata": {},
   "outputs": [],
   "source": [
    "sber_prices = sber_data['Close'] # we need it\n",
    "\n",
    "# to see the last non-nan value - it's 2022-05-24 - count 5 years from here\n",
    "\n",
    "# last_non_null_index_s = sber_prices.last_valid_index()\n",
    "# last_non_null_index_s"
   ]
  },
  {
   "cell_type": "markdown",
   "id": "0525e41e-bc17-4df9-8353-472e28b707ed",
   "metadata": {},
   "source": [
    "### For Aeroflot"
   ]
  },
  {
   "cell_type": "code",
   "execution_count": 10,
   "id": "4551bf08-09ac-4b8f-91a4-f11f749ce1c3",
   "metadata": {
    "tags": []
   },
   "outputs": [
    {
     "name": "stdout",
     "output_type": "stream",
     "text": [
      "[*********************100%%**********************]  1 of 1 completed\n"
     ]
    },
    {
     "data": {
      "text/html": [
       "<div>\n",
       "<style scoped>\n",
       "    .dataframe tbody tr th:only-of-type {\n",
       "        vertical-align: middle;\n",
       "    }\n",
       "\n",
       "    .dataframe tbody tr th {\n",
       "        vertical-align: top;\n",
       "    }\n",
       "\n",
       "    .dataframe thead th {\n",
       "        text-align: right;\n",
       "    }\n",
       "</style>\n",
       "<table border=\"1\" class=\"dataframe\">\n",
       "  <thead>\n",
       "    <tr style=\"text-align: right;\">\n",
       "      <th></th>\n",
       "      <th>Open</th>\n",
       "      <th>High</th>\n",
       "      <th>Low</th>\n",
       "      <th>Close</th>\n",
       "      <th>Adj Close</th>\n",
       "      <th>Volume</th>\n",
       "    </tr>\n",
       "    <tr>\n",
       "      <th>Date</th>\n",
       "      <th></th>\n",
       "      <th></th>\n",
       "      <th></th>\n",
       "      <th></th>\n",
       "      <th></th>\n",
       "      <th></th>\n",
       "    </tr>\n",
       "  </thead>\n",
       "  <tbody>\n",
       "    <tr>\n",
       "      <th>2017-05-24</th>\n",
       "      <td>194.949997</td>\n",
       "      <td>196.100006</td>\n",
       "      <td>192.199997</td>\n",
       "      <td>193.800003</td>\n",
       "      <td>164.449722</td>\n",
       "      <td>2198818</td>\n",
       "    </tr>\n",
       "    <tr>\n",
       "      <th>2017-05-25</th>\n",
       "      <td>194.050003</td>\n",
       "      <td>196.199997</td>\n",
       "      <td>193.000000</td>\n",
       "      <td>195.149994</td>\n",
       "      <td>165.595276</td>\n",
       "      <td>1646203</td>\n",
       "    </tr>\n",
       "    <tr>\n",
       "      <th>2017-05-26</th>\n",
       "      <td>195.850006</td>\n",
       "      <td>197.100006</td>\n",
       "      <td>189.399994</td>\n",
       "      <td>190.100006</td>\n",
       "      <td>161.310074</td>\n",
       "      <td>4159701</td>\n",
       "    </tr>\n",
       "    <tr>\n",
       "      <th>2017-05-29</th>\n",
       "      <td>190.050003</td>\n",
       "      <td>190.050003</td>\n",
       "      <td>184.449997</td>\n",
       "      <td>189.500000</td>\n",
       "      <td>160.800949</td>\n",
       "      <td>2868101</td>\n",
       "    </tr>\n",
       "    <tr>\n",
       "      <th>2017-05-30</th>\n",
       "      <td>189.850006</td>\n",
       "      <td>193.300003</td>\n",
       "      <td>187.000000</td>\n",
       "      <td>191.050003</td>\n",
       "      <td>162.116211</td>\n",
       "      <td>2479802</td>\n",
       "    </tr>\n",
       "  </tbody>\n",
       "</table>\n",
       "</div>"
      ],
      "text/plain": [
       "                  Open        High         Low       Close   Adj Close  \\\n",
       "Date                                                                     \n",
       "2017-05-24  194.949997  196.100006  192.199997  193.800003  164.449722   \n",
       "2017-05-25  194.050003  196.199997  193.000000  195.149994  165.595276   \n",
       "2017-05-26  195.850006  197.100006  189.399994  190.100006  161.310074   \n",
       "2017-05-29  190.050003  190.050003  184.449997  189.500000  160.800949   \n",
       "2017-05-30  189.850006  193.300003  187.000000  191.050003  162.116211   \n",
       "\n",
       "             Volume  \n",
       "Date                 \n",
       "2017-05-24  2198818  \n",
       "2017-05-25  1646203  \n",
       "2017-05-26  4159701  \n",
       "2017-05-29  2868101  \n",
       "2017-05-30  2479802  "
      ]
     },
     "execution_count": 10,
     "metadata": {},
     "output_type": "execute_result"
    }
   ],
   "source": [
    "# Set the ticker symbol for Aeroflot\n",
    "ticker_symbol = \"AFLT.ME\"\n",
    "\n",
    "# Set the start and end dates for the data\n",
    "start_date = \"2017-05-24\"\n",
    "end_date = \"2022-05-24\"\n",
    "\n",
    "# Download the data\n",
    "aeroflot_data = yf.download(ticker_symbol, start=start_date, end=end_date)\n",
    "aeroflot_data = aeroflot_data.sort_values(by='Date')\n",
    "# Display the downloaded data\n",
    "aeroflot_data.head()"
   ]
  },
  {
   "cell_type": "code",
   "execution_count": 11,
   "id": "64d1ebd1-dd02-4f17-9765-5a6fa04642a6",
   "metadata": {
    "tags": []
   },
   "outputs": [
    {
     "data": {
      "text/plain": [
       "Timestamp('2022-05-23 00:00:00')"
      ]
     },
     "execution_count": 11,
     "metadata": {},
     "output_type": "execute_result"
    }
   ],
   "source": [
    "aeroflot_prices = aeroflot_data['Close'] # we need it\n",
    "\n",
    "# to see the last non-nan value - it's 2022-05-24 - count 5 years from here (same as before)\n",
    "\n",
    "last_non_null_index_a = aeroflot_prices.last_valid_index()\n",
    "last_non_null_index_a"
   ]
  },
  {
   "cell_type": "markdown",
   "id": "0940ec5c-2d28-445c-b99b-41d0e1b3da6e",
   "metadata": {},
   "source": [
    "### Exchange rate"
   ]
  },
  {
   "cell_type": "code",
   "execution_count": 12,
   "id": "b7564c44-f745-40dc-b0df-35e3d90a45cb",
   "metadata": {
    "tags": []
   },
   "outputs": [
    {
     "name": "stdout",
     "output_type": "stream",
     "text": [
      "[*********************100%%**********************]  1 of 1 completed\n"
     ]
    },
    {
     "data": {
      "text/plain": [
       "Date\n",
       "2017-05-24    56.303699\n",
       "2017-05-25    56.345901\n",
       "2017-05-26    56.801399\n",
       "2017-05-29    56.481499\n",
       "2017-05-30    56.462200\n",
       "                ...    \n",
       "2022-05-17    64.589996\n",
       "2022-05-18    64.964996\n",
       "2022-05-19    64.214996\n",
       "2022-05-20    62.090000\n",
       "2022-05-23    62.465000\n",
       "Name: Close, Length: 1301, dtype: float64"
      ]
     },
     "execution_count": 12,
     "metadata": {},
     "output_type": "execute_result"
    }
   ],
   "source": [
    "# Define the ticker symbol for USD to RUB (in fact, it's the opposite RUB/USD - if prices in rub\n",
    "# are devided by it- we get usd)\n",
    "ticker = 'USDRUB=X'\n",
    "\n",
    "# Set the start and end dates for the data\n",
    "start_date = \"2017-05-24\"\n",
    "end_date = \"2022-05-24\"\n",
    "\n",
    "# Download historical data\n",
    "ex_r_data = yf.download(ticker, start=start_date, end=end_date)\n",
    "ex_r_data = ex_r_data.sort_values(by='Date')\n",
    "\n",
    "# Extract the historical closing prices\n",
    "ex_r = ex_r_data['Close']\n",
    "ex_r"
   ]
  },
  {
   "cell_type": "markdown",
   "id": "a0e4fc20-c926-46ef-9827-ffb426d18cb7",
   "metadata": {},
   "source": [
    "### Returns"
   ]
  },
  {
   "cell_type": "code",
   "execution_count": 13,
   "id": "9014849a-14d9-427d-b896-6525a4a40928",
   "metadata": {
    "tags": []
   },
   "outputs": [],
   "source": [
    "df_shares = {\n",
    "    \"sp500_p\" : sp500_prices,\n",
    "    \"sber_p\" : sber_prices/ex_r, #corrected to the exchange rate\n",
    "    \"aeroflot_p\" : aeroflot_prices/ex_r #corrected to the exchange rate\n",
    "                   }\n",
    "df_shares = pd.DataFrame(df_shares) "
   ]
  },
  {
   "cell_type": "markdown",
   "id": "0342f437-88d2-4422-95d5-0ed9a6fd1b50",
   "metadata": {},
   "source": [
    "Arithmetic returns: $\\frac{P_t-P_{t-1}}{P_t}$"
   ]
  },
  {
   "cell_type": "code",
   "execution_count": 14,
   "id": "b7cf8b6f-63ed-48e2-ab1c-0a3f57a4ac1b",
   "metadata": {
    "tags": []
   },
   "outputs": [
    {
     "name": "stdout",
     "output_type": "stream",
     "text": [
      "Number of missed values: sp500_p        45\n",
      "sber_p         68\n",
      "aeroflot_p     68\n",
      "sp500_r        91\n",
      "sber_r        112\n",
      "aeroflot_r    112\n",
      "dtype: int64\n"
     ]
    },
    {
     "data": {
      "text/html": [
       "<div>\n",
       "<style scoped>\n",
       "    .dataframe tbody tr th:only-of-type {\n",
       "        vertical-align: middle;\n",
       "    }\n",
       "\n",
       "    .dataframe tbody tr th {\n",
       "        vertical-align: top;\n",
       "    }\n",
       "\n",
       "    .dataframe thead th {\n",
       "        text-align: right;\n",
       "    }\n",
       "</style>\n",
       "<table border=\"1\" class=\"dataframe\">\n",
       "  <thead>\n",
       "    <tr style=\"text-align: right;\">\n",
       "      <th></th>\n",
       "      <th>sp500_p</th>\n",
       "      <th>sber_p</th>\n",
       "      <th>aeroflot_p</th>\n",
       "      <th>sp500_r</th>\n",
       "      <th>sber_r</th>\n",
       "      <th>aeroflot_r</th>\n",
       "    </tr>\n",
       "    <tr>\n",
       "      <th>Date</th>\n",
       "      <th></th>\n",
       "      <th></th>\n",
       "      <th></th>\n",
       "      <th></th>\n",
       "      <th></th>\n",
       "      <th></th>\n",
       "    </tr>\n",
       "  </thead>\n",
       "  <tbody>\n",
       "    <tr>\n",
       "      <th>2017-05-24</th>\n",
       "      <td>2404.389893</td>\n",
       "      <td>2.942968</td>\n",
       "      <td>3.442047</td>\n",
       "      <td>NaN</td>\n",
       "      <td>NaN</td>\n",
       "      <td>NaN</td>\n",
       "    </tr>\n",
       "    <tr>\n",
       "      <th>2017-05-25</th>\n",
       "      <td>2415.070068</td>\n",
       "      <td>2.911481</td>\n",
       "      <td>3.463428</td>\n",
       "      <td>0.444195</td>\n",
       "      <td>-1.069924</td>\n",
       "      <td>0.621170</td>\n",
       "    </tr>\n",
       "    <tr>\n",
       "      <th>2017-05-26</th>\n",
       "      <td>2415.820068</td>\n",
       "      <td>2.829156</td>\n",
       "      <td>3.346749</td>\n",
       "      <td>0.031055</td>\n",
       "      <td>-2.827601</td>\n",
       "      <td>-3.368908</td>\n",
       "    </tr>\n",
       "    <tr>\n",
       "      <th>2017-05-29</th>\n",
       "      <td>NaN</td>\n",
       "      <td>2.901835</td>\n",
       "      <td>3.355081</td>\n",
       "      <td>NaN</td>\n",
       "      <td>2.568946</td>\n",
       "      <td>0.248967</td>\n",
       "    </tr>\n",
       "    <tr>\n",
       "      <th>2017-05-30</th>\n",
       "      <td>2412.909912</td>\n",
       "      <td>2.862800</td>\n",
       "      <td>3.383680</td>\n",
       "      <td>NaN</td>\n",
       "      <td>-1.345178</td>\n",
       "      <td>0.852403</td>\n",
       "    </tr>\n",
       "    <tr>\n",
       "      <th>...</th>\n",
       "      <td>...</td>\n",
       "      <td>...</td>\n",
       "      <td>...</td>\n",
       "      <td>...</td>\n",
       "      <td>...</td>\n",
       "      <td>...</td>\n",
       "    </tr>\n",
       "    <tr>\n",
       "      <th>2022-05-17</th>\n",
       "      <td>4088.850098</td>\n",
       "      <td>1.977860</td>\n",
       "      <td>0.470042</td>\n",
       "      <td>2.016963</td>\n",
       "      <td>9.366466</td>\n",
       "      <td>6.771459</td>\n",
       "    </tr>\n",
       "    <tr>\n",
       "      <th>2022-05-18</th>\n",
       "      <td>3923.679932</td>\n",
       "      <td>1.925960</td>\n",
       "      <td>0.462711</td>\n",
       "      <td>-4.039526</td>\n",
       "      <td>-2.624057</td>\n",
       "      <td>-1.559676</td>\n",
       "    </tr>\n",
       "    <tr>\n",
       "      <th>2022-05-19</th>\n",
       "      <td>3900.790039</td>\n",
       "      <td>1.955929</td>\n",
       "      <td>0.460329</td>\n",
       "      <td>-0.583378</td>\n",
       "      <td>1.556060</td>\n",
       "      <td>-0.514816</td>\n",
       "    </tr>\n",
       "    <tr>\n",
       "      <th>2022-05-20</th>\n",
       "      <td>3901.360107</td>\n",
       "      <td>2.022870</td>\n",
       "      <td>0.476083</td>\n",
       "      <td>0.014614</td>\n",
       "      <td>3.422445</td>\n",
       "      <td>3.422445</td>\n",
       "    </tr>\n",
       "    <tr>\n",
       "      <th>2022-05-23</th>\n",
       "      <td>3973.750000</td>\n",
       "      <td>2.010726</td>\n",
       "      <td>0.473225</td>\n",
       "      <td>1.855504</td>\n",
       "      <td>-0.600336</td>\n",
       "      <td>-0.600336</td>\n",
       "    </tr>\n",
       "  </tbody>\n",
       "</table>\n",
       "<p>1304 rows × 6 columns</p>\n",
       "</div>"
      ],
      "text/plain": [
       "                sp500_p    sber_p  aeroflot_p   sp500_r    sber_r  aeroflot_r\n",
       "Date                                                                         \n",
       "2017-05-24  2404.389893  2.942968    3.442047       NaN       NaN         NaN\n",
       "2017-05-25  2415.070068  2.911481    3.463428  0.444195 -1.069924    0.621170\n",
       "2017-05-26  2415.820068  2.829156    3.346749  0.031055 -2.827601   -3.368908\n",
       "2017-05-29          NaN  2.901835    3.355081       NaN  2.568946    0.248967\n",
       "2017-05-30  2412.909912  2.862800    3.383680       NaN -1.345178    0.852403\n",
       "...                 ...       ...         ...       ...       ...         ...\n",
       "2022-05-17  4088.850098  1.977860    0.470042  2.016963  9.366466    6.771459\n",
       "2022-05-18  3923.679932  1.925960    0.462711 -4.039526 -2.624057   -1.559676\n",
       "2022-05-19  3900.790039  1.955929    0.460329 -0.583378  1.556060   -0.514816\n",
       "2022-05-20  3901.360107  2.022870    0.476083  0.014614  3.422445    3.422445\n",
       "2022-05-23  3973.750000  2.010726    0.473225  1.855504 -0.600336   -0.600336\n",
       "\n",
       "[1304 rows x 6 columns]"
      ]
     },
     "execution_count": 14,
     "metadata": {},
     "output_type": "execute_result"
    }
   ],
   "source": [
    "df_shares['sp500_r'] = (df_shares['sp500_p'].diff() / df_shares['sp500_p'].shift(1)) * 100\n",
    "df_shares['sber_r'] = (df_shares['sber_p'].diff() / df_shares['sber_p'].shift(1)) * 100\n",
    "df_shares['aeroflot_r'] = (df_shares['aeroflot_p'].diff() / df_shares['aeroflot_p'].shift(1)) * 100\n",
    "print(f\"Number of missed values: {df_shares.isnull().sum()}\") \n",
    "df_shares"
   ]
  },
  {
   "cell_type": "markdown",
   "id": "78f15da4-06cf-47ad-b0dc-5a094d9a35ee",
   "metadata": {},
   "source": [
    "### Sample mean and std calculation"
   ]
  },
  {
   "cell_type": "code",
   "execution_count": 31,
   "id": "e0a7fb35-d499-4393-98ed-835f5815b6fc",
   "metadata": {},
   "outputs": [
    {
     "data": {
      "text/html": [
       "<div>\n",
       "<style scoped>\n",
       "    .dataframe tbody tr th:only-of-type {\n",
       "        vertical-align: middle;\n",
       "    }\n",
       "\n",
       "    .dataframe tbody tr th {\n",
       "        vertical-align: top;\n",
       "    }\n",
       "\n",
       "    .dataframe thead th {\n",
       "        text-align: right;\n",
       "    }\n",
       "</style>\n",
       "<table border=\"1\" class=\"dataframe\">\n",
       "  <thead>\n",
       "    <tr style=\"text-align: right;\">\n",
       "      <th></th>\n",
       "      <th>indexes</th>\n",
       "      <th>mean</th>\n",
       "      <th>std</th>\n",
       "    </tr>\n",
       "  </thead>\n",
       "  <tbody>\n",
       "    <tr>\n",
       "      <th>0</th>\n",
       "      <td>S&amp;P 500</td>\n",
       "      <td>0.054180</td>\n",
       "      <td>1.280410</td>\n",
       "    </tr>\n",
       "    <tr>\n",
       "      <th>1</th>\n",
       "      <td>SBER</td>\n",
       "      <td>0.053390</td>\n",
       "      <td>2.406740</td>\n",
       "    </tr>\n",
       "    <tr>\n",
       "      <th>2</th>\n",
       "      <td>AFTL</td>\n",
       "      <td>-0.068263</td>\n",
       "      <td>2.790394</td>\n",
       "    </tr>\n",
       "  </tbody>\n",
       "</table>\n",
       "</div>"
      ],
      "text/plain": [
       "   indexes      mean       std\n",
       "0  S&P 500  0.054180  1.280410\n",
       "1     SBER  0.053390  2.406740\n",
       "2     AFTL -0.068263  2.790394"
      ]
     },
     "execution_count": 31,
     "metadata": {},
     "output_type": "execute_result"
    }
   ],
   "source": [
    "df_shares_stat = {\n",
    "    \"indexes\" : ['S&P 500', 'SBER', 'AFTL'],\n",
    "    \"mean\" : [df_shares['sp500_r'].mean(), df_shares['sber_r'].mean(),  df_shares['aeroflot_r'].mean()],\n",
    "    \"std\" : [df_shares['sp500_r'].std(), df_shares['sber_r'].std(), df_shares['aeroflot_r'].std()]\n",
    "                   }\n",
    "df_shares_stat = pd.DataFrame(df_shares_stat) \n",
    "df_shares_stat"
   ]
  },
  {
   "cell_type": "markdown",
   "id": "9a98333a-8274-4a90-a228-843886833912",
   "metadata": {},
   "source": [
    "### Task 5.b"
   ]
  },
  {
   "cell_type": "markdown",
   "id": "12c383f6-f533-4786-8d12-40df06f42c2b",
   "metadata": {},
   "source": [
    "Calculating confidence intervals"
   ]
  },
  {
   "cell_type": "code",
   "execution_count": 40,
   "id": "a47f9da6-6a1f-4e6a-a1b8-6d64f2683866",
   "metadata": {
    "tags": []
   },
   "outputs": [],
   "source": [
    "# Set the confidence level and degrees of freedom\n",
    "confidence_level = 0.95\n",
    "alpha = 1 - confidence_level\n",
    "degrees_of_freedom = len(df['values']) - 1\n",
    "n = len(df_shares)\n",
    "\n",
    "# Calculate the margins of errors\n",
    "margin_of_error_sp = stats.norm.ppf(1 - alpha / 2) * (df_shares['sp500_r'].std() / np.sqrt(n))\n",
    "margin_of_error_sber = stats.norm.ppf(1 - alpha / 2) * (df_shares['sber_r'].std() / np.sqrt(n))\n",
    "margin_of_error_aero = stats.norm.ppf(1 - alpha / 2) * (df_shares['aeroflot_r'].std() / np.sqrt(n))\n",
    "\n",
    "# Calculate the confidence intervals\n",
    "confidence_interval_sp = \\\n",
    "(df_shares['sp500_r'].mean() - margin_of_error_sp, df_shares['sp500_r'].mean() + margin_of_error_sp)\n",
    "\n",
    "confidence_interval_sber = \\\n",
    "(df_shares['sber_r'].mean() - margin_of_error_sber, df_shares['sber_r'].mean() + margin_of_error_sber)\n",
    "\n",
    "confidence_interval_aero = \\\n",
    "(df_shares['aeroflot_r'].mean() - margin_of_error_aero, df_shares['aeroflot_r'].mean() + margin_of_error_aero)"
   ]
  },
  {
   "cell_type": "code",
   "execution_count": 41,
   "id": "0b3a4e47-09f7-4a64-899a-32e663c73ede",
   "metadata": {
    "tags": []
   },
   "outputs": [
    {
     "name": "stdout",
     "output_type": "stream",
     "text": [
      "Confidence Interval, S&P 500: (-0.015315820277623293, 0.12367572309820332)\n",
      "Confidence Interval, SBER: (-0.07723866872200875, 0.1840187027013806)\n",
      "Confidence Interval, AFTL: (-0.21971517710839195, 0.08318866877367416)\n"
     ]
    }
   ],
   "source": [
    "# Print or use the confidence interval\n",
    "print(f\"Confidence Interval, S&P 500: {confidence_interval_sp}\")\n",
    "print(f\"Confidence Interval, SBER: {confidence_interval_sber}\")\n",
    "print(f\"Confidence Interval, AFTL: {confidence_interval_aero}\")"
   ]
  },
  {
   "cell_type": "markdown",
   "id": "7858ea60-2013-4cbb-b2f6-4a5b830874a0",
   "metadata": {},
   "source": [
    "### Task 5.c"
   ]
  },
  {
   "cell_type": "code",
   "execution_count": 42,
   "id": "92059928-584d-48b2-adc7-14046d7cd1d6",
   "metadata": {
    "tags": []
   },
   "outputs": [
    {
     "name": "stdout",
     "output_type": "stream",
     "text": [
      "Confidence Interval, SBER - AFTL: (-0.07835057503922543, 0.32165711735331504)\n"
     ]
    }
   ],
   "source": [
    "# Calculate mean and standard deviation\n",
    "sample_mean = df_shares['sber_r'].mean() - df_shares['aeroflot_r'].mean()\n",
    "sample_std_1 = df_shares['sber_r'].std() \n",
    "sample_std_2 = df_shares['aeroflot_r'].std()\n",
    "n1 = n\n",
    "n2 = n\n",
    "\n",
    "# Set confidence level and calculate margin of error\n",
    "confidence_level = 0.95\n",
    "alpha = 1 - confidence_level\n",
    "z_critical = stats.norm.ppf(1 - alpha / 2)\n",
    "margin_of_error = z_critical * (np.sqrt(sample_std_1**2/n1 + sample_std_2**2/n2))\n",
    "\n",
    "# Calculate confidence interval\n",
    "confidence_interval = (sample_mean - margin_of_error, sample_mean + margin_of_error)\n",
    "\n",
    "print(\"Confidence Interval, SBER - AFTL:\", confidence_interval)"
   ]
  }
 ],
 "metadata": {
  "kernelspec": {
   "display_name": "Python 3 (ipykernel)",
   "language": "python",
   "name": "python3"
  },
  "language_info": {
   "codemirror_mode": {
    "name": "ipython",
    "version": 3
   },
   "file_extension": ".py",
   "mimetype": "text/x-python",
   "name": "python",
   "nbconvert_exporter": "python",
   "pygments_lexer": "ipython3",
   "version": "3.11.4"
  }
 },
 "nbformat": 4,
 "nbformat_minor": 5
}
