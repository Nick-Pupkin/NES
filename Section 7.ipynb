{
 "cells": [
  {
   "cell_type": "markdown",
   "id": "27037a3a",
   "metadata": {},
   "source": [
    "# **<center> Introduction to Python for Practical Problems </center>**\n",
    "# **<center> New Economic School, MAE 2025 </center>**\n",
    "## **<center> Section 7 </center>**\n",
    "\n",
    "## **<center> Алгоритмы и структуры данных </center>**"
   ]
  },
  {
   "cell_type": "code",
   "execution_count": 1,
   "id": "c13da2c4",
   "metadata": {},
   "outputs": [],
   "source": [
    "import time\n",
    "\n",
    "def measure_time(func):\n",
    "\n",
    "    def wrapper_func(*args):\n",
    "        \n",
    "        start = time.time()\n",
    "        result = func(*args)\n",
    "        end = time.time()\n",
    "        \n",
    "        print(f'Time of execution is {round(end-start,8)} seconds')\n",
    "        \n",
    "        return result\n",
    "\n",
    "    return wrapper_func"
   ]
  },
  {
   "cell_type": "markdown",
   "id": "296867ba",
   "metadata": {},
   "source": [
    "# 1. Теория"
   ]
  },
  {
   "cell_type": "markdown",
   "id": "815db47e",
   "metadata": {},
   "source": [
    "**Алгоритмические задачи** - это задачи на написание кода, который эффективно по времени и по объему памяти позволяет их решить.\n",
    "\n",
    "Наиболее популярным и удобным местом для решения алгоритмических задач является сайт [`leetcode`](https://leetcode.com).\n",
    "\n",
    "Для последовательного изучения алгоритмов и структур данных очень рекомендую сайт [`neetcode`](https://neetcode.io), который включает в себя [видеоуроки](https://neetcode.io/courses) и [roadmap](https://neetcode.io/roadmap).\n",
    "\n",
    "От себя рекомендую посмотреть [курс](https://neetcode.io/courses/dsa-for-beginners/0) по алгоритмам и структурам данных для новичков с этого сайта.\n",
    "\n",
    "### Что значит \"эффективно по времени\" и \"эффективно по объему памяти\"?\n",
    "\n",
    "Как правило, в программировании всегда существует несколько способов решения задачи с использованием разных алгоритмов. Поэтому необходимо пользоваться методом сравнения сложности решений, чтобы судить о том, какое из них является более оптимальным. Метод должен быть:\n",
    "\n",
    "* Независимость от компьютера и его конфигурации, на котором работает алгоритм.\n",
    "* Показывает прямую зависимость от размера входных данных.\n",
    "* Может четко и недвусмысленно различать два алгоритма."
   ]
  },
  {
   "cell_type": "markdown",
   "id": "b949f480",
   "metadata": {},
   "source": [
    "## 1.1. Временная сложность\n",
    "\n",
    "**Временная сложность** алгоритма, или **Time Complexity**, определяет количество времени, необходимое алгоритму для работы, как функцию от длины входных данных. Обратите внимание, что время выполнения является функцией длины входных данных, а не фактического времени выполнения машины, на которой работает алгоритм. Обычно говорят про максимальную временную сложность в терминал \"О большое от времени\" **O(f(T))**.\n",
    "\n",
    "В более общем смысле это время, необходимое для завершения алгоритма. Чтобы оценить временную сложность, нам необходимо учитывать стоимость каждой фундаментальной операции и количество раз, когда она выполняется."
   ]
  },
  {
   "cell_type": "markdown",
   "id": "e1e50fa2",
   "metadata": {},
   "source": [
    "#### Пример\n",
    "\n",
    "Функция для расчета суммы двух чисел"
   ]
  },
  {
   "cell_type": "code",
   "execution_count": 2,
   "id": "94ad007c",
   "metadata": {},
   "outputs": [
    {
     "name": "stdout",
     "output_type": "stream",
     "text": [
      "Time of execution is 0.0 seconds\n"
     ]
    },
    {
     "data": {
      "text/plain": [
       "9"
      ]
     },
     "execution_count": 2,
     "metadata": {},
     "output_type": "execute_result"
    }
   ],
   "source": [
    "@measure_time\n",
    "def summation(a, b):\n",
    "    \n",
    "    return a + b\n",
    "\n",
    "summation(4, 5)"
   ]
  },
  {
   "cell_type": "markdown",
   "id": "e6f966d2",
   "metadata": {},
   "source": [
    "Временная сложность такого алгоритма считается константной, так как скорость исполнения функции не зависит от длины входа и от величины чисел, и обозначается как **O(1)**."
   ]
  },
  {
   "cell_type": "markdown",
   "id": "eccb31b3",
   "metadata": {},
   "source": [
    "#### Пример\n",
    "\n",
    "Функция для поэлементного сложения чисел из двух списков одинаковой длины"
   ]
  },
  {
   "cell_type": "code",
   "execution_count": 3,
   "id": "ef65d3be",
   "metadata": {},
   "outputs": [],
   "source": [
    "@measure_time\n",
    "def elementswise_summation(list1, list2):\n",
    "    \n",
    "    new_list = []\n",
    "    \n",
    "    for l1, l2 in zip(list1, list2):\n",
    "        \n",
    "        new_list.append(l1+l2)\n",
    "        \n",
    "    return new_list"
   ]
  },
  {
   "cell_type": "code",
   "execution_count": 4,
   "id": "d3e604ac",
   "metadata": {},
   "outputs": [
    {
     "name": "stdout",
     "output_type": "stream",
     "text": [
      "Time of execution is 0.0 seconds\n"
     ]
    }
   ],
   "source": [
    "res = elementswise_summation(list(range(10)), list(range(10)))"
   ]
  },
  {
   "cell_type": "code",
   "execution_count": 5,
   "id": "34a890fb",
   "metadata": {},
   "outputs": [
    {
     "name": "stdout",
     "output_type": "stream",
     "text": [
      "Time of execution is 0.72695541 seconds\n"
     ]
    }
   ],
   "source": [
    "res = elementswise_summation(list(range(int(1e7))), list(range(int(1e7))))"
   ]
  },
  {
   "cell_type": "markdown",
   "id": "624920d2",
   "metadata": {},
   "source": [
    "Алгоритм включает в себя один цикл, в котором мы проходим по всем элементам массивов длины **N**. Тогда временная сложность алгоритма равна **N * c + 1 * c**. Теперь, игнорируя члены низшего порядка, поскольку члены низшего порядка относительно незначительны для больших входных данных, берем только член самого высокого порядка (без константы), который в данном случае равен **N**.\n",
    "\n",
    "Временная сложность такого алгоритма считается линейной, так как скорость исполнения функции зависит от длины входа, и обозначается как **O(N)**. Действительно, с более длинными массивами функция испольняется значительно дольше."
   ]
  },
  {
   "cell_type": "markdown",
   "id": "fef2547f",
   "metadata": {},
   "source": [
    "Кроме того, существуют и другие временные сложности: например, логарифмическая, квадратичная и так далее."
   ]
  },
  {
   "cell_type": "markdown",
   "id": "70239d8e",
   "metadata": {},
   "source": [
    "## 1.2. Сложность по памяти\n",
    "\n",
    "Решение проблем с использованием компьютера требует памяти для хранения временных данных или конечного результата во время выполнения программы. Объем памяти, необходимый алгоритму для решения данной задачи, называется **сложностью по памяти** алгоритма, или **Space Complexity**.\n",
    "\n",
    "**Space Complexity** алгоритма количественно определяет объем пространства, занимаемого алгоритмом для работы, как функцию от длины входных данных. Рассмотрим пример: Предположим, стоит задача найти частоту элементов массива.\n",
    "\n",
    "Чтобы оценить требования к памяти, нам нужно сосредоточиться на двух частях: \n",
    "\n",
    "1. Фиксированная часть: она не зависит от входного размера. Она включает в себя память для инструкций (кода), констант, переменных и т. д.\n",
    "\n",
    "2. Переменная часть: она зависит от размера ввода. Она включает в себя память для стека рекурсии, ссылочных переменных и т. д."
   ]
  },
  {
   "cell_type": "markdown",
   "id": "8c869714",
   "metadata": {},
   "source": [
    "#### Пример\n",
    "\n",
    "Для входного массива найти частоту, с которой в нем встречается тот или иной элемент"
   ]
  },
  {
   "cell_type": "code",
   "execution_count": 6,
   "id": "99492714",
   "metadata": {},
   "outputs": [
    {
     "name": "stdout",
     "output_type": "stream",
     "text": [
      "Элемент 10 встречается в массиве 3 раз(а)\n",
      "Элемент 20 встречается в массиве 4 раз(а)\n",
      "Элемент 5 встречается в массиве 1 раз(а)\n",
      "\n",
      "Time of execution is 0.0 seconds\n"
     ]
    }
   ],
   "source": [
    "@measure_time\n",
    "def countFreq(arr, n):\n",
    "    \n",
    "    freq = {}\n",
    "\n",
    "    # Проходимся по всем элементам массива\n",
    "    for i in arr:\n",
    "\n",
    "        freq[i] = freq.get(i, 0) + 1\n",
    "\n",
    "    # Проходимся по словарю и вычисляем частоту встречания каждого элемента в нем\n",
    "    for x in freq:\n",
    "\n",
    "        print(f'Элемент {x} встречается в массиве {freq[x]} раз(а)')\n",
    "        \n",
    "    print()\n",
    "        \n",
    "    return\n",
    "  \n",
    "arr =  [10, 20, 20, 10, 10, 20, 5, 20]\n",
    "n = len(arr)\n",
    " \n",
    "countFreq(arr, n)"
   ]
  },
  {
   "cell_type": "markdown",
   "id": "9276e5b7",
   "metadata": {},
   "source": [
    "Здесь в алгоритме используются два массива длины **N** и переменная **i** , поэтому общее используемое пространство равно **N * c + N * c + 1 * c = 2N * c + c**, где **c** — условная единица пространства. Для многих входных данных константа **c** незначительна, и можно сказать, что пространственная сложность равна **O(N)**.\n",
    "\n",
    "Также есть вспомогательное пространство, отличающееся от пространства сложностью. Основное различие заключается в том, что сложность пространства определяет количество общего пространства, используемого алгоритмом, а вспомогательное пространство определяет количество дополнительного пространства, которое используется в алгоритме помимо заданных входных данных. В приведенном выше примере вспомогательное пространство — это пространство, используемое массивом **freq[]**, поскольку оно не является частью данного ввода. Таким образом, общее вспомогательное пространство равно **N * c + c**, что составляет только **O(N)**.\n",
    "\n",
    "При этом временная сложность алгоритма равны **N * c + N * c = 2N * c**, что соответствует сложности **O(N)**. Такой результат получился из наличия двух ПОСЛЕДОВАТЕЛЬНЫХ циклов, максимальное время испольнения которых равно количеству элементов в массиве **N**."
   ]
  },
  {
   "cell_type": "markdown",
   "id": "2be348a0",
   "metadata": {},
   "source": [
    "## 1.3. Хэш-таблицы\n",
    "\n",
    "Здесь должен быть рассказ о хэш-таблицах и о том, насколько они эффективны по времени, но времени у нас немного, хочется посмотреть на примеры :) Поэтому рекомендую посмотреть вот это [видео](https://www.youtube.com/watch?v=rPp46idEvnM). Это очень прикольный парень, который рассказывает про алгоритмы и структуры данных простым (не всегда) языком. А мы пойдем дальше :)"
   ]
  },
  {
   "cell_type": "markdown",
   "id": "4b258d5b",
   "metadata": {},
   "source": [
    "# 2. Практика"
   ]
  },
  {
   "cell_type": "markdown",
   "id": "c732bd95",
   "metadata": {},
   "source": [
    "## 2.1. Arrays & Hashing"
   ]
  },
  {
   "cell_type": "markdown",
   "id": "a755e713",
   "metadata": {},
   "source": [
    "### 217. [Contains Duplicates](https://leetcode.com/problems/contains-duplicate/description/)\n",
    "\n",
    "Given an integer array `nums`, return `true` if any value appears **at least twice** in the array, and return **false** if every element is distinct."
   ]
  },
  {
   "cell_type": "code",
   "execution_count": 7,
   "id": "04127bfc",
   "metadata": {},
   "outputs": [],
   "source": [
    "# Example 1:\n",
    "\n",
    "#Input: \n",
    "nums1 = [1,2,3,1]\n",
    "#Output: True\n",
    "\n",
    "#Example 2:\n",
    "\n",
    "#Input: \n",
    "nums2 = [1,2,3,4]\n",
    "#Output: False\n",
    "\n",
    "#Example 3:\n",
    "\n",
    "#Input: \n",
    "nums3 = [1,1,1,3,3,4,3,2,4,2]\n",
    "#Output: True"
   ]
  },
  {
   "cell_type": "markdown",
   "id": "205b9ac0",
   "metadata": {},
   "source": [
    "##### Your solution"
   ]
  },
  {
   "cell_type": "code",
   "execution_count": 8,
   "id": "1ad475f4",
   "metadata": {},
   "outputs": [],
   "source": [
    "# your code"
   ]
  },
  {
   "cell_type": "code",
   "execution_count": 9,
   "id": "9cd29a64",
   "metadata": {},
   "outputs": [],
   "source": [
    "# _¶¶¶¶¶______________________________________¶¶¶¶\n",
    "# __¶¶____¶¶¶_______¶¶¶¶¶¶_¶¶¶_¶¶¶¶¶______¶¶¶¶___¶\n",
    "# __¶_¶¶_____¶¶¶¶¶¶__________________¶¶¶¶¶¶_____¶¶\n",
    "# __¶___¶__________¶___________________________¶__¶\n",
    "# __¶____¶___________________________________¶¶___¶\n",
    "# __¶______¶¶_______________________________¶_____¶\n",
    "# __¶_______¶____________________________¶¶_______¶\n",
    "# __¶______¶________________________________¶_____¶\n",
    "# ___¶____¶__________________________________¶___¶\n",
    "# __¶¶___¶____________________________________¶___¶\n",
    "# __¶_¶¶¶______________________________________¶_¶\n",
    "# _¶___¶________________________________________¶¶_¶\n",
    "# _¶________________¶¶¶¶¶¶____¶¶¶¶¶¶______________¶_¶\n",
    "# ¶__¶____________¶¶¶¶¶¶¶¶____¶¶¶¶¶¶¶¶____________¶_¶\n",
    "# ¶__¶__________¶¶__¶¶¶¶¶¶____¶¶¶____¶¶¶¶_________¶_¶\n",
    "# ¶_¶¶________¶¶¶_¶¶¶__¶¶¶____¶¶___¶¶¶_¶¶¶_________¶_¶\n",
    "# ¶_¶¶________¶¶_¶¶¶¶¶¶_¶______¶_¶¶¶¶¶¶¶¶_¶_______¶¶_¶\n",
    "# ¶_¶¶______¶__¶_¶¶¶¶_¶¶________¶¶_¶¶¶¶¶_¶__¶_____¶¶_¶\n",
    "# ¶_¶¶¶____¶¶¶_¶¶_¶¶¶_¶¶¶______¶¶¶__¶¶¶_¶_¶_¶____¶¶¶_¶\n",
    "# ¶_¶_¶____¶_¶¶__¶___¶¶¶________¶¶¶___¶__¶¶_¶____¶_¶_¶\n",
    "# ¶_¶¶_¶__¶___¶¶___¶¶¶¶¶________¶¶¶¶¶___¶¶¶__¶__¶__¶_¶\n",
    "# _¶_¶_¶_¶¶___¶¶¶¶_¶¶¶¶¶________¶¶¶¶__¶¶¶¶___¶____¶_¶\n",
    "# __¶_¶_¶¶______¶¶__¶¶_¶________¶¶¶__¶¶¶___¶__¶¶¶¶_¶\n",
    "# ___¶¶¶¶____¶___¶¶____¶________¶___¶¶¶___¶______¶\n",
    "# _____¶¶¶¶______¶¶____¶________¶___¶¶¶_______¶¶\n",
    "# _______¶¶¶¶____¶¶___¶__________¶___¶¶______¶\n",
    "# _________¶¶____¶¶___¶__________¶___¶¶____¶¶\n",
    "# ___________¶¶_¶¶¶___¶__________¶___¶¶_¶¶¶\n",
    "# ______________¶_¶___¶__________¶___¶_¶\n",
    "# _______________¶¶___¶__________¶___¶¶\n",
    "# ________________¶___¶_¶¶¶¶¶¶¶¶_¶___¶\n",
    "# ________________¶___¶¶¶¶¶¶¶¶¶¶¶¶___¶\n",
    "# _________________¶__¶¶¶¶¶¶¶¶¶¶¶¶__¶\n",
    "# __________________¶_¶¶¶¶¶¶¶¶¶¶¶¶_¶\n",
    "# __________________¶___¶¶¶¶¶¶¶¶___¶\n",
    "# ___________________¶___¶¶¶¶¶¶___¶\n",
    "# ____________________¶__________¶\n",
    "# _____________________¶¶¶¶¶¶¶¶¶¶"
   ]
  },
  {
   "cell_type": "markdown",
   "id": "5466f895",
   "metadata": {},
   "source": [
    "##### Sample solution"
   ]
  },
  {
   "cell_type": "code",
   "execution_count": 10,
   "id": "36c34bfd",
   "metadata": {},
   "outputs": [],
   "source": [
    "@measure_time\n",
    "def containsDuplicate(nums):\n",
    "    \n",
    "    d = set()\n",
    "\n",
    "    for n in nums:\n",
    "        if n in d:\n",
    "            return True\n",
    "        d.add(n)\n",
    "    return False"
   ]
  },
  {
   "cell_type": "code",
   "execution_count": 11,
   "id": "ef23bfe0",
   "metadata": {},
   "outputs": [
    {
     "name": "stdout",
     "output_type": "stream",
     "text": [
      "Time of execution is 0.0 seconds\n"
     ]
    },
    {
     "data": {
      "text/plain": [
       "True"
      ]
     },
     "execution_count": 11,
     "metadata": {},
     "output_type": "execute_result"
    }
   ],
   "source": [
    "containsDuplicate(nums1)"
   ]
  },
  {
   "cell_type": "code",
   "execution_count": 12,
   "id": "074e7332",
   "metadata": {},
   "outputs": [
    {
     "name": "stdout",
     "output_type": "stream",
     "text": [
      "Time of execution is 0.0 seconds\n"
     ]
    },
    {
     "data": {
      "text/plain": [
       "False"
      ]
     },
     "execution_count": 12,
     "metadata": {},
     "output_type": "execute_result"
    }
   ],
   "source": [
    "containsDuplicate(nums2)"
   ]
  },
  {
   "cell_type": "code",
   "execution_count": 13,
   "id": "a7c9cb38",
   "metadata": {},
   "outputs": [
    {
     "name": "stdout",
     "output_type": "stream",
     "text": [
      "Time of execution is 0.0 seconds\n"
     ]
    },
    {
     "data": {
      "text/plain": [
       "True"
      ]
     },
     "execution_count": 13,
     "metadata": {},
     "output_type": "execute_result"
    }
   ],
   "source": [
    "containsDuplicate(nums3)"
   ]
  },
  {
   "cell_type": "markdown",
   "id": "50cd10a6",
   "metadata": {},
   "source": [
    "### 242. [Valid Anagram](https://leetcode.com/problems/valid-anagram/description/)\n",
    "\n",
    "Given two strings `s` and `t`, return `true` if `t` is an anagram of `s`, and `false` otherwise.\n",
    "\n",
    "An Anagram is a word or phrase formed by rearranging the letters of a different word or phrase, typically using all the original letters exactly once."
   ]
  },
  {
   "cell_type": "code",
   "execution_count": 14,
   "id": "3164c9f4",
   "metadata": {},
   "outputs": [],
   "source": [
    "# Example 1:\n",
    "\n",
    "#Input: \n",
    "s1 = \"anagram\"\n",
    "t1 = \"nagaram\"\n",
    "#Output: True\n",
    "    \n",
    "# Example 2:\n",
    "\n",
    "#Input: \n",
    "s2 = \"rat\"\n",
    "t2 = \"car\"\n",
    "#Output: False"
   ]
  },
  {
   "cell_type": "markdown",
   "id": "ea4f916f",
   "metadata": {},
   "source": [
    "##### Your solution"
   ]
  },
  {
   "cell_type": "code",
   "execution_count": 15,
   "id": "a6b8e93f",
   "metadata": {},
   "outputs": [],
   "source": [
    "# your code"
   ]
  },
  {
   "cell_type": "code",
   "execution_count": 16,
   "id": "3bbcfa39",
   "metadata": {},
   "outputs": [],
   "source": [
    "# _¶¶¶¶¶______________________________________¶¶¶¶\n",
    "# __¶¶____¶¶¶_______¶¶¶¶¶¶_¶¶¶_¶¶¶¶¶______¶¶¶¶___¶\n",
    "# __¶_¶¶_____¶¶¶¶¶¶__________________¶¶¶¶¶¶_____¶¶\n",
    "# __¶___¶__________¶___________________________¶__¶\n",
    "# __¶____¶___________________________________¶¶___¶\n",
    "# __¶______¶¶_______________________________¶_____¶\n",
    "# __¶_______¶____________________________¶¶_______¶\n",
    "# __¶______¶________________________________¶_____¶\n",
    "# ___¶____¶__________________________________¶___¶\n",
    "# __¶¶___¶____________________________________¶___¶\n",
    "# __¶_¶¶¶______________________________________¶_¶\n",
    "# _¶___¶________________________________________¶¶_¶\n",
    "# _¶________________¶¶¶¶¶¶____¶¶¶¶¶¶______________¶_¶\n",
    "# ¶__¶____________¶¶¶¶¶¶¶¶____¶¶¶¶¶¶¶¶____________¶_¶\n",
    "# ¶__¶__________¶¶__¶¶¶¶¶¶____¶¶¶____¶¶¶¶_________¶_¶\n",
    "# ¶_¶¶________¶¶¶_¶¶¶__¶¶¶____¶¶___¶¶¶_¶¶¶_________¶_¶\n",
    "# ¶_¶¶________¶¶_¶¶¶¶¶¶_¶______¶_¶¶¶¶¶¶¶¶_¶_______¶¶_¶\n",
    "# ¶_¶¶______¶__¶_¶¶¶¶_¶¶________¶¶_¶¶¶¶¶_¶__¶_____¶¶_¶\n",
    "# ¶_¶¶¶____¶¶¶_¶¶_¶¶¶_¶¶¶______¶¶¶__¶¶¶_¶_¶_¶____¶¶¶_¶\n",
    "# ¶_¶_¶____¶_¶¶__¶___¶¶¶________¶¶¶___¶__¶¶_¶____¶_¶_¶\n",
    "# ¶_¶¶_¶__¶___¶¶___¶¶¶¶¶________¶¶¶¶¶___¶¶¶__¶__¶__¶_¶\n",
    "# _¶_¶_¶_¶¶___¶¶¶¶_¶¶¶¶¶________¶¶¶¶__¶¶¶¶___¶____¶_¶\n",
    "# __¶_¶_¶¶______¶¶__¶¶_¶________¶¶¶__¶¶¶___¶__¶¶¶¶_¶\n",
    "# ___¶¶¶¶____¶___¶¶____¶________¶___¶¶¶___¶______¶\n",
    "# _____¶¶¶¶______¶¶____¶________¶___¶¶¶_______¶¶\n",
    "# _______¶¶¶¶____¶¶___¶__________¶___¶¶______¶\n",
    "# _________¶¶____¶¶___¶__________¶___¶¶____¶¶\n",
    "# ___________¶¶_¶¶¶___¶__________¶___¶¶_¶¶¶\n",
    "# ______________¶_¶___¶__________¶___¶_¶\n",
    "# _______________¶¶___¶__________¶___¶¶\n",
    "# ________________¶___¶_¶¶¶¶¶¶¶¶_¶___¶\n",
    "# ________________¶___¶¶¶¶¶¶¶¶¶¶¶¶___¶\n",
    "# _________________¶__¶¶¶¶¶¶¶¶¶¶¶¶__¶\n",
    "# __________________¶_¶¶¶¶¶¶¶¶¶¶¶¶_¶\n",
    "# __________________¶___¶¶¶¶¶¶¶¶___¶\n",
    "# ___________________¶___¶¶¶¶¶¶___¶\n",
    "# ____________________¶__________¶\n",
    "# _____________________¶¶¶¶¶¶¶¶¶¶"
   ]
  },
  {
   "cell_type": "markdown",
   "id": "957fbc4d",
   "metadata": {},
   "source": [
    "##### Sample solution"
   ]
  },
  {
   "cell_type": "code",
   "execution_count": 17,
   "id": "1b39a539",
   "metadata": {},
   "outputs": [],
   "source": [
    "@measure_time\n",
    "def isAnagram(s, t):\n",
    "    \n",
    "    d1, d2 = {}, {}\n",
    "\n",
    "    for char in s:\n",
    "        d1[char] = d1.get(char,0) + 1\n",
    "\n",
    "    for char in t:\n",
    "        d2[char] = d2.get(char,0) + 1\n",
    "\n",
    "    return d1 == d2"
   ]
  },
  {
   "cell_type": "code",
   "execution_count": 18,
   "id": "ce4b71da",
   "metadata": {},
   "outputs": [
    {
     "name": "stdout",
     "output_type": "stream",
     "text": [
      "Time of execution is 0.0 seconds\n"
     ]
    },
    {
     "data": {
      "text/plain": [
       "True"
      ]
     },
     "execution_count": 18,
     "metadata": {},
     "output_type": "execute_result"
    }
   ],
   "source": [
    "isAnagram(s1, t1)"
   ]
  },
  {
   "cell_type": "code",
   "execution_count": 19,
   "id": "5ef5d100",
   "metadata": {},
   "outputs": [
    {
     "name": "stdout",
     "output_type": "stream",
     "text": [
      "Time of execution is 0.0 seconds\n"
     ]
    },
    {
     "data": {
      "text/plain": [
       "False"
      ]
     },
     "execution_count": 19,
     "metadata": {},
     "output_type": "execute_result"
    }
   ],
   "source": [
    "isAnagram(s2, t2)"
   ]
  },
  {
   "cell_type": "markdown",
   "id": "19a4c727",
   "metadata": {},
   "source": [
    "### [1. Two Sum](https://leetcode.com/problems/two-sum/description/)\n",
    "\n",
    "Given an array of integers `nums` and an integer `target`, return *indices* of the two numbers such that they add up to `target`.\n",
    "\n",
    "You may assume that each input would have exactly one solution, and you may not use the same element twice.\n",
    "\n",
    "You can return the answer in any order."
   ]
  },
  {
   "cell_type": "code",
   "execution_count": 20,
   "id": "f14a5cb2",
   "metadata": {},
   "outputs": [],
   "source": [
    "# Example 1:\n",
    "\n",
    "#Input: \n",
    "nums1 = [2,7,11,15]\n",
    "target1 = 9\n",
    "#Output: [0,1]\n",
    "#Explanation: Because nums[0] + nums[1] == 9, we return [0, 1].\n",
    "\n",
    "# Example 2:\n",
    "\n",
    "#Input: \n",
    "nums2 = [3,2,4]\n",
    "target2 = 6\n",
    "#Output: [1,2]\n",
    "\n",
    "# Example 3:\n",
    "\n",
    "#Input: \n",
    "nums3 = [3,3]\n",
    "target3 = 6\n",
    "#Output: [0,1]"
   ]
  },
  {
   "cell_type": "markdown",
   "id": "3327030b",
   "metadata": {},
   "source": [
    "##### Your solution"
   ]
  },
  {
   "cell_type": "code",
   "execution_count": 21,
   "id": "d5985ee3",
   "metadata": {},
   "outputs": [],
   "source": [
    "# your code"
   ]
  },
  {
   "cell_type": "code",
   "execution_count": 22,
   "id": "16a6888e",
   "metadata": {},
   "outputs": [],
   "source": [
    "# _¶¶¶¶¶______________________________________¶¶¶¶\n",
    "# __¶¶____¶¶¶_______¶¶¶¶¶¶_¶¶¶_¶¶¶¶¶______¶¶¶¶___¶\n",
    "# __¶_¶¶_____¶¶¶¶¶¶__________________¶¶¶¶¶¶_____¶¶\n",
    "# __¶___¶__________¶___________________________¶__¶\n",
    "# __¶____¶___________________________________¶¶___¶\n",
    "# __¶______¶¶_______________________________¶_____¶\n",
    "# __¶_______¶____________________________¶¶_______¶\n",
    "# __¶______¶________________________________¶_____¶\n",
    "# ___¶____¶__________________________________¶___¶\n",
    "# __¶¶___¶____________________________________¶___¶\n",
    "# __¶_¶¶¶______________________________________¶_¶\n",
    "# _¶___¶________________________________________¶¶_¶\n",
    "# _¶________________¶¶¶¶¶¶____¶¶¶¶¶¶______________¶_¶\n",
    "# ¶__¶____________¶¶¶¶¶¶¶¶____¶¶¶¶¶¶¶¶____________¶_¶\n",
    "# ¶__¶__________¶¶__¶¶¶¶¶¶____¶¶¶____¶¶¶¶_________¶_¶\n",
    "# ¶_¶¶________¶¶¶_¶¶¶__¶¶¶____¶¶___¶¶¶_¶¶¶_________¶_¶\n",
    "# ¶_¶¶________¶¶_¶¶¶¶¶¶_¶______¶_¶¶¶¶¶¶¶¶_¶_______¶¶_¶\n",
    "# ¶_¶¶______¶__¶_¶¶¶¶_¶¶________¶¶_¶¶¶¶¶_¶__¶_____¶¶_¶\n",
    "# ¶_¶¶¶____¶¶¶_¶¶_¶¶¶_¶¶¶______¶¶¶__¶¶¶_¶_¶_¶____¶¶¶_¶\n",
    "# ¶_¶_¶____¶_¶¶__¶___¶¶¶________¶¶¶___¶__¶¶_¶____¶_¶_¶\n",
    "# ¶_¶¶_¶__¶___¶¶___¶¶¶¶¶________¶¶¶¶¶___¶¶¶__¶__¶__¶_¶\n",
    "# _¶_¶_¶_¶¶___¶¶¶¶_¶¶¶¶¶________¶¶¶¶__¶¶¶¶___¶____¶_¶\n",
    "# __¶_¶_¶¶______¶¶__¶¶_¶________¶¶¶__¶¶¶___¶__¶¶¶¶_¶\n",
    "# ___¶¶¶¶____¶___¶¶____¶________¶___¶¶¶___¶______¶\n",
    "# _____¶¶¶¶______¶¶____¶________¶___¶¶¶_______¶¶\n",
    "# _______¶¶¶¶____¶¶___¶__________¶___¶¶______¶\n",
    "# _________¶¶____¶¶___¶__________¶___¶¶____¶¶\n",
    "# ___________¶¶_¶¶¶___¶__________¶___¶¶_¶¶¶\n",
    "# ______________¶_¶___¶__________¶___¶_¶\n",
    "# _______________¶¶___¶__________¶___¶¶\n",
    "# ________________¶___¶_¶¶¶¶¶¶¶¶_¶___¶\n",
    "# ________________¶___¶¶¶¶¶¶¶¶¶¶¶¶___¶\n",
    "# _________________¶__¶¶¶¶¶¶¶¶¶¶¶¶__¶\n",
    "# __________________¶_¶¶¶¶¶¶¶¶¶¶¶¶_¶\n",
    "# __________________¶___¶¶¶¶¶¶¶¶___¶\n",
    "# ___________________¶___¶¶¶¶¶¶___¶\n",
    "# ____________________¶__________¶\n",
    "# _____________________¶¶¶¶¶¶¶¶¶¶"
   ]
  },
  {
   "cell_type": "markdown",
   "id": "30a92139",
   "metadata": {},
   "source": [
    "##### Sample solution"
   ]
  },
  {
   "cell_type": "code",
   "execution_count": 23,
   "id": "d96d54df",
   "metadata": {},
   "outputs": [],
   "source": [
    "@measure_time\n",
    "def twoSum(nums, target):\n",
    "\n",
    "    d = {}\n",
    "    \n",
    "    for i, n in enumerate(nums):\n",
    "        if target - n in d: \n",
    "            return [d[target-n], i]\n",
    "        d[n] = i"
   ]
  },
  {
   "cell_type": "code",
   "execution_count": 24,
   "id": "3aaeea2b",
   "metadata": {},
   "outputs": [
    {
     "name": "stdout",
     "output_type": "stream",
     "text": [
      "Time of execution is 0.0 seconds\n"
     ]
    },
    {
     "data": {
      "text/plain": [
       "[0, 1]"
      ]
     },
     "execution_count": 24,
     "metadata": {},
     "output_type": "execute_result"
    }
   ],
   "source": [
    "twoSum(nums1, target1)"
   ]
  },
  {
   "cell_type": "code",
   "execution_count": 25,
   "id": "f90489b4",
   "metadata": {},
   "outputs": [
    {
     "name": "stdout",
     "output_type": "stream",
     "text": [
      "Time of execution is 0.0 seconds\n"
     ]
    },
    {
     "data": {
      "text/plain": [
       "[1, 2]"
      ]
     },
     "execution_count": 25,
     "metadata": {},
     "output_type": "execute_result"
    }
   ],
   "source": [
    "twoSum(nums2, target2)"
   ]
  },
  {
   "cell_type": "code",
   "execution_count": 26,
   "id": "f276591c",
   "metadata": {},
   "outputs": [
    {
     "name": "stdout",
     "output_type": "stream",
     "text": [
      "Time of execution is 0.0 seconds\n"
     ]
    },
    {
     "data": {
      "text/plain": [
       "[0, 1]"
      ]
     },
     "execution_count": 26,
     "metadata": {},
     "output_type": "execute_result"
    }
   ],
   "source": [
    "twoSum(nums3, target3)"
   ]
  },
  {
   "cell_type": "markdown",
   "id": "c1ea46ea",
   "metadata": {},
   "source": [
    "## 2.2. Two Pointers"
   ]
  },
  {
   "cell_type": "markdown",
   "id": "a054dfe9",
   "metadata": {},
   "source": [
    "Техника решения алгоритмических задач **два указателя**, или **Two Pointers**, это способ решения задачи с обходом массива одним указателем слева и другим указателем справа, которые в конце концов встречаются дргу с другом. Он подходится при работе с упорядоченным массивом данных."
   ]
  },
  {
   "cell_type": "markdown",
   "id": "900cc232",
   "metadata": {},
   "source": [
    "Например, для решения задачи `1. Two Sum`  с упорядоченным массивом на входе, идеально бы подошла такая техника."
   ]
  },
  {
   "cell_type": "markdown",
   "id": "2d7a6914",
   "metadata": {},
   "source": [
    "<center> <img src=\"https://wcademy.ru/static/7cedcf9fc97a1081a21210a4b7b8c595/0c209/two-pointers-method-explanation.webp\" width=50%> </center>"
   ]
  },
  {
   "cell_type": "markdown",
   "id": "dc8df233",
   "metadata": {},
   "source": [
    "### 1. Two Sum Modernized\n",
    "\n",
    "Given a *sorted* array of integers `nums` and an integer `target`, return *indices* of the two numbers such that they add up to `target`.\n",
    "\n",
    "You may assume that each input would have exactly one solution, and you may not use the same element twice.\n",
    "\n",
    "You can return the answer in any order."
   ]
  },
  {
   "cell_type": "code",
   "execution_count": 27,
   "id": "866bb396",
   "metadata": {},
   "outputs": [],
   "source": [
    "# Example 1:\n",
    "\n",
    "#Input: \n",
    "nums1 = [2,7,11,15]\n",
    "target1 = 9\n",
    "#Output: [0,1]\n",
    "#Explanation: Because nums[0] + nums[1] == 9, we return [0, 1].\n",
    "\n",
    "# Example 2:\n",
    "\n",
    "#Input: \n",
    "nums2 = [2,3,4]\n",
    "target2 = 6\n",
    "#Output: [0,2]\n",
    "\n",
    "# Example 3:\n",
    "\n",
    "#Input: \n",
    "nums3 = [3,3]\n",
    "target3 = 6\n",
    "#Output: [0,1]"
   ]
  },
  {
   "cell_type": "markdown",
   "id": "63d49d09",
   "metadata": {},
   "source": [
    "##### Your solution"
   ]
  },
  {
   "cell_type": "code",
   "execution_count": 28,
   "id": "7dd8b9ef",
   "metadata": {},
   "outputs": [],
   "source": [
    "# your code"
   ]
  },
  {
   "cell_type": "code",
   "execution_count": 29,
   "id": "c9da2d46",
   "metadata": {},
   "outputs": [],
   "source": [
    "# _¶¶¶¶¶______________________________________¶¶¶¶\n",
    "# __¶¶____¶¶¶_______¶¶¶¶¶¶_¶¶¶_¶¶¶¶¶______¶¶¶¶___¶\n",
    "# __¶_¶¶_____¶¶¶¶¶¶__________________¶¶¶¶¶¶_____¶¶\n",
    "# __¶___¶__________¶___________________________¶__¶\n",
    "# __¶____¶___________________________________¶¶___¶\n",
    "# __¶______¶¶_______________________________¶_____¶\n",
    "# __¶_______¶____________________________¶¶_______¶\n",
    "# __¶______¶________________________________¶_____¶\n",
    "# ___¶____¶__________________________________¶___¶\n",
    "# __¶¶___¶____________________________________¶___¶\n",
    "# __¶_¶¶¶______________________________________¶_¶\n",
    "# _¶___¶________________________________________¶¶_¶\n",
    "# _¶________________¶¶¶¶¶¶____¶¶¶¶¶¶______________¶_¶\n",
    "# ¶__¶____________¶¶¶¶¶¶¶¶____¶¶¶¶¶¶¶¶____________¶_¶\n",
    "# ¶__¶__________¶¶__¶¶¶¶¶¶____¶¶¶____¶¶¶¶_________¶_¶\n",
    "# ¶_¶¶________¶¶¶_¶¶¶__¶¶¶____¶¶___¶¶¶_¶¶¶_________¶_¶\n",
    "# ¶_¶¶________¶¶_¶¶¶¶¶¶_¶______¶_¶¶¶¶¶¶¶¶_¶_______¶¶_¶\n",
    "# ¶_¶¶______¶__¶_¶¶¶¶_¶¶________¶¶_¶¶¶¶¶_¶__¶_____¶¶_¶\n",
    "# ¶_¶¶¶____¶¶¶_¶¶_¶¶¶_¶¶¶______¶¶¶__¶¶¶_¶_¶_¶____¶¶¶_¶\n",
    "# ¶_¶_¶____¶_¶¶__¶___¶¶¶________¶¶¶___¶__¶¶_¶____¶_¶_¶\n",
    "# ¶_¶¶_¶__¶___¶¶___¶¶¶¶¶________¶¶¶¶¶___¶¶¶__¶__¶__¶_¶\n",
    "# _¶_¶_¶_¶¶___¶¶¶¶_¶¶¶¶¶________¶¶¶¶__¶¶¶¶___¶____¶_¶\n",
    "# __¶_¶_¶¶______¶¶__¶¶_¶________¶¶¶__¶¶¶___¶__¶¶¶¶_¶\n",
    "# ___¶¶¶¶____¶___¶¶____¶________¶___¶¶¶___¶______¶\n",
    "# _____¶¶¶¶______¶¶____¶________¶___¶¶¶_______¶¶\n",
    "# _______¶¶¶¶____¶¶___¶__________¶___¶¶______¶\n",
    "# _________¶¶____¶¶___¶__________¶___¶¶____¶¶\n",
    "# ___________¶¶_¶¶¶___¶__________¶___¶¶_¶¶¶\n",
    "# ______________¶_¶___¶__________¶___¶_¶\n",
    "# _______________¶¶___¶__________¶___¶¶\n",
    "# ________________¶___¶_¶¶¶¶¶¶¶¶_¶___¶\n",
    "# ________________¶___¶¶¶¶¶¶¶¶¶¶¶¶___¶\n",
    "# _________________¶__¶¶¶¶¶¶¶¶¶¶¶¶__¶\n",
    "# __________________¶_¶¶¶¶¶¶¶¶¶¶¶¶_¶\n",
    "# __________________¶___¶¶¶¶¶¶¶¶___¶\n",
    "# ___________________¶___¶¶¶¶¶¶___¶\n",
    "# ____________________¶__________¶\n",
    "# _____________________¶¶¶¶¶¶¶¶¶¶"
   ]
  },
  {
   "cell_type": "markdown",
   "id": "6790a0f2",
   "metadata": {},
   "source": [
    "##### Sample solution"
   ]
  },
  {
   "cell_type": "code",
   "execution_count": 30,
   "id": "6dd427f7",
   "metadata": {},
   "outputs": [],
   "source": [
    "@measure_time\n",
    "def twoSum_twoPointers(nums, target):\n",
    "\n",
    "    i, j = 0, len(nums) - 1\n",
    "    \n",
    "    while i <= j:\n",
    "        if nums[i] + nums[j] == target:\n",
    "            return [i, j]\n",
    "        elif nums[i] + nums[j] > target:\n",
    "            j -= 1\n",
    "        else:\n",
    "            i += 1"
   ]
  },
  {
   "cell_type": "code",
   "execution_count": 31,
   "id": "1312ded8",
   "metadata": {},
   "outputs": [
    {
     "name": "stdout",
     "output_type": "stream",
     "text": [
      "Time of execution is 0.0 seconds\n"
     ]
    },
    {
     "data": {
      "text/plain": [
       "[0, 1]"
      ]
     },
     "execution_count": 31,
     "metadata": {},
     "output_type": "execute_result"
    }
   ],
   "source": [
    "twoSum_twoPointers(nums1, target1)"
   ]
  },
  {
   "cell_type": "code",
   "execution_count": 32,
   "id": "3dd624f3",
   "metadata": {},
   "outputs": [
    {
     "name": "stdout",
     "output_type": "stream",
     "text": [
      "Time of execution is 0.0 seconds\n"
     ]
    },
    {
     "data": {
      "text/plain": [
       "[0, 2]"
      ]
     },
     "execution_count": 32,
     "metadata": {},
     "output_type": "execute_result"
    }
   ],
   "source": [
    "twoSum_twoPointers(nums2, target2)"
   ]
  },
  {
   "cell_type": "code",
   "execution_count": 33,
   "id": "dc1aacbd",
   "metadata": {},
   "outputs": [
    {
     "name": "stdout",
     "output_type": "stream",
     "text": [
      "Time of execution is 0.0 seconds\n"
     ]
    },
    {
     "data": {
      "text/plain": [
       "[0, 1]"
      ]
     },
     "execution_count": 33,
     "metadata": {},
     "output_type": "execute_result"
    }
   ],
   "source": [
    "twoSum_twoPointers(nums3, target3)"
   ]
  },
  {
   "cell_type": "markdown",
   "id": "53474c8a",
   "metadata": {},
   "source": [
    "### 125. [Valid Palindrome](https://leetcode.com/problems/valid-palindrome/description/)\n",
    "\n",
    "A phrase is a palindrome if, after converting all uppercase letters into lowercase letters and removing all non-alphanumeric characters, it reads the same forward and backward. Alphanumeric characters include letters and numbers.\n",
    "\n",
    "Given a string `s`, return `true` if it is a palindrome, or `false` otherwise."
   ]
  },
  {
   "cell_type": "code",
   "execution_count": 34,
   "id": "b6e6d1cb",
   "metadata": {},
   "outputs": [],
   "source": [
    "# Example 1:\n",
    "\n",
    "#Input: \n",
    "s1 = \"A man, a plan, a canal: Panama\"\n",
    "#Output: true\n",
    "#Explanation: \"amanaplanacanalpanama\" is a palindrome.\n",
    "    \n",
    "# Example 2:\n",
    "\n",
    "#Input: \n",
    "s2 = \"race a car\"\n",
    "# Output: false\n",
    "# Explanation: \"raceacar\" is not a palindrome.\n",
    "    \n",
    "# Example 3:\n",
    "\n",
    "#Input: \n",
    "s3 = \" \"\n",
    "# Output: true\n",
    "# Explanation: s is an empty string \"\" after removing non-alphanumeric characters. \n",
    "#Since an empty string reads the same forward and backward, it is a palindrome."
   ]
  },
  {
   "cell_type": "markdown",
   "id": "669d9567",
   "metadata": {},
   "source": [
    "#### Your solution"
   ]
  },
  {
   "cell_type": "code",
   "execution_count": 35,
   "id": "a781c14a",
   "metadata": {},
   "outputs": [],
   "source": [
    "# your code"
   ]
  },
  {
   "cell_type": "code",
   "execution_count": 36,
   "id": "d8f4fb9c",
   "metadata": {},
   "outputs": [],
   "source": [
    "# _¶¶¶¶¶______________________________________¶¶¶¶\n",
    "# __¶¶____¶¶¶_______¶¶¶¶¶¶_¶¶¶_¶¶¶¶¶______¶¶¶¶___¶\n",
    "# __¶_¶¶_____¶¶¶¶¶¶__________________¶¶¶¶¶¶_____¶¶\n",
    "# __¶___¶__________¶___________________________¶__¶\n",
    "# __¶____¶___________________________________¶¶___¶\n",
    "# __¶______¶¶_______________________________¶_____¶\n",
    "# __¶_______¶____________________________¶¶_______¶\n",
    "# __¶______¶________________________________¶_____¶\n",
    "# ___¶____¶__________________________________¶___¶\n",
    "# __¶¶___¶____________________________________¶___¶\n",
    "# __¶_¶¶¶______________________________________¶_¶\n",
    "# _¶___¶________________________________________¶¶_¶\n",
    "# _¶________________¶¶¶¶¶¶____¶¶¶¶¶¶______________¶_¶\n",
    "# ¶__¶____________¶¶¶¶¶¶¶¶____¶¶¶¶¶¶¶¶____________¶_¶\n",
    "# ¶__¶__________¶¶__¶¶¶¶¶¶____¶¶¶____¶¶¶¶_________¶_¶\n",
    "# ¶_¶¶________¶¶¶_¶¶¶__¶¶¶____¶¶___¶¶¶_¶¶¶_________¶_¶\n",
    "# ¶_¶¶________¶¶_¶¶¶¶¶¶_¶______¶_¶¶¶¶¶¶¶¶_¶_______¶¶_¶\n",
    "# ¶_¶¶______¶__¶_¶¶¶¶_¶¶________¶¶_¶¶¶¶¶_¶__¶_____¶¶_¶\n",
    "# ¶_¶¶¶____¶¶¶_¶¶_¶¶¶_¶¶¶______¶¶¶__¶¶¶_¶_¶_¶____¶¶¶_¶\n",
    "# ¶_¶_¶____¶_¶¶__¶___¶¶¶________¶¶¶___¶__¶¶_¶____¶_¶_¶\n",
    "# ¶_¶¶_¶__¶___¶¶___¶¶¶¶¶________¶¶¶¶¶___¶¶¶__¶__¶__¶_¶\n",
    "# _¶_¶_¶_¶¶___¶¶¶¶_¶¶¶¶¶________¶¶¶¶__¶¶¶¶___¶____¶_¶\n",
    "# __¶_¶_¶¶______¶¶__¶¶_¶________¶¶¶__¶¶¶___¶__¶¶¶¶_¶\n",
    "# ___¶¶¶¶____¶___¶¶____¶________¶___¶¶¶___¶______¶\n",
    "# _____¶¶¶¶______¶¶____¶________¶___¶¶¶_______¶¶\n",
    "# _______¶¶¶¶____¶¶___¶__________¶___¶¶______¶\n",
    "# _________¶¶____¶¶___¶__________¶___¶¶____¶¶\n",
    "# ___________¶¶_¶¶¶___¶__________¶___¶¶_¶¶¶\n",
    "# ______________¶_¶___¶__________¶___¶_¶\n",
    "# _______________¶¶___¶__________¶___¶¶\n",
    "# ________________¶___¶_¶¶¶¶¶¶¶¶_¶___¶\n",
    "# ________________¶___¶¶¶¶¶¶¶¶¶¶¶¶___¶\n",
    "# _________________¶__¶¶¶¶¶¶¶¶¶¶¶¶__¶\n",
    "# __________________¶_¶¶¶¶¶¶¶¶¶¶¶¶_¶\n",
    "# __________________¶___¶¶¶¶¶¶¶¶___¶\n",
    "# ___________________¶___¶¶¶¶¶¶___¶\n",
    "# ____________________¶__________¶\n",
    "# _____________________¶¶¶¶¶¶¶¶¶¶"
   ]
  },
  {
   "cell_type": "markdown",
   "id": "40a09f75",
   "metadata": {},
   "source": [
    "#### Sample solution"
   ]
  },
  {
   "cell_type": "code",
   "execution_count": 37,
   "id": "529368ad",
   "metadata": {},
   "outputs": [],
   "source": [
    "@measure_time\n",
    "def isPalindrome(s):\n",
    "    \n",
    "    i, j = 0, len(s) - 1\n",
    "    \n",
    "    while i < j:\n",
    "        a, b = s[i].lower(), s[j].lower()\n",
    "        if a.isalnum() and b.isalnum():\n",
    "            if a != b: \n",
    "                return False\n",
    "            else:\n",
    "                i, j = i + 1, j - 1\n",
    "                continue\n",
    "        i, j = i + (not a.isalnum()), j - (not b.isalnum())\n",
    "        \n",
    "    return True"
   ]
  },
  {
   "cell_type": "code",
   "execution_count": 38,
   "id": "8a8e336c",
   "metadata": {},
   "outputs": [
    {
     "name": "stdout",
     "output_type": "stream",
     "text": [
      "Time of execution is 0.0 seconds\n"
     ]
    },
    {
     "data": {
      "text/plain": [
       "True"
      ]
     },
     "execution_count": 38,
     "metadata": {},
     "output_type": "execute_result"
    }
   ],
   "source": [
    "isPalindrome(s1)"
   ]
  },
  {
   "cell_type": "code",
   "execution_count": 39,
   "id": "c833836a",
   "metadata": {},
   "outputs": [
    {
     "name": "stdout",
     "output_type": "stream",
     "text": [
      "Time of execution is 0.0 seconds\n"
     ]
    },
    {
     "data": {
      "text/plain": [
       "False"
      ]
     },
     "execution_count": 39,
     "metadata": {},
     "output_type": "execute_result"
    }
   ],
   "source": [
    "isPalindrome(s2)"
   ]
  },
  {
   "cell_type": "code",
   "execution_count": 40,
   "id": "90dd89af",
   "metadata": {},
   "outputs": [
    {
     "name": "stdout",
     "output_type": "stream",
     "text": [
      "Time of execution is 0.0 seconds\n"
     ]
    },
    {
     "data": {
      "text/plain": [
       "True"
      ]
     },
     "execution_count": 40,
     "metadata": {},
     "output_type": "execute_result"
    }
   ],
   "source": [
    "isPalindrome(s3)"
   ]
  },
  {
   "cell_type": "markdown",
   "id": "28ddcb2c",
   "metadata": {},
   "source": [
    "### [11. Container With Most Water](https://leetcode.com/problems/container-with-most-water/description/)\n",
    "\n",
    "You are given an integer array `height` of length `n`. There are `n` vertical lines drawn such that the two endpoints of the i$^{th}$ line are `(i, 0)` and `(i, height[i])`.\n",
    "\n",
    "Find two lines that together with the x-axis form a container, such that the container contains the most water.\n",
    "\n",
    "Return the maximum amount of water a container can store.\n",
    "\n",
    "**Notice** that you may not slant the container.\n",
    "\n",
    "<center> <img src=\"https://s3-lc-upload.s3.amazonaws.com/uploads/2018/07/17/question_11.jpg\" width=80%> </center>"
   ]
  },
  {
   "cell_type": "code",
   "execution_count": 41,
   "id": "58b896f4",
   "metadata": {},
   "outputs": [],
   "source": [
    "# Example 1:\n",
    "\n",
    "#Input: \n",
    "height1 = [1,8,6,2,5,4,8,3,7]\n",
    "# Output: 49\n",
    "#Explanation: The above vertical lines are represented by array [1,8,6,2,5,4,8,3,7]. In this case, the max area of water (blue section) the container can contain is 49.\n",
    "\n",
    "#Example 2:\n",
    "\n",
    "#Input: \n",
    "height2 = [1,1]\n",
    "# Output: 1"
   ]
  },
  {
   "cell_type": "markdown",
   "id": "079087ca",
   "metadata": {},
   "source": [
    "#### Your solution"
   ]
  },
  {
   "cell_type": "code",
   "execution_count": 42,
   "id": "2e5142a1",
   "metadata": {},
   "outputs": [],
   "source": [
    "# your code"
   ]
  },
  {
   "cell_type": "code",
   "execution_count": 43,
   "id": "1ee1fcf8",
   "metadata": {},
   "outputs": [],
   "source": [
    "# _¶¶¶¶¶______________________________________¶¶¶¶\n",
    "# __¶¶____¶¶¶_______¶¶¶¶¶¶_¶¶¶_¶¶¶¶¶______¶¶¶¶___¶\n",
    "# __¶_¶¶_____¶¶¶¶¶¶__________________¶¶¶¶¶¶_____¶¶\n",
    "# __¶___¶__________¶___________________________¶__¶\n",
    "# __¶____¶___________________________________¶¶___¶\n",
    "# __¶______¶¶_______________________________¶_____¶\n",
    "# __¶_______¶____________________________¶¶_______¶\n",
    "# __¶______¶________________________________¶_____¶\n",
    "# ___¶____¶__________________________________¶___¶\n",
    "# __¶¶___¶____________________________________¶___¶\n",
    "# __¶_¶¶¶______________________________________¶_¶\n",
    "# _¶___¶________________________________________¶¶_¶\n",
    "# _¶________________¶¶¶¶¶¶____¶¶¶¶¶¶______________¶_¶\n",
    "# ¶__¶____________¶¶¶¶¶¶¶¶____¶¶¶¶¶¶¶¶____________¶_¶\n",
    "# ¶__¶__________¶¶__¶¶¶¶¶¶____¶¶¶____¶¶¶¶_________¶_¶\n",
    "# ¶_¶¶________¶¶¶_¶¶¶__¶¶¶____¶¶___¶¶¶_¶¶¶_________¶_¶\n",
    "# ¶_¶¶________¶¶_¶¶¶¶¶¶_¶______¶_¶¶¶¶¶¶¶¶_¶_______¶¶_¶\n",
    "# ¶_¶¶______¶__¶_¶¶¶¶_¶¶________¶¶_¶¶¶¶¶_¶__¶_____¶¶_¶\n",
    "# ¶_¶¶¶____¶¶¶_¶¶_¶¶¶_¶¶¶______¶¶¶__¶¶¶_¶_¶_¶____¶¶¶_¶\n",
    "# ¶_¶_¶____¶_¶¶__¶___¶¶¶________¶¶¶___¶__¶¶_¶____¶_¶_¶\n",
    "# ¶_¶¶_¶__¶___¶¶___¶¶¶¶¶________¶¶¶¶¶___¶¶¶__¶__¶__¶_¶\n",
    "# _¶_¶_¶_¶¶___¶¶¶¶_¶¶¶¶¶________¶¶¶¶__¶¶¶¶___¶____¶_¶\n",
    "# __¶_¶_¶¶______¶¶__¶¶_¶________¶¶¶__¶¶¶___¶__¶¶¶¶_¶\n",
    "# ___¶¶¶¶____¶___¶¶____¶________¶___¶¶¶___¶______¶\n",
    "# _____¶¶¶¶______¶¶____¶________¶___¶¶¶_______¶¶\n",
    "# _______¶¶¶¶____¶¶___¶__________¶___¶¶______¶\n",
    "# _________¶¶____¶¶___¶__________¶___¶¶____¶¶\n",
    "# ___________¶¶_¶¶¶___¶__________¶___¶¶_¶¶¶\n",
    "# ______________¶_¶___¶__________¶___¶_¶\n",
    "# _______________¶¶___¶__________¶___¶¶\n",
    "# ________________¶___¶_¶¶¶¶¶¶¶¶_¶___¶\n",
    "# ________________¶___¶¶¶¶¶¶¶¶¶¶¶¶___¶\n",
    "# _________________¶__¶¶¶¶¶¶¶¶¶¶¶¶__¶\n",
    "# __________________¶_¶¶¶¶¶¶¶¶¶¶¶¶_¶\n",
    "# __________________¶___¶¶¶¶¶¶¶¶___¶\n",
    "# ___________________¶___¶¶¶¶¶¶___¶\n",
    "# ____________________¶__________¶\n",
    "# _____________________¶¶¶¶¶¶¶¶¶¶"
   ]
  },
  {
   "cell_type": "markdown",
   "id": "d48c31a0",
   "metadata": {},
   "source": [
    "#### Sample solution"
   ]
  },
  {
   "cell_type": "code",
   "execution_count": 44,
   "id": "34fb8dd9",
   "metadata": {},
   "outputs": [],
   "source": [
    "@measure_time\n",
    "def maxArea(height):\n",
    "    \n",
    "    ans, left, right = 0, 0, len(height)-1\n",
    "    \n",
    "    while left < right:\n",
    "        \n",
    "        if height[left] <= height[right]:\n",
    "            res = height[left] * (right - left)\n",
    "            left += 1\n",
    "        else:\n",
    "            res = height[right] * (right - left)\n",
    "            right -= 1\n",
    "            \n",
    "        ans = max(ans, res)\n",
    "        \n",
    "    return ans"
   ]
  },
  {
   "cell_type": "code",
   "execution_count": 45,
   "id": "72b3401c",
   "metadata": {},
   "outputs": [
    {
     "name": "stdout",
     "output_type": "stream",
     "text": [
      "Time of execution is 0.0 seconds\n"
     ]
    },
    {
     "data": {
      "text/plain": [
       "49"
      ]
     },
     "execution_count": 45,
     "metadata": {},
     "output_type": "execute_result"
    }
   ],
   "source": [
    "maxArea(height1)"
   ]
  },
  {
   "cell_type": "code",
   "execution_count": 46,
   "id": "599c8845",
   "metadata": {},
   "outputs": [
    {
     "name": "stdout",
     "output_type": "stream",
     "text": [
      "Time of execution is 0.0 seconds\n"
     ]
    },
    {
     "data": {
      "text/plain": [
       "1"
      ]
     },
     "execution_count": 46,
     "metadata": {},
     "output_type": "execute_result"
    }
   ],
   "source": [
    "maxArea(height2)"
   ]
  },
  {
   "cell_type": "markdown",
   "id": "c3397571",
   "metadata": {},
   "source": [
    "## 2.3. Binary Search"
   ]
  },
  {
   "cell_type": "markdown",
   "id": "93c079ca",
   "metadata": {},
   "source": [
    "Метод **бинарного поиска**, или **Binary Search**, - это алгоритм поиска, используемый в отсортированном массиве путем многократного деления интервала поиска пополам. Идея бинарного поиска состоит в том, чтобы использовать информацию о том, что массив отсортирован, и уменьшить временную сложность с **O(N)** до **O(logN)**."
   ]
  },
  {
   "cell_type": "markdown",
   "id": "645ff91b",
   "metadata": {},
   "source": [
    "### [704. Binary Search](https://leetcode.com/problems/binary-search/)\n",
    "\n",
    "Given an array of integers `nums` which is **sorted in ascending order**, and an integer `target`, write a function to search `target` in `nums`. If `target` exists, then return its index. Otherwise, return `-1`.\n",
    "\n",
    "You must write an algorithm with **O(logN)** runtime complexity."
   ]
  },
  {
   "cell_type": "code",
   "execution_count": 47,
   "id": "af497cad",
   "metadata": {},
   "outputs": [],
   "source": [
    "# Example 1:\n",
    "\n",
    "# Input: \n",
    "nums1 = [-1,0,3,5,9,12]\n",
    "target1 = 9\n",
    "# Output: 4\n",
    "# Explanation: 9 exists in nums and its index is 4\n",
    "\n",
    "# Example 2:\n",
    "\n",
    "# Input: \n",
    "nums2 = [-1,0,3,5,9,12]\n",
    "target2 = 2\n",
    "# Output: -1\n",
    "# Explanation: 2 does not exist in nums so return -1"
   ]
  },
  {
   "cell_type": "markdown",
   "id": "070dccfd",
   "metadata": {},
   "source": [
    "#### Your solution"
   ]
  },
  {
   "cell_type": "code",
   "execution_count": 48,
   "id": "108b7322",
   "metadata": {},
   "outputs": [],
   "source": [
    "# your code"
   ]
  },
  {
   "cell_type": "code",
   "execution_count": 49,
   "id": "2ef3bbd9",
   "metadata": {},
   "outputs": [],
   "source": [
    "# _¶¶¶¶¶______________________________________¶¶¶¶\n",
    "# __¶¶____¶¶¶_______¶¶¶¶¶¶_¶¶¶_¶¶¶¶¶______¶¶¶¶___¶\n",
    "# __¶_¶¶_____¶¶¶¶¶¶__________________¶¶¶¶¶¶_____¶¶\n",
    "# __¶___¶__________¶___________________________¶__¶\n",
    "# __¶____¶___________________________________¶¶___¶\n",
    "# __¶______¶¶_______________________________¶_____¶\n",
    "# __¶_______¶____________________________¶¶_______¶\n",
    "# __¶______¶________________________________¶_____¶\n",
    "# ___¶____¶__________________________________¶___¶\n",
    "# __¶¶___¶____________________________________¶___¶\n",
    "# __¶_¶¶¶______________________________________¶_¶\n",
    "# _¶___¶________________________________________¶¶_¶\n",
    "# _¶________________¶¶¶¶¶¶____¶¶¶¶¶¶______________¶_¶\n",
    "# ¶__¶____________¶¶¶¶¶¶¶¶____¶¶¶¶¶¶¶¶____________¶_¶\n",
    "# ¶__¶__________¶¶__¶¶¶¶¶¶____¶¶¶____¶¶¶¶_________¶_¶\n",
    "# ¶_¶¶________¶¶¶_¶¶¶__¶¶¶____¶¶___¶¶¶_¶¶¶_________¶_¶\n",
    "# ¶_¶¶________¶¶_¶¶¶¶¶¶_¶______¶_¶¶¶¶¶¶¶¶_¶_______¶¶_¶\n",
    "# ¶_¶¶______¶__¶_¶¶¶¶_¶¶________¶¶_¶¶¶¶¶_¶__¶_____¶¶_¶\n",
    "# ¶_¶¶¶____¶¶¶_¶¶_¶¶¶_¶¶¶______¶¶¶__¶¶¶_¶_¶_¶____¶¶¶_¶\n",
    "# ¶_¶_¶____¶_¶¶__¶___¶¶¶________¶¶¶___¶__¶¶_¶____¶_¶_¶\n",
    "# ¶_¶¶_¶__¶___¶¶___¶¶¶¶¶________¶¶¶¶¶___¶¶¶__¶__¶__¶_¶\n",
    "# _¶_¶_¶_¶¶___¶¶¶¶_¶¶¶¶¶________¶¶¶¶__¶¶¶¶___¶____¶_¶\n",
    "# __¶_¶_¶¶______¶¶__¶¶_¶________¶¶¶__¶¶¶___¶__¶¶¶¶_¶\n",
    "# ___¶¶¶¶____¶___¶¶____¶________¶___¶¶¶___¶______¶\n",
    "# _____¶¶¶¶______¶¶____¶________¶___¶¶¶_______¶¶\n",
    "# _______¶¶¶¶____¶¶___¶__________¶___¶¶______¶\n",
    "# _________¶¶____¶¶___¶__________¶___¶¶____¶¶\n",
    "# ___________¶¶_¶¶¶___¶__________¶___¶¶_¶¶¶\n",
    "# ______________¶_¶___¶__________¶___¶_¶\n",
    "# _______________¶¶___¶__________¶___¶¶\n",
    "# ________________¶___¶_¶¶¶¶¶¶¶¶_¶___¶\n",
    "# ________________¶___¶¶¶¶¶¶¶¶¶¶¶¶___¶\n",
    "# _________________¶__¶¶¶¶¶¶¶¶¶¶¶¶__¶\n",
    "# __________________¶_¶¶¶¶¶¶¶¶¶¶¶¶_¶\n",
    "# __________________¶___¶¶¶¶¶¶¶¶___¶\n",
    "# ___________________¶___¶¶¶¶¶¶___¶\n",
    "# ____________________¶__________¶\n",
    "# _____________________¶¶¶¶¶¶¶¶¶¶"
   ]
  },
  {
   "cell_type": "markdown",
   "id": "e54863be",
   "metadata": {},
   "source": [
    "#### Sample solution"
   ]
  },
  {
   "cell_type": "code",
   "execution_count": 50,
   "id": "1c59c472",
   "metadata": {},
   "outputs": [],
   "source": [
    "@measure_time\n",
    "def search(nums, target):\n",
    "    \n",
    "    left, right = 0, len(nums) - 1\n",
    "\n",
    "    while left <= right:\n",
    "        \n",
    "        mid = left + (right - left) // 2\n",
    "        \n",
    "        if nums[mid] == target:\n",
    "            return mid\n",
    "        elif nums[mid] > target:\n",
    "            right = mid - 1\n",
    "        else:\n",
    "            left = mid + 1\n",
    "\n",
    "    return -1"
   ]
  },
  {
   "cell_type": "code",
   "execution_count": 51,
   "id": "bbeceab3",
   "metadata": {},
   "outputs": [
    {
     "name": "stdout",
     "output_type": "stream",
     "text": [
      "Time of execution is 0.0 seconds\n"
     ]
    },
    {
     "data": {
      "text/plain": [
       "4"
      ]
     },
     "execution_count": 51,
     "metadata": {},
     "output_type": "execute_result"
    }
   ],
   "source": [
    "search(nums1, target1)"
   ]
  },
  {
   "cell_type": "code",
   "execution_count": 52,
   "id": "144ae7ca",
   "metadata": {},
   "outputs": [
    {
     "name": "stdout",
     "output_type": "stream",
     "text": [
      "Time of execution is 0.0 seconds\n"
     ]
    },
    {
     "data": {
      "text/plain": [
       "-1"
      ]
     },
     "execution_count": 52,
     "metadata": {},
     "output_type": "execute_result"
    }
   ],
   "source": [
    "search(nums2, target2)"
   ]
  },
  {
   "cell_type": "markdown",
   "id": "d3a50bbc",
   "metadata": {},
   "source": [
    "## 2.4. Sliding Window"
   ]
  },
  {
   "cell_type": "markdown",
   "id": "2228ac68",
   "metadata": {},
   "source": [
    "Задачи, для которых используется техника **скользящего окна**, — это задачи, в которых окно фиксированного или переменного размера двигается по структуре данных (обычно массив или строку) для эффективного решения задач на непрерывных подмножествах элементов. Этот метод используется тогда, когда нам нужно найти подмассивы или подстроки в соответствии с заданным набором условий.\n",
    "\n",
    "<center> <img src=\"https://media.geeksforgeeks.org/wp-content/uploads/20240306112450/sliding-window-technique-2.webp\" width=70%> </center>"
   ]
  },
  {
   "cell_type": "markdown",
   "id": "1c8906b0",
   "metadata": {},
   "source": [
    "### [121. Best Time to Buy And Sell Stock](https://leetcode.com/problems/best-time-to-buy-and-sell-stock/description/)\n",
    "\n",
    "You are given an array `prices` where `prices[i]` is the price of a given stock on the i$^{th}$ day.\n",
    "\n",
    "You want to maximize your profit by choosing a single day to buy one stock and choosing a different day in the future to sell that stock.\n",
    "\n",
    "Return the `maximum profit` you can achieve from this transaction. If you cannot achieve any profit, return `0`."
   ]
  },
  {
   "cell_type": "code",
   "execution_count": 53,
   "id": "3d9bf863",
   "metadata": {},
   "outputs": [],
   "source": [
    "# Example 1:\n",
    "\n",
    "# Input: \n",
    "prices1 = [7,1,5,3,6,4]\n",
    "# Output: 5\n",
    "# Explanation: Buy on day 2 (price = 1) and sell on day 5 (price = 6), profit = 6-1 = 5.\n",
    "# Note that buying on day 2 and selling on day 1 is not allowed because you must buy before you sell.\n",
    "\n",
    "# Example 2:\n",
    "\n",
    "# Input: \n",
    "prices2 = [7,6,4,3,1]\n",
    "# Output: 0\n",
    "# Explanation: In this case, no transactions are done and the max profit = 0."
   ]
  },
  {
   "cell_type": "markdown",
   "id": "844cf37d",
   "metadata": {},
   "source": [
    "#### Your solution"
   ]
  },
  {
   "cell_type": "code",
   "execution_count": 54,
   "id": "b8beb759",
   "metadata": {},
   "outputs": [],
   "source": [
    "# your code"
   ]
  },
  {
   "cell_type": "code",
   "execution_count": 55,
   "id": "07a65274",
   "metadata": {},
   "outputs": [],
   "source": [
    "# _¶¶¶¶¶______________________________________¶¶¶¶\n",
    "# __¶¶____¶¶¶_______¶¶¶¶¶¶_¶¶¶_¶¶¶¶¶______¶¶¶¶___¶\n",
    "# __¶_¶¶_____¶¶¶¶¶¶__________________¶¶¶¶¶¶_____¶¶\n",
    "# __¶___¶__________¶___________________________¶__¶\n",
    "# __¶____¶___________________________________¶¶___¶\n",
    "# __¶______¶¶_______________________________¶_____¶\n",
    "# __¶_______¶____________________________¶¶_______¶\n",
    "# __¶______¶________________________________¶_____¶\n",
    "# ___¶____¶__________________________________¶___¶\n",
    "# __¶¶___¶____________________________________¶___¶\n",
    "# __¶_¶¶¶______________________________________¶_¶\n",
    "# _¶___¶________________________________________¶¶_¶\n",
    "# _¶________________¶¶¶¶¶¶____¶¶¶¶¶¶______________¶_¶\n",
    "# ¶__¶____________¶¶¶¶¶¶¶¶____¶¶¶¶¶¶¶¶____________¶_¶\n",
    "# ¶__¶__________¶¶__¶¶¶¶¶¶____¶¶¶____¶¶¶¶_________¶_¶\n",
    "# ¶_¶¶________¶¶¶_¶¶¶__¶¶¶____¶¶___¶¶¶_¶¶¶_________¶_¶\n",
    "# ¶_¶¶________¶¶_¶¶¶¶¶¶_¶______¶_¶¶¶¶¶¶¶¶_¶_______¶¶_¶\n",
    "# ¶_¶¶______¶__¶_¶¶¶¶_¶¶________¶¶_¶¶¶¶¶_¶__¶_____¶¶_¶\n",
    "# ¶_¶¶¶____¶¶¶_¶¶_¶¶¶_¶¶¶______¶¶¶__¶¶¶_¶_¶_¶____¶¶¶_¶\n",
    "# ¶_¶_¶____¶_¶¶__¶___¶¶¶________¶¶¶___¶__¶¶_¶____¶_¶_¶\n",
    "# ¶_¶¶_¶__¶___¶¶___¶¶¶¶¶________¶¶¶¶¶___¶¶¶__¶__¶__¶_¶\n",
    "# _¶_¶_¶_¶¶___¶¶¶¶_¶¶¶¶¶________¶¶¶¶__¶¶¶¶___¶____¶_¶\n",
    "# __¶_¶_¶¶______¶¶__¶¶_¶________¶¶¶__¶¶¶___¶__¶¶¶¶_¶\n",
    "# ___¶¶¶¶____¶___¶¶____¶________¶___¶¶¶___¶______¶\n",
    "# _____¶¶¶¶______¶¶____¶________¶___¶¶¶_______¶¶\n",
    "# _______¶¶¶¶____¶¶___¶__________¶___¶¶______¶\n",
    "# _________¶¶____¶¶___¶__________¶___¶¶____¶¶\n",
    "# ___________¶¶_¶¶¶___¶__________¶___¶¶_¶¶¶\n",
    "# ______________¶_¶___¶__________¶___¶_¶\n",
    "# _______________¶¶___¶__________¶___¶¶\n",
    "# ________________¶___¶_¶¶¶¶¶¶¶¶_¶___¶\n",
    "# ________________¶___¶¶¶¶¶¶¶¶¶¶¶¶___¶\n",
    "# _________________¶__¶¶¶¶¶¶¶¶¶¶¶¶__¶\n",
    "# __________________¶_¶¶¶¶¶¶¶¶¶¶¶¶_¶\n",
    "# __________________¶___¶¶¶¶¶¶¶¶___¶\n",
    "# ___________________¶___¶¶¶¶¶¶___¶\n",
    "# ____________________¶__________¶\n",
    "# _____________________¶¶¶¶¶¶¶¶¶¶"
   ]
  },
  {
   "cell_type": "markdown",
   "id": "cd8eecec",
   "metadata": {},
   "source": [
    "#### Sample solution"
   ]
  },
  {
   "cell_type": "code",
   "execution_count": 56,
   "id": "666ffdac",
   "metadata": {},
   "outputs": [],
   "source": [
    "@measure_time\n",
    "def maxProfit(prices):\n",
    "    \n",
    "    max_profit, left, right = 0, 0, 1\n",
    "\n",
    "    while right < len(prices):\n",
    "        \n",
    "        current_profit = prices[right] - prices[left]\n",
    "        \n",
    "        if current_profit > max_profit:\n",
    "            max_profit = current_profit\n",
    "            \n",
    "        if current_profit < 0:\n",
    "            left = right\n",
    "            right += 1\n",
    "        else:\n",
    "            right += 1\n",
    "\n",
    "    return max_profit"
   ]
  },
  {
   "cell_type": "code",
   "execution_count": 57,
   "id": "e3fcf7ab",
   "metadata": {},
   "outputs": [
    {
     "name": "stdout",
     "output_type": "stream",
     "text": [
      "Time of execution is 0.0 seconds\n"
     ]
    },
    {
     "data": {
      "text/plain": [
       "5"
      ]
     },
     "execution_count": 57,
     "metadata": {},
     "output_type": "execute_result"
    }
   ],
   "source": [
    "maxProfit(prices1)"
   ]
  },
  {
   "cell_type": "code",
   "execution_count": 58,
   "id": "e094e3ff",
   "metadata": {},
   "outputs": [
    {
     "name": "stdout",
     "output_type": "stream",
     "text": [
      "Time of execution is 0.0 seconds\n"
     ]
    },
    {
     "data": {
      "text/plain": [
       "0"
      ]
     },
     "execution_count": 58,
     "metadata": {},
     "output_type": "execute_result"
    }
   ],
   "source": [
    "maxProfit(prices2)"
   ]
  }
 ],
 "metadata": {
  "kernelspec": {
   "display_name": "Python 3 (ipykernel)",
   "language": "python",
   "name": "python3"
  },
  "language_info": {
   "codemirror_mode": {
    "name": "ipython",
    "version": 3
   },
   "file_extension": ".py",
   "mimetype": "text/x-python",
   "name": "python",
   "nbconvert_exporter": "python",
   "pygments_lexer": "ipython3",
   "version": "3.11.8"
  }
 },
 "nbformat": 4,
 "nbformat_minor": 5
}
