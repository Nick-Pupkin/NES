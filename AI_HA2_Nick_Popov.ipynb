{
 "cells": [
  {
   "cell_type": "code",
   "execution_count": 1,
   "metadata": {
    "id": "i2Fm39EO4YL0"
   },
   "outputs": [],
   "source": [
    "## Полезная библиотека для решения\n",
    "# %pip install HeapDict\n",
    "import heapdict"
   ]
  },
  {
   "cell_type": "markdown",
   "metadata": {
    "id": "SS7t7idlwLnW"
   },
   "source": [
    "# Задание на программирование [5 баллов]\n",
    "\n",
    "**Постановка**\n",
    "\n",
    "В этой задаче вам предстоит реализовать алгоритм поиска на графе 𝐴*, для нахождения оптимальной последовательности ходов в игре пятнашки (3 × 3). Например, пусть дано следующее начальное расположение:\n",
    "\n",
    "|   |   |   |\n",
    "|---|---|---|\n",
    "| 1 | 2 | 3 |\n",
    "| 4 |   | 6 |\n",
    "| 7 | 5 | 8 |\n",
    "\n",
    "Ваша программа должна найти самую короткую последовательность ходов, чтобы перевести игру в целевое расположение:\n",
    "\n",
    "|   |   |   |\n",
    "|---|---|---|\n",
    "| 1 | 2 | 3 |\n",
    "| 4 | 5 | 6 |\n",
    "| 7 | 8 |   |\n",
    "\n",
    "Выход вашей программы должен выглядеть примерно так: [\"down\", \"right\"], то есть для решения этой головоломки нужно сначала сдвинуть пустую клетку внизу (поменять ее местами с костяшкой снизу), а затем сдвинуть ее вправо (поменять ее местами с костяшкой справа).\n",
    "\n",
    "**Техническию детали**\n",
    "\n",
    "*   Текущее состояние игры будет представлено в виде Python tuple, где пустая клетка обозачается нулем. Пример выше будет выглядеть следующим образом (1, 2, 3, 4, 0, 6, 7, 5, 8).\n",
    "*   Не каждая начальная позиция может быть переведена в целевое состояние. Чтобы протестировать ваше решение, может быть полезно написать функцию, которая генерирует валидные изначальные расположения. Для этого можно начать из целевой позиции и многогратно переместить пустую клетку в случайном допустимом направлении."
   ]
  },
  {
   "cell_type": "markdown",
   "metadata": {
    "id": "AQIzVpSEwLnY"
   },
   "source": [
    "## Часть 1. Реализация эвристик [2 балла]\n",
    "\n",
    "Вам нужно реализовать две эвристики в предоставленных шаблонах функций `heuristic_misplaced` и `heuristic_manhattan`."
   ]
  },
  {
   "cell_type": "markdown",
   "metadata": {
    "id": "clyflXFLwLnZ"
   },
   "source": [
    "**Задача 1. Количество неправильно расположенных костяшек [1 балла]**\n",
    "\n",
    "Реализуйте эвристику, которая возвращает количество костяшек, расположенных не на своих местах. Пустое пространство не является костяшкой и не должно учитываться при подсчете неправильно расположенных костяшек."
   ]
  },
  {
   "cell_type": "code",
   "execution_count": 2,
   "metadata": {
    "id": "XkDg2EEIwLnZ"
   },
   "outputs": [],
   "source": [
    "def heuristic_misplaced(state):\n",
    "    \"\"\"\n",
    "    Количество неправильно расположенных костяшек.\n",
    "    Пустое пространство не является костяшкой и не должно\n",
    "    не учитывается при подсчете неправильно размещенных костяшек.\n",
    "\n",
    "    :param state: Tuple, представляющий текущее состояние игры.\n",
    "    :return: Количество неправильно расположенных костяшек.\n",
    "    \"\"\"\n",
    "    n = len(state) # number of all cells in the game (if 3*3 =>  len(state) = 9\n",
    "    n_var = range(1, n ) # all numbers in play (1 cell is unoccupied)\n",
    "    goal_state = tuple(n_var) + (0,)  # into turple, but also add zero - for that unoccupied cell; \n",
    "    # note that these are in the appropriate order: 1,..n, 0\n",
    "    return sum(1 for i in range(n) if state[i] != goal_state[i] and state[i] != 0)\n",
    "    # check for correct positions, ignore zero: state[i] != goal_state[i] and state[i] != 0\n",
    "    # use sum to get the total number of misplaced values - get 1 in case of the checks are completed"
   ]
  },
  {
   "cell_type": "code",
   "execution_count": 3,
   "metadata": {
    "id": "gqY3zK9OxqBZ"
   },
   "outputs": [
    {
     "name": "stdout",
     "output_type": "stream",
     "text": [
      "Все тесты для heuristic_misplaced завершились успешно!\n"
     ]
    }
   ],
   "source": [
    "# В этом блоке вы можете протестировать свое решение для самопроверки.\n",
    "# После сдачи мы протестируем ваше решение на дополнительных тестах и проверим\n",
    "# корректность вручную\n",
    "\n",
    "def test_heuristic_misplaced():\n",
    "    res = []\n",
    "    test_cases = [\n",
    "    ((1, 2, 3, 4, 0, 6, 7, 5, 8), 2),\n",
    "    ((1, 2, 3, 4, 5, 6, 7, 8, 0), 0),\n",
    "    ((1, 2, 3, 4, 5, 6, 7, 0, 8), 1),\n",
    "    ((1, 2, 3, 4, 5, 6, 0, 7, 8), 2),\n",
    "    ((1, 2, 3, 4, 0, 5, 7, 8, 6), 2),\n",
    "]\n",
    "\n",
    "\n",
    "\n",
    "    for i, (state, expected_value) in enumerate(test_cases):\n",
    "        actual_value = heuristic_misplaced(state)\n",
    "        assert actual_value == expected_value, f\"Тест для расположения {state} завершился ошибкой: \" \\\n",
    "                                               f\"функия heuristic_misplaced вернула значение {actual_value}, \" \\\n",
    "                                               f\"ожидаемое значение: {expected_value}\"\n",
    "\n",
    "    print(\"Все тесты для heuristic_misplaced завершились успешно!\")\n",
    "\n",
    "test_heuristic_misplaced()"
   ]
  },
  {
   "cell_type": "markdown",
   "metadata": {},
   "source": [
    "Great!"
   ]
  },
  {
   "cell_type": "markdown",
   "metadata": {
    "id": "jWLldacvwLna"
   },
   "source": [
    "**Задача 2. Сумма манхэттенских расстояний до правильных позиций [1 балла]**\n",
    "\n",
    "Реализуйте эвристику, которая для каждой костяшки подсчитывает манхэттэнское расстояние до правильной позиции и возвращает сумму этих расстояний. Пустое пространство не является костяшкой и не должно учитываться при подсчете.\n",
    "\n",
    "*Пример: В приведенном выше примере расстояния от неправильно расположенных костяшек 5 и 8 до их правильных позиций равны 1, поэтому сумма манхэттенских расстояний равна 2.*"
   ]
  },
  {
   "cell_type": "code",
   "execution_count": 4,
   "metadata": {
    "id": "CtcUzt29wLna"
   },
   "outputs": [],
   "source": [
    "def heuristic_manhattan(state):\n",
    "    \"\"\"\n",
    "    Сумма манхэттенских расстояний от неправильно\n",
    "    расположенных костяшек до их правильного положения.\n",
    "\n",
    "    :param state: Tuple, представляющий текущее состояние игры.\n",
    "    :return: Сумма манхэттенских расстояний.\n",
    "    \"\"\"\n",
    "\n",
    "    m = int(len(state) ** 0.5)  # puzzle size (basically just calculate the dimension of the square side))\n",
    "    total_distance = 0 # to keep track of the total Manhattan distances from current to correct positions\n",
    "    \n",
    "    for i in range(len(state)): #iterate through all cells (tiles)\n",
    "        value = state[i] # get the value of the tile\n",
    "        if value != 0:  # ignore the blank tile\n",
    "            goal_row, goal_col = divmod(value - 1, m)  # expected position\n",
    "            current_row, current_col = divmod(i, m)    # current position\n",
    "            ''' \n",
    "            divmod:\n",
    "            \n",
    "            quotient, remainder = divmod(a, b)\n",
    "            quotient = a // b  # Integer division: 10 // 3 = 3 → (quotient) - this is the row number\n",
    "            remainder = a % b  # Modulus: 10 % 3 = 1 → (remainder) - this is the column number\n",
    "            \n",
    "            '''\n",
    "            total_distance += abs(goal_row - current_row) + abs(goal_col - current_col) # Manhattan distance\n",
    "    return total_distance\n",
    "\n",
    "    return -1 # TODO: Замените на ваше значение."
   ]
  },
  {
   "cell_type": "code",
   "execution_count": 5,
   "metadata": {
    "id": "qGnkeCpC1sJm"
   },
   "outputs": [
    {
     "name": "stdout",
     "output_type": "stream",
     "text": [
      "Все тесты для heuristic_manhattan завершились успешно!\n"
     ]
    }
   ],
   "source": [
    "# В этом блоке вы можете протестировать свое решение для самопроверки.\n",
    "# После сдачи мы протестируем ваше решение на дополнительных тестах и проверим\n",
    "# корректность вручную\n",
    "\n",
    "def test_heuristic_manhattan():\n",
    "    res = []\n",
    "    test_cases = [\n",
    "        ((1, 2, 3, 4, 0, 6, 7, 5, 8), 2),\n",
    "        ((1, 2, 3, 4, 5, 6, 7, 8, 0), 0),\n",
    "        ((1, 2, 3, 4, 5, 6, 0, 7, 8), 2),\n",
    "        ((1, 2, 3, 4, 6, 0, 7, 5, 8), 3),\n",
    "        ((1, 3, 0, 4, 2, 5, 7, 8, 6), 4)\n",
    "    ]\n",
    "\n",
    "    for state, expected_value in test_cases:\n",
    "        actual_value = heuristic_manhattan(state)\n",
    "        assert actual_value == expected_value, f\"Тест для расположения {state} завершился ошибкой: \" \\\n",
    "                                               f\"функия heuristic_manhattan вернула значение {actual_value}, \" \\\n",
    "                                               f\"ожидаемое значение: {expected_value}\"\n",
    "\n",
    "    print(\"Все тесты для heuristic_manhattan завершились успешно!\")\n",
    "\n",
    "test_heuristic_manhattan()"
   ]
  },
  {
   "cell_type": "markdown",
   "metadata": {},
   "source": [
    "nice"
   ]
  },
  {
   "cell_type": "markdown",
   "metadata": {
    "id": "KmgHU4pzwLna"
   },
   "source": [
    "## Часть 2. Реализация A* [2 балла]\n",
    "\n",
    "Теперь вам предстоит реализовать алгоритм поиска на графе A* в предоставленном шаблоне функции astar, чтобы найти решение пятнашек с помощью эвристик, описанных выше. Ваша функция должна возвращать два объекта:\n",
    "\n",
    "*   строку, представляющую ходы, необходимые для достижения цели\n",
    "*   список состояний в том порядке, в котором они были исследованы алгоритмом (expanded)\n",
    "\n",
    "Используйте символы «r», «l», «u» и «d» для обозначения направлений «вправо», «влево», «вверх» и «вниз» соответственно. В приведенном выше примере ваша функция должна вернуть строку `dr`. Если изначальное расположение не имеет решений, верните None для оптимального пути и список посещенных (Expanded) состояний.\n",
    "\n",
    "**Детерминированность**\n",
    "\n",
    "Строго говоря, A* не является детерминированым алгоритмом. Если при выборе следующей вершины для исследования несколько вершин имеют одинаковое значение cost-функции (текущее количество ходов + значение эвристики), то алгоритм выбирает из этих вершин произвольно.\n",
    "\n",
    "Чтобы мы могли проверить ваше решение, мы требуем, чтобы ваша реализация алгоритма выбирала из нескольких вершин с одинаковой cost-функцией в лексикографическом порядке. Например, состояние (1, 2, 3, 4, 0, 6, 7, 5, 8) лексикографически меньше, чем (1, 2, 3, 4, 0, 6, 7, 8, 5).\n",
    "\n",
    "**Реализация**\n",
    "\n",
    "В реализации алгоритма вам потребуется очередь с приоритетом для выбора следующей вершины для исследования. Мы рекомендуем использовать heapdict. В первом блоке этого ноутбука показано как установить эту библиотеку в Google Colab и импортировать ее. Подробности можно найти по адресу https://github.com/DanielStutzbach/heapdict.\n",
    "\n",
    "Чтобы выполнить требование детерминированности, в качестве value в очереди с приоритетами следует использовать tuple (зачение cost-функции, state). Тогда выбор из нескольких вершин с одинаковыми значениями cost-функции будет осуществляться в лексикографическом порядке.\n",
    "\n",
    "**Тестирование**\n",
    "\n",
    "В блоке ниже реализован простой тест для первичной проверки алгоритма. Однако, мы рекомендуем вам протестировать решение на дополнительных примерах, которые вы должны сгенерировать самостоятельно."
   ]
  },
  {
   "cell_type": "code",
   "execution_count": 7,
   "metadata": {},
   "outputs": [],
   "source": [
    "from heapdict import heapdict\n",
    "\n",
    "def get_neighbors(state, n):\n",
    "    \"\"\"returns valid moves and new states\"\"\"\n",
    "    state = list(state)\n",
    "    zero_pos = state.index(0)  # find blank tile (0)\n",
    "    row, col = divmod(zero_pos, n)\n",
    "\n",
    "    moves = []\n",
    "    move_dict = {'r': (0, 1), 'l': (0, -1), 'd': (1, 0), 'u': (-1, 0)}  # movement directions\n",
    "\n",
    "    for move, (dr, dc) in move_dict.items():\n",
    "        new_row, new_col = row + dr, col + dc\n",
    "        if 0 <= new_row < n and 0 <= new_col < n:  # check valid move\n",
    "            new_pos = new_row * n + new_col\n",
    "            new_state = state[:]\n",
    "            new_state[zero_pos], new_state[new_pos] = new_state[new_pos], new_state[zero_pos]  # swap tiles\n",
    "            moves.append((move, tuple(new_state)))  # store new state\n",
    "    \n",
    "    return moves\n",
    "\n",
    "def is_solvable(state):\n",
    "    \"\"\"checks if puzzle is solvable\"\"\"\n",
    "    inv_count = sum(\n",
    "        1 for i in range(len(state)) for j in range(i + 1, len(state))\n",
    "        if state[i] and state[j] and state[i] > state[j]  # count inversions\n",
    "    )\n",
    "    n = int(len(state) ** 0.5)\n",
    "    if n % 2 == 1:  # odd-sized board\n",
    "        return inv_count % 2 == 0\n",
    "    else:  # even-sized board\n",
    "        zero_row = state.index(0) // n  # find blank tile row\n",
    "        return (inv_count + zero_row) % 2 == 0  # check parity condition\n",
    "\n",
    "def astar(init_state, heuristic):\n",
    "    \"\"\"\n",
    "    a* search algorithm for solving n×n sliding puzzle with lexicographic ordering\n",
    "    \n",
    "    :param init_state: initial puzzle state (tuple)\n",
    "    :param heuristic: heuristic function (h1 or h2)\n",
    "    :return: (optimal path as string, list of explored states)\n",
    "    \"\"\"\n",
    "\n",
    "    if not is_solvable(init_state):\n",
    "        return None, []  # return if puzzle is unsolvable\n",
    "\n",
    "    n = int(len(init_state) ** 0.5)\n",
    "    goal_state = tuple(range(1, len(init_state))) + (0,)  # define goal state\n",
    "\n",
    "    # priority queue using heapdict (f, g, path, state) → ensures lexicographic order\n",
    "    open_set = heapdict()\n",
    "    open_set[init_state] = (heuristic(init_state), 0, \"\", init_state)  # (f, g, path, state)\n",
    "\n",
    "    came_from = {}  # track path history\n",
    "    visited = set()  # track visited states\n",
    "    expanded = []  # track order of explored states\n",
    "\n",
    "    while open_set:\n",
    "        current_state, (f, g, path, _) = open_set.popitem()  # pop lexicographically smallest state\n",
    "        expanded.append(current_state)\n",
    "\n",
    "        if current_state == goal_state:\n",
    "            return path, expanded  # return solution if goal reached\n",
    "\n",
    "        visited.add(current_state)\n",
    "\n",
    "        for move, new_state in get_neighbors(current_state, n):\n",
    "            if new_state in visited:\n",
    "                continue  # skip already visited states\n",
    "\n",
    "            new_g = g + 1  # update step cost\n",
    "            new_f = new_g + heuristic(new_state)  # compute total cost\n",
    "\n",
    "            # enforce lexicographic ordering by storing state in priority queue\n",
    "            if new_state not in open_set or new_f < open_set[new_state][0]:\n",
    "                open_set[new_state] = (new_f, new_g, path + move, new_state)  # ensure lexicographic order\n",
    "                came_from[new_state] = (current_state, move)  # store path info\n",
    "\n",
    "    return None, expanded  # return if no solution found\n"
   ]
  },
  {
   "cell_type": "code",
   "execution_count": 8,
   "metadata": {
    "id": "CxMq1njV29_G"
   },
   "outputs": [
    {
     "name": "stdout",
     "output_type": "stream",
     "text": [
      "Все тесты для test_astar завершились успешно!\n"
     ]
    }
   ],
   "source": [
    "# В этом блоке вы можете протестировать свое решение для самопроверки.\n",
    "# После сдачи мы протестируем ваше решение на дополнительных тестах и проверим\n",
    "# корректность вручную\n",
    "\n",
    "def test_astar(heuristic):\n",
    "    test_cases = [\n",
    "            ((1, 2, 3, 4, 5, 6, 7, 8, 0), \"\", [(1, 2, 3, 4, 5, 6, 7, 8, 0)]),\n",
    "            ((1, 2, 3, 4, 5, 6, 0, 7, 8), \"rr\", [(1, 2, 3, 4, 5, 6, 0, 7, 8),\n",
    "                                                (1, 2, 3, 4, 5, 6, 7, 0, 8),\n",
    "                                                (1, 2, 3, 4, 5, 6, 7, 8, 0)]),\n",
    "            ((1, 2, 3, 4, 6, 0, 7, 5, 8), \"ldr\", [(1, 2, 3, 4, 6, 0, 7, 5, 8),\n",
    "                                                (1, 2, 3, 4, 0, 6, 7, 5, 8),\n",
    "                                                (1, 2, 3, 4, 5, 6, 7, 0, 8),\n",
    "                                                (1, 2, 3, 4, 5, 6, 7, 8, 0)]),\n",
    "            ((1, 3, 0, 4, 2, 5, 7, 8, 6), \"ldrd\", [(1, 3, 0, 4, 2, 5, 7, 8, 6),\n",
    "                                                (1, 0, 3, 4, 2, 5, 7, 8, 6),\n",
    "                                                (1, 2, 3, 4, 0, 5, 7, 8, 6),\n",
    "                                                (1, 2, 3, 4, 5, 0, 7, 8, 6),\n",
    "                                                (1, 2, 3, 4, 5, 6, 7, 8, 0)]),\n",
    "        ]\n",
    "\n",
    "    for test in test_cases:\n",
    "        state, actual_path, actual_states = test[0], test[1], test[2]\n",
    "        path, states = astar(test[0], heuristic)\n",
    "        assert path == actual_path and states == actual_states, f\"Тест для расположения {state} завершился ошибкой: \" \\\n",
    "                                                                f\"astar вернула {path}, {states}, \" \\\n",
    "                                                                    f\"ожидаемые значения {actual_path, actual_states}\"\n",
    "    print(\"Все тесты для test_astar завершились успешно!\")\n",
    "\n",
    "test_astar(heuristic_misplaced)"
   ]
  },
  {
   "cell_type": "markdown",
   "metadata": {
    "id": "Bor1YfHc2s2G"
   },
   "source": [
    "## Часть 3. Сравнение эвристик [1 балл]\n",
    "\n",
    "Теперь сравниие эффективность различных эвристик. Выберите несколько допустимых начальных позиций и сравните количество исследованных (expanded) алгоритмом состояний для двух эвристик. Прокомментируйте наблюдаемый результат."
   ]
  },
  {
   "cell_type": "code",
   "execution_count": 9,
   "metadata": {},
   "outputs": [
    {
     "name": "stdout",
     "output_type": "stream",
     "text": [
      "test case 1:\n",
      "  expanded states (h1 - misplaced tiles): 3\n",
      "  expanded states (h2 - Manhattan distance): 3\n",
      "  h2 is 1.0 times more efficient\n",
      "\n",
      "test case 2:\n",
      "  expanded states (h1 - misplaced tiles): 8374\n",
      "  expanded states (h2 - Manhattan distance): 1428\n",
      "  h2 is 5.9 times more efficient\n",
      "\n",
      "test case 3:\n",
      "  expanded states (h1 - misplaced tiles): 143849\n",
      "  expanded states (h2 - Manhattan distance): 21198\n",
      "  h2 is 6.8 times more efficient\n",
      "\n",
      "test case 4:\n",
      "  expanded states (h1 - misplaced tiles): 143849\n",
      "  expanded states (h2 - Manhattan distance): 21198\n",
      "  h2 is 6.8 times more efficient\n",
      "\n",
      "test case 5:\n",
      "  expanded states (h1 - misplaced tiles): 7\n",
      "  expanded states (h2 - Manhattan distance): 7\n",
      "  h2 is 1.0 times more efficient\n",
      "\n",
      "test case 6:\n",
      "  this puzzle is unsolvable.\n"
     ]
    }
   ],
   "source": [
    "def check_heuristics_difference():\n",
    "    \"\"\"compares the number of expanded states for different heuristics\"\"\"\n",
    "\n",
    "    test_cases = [\n",
    "        (1, 2, 3, 4, 0, 6, 7, 5, 8),  # simple swap needed\n",
    "        (3, 1, 2, 6, 4, 5, 0, 7, 8),\n",
    "        (8, 6, 7, 2, 5, 4, 3, 0, 1), # just some more cases))\n",
    "        (6, 4, 7, 8, 5, 0, 3, 2, 1),\n",
    "        (4, 1, 3, 7, 2, 5, 0, 8, 6),  \n",
    "        (1, 2, 3, 4, 5, 6, 8, 7, 0),\n",
    "    ]\n",
    "\n",
    "    results = []\n",
    "\n",
    "    for state in test_cases:\n",
    "        # run A* search with both heuristics\n",
    "        path_h1, expanded_h1 = astar(state, heuristic_misplaced)\n",
    "        path_h2, expanded_h2 = astar(state, heuristic_manhattan)\n",
    "\n",
    "        # check if it is an unsolvable case\n",
    "        if path_h1 is None and path_h2 is None:  \n",
    "            results.append((\"Unsolvable\", \"Unsolvable\"))\n",
    "        else: # if not- continue\n",
    "            results.append((len(expanded_h1), len(expanded_h2)))\n",
    "\n",
    "    # print results\n",
    "    for i, (h1_exp, h2_exp) in enumerate(results):\n",
    "        print(f\"test case {i+1}:\")\n",
    "        if h1_exp == \"Unsolvable\":\n",
    "            print(\"  this puzzle is unsolvable.\")\n",
    "        else:\n",
    "            print(f\"  expanded states (h1 - misplaced tiles): {h1_exp}\")\n",
    "            print(f\"  expanded states (h2 - Manhattan distance): {h2_exp}\")\n",
    "            print(f\"  h2 is {round(h1_exp / h2_exp, 1)} times more efficient\\n\")\n",
    "\n",
    "check_heuristics_difference()"
   ]
  },
  {
   "cell_type": "markdown",
   "metadata": {},
   "source": [
    "Well, for easy cases both heuristics perform the same way. For other cases- sometimes one is better than the other or inverse. "
   ]
  }
 ],
 "metadata": {
  "colab": {
   "provenance": []
  },
  "kernelspec": {
   "display_name": "Python 3 (ipykernel)",
   "language": "python",
   "name": "python3"
  },
  "language_info": {
   "codemirror_mode": {
    "name": "ipython",
    "version": 3
   },
   "file_extension": ".py",
   "mimetype": "text/x-python",
   "name": "python",
   "nbconvert_exporter": "python",
   "pygments_lexer": "ipython3",
   "version": "3.11.8"
  }
 },
 "nbformat": 4,
 "nbformat_minor": 4
}
