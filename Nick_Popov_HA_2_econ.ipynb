{
 "cells": [
  {
   "cell_type": "raw",
   "id": "53c928c0-6359-44c6-bc93-02b2aadd5a77",
   "metadata": {
    "tags": []
   },
   "source": [
    "Import libraries"
   ]
  },
  {
   "cell_type": "code",
   "execution_count": 1,
   "id": "7656fdff-3b6b-4f44-ab42-5a19d34a640a",
   "metadata": {
    "tags": []
   },
   "outputs": [],
   "source": [
    "import numpy as np # basic linear algebra \n",
    "from tqdm import tqdm # time for cycle\n",
    "import pandas as pd # for datasets\n",
    "import scipy.stats\n",
    "\n",
    "# for graphs\n",
    "import matplotlib.pyplot as plt \n",
    "import seaborn as sns\n",
    "from statsmodels.distributions.empirical_distribution import ECDF\n",
    "\n",
    "import statsmodels.api as sm # for adding a constant in the equation\n",
    "\n",
    "# for supressing warnings\n",
    "# import warnings\n",
    "# warnings.simplefilter(\"ignore\")"
   ]
  },
  {
   "cell_type": "markdown",
   "id": "8ecb1c60-3bb6-48fb-adb3-56749b6b0970",
   "metadata": {},
   "source": [
    "Import data\n",
    "\n",
    "Link: https://users.ssc.wisc.edu/~bhansen/econometrics/"
   ]
  },
  {
   "cell_type": "code",
   "execution_count": 3,
   "id": "1f0c23c4-0895-42dd-a0e5-38871dd7d37b",
   "metadata": {
    "tags": []
   },
   "outputs": [
    {
     "data": {
      "text/html": [
       "<div>\n",
       "<style scoped>\n",
       "    .dataframe tbody tr th:only-of-type {\n",
       "        vertical-align: middle;\n",
       "    }\n",
       "\n",
       "    .dataframe tbody tr th {\n",
       "        vertical-align: top;\n",
       "    }\n",
       "\n",
       "    .dataframe thead th {\n",
       "        text-align: right;\n",
       "    }\n",
       "</style>\n",
       "<table border=\"1\" class=\"dataframe\">\n",
       "  <thead>\n",
       "    <tr style=\"text-align: right;\">\n",
       "      <th></th>\n",
       "      <th>Cost</th>\n",
       "      <th>output</th>\n",
       "      <th>Plabor</th>\n",
       "      <th>Pcapital</th>\n",
       "      <th>Pfuel</th>\n",
       "    </tr>\n",
       "  </thead>\n",
       "  <tbody>\n",
       "    <tr>\n",
       "      <th>0</th>\n",
       "      <td>0.082</td>\n",
       "      <td>2</td>\n",
       "      <td>2.09</td>\n",
       "      <td>183</td>\n",
       "      <td>17.9</td>\n",
       "    </tr>\n",
       "    <tr>\n",
       "      <th>1</th>\n",
       "      <td>0.661</td>\n",
       "      <td>3</td>\n",
       "      <td>2.05</td>\n",
       "      <td>174</td>\n",
       "      <td>35.1</td>\n",
       "    </tr>\n",
       "    <tr>\n",
       "      <th>2</th>\n",
       "      <td>0.990</td>\n",
       "      <td>4</td>\n",
       "      <td>2.05</td>\n",
       "      <td>171</td>\n",
       "      <td>35.1</td>\n",
       "    </tr>\n",
       "  </tbody>\n",
       "</table>\n",
       "</div>"
      ],
      "text/plain": [
       "    Cost  output  Plabor  Pcapital  Pfuel\n",
       "0  0.082       2    2.09       183   17.9\n",
       "1  0.661       3    2.05       174   35.1\n",
       "2  0.990       4    2.05       171   35.1"
      ]
     },
     "execution_count": 3,
     "metadata": {},
     "output_type": "execute_result"
    }
   ],
   "source": [
    "CD_df = pd.read_excel('Nerlove1963.xlsx')\n",
    "CD_df.head(3)"
   ]
  },
  {
   "cell_type": "markdown",
   "id": "15967fc7-debe-45d6-a96d-70ad7a30f4c6",
   "metadata": {},
   "source": [
    "We assume that data is already in log() - because if we logarithmize it again - Beta matrix gets singular."
   ]
  },
  {
   "cell_type": "markdown",
   "id": "5126bf22-5121-44d9-a733-6111ead9f8fd",
   "metadata": {},
   "source": [
    "## Problem 9.26\n",
    "\n",
    "In a paper in 1963, Marc Nerlove analyzed a cost function for 145 American electric companies. Nerlov was interested in estimating a cost function: C = f (Q,PL,PF,PK) where the variables are\n",
    "listed in the table below. His data set Nerlove1963 is on the textbook website."
   ]
  },
  {
   "cell_type": "code",
   "execution_count": 6,
   "id": "68fc8853-b9df-45cf-a4fc-bf7e1b0f1b1d",
   "metadata": {
    "tags": []
   },
   "outputs": [
    {
     "data": {
      "image/jpeg": "[encoded data removed]",
      "text/plain": [
       "<IPython.core.display.Image object>"
      ]
     },
     "execution_count": 6,
     "metadata": {},
     "output_type": "execute_result"
    }
   ],
   "source": [
    "# illustration\n",
    "from IPython.display import Image\n",
    "image_path = r'C:/Users/Popov/Documents/NES_studies/Python/Econometrics_3/HA/HA2/table.jpg'\n",
    "Image(filename=image_path)"
   ]
  },
  {
   "cell_type": "markdown",
   "id": "9212387c-4417-4337-9e87-8bdfd1ad80e0",
   "metadata": {},
   "source": [
    "### a)\n",
    "\n",
    "First, estimate an unrestricted Cobb-Douglass specification\n",
    "\n",
    "$\\log C = \\beta_1 + \\beta_2 \\log Q + \\beta_3 \\log P_L + \\beta_4 \\log P_K + \\beta_5 \\log P_F + e$\n",
    "\n",
    "Report parameter estimates and standard errors"
   ]
  },
  {
   "cell_type": "markdown",
   "id": "de7effbc-f14f-474e-831e-49a1d05f0e82",
   "metadata": {},
   "source": [
    "#### Beta estimates"
   ]
  },
  {
   "cell_type": "code",
   "execution_count": 9,
   "id": "bbdccb6d-48f3-489f-9a3d-60c348ec87eb",
   "metadata": {
    "tags": []
   },
   "outputs": [
    {
     "data": {
      "text/plain": [
       "(145, 1)"
      ]
     },
     "execution_count": 9,
     "metadata": {},
     "output_type": "execute_result"
    }
   ],
   "source": [
    "Y = np.log(CD_df['Cost'].values[:, np.newaxis]) # .values - to convert to numpy array\n",
    "Y.shape"
   ]
  },
  {
   "cell_type": "code",
   "execution_count": 10,
   "id": "b03d62bd-8d8f-4058-bb92-56c39bdb0d9e",
   "metadata": {
    "tags": []
   },
   "outputs": [
    {
     "data": {
      "text/plain": [
       "(145, 5)"
      ]
     },
     "execution_count": 10,
     "metadata": {},
     "output_type": "execute_result"
    }
   ],
   "source": [
    "X = sm.add_constant(np.log(CD_df[['output', 'Plabor', 'Pcapital', 'Pfuel']].values))\n",
    "# sm.add_constant - to add constant in our reggression\n",
    "X.shape"
   ]
  },
  {
   "cell_type": "markdown",
   "id": "5a7e4fdd-8bdf-42b7-b769-5006c56f8262",
   "metadata": {},
   "source": [
    "$\\hat{\\beta} = (X' X)^{-1} X' Y$\n",
    "\n",
    "$\\hat{\\beta}$ is the vector of estimated coefficients.\n",
    "\n",
    "$X$ is the matrix of predictor variables (also known as the design matrix).\n",
    "\n",
    "$Y$ is the vector of the target values."
   ]
  },
  {
   "cell_type": "code",
   "execution_count": 12,
   "id": "86586ada-209a-49ee-9bee-94c4e1ced925",
   "metadata": {
    "tags": []
   },
   "outputs": [
    {
     "name": "stdout",
     "output_type": "stream",
     "text": [
      "shape of the Beta matrix: (5, 1)\n",
      "beta_1: -3.527\n",
      "beta_2: 0.72\n",
      "beta_3: 0.436\n",
      "beta_4: -0.22\n",
      "beta_5: 0.427\n"
     ]
    }
   ],
   "source": [
    "np.set_printoptions(precision=3) # number of signs after comma in a current t\n",
    "\n",
    "# estimate beta matrix\n",
    "beta_hat = np.linalg.inv(X.T @ X) @ X.T @ Y\n",
    "\n",
    "print(f'shape of the Beta matrix: {beta_hat.shape}')\n",
    "\n",
    "for i in range(beta_hat.shape[0]):\n",
    "  print('beta_' + str(i+1) + ': ' + str(round(beta_hat[i][0], 3)))"
   ]
  },
  {
   "cell_type": "markdown",
   "id": "09336263-e139-4c9b-aebc-2ae837f7e7ce",
   "metadata": {},
   "source": [
    "#### Standard errors"
   ]
  },
  {
   "cell_type": "markdown",
   "id": "30da9c56-63d6-498c-bfbc-979f1691e465",
   "metadata": {},
   "source": [
    "$\\hat{e} = \\hat{Y} - X * \\hat{\\beta}'$"
   ]
  },
  {
   "cell_type": "code",
   "execution_count": 15,
   "id": "804ef3b6-1f7d-4147-a1b7-1b2370f159f2",
   "metadata": {
    "tags": []
   },
   "outputs": [
    {
     "data": {
      "text/plain": [
       "(145, 1)"
      ]
     },
     "execution_count": 15,
     "metadata": {},
     "output_type": "execute_result"
    }
   ],
   "source": [
    "e_hat = Y - X @ beta_hat\n",
    "e_hat.shape"
   ]
  },
  {
   "cell_type": "markdown",
   "id": "6c545a14-3588-4f4a-a61d-72efb8090a99",
   "metadata": {},
   "source": [
    "$V_{\\beta} = Q_{xx}^{-1}V_{xe}Q_{xx}^{-1}$; This is our civariance matrix.\n",
    "\n",
    "$\\hat{V}_{xe} = \\frac{1}{n}X' \\Omega X$, where $\\Omega$ is a diagonal matrix with error term $\\hat{e_{i}^{2}}$ on the $i_{}^{th}$ place.\n",
    "\n",
    "$\\hat{Q}_{xx}^{-1} = (\\frac{1}{n}X'X)_{}^{-1}$"
   ]
  },
  {
   "cell_type": "code",
   "execution_count": 17,
   "id": "fe468630-5862-4584-880f-dd5d59420432",
   "metadata": {
    "tags": []
   },
   "outputs": [
    {
     "name": "stdout",
     "output_type": "stream",
     "text": [
      "e_hat: (145, 1)\n",
      "Omega: (145, 145)\n",
      "V_hat: (5, 5)\n"
     ]
    }
   ],
   "source": [
    "n=X.shape[0]\n",
    "QxxInv = np.linalg.inv(X.T @ X / n)\n",
    "Omega = np.diag((e_hat**2).reshape(n))\n",
    "V_ex = X.T @ Omega @ X/n# reshape(n) - reshapes the e vector from (145, 1) to 145\n",
    "V_hat = QxxInv@(X.T @ Omega @ X/n)@QxxInv\n",
    "print(f'e_hat: {e_hat.shape}')\n",
    "print(f'Omega: {Omega.shape}')\n",
    "print(f'V_hat: {V_hat.shape}')"
   ]
  },
  {
   "cell_type": "code",
   "execution_count": 18,
   "id": "662693cd-8b7e-46ec-a0d8-8bf50f1c8c0b",
   "metadata": {
    "tags": []
   },
   "outputs": [
    {
     "data": {
      "text/plain": [
       "['beta_1', 'beta_2', 'beta_3', 'beta_4', 'beta_5']"
      ]
     },
     "execution_count": 18,
     "metadata": {},
     "output_type": "execute_result"
    }
   ],
   "source": [
    "betas = ['beta_' + str(i+1) for i in range(beta_hat.shape[0])]\n",
    "betas"
   ]
  },
  {
   "cell_type": "code",
   "execution_count": 19,
   "id": "aa846be3-8aca-4c10-b7a3-5a36024bf2a4",
   "metadata": {
    "tags": []
   },
   "outputs": [
    {
     "data": {
      "text/html": [
       "<div>\n",
       "<style scoped>\n",
       "    .dataframe tbody tr th:only-of-type {\n",
       "        vertical-align: middle;\n",
       "    }\n",
       "\n",
       "    .dataframe tbody tr th {\n",
       "        vertical-align: top;\n",
       "    }\n",
       "\n",
       "    .dataframe thead th {\n",
       "        text-align: right;\n",
       "    }\n",
       "</style>\n",
       "<table border=\"1\" class=\"dataframe\">\n",
       "  <thead>\n",
       "    <tr style=\"text-align: right;\">\n",
       "      <th></th>\n",
       "      <th>beta_1</th>\n",
       "      <th>beta_2</th>\n",
       "      <th>beta_3</th>\n",
       "      <th>beta_4</th>\n",
       "      <th>beta_5</th>\n",
       "    </tr>\n",
       "  </thead>\n",
       "  <tbody>\n",
       "    <tr>\n",
       "      <th>beta_1</th>\n",
       "      <td>413.502348</td>\n",
       "      <td>-1.922495</td>\n",
       "      <td>-20.358547</td>\n",
       "      <td>-76.922398</td>\n",
       "      <td>2.950307</td>\n",
       "    </tr>\n",
       "    <tr>\n",
       "      <th>beta_2</th>\n",
       "      <td>-1.922495</td>\n",
       "      <td>0.148764</td>\n",
       "      <td>-0.193792</td>\n",
       "      <td>0.211728</td>\n",
       "      <td>-0.033674</td>\n",
       "    </tr>\n",
       "    <tr>\n",
       "      <th>beta_3</th>\n",
       "      <td>-20.358547</td>\n",
       "      <td>-0.193792</td>\n",
       "      <td>8.447172</td>\n",
       "      <td>3.918115</td>\n",
       "      <td>-1.200389</td>\n",
       "    </tr>\n",
       "    <tr>\n",
       "      <th>beta_4</th>\n",
       "      <td>-76.922398</td>\n",
       "      <td>0.211728</td>\n",
       "      <td>3.918115</td>\n",
       "      <td>14.679601</td>\n",
       "      <td>-0.856086</td>\n",
       "    </tr>\n",
       "    <tr>\n",
       "      <th>beta_5</th>\n",
       "      <td>2.950307</td>\n",
       "      <td>-0.033674</td>\n",
       "      <td>-1.200389</td>\n",
       "      <td>-0.856086</td>\n",
       "      <td>0.797670</td>\n",
       "    </tr>\n",
       "  </tbody>\n",
       "</table>\n",
       "</div>"
      ],
      "text/plain": [
       "            beta_1    beta_2     beta_3     beta_4    beta_5\n",
       "beta_1  413.502348 -1.922495 -20.358547 -76.922398  2.950307\n",
       "beta_2   -1.922495  0.148764  -0.193792   0.211728 -0.033674\n",
       "beta_3  -20.358547 -0.193792   8.447172   3.918115 -1.200389\n",
       "beta_4  -76.922398  0.211728   3.918115  14.679601 -0.856086\n",
       "beta_5    2.950307 -0.033674  -1.200389  -0.856086  0.797670"
      ]
     },
     "execution_count": 19,
     "metadata": {},
     "output_type": "execute_result"
    }
   ],
   "source": [
    "pd.DataFrame(V_hat, columns=betas, index=betas)"
   ]
  },
  {
   "cell_type": "markdown",
   "id": "59d227fe-297a-414c-9376-34b1fc72b121",
   "metadata": {},
   "source": [
    "Standard error:\n",
    "\n",
    "$se(\\hat{\\beta_j}) = \\sqrt{\\frac{1}{n}[\\hat{V_{\\beta}}]_{jj}}$"
   ]
  },
  {
   "cell_type": "code",
   "execution_count": 21,
   "id": "581e52f2-1d7c-4360-b418-bda93dad1ed5",
   "metadata": {
    "tags": []
   },
   "outputs": [
    {
     "name": "stdout",
     "output_type": "stream",
     "text": [
      "se_1: 1.69\n",
      "se_2: 0.03\n",
      "se_3: 0.24\n",
      "se_4: 0.32\n",
      "se_5: 0.07\n"
     ]
    }
   ],
   "source": [
    "for i in range(beta_hat.shape[0]):\n",
    "  print('se_' + str(i+1) + ':', round((np.diag(V_hat/ n)[i]) ** 0.5, 2))"
   ]
  },
  {
   "cell_type": "markdown",
   "id": "e2c2b9f4-359a-4969-b6cb-e29a8d1666d1",
   "metadata": {},
   "source": [
    "## Problem 4"
   ]
  },
  {
   "cell_type": "markdown",
   "id": "9abe5dbf-1caf-48cd-b433-3f3d60fbba37",
   "metadata": {},
   "source": [
    "### 1)\n",
    "Perform an asymptotic left-sided test using a t statistics.\n",
    "\n",
    "$t_{3-5} = \\sqrt{n}\\frac{\\hat{\\beta}'R - q}{\\sqrt{R'\\sum R}}$, where $V_{\\beta} = \\sum$"
   ]
  },
  {
   "cell_type": "code",
   "execution_count": 24,
   "id": "e1e4d320-1b30-48de-93ca-77ec73e21135",
   "metadata": {
    "tags": []
   },
   "outputs": [
    {
     "data": {
      "text/plain": [
       "-0.818"
      ]
     },
     "execution_count": 24,
     "metadata": {},
     "output_type": "execute_result"
    }
   ],
   "source": [
    "R = np.array([[0, 0, 1, 1, 1]]).T\n",
    "t = np.sqrt(n)* (beta_hat.T @ R - 1)/(np.sqrt((R.T @ V_hat @ R)))\n",
    "t = t[0, 0]\n",
    "round(t, 3)"
   ]
  },
  {
   "cell_type": "code",
   "execution_count": 25,
   "id": "bedab5b8-8676-47d3-9966-c5617818de7a",
   "metadata": {
    "tags": []
   },
   "outputs": [
    {
     "data": {
      "text/plain": [
       "0.207"
      ]
     },
     "execution_count": 25,
     "metadata": {},
     "output_type": "execute_result"
    }
   ],
   "source": [
    "# p-value\n",
    "pv1 = scipy.stats.norm.cdf(t)\n",
    "round(pv1, 3)"
   ]
  },
  {
   "cell_type": "markdown",
   "id": "afc2af32-269a-452b-98ca-b83bcf71d672",
   "metadata": {},
   "source": [
    "### 2)\n",
    "\n",
    "Perform an asymptotic two-sided test using a Wald statistic."
   ]
  },
  {
   "cell_type": "markdown",
   "id": "616401ef-df97-419f-ac35-00954cf41ff4",
   "metadata": {},
   "source": [
    "$t_w = nh(\\hat{\\beta})'(\\hat{H}\\hat{V}_{\\beta}\\hat{H}')_{}^{-1}h(\\hat{\\beta})$"
   ]
  },
  {
   "cell_type": "code",
   "execution_count": 79,
   "id": "37ed8de2-0596-47ea-8b1c-b4a90511011d",
   "metadata": {
    "tags": []
   },
   "outputs": [
    {
     "data": {
      "text/plain": [
       "0.669"
      ]
     },
     "execution_count": 79,
     "metadata": {},
     "output_type": "execute_result"
    }
   ],
   "source": [
    "H = np.array([[0, 0, 1, 1, 1]])\n",
    "h = H @ beta_hat - 1\n",
    "W = n * h.T @ np.linalg.inv(H @ V_hat @ H.T) @ h\n",
    "W = W[0, 0]\n",
    "round(W, 3)"
   ]
  },
  {
   "cell_type": "code",
   "execution_count": 84,
   "id": "5bbbf6cc-ae94-4099-b4fd-9447ec1c453f",
   "metadata": {
    "tags": []
   },
   "outputs": [
    {
     "data": {
      "text/plain": [
       "0.414"
      ]
     },
     "execution_count": 84,
     "metadata": {},
     "output_type": "execute_result"
    }
   ],
   "source": [
    "# p-value\n",
    "pv2 = scipy.stats.chi2.sf(W, 1)\n",
    "round(pv2, 3)"
   ]
  }
 ],
 "metadata": {
  "kernelspec": {
   "display_name": "Python 3 (ipykernel)",
   "language": "python",
   "name": "python3"
  },
  "language_info": {
   "codemirror_mode": {
    "name": "ipython",
    "version": 3
   },
   "file_extension": ".py",
   "mimetype": "text/x-python",
   "name": "python",
   "nbconvert_exporter": "python",
   "pygments_lexer": "ipython3",
   "version": "3.11.7"
  }
 },
 "nbformat": 4,
 "nbformat_minor": 5
}
