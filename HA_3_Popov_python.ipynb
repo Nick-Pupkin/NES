{
 "cells": [
  {
   "cell_type": "markdown",
   "metadata": {
    "id": "AlTY6gwexooa"
   },
   "source": [
    "# **<center> Introduction to Python for Practical Problems </center>**\n",
    "# **<center> New Economic School, MAE 2025 </center>**\n",
    "## **<center> Home Assignment 3 </center>**"
   ]
  },
  {
   "cell_type": "markdown",
   "metadata": {},
   "source": [
    "Don't forget to use my modul - required for some tasks."
   ]
  },
  {
   "cell_type": "markdown",
   "metadata": {},
   "source": [
    "# NumPy"
   ]
  },
  {
   "cell_type": "code",
   "execution_count": 1,
   "metadata": {
    "id": "rWw65Nflm8ZL"
   },
   "outputs": [],
   "source": [
    "import numpy as np"
   ]
  },
  {
   "cell_type": "markdown",
   "metadata": {
    "id": "GIbBs3CnxqO7"
   },
   "source": [
    "### Задание 1.\n",
    "\n",
    "(1) Создайте матрицу размерности 4x5 из стандартного нормального распределения\n",
    "\n",
    "(2) Посчитайте определитель матрицы\n",
    "\n",
    "(3) Оберните матрицу"
   ]
  },
  {
   "cell_type": "code",
   "execution_count": 2,
   "metadata": {
    "id": "KE-Drs4-xnty"
   },
   "outputs": [
    {
     "data": {
      "text/plain": [
       "array([[-0.65259148,  0.24590401, -0.76509623, -0.59163303, -0.05829672],\n",
       "       [ 0.80247023, -0.44148608,  0.01290884,  0.2007357 , -0.29057645],\n",
       "       [ 0.70002751, -0.97118216, -0.95906958, -0.33799454, -1.85312749],\n",
       "       [ 0.6819145 ,  0.19516695, -0.50493188, -0.86762724,  0.99873474],\n",
       "       [-2.57542673,  1.01269282,  0.04225994,  0.23037346,  1.06472681]])"
      ]
     },
     "execution_count": 2,
     "metadata": {},
     "output_type": "execute_result"
    }
   ],
   "source": [
    "# matrix\n",
    "matr_norm_5 = np.random.normal(0, 1, (5, 5))\n",
    "matr_norm_5"
   ]
  },
  {
   "cell_type": "code",
   "execution_count": 3,
   "metadata": {},
   "outputs": [
    {
     "data": {
      "text/plain": [
       "-0.15745371122641827"
      ]
     },
     "execution_count": 3,
     "metadata": {},
     "output_type": "execute_result"
    }
   ],
   "source": [
    "# determinant \n",
    "np.linalg.det(matr_norm_5)"
   ]
  },
  {
   "cell_type": "code",
   "execution_count": 4,
   "metadata": {},
   "outputs": [
    {
     "data": {
      "text/plain": [
       "array([[ 2.93543458,  2.15111541, -1.76346515, -1.14758104, -1.24502077],\n",
       "       [ 8.58561483,  4.00194504, -4.88814206, -3.89774594, -3.28924935],\n",
       "       [-4.53222652, -5.18746626,  1.85221193,  1.26731389,  0.37108577],\n",
       "       [ 4.68865443,  5.9683122 , -2.56708665, -2.12523636, -0.58889031],\n",
       "       [-1.90020924,  0.311423  ,  0.86559797,  1.34095421,  1.16886515]])"
      ]
     },
     "execution_count": 4,
     "metadata": {},
     "output_type": "execute_result"
    }
   ],
   "source": [
    "# inverse matrix\n",
    "np.linalg.inv(matr_norm_5)"
   ]
  },
  {
   "cell_type": "markdown",
   "metadata": {
    "id": "0kUalHnBxt4s"
   },
   "source": [
    "### Задание 2.\n",
    "\n",
    "(1) Создайте 2 матрицы $A$ и $B$ размерности 4x4 из нормального распределения (метод `uniform`  в модуле `random`) со средними 1 и 2 и стандартными отклонениями 1 и 4.\n",
    "\n",
    "(2) Вычислите результат для следующего выражения: $(A + B)*B$\n",
    "\n",
    "(3) Выведите диагональ матрицы выше"
   ]
  },
  {
   "cell_type": "code",
   "execution_count": 5,
   "metadata": {
    "id": "FdJxLfIUxusO"
   },
   "outputs": [],
   "source": [
    "# 1\n",
    "m_A = np.random.normal(1, 1, (4, 4))\n",
    "m_B = np.random.normal(2, 4, (4, 4))"
   ]
  },
  {
   "cell_type": "code",
   "execution_count": 6,
   "metadata": {},
   "outputs": [
    {
     "data": {
      "text/plain": [
       "array([[ 23.12379471,  20.68587038,  -5.43444601,  -1.0981412 ],\n",
       "       [ 15.91042257,  98.681325  ,  12.17779973, -27.48966128],\n",
       "       [  4.57722667,  43.56511962,  29.42917478, -14.44753061],\n",
       "       [ 70.65122463,  39.16399539,   5.82466582,  14.36916926]])"
      ]
     },
     "execution_count": 6,
     "metadata": {},
     "output_type": "execute_result"
    }
   ],
   "source": [
    "# 2\n",
    "(m_A + m_B) @ m_B"
   ]
  },
  {
   "cell_type": "code",
   "execution_count": 7,
   "metadata": {},
   "outputs": [
    {
     "name": "stdout",
     "output_type": "stream",
     "text": [
      "Diagonal elements: [23.12379471 98.681325   29.42917478 14.36916926]\n"
     ]
    }
   ],
   "source": [
    "# 3\n",
    "diagonal = np.diag((m_A + m_B) @ m_B)\n",
    "print(\"Diagonal elements:\", diagonal)"
   ]
  },
  {
   "cell_type": "markdown",
   "metadata": {
    "id": "mYOLZ5kSxu27"
   },
   "source": [
    "### Задание 3.\n",
    "\n",
    "(1) Создайте вектор со 100 элементами из равномерного распределения с $a = -5$ и $b = 5$\n",
    "\n",
    "(2) Создайте функцию, которая на вход берет вектор и создает $k$ векторов длиной $m$. Каждый из $k$ векторов создается как подвыборка/подвектор с возвращением из исходного вектора (**hint**: Вам может потребоваться функция `choice` в модуле `random`). Для каждого $k$-го вектора ситается среднее, которое записывается в результирующий вектор. Выведите этот результирующий вектор (состоящий из средних по $k$ векторам)"
   ]
  },
  {
   "cell_type": "code",
   "execution_count": 8,
   "metadata": {
    "id": "e7oLSaN-xvsv"
   },
   "outputs": [
    {
     "data": {
      "text/plain": [
       "array([[-5],\n",
       "       [-3],\n",
       "       [ 3],\n",
       "       [-3],\n",
       "       [ 2]])"
      ]
     },
     "execution_count": 8,
     "metadata": {},
     "output_type": "execute_result"
    }
   ],
   "source": [
    "# 1\n",
    "v_100_uni = np.random.randint(-5, 5, (100,1))\n",
    "v_100_uni[0:5]"
   ]
  },
  {
   "cell_type": "code",
   "execution_count": 9,
   "metadata": {},
   "outputs": [],
   "source": [
    "# 2\n",
    "def vector_stuff(vec, m, k):\n",
    "    # # inefficient alternative\n",
    "    # mean_vecs = [lambda ]\n",
    "    # for i in range(k):\n",
    "    #     mean_vecs.append(np.mean(np.random.choice(vec, size=m, replace=False)))\n",
    "    \n",
    "    # # efficient code\n",
    "    mean_vecs = \\\n",
    "    [np.mean(np.random.choice(vec, size=m, replace=False)) for i in range(k)]\n",
    "    return mean_vecs"
   ]
  },
  {
   "cell_type": "code",
   "execution_count": 10,
   "metadata": {},
   "outputs": [
    {
     "data": {
      "text/plain": [
       "[1.5, 1.5, 1.0, 0.5, 0.5]"
      ]
     },
     "execution_count": 10,
     "metadata": {},
     "output_type": "execute_result"
    }
   ],
   "source": [
    "# test\n",
    "vector_stuff([0,1,2,3], 2, 5)"
   ]
  },
  {
   "cell_type": "markdown",
   "metadata": {},
   "source": [
    "### Задание 4.\n",
    "\n",
    "Реализуйте функцию, которая вычисляет коэффициенты регрессии при помощи МНК. Сделайте все честно, используя только операции перемножения матриц и оборачивания."
   ]
  },
  {
   "cell_type": "markdown",
   "metadata": {},
   "source": [
    "$\\hat{\\beta} = (X^T X)^{-1} X^T Y$"
   ]
  },
  {
   "cell_type": "markdown",
   "metadata": {},
   "source": [
    "$\\hat{\\beta}$ is the vector of estimated coefficients.\n",
    "\n",
    "$X$ is the matrix of predictor variables (also known as the design matrix).\n",
    "\n",
    "$Y$ is the vector of observed target values."
   ]
  },
  {
   "cell_type": "code",
   "execution_count": 11,
   "metadata": {},
   "outputs": [],
   "source": [
    "def OLS_est(Y, X):\n",
    "    \"\"\"\n",
    "    Y - [n*1]\n",
    "    X - [n*k]\n",
    "    beta - [k*1]\n",
    "    \"\"\"\n",
    "    # OLS\n",
    "    beta_hat = np.linalg.inv(X.T @ X) @ X.T @ Y\n",
    "    return beta_hat"
   ]
  },
  {
   "cell_type": "code",
   "execution_count": 12,
   "metadata": {},
   "outputs": [
    {
     "data": {
      "text/plain": [
       "array([0.47305389, 0.02095808])"
      ]
     },
     "execution_count": 12,
     "metadata": {},
     "output_type": "execute_result"
    }
   ],
   "source": [
    "# test: n = 3, k = 2\n",
    "OLS_est(np.array([1,2,3]).T, np.array([[1 , 2],\n",
    "                                     [4, 9],\n",
    "                                     [6, 9]]))"
   ]
  },
  {
   "cell_type": "markdown",
   "metadata": {},
   "source": [
    "### Задание 5.\n",
    "\n",
    "Реализуйте функцию, которая берет на вход двумерную матрицу, а возвращает местоположение ее минимального, максимального и медианного значения в виде словаря вида:\n",
    "\n",
    "{'$min$': ($i_{min}$, $j_{min}$), '$max$': ($i_{max}$, $j_{max}$), '$median$': ($i_{median}$, $j_{median}$)}."
   ]
  },
  {
   "cell_type": "code",
   "execution_count": 13,
   "metadata": {},
   "outputs": [],
   "source": [
    "# get the row/column indexes from the matrix.flatten() element\n",
    "def get_i_j(flattened_index, num_cols):\n",
    "    row_index = flattened_index // num_cols\n",
    "    col_index = flattened_index % num_cols\n",
    "    return row_index, col_index"
   ]
  },
  {
   "cell_type": "code",
   "execution_count": 14,
   "metadata": {},
   "outputs": [
    {
     "data": {
      "image/jpeg": "[encoded data removed]",
      "text/plain": [
       "<IPython.core.display.Image object>"
      ]
     },
     "execution_count": 14,
     "metadata": {},
     "output_type": "execute_result"
    }
   ],
   "source": [
    "# illustration\n",
    "from IPython.display import Image\n",
    "image_path = r'C:/Users/Popov/Documents/NES_studies/Python/Elementary python/HA/HA 3 datasets/pic_flatten_index.jpg'\n",
    "Image(filename=image_path)"
   ]
  },
  {
   "cell_type": "code",
   "execution_count": 15,
   "metadata": {},
   "outputs": [
    {
     "name": "stdout",
     "output_type": "stream",
     "text": [
      "Row index: 1\n",
      "Column index: 2\n"
     ]
    }
   ],
   "source": [
    "# test\n",
    "matrix = np.array([[1, 2, 3],\n",
    "                   [4, 5, 6],\n",
    "                   [7, 8, 9]])\n",
    "\n",
    "flattened_matrix = matrix.flatten()\n",
    "\n",
    "# 6th element in the flattened matrix\n",
    "index_6 = 5  # 0-based indexing\n",
    "num_cols = matrix.shape[1]\n",
    "row_index, col_index = get_i_j(index_6, num_cols)\n",
    "\n",
    "print(\"Row index:\", row_index)\n",
    "print(\"Column index:\", col_index)"
   ]
  },
  {
   "cell_type": "code",
   "execution_count": 16,
   "metadata": {},
   "outputs": [],
   "source": [
    "# now apply for meduan, max and min\n",
    "def elem_finder(X):\n",
    "    dict_index = {}\n",
    "    # median\n",
    "    med_ind = np.where(X.flatten() == np.median(X.flatten()))\n",
    "    # find indexes of all values equal to the median\n",
    "\n",
    "    # now find all according row/column indexes\n",
    "    dict_index['median'] = [get_i_j(med_ind[0][i], X.shape[1]) for i in range(len(med_ind[0]))]\n",
    "    # X.shape[1] - number of columns the in matrix X\n",
    "    \n",
    "    # max\n",
    "    max_ind = np.where(X.flatten() == np.max(X.flatten()))\n",
    "    dict_index['maximum'] = [get_i_j(max_ind[0][i], X.shape[1]) for i in range(len(max_ind[0]))]\n",
    "    \n",
    "    # min \n",
    "    min_ind = np.where(X.flatten() == np.min(X.flatten()))\n",
    "    dict_index['minimum'] = [get_i_j(min_ind[0][i], X.shape[1]) for i in range(len(min_ind[0]))]\n",
    "\n",
    "    return dict_index"
   ]
  },
  {
   "cell_type": "code",
   "execution_count": 17,
   "metadata": {},
   "outputs": [
    {
     "data": {
      "text/plain": [
       "{'median': [(1, 1)], 'maximum': [(2, 1), (2, 2)], 'minimum': [(0, 0), (0, 1)]}"
      ]
     },
     "execution_count": 17,
     "metadata": {},
     "output_type": "execute_result"
    }
   ],
   "source": [
    "# test\n",
    "matrix_2 = np.array([[1, 1, 3],\n",
    "                   [4, 5, 6],\n",
    "                   [7, 9, 9]])\n",
    "elem_finder(matrix_2)"
   ]
  },
  {
   "cell_type": "markdown",
   "metadata": {},
   "source": [
    "Note that this code finds not only the first max/min/median (if there are several similar values in the matrix), but all of them. "
   ]
  },
  {
   "cell_type": "markdown",
   "metadata": {},
   "source": [
    "---------------"
   ]
  },
  {
   "cell_type": "markdown",
   "metadata": {},
   "source": [
    "# Pandas"
   ]
  },
  {
   "cell_type": "markdown",
   "metadata": {},
   "source": [
    "В этом блоке заданий Вам предстоит поработь с данными по магазинным продажам, выполнив ряд аналитических задач.\n",
    "\n",
    "Описание полей в данных:\n",
    "\n",
    "* ID - an Id that represents a (Shop, Item) tuple within the test set\n",
    "* shop_id - unique identifier of a shop\n",
    "* item_id - unique identifier of a product\n",
    "* category_id - unique identifier of category\n",
    "* item_cnt_day - number of products sold. \n",
    "* item_price - current price of an item\n",
    "* date - date in format dd/mm/yyyy\n",
    "* date_block_num - a consecutive month number, used for convenience. January 2013 is 0, February 2013 is 1,…, October 2015 is 33\n",
    "* item_name - name of item\n",
    "* shop_name - name of shop\n",
    "* category_name - name of category"
   ]
  },
  {
   "cell_type": "code",
   "execution_count": 18,
   "metadata": {},
   "outputs": [],
   "source": [
    "import pandas as pd\n",
    "\n",
    "import warnings # to hide warnings pd likes a lot)\n",
    "warnings.simplefilter(\"ignore\")"
   ]
  },
  {
   "cell_type": "markdown",
   "metadata": {},
   "source": [
    "### Задание 6.\n",
    "\n",
    "(1) Прочтите файл **sales.csv** с помощью **Pandas**\n",
    "\n",
    "(2) Отобразите 3 случайных наблюдения\n",
    "\n",
    "(3) Отобразите 4 последних наблюдения\n",
    "\n",
    "(4) Сколько наблюдений в данных?"
   ]
  },
  {
   "cell_type": "code",
   "execution_count": 19,
   "metadata": {},
   "outputs": [
    {
     "data": {
      "text/html": [
       "<div>\n",
       "<style scoped>\n",
       "    .dataframe tbody tr th:only-of-type {\n",
       "        vertical-align: middle;\n",
       "    }\n",
       "\n",
       "    .dataframe tbody tr th {\n",
       "        vertical-align: top;\n",
       "    }\n",
       "\n",
       "    .dataframe thead th {\n",
       "        text-align: right;\n",
       "    }\n",
       "</style>\n",
       "<table border=\"1\" class=\"dataframe\">\n",
       "  <thead>\n",
       "    <tr style=\"text-align: right;\">\n",
       "      <th></th>\n",
       "      <th>date</th>\n",
       "      <th>date_block_num</th>\n",
       "      <th>shop_id</th>\n",
       "      <th>item_id</th>\n",
       "      <th>item_price</th>\n",
       "      <th>item_cnt_day</th>\n",
       "    </tr>\n",
       "  </thead>\n",
       "  <tbody>\n",
       "    <tr>\n",
       "      <th>0</th>\n",
       "      <td>02.01.2013</td>\n",
       "      <td>0</td>\n",
       "      <td>59</td>\n",
       "      <td>22154</td>\n",
       "      <td>999.00</td>\n",
       "      <td>1.0</td>\n",
       "    </tr>\n",
       "    <tr>\n",
       "      <th>1</th>\n",
       "      <td>03.01.2013</td>\n",
       "      <td>0</td>\n",
       "      <td>25</td>\n",
       "      <td>2552</td>\n",
       "      <td>899.00</td>\n",
       "      <td>1.0</td>\n",
       "    </tr>\n",
       "    <tr>\n",
       "      <th>2</th>\n",
       "      <td>05.01.2013</td>\n",
       "      <td>0</td>\n",
       "      <td>25</td>\n",
       "      <td>2552</td>\n",
       "      <td>899.00</td>\n",
       "      <td>-1.0</td>\n",
       "    </tr>\n",
       "    <tr>\n",
       "      <th>3</th>\n",
       "      <td>06.01.2013</td>\n",
       "      <td>0</td>\n",
       "      <td>25</td>\n",
       "      <td>2554</td>\n",
       "      <td>1709.05</td>\n",
       "      <td>1.0</td>\n",
       "    </tr>\n",
       "    <tr>\n",
       "      <th>4</th>\n",
       "      <td>15.01.2013</td>\n",
       "      <td>0</td>\n",
       "      <td>25</td>\n",
       "      <td>2555</td>\n",
       "      <td>1099.00</td>\n",
       "      <td>1.0</td>\n",
       "    </tr>\n",
       "  </tbody>\n",
       "</table>\n",
       "</div>"
      ],
      "text/plain": [
       "         date  date_block_num  shop_id  item_id  item_price  item_cnt_day\n",
       "0  02.01.2013               0       59    22154      999.00           1.0\n",
       "1  03.01.2013               0       25     2552      899.00           1.0\n",
       "2  05.01.2013               0       25     2552      899.00          -1.0\n",
       "3  06.01.2013               0       25     2554     1709.05           1.0\n",
       "4  15.01.2013               0       25     2555     1099.00           1.0"
      ]
     },
     "execution_count": 19,
     "metadata": {},
     "output_type": "execute_result"
    }
   ],
   "source": [
    "# 1\n",
    "df_sales = pd.read_csv(\\\n",
    "    \"C:/Users/Popov/Documents/NES_studies/Python/Elementary python/HA/HA 3 datasets/sales.csv\")\n",
    "df_sales.head()"
   ]
  },
  {
   "cell_type": "code",
   "execution_count": 20,
   "metadata": {},
   "outputs": [
    {
     "data": {
      "text/html": [
       "<div>\n",
       "<style scoped>\n",
       "    .dataframe tbody tr th:only-of-type {\n",
       "        vertical-align: middle;\n",
       "    }\n",
       "\n",
       "    .dataframe tbody tr th {\n",
       "        vertical-align: top;\n",
       "    }\n",
       "\n",
       "    .dataframe thead th {\n",
       "        text-align: right;\n",
       "    }\n",
       "</style>\n",
       "<table border=\"1\" class=\"dataframe\">\n",
       "  <thead>\n",
       "    <tr style=\"text-align: right;\">\n",
       "      <th></th>\n",
       "      <th>date</th>\n",
       "      <th>date_block_num</th>\n",
       "      <th>shop_id</th>\n",
       "      <th>item_id</th>\n",
       "      <th>item_price</th>\n",
       "      <th>item_cnt_day</th>\n",
       "    </tr>\n",
       "  </thead>\n",
       "  <tbody>\n",
       "    <tr>\n",
       "      <th>1451016</th>\n",
       "      <td>04.02.2014</td>\n",
       "      <td>13</td>\n",
       "      <td>56</td>\n",
       "      <td>3676</td>\n",
       "      <td>899.0</td>\n",
       "      <td>1.0</td>\n",
       "    </tr>\n",
       "    <tr>\n",
       "      <th>2816458</th>\n",
       "      <td>23.08.2015</td>\n",
       "      <td>31</td>\n",
       "      <td>6</td>\n",
       "      <td>4892</td>\n",
       "      <td>999.0</td>\n",
       "      <td>1.0</td>\n",
       "    </tr>\n",
       "    <tr>\n",
       "      <th>1921141</th>\n",
       "      <td>12.08.2014</td>\n",
       "      <td>19</td>\n",
       "      <td>19</td>\n",
       "      <td>21384</td>\n",
       "      <td>399.0</td>\n",
       "      <td>1.0</td>\n",
       "    </tr>\n",
       "  </tbody>\n",
       "</table>\n",
       "</div>"
      ],
      "text/plain": [
       "               date  date_block_num  shop_id  item_id  item_price  \\\n",
       "1451016  04.02.2014              13       56     3676       899.0   \n",
       "2816458  23.08.2015              31        6     4892       999.0   \n",
       "1921141  12.08.2014              19       19    21384       399.0   \n",
       "\n",
       "         item_cnt_day  \n",
       "1451016           1.0  \n",
       "2816458           1.0  \n",
       "1921141           1.0  "
      ]
     },
     "execution_count": 20,
     "metadata": {},
     "output_type": "execute_result"
    }
   ],
   "source": [
    "# 2 \n",
    "df_sales.sample(3)"
   ]
  },
  {
   "cell_type": "code",
   "execution_count": 21,
   "metadata": {},
   "outputs": [
    {
     "data": {
      "text/html": [
       "<div>\n",
       "<style scoped>\n",
       "    .dataframe tbody tr th:only-of-type {\n",
       "        vertical-align: middle;\n",
       "    }\n",
       "\n",
       "    .dataframe tbody tr th {\n",
       "        vertical-align: top;\n",
       "    }\n",
       "\n",
       "    .dataframe thead th {\n",
       "        text-align: right;\n",
       "    }\n",
       "</style>\n",
       "<table border=\"1\" class=\"dataframe\">\n",
       "  <thead>\n",
       "    <tr style=\"text-align: right;\">\n",
       "      <th></th>\n",
       "      <th>date</th>\n",
       "      <th>date_block_num</th>\n",
       "      <th>shop_id</th>\n",
       "      <th>item_id</th>\n",
       "      <th>item_price</th>\n",
       "      <th>item_cnt_day</th>\n",
       "    </tr>\n",
       "  </thead>\n",
       "  <tbody>\n",
       "    <tr>\n",
       "      <th>2935845</th>\n",
       "      <td>09.10.2015</td>\n",
       "      <td>33</td>\n",
       "      <td>25</td>\n",
       "      <td>7460</td>\n",
       "      <td>299.0</td>\n",
       "      <td>1.0</td>\n",
       "    </tr>\n",
       "    <tr>\n",
       "      <th>2935846</th>\n",
       "      <td>14.10.2015</td>\n",
       "      <td>33</td>\n",
       "      <td>25</td>\n",
       "      <td>7459</td>\n",
       "      <td>349.0</td>\n",
       "      <td>1.0</td>\n",
       "    </tr>\n",
       "    <tr>\n",
       "      <th>2935847</th>\n",
       "      <td>22.10.2015</td>\n",
       "      <td>33</td>\n",
       "      <td>25</td>\n",
       "      <td>7440</td>\n",
       "      <td>299.0</td>\n",
       "      <td>1.0</td>\n",
       "    </tr>\n",
       "    <tr>\n",
       "      <th>2935848</th>\n",
       "      <td>03.10.2015</td>\n",
       "      <td>33</td>\n",
       "      <td>25</td>\n",
       "      <td>7460</td>\n",
       "      <td>299.0</td>\n",
       "      <td>1.0</td>\n",
       "    </tr>\n",
       "  </tbody>\n",
       "</table>\n",
       "</div>"
      ],
      "text/plain": [
       "               date  date_block_num  shop_id  item_id  item_price  \\\n",
       "2935845  09.10.2015              33       25     7460       299.0   \n",
       "2935846  14.10.2015              33       25     7459       349.0   \n",
       "2935847  22.10.2015              33       25     7440       299.0   \n",
       "2935848  03.10.2015              33       25     7460       299.0   \n",
       "\n",
       "         item_cnt_day  \n",
       "2935845           1.0  \n",
       "2935846           1.0  \n",
       "2935847           1.0  \n",
       "2935848           1.0  "
      ]
     },
     "execution_count": 21,
     "metadata": {},
     "output_type": "execute_result"
    }
   ],
   "source": [
    "# 3\n",
    "df_sales.tail(4)"
   ]
  },
  {
   "cell_type": "code",
   "execution_count": 22,
   "metadata": {},
   "outputs": [
    {
     "data": {
      "text/plain": [
       "2935849"
      ]
     },
     "execution_count": 22,
     "metadata": {},
     "output_type": "execute_result"
    }
   ],
   "source": [
    "# 4\n",
    "df_sales.shape[0]"
   ]
  },
  {
   "cell_type": "markdown",
   "metadata": {},
   "source": [
    "### Задание 7.\n",
    "\n",
    "Уберите из данных по продажам те наблюдения, у которых число покупок или цена меньше 0."
   ]
  },
  {
   "cell_type": "code",
   "execution_count": 23,
   "metadata": {},
   "outputs": [
    {
     "data": {
      "text/html": [
       "<div>\n",
       "<style scoped>\n",
       "    .dataframe tbody tr th:only-of-type {\n",
       "        vertical-align: middle;\n",
       "    }\n",
       "\n",
       "    .dataframe tbody tr th {\n",
       "        vertical-align: top;\n",
       "    }\n",
       "\n",
       "    .dataframe thead th {\n",
       "        text-align: right;\n",
       "    }\n",
       "</style>\n",
       "<table border=\"1\" class=\"dataframe\">\n",
       "  <thead>\n",
       "    <tr style=\"text-align: right;\">\n",
       "      <th></th>\n",
       "      <th>date</th>\n",
       "      <th>date_block_num</th>\n",
       "      <th>shop_id</th>\n",
       "      <th>item_id</th>\n",
       "      <th>item_price</th>\n",
       "      <th>item_cnt_day</th>\n",
       "    </tr>\n",
       "  </thead>\n",
       "  <tbody>\n",
       "    <tr>\n",
       "      <th>58942</th>\n",
       "      <td>23.01.2013</td>\n",
       "      <td>0</td>\n",
       "      <td>10</td>\n",
       "      <td>15808</td>\n",
       "      <td>253.0</td>\n",
       "      <td>1.0</td>\n",
       "    </tr>\n",
       "    <tr>\n",
       "      <th>1728732</th>\n",
       "      <td>27.06.2014</td>\n",
       "      <td>17</td>\n",
       "      <td>7</td>\n",
       "      <td>1851</td>\n",
       "      <td>2499.0</td>\n",
       "      <td>1.0</td>\n",
       "    </tr>\n",
       "    <tr>\n",
       "      <th>1959389</th>\n",
       "      <td>26.09.2014</td>\n",
       "      <td>20</td>\n",
       "      <td>39</td>\n",
       "      <td>19340</td>\n",
       "      <td>499.0</td>\n",
       "      <td>1.0</td>\n",
       "    </tr>\n",
       "    <tr>\n",
       "      <th>2853843</th>\n",
       "      <td>11.09.2015</td>\n",
       "      <td>32</td>\n",
       "      <td>18</td>\n",
       "      <td>16167</td>\n",
       "      <td>799.0</td>\n",
       "      <td>1.0</td>\n",
       "    </tr>\n",
       "    <tr>\n",
       "      <th>2920888</th>\n",
       "      <td>09.10.2015</td>\n",
       "      <td>33</td>\n",
       "      <td>7</td>\n",
       "      <td>12701</td>\n",
       "      <td>149.0</td>\n",
       "      <td>1.0</td>\n",
       "    </tr>\n",
       "    <tr>\n",
       "      <th>1396719</th>\n",
       "      <td>09.02.2014</td>\n",
       "      <td>13</td>\n",
       "      <td>14</td>\n",
       "      <td>19866</td>\n",
       "      <td>149.0</td>\n",
       "      <td>1.0</td>\n",
       "    </tr>\n",
       "    <tr>\n",
       "      <th>679098</th>\n",
       "      <td>26.07.2013</td>\n",
       "      <td>6</td>\n",
       "      <td>19</td>\n",
       "      <td>16009</td>\n",
       "      <td>999.0</td>\n",
       "      <td>1.0</td>\n",
       "    </tr>\n",
       "    <tr>\n",
       "      <th>648562</th>\n",
       "      <td>26.07.2013</td>\n",
       "      <td>6</td>\n",
       "      <td>31</td>\n",
       "      <td>17400</td>\n",
       "      <td>149.0</td>\n",
       "      <td>1.0</td>\n",
       "    </tr>\n",
       "  </tbody>\n",
       "</table>\n",
       "</div>"
      ],
      "text/plain": [
       "               date  date_block_num  shop_id  item_id  item_price  \\\n",
       "58942    23.01.2013               0       10    15808       253.0   \n",
       "1728732  27.06.2014              17        7     1851      2499.0   \n",
       "1959389  26.09.2014              20       39    19340       499.0   \n",
       "2853843  11.09.2015              32       18    16167       799.0   \n",
       "2920888  09.10.2015              33        7    12701       149.0   \n",
       "1396719  09.02.2014              13       14    19866       149.0   \n",
       "679098   26.07.2013               6       19    16009       999.0   \n",
       "648562   26.07.2013               6       31    17400       149.0   \n",
       "\n",
       "         item_cnt_day  \n",
       "58942             1.0  \n",
       "1728732           1.0  \n",
       "1959389           1.0  \n",
       "2853843           1.0  \n",
       "2920888           1.0  \n",
       "1396719           1.0  \n",
       "679098            1.0  \n",
       "648562            1.0  "
      ]
     },
     "execution_count": 23,
     "metadata": {},
     "output_type": "execute_result"
    }
   ],
   "source": [
    "df_sales_new = df_sales[(df_sales[\"item_cnt_day\"] > 0) & (df_sales[\"item_price\"] > 0)]\n",
    "df_sales_new.sample(8)"
   ]
  },
  {
   "cell_type": "code",
   "execution_count": 24,
   "metadata": {},
   "outputs": [
    {
     "data": {
      "text/plain": [
       "7357"
      ]
     },
     "execution_count": 24,
     "metadata": {},
     "output_type": "execute_result"
    }
   ],
   "source": [
    "# number of trash observations\n",
    "df_sales.shape[0] -df_sales_new.shape[0] "
   ]
  },
  {
   "cell_type": "markdown",
   "metadata": {},
   "source": [
    "### Задание 8.\n",
    "\n",
    "Для полей цены и количества купленного товара отобразите описательную статистику."
   ]
  },
  {
   "cell_type": "code",
   "execution_count": 25,
   "metadata": {},
   "outputs": [
    {
     "data": {
      "text/html": [
       "<div>\n",
       "<style scoped>\n",
       "    .dataframe tbody tr th:only-of-type {\n",
       "        vertical-align: middle;\n",
       "    }\n",
       "\n",
       "    .dataframe tbody tr th {\n",
       "        vertical-align: top;\n",
       "    }\n",
       "\n",
       "    .dataframe thead th {\n",
       "        text-align: right;\n",
       "    }\n",
       "</style>\n",
       "<table border=\"1\" class=\"dataframe\">\n",
       "  <thead>\n",
       "    <tr style=\"text-align: right;\">\n",
       "      <th></th>\n",
       "      <th>item_cnt_day</th>\n",
       "      <th>item_price</th>\n",
       "    </tr>\n",
       "  </thead>\n",
       "  <tbody>\n",
       "    <tr>\n",
       "      <th>count</th>\n",
       "      <td>2.928492e+06</td>\n",
       "      <td>2.928492e+06</td>\n",
       "    </tr>\n",
       "    <tr>\n",
       "      <th>mean</th>\n",
       "      <td>1.248337e+00</td>\n",
       "      <td>8.894668e+02</td>\n",
       "    </tr>\n",
       "    <tr>\n",
       "      <th>std</th>\n",
       "      <td>2.619586e+00</td>\n",
       "      <td>1.727499e+03</td>\n",
       "    </tr>\n",
       "    <tr>\n",
       "      <th>min</th>\n",
       "      <td>1.000000e+00</td>\n",
       "      <td>7.000000e-02</td>\n",
       "    </tr>\n",
       "    <tr>\n",
       "      <th>25%</th>\n",
       "      <td>1.000000e+00</td>\n",
       "      <td>2.490000e+02</td>\n",
       "    </tr>\n",
       "    <tr>\n",
       "      <th>50%</th>\n",
       "      <td>1.000000e+00</td>\n",
       "      <td>3.990000e+02</td>\n",
       "    </tr>\n",
       "    <tr>\n",
       "      <th>75%</th>\n",
       "      <td>1.000000e+00</td>\n",
       "      <td>9.990000e+02</td>\n",
       "    </tr>\n",
       "    <tr>\n",
       "      <th>max</th>\n",
       "      <td>2.169000e+03</td>\n",
       "      <td>3.079800e+05</td>\n",
       "    </tr>\n",
       "  </tbody>\n",
       "</table>\n",
       "</div>"
      ],
      "text/plain": [
       "       item_cnt_day    item_price\n",
       "count  2.928492e+06  2.928492e+06\n",
       "mean   1.248337e+00  8.894668e+02\n",
       "std    2.619586e+00  1.727499e+03\n",
       "min    1.000000e+00  7.000000e-02\n",
       "25%    1.000000e+00  2.490000e+02\n",
       "50%    1.000000e+00  3.990000e+02\n",
       "75%    1.000000e+00  9.990000e+02\n",
       "max    2.169000e+03  3.079800e+05"
      ]
     },
     "execution_count": 25,
     "metadata": {},
     "output_type": "execute_result"
    }
   ],
   "source": [
    "# easy way \n",
    "df_sales_new[[\"item_cnt_day\", \"item_price\"]].describe()"
   ]
  },
  {
   "cell_type": "code",
   "execution_count": 26,
   "metadata": {},
   "outputs": [
    {
     "data": {
      "text/html": [
       "<div>\n",
       "<style scoped>\n",
       "    .dataframe tbody tr th:only-of-type {\n",
       "        vertical-align: middle;\n",
       "    }\n",
       "\n",
       "    .dataframe tbody tr th {\n",
       "        vertical-align: top;\n",
       "    }\n",
       "\n",
       "    .dataframe thead th {\n",
       "        text-align: right;\n",
       "    }\n",
       "</style>\n",
       "<table border=\"1\" class=\"dataframe\">\n",
       "  <thead>\n",
       "    <tr style=\"text-align: right;\">\n",
       "      <th></th>\n",
       "      <th>item_cnt_day</th>\n",
       "      <th>item_price</th>\n",
       "    </tr>\n",
       "  </thead>\n",
       "  <tbody>\n",
       "    <tr>\n",
       "      <th>count</th>\n",
       "      <td>2.928492e+06</td>\n",
       "      <td>2.928492e+06</td>\n",
       "    </tr>\n",
       "    <tr>\n",
       "      <th>mean</th>\n",
       "      <td>1.248337e+00</td>\n",
       "      <td>8.894668e+02</td>\n",
       "    </tr>\n",
       "    <tr>\n",
       "      <th>std</th>\n",
       "      <td>2.619586e+00</td>\n",
       "      <td>1.727499e+03</td>\n",
       "    </tr>\n",
       "    <tr>\n",
       "      <th>min</th>\n",
       "      <td>1.000000e+00</td>\n",
       "      <td>7.000000e-02</td>\n",
       "    </tr>\n",
       "    <tr>\n",
       "      <th>25%</th>\n",
       "      <td>1.000000e+00</td>\n",
       "      <td>2.490000e+02</td>\n",
       "    </tr>\n",
       "    <tr>\n",
       "      <th>50%</th>\n",
       "      <td>1.000000e+00</td>\n",
       "      <td>3.990000e+02</td>\n",
       "    </tr>\n",
       "    <tr>\n",
       "      <th>75%</th>\n",
       "      <td>1.000000e+00</td>\n",
       "      <td>9.990000e+02</td>\n",
       "    </tr>\n",
       "    <tr>\n",
       "      <th>max</th>\n",
       "      <td>2.169000e+03</td>\n",
       "      <td>3.079800e+05</td>\n",
       "    </tr>\n",
       "  </tbody>\n",
       "</table>\n",
       "</div>"
      ],
      "text/plain": [
       "       item_cnt_day    item_price\n",
       "count  2.928492e+06  2.928492e+06\n",
       "mean   1.248337e+00  8.894668e+02\n",
       "std    2.619586e+00  1.727499e+03\n",
       "min    1.000000e+00  7.000000e-02\n",
       "25%    1.000000e+00  2.490000e+02\n",
       "50%    1.000000e+00  3.990000e+02\n",
       "75%    1.000000e+00  9.990000e+02\n",
       "max    2.169000e+03  3.079800e+05"
      ]
     },
     "execution_count": 26,
     "metadata": {},
     "output_type": "execute_result"
    }
   ],
   "source": [
    "# purist way)))\n",
    "df_sales_new.loc[:, [\"item_cnt_day\", \"item_price\"]].describe()"
   ]
  },
  {
   "cell_type": "markdown",
   "metadata": {},
   "source": [
    "### Задание 9.\n",
    "\n",
    "Выведите число уникальных магазинов и число уникальных предметов."
   ]
  },
  {
   "cell_type": "code",
   "execution_count": 27,
   "metadata": {},
   "outputs": [
    {
     "data": {
      "text/plain": [
       "shop_id       60\n",
       "item_id    21804\n",
       "dtype: int64"
      ]
     },
     "execution_count": 27,
     "metadata": {},
     "output_type": "execute_result"
    }
   ],
   "source": [
    "df_sales_new.loc[:,  [\"shop_id\", \"item_id\"]].nunique()"
   ]
  },
  {
   "cell_type": "markdown",
   "metadata": {},
   "source": [
    "### Задание 10.\n",
    "\n",
    "Переведите колонку с датой в формат **datetime**."
   ]
  },
  {
   "cell_type": "code",
   "execution_count": 28,
   "metadata": {},
   "outputs": [
    {
     "data": {
      "text/plain": [
       "2409236    01.01.2015\n",
       "1888716    30.08.2014\n",
       "2731256    08.07.2015\n",
       "Name: date, dtype: object"
      ]
     },
     "execution_count": 28,
     "metadata": {},
     "output_type": "execute_result"
    }
   ],
   "source": [
    "df_sales_new['date'] .sample(3)"
   ]
  },
  {
   "cell_type": "code",
   "execution_count": 29,
   "metadata": {},
   "outputs": [],
   "source": [
    "from datetime import datetime as dt\n",
    "import datetime\n",
    "from dateutil.relativedelta import relativedelta"
   ]
  },
  {
   "cell_type": "code",
   "execution_count": 30,
   "metadata": {},
   "outputs": [],
   "source": [
    "# also saved in into my modul HES_helper))\n",
    "import sys\n",
    "\n",
    "path = 'C:/Users/Popov/Documents/NES_studies/Python/NES_Helper' # path of the modul\n",
    "sys.path.append(path)\n",
    "\n",
    "from NES_helper import Col_dt\n",
    "from NES_helper import Ext_w"
   ]
  },
  {
   "cell_type": "markdown",
   "metadata": {},
   "source": [
    "Class from the modul:"
   ]
  },
  {
   "cell_type": "code",
   "execution_count": 31,
   "metadata": {},
   "outputs": [],
   "source": [
    "\n",
    "# # ---------------------------------- Dataframe column to datetime ----------------------------------------------------\n",
    "\n",
    "# class Col_dt:\n",
    "#     \"\"\"\n",
    "#     This class allows to convert a column in the dataframe into datetime format.\n",
    "#     init: Col_dt(df, col, format)\n",
    "#     func: col_dt()\n",
    "#     -----------------------------------------------------\n",
    "#     Example of usage: df_sales_new = Col_dt(df_sales_new, 'date', '%d.%m.%Y')\n",
    "#     df_sales_new = df_sales_new.col_dt()\n",
    "#     \"\"\"\n",
    "#     def __init__(self, df, col, format):\n",
    "#         \"\"\"\n",
    "#         df - Dataframe (e.g. df_sales_new)\n",
    "#         col - column in it (e.g. 'date')\n",
    "#         format - datetime format (e.g. '%d.%m.%Y')\n",
    "#         \"\"\"\n",
    "#         self.df = df\n",
    "#         self.col = col\n",
    "#         self.format = format\n",
    "\n",
    "#     def col_dt(self):\n",
    "#         \"\"\"\n",
    "#         Returns a modified dataframe.\n",
    "#         \"\"\"\n",
    "#         # apply dt.strptime to each element of the column \"date\" via lambda function\n",
    "#         # even axis should not be set - apply is used for the subset of a single column)\n",
    "#         self.df[self.col] = self.df[self.col].apply(lambda x: dt.strptime(x, self.format))\n",
    "#         return self.df\n"
   ]
  },
  {
   "cell_type": "code",
   "execution_count": 32,
   "metadata": {},
   "outputs": [
    {
     "name": "stdout",
     "output_type": "stream",
     "text": [
      "CPU times: total: 7.05 s\n",
      "Wall time: 16.2 s\n"
     ]
    }
   ],
   "source": [
    "%%time\n",
    "df_sales_new = Col_dt(df_sales_new, 'date', '%d.%m.%Y')\n",
    "df_sales_new = df_sales_new.col_dt()"
   ]
  },
  {
   "cell_type": "code",
   "execution_count": 33,
   "metadata": {},
   "outputs": [
    {
     "data": {
      "text/plain": [
       "dtype('<M8[ns]')"
      ]
     },
     "execution_count": 33,
     "metadata": {},
     "output_type": "execute_result"
    }
   ],
   "source": [
    "df_sales_new['date'].dtypes"
   ]
  },
  {
   "cell_type": "code",
   "execution_count": 34,
   "metadata": {},
   "outputs": [
    {
     "data": {
      "text/plain": [
       "2486704   2015-03-26\n",
       "1223080   2013-12-13\n",
       "819643    2013-08-04\n",
       "Name: date, dtype: datetime64[ns]"
      ]
     },
     "execution_count": 34,
     "metadata": {},
     "output_type": "execute_result"
    }
   ],
   "source": [
    "df_sales_new['date'].sample(3)"
   ]
  },
  {
   "cell_type": "markdown",
   "metadata": {},
   "source": [
    "### Задание 11.\n",
    "\n",
    "Создайте переменную **Year_Month**, заменив дату текущего формата на дату формата 'Y-M'. Проверьте тип данных новой колонки.\n",
    "\n",
    "**Hint**: попробуйте присмотреться к методу `to_period` в модуле `dt`. Мы этот метод не разбирали, но он работает похожим с тем, что мы рассмотрели на занятии, образом."
   ]
  },
  {
   "cell_type": "code",
   "execution_count": 35,
   "metadata": {},
   "outputs": [
    {
     "data": {
      "text/plain": [
       "1680044    2014-05\n",
       "1901463    2014-08\n",
       "1654940    2014-05\n",
       "Name: Year_Month, dtype: period[M]"
      ]
     },
     "execution_count": 35,
     "metadata": {},
     "output_type": "execute_result"
    }
   ],
   "source": [
    "df_sales_new['Year_Month'] = df_sales_new['date'].dt.to_period('M')\n",
    "df_sales_new['Year_Month'].sample(3)"
   ]
  },
  {
   "cell_type": "markdown",
   "metadata": {},
   "source": [
    "### Задание 12.\n",
    "\n",
    "Создайте переменную **item_gi** (item gross income) путем умножения цены купленного товара и на его количество. "
   ]
  },
  {
   "cell_type": "markdown",
   "metadata": {},
   "source": [
    "Note that item_gi is calculated separately for each shop and each date, not across shops."
   ]
  },
  {
   "cell_type": "code",
   "execution_count": 36,
   "metadata": {},
   "outputs": [
    {
     "data": {
      "text/plain": [
       "2759873    499.0\n",
       "2685630     99.0\n",
       "2729523    599.0\n",
       "Name: item_gi, dtype: float64"
      ]
     },
     "execution_count": 36,
     "metadata": {},
     "output_type": "execute_result"
    }
   ],
   "source": [
    "df_sales_new['item_gi'] = df_sales_new[\"item_price\"] * df_sales_new[\"item_cnt_day\"]\n",
    "df_sales_new['item_gi'].sample(3)"
   ]
  },
  {
   "cell_type": "markdown",
   "metadata": {},
   "source": [
    "### Задание 13.\n",
    "\n",
    "(1) Посчитайте суммарные объемы продаж (item_gi) по дням (date). **Hint:** Вам понадобится группировка. So, across shops and across products, for each date.\n",
    "\n",
    "(2) Посчитайте суммарные объемы продаж (item_gi) по дням (date) для каждого магазина (shop_id). **Hint:** Вам понадобится группировка. Thus, across products, for each date.\n",
    "\n",
    "Для каждого из расчетов запишите их результат в переменные. Также примените метод `reset_index` к полученным результатам, указав новое имя **вместо item_gi**."
   ]
  },
  {
   "cell_type": "code",
   "execution_count": 37,
   "metadata": {},
   "outputs": [
    {
     "data": {
      "text/html": [
       "<div>\n",
       "<style scoped>\n",
       "    .dataframe tbody tr th:only-of-type {\n",
       "        vertical-align: middle;\n",
       "    }\n",
       "\n",
       "    .dataframe tbody tr th {\n",
       "        vertical-align: top;\n",
       "    }\n",
       "\n",
       "    .dataframe thead th {\n",
       "        text-align: right;\n",
       "    }\n",
       "</style>\n",
       "<table border=\"1\" class=\"dataframe\">\n",
       "  <thead>\n",
       "    <tr style=\"text-align: right;\">\n",
       "      <th></th>\n",
       "      <th>date</th>\n",
       "      <th>total_rev</th>\n",
       "    </tr>\n",
       "  </thead>\n",
       "  <tbody>\n",
       "    <tr>\n",
       "      <th>504</th>\n",
       "      <td>2014-05-20</td>\n",
       "      <td>2360981.0</td>\n",
       "    </tr>\n",
       "    <tr>\n",
       "      <th>824</th>\n",
       "      <td>2015-04-05</td>\n",
       "      <td>2733807.0</td>\n",
       "    </tr>\n",
       "    <tr>\n",
       "      <th>224</th>\n",
       "      <td>2013-08-13</td>\n",
       "      <td>2016766.0</td>\n",
       "    </tr>\n",
       "    <tr>\n",
       "      <th>29</th>\n",
       "      <td>2013-01-30</td>\n",
       "      <td>1978012.0</td>\n",
       "    </tr>\n",
       "    <tr>\n",
       "      <th>599</th>\n",
       "      <td>2014-08-23</td>\n",
       "      <td>3379938.0</td>\n",
       "    </tr>\n",
       "  </tbody>\n",
       "</table>\n",
       "</div>"
      ],
      "text/plain": [
       "          date  total_rev\n",
       "504 2014-05-20  2360981.0\n",
       "824 2015-04-05  2733807.0\n",
       "224 2013-08-13  2016766.0\n",
       "29  2013-01-30  1978012.0\n",
       "599 2014-08-23  3379938.0"
      ]
     },
     "execution_count": 37,
     "metadata": {},
     "output_type": "execute_result"
    }
   ],
   "source": [
    "# 1\n",
    "day_rev_t =\\\n",
    "df_sales_new.groupby('date')['item_gi'].sum().reset_index(name = \"total_rev\")\n",
    "day_rev_t.sample(5)"
   ]
  },
  {
   "cell_type": "code",
   "execution_count": 38,
   "metadata": {},
   "outputs": [
    {
     "data": {
      "text/html": [
       "<div>\n",
       "<style scoped>\n",
       "    .dataframe tbody tr th:only-of-type {\n",
       "        vertical-align: middle;\n",
       "    }\n",
       "\n",
       "    .dataframe tbody tr th {\n",
       "        vertical-align: top;\n",
       "    }\n",
       "\n",
       "    .dataframe thead th {\n",
       "        text-align: right;\n",
       "    }\n",
       "</style>\n",
       "<table border=\"1\" class=\"dataframe\">\n",
       "  <thead>\n",
       "    <tr style=\"text-align: right;\">\n",
       "      <th></th>\n",
       "      <th>date</th>\n",
       "      <th>shop_id</th>\n",
       "      <th>shop_rev</th>\n",
       "    </tr>\n",
       "  </thead>\n",
       "  <tbody>\n",
       "    <tr>\n",
       "      <th>45364</th>\n",
       "      <td>2015-09-17</td>\n",
       "      <td>25</td>\n",
       "      <td>334321.0</td>\n",
       "    </tr>\n",
       "    <tr>\n",
       "      <th>9102</th>\n",
       "      <td>2013-07-24</td>\n",
       "      <td>44</td>\n",
       "      <td>20346.0</td>\n",
       "    </tr>\n",
       "    <tr>\n",
       "      <th>33002</th>\n",
       "      <td>2014-12-13</td>\n",
       "      <td>31</td>\n",
       "      <td>420374.0</td>\n",
       "    </tr>\n",
       "    <tr>\n",
       "      <th>9288</th>\n",
       "      <td>2013-07-28</td>\n",
       "      <td>53</td>\n",
       "      <td>30502.0</td>\n",
       "    </tr>\n",
       "    <tr>\n",
       "      <th>28872</th>\n",
       "      <td>2014-09-21</td>\n",
       "      <td>44</td>\n",
       "      <td>40078.0</td>\n",
       "    </tr>\n",
       "  </tbody>\n",
       "</table>\n",
       "</div>"
      ],
      "text/plain": [
       "            date  shop_id  shop_rev\n",
       "45364 2015-09-17       25  334321.0\n",
       "9102  2013-07-24       44   20346.0\n",
       "33002 2014-12-13       31  420374.0\n",
       "9288  2013-07-28       53   30502.0\n",
       "28872 2014-09-21       44   40078.0"
      ]
     },
     "execution_count": 38,
     "metadata": {},
     "output_type": "execute_result"
    }
   ],
   "source": [
    "# 2\n",
    "day_rev_shop = \\\n",
    "df_sales_new.groupby(['date', 'shop_id'])['item_gi'].sum().reset_index(name = \"shop_rev\")\n",
    "day_rev_shop.sample(5)"
   ]
  },
  {
   "cell_type": "markdown",
   "metadata": {},
   "source": [
    "### Задание 14.\n",
    "\n",
    "Присоедините результаты расчетов из задания 13 к общей таблице по продажам, используя тип соединения **left**\n",
    "\n",
    "Поля, по которым соединять:\n",
    "* для первого результата: date\n",
    "* для второго результата: date, shop_id\n",
    "\n",
    "Создайте переменную доли суммы продаж на дату в каждом магазине к продажам на дату по всем магазинам."
   ]
  },
  {
   "cell_type": "code",
   "execution_count": 39,
   "metadata": {},
   "outputs": [
    {
     "data": {
      "text/html": [
       "<div>\n",
       "<style scoped>\n",
       "    .dataframe tbody tr th:only-of-type {\n",
       "        vertical-align: middle;\n",
       "    }\n",
       "\n",
       "    .dataframe tbody tr th {\n",
       "        vertical-align: top;\n",
       "    }\n",
       "\n",
       "    .dataframe thead th {\n",
       "        text-align: right;\n",
       "    }\n",
       "</style>\n",
       "<table border=\"1\" class=\"dataframe\">\n",
       "  <thead>\n",
       "    <tr style=\"text-align: right;\">\n",
       "      <th></th>\n",
       "      <th>date</th>\n",
       "      <th>date_block_num</th>\n",
       "      <th>shop_id</th>\n",
       "      <th>item_id</th>\n",
       "      <th>item_price</th>\n",
       "      <th>item_cnt_day</th>\n",
       "      <th>Year_Month</th>\n",
       "      <th>item_gi</th>\n",
       "      <th>total_rev</th>\n",
       "    </tr>\n",
       "  </thead>\n",
       "  <tbody>\n",
       "    <tr>\n",
       "      <th>457415</th>\n",
       "      <td>2013-05-06</td>\n",
       "      <td>4</td>\n",
       "      <td>35</td>\n",
       "      <td>16227</td>\n",
       "      <td>379.00</td>\n",
       "      <td>1.0</td>\n",
       "      <td>2013-05</td>\n",
       "      <td>379.00</td>\n",
       "      <td>1615513.50</td>\n",
       "    </tr>\n",
       "    <tr>\n",
       "      <th>1397312</th>\n",
       "      <td>2014-02-12</td>\n",
       "      <td>13</td>\n",
       "      <td>27</td>\n",
       "      <td>6497</td>\n",
       "      <td>587.75</td>\n",
       "      <td>1.0</td>\n",
       "      <td>2014-02</td>\n",
       "      <td>587.75</td>\n",
       "      <td>3083329.42</td>\n",
       "    </tr>\n",
       "    <tr>\n",
       "      <th>32081</th>\n",
       "      <td>2013-01-07</td>\n",
       "      <td>0</td>\n",
       "      <td>27</td>\n",
       "      <td>3693</td>\n",
       "      <td>599.00</td>\n",
       "      <td>1.0</td>\n",
       "      <td>2013-01</td>\n",
       "      <td>599.00</td>\n",
       "      <td>3390827.00</td>\n",
       "    </tr>\n",
       "  </tbody>\n",
       "</table>\n",
       "</div>"
      ],
      "text/plain": [
       "              date  date_block_num  shop_id  item_id  item_price  \\\n",
       "457415  2013-05-06               4       35    16227      379.00   \n",
       "1397312 2014-02-12              13       27     6497      587.75   \n",
       "32081   2013-01-07               0       27     3693      599.00   \n",
       "\n",
       "         item_cnt_day Year_Month  item_gi   total_rev  \n",
       "457415            1.0    2013-05   379.00  1615513.50  \n",
       "1397312           1.0    2014-02   587.75  3083329.42  \n",
       "32081             1.0    2013-01   599.00  3390827.00  "
      ]
     },
     "execution_count": 39,
     "metadata": {},
     "output_type": "execute_result"
    }
   ],
   "source": [
    "df_sales_new = df_sales_new.merge(day_rev_t, how='right', on='date') \n",
    "df_sales_new.sample(3)\n",
    "# note that because date column is the same for both dataframes,\n",
    "# the merge method (left, right...) doesn't really matter"
   ]
  },
  {
   "cell_type": "code",
   "execution_count": 40,
   "metadata": {},
   "outputs": [
    {
     "data": {
      "text/html": [
       "<div>\n",
       "<style scoped>\n",
       "    .dataframe tbody tr th:only-of-type {\n",
       "        vertical-align: middle;\n",
       "    }\n",
       "\n",
       "    .dataframe tbody tr th {\n",
       "        vertical-align: top;\n",
       "    }\n",
       "\n",
       "    .dataframe thead th {\n",
       "        text-align: right;\n",
       "    }\n",
       "</style>\n",
       "<table border=\"1\" class=\"dataframe\">\n",
       "  <thead>\n",
       "    <tr style=\"text-align: right;\">\n",
       "      <th></th>\n",
       "      <th>date</th>\n",
       "      <th>date_block_num</th>\n",
       "      <th>shop_id</th>\n",
       "      <th>item_id</th>\n",
       "      <th>item_price</th>\n",
       "      <th>item_cnt_day</th>\n",
       "      <th>Year_Month</th>\n",
       "      <th>item_gi</th>\n",
       "      <th>total_rev</th>\n",
       "      <th>shop_rev</th>\n",
       "    </tr>\n",
       "  </thead>\n",
       "  <tbody>\n",
       "    <tr>\n",
       "      <th>0</th>\n",
       "      <td>2013-01-01</td>\n",
       "      <td>0</td>\n",
       "      <td>19</td>\n",
       "      <td>18976</td>\n",
       "      <td>399.0</td>\n",
       "      <td>1.0</td>\n",
       "      <td>2013-01</td>\n",
       "      <td>399.0</td>\n",
       "      <td>1371116.5</td>\n",
       "      <td>64749.0</td>\n",
       "    </tr>\n",
       "    <tr>\n",
       "      <th>1</th>\n",
       "      <td>2013-01-01</td>\n",
       "      <td>0</td>\n",
       "      <td>19</td>\n",
       "      <td>18284</td>\n",
       "      <td>199.0</td>\n",
       "      <td>1.0</td>\n",
       "      <td>2013-01</td>\n",
       "      <td>199.0</td>\n",
       "      <td>1371116.5</td>\n",
       "      <td>64749.0</td>\n",
       "    </tr>\n",
       "    <tr>\n",
       "      <th>2</th>\n",
       "      <td>2013-01-01</td>\n",
       "      <td>0</td>\n",
       "      <td>19</td>\n",
       "      <td>18320</td>\n",
       "      <td>199.0</td>\n",
       "      <td>1.0</td>\n",
       "      <td>2013-01</td>\n",
       "      <td>199.0</td>\n",
       "      <td>1371116.5</td>\n",
       "      <td>64749.0</td>\n",
       "    </tr>\n",
       "  </tbody>\n",
       "</table>\n",
       "</div>"
      ],
      "text/plain": [
       "        date  date_block_num  shop_id  item_id  item_price  item_cnt_day  \\\n",
       "0 2013-01-01               0       19    18976       399.0           1.0   \n",
       "1 2013-01-01               0       19    18284       199.0           1.0   \n",
       "2 2013-01-01               0       19    18320       199.0           1.0   \n",
       "\n",
       "  Year_Month  item_gi  total_rev  shop_rev  \n",
       "0    2013-01    399.0  1371116.5   64749.0  \n",
       "1    2013-01    199.0  1371116.5   64749.0  \n",
       "2    2013-01    199.0  1371116.5   64749.0  "
      ]
     },
     "execution_count": 40,
     "metadata": {},
     "output_type": "execute_result"
    }
   ],
   "source": [
    "df_sales_new = df_sales_new.merge(day_rev_shop, how='left', on=['date', 'shop_id'])\n",
    "df_sales_new.head(3)"
   ]
  },
  {
   "cell_type": "code",
   "execution_count": 41,
   "metadata": {},
   "outputs": [
    {
     "data": {
      "text/plain": [
       "2856509    0.005682\n",
       "2880464    0.008588\n",
       "1221031    0.035002\n",
       "Name: share_rev, dtype: float64"
      ]
     },
     "execution_count": 41,
     "metadata": {},
     "output_type": "execute_result"
    }
   ],
   "source": [
    "df_sales_new['share_rev'] = df_sales_new['shop_rev'] / df_sales_new ['total_rev']\n",
    "df_sales_new['share_rev'].sample(3)"
   ]
  },
  {
   "cell_type": "markdown",
   "metadata": {},
   "source": [
    "### Задание 15.\n",
    "\n",
    "К таблице с продажами присоедините таблицы **items.csv** и **item_categories.csv**. Поля, по которым нужно проводить соединение, попробуйте определить самостоятельно."
   ]
  },
  {
   "cell_type": "code",
   "execution_count": 42,
   "metadata": {},
   "outputs": [
    {
     "data": {
      "text/html": [
       "<div>\n",
       "<style scoped>\n",
       "    .dataframe tbody tr th:only-of-type {\n",
       "        vertical-align: middle;\n",
       "    }\n",
       "\n",
       "    .dataframe tbody tr th {\n",
       "        vertical-align: top;\n",
       "    }\n",
       "\n",
       "    .dataframe thead th {\n",
       "        text-align: right;\n",
       "    }\n",
       "</style>\n",
       "<table border=\"1\" class=\"dataframe\">\n",
       "  <thead>\n",
       "    <tr style=\"text-align: right;\">\n",
       "      <th></th>\n",
       "      <th>item_name</th>\n",
       "      <th>item_id</th>\n",
       "      <th>category_id</th>\n",
       "    </tr>\n",
       "  </thead>\n",
       "  <tbody>\n",
       "    <tr>\n",
       "      <th>0</th>\n",
       "      <td>!! IN THE POWER OF HAPPINESS (PLAST) D</td>\n",
       "      <td>0</td>\n",
       "      <td>40</td>\n",
       "    </tr>\n",
       "    <tr>\n",
       "      <th>1</th>\n",
       "      <td>! ABBYY FineReader 12 Professional Edition Ful...</td>\n",
       "      <td>1</td>\n",
       "      <td>76</td>\n",
       "    </tr>\n",
       "    <tr>\n",
       "      <th>2</th>\n",
       "      <td>*** IN THE GLORY OF THE GLORY (UNV) D</td>\n",
       "      <td>2</td>\n",
       "      <td>40</td>\n",
       "    </tr>\n",
       "    <tr>\n",
       "      <th>3</th>\n",
       "      <td>*** BLUE WAVE (Univ) D</td>\n",
       "      <td>3</td>\n",
       "      <td>40</td>\n",
       "    </tr>\n",
       "    <tr>\n",
       "      <th>4</th>\n",
       "      <td>*** BOX (GLASS) D</td>\n",
       "      <td>4</td>\n",
       "      <td>40</td>\n",
       "    </tr>\n",
       "  </tbody>\n",
       "</table>\n",
       "</div>"
      ],
      "text/plain": [
       "                                           item_name  item_id  category_id\n",
       "0             !! IN THE POWER OF HAPPINESS (PLAST) D        0           40\n",
       "1  ! ABBYY FineReader 12 Professional Edition Ful...        1           76\n",
       "2              *** IN THE GLORY OF THE GLORY (UNV) D        2           40\n",
       "3                             *** BLUE WAVE (Univ) D        3           40\n",
       "4                                  *** BOX (GLASS) D        4           40"
      ]
     },
     "execution_count": 42,
     "metadata": {},
     "output_type": "execute_result"
    }
   ],
   "source": [
    "df_items = pd.read_csv(\\\n",
    "    \"C:/Users/Popov/Documents/NES_studies/Python/Elementary python/HA/HA 3 datasets/items.csv\")\n",
    "df_items.head()"
   ]
  },
  {
   "cell_type": "code",
   "execution_count": 43,
   "metadata": {},
   "outputs": [
    {
     "data": {
      "text/html": [
       "<div>\n",
       "<style scoped>\n",
       "    .dataframe tbody tr th:only-of-type {\n",
       "        vertical-align: middle;\n",
       "    }\n",
       "\n",
       "    .dataframe tbody tr th {\n",
       "        vertical-align: top;\n",
       "    }\n",
       "\n",
       "    .dataframe thead th {\n",
       "        text-align: right;\n",
       "    }\n",
       "</style>\n",
       "<table border=\"1\" class=\"dataframe\">\n",
       "  <thead>\n",
       "    <tr style=\"text-align: right;\">\n",
       "      <th></th>\n",
       "      <th>category_name</th>\n",
       "      <th>category_id</th>\n",
       "    </tr>\n",
       "  </thead>\n",
       "  <tbody>\n",
       "    <tr>\n",
       "      <th>0</th>\n",
       "      <td>PC - Headsets / Headphones</td>\n",
       "      <td>0</td>\n",
       "    </tr>\n",
       "    <tr>\n",
       "      <th>1</th>\n",
       "      <td>Accessories - PS2</td>\n",
       "      <td>1</td>\n",
       "    </tr>\n",
       "    <tr>\n",
       "      <th>2</th>\n",
       "      <td>Accessories - PS3</td>\n",
       "      <td>2</td>\n",
       "    </tr>\n",
       "    <tr>\n",
       "      <th>3</th>\n",
       "      <td>Accessories - PS4</td>\n",
       "      <td>3</td>\n",
       "    </tr>\n",
       "    <tr>\n",
       "      <th>4</th>\n",
       "      <td>Accessories - PSP</td>\n",
       "      <td>4</td>\n",
       "    </tr>\n",
       "  </tbody>\n",
       "</table>\n",
       "</div>"
      ],
      "text/plain": [
       "                category_name  category_id\n",
       "0  PC - Headsets / Headphones            0\n",
       "1           Accessories - PS2            1\n",
       "2           Accessories - PS3            2\n",
       "3           Accessories - PS4            3\n",
       "4           Accessories - PSP            4"
      ]
     },
     "execution_count": 43,
     "metadata": {},
     "output_type": "execute_result"
    }
   ],
   "source": [
    "df_items_cat = pd.read_csv(\\\n",
    "    \"C:/Users/Popov/Documents/NES_studies/Python/Elementary python/HA/HA 3 datasets/item_categories.csv\")\n",
    "df_items_cat.head()"
   ]
  },
  {
   "cell_type": "code",
   "execution_count": 44,
   "metadata": {},
   "outputs": [
    {
     "data": {
      "text/html": [
       "<div>\n",
       "<style scoped>\n",
       "    .dataframe tbody tr th:only-of-type {\n",
       "        vertical-align: middle;\n",
       "    }\n",
       "\n",
       "    .dataframe tbody tr th {\n",
       "        vertical-align: top;\n",
       "    }\n",
       "\n",
       "    .dataframe thead th {\n",
       "        text-align: right;\n",
       "    }\n",
       "</style>\n",
       "<table border=\"1\" class=\"dataframe\">\n",
       "  <thead>\n",
       "    <tr style=\"text-align: right;\">\n",
       "      <th></th>\n",
       "      <th>item_name</th>\n",
       "      <th>item_id</th>\n",
       "      <th>category_id</th>\n",
       "      <th>category_name</th>\n",
       "      <th>date</th>\n",
       "      <th>date_block_num</th>\n",
       "      <th>shop_id</th>\n",
       "      <th>item_price</th>\n",
       "      <th>item_cnt_day</th>\n",
       "      <th>Year_Month</th>\n",
       "      <th>item_gi</th>\n",
       "      <th>total_rev</th>\n",
       "      <th>shop_rev</th>\n",
       "      <th>share_rev</th>\n",
       "    </tr>\n",
       "  </thead>\n",
       "  <tbody>\n",
       "    <tr>\n",
       "      <th>535435</th>\n",
       "      <td>Turtles-Ninja Season 1 Collection of cartoons ...</td>\n",
       "      <td>21670</td>\n",
       "      <td>40</td>\n",
       "      <td>Cinema - DVD</td>\n",
       "      <td>2014-12-05</td>\n",
       "      <td>23.0</td>\n",
       "      <td>58.0</td>\n",
       "      <td>399.0</td>\n",
       "      <td>3.0</td>\n",
       "      <td>2014-12</td>\n",
       "      <td>1197.0</td>\n",
       "      <td>4582787.11</td>\n",
       "      <td>98075.0</td>\n",
       "      <td>0.021401</td>\n",
       "    </tr>\n",
       "    <tr>\n",
       "      <th>1405492</th>\n",
       "      <td>XCOM: Enemy Unknown [PC, Jewel, Russian version]</td>\n",
       "      <td>7912</td>\n",
       "      <td>30</td>\n",
       "      <td>PC Games - Standard Editions</td>\n",
       "      <td>2013-08-24</td>\n",
       "      <td>7.0</td>\n",
       "      <td>27.0</td>\n",
       "      <td>299.5</td>\n",
       "      <td>1.0</td>\n",
       "      <td>2013-08</td>\n",
       "      <td>299.5</td>\n",
       "      <td>3285467.00</td>\n",
       "      <td>221240.0</td>\n",
       "      <td>0.067339</td>\n",
       "    </tr>\n",
       "    <tr>\n",
       "      <th>1088214</th>\n",
       "      <td>Sponge Bob Square Pants. Plankton: Revenge of ...</td>\n",
       "      <td>10706</td>\n",
       "      <td>19</td>\n",
       "      <td>Games - PS3</td>\n",
       "      <td>2014-04-10</td>\n",
       "      <td>15.0</td>\n",
       "      <td>47.0</td>\n",
       "      <td>1699.0</td>\n",
       "      <td>1.0</td>\n",
       "      <td>2014-04</td>\n",
       "      <td>1699.0</td>\n",
       "      <td>2200773.90</td>\n",
       "      <td>62727.0</td>\n",
       "      <td>0.028502</td>\n",
       "    </tr>\n",
       "  </tbody>\n",
       "</table>\n",
       "</div>"
      ],
      "text/plain": [
       "                                                 item_name  item_id  \\\n",
       "535435   Turtles-Ninja Season 1 Collection of cartoons ...    21670   \n",
       "1405492   XCOM: Enemy Unknown [PC, Jewel, Russian version]     7912   \n",
       "1088214  Sponge Bob Square Pants. Plankton: Revenge of ...    10706   \n",
       "\n",
       "         category_id                  category_name       date  \\\n",
       "535435            40                   Cinema - DVD 2014-12-05   \n",
       "1405492           30   PC Games - Standard Editions 2013-08-24   \n",
       "1088214           19                    Games - PS3 2014-04-10   \n",
       "\n",
       "         date_block_num  shop_id  item_price  item_cnt_day Year_Month  \\\n",
       "535435             23.0     58.0       399.0           3.0    2014-12   \n",
       "1405492             7.0     27.0       299.5           1.0    2013-08   \n",
       "1088214            15.0     47.0      1699.0           1.0    2014-04   \n",
       "\n",
       "         item_gi   total_rev  shop_rev  share_rev  \n",
       "535435    1197.0  4582787.11   98075.0   0.021401  \n",
       "1405492    299.5  3285467.00  221240.0   0.067339  \n",
       "1088214   1699.0  2200773.90   62727.0   0.028502  "
      ]
     },
     "execution_count": 44,
     "metadata": {},
     "output_type": "execute_result"
    }
   ],
   "source": [
    "df_sales_new = \\\n",
    "pd.merge(pd.merge(df_items, df_items_cat, on='category_id', how = \"inner\"), \n",
    "         df_sales_new, on='item_id', how = \"left\", suffixes = ('', ''))\n",
    "\n",
    "# suffixes = ('', '') - to keep only one of the overlapping columns (their are the\n",
    "# same usually)\n",
    "df_sales_new.sample(3)"
   ]
  },
  {
   "cell_type": "code",
   "execution_count": 45,
   "metadata": {},
   "outputs": [
    {
     "data": {
      "text/plain": [
       "Index(['item_name', 'item_id', 'category_id', 'category_name', 'date',\n",
       "       'date_block_num', 'shop_id', 'item_price', 'item_cnt_day', 'Year_Month',\n",
       "       'item_gi', 'total_rev', 'shop_rev', 'share_rev'],\n",
       "      dtype='object')"
      ]
     },
     "execution_count": 45,
     "metadata": {},
     "output_type": "execute_result"
    }
   ],
   "source": [
    "df_sales_new.columns"
   ]
  },
  {
   "cell_type": "markdown",
   "metadata": {},
   "source": [
    "### Задание 16.\n",
    "\n",
    "В получившейся таблице создайте колонку **cat_name_trim**, состояющую из первого слова из колонки **category_name**. Затем посчитайте число уникальных значений в новой колонке.\n",
    "\n",
    "**Hint**: Вам нужно будет воспользоваться методом `apply`."
   ]
  },
  {
   "cell_type": "code",
   "execution_count": 46,
   "metadata": {},
   "outputs": [],
   "source": [
    "# using my module\n",
    "import sys\n",
    "\n",
    "path = 'C:/Users/Popov/Documents/NES_studies/Python/NES_Helper' # path of the modul\n",
    "sys.path.append(path)\n",
    "\n",
    "from NES_helper import Ext_w\n",
    "from NES_helper import T_m"
   ]
  },
  {
   "cell_type": "markdown",
   "metadata": {},
   "source": [
    "Class from the modul"
   ]
  },
  {
   "cell_type": "code",
   "execution_count": 47,
   "metadata": {},
   "outputs": [],
   "source": [
    "# # ---------------------------------- Extraction of regular expressions ----------------------------------------------------\n",
    "\n",
    "# class Ext_w:\n",
    "#     \"\"\"\n",
    "#     This class is for the extraction of regular expressions.\n",
    "#     init: Ext_w(text, func, pattern)\n",
    "#     func: ext_w()   \n",
    "#     -----------------------------------------------------\n",
    "#     Example of usage:\n",
    "#     extractor = Ext_w(\"text to search\", \"search\", r\"pattern\")\n",
    "#     result = extractor.ext_w()\n",
    "#     -----------------------------------------------------\n",
    "#     Can be applied for the dataframe (using additional function):\n",
    "#     Example of usage:\n",
    "#     #======== function ========\n",
    "#     # this function allows for iterating several texts\n",
    "#     def ext_help(text, func, pattern):\n",
    "#         extractor = Ext_w(text, func, pattern)\n",
    "#         return extractor.ext_w()\n",
    "#     #========----------========\n",
    "#     # Apply the extract_regex function to each row of the 'category_name' column\n",
    "    \n",
    "#     df_sales_new['cat_name_trim_3'] = df_sales_new['category_name'].apply(\n",
    "#     lambda x: ext_help(x, 'search', r'^\\s*(\\S+)'))\n",
    "    \n",
    "#     \"\"\"\n",
    "#     def __init__(self, text, func, pattern):\n",
    "#         \"\"\"\n",
    "#         text - str to extract from (e.g. 'apple is good')\n",
    "#         func:   'search' - searches for a pattern within a string\n",
    "#                 'match' - checks for a match only at the beginning of the string\n",
    "#         pattern - regular expression for search for (e.g. r'^\\s*(\\S+)')\n",
    "                \n",
    "#         \"\"\" \n",
    "#         self.text = text\n",
    "#         self.func = func\n",
    "#         self.pattern = pattern\n",
    "\n",
    "#     def ext_w(self):\n",
    "#         \"\"\"\n",
    "#         Function extracting regular expressions from the text.\n",
    "#         \"\"\"\n",
    "#         exp = getattr(re, self.func)(self.pattern, self.text)\n",
    "#         if exp:\n",
    "#             return exp.group(0)\n",
    "#         else:\n",
    "#             return None  "
   ]
  },
  {
   "cell_type": "code",
   "execution_count": 48,
   "metadata": {},
   "outputs": [
    {
     "data": {
      "text/plain": [
       "2259291         PC\n",
       "475309      Cinema\n",
       "816226       Music\n",
       "327666      Cinema\n",
       "2874167       Game\n",
       "Name: cat_name_trim, dtype: object"
      ]
     },
     "execution_count": 48,
     "metadata": {},
     "output_type": "execute_result"
    }
   ],
   "source": [
    "#======== function ========\n",
    "# this function allows for iterating several texts\n",
    "def ext_help(text, func, pattern):\n",
    "    extractor = Ext_w(text, func, pattern)\n",
    "    return extractor.ext_w()\n",
    "#========          ========\n",
    "\n",
    "# usage\n",
    "# Apply the extract_regex function to each row of the 'category_name' column\n",
    "df_sales_new['cat_name_trim'] = df_sales_new['category_name'].apply(\n",
    "lambda x: ext_help(x, 'match', r'^\\s*(\\S+)'))\n",
    "df_sales_new['cat_name_trim'].sample(5)"
   ]
  },
  {
   "cell_type": "code",
   "execution_count": 49,
   "metadata": {},
   "outputs": [
    {
     "data": {
      "text/plain": [
       "2278453                          Games - PS4\n",
       "2274390       PC Games - Additional Editions\n",
       "2111056                  Gifts - Development\n",
       "2590327                    Gifts - Soft toys\n",
       "2457247     Gifts - Gadgets, robots , sports\n",
       "Name: category_name, dtype: object"
      ]
     },
     "execution_count": 49,
     "metadata": {},
     "output_type": "execute_result"
    }
   ],
   "source": [
    "df_sales_new['category_name'].sample(5)"
   ]
  },
  {
   "cell_type": "markdown",
   "metadata": {},
   "source": [
    "### * Задание 17.\n",
    "\n",
    "Объединим все, что мы успели в этой домашке сделать. \n",
    "\n",
    "Проиджоинив таблицу **shops.csv** к получившейся в задании 16 таблице, посчитайте долю объема продаж магазинов, имевших в названии слово **Moscow**."
   ]
  },
  {
   "cell_type": "code",
   "execution_count": 50,
   "metadata": {},
   "outputs": [
    {
     "data": {
      "text/html": [
       "<div>\n",
       "<style scoped>\n",
       "    .dataframe tbody tr th:only-of-type {\n",
       "        vertical-align: middle;\n",
       "    }\n",
       "\n",
       "    .dataframe tbody tr th {\n",
       "        vertical-align: top;\n",
       "    }\n",
       "\n",
       "    .dataframe thead th {\n",
       "        text-align: right;\n",
       "    }\n",
       "</style>\n",
       "<table border=\"1\" class=\"dataframe\">\n",
       "  <thead>\n",
       "    <tr style=\"text-align: right;\">\n",
       "      <th></th>\n",
       "      <th>shop_name</th>\n",
       "      <th>shop_id</th>\n",
       "    </tr>\n",
       "  </thead>\n",
       "  <tbody>\n",
       "    <tr>\n",
       "      <th>0</th>\n",
       "      <td>! Yakutsk Ordzhonikidze, 56 francs</td>\n",
       "      <td>0</td>\n",
       "    </tr>\n",
       "    <tr>\n",
       "      <th>1</th>\n",
       "      <td>! Yakutsk TC \"Central\" fran</td>\n",
       "      <td>1</td>\n",
       "    </tr>\n",
       "    <tr>\n",
       "      <th>2</th>\n",
       "      <td>Adygea TC \"Mega\"</td>\n",
       "      <td>2</td>\n",
       "    </tr>\n",
       "    <tr>\n",
       "      <th>3</th>\n",
       "      <td>Balashikha TC \"Oktyabr-Kinomir\"</td>\n",
       "      <td>3</td>\n",
       "    </tr>\n",
       "    <tr>\n",
       "      <th>4</th>\n",
       "      <td>Volga TC \"Volga Mall\"</td>\n",
       "      <td>4</td>\n",
       "    </tr>\n",
       "  </tbody>\n",
       "</table>\n",
       "</div>"
      ],
      "text/plain": [
       "                            shop_name  shop_id\n",
       "0  ! Yakutsk Ordzhonikidze, 56 francs        0\n",
       "1         ! Yakutsk TC \"Central\" fran        1\n",
       "2                    Adygea TC \"Mega\"        2\n",
       "3     Balashikha TC \"Oktyabr-Kinomir\"        3\n",
       "4               Volga TC \"Volga Mall\"        4"
      ]
     },
     "execution_count": 50,
     "metadata": {},
     "output_type": "execute_result"
    }
   ],
   "source": [
    "df_shops = pd.read_csv(\\\n",
    "    \"C:/Users/Popov/Documents/NES_studies/Python/Elementary python/HA/HA 3 datasets/shops.csv\")\n",
    "df_shops.head()"
   ]
  },
  {
   "cell_type": "code",
   "execution_count": 51,
   "metadata": {},
   "outputs": [
    {
     "data": {
      "text/html": [
       "<div>\n",
       "<style scoped>\n",
       "    .dataframe tbody tr th:only-of-type {\n",
       "        vertical-align: middle;\n",
       "    }\n",
       "\n",
       "    .dataframe tbody tr th {\n",
       "        vertical-align: top;\n",
       "    }\n",
       "\n",
       "    .dataframe thead th {\n",
       "        text-align: right;\n",
       "    }\n",
       "</style>\n",
       "<table border=\"1\" class=\"dataframe\">\n",
       "  <thead>\n",
       "    <tr style=\"text-align: right;\">\n",
       "      <th></th>\n",
       "      <th>item_name</th>\n",
       "      <th>item_id</th>\n",
       "      <th>category_id</th>\n",
       "      <th>category_name</th>\n",
       "      <th>date</th>\n",
       "      <th>date_block_num</th>\n",
       "      <th>shop_id</th>\n",
       "      <th>item_price</th>\n",
       "      <th>item_cnt_day</th>\n",
       "      <th>Year_Month</th>\n",
       "      <th>item_gi</th>\n",
       "      <th>total_rev</th>\n",
       "      <th>shop_rev</th>\n",
       "      <th>share_rev</th>\n",
       "      <th>cat_name_trim</th>\n",
       "      <th>shop_name</th>\n",
       "    </tr>\n",
       "  </thead>\n",
       "  <tbody>\n",
       "    <tr>\n",
       "      <th>421286</th>\n",
       "      <td>THE SEVEN PSYCHOPATHIANS</td>\n",
       "      <td>18633</td>\n",
       "      <td>40</td>\n",
       "      <td>Cinema - DVD</td>\n",
       "      <td>2013-04-16</td>\n",
       "      <td>3.0</td>\n",
       "      <td>57.0</td>\n",
       "      <td>399.0</td>\n",
       "      <td>1.0</td>\n",
       "      <td>2013-04</td>\n",
       "      <td>399.0</td>\n",
       "      <td>1713463.00</td>\n",
       "      <td>65989.0</td>\n",
       "      <td>0.038512</td>\n",
       "      <td>Cinema</td>\n",
       "      <td>Yakutsk Ordzhonikidze, 56</td>\n",
       "    </tr>\n",
       "    <tr>\n",
       "      <th>1287759</th>\n",
       "      <td>Mass Effect 3 [PC, Russian subtitles]</td>\n",
       "      <td>4779</td>\n",
       "      <td>30</td>\n",
       "      <td>PC Games - Standard Editions</td>\n",
       "      <td>2014-02-05</td>\n",
       "      <td>13.0</td>\n",
       "      <td>25.0</td>\n",
       "      <td>149.5</td>\n",
       "      <td>1.0</td>\n",
       "      <td>2014-02</td>\n",
       "      <td>149.5</td>\n",
       "      <td>5340504.00</td>\n",
       "      <td>550612.0</td>\n",
       "      <td>0.103101</td>\n",
       "      <td>PC</td>\n",
       "      <td>Moscow TEC\" Atrium \"</td>\n",
       "    </tr>\n",
       "    <tr>\n",
       "      <th>376526</th>\n",
       "      <td>ADVENTURES OF THE CAPTAIN OF VRUNGEL. m / f</td>\n",
       "      <td>17372</td>\n",
       "      <td>40</td>\n",
       "      <td>Cinema - DVD</td>\n",
       "      <td>2013-10-04</td>\n",
       "      <td>9.0</td>\n",
       "      <td>26.0</td>\n",
       "      <td>149.0</td>\n",
       "      <td>1.0</td>\n",
       "      <td>2013-10</td>\n",
       "      <td>149.0</td>\n",
       "      <td>4798744.32</td>\n",
       "      <td>97911.0</td>\n",
       "      <td>0.020403</td>\n",
       "      <td>Cinema</td>\n",
       "      <td>Moscow TTS\" Areal \"(Belyaevo)</td>\n",
       "    </tr>\n",
       "  </tbody>\n",
       "</table>\n",
       "</div>"
      ],
      "text/plain": [
       "                                           item_name  item_id  category_id  \\\n",
       "421286                      THE SEVEN PSYCHOPATHIANS    18633           40   \n",
       "1287759        Mass Effect 3 [PC, Russian subtitles]     4779           30   \n",
       "376526   ADVENTURES OF THE CAPTAIN OF VRUNGEL. m / f    17372           40   \n",
       "\n",
       "                         category_name       date  date_block_num  shop_id  \\\n",
       "421286                    Cinema - DVD 2013-04-16             3.0     57.0   \n",
       "1287759   PC Games - Standard Editions 2014-02-05            13.0     25.0   \n",
       "376526                    Cinema - DVD 2013-10-04             9.0     26.0   \n",
       "\n",
       "         item_price  item_cnt_day Year_Month  item_gi   total_rev  shop_rev  \\\n",
       "421286        399.0           1.0    2013-04    399.0  1713463.00   65989.0   \n",
       "1287759       149.5           1.0    2014-02    149.5  5340504.00  550612.0   \n",
       "376526        149.0           1.0    2013-10    149.0  4798744.32   97911.0   \n",
       "\n",
       "         share_rev cat_name_trim                       shop_name  \n",
       "421286    0.038512        Cinema       Yakutsk Ordzhonikidze, 56  \n",
       "1287759   0.103101            PC            Moscow TEC\" Atrium \"  \n",
       "376526    0.020403        Cinema   Moscow TTS\" Areal \"(Belyaevo)  "
      ]
     },
     "execution_count": 51,
     "metadata": {},
     "output_type": "execute_result"
    }
   ],
   "source": [
    "df_final = pd.merge(df_sales_new, df_shops, on='shop_id', how = \"left\")\n",
    "df_final = df_final.dropna()\n",
    "df_final.sample(3)"
   ]
  },
  {
   "cell_type": "code",
   "execution_count": 52,
   "metadata": {},
   "outputs": [
    {
     "data": {
      "text/plain": [
       "2783639    0\n",
       "455300     1\n",
       "1229208    0\n",
       "869213     0\n",
       "1345031    0\n",
       "455044     1\n",
       "1338664    1\n",
       "1770110    1\n",
       "2257923    0\n",
       "1490817    1\n",
       "Name: Msk_dummy, dtype: int32"
      ]
     },
     "execution_count": 52,
     "metadata": {},
     "output_type": "execute_result"
    }
   ],
   "source": [
    "df_final['Msk_dummy'] = df_final['shop_name'].str.contains('Moscow', case=False).astype(int)\n",
    "df_final['Msk_dummy'].sample(10)"
   ]
  },
  {
   "cell_type": "code",
   "execution_count": 53,
   "metadata": {},
   "outputs": [],
   "source": [
    "Moscow_shape = df_final[df_final['Msk_dummy'] == 1]['shop_rev'].sum()/\\\n",
    "df_final['shop_rev'].sum()"
   ]
  },
  {
   "cell_type": "code",
   "execution_count": 54,
   "metadata": {},
   "outputs": [
    {
     "name": "stdout",
     "output_type": "stream",
     "text": [
      "Moscow shops total share in revenue for the whole period of onservation:\n",
      "0.492\n"
     ]
    }
   ],
   "source": [
    "print(f'Moscow shops total share in revenue for the whole period of onservation:\\n\\\n",
    "{round(Moscow_shape, 3)}')"
   ]
  }
 ],
 "metadata": {
  "colab": {
   "collapsed_sections": [],
   "name": "Python_HW_2.ipynb",
   "provenance": []
  },
  "kernelspec": {
   "display_name": "Python 3 (ipykernel)",
   "language": "python",
   "name": "python3"
  },
  "language_info": {
   "codemirror_mode": {
    "name": "ipython",
    "version": 3
   },
   "file_extension": ".py",
   "mimetype": "text/x-python",
   "name": "python",
   "nbconvert_exporter": "python",
   "pygments_lexer": "ipython3",
   "version": "3.11.4"
  }
 },
 "nbformat": 4,
 "nbformat_minor": 4
}
