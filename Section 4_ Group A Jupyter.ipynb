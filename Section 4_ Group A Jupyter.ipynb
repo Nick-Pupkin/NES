{
 "cells": [
  {
   "cell_type": "markdown",
   "id": "eed779f3",
   "metadata": {},
   "source": [
    "# Econometrics-3, section 4:\n",
    "# Optimization, NLLS, conditional MLE\n",
    "\n",
    "*Kirill Perminov, New Economic School, 2022*\n",
    "\n",
    "*augmented by Tatul Ayrapetyan, 2024*"
   ]
  },
  {
   "cell_type": "markdown",
   "id": "ac662faf",
   "metadata": {},
   "source": [
    "## Load libraries"
   ]
  },
  {
   "cell_type": "code",
   "execution_count": 1,
   "id": "0426f437",
   "metadata": {},
   "outputs": [],
   "source": [
    "import numpy as np\n",
    "import scipy.stats\n",
    "from scipy.optimize import minimize, least_squares\n",
    "import matplotlib.pyplot as plt"
   ]
  },
  {
   "cell_type": "markdown",
   "id": "084039e7",
   "metadata": {},
   "source": [
    "## Simulate data for NLLS and conditional MLE"
   ]
  },
  {
   "cell_type": "markdown",
   "id": "9b93d6f5",
   "metadata": {},
   "source": [
    "Exam, $n$ problems. Consider the following model:\n",
    "* $\\beta_0$ is the probability that you choose the right approach\n",
    "* $\\beta_1$ is the probability of making an arithmetic mistake\n",
    "* If you spend $x$ additional minutes, the mistake is detected and corrected with probability $(1 - e^{-\\beta_2 x})$\n",
    "\n",
    "Let $y_i = \\begin{cases} 1, \\quad&\\text{if problem $i$ is solved,} \\\\ 0, \\quad&\\text{otherwise.} \\end{cases}$\n",
    "\n",
    "Then:\n",
    "$$ E[y|x] = P[\\text{problem $i$ is solved}|x] = \\beta_0 (1 - \\beta_1 e^{-\\beta_2 x}) $$\n",
    "\n",
    "Let's generate $\\{(x_i, y_i)\\}_{i=1}^n$:"
   ]
  },
  {
   "cell_type": "code",
   "execution_count": 2,
   "id": "fbbf77d3",
   "metadata": {},
   "outputs": [],
   "source": [
    "def get_y_proba(x, b): # (n,)\n",
    "    return b[0] * (1 - b[1] * np.exp(-b[2] * x))\n",
    "\n",
    "def get_y_proba_grad(x, b): # (n, 3)\n",
    "    return np.array([\n",
    "        1 - b[1] * np.exp(-b[2] * x),\n",
    "        -b[0] * np.exp(-b[2] * x),\n",
    "        b[0] * b[1] * x * np.exp(-b[2] * x)\n",
    "    ]).T\n",
    "\n",
    "beta = np.array([0.8, 0.4, 1])\n",
    "xdist = scipy.stats.gamma(a=4, scale=0.5)\n",
    "n = 100\n",
    "\n",
    "x = xdist.rvs(size=n)\n",
    "y = scipy.stats.bernoulli.rvs(p=get_y_proba(x, beta))"
   ]
  },
  {
   "cell_type": "code",
   "execution_count": 3,
   "id": "6e8deb52",
   "metadata": {},
   "outputs": [
    {
     "data": {
      "image/png": "[encoded data removed]",
      "text/plain": [
       "<Figure size 640x480 with 1 Axes>"
      ]
     },
     "metadata": {},
     "output_type": "display_data"
    }
   ],
   "source": [
    "plt.scatter(x, y, label='Data')\n",
    "grid = np.linspace(0, 7, 101)\n",
    "plt.plot(grid, get_y_proba(grid, beta), color='red', label='$E[y|x]$')\n",
    "plt.title('Generated data')\n",
    "plt.xlabel('$x$')\n",
    "plt.ylabel('$y$')\n",
    "plt.xlim(left=grid[0], right=grid[-1])\n",
    "plt.legend()\n",
    "plt.show()"
   ]
  },
  {
   "cell_type": "markdown",
   "id": "469e8c23",
   "metadata": {},
   "source": [
    "## Concentration method"
   ]
  },
  {
   "cell_type": "markdown",
   "id": "9ceb216a",
   "metadata": {},
   "source": [
    "Rewrite the model as: \n",
    "\n",
    "$$\n",
    "E[y|x]=g(x,\\beta)=\\beta_0-\\beta_1'e^{-\\beta_2x}\n",
    "$$\n",
    "\n",
    "Where $\\beta_1'=\\beta_0\\cdot \\beta_1$. Note that the initial parameter of $\\beta_1$ is still identified unless $\\beta_0=0$ or $\\beta_2=0$, since you can simply compute the estimates as $\\hat{\\beta}_1=\\frac{\\hat{\\beta}_1'}{\\hat{\\beta_0}}$. \n",
    "\n",
    "Now, to implement concentration method, we need to set up some grid for $\\beta_2$:"
   ]
  },
  {
   "cell_type": "code",
   "execution_count": 4,
   "id": "24cb1022",
   "metadata": {},
   "outputs": [],
   "source": [
    "b2_grid=np.linspace(0.01,10,1000)"
   ]
  },
  {
   "cell_type": "markdown",
   "id": "5ec6c269",
   "metadata": {},
   "source": [
    "In what follows, we just need to compute estimates of $\\beta_0$ and $\\beta_1$ as a regular LS estimation; then we will choose the value in the grid that gives best value of the LS function. "
   ]
  },
  {
   "cell_type": "code",
   "execution_count": 5,
   "id": "a3850cbe",
   "metadata": {},
   "outputs": [],
   "source": [
    "# Store values of coefficients and least squares estimate\n",
    "b0_val=np.zeros(len(b2_grid))\n",
    "b1_val=np.zeros(len(b2_grid))\n",
    "LS=np.zeros(len(b2_grid))\n",
    "\n",
    "\n",
    "# Compute OLS for each value of beta_2\n",
    "for i in range(len(b2_grid)):\n",
    "    b2=b2_grid[i] # just notation for the running value of beta_2\n",
    "    X_=-np.exp(-b2*x) # quasiregressor\n",
    "    ones=np.ones(len(x)) # intercept\n",
    "    X=np.array((ones,X_)).T # matrix of quasiregressor values \n",
    "    b0,b1= np.linalg.inv(X.T@X)@X.T@y # OLS estimates\n",
    "    b0_val[i]=b0 \n",
    "    b1_val[i]=b1/b0 # storing parameter values\n",
    "    LS[i]=np.sum((y-b0-b1*X_)**2) # storing least squares values\n"
   ]
  },
  {
   "cell_type": "markdown",
   "id": "3831f384",
   "metadata": {},
   "source": [
    "Now the second step – find the optimal value of $\\beta_2$ among the computed least squares values. "
   ]
  },
  {
   "cell_type": "code",
   "execution_count": 10,
   "id": "3e2baf65",
   "metadata": {},
   "outputs": [
    {
     "name": "stdout",
     "output_type": "stream",
     "text": [
      "beta[0]: 0.91\n",
      "beta[1]: 0.39\n",
      "beta[2]: 0.38\n"
     ]
    }
   ],
   "source": [
    "ind=np.argmin(LS)\n",
    "beta_0=b0_val[ind]\n",
    "beta_1=b1_val[ind]\n",
    "beta_2=b2_grid[ind]\n",
    "\n",
    "print(f'beta[{0}]: {beta_0:.2f}')\n",
    "print(f'beta[{1}]: {beta_1:.2f}')\n",
    "print(f'beta[{2}]: {beta_2:.2f}')\n"
   ]
  },
  {
   "cell_type": "markdown",
   "id": "d34a3834",
   "metadata": {},
   "source": [
    "## NLLS"
   ]
  },
  {
   "cell_type": "markdown",
   "id": "1c0e4970",
   "metadata": {},
   "source": [
    "Once again:\n",
    "$$ E[y|x] = g(x, \\beta) = \\beta_0 (1 - \\beta_1 e^{-\\beta_2 x}) $$\n",
    "\n",
    "We can run nonlinear mean regression to estimate $\\beta$. All we need is a function that computes residuals: $(y - g(x, b))$ for a given $b$.\n",
    "\n",
    "Our friend `scipy.optimize.least_squares` will do the rest."
   ]
  },
  {
   "cell_type": "code",
   "execution_count": 50,
   "id": "a5e82b4f",
   "metadata": {},
   "outputs": [],
   "source": [
    "def get_residuals(b): # (n,)\n",
    "    return y - get_y_proba(x, b)\n",
    "\n",
    "def get_residuals_jac(b): # (n, 3)\n",
    "    return -get_y_proba_grad(x, b)\n",
    "\n",
    "result = least_squares(\n",
    "    fun=get_residuals,\n",
    "    x0=np.array([0.5, 0.5, 1]),\n",
    "    jac=get_residuals_jac,\n",
    "    bounds=((0, 0, 0), (1, 1, np.inf)),\n",
    ")"
   ]
  },
  {
   "cell_type": "code",
   "execution_count": 51,
   "id": "89025303",
   "metadata": {},
   "outputs": [
    {
     "data": {
      "text/plain": [
       " active_mask: array([0, 0, 0])\n",
       "        cost: 7.324597524439826\n",
       "         fun: array([ 0.10063524, -0.92178336,  0.23525581, -0.86604267,  0.11551162,\n",
       "       -0.62982809, -0.80917005,  0.11242615,  0.22951753,  0.1617631 ,\n",
       "        0.11682721,  0.34977091,  0.09946065,  0.20832698,  0.15763103,\n",
       "        0.17390382,  0.1268915 ,  0.12887871,  0.24680145,  0.24408583,\n",
       "        0.15201445,  0.19894468,  0.16629852,  0.22578764,  0.09327719,\n",
       "        0.2427209 , -0.64191778,  0.14201477,  0.28829927,  0.14073195,\n",
       "        0.2327269 ,  0.27752511,  0.11794426,  0.14669591,  0.19720018,\n",
       "        0.15160533,  0.07688592, -0.73190141,  0.09484011, -0.85251741,\n",
       "       -0.69480158, -0.66983739,  0.27501873,  0.07513352,  0.12072642,\n",
       "        0.21565725, -0.74374423,  0.15330931,  0.16842984,  0.23563778,\n",
       "       -0.70090351,  0.09880798,  0.29568166, -0.89251929,  0.29179082,\n",
       "        0.26640096,  0.0798883 , -0.7281179 ,  0.20281702,  0.48959919,\n",
       "        0.15168465,  0.18004777,  0.07100004,  0.21110055, -0.87661133,\n",
       "        0.1619702 ,  0.30538688,  0.13056301,  0.40152077,  0.11229114,\n",
       "        0.21631735,  0.13598169,  0.10043158, -0.75461371,  0.10047897,\n",
       "        0.15732111,  0.27978559,  0.14376767,  0.16622829,  0.1404837 ,\n",
       "        0.17318494, -0.80148083, -0.82479897,  0.22527308,  0.37257688,\n",
       "        0.11007442,  0.12753711,  0.18022424,  0.16774728,  0.26253325,\n",
       "        0.1812    ,  0.07313597,  0.07952183, -0.86218289, -0.64642113,\n",
       "        0.33949159,  0.14602   ,  0.09141423,  0.12167053,  0.10913847])\n",
       "        grad: array([-9.82216015e-06,  1.33622478e-06,  1.24748143e-04])\n",
       "         jac: array([[-0.96677699,  0.05514424, -0.09311719],\n",
       "       [-0.99087599,  0.01514421, -0.03726909],\n",
       "       [-0.82206589,  0.29533875, -0.20251083],\n",
       "       [-0.93095724,  0.11459862, -0.1434152 ],\n",
       "       [-0.95078555,  0.08168717, -0.11875491],\n",
       "       [-0.6770371 ,  0.53606056, -0.17659428],\n",
       "       [-0.8698217 ,  0.21607265, -0.18851337],\n",
       "       [-0.95410229,  0.07618197, -0.1139282 ],\n",
       "       [-0.82823428,  0.28510033, -0.20150191],\n",
       "       [-0.90106728,  0.1642106 , -0.17020125],\n",
       "       [-0.94937135,  0.08403449, -0.1207446 ],\n",
       "       [-0.69896726,  0.49966043, -0.18560084],\n",
       "       [-0.96803963,  0.05304848, -0.09080665],\n",
       "       [-0.85101318,  0.24729144, -0.19580588],\n",
       "       [-0.90550906,  0.15683803, -0.16686535],\n",
       "       [-0.88801654,  0.18587249, -0.17888903],\n",
       "       [-0.93855269,  0.10199153, -0.13474179],\n",
       "       [-0.93641652,  0.10553719, -0.13727059],\n",
       "       [-0.80965484,  0.31593887, -0.20390522],\n",
       "       [-0.81257401,  0.31109357, -0.20365146],\n",
       "       [-0.91154663,  0.14681675, -0.16199681],\n",
       "       [-0.86109873,  0.23055122, -0.19220882],\n",
       "       [-0.8961919 ,  0.17230285, -0.17363531],\n",
       "       [-0.83224375,  0.27844533, -0.20072875],\n",
       "       [-0.97468657,  0.04201576, -0.07777583],\n",
       "       [-0.81404125,  0.30865821, -0.20350692],\n",
       "       [-0.69003298,  0.51448973, -0.18211661],\n",
       "       [-0.92229585,  0.12897497, -0.15229717],\n",
       "       [-0.76504653,  0.38998067, -0.20262029],\n",
       "       [-0.92367482,  0.12668613, -0.15095011],\n",
       "       [-0.82478435,  0.29082659, -0.20209278],\n",
       "       [-0.77662828,  0.37075705, -0.20383301],\n",
       "       [-0.94817057,  0.08602757, -0.12240321],\n",
       "       [-0.91726383,  0.13732723, -0.15700997],\n",
       "       [-0.86297399,  0.22743863, -0.19146144],\n",
       "       [-0.91198642,  0.14608678, -0.16162653],\n",
       "       [-0.99230645,  0.01276991, -0.03272746],\n",
       "       [-0.78676137,  0.35393793, -0.20440633],\n",
       "       [-0.97300651,  0.04480437, -0.08121718],\n",
       "       [-0.91641819,  0.13873084, -0.15777164],\n",
       "       [-0.74688071,  0.42013269, -0.19958722],\n",
       "       [-0.72004532,  0.46467463, -0.192764  ],\n",
       "       [-0.77932252,  0.36628509, -0.20403082],\n",
       "       [-0.99419021,  0.00964321, -0.02633266],\n",
       "       [-0.94517988,  0.09099159, -0.12641557],\n",
       "       [-0.84313347,  0.26037034, -0.19814232],\n",
       "       [-0.79949187,  0.33280759, -0.20444652],\n",
       "       [-0.91015472,  0.14912707, -0.16315449],\n",
       "       [-0.89390082,  0.17610563, -0.17516996],\n",
       "       [-0.82165528,  0.29602028, -0.20257038],\n",
       "       [-0.75344001,  0.40924542, -0.20083663],\n",
       "       [-0.96874122,  0.05188398, -0.08950153],\n",
       "       [-0.7571108 ,  0.40315257, -0.20146059],\n",
       "       [-0.95941842,  0.06735815, -0.10568783],\n",
       "       [-0.76129327,  0.39621041, -0.2021044 ],\n",
       "       [-0.78858624,  0.35090897, -0.20445947],\n",
       "       [-0.98907903,  0.01812685, -0.04266166],\n",
       "       [-0.78269426,  0.3606886 , -0.20423236],\n",
       "       [-0.85693614,  0.23746038, -0.19377857],\n",
       "       [-0.5486581 ,  0.7491467 , -0.09694788],\n",
       "       [-0.91190115,  0.1462283 , -0.16169849],\n",
       "       [-0.88141207,  0.19683472, -0.18269857],\n",
       "       [-0.99863351,  0.00226813, -0.00815536],\n",
       "       [-0.84803171,  0.25224014, -0.19673739],\n",
       "       [-0.94231807,  0.09574167, -0.13010329],\n",
       "       [-0.90084465,  0.16458012, -0.17036317],\n",
       "       [-0.74667812,  0.42046895, -0.19954592],\n",
       "       [-0.93460598,  0.10854236, -0.13935807],\n",
       "       [-0.64333848,  0.59199425, -0.1599067 ],\n",
       "       [-0.95424742,  0.07594109, -0.11371169],\n",
       "       [-0.84242389,  0.26154811, -0.19833315],\n",
       "       [-0.92878114,  0.11821055, -0.14574311],\n",
       "       [-0.96699592,  0.05478086, -0.09272003],\n",
       "       [-0.81117608,  0.31341389, -0.20377856],\n",
       "       [-0.96694498,  0.05486541, -0.09281256],\n",
       "       [-0.90584222,  0.15628505, -0.16660691],\n",
       "       [-0.77419836,  0.37479028, -0.20362695],\n",
       "       [-0.92041156,  0.13210256, -0.1540987 ],\n",
       "       [-0.89626739,  0.17217755, -0.1735839 ],\n",
       "       [-0.92394168,  0.12624319, -0.15068659],\n",
       "       [-0.88878931,  0.18458983, -0.17841847],\n",
       "       [-0.86155613,  0.22979202, -0.19202885],\n",
       "       [-0.8866221 ,  0.18818701, -0.1797248 ],\n",
       "       [-0.83279688,  0.27752724, -0.20061467],\n",
       "       [-0.67445186,  0.5403516 , -0.17543319],\n",
       "       [-0.9566303 ,  0.07198593, -0.11009043],\n",
       "       [-0.93785869,  0.10314345, -0.13557131],\n",
       "       [-0.88122237,  0.19714959, -0.1828025 ],\n",
       "       [-0.89463455,  0.17488777, -0.17468387],\n",
       "       [-0.79274386,  0.34400807, -0.20452196],\n",
       "       [-0.88017347,  0.19889057, -0.18337174],\n",
       "       [-0.99633749,  0.00607912, -0.01827648],\n",
       "       [-0.98947297,  0.01747299, -0.04150643],\n",
       "       [-0.92680814,  0.12148537, -0.14779669],\n",
       "       [-0.69487388,  0.5064547 , -0.18403667],\n",
       "       [-0.71001708,  0.48131971, -0.18954535],\n",
       "       [-0.91799041,  0.13612123, -0.15634868],\n",
       "       [-0.97668917,  0.0386918 , -0.07352857],\n",
       "       [-0.94416499,  0.09267611, -0.12773992],\n",
       "       [-0.9576364 ,  0.07031599, -0.10852287]])\n",
       "     message: '`ftol` termination condition is satisfied.'\n",
       "        nfev: 18\n",
       "        njev: 17\n",
       "  optimality: 0.00011699079441622097\n",
       "      status: 2\n",
       "     success: True\n",
       "           x: array([0.93027116, 0.56046479, 0.93781592])"
      ]
     },
     "execution_count": 51,
     "metadata": {},
     "output_type": "execute_result"
    }
   ],
   "source": [
    "result"
   ]
  },
  {
   "cell_type": "code",
   "execution_count": 52,
   "id": "36645e48",
   "metadata": {},
   "outputs": [
    {
     "data": {
      "text/plain": [
       "array([0.93027116, 0.56046479, 0.93781592])"
      ]
     },
     "execution_count": 52,
     "metadata": {},
     "output_type": "execute_result"
    }
   ],
   "source": [
    "beta_hat = result.x\n",
    "beta_hat"
   ]
  },
  {
   "cell_type": "markdown",
   "id": "bea0bef7",
   "metadata": {},
   "source": [
    "Compute standard errors using OLS formilas and the notion of a quasi-regressor:\n",
    "$$ g_\\beta(x, b) = \\frac{\\partial g(x, b)}{\\partial b}, \\quad Q_{gg} = E[g_\\beta(x, \\beta) g_\\beta(x, \\beta)'], \\quad V_{ge} = \\text{Var}[g_\\beta  e] = E[g_\\beta  g_\\beta' e^2] $$\n",
    "$$ V_\\beta = Q_{gg}^{-1} V_{ge} Q_{gg}^{-1} $$"
   ]
  },
  {
   "cell_type": "code",
   "execution_count": 53,
   "id": "c1e51d6a",
   "metadata": {},
   "outputs": [],
   "source": [
    "X_quasi = get_y_proba_grad(x, beta_hat) # (n, 3)\n",
    "Qgg_hat = X_quasi.T @ X_quasi / n # (3, 3)\n",
    "Qgg_hat_inv = np.linalg.inv(Qgg_hat) # (3, 3)\n",
    "e_hat = get_residuals(beta_hat) # (n,)\n",
    "Vge_hat = X_quasi.T @ (X_quasi * (e_hat ** 2)[:, np.newaxis]) / n # (3, 3)\n",
    "Vbeta_hat = Qgg_hat_inv @ Vge_hat @ Qgg_hat_inv # (3, 3)"
   ]
  },
  {
   "cell_type": "code",
   "execution_count": 54,
   "id": "6f4c209d",
   "metadata": {},
   "outputs": [
    {
     "name": "stdout",
     "output_type": "stream",
     "text": [
      "beta[0]: 0.930 +- 0.114\n",
      "beta[1]: 0.560 +- 0.437\n",
      "beta[2]: 0.938 +- 1.035\n"
     ]
    }
   ],
   "source": [
    "for i in range(beta.shape[0]):\n",
    "    print(f'beta[{i}]: {beta_hat[i]:.3f} +- {np.sqrt(Vbeta_hat[i][i] / n):.3f}')"
   ]
  },
  {
   "cell_type": "markdown",
   "id": "6fe9dd84",
   "metadata": {},
   "source": [
    "## Conditional MLE\n",
    "\n",
    "Conditional distribution:\n",
    "$$ P(y=y_i | x=x_i) = \\begin{cases}\n",
    "\\beta_0 (1 - \\beta_1 e^{-\\beta_2 x_i}), \\quad&\\text{if } y_i = 1, \\\\\n",
    "1-\\beta_0 (1 - \\beta_1 e^{-\\beta_2 x_i}), \\quad&\\text{if } y_i = 0.\n",
    "\\end{cases} $$\n",
    "\n",
    "Or, alternatively:\n",
    "$$ P(y=y_i | x=x_i) = \\big(\\beta_0 (1 - \\beta_1 e^{-\\beta_2 x_i})\\big)^{y_i} \\big(1-\\beta_0 (1 - \\beta_1 e^{-\\beta_2 x_i})\\big)^{1-y_i} $$\n",
    "\n",
    "Loglikelihood function:\n",
    "$$ \\ell_n = \\sum_{i=1}^n \\Big[ y_i \\log\\big(\\beta_0 (1 - \\beta_1 e^{-\\beta_2 x_i})\\big) + (1-y_i) \\log \\big(1-\\beta_0 (1 - \\beta_1 e^{-\\beta_2 x_i})\\big) \\Big] $$\n",
    "\n",
    "I know it sounds weird, but loglikelihood can be maximized using ```scipy.optimize.minimize```:"
   ]
  },
  {
   "cell_type": "code",
   "execution_count": 55,
   "id": "ca1225e4",
   "metadata": {},
   "outputs": [],
   "source": [
    "def get_logl(x, b): # (n,)\n",
    "    return y * np.log(get_y_proba(x, b)) + (1 - y) * np.log(1 - get_y_proba(x, b))\n",
    "\n",
    "def get_score(x, b): # (n, 3)\n",
    "    p = get_y_proba(x, b)\n",
    "    return (y / p - (1 - y) / (1 - p))[:, np.newaxis] * get_y_proba_grad(x, b)\n",
    "\n",
    "def get_logl_neg(b): # scalar\n",
    "    return -np.sum(get_logl(x, b))\n",
    "\n",
    "def get_logl_neg_jac(b): # (3,)\n",
    "    return -np.sum(get_score(x, b), axis=0)\n",
    "\n",
    "result = minimize(\n",
    "    fun=get_logl_neg,\n",
    "    x0=np.array([0.5, 0.5, 1]),\n",
    "    jac=get_logl_neg_jac,\n",
    "    bounds=[(0, 1), (0, 1), (0, np.inf)]\n",
    ")"
   ]
  },
  {
   "cell_type": "code",
   "execution_count": 56,
   "id": "d37943ae",
   "metadata": {},
   "outputs": [
    {
     "data": {
      "text/plain": [
       "      fun: 46.32883183085179\n",
       " hess_inv: <3x3 LbfgsInvHessProduct with dtype=float64>\n",
       "      jac: array([ 4.28793297e-05,  1.71263564e-05, -2.72247311e-06])\n",
       "  message: 'CONVERGENCE: REL_REDUCTION_OF_F_<=_FACTR*EPSMCH'\n",
       "     nfev: 17\n",
       "      nit: 14\n",
       "     njev: 17\n",
       "   status: 0\n",
       "  success: True\n",
       "        x: array([0.91326629, 0.60165442, 1.10675885])"
      ]
     },
     "execution_count": 56,
     "metadata": {},
     "output_type": "execute_result"
    }
   ],
   "source": [
    "result"
   ]
  },
  {
   "cell_type": "code",
   "execution_count": 57,
   "id": "d825f1bd",
   "metadata": {},
   "outputs": [
    {
     "name": "stdout",
     "output_type": "stream",
     "text": [
      "beta[0]: 0.913 +- 0.088\n",
      "beta[1]: 0.602 +- 0.493\n",
      "beta[2]: 1.107 +- 1.117\n"
     ]
    }
   ],
   "source": [
    "beta_hat = result.x\n",
    "score = get_score(x, beta_hat)\n",
    "I = score.T @ score / n\n",
    "Vbeta_hat = np.linalg.inv(I)\n",
    "\n",
    "for i in range(beta.shape[0]):\n",
    "    print(f'beta[{i}]: {beta_hat[i]:.3f} +- {np.sqrt(Vbeta_hat[i][i] / n):.3f}')"
   ]
  },
  {
   "cell_type": "code",
   "execution_count": null,
   "id": "f4eeff8a",
   "metadata": {},
   "outputs": [],
   "source": []
  }
 ],
 "metadata": {
  "kernelspec": {
   "display_name": "Python 3 (ipykernel)",
   "language": "python",
   "name": "python3"
  },
  "language_info": {
   "codemirror_mode": {
    "name": "ipython",
    "version": 3
   },
   "file_extension": ".py",
   "mimetype": "text/x-python",
   "name": "python",
   "nbconvert_exporter": "python",
   "pygments_lexer": "ipython3",
   "version": "3.11.8"
  }
 },
 "nbformat": 4,
 "nbformat_minor": 5
}
