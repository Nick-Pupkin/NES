{
 "cells": [
  {
   "cell_type": "markdown",
   "id": "f4e06531-bcda-489b-900a-f2c826e7fb1c",
   "metadata": {},
   "source": [
    "### Libraries"
   ]
  },
  {
   "cell_type": "code",
   "execution_count": 1,
   "id": "893f38f4-e0e5-40b7-a6f9-5ff07ab9a160",
   "metadata": {},
   "outputs": [],
   "source": [
    "import warnings\n",
    "warnings.filterwarnings(\"ignore\")\n",
    "\n",
    "\n",
    "import pandas as pd\n",
    "import numpy as np\n",
    "from tqdm import tqdm\n",
    "from statsmodels.discrete.discrete_model import Logit\n",
    "import statsmodels.api as sm\n",
    "from scipy.optimize import minimize"
   ]
  },
  {
   "cell_type": "markdown",
   "id": "548c3b8a-5c4b-44ab-9728-e46fd7cda541",
   "metadata": {},
   "source": [
    "## Problem 1: Dynamic Optimization "
   ]
  },
  {
   "cell_type": "code",
   "execution_count": 2,
   "id": "cf1a7f1f-c581-4c45-89d6-19cd167653bb",
   "metadata": {},
   "outputs": [],
   "source": [
    "data = pd.read_csv(r\"C:\\Users\\Popov\\Documents\\Studies\\NES_studies\\Python\\EIO\\HA2\\RUST_DATA.csv\")"
   ]
  },
  {
   "cell_type": "code",
   "execution_count": 3,
   "id": "e68024ff-e086-4c55-825e-9d93727bf09d",
   "metadata": {
    "scrolled": true
   },
   "outputs": [
    {
     "data": {
      "text/html": [
       "<div>\n",
       "<style scoped>\n",
       "    .dataframe tbody tr th:only-of-type {\n",
       "        vertical-align: middle;\n",
       "    }\n",
       "\n",
       "    .dataframe tbody tr th {\n",
       "        vertical-align: top;\n",
       "    }\n",
       "\n",
       "    .dataframe thead th {\n",
       "        text-align: right;\n",
       "    }\n",
       "</style>\n",
       "<table border=\"1\" class=\"dataframe\">\n",
       "  <thead>\n",
       "    <tr style=\"text-align: right;\">\n",
       "      <th></th>\n",
       "      <th>0</th>\n",
       "      <th>level_1</th>\n",
       "      <th>state</th>\n",
       "      <th>decision</th>\n",
       "    </tr>\n",
       "  </thead>\n",
       "  <tbody>\n",
       "    <tr>\n",
       "      <th>0</th>\n",
       "      <td>4403</td>\n",
       "      <td>1983-05-01</td>\n",
       "      <td>0.0</td>\n",
       "      <td>0.0</td>\n",
       "    </tr>\n",
       "    <tr>\n",
       "      <th>1</th>\n",
       "      <td>4403</td>\n",
       "      <td>1983-06-01</td>\n",
       "      <td>0.0</td>\n",
       "      <td>0.0</td>\n",
       "    </tr>\n",
       "    <tr>\n",
       "      <th>2</th>\n",
       "      <td>4403</td>\n",
       "      <td>1983-07-01</td>\n",
       "      <td>1.0</td>\n",
       "      <td>0.0</td>\n",
       "    </tr>\n",
       "    <tr>\n",
       "      <th>3</th>\n",
       "      <td>4403</td>\n",
       "      <td>1983-08-01</td>\n",
       "      <td>2.0</td>\n",
       "      <td>0.0</td>\n",
       "    </tr>\n",
       "  </tbody>\n",
       "</table>\n",
       "</div>"
      ],
      "text/plain": [
       "      0     level_1  state  decision\n",
       "0  4403  1983-05-01    0.0       0.0\n",
       "1  4403  1983-06-01    0.0       0.0\n",
       "2  4403  1983-07-01    1.0       0.0\n",
       "3  4403  1983-08-01    2.0       0.0"
      ]
     },
     "execution_count": 3,
     "metadata": {},
     "output_type": "execute_result"
    }
   ],
   "source": [
    "data.head(4)"
   ]
  },
  {
   "cell_type": "markdown",
   "id": "57b2120a-9ea6-4636-9fce-bf9a4455da6d",
   "metadata": {},
   "source": [
    "### Task 1: Static model"
   ]
  },
  {
   "cell_type": "code",
   "execution_count": 4,
   "id": "950911bb-c713-433e-8c46-b215ad04a2ac",
   "metadata": {},
   "outputs": [
    {
     "name": "stdout",
     "output_type": "stream",
     "text": [
      "Optimization terminated successfully.\n",
      "         Current function value: 0.036576\n",
      "         Iterations 10\n",
      "                           Logit Regression Results                           \n",
      "==============================================================================\n",
      "Dep. Variable:               decision   No. Observations:                 8260\n",
      "Model:                          Logit   Df Residuals:                     8258\n",
      "Method:                           MLE   Df Model:                            1\n",
      "Date:                Wed, 16 Oct 2024   Pseudo R-squ.:                  0.1377\n",
      "Time:                        14:07:17   Log-Likelihood:                -302.12\n",
      "converged:                       True   LL-Null:                       -350.35\n",
      "Covariance Type:                  hc2   LLR p-value:                 9.139e-23\n",
      "==============================================================================\n",
      "                 coef    std err          z      P>|z|      [0.025      0.975]\n",
      "------------------------------------------------------------------------------\n",
      "const         -7.3942      0.285    -25.917      0.000      -7.953      -6.835\n",
      "state          0.0712      0.006     12.756      0.000       0.060       0.082\n",
      "==============================================================================\n"
     ]
    }
   ],
   "source": [
    "# select data\n",
    "X = data['state']\n",
    "X = sm.add_constant(X)\n",
    "Y = data['decision'].astype(int)\n",
    "\n",
    "# fit logit regression\n",
    "logit = Logit(Y, X).fit(cov_type=\"hc2\")\n",
    "print(logit.summary())"
   ]
  },
  {
   "cell_type": "code",
   "execution_count": 5,
   "id": "d4574943-4734-40ce-bd1c-a48769adbc15",
   "metadata": {},
   "outputs": [],
   "source": [
    "# Get the LaTeX output\n",
    "latex_output = logit.summary().as_latex()\n",
    "\n",
    "with open(\"logits.tex\", \"w\") as f:\n",
    "    f.write(latex_output)"
   ]
  },
  {
   "cell_type": "markdown",
   "id": "121769b4-27b0-4085-8bbf-b2c30ad3acd3",
   "metadata": {},
   "source": [
    "### Task 2: Dynamic model"
   ]
  },
  {
   "cell_type": "markdown",
   "id": "f3c20993-f2a0-4e08-bc48-e30480d17b7d",
   "metadata": {},
   "source": [
    "#### Transitions probabilities"
   ]
  },
  {
   "cell_type": "code",
   "execution_count": 6,
   "id": "cfaf5255-83d0-436c-b807-583a6d3ce0df",
   "metadata": {},
   "outputs": [
    {
     "name": "stdout",
     "output_type": "stream",
     "text": [
      "(0.343, 0.626, 0.011)\n"
     ]
    }
   ],
   "source": [
    "# define difference variable - changes in states (mileage groups)\n",
    "data['state_discrete'] = data['state'] - data['state'].shift(1)\n",
    "\n",
    "# define the total sums of the changes (transitions)\n",
    "N = data['state_discrete'].notna().sum().sum()\n",
    "\n",
    "# finally, define the number of transitions into particular states\n",
    "t1 = (data['state_discrete'] == 0).sum().sum() / N\n",
    "t2 = (data['state_discrete'] == 1).sum().sum() / N\n",
    "t3 = (data['state_discrete'] == 2).sum().sum() / N\n",
    "\n",
    "# print them\n",
    "rounded_probs = (round(t1, 3), round(t2, 3), round(t3, 3))\n",
    "print(rounded_probs)"
   ]
  },
  {
   "cell_type": "markdown",
   "id": "1546d862-50ce-4909-a74e-b71a293779d5",
   "metadata": {},
   "source": [
    "#### Transition matrix"
   ]
  },
  {
   "cell_type": "code",
   "execution_count": 7,
   "id": "327f21e9-95ed-4cb5-867b-6e9e725cbba6",
   "metadata": {},
   "outputs": [
    {
     "ename": "NameError",
     "evalue": "name 'p1' is not defined",
     "output_type": "error",
     "traceback": [
      "\u001b[1;31m---------------------------------------------------------------------------\u001b[0m",
      "\u001b[1;31mNameError\u001b[0m                                 Traceback (most recent call last)",
      "Cell \u001b[1;32mIn[7], line 8\u001b[0m\n\u001b[0;32m      5\u001b[0m P \u001b[38;5;241m=\u001b[39m np\u001b[38;5;241m.\u001b[39mzeros((T, T))\n\u001b[0;32m      7\u001b[0m \u001b[38;5;66;03m# add probabilities of staying in the same state\u001b[39;00m\n\u001b[1;32m----> 8\u001b[0m np\u001b[38;5;241m.\u001b[39mfill_diagonal(P, p1)\n\u001b[0;32m     10\u001b[0m \u001b[38;5;66;03m# add probability of getting into the next state\u001b[39;00m\n\u001b[0;32m     11\u001b[0m P \u001b[38;5;241m=\u001b[39m P \u001b[38;5;241m+\u001b[39m np\u001b[38;5;241m.\u001b[39mdiag(np\u001b[38;5;241m.\u001b[39mones(T \u001b[38;5;241m-\u001b[39m \u001b[38;5;241m1\u001b[39m) \u001b[38;5;241m*\u001b[39m p2, \u001b[38;5;241m1\u001b[39m)\n",
      "\u001b[1;31mNameError\u001b[0m: name 'p1' is not defined"
     ]
    }
   ],
   "source": [
    "# determine the number of states\n",
    "T = max(data['state'].astype(int))+1 # add one, as python won't see the last value\n",
    "\n",
    "# crete an empty transition matrix\n",
    "P = np.zeros((T, T))\n",
    "\n",
    "# add probabilities of staying in the same state\n",
    "np.fill_diagonal(P, p1)\n",
    "\n",
    "# add probability of getting into the next state\n",
    "P = P + np.diag(np.ones(T - 1) * p2, 1)\n",
    "\n",
    "# and probability of getting 2 states ahead\n",
    "P = P + np.diag(np.ones(T - 2) * p3, 2)\n",
    "\n",
    "# adjust the last column to ensure row sums equal 1\n",
    "P[:, -1] += 1 - P.sum(1)\n",
    "\n",
    "# see the matrix\n",
    "print(P)"
   ]
  },
  {
   "cell_type": "code",
   "execution_count": null,
   "id": "f893d761-4fa5-47ae-8f47-30ade7ae014a",
   "metadata": {},
   "outputs": [],
   "source": []
  }
 ],
 "metadata": {
  "kernelspec": {
   "display_name": "Python 3 (ipykernel)",
   "language": "python",
   "name": "python3"
  },
  "language_info": {
   "codemirror_mode": {
    "name": "ipython",
    "version": 3
   },
   "file_extension": ".py",
   "mimetype": "text/x-python",
   "name": "python",
   "nbconvert_exporter": "python",
   "pygments_lexer": "ipython3",
   "version": "3.11.8"
  }
 },
 "nbformat": 4,
 "nbformat_minor": 5
}
