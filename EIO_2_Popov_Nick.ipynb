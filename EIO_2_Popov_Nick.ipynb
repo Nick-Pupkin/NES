{
 "cells": [
  {
   "cell_type": "markdown",
   "id": "f4e06531-bcda-489b-900a-f2c826e7fb1c",
   "metadata": {},
   "source": [
    "### Libraries"
   ]
  },
  {
   "cell_type": "code",
   "execution_count": 1,
   "id": "893f38f4-e0e5-40b7-a6f9-5ff07ab9a160",
   "metadata": {},
   "outputs": [],
   "source": [
    "import warnings\n",
    "warnings.filterwarnings(\"ignore\")\n",
    "\n",
    "\n",
    "import pandas as pd\n",
    "import numpy as np\n",
    "from tqdm  import tqdm\n",
    "from statsmodels.discrete.discrete_model import Logit\n",
    "import statsmodels.api as sm\n",
    "from scipy.optimize import minimize\n",
    "import sys"
   ]
  },
  {
   "cell_type": "markdown",
   "id": "548c3b8a-5c4b-44ab-9728-e46fd7cda541",
   "metadata": {},
   "source": [
    "## Problem 1: Dynamic Optimization "
   ]
  },
  {
   "cell_type": "code",
   "execution_count": 2,
   "id": "cf1a7f1f-c581-4c45-89d6-19cd167653bb",
   "metadata": {},
   "outputs": [],
   "source": [
    "data = pd.read_csv(r\"C:\\Users\\Popov\\Documents\\Studies\\NES_studies\\Python\\EIO\\HA2\\RUST_DATA.csv\")"
   ]
  },
  {
   "cell_type": "code",
   "execution_count": 3,
   "id": "e68024ff-e086-4c55-825e-9d93727bf09d",
   "metadata": {
    "scrolled": true
   },
   "outputs": [
    {
     "data": {
      "text/html": [
       "<div>\n",
       "<style scoped>\n",
       "    .dataframe tbody tr th:only-of-type {\n",
       "        vertical-align: middle;\n",
       "    }\n",
       "\n",
       "    .dataframe tbody tr th {\n",
       "        vertical-align: top;\n",
       "    }\n",
       "\n",
       "    .dataframe thead th {\n",
       "        text-align: right;\n",
       "    }\n",
       "</style>\n",
       "<table border=\"1\" class=\"dataframe\">\n",
       "  <thead>\n",
       "    <tr style=\"text-align: right;\">\n",
       "      <th></th>\n",
       "      <th>0</th>\n",
       "      <th>level_1</th>\n",
       "      <th>state</th>\n",
       "      <th>decision</th>\n",
       "    </tr>\n",
       "  </thead>\n",
       "  <tbody>\n",
       "    <tr>\n",
       "      <th>0</th>\n",
       "      <td>4403</td>\n",
       "      <td>1983-05-01</td>\n",
       "      <td>0.0</td>\n",
       "      <td>0.0</td>\n",
       "    </tr>\n",
       "    <tr>\n",
       "      <th>1</th>\n",
       "      <td>4403</td>\n",
       "      <td>1983-06-01</td>\n",
       "      <td>0.0</td>\n",
       "      <td>0.0</td>\n",
       "    </tr>\n",
       "    <tr>\n",
       "      <th>2</th>\n",
       "      <td>4403</td>\n",
       "      <td>1983-07-01</td>\n",
       "      <td>1.0</td>\n",
       "      <td>0.0</td>\n",
       "    </tr>\n",
       "    <tr>\n",
       "      <th>3</th>\n",
       "      <td>4403</td>\n",
       "      <td>1983-08-01</td>\n",
       "      <td>2.0</td>\n",
       "      <td>0.0</td>\n",
       "    </tr>\n",
       "  </tbody>\n",
       "</table>\n",
       "</div>"
      ],
      "text/plain": [
       "      0     level_1  state  decision\n",
       "0  4403  1983-05-01    0.0       0.0\n",
       "1  4403  1983-06-01    0.0       0.0\n",
       "2  4403  1983-07-01    1.0       0.0\n",
       "3  4403  1983-08-01    2.0       0.0"
      ]
     },
     "execution_count": 3,
     "metadata": {},
     "output_type": "execute_result"
    }
   ],
   "source": [
    "data.head(4)"
   ]
  },
  {
   "cell_type": "markdown",
   "id": "57b2120a-9ea6-4636-9fce-bf9a4455da6d",
   "metadata": {},
   "source": [
    "### Task 1: Static model"
   ]
  },
  {
   "cell_type": "code",
   "execution_count": 4,
   "id": "950911bb-c713-433e-8c46-b215ad04a2ac",
   "metadata": {},
   "outputs": [
    {
     "name": "stdout",
     "output_type": "stream",
     "text": [
      "Optimization terminated successfully.\n",
      "         Current function value: 0.036576\n",
      "         Iterations 10\n",
      "                           Logit Regression Results                           \n",
      "==============================================================================\n",
      "Dep. Variable:               decision   No. Observations:                 8260\n",
      "Model:                          Logit   Df Residuals:                     8258\n",
      "Method:                           MLE   Df Model:                            1\n",
      "Date:                Fri, 18 Oct 2024   Pseudo R-squ.:                  0.1377\n",
      "Time:                        12:00:32   Log-Likelihood:                -302.12\n",
      "converged:                       True   LL-Null:                       -350.35\n",
      "Covariance Type:                  hc2   LLR p-value:                 9.139e-23\n",
      "==============================================================================\n",
      "                 coef    std err          z      P>|z|      [0.025      0.975]\n",
      "------------------------------------------------------------------------------\n",
      "const         -7.3942      0.285    -25.917      0.000      -7.953      -6.835\n",
      "state          0.0712      0.006     12.756      0.000       0.060       0.082\n",
      "==============================================================================\n"
     ]
    }
   ],
   "source": [
    "# select data\n",
    "X = data['state']\n",
    "X = sm.add_constant(X)\n",
    "Y = data['decision'].astype(int)\n",
    "\n",
    "# fit logit regression\n",
    "logit = Logit(Y, X).fit(cov_type=\"hc2\")\n",
    "print(logit.summary())"
   ]
  },
  {
   "cell_type": "code",
   "execution_count": 5,
   "id": "c8a592fe-454a-41b2-b16e-fc122bcaae43",
   "metadata": {},
   "outputs": [
    {
     "name": "stdout",
     "output_type": "stream",
     "text": [
      "Estimates: theta_1_static = 0.071, RC_static = -7.394\n"
     ]
    }
   ],
   "source": [
    "coefs = logit.params\n",
    "theta_1_static = coefs[1] \n",
    "RC_static = coefs[0]\n",
    "print(f\"Estimates: theta_1_static = {theta_1_static:.3f}, RC_static = {RC_static:.3f}\")"
   ]
  },
  {
   "cell_type": "code",
   "execution_count": 6,
   "id": "b56a425f-d698-4252-952e-64ba9ad0f9c1",
   "metadata": {},
   "outputs": [],
   "source": [
    "import statsmodels.api as sm\n",
    "\n",
    "# Assuming 'logit' is your fitted Logit model\n",
    "logit_results = logit.summary2()  # Use summary2 for a more compact table\n",
    "\n",
    "# Extract the table with the regression results (coefficients, SE, etc.)\n",
    "regression_table = logit_results.tables[1]\n",
    "\n",
    "# Convert to LaTeX format with 3 decimal places using float_format\n",
    "latex_output = regression_table.to_latex(float_format=\"%.3f\")\n",
    "\n",
    "# Save to a .tex file\n",
    "with open(\"1_1.tex\", \"w\") as f:\n",
    "    f.write(latex_output)"
   ]
  },
  {
   "cell_type": "markdown",
   "id": "121769b4-27b0-4085-8bbf-b2c30ad3acd3",
   "metadata": {},
   "source": [
    "### Task 2: Dynamic model"
   ]
  },
  {
   "cell_type": "markdown",
   "id": "f3c20993-f2a0-4e08-bc48-e30480d17b7d",
   "metadata": {},
   "source": [
    "#### Transitions probabilities"
   ]
  },
  {
   "cell_type": "code",
   "execution_count": 7,
   "id": "cfaf5255-83d0-436c-b807-583a6d3ce0df",
   "metadata": {},
   "outputs": [
    {
     "name": "stdout",
     "output_type": "stream",
     "text": [
      "(0.343, 0.626, 0.011)\n"
     ]
    }
   ],
   "source": [
    "# define difference variable - changes in states (mileage groups)\n",
    "data['state_discrete'] = data['state'] - data['state'].shift(1)\n",
    "\n",
    "# define the total sums of the changes (transitions)\n",
    "N = data['state_discrete'].notna().sum().sum()\n",
    "\n",
    "# finally, define the number of transitions into particular states\n",
    "t1 = (data['state_discrete'] == 0).sum().sum() / N\n",
    "t2 = (data['state_discrete'] == 1).sum().sum() / N\n",
    "t3 = (data['state_discrete'] == 2).sum().sum() / N\n",
    "\n",
    "# print them\n",
    "rounded_probs = (round(t1, 3), round(t2, 3), round(t3, 3))\n",
    "print(rounded_probs)"
   ]
  },
  {
   "cell_type": "markdown",
   "id": "1546d862-50ce-4909-a74e-b71a293779d5",
   "metadata": {},
   "source": [
    "#### Transition matrix"
   ]
  },
  {
   "cell_type": "code",
   "execution_count": 8,
   "id": "327f21e9-95ed-4cb5-867b-6e9e725cbba6",
   "metadata": {},
   "outputs": [
    {
     "name": "stdout",
     "output_type": "stream",
     "text": [
      "[[0.343 0.626 0.011 ... 0.    0.    0.019]\n",
      " [0.    0.343 0.626 ... 0.    0.    0.019]\n",
      " [0.    0.    0.343 ... 0.    0.    0.019]\n",
      " ...\n",
      " [0.    0.    0.    ... 0.343 0.626 0.031]\n",
      " [0.    0.    0.    ... 0.    0.343 0.657]\n",
      " [0.    0.    0.    ... 0.    0.    1.   ]]\n"
     ]
    }
   ],
   "source": [
    "# determine the number of states\n",
    "T = max(data['state'].astype(int))+1 # add one, as python won't see the last value\n",
    "\n",
    "# crete an empty transition matrix\n",
    "P = np.zeros((T, T))\n",
    "\n",
    "# add probabilities of staying in the same state\n",
    "np.fill_diagonal(P, t1)\n",
    "\n",
    "# add probability of getting into the next state\n",
    "P = P + np.diag(np.ones(T - 1) * t2, 1)\n",
    "\n",
    "# and probability of getting 2 states ahead\n",
    "P = P + np.diag(np.ones(T - 2) * t3, 2)\n",
    "\n",
    "# adjust the last column to ensure row sums equal 1\n",
    "P[:, -1] += 1 - P.sum(1)\n",
    "\n",
    "# see the matrix\n",
    "P_rounded = np.round(P, 3)\n",
    "print(P_rounded)"
   ]
  },
  {
   "cell_type": "markdown",
   "id": "a424fda2-de34-41ec-86e4-214884401b89",
   "metadata": {},
   "source": [
    "#### Optimal value function"
   ]
  },
  {
   "cell_type": "markdown",
   "id": "8586aa53-6a26-4e77-ada2-c4bdca24cb64",
   "metadata": {},
   "source": [
    "Define special parameters"
   ]
  },
  {
   "cell_type": "code",
   "execution_count": 9,
   "id": "28c7109e-8181-4f72-98e3-b79f1081c8d6",
   "metadata": {},
   "outputs": [],
   "source": [
    "beta = 0.8 # recommendation from the article - for quicker convergence\n",
    "gamma = 0.5772156649 # Euler-Mascheroni constant\n",
    "\n",
    "# set grid for state x\n",
    "x_linspace = np.arange(T, dtype=np.float64)"
   ]
  },
  {
   "cell_type": "markdown",
   "id": "46f314c3-5e5b-46ff-9b65-b4a8cc5e737d",
   "metadata": {},
   "source": [
    "Define utility function"
   ]
  },
  {
   "cell_type": "code",
   "execution_count": 10,
   "id": "57f09985-d64c-46bb-b01c-1c63302d3f57",
   "metadata": {},
   "outputs": [],
   "source": [
    "# utility function\n",
    "def u(x, d, theta, RC):\n",
    "    if d == 0:\n",
    "        return -theta * x\n",
    "    if d == 1:\n",
    "        return -RC"
   ]
  },
  {
   "cell_type": "markdown",
   "id": "ef126291-0b74-449d-a8e3-ced6fcd383af",
   "metadata": {},
   "source": [
    "Set value function"
   ]
  },
  {
   "cell_type": "code",
   "execution_count": 11,
   "id": "d27307a6-5a94-4136-afab-0cf7b52d6d48",
   "metadata": {},
   "outputs": [],
   "source": [
    "# Value function \n",
    "def V_it(V, theta, RC):\n",
    "    EV = P @ V # expected value = transition matrix*value function\n",
    "    replace = u(0, 1, theta, RC) + beta * EV[0] # replace option = utility + discount factor\n",
    "    maintain = u(x_linspace, 0, theta, RC) + beta * EV # maintain option utility + discount factor\n",
    "    V_new = gamma + np.log(np.exp(maintain) + np.exp(replace)) # new value function Vt+1\n",
    "    # note: EV[0] - for replace option we apply only the discount for the next\n",
    "    # period, while for maintain - for the whole vector of future values\n",
    "    return V_new"
   ]
  },
  {
   "cell_type": "markdown",
   "id": "5a8a6749-3b7d-4e89-8a39-0270307919ba",
   "metadata": {},
   "source": [
    "#### Maximum likelihhod"
   ]
  },
  {
   "cell_type": "markdown",
   "id": "52c9c52f-af7e-4e2b-9c35-9e70727241c8",
   "metadata": {},
   "source": [
    "Utilize Fixed Point algorithm for the Bellman equation (note : $\\theta_1$, $RC$ are fixed)"
   ]
  },
  {
   "cell_type": "code",
   "execution_count": 12,
   "id": "971e68c2-7951-4e23-8e36-18a557485f21",
   "metadata": {},
   "outputs": [],
   "source": [
    "# Fixed point of BE search\n",
    "def solve_FP_Bellman(theta, RC):\n",
    "    tol=1e-8 # set tolerance of convergence stopping rule\n",
    "    maxiter=1000000 # maximum number of iterations\n",
    "    V = np.ones(T) # starting parameters - default guessed value fucntion\n",
    "    # start iterating\n",
    "    i = 0 # iteration counter\n",
    "    dist = 1000 # difference between consecutive value function estimates - technical\n",
    "    for i in range(maxiter): # add timer as well\n",
    "        V_new = V_it(V, theta, RC) # update value function\n",
    "        distance = np.linalg.norm(V - V_new) # distance Between Current and New Value Functions\n",
    "        if distance < tol: # if it is lower than tolerance - stop (convergence check)\n",
    "            return V_new\n",
    "        else: # if not - continue the cycle\n",
    "            i += 1 # add 1 to iteration counter\n",
    "            V = V_new.copy() # redefine V as the last computed V\n",
    "    return V"
   ]
  },
  {
   "cell_type": "markdown",
   "id": "d6a94820-0d34-419a-8886-ac2b69ebf614",
   "metadata": {},
   "source": [
    "With the optimal value function found - move to Maximum likelihood to find optimal $\\theta_1$, $RC$"
   ]
  },
  {
   "cell_type": "code",
   "execution_count": 13,
   "id": "eb486b20-8684-4a9b-895e-7daeb59891d3",
   "metadata": {},
   "outputs": [],
   "source": [
    "def log_likelihood(param, dataset):\n",
    "    theta, RC = param # unpack parameters\n",
    "    # Apply FP approach, find optimal value function (solve the Bellman equation)\n",
    "    V = solve_FP_Bellman(theta, RC)\n",
    "    # set log-likelihood cumulative variable\n",
    "    logL = 0\n",
    "    # compute log-likelihood\n",
    "    for i in range(dataset.shape[0]):\n",
    "        decision = dataset['decision'].values[i] # extract decision (maintain/replace)\n",
    "        state = int(dataset['state'].values[i]) # extract state (current mileage group)\n",
    "        # calculate discounted utility for both decisions\n",
    "        maintain_u = u(state, 0, theta, RC) + beta * V[state]\n",
    "        replace_u = u(0, 1, theta, RC) + beta * V[0]\n",
    "        # compute probabilities (via logistic distribution, of course)\n",
    "        p_maintain = 1 / (1 + np.exp(replace_u - maintain_u))\n",
    "        p_replace = 1 - p_maintain\n",
    "        # update the Log-Likelihood with the probability of chosen decision\n",
    "        if decision == 0:\n",
    "            logL += np.log(p_maintain)\n",
    "        if decision == 1:\n",
    "            logL += np.log(p_replace)\n",
    "    return -logL # return the negative Log-likelihood (because we have a minimizating solver by default"
   ]
  },
  {
   "cell_type": "markdown",
   "id": "d0cf0f44-651e-492e-af48-7d6059c62803",
   "metadata": {},
   "source": [
    "Finally, time to get the estimated values"
   ]
  },
  {
   "cell_type": "markdown",
   "id": "614d8f61-464f-491a-a923-2ab09dff48d1",
   "metadata": {},
   "source": [
    "#### Estimates"
   ]
  },
  {
   "cell_type": "code",
   "execution_count": 14,
   "id": "7e758a0b-eee8-4021-8893-a68c72400a05",
   "metadata": {},
   "outputs": [],
   "source": [
    "def estimates_bus(dataset):\n",
    "    x_start = [theta_1_static,RC_static] # choose staring parameters - use ones from the static model\n",
    "    return minimize(log_likelihood, x0=x_start, args=(dataset), bounds=((0, None), (0, None))).x\n",
    "    # minimize() - minimization solver\n",
    "    # log_likelihood - the objective function that minimize() will try to minimize\n",
    "    # [theta_1_static,RC_static] - starting point for the optimization\n",
    "    # args=(dataset) - extra parameters, used for the objective function\n",
    "    # bounds=((0, None), (0, None)) - the parameters are constrained to be non-negative\n",
    "    # ().x - extracts the optimized parameter values"
   ]
  },
  {
   "cell_type": "code",
   "execution_count": 15,
   "id": "e5d87338-2ad6-4cc0-8a48-b95acb0a9d89",
   "metadata": {},
   "outputs": [
    {
     "name": "stdout",
     "output_type": "stream",
     "text": [
      "Estimates: theta_1_dynamic = 0.017, RC_dynamic = 7.587\n"
     ]
    }
   ],
   "source": [
    "theta_dynamic, RC_dynamic = estimates_bus(data)\n",
    "print(f\"Estimates: theta_1_dynamic = {theta_dynamic:.3f}, RC_dynamic = {RC_dynamic:.3f}\")"
   ]
  },
  {
   "cell_type": "markdown",
   "id": "a329bf10-8f57-486c-836b-2f8ebe09c9d7",
   "metadata": {},
   "source": [
    "#### Bootstrap"
   ]
  },
  {
   "cell_type": "code",
   "execution_count": 16,
   "id": "b31bff7b-f41e-4841-b187-80e7d807080b",
   "metadata": {},
   "outputs": [
    {
     "name": "stderr",
     "output_type": "stream",
     "text": [
      "100%|██████████| 1000/1000 [1:06:20<00:00,  3.98s/it]"
     ]
    },
    {
     "name": "stdout",
     "output_type": "stream",
     "text": [
      "CPU times: total: 48min 17s\n",
      "Wall time: 1h 6min 20s\n"
     ]
    },
    {
     "name": "stderr",
     "output_type": "stream",
     "text": [
      "\n"
     ]
    }
   ],
   "source": [
    "%%time\n",
    "# create arrays to store bootstrap results\n",
    "theta_obs = np.zeros(1000)\n",
    "RC_obs = np.zeros(1000)\n",
    "\n",
    "for i in tqdm(range(1000)):\n",
    "    Bootstrap_sample = data.iloc[np.random.choice(data.shape[0], data.shape[0])]\n",
    "    # np.random.choice(data.shape[0], data.shape[0]) - generates a list of random indices,\n",
    "    # with replacement, of the same length as the original dataset\n",
    "    # data.iloc[] - extracts them to the new bootstrap sample\n",
    "    theta_b, RC_b = estimates_bus(Bootstrap_sample) # estimates theta_dynamic, RC_dynamic\n",
    "    # now store them\n",
    "    theta_obs[i] = theta_b\n",
    "    RC_obs[i] = RC_b"
   ]
  },
  {
   "cell_type": "markdown",
   "id": "8267913e-e154-478d-92f1-a6024757975a",
   "metadata": {},
   "source": [
    "#### SE estimation"
   ]
  },
  {
   "cell_type": "markdown",
   "id": "7185d59c-41ec-4d16-8a11-d4b56324b054",
   "metadata": {},
   "source": [
    "(based on Bootstraped empirical distribution)"
   ]
  },
  {
   "cell_type": "code",
   "execution_count": 17,
   "id": "76fc8906-9d5e-45de-a4d2-67d0cb0bc759",
   "metadata": {},
   "outputs": [
    {
     "name": "stdout",
     "output_type": "stream",
     "text": [
      "Estimates: theta_1_dynamic_std = 0.001, RC_dynamic_std = 0.311\n"
     ]
    }
   ],
   "source": [
    "theta_std = np.sqrt(np.square(np.array(theta_obs - theta_dynamic)).sum() / (len(theta_obs) - 1))\n",
    "RC_std = np.sqrt(np.square(np.array(RC_obs - RC_dynamic)).sum() / (len(RC_obs) - 1))\n",
    "print(f\"Estimates: theta_1_dynamic_std = {theta_std:.3f}, RC_dynamic_std = {RC_std:.3f}\")"
   ]
  },
  {
   "cell_type": "code",
   "execution_count": 18,
   "id": "d912f695-4d46-44ee-acae-105a1dd12bab",
   "metadata": {},
   "outputs": [
    {
     "name": "stdout",
     "output_type": "stream",
     "text": [
      "         Parameter  Estimate  Std Error\n",
      "0  theta_1_dynamic     0.017      0.001\n",
      "1       RC_dynamic     7.587      0.311\n"
     ]
    }
   ],
   "source": [
    "table_dynamic = {\n",
    "    'Parameter': ['theta_1_dynamic', 'RC_dynamic'],\n",
    "    'Estimate': [theta_dynamic, RC_dynamic],\n",
    "    'Std Error': [theta_std, RC_std]\n",
    "}\n",
    "\n",
    "dynamic_table = pd.DataFrame(table_dynamic)\n",
    "dynamic_table = dynamic_table.round(3)\n",
    "\n",
    "# Display the table\n",
    "print(dynamic_table)\n",
    "\n",
    "# Export LaTeX\n",
    "latex_code = dynamic_table.to_latex(index=False, caption=\"Dynamic Parameter Estimates and Bootstrapped Standard Errors\")\n",
    "\n",
    "# Save the LaTeX table to a .tex file\n",
    "with open(\"dynamic_table.tex\", \"w\") as f:\n",
    "    f.write(latex_code)"
   ]
  },
  {
   "cell_type": "markdown",
   "id": "f5e3e363-fad7-45bf-949f-7367686d0458",
   "metadata": {},
   "source": [
    "## Problem 2: "
   ]
  },
  {
   "cell_type": "markdown",
   "id": "94233a16-83b3-47fc-b655-31614fed0f12",
   "metadata": {},
   "source": [
    "### Task 1: Incomplete information"
   ]
  },
  {
   "cell_type": "code",
   "execution_count": 19,
   "id": "2b82078c-032a-45e8-b53c-b98df0de6ee0",
   "metadata": {},
   "outputs": [],
   "source": [
    "data2 = pd.read_stata(r\"C:\\Users\\Popov\\Documents\\Studies\\NES_studies\\Python\\EIO\\HA2\\drinking_in_family_RLMS_mod.dta\")"
   ]
  },
  {
   "cell_type": "code",
   "execution_count": 20,
   "id": "96bf8125-8b15-49b5-8e13-2c863f9cb0ee",
   "metadata": {},
   "outputs": [
    {
     "data": {
      "text/html": [
       "<div>\n",
       "<style scoped>\n",
       "    .dataframe tbody tr th:only-of-type {\n",
       "        vertical-align: middle;\n",
       "    }\n",
       "\n",
       "    .dataframe tbody tr th {\n",
       "        vertical-align: top;\n",
       "    }\n",
       "\n",
       "    .dataframe thead th {\n",
       "        text-align: right;\n",
       "    }\n",
       "</style>\n",
       "<table border=\"1\" class=\"dataframe\">\n",
       "  <thead>\n",
       "    <tr style=\"text-align: right;\">\n",
       "      <th></th>\n",
       "      <th>HH_ID</th>\n",
       "      <th>educ_husband</th>\n",
       "      <th>age1_husband</th>\n",
       "      <th>weight1_husband</th>\n",
       "      <th>height1_husband</th>\n",
       "      <th>drink1_husband</th>\n",
       "      <th>educ_wife</th>\n",
       "      <th>age2_wife</th>\n",
       "      <th>weight2_wife</th>\n",
       "      <th>height2_wife</th>\n",
       "      <th>drink2_wife</th>\n",
       "    </tr>\n",
       "  </thead>\n",
       "  <tbody>\n",
       "    <tr>\n",
       "      <th>0</th>\n",
       "      <td>1</td>\n",
       "      <td>16.0</td>\n",
       "      <td>23</td>\n",
       "      <td>76.0</td>\n",
       "      <td>185.0</td>\n",
       "      <td>1</td>\n",
       "      <td>18.0</td>\n",
       "      <td>21</td>\n",
       "      <td>45.0</td>\n",
       "      <td>164.0</td>\n",
       "      <td>1</td>\n",
       "    </tr>\n",
       "    <tr>\n",
       "      <th>1</th>\n",
       "      <td>2</td>\n",
       "      <td>16.0</td>\n",
       "      <td>43</td>\n",
       "      <td>85.0</td>\n",
       "      <td>174.0</td>\n",
       "      <td>1</td>\n",
       "      <td>18.0</td>\n",
       "      <td>48</td>\n",
       "      <td>53.0</td>\n",
       "      <td>162.0</td>\n",
       "      <td>1</td>\n",
       "    </tr>\n",
       "    <tr>\n",
       "      <th>2</th>\n",
       "      <td>3</td>\n",
       "      <td>21.0</td>\n",
       "      <td>29</td>\n",
       "      <td>80.0</td>\n",
       "      <td>187.0</td>\n",
       "      <td>1</td>\n",
       "      <td>16.0</td>\n",
       "      <td>24</td>\n",
       "      <td>56.0</td>\n",
       "      <td>158.0</td>\n",
       "      <td>1</td>\n",
       "    </tr>\n",
       "    <tr>\n",
       "      <th>3</th>\n",
       "      <td>4</td>\n",
       "      <td>14.0</td>\n",
       "      <td>37</td>\n",
       "      <td>57.0</td>\n",
       "      <td>167.0</td>\n",
       "      <td>1</td>\n",
       "      <td>9.0</td>\n",
       "      <td>40</td>\n",
       "      <td>60.0</td>\n",
       "      <td>166.0</td>\n",
       "      <td>1</td>\n",
       "    </tr>\n",
       "  </tbody>\n",
       "</table>\n",
       "</div>"
      ],
      "text/plain": [
       "   HH_ID  educ_husband age1_husband weight1_husband height1_husband  \\\n",
       "0      1          16.0           23            76.0           185.0   \n",
       "1      2          16.0           43            85.0           174.0   \n",
       "2      3          21.0           29            80.0           187.0   \n",
       "3      4          14.0           37            57.0           167.0   \n",
       "\n",
       "   drink1_husband  educ_wife age2_wife weight2_wife height2_wife  drink2_wife  \n",
       "0               1       18.0        21         45.0        164.0            1  \n",
       "1               1       18.0        48         53.0        162.0            1  \n",
       "2               1       16.0        24         56.0        158.0            1  \n",
       "3               1        9.0        40         60.0        166.0            1  "
      ]
     },
     "execution_count": 20,
     "metadata": {},
     "output_type": "execute_result"
    }
   ],
   "source": [
    "data2.head(4) # note that to open this dataset correctly couple of operation were conducted in stata"
   ]
  },
  {
   "cell_type": "markdown",
   "id": "e3f72634-c5aa-4f1a-b321-9972f66238f0",
   "metadata": {},
   "source": [
    "Let's create separate datasets for husband/wife"
   ]
  },
  {
   "cell_type": "code",
   "execution_count": 21,
   "id": "24a457e6-bf2d-410c-927d-180007720f4c",
   "metadata": {},
   "outputs": [],
   "source": [
    "# husband dataset\n",
    "males = data2.copy()\n",
    "males.rename(columns={'educ_husband':'educ_i','age1_husband':'age_i','weight1_husband':'weight_i',\n",
    "                         'height1_husband':'height_i','drink1_husband':'drink_i'}, inplace=True)\n",
    "# educ_i - education of a husband (i) in the husband dataset\n",
    "# educ_not_i - education of a wife (not_i) in the husband dataset \n",
    "males.rename(columns={'educ_wife':'educ_not_i','age2_wife':'age_not_i','weight2_wife':'weight_not_i',\n",
    "                         'height2_wife':'height_not_i','drink2_wife':'drink_not_i'}, inplace=True)\n",
    "males['spouse'] = 'husband'\n",
    "\n",
    "# wife dataset\n",
    "females = data2.copy()\n",
    "females.rename(columns={'educ_wife':'educ_i','age2_wife':'age_i','weight2_wife':'weight_i',\n",
    "                      'height2_wife':'height_i','drink2_wife':'drink_i'}, inplace=True)\n",
    "# educ_h_i - education of a wife (i) in the wife dataset\n",
    "# educ_w_not_i - education of a husband (not_i) in the wife dataset \n",
    "\n",
    "females.rename(columns={'educ_husband':'educ_not_i','age1_husband':'age_not_i','weight1_husband':'weight_not_i',\n",
    "                      'height1_husband':'height_not_i','drink1_husband':'drink_not_i'}, inplace=True)\n",
    "females['spouse'] = 'wife'"
   ]
  },
  {
   "cell_type": "code",
   "execution_count": 22,
   "id": "62e3386a-8846-4874-9eff-3fe4a03cf2de",
   "metadata": {},
   "outputs": [],
   "source": [
    "data_RLMS = pd.concat([males, females], ignore_index=True,axis=0) # axis=0 - rows are stacked on top pof each other\n",
    "data_RLMS = data_RLMS.iloc[:, [11] + list(range(0, 11))]"
   ]
  },
  {
   "cell_type": "code",
   "execution_count": 23,
   "id": "760a6aed-afab-4688-a11a-a9f6a29f1f14",
   "metadata": {
    "scrolled": true
   },
   "outputs": [
    {
     "data": {
      "text/html": [
       "<div>\n",
       "<style scoped>\n",
       "    .dataframe tbody tr th:only-of-type {\n",
       "        vertical-align: middle;\n",
       "    }\n",
       "\n",
       "    .dataframe tbody tr th {\n",
       "        vertical-align: top;\n",
       "    }\n",
       "\n",
       "    .dataframe thead th {\n",
       "        text-align: right;\n",
       "    }\n",
       "</style>\n",
       "<table border=\"1\" class=\"dataframe\">\n",
       "  <thead>\n",
       "    <tr style=\"text-align: right;\">\n",
       "      <th></th>\n",
       "      <th>spouse</th>\n",
       "      <th>HH_ID</th>\n",
       "      <th>educ_i</th>\n",
       "      <th>age_i</th>\n",
       "      <th>weight_i</th>\n",
       "      <th>height_i</th>\n",
       "      <th>drink_i</th>\n",
       "      <th>educ_not_i</th>\n",
       "      <th>age_not_i</th>\n",
       "      <th>weight_not_i</th>\n",
       "      <th>height_not_i</th>\n",
       "      <th>drink_not_i</th>\n",
       "    </tr>\n",
       "  </thead>\n",
       "  <tbody>\n",
       "    <tr>\n",
       "      <th>27175</th>\n",
       "      <td>wife</td>\n",
       "      <td>24005</td>\n",
       "      <td>19.0</td>\n",
       "      <td>22</td>\n",
       "      <td>70.0</td>\n",
       "      <td>162.0</td>\n",
       "      <td>1</td>\n",
       "      <td>14.0</td>\n",
       "      <td>24</td>\n",
       "      <td>75.0</td>\n",
       "      <td>178.0</td>\n",
       "      <td>1</td>\n",
       "    </tr>\n",
       "    <tr>\n",
       "      <th>8348</th>\n",
       "      <td>husband</td>\n",
       "      <td>14725</td>\n",
       "      <td>8.0</td>\n",
       "      <td>36</td>\n",
       "      <td>80.0</td>\n",
       "      <td>175.0</td>\n",
       "      <td>0</td>\n",
       "      <td>17.0</td>\n",
       "      <td>38</td>\n",
       "      <td>85.0</td>\n",
       "      <td>160.0</td>\n",
       "      <td>0</td>\n",
       "    </tr>\n",
       "    <tr>\n",
       "      <th>22175</th>\n",
       "      <td>wife</td>\n",
       "      <td>14489</td>\n",
       "      <td>16.0</td>\n",
       "      <td>33</td>\n",
       "      <td>48.0</td>\n",
       "      <td>158.0</td>\n",
       "      <td>1</td>\n",
       "      <td>8.0</td>\n",
       "      <td>34</td>\n",
       "      <td>60.0</td>\n",
       "      <td>167.0</td>\n",
       "      <td>1</td>\n",
       "    </tr>\n",
       "    <tr>\n",
       "      <th>22522</th>\n",
       "      <td>wife</td>\n",
       "      <td>15102</td>\n",
       "      <td>18.0</td>\n",
       "      <td>34</td>\n",
       "      <td>95.0</td>\n",
       "      <td>167.0</td>\n",
       "      <td>1</td>\n",
       "      <td>8.0</td>\n",
       "      <td>37</td>\n",
       "      <td>80.0</td>\n",
       "      <td>176.0</td>\n",
       "      <td>1</td>\n",
       "    </tr>\n",
       "  </tbody>\n",
       "</table>\n",
       "</div>"
      ],
      "text/plain": [
       "        spouse  HH_ID  educ_i age_i  weight_i  height_i  drink_i  educ_not_i  \\\n",
       "27175     wife  24005    19.0    22      70.0     162.0        1        14.0   \n",
       "8348   husband  14725     8.0    36      80.0     175.0        0        17.0   \n",
       "22175     wife  14489    16.0    33      48.0     158.0        1         8.0   \n",
       "22522     wife  15102    18.0    34      95.0     167.0        1         8.0   \n",
       "\n",
       "      age_not_i  weight_not_i  height_not_i  drink_not_i  \n",
       "27175        24          75.0         178.0            1  \n",
       "8348         38          85.0         160.0            0  \n",
       "22175        34          60.0         167.0            1  \n",
       "22522        37          80.0         176.0            1  "
      ]
     },
     "execution_count": 23,
     "metadata": {},
     "output_type": "execute_result"
    }
   ],
   "source": [
    "data_RLMS.sample(4)"
   ]
  },
  {
   "cell_type": "markdown",
   "id": "7a44a620-0983-4a4a-a797-392e315e3b4e",
   "metadata": {},
   "source": [
    "#### First stage: beliefs"
   ]
  },
  {
   "cell_type": "code",
   "execution_count": 24,
   "id": "26638aac-7a34-4d8c-9223-8e9dbc0c5c0c",
   "metadata": {},
   "outputs": [
    {
     "name": "stdout",
     "output_type": "stream",
     "text": [
      "Optimization terminated successfully.\n",
      "         Current function value: 0.516084\n",
      "         Iterations 6\n",
      "                           Logit Regression Results                           \n",
      "==============================================================================\n",
      "Dep. Variable:                drink_i   No. Observations:                27890\n",
      "Model:                          Logit   Df Residuals:                    27881\n",
      "Method:                           MLE   Df Model:                            8\n",
      "Date:                Fri, 18 Oct 2024   Pseudo R-squ.:                 0.02416\n",
      "Time:                        13:06:57   Log-Likelihood:                -14394.\n",
      "converged:                       True   LL-Null:                       -14750.\n",
      "Covariance Type:                  hc2   LLR p-value:                1.295e-148\n",
      "================================================================================\n",
      "                   coef    std err          z      P>|z|      [0.025      0.975]\n",
      "--------------------------------------------------------------------------------\n",
      "const            5.0037      0.529      9.459      0.000       3.967       6.040\n",
      "educ_i          -0.0237      0.005     -4.732      0.000      -0.034      -0.014\n",
      "age_i            0.0329      0.003     13.118      0.000       0.028       0.038\n",
      "weight_i         0.0015      0.001      1.259      0.208      -0.001       0.004\n",
      "height_i         0.0007      0.002      0.329      0.742      -0.003       0.005\n",
      "educ_not_i       0.0044      0.005      0.912      0.362      -0.005       0.014\n",
      "age_not_i       -0.0059      0.002     -2.357      0.018      -0.011      -0.001\n",
      "weight_not_i    -0.0049      0.001     -4.279      0.000      -0.007      -0.003\n",
      "height_not_i    -0.0245      0.002    -12.012      0.000      -0.028      -0.020\n",
      "================================================================================\n"
     ]
    }
   ],
   "source": [
    "Y = data_RLMS['drink_i']\n",
    "X = data_RLMS.drop(['spouse', 'HH_ID', 'drink_i', 'drink_not_i'],axis=1) # remove unrelevant variables\n",
    "X = sm.add_constant(X)\n",
    "\n",
    "# run our beloved logit\n",
    "logit = Logit(Y, X).fit(cov_type=\"hc2\")\n",
    "print(logit.summary())"
   ]
  },
  {
   "cell_type": "code",
   "execution_count": 25,
   "id": "a2b6d331-0689-4dbe-bfa5-53a9c2337edb",
   "metadata": {},
   "outputs": [],
   "source": [
    "import statsmodels.api as sm\n",
    "\n",
    "logit_results = logit.summary2()  # Use summary2 for a more compact table\n",
    "\n",
    "# Extract the table with the regression results\n",
    "regression_table = logit_results.tables[1]\n",
    "\n",
    "# Convert to LaTeX format with 3 decimal\n",
    "latex_output = regression_table.to_latex(float_format=\"%.3f\")\n",
    "\n",
    "# Save\n",
    "with open(\"2_1_a.tex\", \"w\") as f:\n",
    "    f.write(latex_output)"
   ]
  },
  {
   "cell_type": "markdown",
   "id": "99dca327-ce8e-4431-be7c-dde567a31def",
   "metadata": {},
   "source": [
    "Now we can get estimates of drink_i and drink_not_i - predicted by our logit regression"
   ]
  },
  {
   "cell_type": "code",
   "execution_count": 26,
   "id": "9fac69dc-8d9d-4268-a3fd-6d7380ab09f6",
   "metadata": {},
   "outputs": [],
   "source": [
    "# idea - to assign drink_pred for wife to husband observation (and vice versa) - these will be beliefs of a husband (wife)\n",
    "data_RLMS['drink_pred'] = logit.predict(X) # prediction for the whole dataset\n",
    "drink_pred_wifes = np.array(data_RLMS.loc[data_RLMS['spouse']=='wife','drink_pred']) # for wifes\n",
    "drink_pred_husbands = np.array(data_RLMS.loc[data_RLMS['spouse']=='husband','drink_pred']) # for husbands\n",
    "data_RLMS['belief']=np.concatenate([drink_pred_wifes,drink_pred_husbands]) # now unite - note that the dataset itself has husband obs. first\n",
    "data_RLMS = data_RLMS.drop(['drink_pred'],axis = 1) # drop the initial column"
   ]
  },
  {
   "cell_type": "code",
   "execution_count": 27,
   "id": "d7786001-907a-4873-90b8-46a2ae82b971",
   "metadata": {},
   "outputs": [
    {
     "data": {
      "text/html": [
       "<div>\n",
       "<style scoped>\n",
       "    .dataframe tbody tr th:only-of-type {\n",
       "        vertical-align: middle;\n",
       "    }\n",
       "\n",
       "    .dataframe tbody tr th {\n",
       "        vertical-align: top;\n",
       "    }\n",
       "\n",
       "    .dataframe thead th {\n",
       "        text-align: right;\n",
       "    }\n",
       "</style>\n",
       "<table border=\"1\" class=\"dataframe\">\n",
       "  <thead>\n",
       "    <tr style=\"text-align: right;\">\n",
       "      <th></th>\n",
       "      <th>spouse</th>\n",
       "      <th>HH_ID</th>\n",
       "      <th>educ_i</th>\n",
       "      <th>age_i</th>\n",
       "      <th>weight_i</th>\n",
       "      <th>height_i</th>\n",
       "      <th>drink_i</th>\n",
       "      <th>educ_not_i</th>\n",
       "      <th>age_not_i</th>\n",
       "      <th>weight_not_i</th>\n",
       "      <th>height_not_i</th>\n",
       "      <th>drink_not_i</th>\n",
       "      <th>belief</th>\n",
       "    </tr>\n",
       "  </thead>\n",
       "  <tbody>\n",
       "    <tr>\n",
       "      <th>4597</th>\n",
       "      <td>husband</td>\n",
       "      <td>8008</td>\n",
       "      <td>16.0</td>\n",
       "      <td>41</td>\n",
       "      <td>48.0</td>\n",
       "      <td>172.0</td>\n",
       "      <td>1</td>\n",
       "      <td>16.0</td>\n",
       "      <td>41</td>\n",
       "      <td>120.0</td>\n",
       "      <td>165.0</td>\n",
       "      <td>1</td>\n",
       "      <td>0.838733</td>\n",
       "    </tr>\n",
       "    <tr>\n",
       "      <th>24769</th>\n",
       "      <td>wife</td>\n",
       "      <td>19214</td>\n",
       "      <td>18.0</td>\n",
       "      <td>33</td>\n",
       "      <td>70.0</td>\n",
       "      <td>154.0</td>\n",
       "      <td>0</td>\n",
       "      <td>16.0</td>\n",
       "      <td>36</td>\n",
       "      <td>82.0</td>\n",
       "      <td>167.0</td>\n",
       "      <td>0</td>\n",
       "      <td>0.860388</td>\n",
       "    </tr>\n",
       "    <tr>\n",
       "      <th>26428</th>\n",
       "      <td>wife</td>\n",
       "      <td>22519</td>\n",
       "      <td>18.0</td>\n",
       "      <td>20</td>\n",
       "      <td>87.0</td>\n",
       "      <td>180.0</td>\n",
       "      <td>0</td>\n",
       "      <td>16.0</td>\n",
       "      <td>23</td>\n",
       "      <td>64.0</td>\n",
       "      <td>163.0</td>\n",
       "      <td>0</td>\n",
       "      <td>0.672296</td>\n",
       "    </tr>\n",
       "    <tr>\n",
       "      <th>3383</th>\n",
       "      <td>husband</td>\n",
       "      <td>5939</td>\n",
       "      <td>21.0</td>\n",
       "      <td>46</td>\n",
       "      <td>88.0</td>\n",
       "      <td>176.0</td>\n",
       "      <td>1</td>\n",
       "      <td>21.0</td>\n",
       "      <td>46</td>\n",
       "      <td>76.0</td>\n",
       "      <td>160.0</td>\n",
       "      <td>0</td>\n",
       "      <td>0.790152</td>\n",
       "    </tr>\n",
       "    <tr>\n",
       "      <th>25131</th>\n",
       "      <td>wife</td>\n",
       "      <td>19887</td>\n",
       "      <td>23.0</td>\n",
       "      <td>35</td>\n",
       "      <td>52.0</td>\n",
       "      <td>160.0</td>\n",
       "      <td>1</td>\n",
       "      <td>21.0</td>\n",
       "      <td>42</td>\n",
       "      <td>85.0</td>\n",
       "      <td>179.0</td>\n",
       "      <td>1</td>\n",
       "      <td>0.865391</td>\n",
       "    </tr>\n",
       "    <tr>\n",
       "      <th>10101</th>\n",
       "      <td>husband</td>\n",
       "      <td>17954</td>\n",
       "      <td>16.0</td>\n",
       "      <td>38</td>\n",
       "      <td>74.0</td>\n",
       "      <td>166.0</td>\n",
       "      <td>1</td>\n",
       "      <td>18.0</td>\n",
       "      <td>36</td>\n",
       "      <td>83.0</td>\n",
       "      <td>160.0</td>\n",
       "      <td>1</td>\n",
       "      <td>0.804775</td>\n",
       "    </tr>\n",
       "  </tbody>\n",
       "</table>\n",
       "</div>"
      ],
      "text/plain": [
       "        spouse  HH_ID  educ_i age_i  weight_i  height_i  drink_i  educ_not_i  \\\n",
       "4597   husband   8008    16.0    41      48.0     172.0        1        16.0   \n",
       "24769     wife  19214    18.0    33      70.0     154.0        0        16.0   \n",
       "26428     wife  22519    18.0    20      87.0     180.0        0        16.0   \n",
       "3383   husband   5939    21.0    46      88.0     176.0        1        21.0   \n",
       "25131     wife  19887    23.0    35      52.0     160.0        1        21.0   \n",
       "10101  husband  17954    16.0    38      74.0     166.0        1        18.0   \n",
       "\n",
       "      age_not_i  weight_not_i  height_not_i  drink_not_i    belief  \n",
       "4597         41         120.0         165.0            1  0.838733  \n",
       "24769        36          82.0         167.0            0  0.860388  \n",
       "26428        23          64.0         163.0            0  0.672296  \n",
       "3383         46          76.0         160.0            0  0.790152  \n",
       "25131        42          85.0         179.0            1  0.865391  \n",
       "10101        36          83.0         160.0            1  0.804775  "
      ]
     },
     "execution_count": 27,
     "metadata": {},
     "output_type": "execute_result"
    }
   ],
   "source": [
    "data_RLMS.sample(6)"
   ]
  },
  {
   "cell_type": "markdown",
   "id": "20dbb5df-e740-4b47-b8cf-5a1b88298a4e",
   "metadata": {},
   "source": [
    "#### Second stage: utility optimization\n",
    "\n",
    "Using the estimated $\\widehat{I\\{\\text{drink}_{-i}\\}}$ for each spouse, run the second stage logit."
   ]
  },
  {
   "cell_type": "code",
   "execution_count": 28,
   "id": "eb6e776e-49fa-45f5-a525-0944f6cb7d78",
   "metadata": {},
   "outputs": [
    {
     "name": "stdout",
     "output_type": "stream",
     "text": [
      "Optimization terminated successfully.\n",
      "         Current function value: 0.520962\n",
      "         Iterations 6\n",
      "                           Logit Regression Results                           \n",
      "==============================================================================\n",
      "Dep. Variable:                drink_i   No. Observations:                27890\n",
      "Model:                          Logit   Df Residuals:                    27884\n",
      "Method:                           MLE   Df Model:                            5\n",
      "Date:                Fri, 18 Oct 2024   Pseudo R-squ.:                 0.01494\n",
      "Time:                        13:06:58   Log-Likelihood:                -14530.\n",
      "converged:                       True   LL-Null:                       -14750.\n",
      "Covariance Type:                  hc2   LLR p-value:                 5.195e-93\n",
      "==============================================================================\n",
      "                 coef    std err          z      P>|z|      [0.025      0.975]\n",
      "------------------------------------------------------------------------------\n",
      "const          1.4473      0.720      2.010      0.044       0.036       2.859\n",
      "educ_i        -0.0371      0.005     -7.999      0.000      -0.046      -0.028\n",
      "age_i          0.0353      0.002     16.064      0.000       0.031       0.040\n",
      "weight_i       0.0006      0.001      0.465      0.642      -0.002       0.003\n",
      "height_i       0.0036      0.003      1.295      0.195      -0.002       0.009\n",
      "belief        -1.7771      0.405     -4.383      0.000      -2.572      -0.982\n",
      "==============================================================================\n"
     ]
    }
   ],
   "source": [
    "Y2 = data_RLMS['drink_i']\n",
    "X2= data_RLMS[['educ_i', 'age_i', 'weight_i', 'height_i', 'belief']]\n",
    "X2 = sm.add_constant(X2)\n",
    "\n",
    "logit2 = Logit(Y2, X2).fit(cov_type=\"hc2\")\n",
    "print(logit2.summary())"
   ]
  },
  {
   "cell_type": "code",
   "execution_count": 29,
   "id": "e92e08fe-a99a-46df-96da-401da95ace13",
   "metadata": {},
   "outputs": [],
   "source": [
    "import statsmodels.api as sm\n",
    "\n",
    "logit_results_2 = logit2.summary2()  # Use summary2 for a more compact table\n",
    "\n",
    "# Extract the table with the regression results\n",
    "regression_table_2 = logit_results_2.tables[1]\n",
    "\n",
    "# Convert to LaTeX format with 3 decimal\n",
    "latex_output_2 = regression_table_2.to_latex(float_format=\"%.3f\")\n",
    "\n",
    "# Save\n",
    "with open(\"2_1_b.tex\", \"w\") as f:\n",
    "    f.write(latex_output_2)"
   ]
  },
  {
   "cell_type": "markdown",
   "id": "ab4c64b9-7f86-40b4-8444-4077d1fc552d",
   "metadata": {},
   "source": [
    "### Task 2: Complete information"
   ]
  },
  {
   "cell_type": "markdown",
   "id": "71a3fdcd-c38a-46a8-95f2-cdc7900c0174",
   "metadata": {},
   "source": [
    "Define logit choice probability function (Lamdba) "
   ]
  },
  {
   "cell_type": "code",
   "execution_count": 30,
   "id": "e901878e-25ad-48ea-9fbd-5e0f1a71296a",
   "metadata": {},
   "outputs": [],
   "source": [
    "def logit_choic_pr(x):\n",
    "    return np.exp(x)/(1+np.exp(x))"
   ]
  },
  {
   "cell_type": "code",
   "execution_count": 31,
   "id": "576112ae-d31c-4438-bfb4-11537472ce8b",
   "metadata": {},
   "outputs": [
    {
     "data": {
      "text/plain": [
       "Index(['HH_ID', 'educ_husband', 'age1_husband', 'weight1_husband',\n",
       "       'height1_husband', 'drink1_husband', 'educ_wife', 'age2_wife',\n",
       "       'weight2_wife', 'height2_wife', 'drink2_wife'],\n",
       "      dtype='object')"
      ]
     },
     "execution_count": 31,
     "metadata": {},
     "output_type": "execute_result"
    }
   ],
   "source": [
    "data2.columns"
   ]
  },
  {
   "cell_type": "markdown",
   "id": "29baddca-dfbd-4b87-9d5a-8dbb9a04f208",
   "metadata": {},
   "source": [
    "#### Negative peer effects case"
   ]
  },
  {
   "cell_type": "code",
   "execution_count": 32,
   "id": "2ddc6087-316c-4771-ac73-b700117d36b7",
   "metadata": {},
   "outputs": [],
   "source": [
    "def MaxL_negative(param):\n",
    "    gamma_1, gamma_2, beta_1, beta_2 ,beta_3, beta_4, beta_5, beta_6, beta_7, beta_8 = param\n",
    "    logL = 0 # as before - camulative log-likelihood\n",
    "    for i in range(data2.shape[0]): # working with the initial dataset\n",
    "        # define outcome variables\n",
    "        d_1 = data2['drink1_husband'][i]\n",
    "        d_2 = data2['drink2_wife'][i]\n",
    "        \n",
    "        # define covariates\n",
    "        # age\n",
    "        X_1a = data2['age1_husband'][i]\n",
    "        X_2a = data2['age2_wife'][i]\n",
    "        #educ\n",
    "        X_1e = data2['educ_husband'][i]\n",
    "        X_2e = data2['educ_wife'][i]\n",
    "        # weight\n",
    "        X_1w = data2['weight1_husband'][i]\n",
    "        X_2w = data2['weight2_wife'][i]\n",
    "        # height\n",
    "        X_1h = data2['height1_husband'][i]\n",
    "        X_2h = data2['height2_wife'][i]\n",
    "\n",
    "        # define probabilities\n",
    "        P_00 = logit_choic_pr(-beta_1 * X_1a - beta_3*X_1e - beta_5*X_1w - beta_7*X_1h) * \\\n",
    "        logit_choic_pr(-beta_2 * X_2a - beta_4*X_2e - beta_6*X_2w - beta_8*X_2h)\n",
    "        \n",
    "        P_11 = (1-logit_choic_pr(-beta_1 * X_1a - beta_3*X_1e - beta_5*X_1w - beta_7*X_1h -gamma_1)) * \\\n",
    "        (1-logit_choic_pr(-beta_2 * X_2a - beta_4*X_2e - beta_6*X_2w - beta_8*X_2h-gamma_2))\n",
    "\n",
    "        # basically simplifies the likelihood function to three cases (note that they do not intersect)\n",
    "        if (d_1 == 0) & (d_2 == 0):\n",
    "            logL += np.log(P_00)\n",
    "        elif (d_1 == 1) & (d_2 == 1):\n",
    "            logL += np.log(P_11)\n",
    "        else: \n",
    "            logL += np.log(1-P_00-P_11)\n",
    "    return -logL"
   ]
  },
  {
   "cell_type": "code",
   "execution_count": 33,
   "id": "ea669ebf-7d77-46ad-b31b-8e890b990b9e",
   "metadata": {},
   "outputs": [
    {
     "name": "stdout",
     "output_type": "stream",
     "text": [
      "Current optimizer iteration: 49;   CPU times: total: 15min 35s\n",
      "Wall time: 22min 28s\n"
     ]
    }
   ],
   "source": [
    "%%time\n",
    "# Create a global variable to track the number of optimizer iterations\n",
    "iteration_count = 0\n",
    "\n",
    "# Callback function to update the current optimizer iteration number on the same line\n",
    "def optimizer_callback(x):\n",
    "    global iteration_count\n",
    "    iteration_count += 1\n",
    "    sys.stdout.write(f\"\\rCurrent optimizer iteration: {iteration_count};   \")\n",
    "    sys.stdout.flush()\n",
    "\n",
    "# Run the optimization and show the current iteration number on the same line\n",
    "est_neg = minimize(MaxL_negative, \n",
    "               x0=[0.1 , -0.1, 0.08, 0.08, -0.05, -0.05, 0.06, 0.06, -0.03, -0.02], \n",
    "               callback=optimizer_callback).x"
   ]
  },
  {
   "cell_type": "markdown",
   "id": "54bbc1a8-4dee-4093-87b7-e19b4a45460e",
   "metadata": {},
   "source": [
    "Start preparing the latex table"
   ]
  },
  {
   "cell_type": "code",
   "execution_count": 34,
   "id": "1a06536b-f4dd-4eb0-9c8d-b09cc3317b71",
   "metadata": {},
   "outputs": [
    {
     "data": {
      "text/html": [
       "<div>\n",
       "<style scoped>\n",
       "    .dataframe tbody tr th:only-of-type {\n",
       "        vertical-align: middle;\n",
       "    }\n",
       "\n",
       "    .dataframe tbody tr th {\n",
       "        vertical-align: top;\n",
       "    }\n",
       "\n",
       "    .dataframe thead th {\n",
       "        text-align: right;\n",
       "    }\n",
       "</style>\n",
       "<table border=\"1\" class=\"dataframe\">\n",
       "  <thead>\n",
       "    <tr style=\"text-align: right;\">\n",
       "      <th></th>\n",
       "      <th>Assumed effect sign</th>\n",
       "      <th>drink1_husband</th>\n",
       "      <th>drink2_wife</th>\n",
       "      <th>educ_husband</th>\n",
       "      <th>age1_husband</th>\n",
       "      <th>weight1_husband</th>\n",
       "      <th>height1_husband</th>\n",
       "      <th>educ_wife</th>\n",
       "      <th>age2_wife</th>\n",
       "      <th>weight2_wife</th>\n",
       "      <th>height2_wife</th>\n",
       "    </tr>\n",
       "  </thead>\n",
       "  <tbody>\n",
       "    <tr>\n",
       "      <th>0</th>\n",
       "      <td>Negative</td>\n",
       "      <td>0.454783</td>\n",
       "      <td>2.436609</td>\n",
       "      <td>0.0248</td>\n",
       "      <td>0.031702</td>\n",
       "      <td>-0.00139</td>\n",
       "      <td>0.014324</td>\n",
       "      <td>-0.014541</td>\n",
       "      <td>0.005091</td>\n",
       "      <td>0.004868</td>\n",
       "      <td>-0.006652</td>\n",
       "    </tr>\n",
       "  </tbody>\n",
       "</table>\n",
       "</div>"
      ],
      "text/plain": [
       "  Assumed effect sign  drink1_husband  drink2_wife  educ_husband  \\\n",
       "0            Negative        0.454783     2.436609        0.0248   \n",
       "\n",
       "   age1_husband  weight1_husband  height1_husband  educ_wife  age2_wife  \\\n",
       "0      0.031702         -0.00139         0.014324  -0.014541   0.005091   \n",
       "\n",
       "   weight2_wife  height2_wife  \n",
       "0      0.004868     -0.006652  "
      ]
     },
     "execution_count": 34,
     "metadata": {},
     "output_type": "execute_result"
    }
   ],
   "source": [
    "# list of columns to remove\n",
    "remove_col = [\"HH_ID\", \"drink1_husband\", \"drink2_wife\"]\n",
    "extra_col = [\"Assumed effect sign\"]\n",
    "table_columns = extra_col +\\\n",
    "[\"drink1_husband\", \"drink2_wife\"] + [col for col in data2.columns if col not in remove_col]\n",
    "\n",
    "neg_peer_effects_table = pd.DataFrame([[\"Negative\"] + est_neg.tolist()],\\\n",
    "                                      columns=table_columns)\n",
    "neg_peer_effects_table"
   ]
  },
  {
   "cell_type": "markdown",
   "id": "31b26b90-4eaf-4586-9d97-0dffcab855da",
   "metadata": {},
   "source": [
    "#### Positive peer effects case\n",
    "\n",
    "Basically the same code, just another probalities"
   ]
  },
  {
   "cell_type": "code",
   "execution_count": 35,
   "id": "b8f4f58a-4ed0-4ff2-a559-4d05dd9bf9bd",
   "metadata": {},
   "outputs": [],
   "source": [
    "def MaxL_positive(param):\n",
    "    gamma_1, gamma_2, beta_1, beta_2 ,beta_3, beta_4, beta_5, beta_6, beta_7, beta_8 = param\n",
    "    logL = 0 # as before - camulative log-likelihood\n",
    "    for i in range(data2.shape[0]): # working with the initial dataset\n",
    "        # define outcome variables\n",
    "        d_1 = data2['drink1_husband'][i]\n",
    "        d_2 = data2['drink2_wife'][i]\n",
    "        \n",
    "        # define covariates\n",
    "        # age\n",
    "        X_1a = data2['age1_husband'][i]\n",
    "        X_2a = data2['age2_wife'][i]\n",
    "        #educ\n",
    "        X_1e = data2['educ_husband'][i]\n",
    "        X_2e = data2['educ_wife'][i]\n",
    "        # weight\n",
    "        X_1w = data2['weight1_husband'][i]\n",
    "        X_2w = data2['weight2_wife'][i]\n",
    "        # height\n",
    "        X_1h = data2['height1_husband'][i]\n",
    "        X_2h = data2['height2_wife'][i]\n",
    "\n",
    "        # define probabilities     \n",
    "        P_01 = logit_choic_pr(-beta_1 * X_1a - beta_3*X_1e - beta_5*X_1w - beta_7*X_1h-gamma_1) *\\\n",
    "        (1-logit_choic_pr(-beta_2 * X_2a - beta_4*X_2e - beta_6*X_2w - beta_8*X_2h))\n",
    "        \n",
    "        P_10 = (1-logit_choic_pr(-beta_1 * X_1a - beta_3*X_1e - beta_5*X_1w - beta_7*X_1h)) *\\\n",
    "        logit_choic_pr(-beta_2 * X_2a - beta_4*X_2e - beta_6*X_2w - beta_8*X_2h-gamma_2)\n",
    "        \n",
    "        if (d_1 == 0) & (d_2 == 1):\n",
    "            logL += np.log(P_01)\n",
    "        elif (d_1 == 1) & (d_2 == 0):\n",
    "            logL += np.log(P_10)\n",
    "        else: \n",
    "            logL += np.log(1-P_01-P_10)\n",
    "    return -logL"
   ]
  },
  {
   "cell_type": "code",
   "execution_count": 36,
   "id": "093c7310-0783-472c-8f07-1092749a1629",
   "metadata": {},
   "outputs": [
    {
     "name": "stdout",
     "output_type": "stream",
     "text": [
      "Current optimizer iteration: 50;   CPU times: total: 19min 39s\n",
      "Wall time: 28min 9s\n"
     ]
    }
   ],
   "source": [
    "%%time\n",
    "# Create a global variable to track the number of optimizer iterations\n",
    "iteration_count = 0\n",
    "\n",
    "# Callback function to update the current optimizer iteration number on the same line\n",
    "def optimizer_callback(x):\n",
    "    global iteration_count\n",
    "    iteration_count += 1\n",
    "    sys.stdout.write(f\"\\rCurrent optimizer iteration: {iteration_count};   \")\n",
    "    sys.stdout.flush()\n",
    "\n",
    "# Run the optimization and show the current iteration number on the same line\n",
    "est_pos = minimize(MaxL_positive, \n",
    "               x0=[-0.1 , 0.1, 0.08, 0.08, -0.05, -0.05, 0.06, 0.06, -0.03, -0.02], \n",
    "               callback=optimizer_callback).x"
   ]
  },
  {
   "cell_type": "markdown",
   "id": "93d74fb8-83a0-44a4-8c33-1ee872b04427",
   "metadata": {},
   "source": [
    "Get the final latex table"
   ]
  },
  {
   "cell_type": "code",
   "execution_count": 37,
   "id": "9c40e24d-d00a-429a-9092-5feb74c04544",
   "metadata": {},
   "outputs": [],
   "source": [
    "pos_peer_effects_table = pd.DataFrame([[\"Positive\"] + est_pos.tolist()],\\\n",
    "                                      columns=table_columns)\n",
    "\n",
    "peer_table_final= pd.concat([neg_peer_effects_table, pos_peer_effects_table], ignore_index=True)\n",
    "\n",
    "# Convert to LaTeX format with 3 decimal places using float_format\n",
    "latex_output_3 = peer_table_final.to_latex(float_format=\"%.3f\", index=False)\n",
    "\n",
    "# Save to a .tex file\n",
    "with open(\"2_2_1.tex\", \"w\") as f:\n",
    "    f.write(latex_output_3)\n"
   ]
  },
  {
   "cell_type": "code",
   "execution_count": 38,
   "id": "61af2897-4363-4eec-800d-a3095d1aef6a",
   "metadata": {},
   "outputs": [
    {
     "data": {
      "text/html": [
       "<div>\n",
       "<style scoped>\n",
       "    .dataframe tbody tr th:only-of-type {\n",
       "        vertical-align: middle;\n",
       "    }\n",
       "\n",
       "    .dataframe tbody tr th {\n",
       "        vertical-align: top;\n",
       "    }\n",
       "\n",
       "    .dataframe thead th {\n",
       "        text-align: right;\n",
       "    }\n",
       "</style>\n",
       "<table border=\"1\" class=\"dataframe\">\n",
       "  <thead>\n",
       "    <tr style=\"text-align: right;\">\n",
       "      <th></th>\n",
       "      <th>Assumed effect sign</th>\n",
       "      <th>drink1_husband</th>\n",
       "      <th>drink2_wife</th>\n",
       "      <th>educ_husband</th>\n",
       "      <th>age1_husband</th>\n",
       "      <th>weight1_husband</th>\n",
       "      <th>height1_husband</th>\n",
       "      <th>educ_wife</th>\n",
       "      <th>age2_wife</th>\n",
       "      <th>weight2_wife</th>\n",
       "      <th>height2_wife</th>\n",
       "    </tr>\n",
       "  </thead>\n",
       "  <tbody>\n",
       "    <tr>\n",
       "      <th>0</th>\n",
       "      <td>Negative</td>\n",
       "      <td>0.454783</td>\n",
       "      <td>2.436609</td>\n",
       "      <td>0.024800</td>\n",
       "      <td>0.031702</td>\n",
       "      <td>-0.001390</td>\n",
       "      <td>0.014324</td>\n",
       "      <td>-0.014541</td>\n",
       "      <td>0.005091</td>\n",
       "      <td>0.004868</td>\n",
       "      <td>-0.006652</td>\n",
       "    </tr>\n",
       "    <tr>\n",
       "      <th>1</th>\n",
       "      <td>Positive</td>\n",
       "      <td>1.922926</td>\n",
       "      <td>2.012935</td>\n",
       "      <td>0.066069</td>\n",
       "      <td>0.031829</td>\n",
       "      <td>-0.038127</td>\n",
       "      <td>-0.030026</td>\n",
       "      <td>0.015409</td>\n",
       "      <td>0.006971</td>\n",
       "      <td>-0.016703</td>\n",
       "      <td>-0.012964</td>\n",
       "    </tr>\n",
       "  </tbody>\n",
       "</table>\n",
       "</div>"
      ],
      "text/plain": [
       "  Assumed effect sign  drink1_husband  drink2_wife  educ_husband  \\\n",
       "0            Negative        0.454783     2.436609      0.024800   \n",
       "1            Positive        1.922926     2.012935      0.066069   \n",
       "\n",
       "   age1_husband  weight1_husband  height1_husband  educ_wife  age2_wife  \\\n",
       "0      0.031702        -0.001390         0.014324  -0.014541   0.005091   \n",
       "1      0.031829        -0.038127        -0.030026   0.015409   0.006971   \n",
       "\n",
       "   weight2_wife  height2_wife  \n",
       "0      0.004868     -0.006652  \n",
       "1     -0.016703     -0.012964  "
      ]
     },
     "execution_count": 38,
     "metadata": {},
     "output_type": "execute_result"
    }
   ],
   "source": [
    "peer_table_final"
   ]
  },
  {
   "cell_type": "markdown",
   "id": "ee8e75f1-ba90-49e1-b72b-65760f14df34",
   "metadata": {},
   "source": [
    "Contraiction - for the model with assumed negative peer effects (drink1_husband, drink2_wife)\n",
    "got positive estimates of peer effects => do not believe this model specification.\n",
    "Thus, calculate conditional probabilities only for the case of the model without contradiction - positive peer effects."
   ]
  },
  {
   "cell_type": "markdown",
   "id": "a9b27ab6-cca0-4dd6-95a7-f3062d212232",
   "metadata": {},
   "source": [
    "#### Conditional probabilities (positive peer effects)\n",
    "Estimate, using estimated beta and gamma parameters."
   ]
  },
  {
   "cell_type": "code",
   "execution_count": 39,
   "id": "cf19faf3-b9bb-42fb-8103-4dbcf053bcf3",
   "metadata": {},
   "outputs": [],
   "source": [
    "# get estimated betas\n",
    "gamma_1, gamma_2, beta_1, beta_2 ,beta_3, beta_4, beta_5, beta_6, beta_7, beta_8 = est_pos\n",
    "\n",
    "# define outcome variables from data\n",
    "d_1 = np.array(data2['drink1_husband'])\n",
    "d_2 = np.array(data2['drink2_wife'])\n",
    "\n",
    "# use covariates from the data\n",
    "# age\n",
    "X_1a = np.array(data2['age1_husband'])\n",
    "X_2a = np.array(data2['age2_wife'])\n",
    "#educ\n",
    "X_1e = np.array(data2['educ_husband'])\n",
    "X_2e = np.array(data2['educ_wife'])\n",
    "# weight\n",
    "X_1w = np.array(data2['weight1_husband'])\n",
    "X_2w = np.array(data2['weight2_wife'])\n",
    "# height\n",
    "X_1h = np.array(data2['height1_husband'])\n",
    "X_2h = np.array(data2['height2_wife'])"
   ]
  },
  {
   "cell_type": "code",
   "execution_count": 40,
   "id": "059d5793-087d-4c05-8b72-0241dee45e93",
   "metadata": {},
   "outputs": [],
   "source": [
    "# calculate all conditional probabilities\n",
    "\n",
    "P_01 = logit_choic_pr(-beta_1 * X_1a - beta_3*X_1e - beta_5*X_1w - beta_7*X_1h-gamma_1) *\\\n",
    "(1-logit_choic_pr(-beta_2 * X_2a - beta_4*X_2e - beta_6*X_2w - beta_8*X_2h))\n",
    "\n",
    "P_10 = (1-logit_choic_pr(-beta_1 * X_1a - beta_3*X_1e - beta_5*X_1w - beta_7*X_1h)) *\\\n",
    "logit_choic_pr(-beta_2 * X_2a - beta_4*X_2e - beta_6*X_2w - beta_8*X_2h-gamma_2)\n",
    "\n",
    "P_00_u = logit_choic_pr(-beta_1 * X_1a - beta_3*X_1e - beta_5*X_1w - beta_7*X_1h) *\\\n",
    "logit_choic_pr(-beta_2 * X_2a - beta_4*X_2e - beta_6*X_2w - beta_8*X_2h)\n",
    "\n",
    "P_00_l = P_00_u - (logit_choic_pr(-beta_1 * X_1a - beta_3*X_1e - beta_5*X_1w - beta_7*X_1h)\\\n",
    "                   - logit_choic_pr(-beta_1 * X_1a - beta_3*X_1e - beta_5*X_1w - beta_7*X_1h-gamma_1))*\\\n",
    "(logit_choic_pr(-beta_2 * X_2a - beta_4*X_2e - beta_6*X_2w - beta_8*X_2h)\\\n",
    " - logit_choic_pr(-beta_2 * X_2a - beta_4*X_2e - beta_6*X_2w - beta_8*X_2h - gamma_2))\n",
    "\n",
    "P_11_u = 1 - P_01 - P_10 - P_00_l\n",
    "\n",
    "P_11_l = 1 - P_01 - P_10 - P_00_u"
   ]
  },
  {
   "cell_type": "markdown",
   "id": "a75ca3fc-6be1-46ea-b969-ce106b400ca0",
   "metadata": {},
   "source": [
    "Now into latex"
   ]
  },
  {
   "cell_type": "code",
   "execution_count": 41,
   "id": "685e37a0-5062-4eb9-a6d0-0113b8058fc5",
   "metadata": {},
   "outputs": [],
   "source": [
    "cond_prob = pd.DataFrame({\n",
    "    'P_01': P_01,\n",
    "    'P_10': P_10,\n",
    "    'P_00_l': P_10,\n",
    "    'P_00_u': P_00_u,\n",
    "    'P_11_l': P_11_l,\n",
    "    'P_11_u': P_11_l\n",
    "})\n",
    "\n",
    "# Convert to LaTeX format with 3 decimal places using float_format\n",
    "latex_output_4 = cond_prob.describe().to_latex(float_format=\"%.3f\")\n",
    "\n",
    "# Save to a .tex file\n",
    "with open(\"2_2_2.tex\", \"w\") as f:\n",
    "    f.write(latex_output_4)"
   ]
  },
  {
   "cell_type": "code",
   "execution_count": 42,
   "id": "2db49827-9d7b-47c2-b7e5-4cfc12ad499e",
   "metadata": {},
   "outputs": [
    {
     "data": {
      "text/html": [
       "<div>\n",
       "<style scoped>\n",
       "    .dataframe tbody tr th:only-of-type {\n",
       "        vertical-align: middle;\n",
       "    }\n",
       "\n",
       "    .dataframe tbody tr th {\n",
       "        vertical-align: top;\n",
       "    }\n",
       "\n",
       "    .dataframe thead th {\n",
       "        text-align: right;\n",
       "    }\n",
       "</style>\n",
       "<table border=\"1\" class=\"dataframe\">\n",
       "  <thead>\n",
       "    <tr style=\"text-align: right;\">\n",
       "      <th></th>\n",
       "      <th>P_01</th>\n",
       "      <th>P_10</th>\n",
       "      <th>P_00_l</th>\n",
       "      <th>P_00_u</th>\n",
       "      <th>P_11_l</th>\n",
       "      <th>P_11_u</th>\n",
       "    </tr>\n",
       "  </thead>\n",
       "  <tbody>\n",
       "    <tr>\n",
       "      <th>0</th>\n",
       "      <td>0.044805</td>\n",
       "      <td>0.111808</td>\n",
       "      <td>0.111808</td>\n",
       "      <td>0.618197</td>\n",
       "      <td>0.225190</td>\n",
       "      <td>0.225190</td>\n",
       "    </tr>\n",
       "    <tr>\n",
       "      <th>1</th>\n",
       "      <td>0.023183</td>\n",
       "      <td>0.143326</td>\n",
       "      <td>0.143326</td>\n",
       "      <td>0.234844</td>\n",
       "      <td>0.598646</td>\n",
       "      <td>0.598646</td>\n",
       "    </tr>\n",
       "    <tr>\n",
       "      <th>2</th>\n",
       "      <td>0.048648</td>\n",
       "      <td>0.108967</td>\n",
       "      <td>0.108967</td>\n",
       "      <td>0.546445</td>\n",
       "      <td>0.295941</td>\n",
       "      <td>0.295941</td>\n",
       "    </tr>\n",
       "    <tr>\n",
       "      <th>3</th>\n",
       "      <td>0.041463</td>\n",
       "      <td>0.108577</td>\n",
       "      <td>0.108577</td>\n",
       "      <td>0.337541</td>\n",
       "      <td>0.512420</td>\n",
       "      <td>0.512420</td>\n",
       "    </tr>\n",
       "    <tr>\n",
       "      <th>4</th>\n",
       "      <td>0.048636</td>\n",
       "      <td>0.108782</td>\n",
       "      <td>0.108782</td>\n",
       "      <td>0.553802</td>\n",
       "      <td>0.288781</td>\n",
       "      <td>0.288781</td>\n",
       "    </tr>\n",
       "  </tbody>\n",
       "</table>\n",
       "</div>"
      ],
      "text/plain": [
       "       P_01      P_10    P_00_l    P_00_u    P_11_l    P_11_u\n",
       "0  0.044805  0.111808  0.111808  0.618197  0.225190  0.225190\n",
       "1  0.023183  0.143326  0.143326  0.234844  0.598646  0.598646\n",
       "2  0.048648  0.108967  0.108967  0.546445  0.295941  0.295941\n",
       "3  0.041463  0.108577  0.108577  0.337541  0.512420  0.512420\n",
       "4  0.048636  0.108782  0.108782  0.553802  0.288781  0.288781"
      ]
     },
     "execution_count": 42,
     "metadata": {},
     "output_type": "execute_result"
    }
   ],
   "source": [
    "cond_prob.head(5)"
   ]
  },
  {
   "cell_type": "code",
   "execution_count": 43,
   "id": "c51f6368-ee7a-4b76-92d5-7a9f8b447ab6",
   "metadata": {},
   "outputs": [
    {
     "data": {
      "text/html": [
       "<div>\n",
       "<style scoped>\n",
       "    .dataframe tbody tr th:only-of-type {\n",
       "        vertical-align: middle;\n",
       "    }\n",
       "\n",
       "    .dataframe tbody tr th {\n",
       "        vertical-align: top;\n",
       "    }\n",
       "\n",
       "    .dataframe thead th {\n",
       "        text-align: right;\n",
       "    }\n",
       "</style>\n",
       "<table border=\"1\" class=\"dataframe\">\n",
       "  <thead>\n",
       "    <tr style=\"text-align: right;\">\n",
       "      <th></th>\n",
       "      <th>P_01</th>\n",
       "      <th>P_10</th>\n",
       "      <th>P_00_l</th>\n",
       "      <th>P_00_u</th>\n",
       "      <th>P_11_l</th>\n",
       "      <th>P_11_u</th>\n",
       "    </tr>\n",
       "  </thead>\n",
       "  <tbody>\n",
       "    <tr>\n",
       "      <th>count</th>\n",
       "      <td>13945.000000</td>\n",
       "      <td>13945.000000</td>\n",
       "      <td>13945.000000</td>\n",
       "      <td>13945.000000</td>\n",
       "      <td>13945.000000</td>\n",
       "      <td>13945.000000</td>\n",
       "    </tr>\n",
       "    <tr>\n",
       "      <th>mean</th>\n",
       "      <td>0.035386</td>\n",
       "      <td>0.137544</td>\n",
       "      <td>0.137544</td>\n",
       "      <td>0.389995</td>\n",
       "      <td>0.437075</td>\n",
       "      <td>0.437075</td>\n",
       "    </tr>\n",
       "    <tr>\n",
       "      <th>std</th>\n",
       "      <td>0.016782</td>\n",
       "      <td>0.033819</td>\n",
       "      <td>0.033819</td>\n",
       "      <td>0.122960</td>\n",
       "      <td>0.118804</td>\n",
       "      <td>0.118804</td>\n",
       "    </tr>\n",
       "    <tr>\n",
       "      <th>min</th>\n",
       "      <td>0.003719</td>\n",
       "      <td>0.031354</td>\n",
       "      <td>0.031354</td>\n",
       "      <td>0.057550</td>\n",
       "      <td>0.163507</td>\n",
       "      <td>0.163507</td>\n",
       "    </tr>\n",
       "    <tr>\n",
       "      <th>25%</th>\n",
       "      <td>0.024706</td>\n",
       "      <td>0.118574</td>\n",
       "      <td>0.118574</td>\n",
       "      <td>0.293040</td>\n",
       "      <td>0.342224</td>\n",
       "      <td>0.342224</td>\n",
       "    </tr>\n",
       "    <tr>\n",
       "      <th>50%</th>\n",
       "      <td>0.032407</td>\n",
       "      <td>0.137692</td>\n",
       "      <td>0.137692</td>\n",
       "      <td>0.392462</td>\n",
       "      <td>0.429718</td>\n",
       "      <td>0.429718</td>\n",
       "    </tr>\n",
       "    <tr>\n",
       "      <th>75%</th>\n",
       "      <td>0.041638</td>\n",
       "      <td>0.156327</td>\n",
       "      <td>0.156327</td>\n",
       "      <td>0.487770</td>\n",
       "      <td>0.525031</td>\n",
       "      <td>0.525031</td>\n",
       "    </tr>\n",
       "    <tr>\n",
       "      <th>max</th>\n",
       "      <td>0.154775</td>\n",
       "      <td>0.343492</td>\n",
       "      <td>0.343492</td>\n",
       "      <td>0.699162</td>\n",
       "      <td>0.793157</td>\n",
       "      <td>0.793157</td>\n",
       "    </tr>\n",
       "  </tbody>\n",
       "</table>\n",
       "</div>"
      ],
      "text/plain": [
       "               P_01          P_10        P_00_l        P_00_u        P_11_l  \\\n",
       "count  13945.000000  13945.000000  13945.000000  13945.000000  13945.000000   \n",
       "mean       0.035386      0.137544      0.137544      0.389995      0.437075   \n",
       "std        0.016782      0.033819      0.033819      0.122960      0.118804   \n",
       "min        0.003719      0.031354      0.031354      0.057550      0.163507   \n",
       "25%        0.024706      0.118574      0.118574      0.293040      0.342224   \n",
       "50%        0.032407      0.137692      0.137692      0.392462      0.429718   \n",
       "75%        0.041638      0.156327      0.156327      0.487770      0.525031   \n",
       "max        0.154775      0.343492      0.343492      0.699162      0.793157   \n",
       "\n",
       "             P_11_u  \n",
       "count  13945.000000  \n",
       "mean       0.437075  \n",
       "std        0.118804  \n",
       "min        0.163507  \n",
       "25%        0.342224  \n",
       "50%        0.429718  \n",
       "75%        0.525031  \n",
       "max        0.793157  "
      ]
     },
     "execution_count": 43,
     "metadata": {},
     "output_type": "execute_result"
    }
   ],
   "source": [
    "cond_prob.describe()"
   ]
  }
 ],
 "metadata": {
  "kernelspec": {
   "display_name": "Python 3 (ipykernel)",
   "language": "python",
   "name": "python3"
  },
  "language_info": {
   "codemirror_mode": {
    "name": "ipython",
    "version": 3
   },
   "file_extension": ".py",
   "mimetype": "text/x-python",
   "name": "python",
   "nbconvert_exporter": "python",
   "pygments_lexer": "ipython3",
   "version": "3.11.8"
  }
 },
 "nbformat": 4,
 "nbformat_minor": 5
}
