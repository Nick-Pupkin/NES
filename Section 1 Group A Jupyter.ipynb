{
 "cells": [
  {
   "cell_type": "markdown",
   "id": "a5dd831e",
   "metadata": {},
   "source": [
    "# Python and regression matrix algebra"
   ]
  },
  {
   "cell_type": "markdown",
   "id": "b34e9c3b",
   "metadata": {},
   "source": [
    "Load libraries:"
   ]
  },
  {
   "cell_type": "code",
   "execution_count": 29,
   "id": "9067dca4",
   "metadata": {},
   "outputs": [],
   "source": [
    "import numpy as np # basic linear algebra \n",
    "import scipy.stats # for generation of random variables"
   ]
  },
  {
   "cell_type": "markdown",
   "id": "e9ba4ae9",
   "metadata": {},
   "source": [
    "In what follows, set $n$ to 100 and $k$ to 3. Report results with precision of 3 digitals."
   ]
  },
  {
   "cell_type": "code",
   "execution_count": 30,
   "id": "e212f67a",
   "metadata": {},
   "outputs": [],
   "source": [
    "n = 100 # number of observations\n",
    "k = 3 # number of independent variables\n",
    "np.set_printoptions(precision=3) # number of signs after comma in the whole notebook"
   ]
  },
  {
   "cell_type": "markdown",
   "id": "d9b88726",
   "metadata": {},
   "source": [
    "1. Generate an $n \\times k$ matrix of independent standard normal random variables using a random number generator, call it $X$. Compute and report $X' X$."
   ]
  },
  {
   "cell_type": "code",
   "execution_count": 3,
   "id": "59b8449e",
   "metadata": {
    "scrolled": true
   },
   "outputs": [
    {
     "data": {
      "text/plain": [
       "array([[-3.987e-01,  5.179e-01, -1.951e+00],\n",
       "       [ 1.655e-01, -1.048e+00, -1.927e+00],\n",
       "       [ 6.705e-01,  4.408e-01, -1.727e-02],\n",
       "       [ 3.498e-01,  9.733e-01,  1.462e+00],\n",
       "       [ 1.180e+00,  6.634e-01,  1.683e+00],\n",
       "       [ 1.706e-02, -1.784e+00,  9.140e-01],\n",
       "       [ 9.932e-01,  1.901e+00,  6.875e-01],\n",
       "       [ 1.214e+00,  1.799e+00, -3.990e-01],\n",
       "       [-4.201e-02, -5.363e-01, -2.226e+00],\n",
       "       [ 3.868e-01,  5.269e-01, -1.798e-01],\n",
       "       [ 7.628e-01, -7.370e-01, -1.217e+00],\n",
       "       [-1.349e+00,  4.310e-01, -1.755e-01],\n",
       "       [ 2.228e+00,  2.929e-03,  8.816e-01],\n",
       "       [-1.961e-01, -8.065e-01, -1.913e+00],\n",
       "       [-2.160e-01,  9.476e-01, -1.168e+00],\n",
       "       [-2.466e-01, -3.510e-01, -1.442e-01],\n",
       "       [ 1.051e-01, -1.662e-01, -5.783e-01],\n",
       "       [-1.398e+00,  1.528e-01,  4.400e-01],\n",
       "       [ 4.518e-01, -1.223e+00, -3.485e-01],\n",
       "       [ 1.895e-02,  1.324e+00, -2.345e+00],\n",
       "       [ 3.275e-01,  4.421e-01, -6.775e-01],\n",
       "       [-1.510e-01, -7.346e-01, -1.250e+00],\n",
       "       [-7.995e-03,  3.454e-01,  8.085e-01],\n",
       "       [-1.037e+00, -7.250e-01,  1.883e+00],\n",
       "       [-1.812e-01,  4.046e-01, -5.823e-01],\n",
       "       [ 7.563e-01, -8.459e-01,  1.398e+00],\n",
       "       [-1.890e-01,  1.892e+00,  9.388e-01],\n",
       "       [-9.551e-01, -6.236e-01,  2.577e+00],\n",
       "       [-1.204e+00, -1.312e+00,  3.988e-01],\n",
       "       [ 1.341e+00, -3.908e-01,  5.668e-01],\n",
       "       [ 1.401e+00,  3.442e-02,  6.301e-01],\n",
       "       [-1.199e+00,  7.456e-01,  9.971e-01],\n",
       "       [-1.368e+00, -1.128e+00, -7.307e-01],\n",
       "       [ 6.321e-01,  3.870e-01, -1.658e+00],\n",
       "       [-7.645e-02, -1.749e-01, -8.013e-01],\n",
       "       [ 3.160e-01,  1.369e+00,  2.283e-01],\n",
       "       [-1.125e-01, -9.383e-01, -1.828e-01],\n",
       "       [ 2.057e-01, -1.141e+00,  2.653e-01],\n",
       "       [ 4.656e-01,  6.297e-01, -3.906e-01],\n",
       "       [ 1.351e-01, -5.577e-01, -1.524e+00],\n",
       "       [ 2.281e-01,  9.463e-01,  6.825e-01],\n",
       "       [ 1.094e+00,  4.204e-01, -9.522e-01],\n",
       "       [-2.442e+00,  9.618e-01, -1.261e+00],\n",
       "       [ 2.282e-01,  6.121e-01,  6.015e-02],\n",
       "       [-1.494e+00,  1.061e+00,  2.429e-01],\n",
       "       [ 2.071e-01, -2.519e+00, -5.495e-01],\n",
       "       [-5.100e-01, -5.315e-01, -4.016e-01],\n",
       "       [-2.118e-01, -1.145e+00, -3.492e-01],\n",
       "       [-9.094e-01,  1.378e-01,  7.102e-01],\n",
       "       [-2.596e-01, -3.368e-01, -1.039e-01],\n",
       "       [-1.513e+00, -1.096e+00,  2.292e-01],\n",
       "       [-2.874e-01,  1.043e+00, -7.190e-01],\n",
       "       [-3.735e-01,  4.102e-01, -1.239e+00],\n",
       "       [ 1.017e+00, -1.078e+00,  2.326e+00],\n",
       "       [ 6.225e-01, -4.491e-01,  1.082e+00],\n",
       "       [-1.521e+00, -1.019e+00, -4.715e-01],\n",
       "       [-7.541e-02, -7.431e-02, -1.785e-01],\n",
       "       [-8.088e-02, -2.660e-01, -4.014e-01],\n",
       "       [-4.682e-01, -2.106e-02,  7.076e-01],\n",
       "       [ 4.265e-01,  7.777e-01, -2.232e-01],\n",
       "       [-6.426e-01,  6.636e-01, -5.145e-01],\n",
       "       [ 2.554e-01, -6.411e-01,  1.095e+00],\n",
       "       [-1.344e+00, -2.147e-01, -3.580e-01],\n",
       "       [ 5.881e-02,  8.647e-01,  7.041e-01],\n",
       "       [-2.557e-01, -1.038e+00, -3.374e-01],\n",
       "       [-9.878e-01, -1.570e+00, -1.572e+00],\n",
       "       [ 1.681e+00,  3.908e-01,  6.533e-01],\n",
       "       [-1.076e+00, -1.080e+00, -1.440e+00],\n",
       "       [-1.573e+00, -4.423e-01, -9.426e-02],\n",
       "       [ 4.856e-01,  1.203e+00, -5.416e-01],\n",
       "       [ 1.329e+00,  3.555e-01, -1.515e+00],\n",
       "       [ 6.661e-01, -3.475e-01, -4.902e-01],\n",
       "       [-4.340e-01, -1.758e+00,  1.176e+00],\n",
       "       [ 5.222e-01, -7.027e-01, -1.966e+00],\n",
       "       [ 1.559e-01,  8.320e-01,  1.013e+00],\n",
       "       [-2.239e-01,  1.098e-01,  6.391e-01],\n",
       "       [-1.675e+00,  2.635e+00, -1.480e+00],\n",
       "       [-1.165e-01, -4.182e-01, -9.354e-01],\n",
       "       [ 1.288e+00, -7.756e-02,  1.065e+00],\n",
       "       [ 7.632e-01,  5.689e-01, -9.892e-02],\n",
       "       [-2.030e+00, -1.756e+00,  1.084e+00],\n",
       "       [-1.442e+00,  8.399e-01, -2.164e+00],\n",
       "       [-3.722e-01, -7.602e-01, -6.800e-03],\n",
       "       [-1.058e+00, -3.583e-01, -7.920e-01],\n",
       "       [ 8.029e-02,  1.046e+00,  9.370e-01],\n",
       "       [-3.167e+00, -1.337e+00,  3.986e-01],\n",
       "       [-2.977e-01,  1.231e-01, -1.150e+00],\n",
       "       [-1.083e+00,  5.020e-01, -1.561e+00],\n",
       "       [ 1.889e-02, -4.197e-01,  7.539e-01],\n",
       "       [-9.339e-01, -6.450e-01,  1.479e-01],\n",
       "       [-1.339e+00,  7.492e-01, -5.281e-02],\n",
       "       [-1.473e+00, -8.682e-01,  1.176e+00],\n",
       "       [-2.099e-01,  1.656e+00, -8.077e-01],\n",
       "       [ 9.786e-01, -3.446e-01, -1.153e-01],\n",
       "       [ 7.190e-02, -6.156e-01,  2.760e-01],\n",
       "       [ 7.585e-01,  4.566e-01,  1.543e+00],\n",
       "       [ 5.002e-01,  1.573e+00,  1.660e-01],\n",
       "       [-6.312e-01,  6.388e-01,  7.494e-01],\n",
       "       [ 1.392e+00, -5.411e-01,  2.326e+00],\n",
       "       [ 1.499e+00,  1.468e+00, -1.484e+00]])"
      ]
     },
     "execution_count": 3,
     "metadata": {},
     "output_type": "execute_result"
    }
   ],
   "source": [
    "X = scipy.stats.norm.rvs(loc=0, scale=1, size=(n, k))\n",
    "# norm - noraml, rvs - random variable sampling\n",
    "# loc - mean, scale - standard deviation\n",
    "# note that we created a sample of a random vector with \n",
    "# three independent random variables in it! \n",
    "X"
   ]
  },
  {
   "cell_type": "code",
   "execution_count": 4,
   "id": "d8361df0",
   "metadata": {},
   "outputs": [
    {
     "data": {
      "text/plain": [
       "(3, 100)"
      ]
     },
     "execution_count": 4,
     "metadata": {},
     "output_type": "execute_result"
    }
   ],
   "source": [
    "X.T.shape # tranformed matrix"
   ]
  },
  {
   "cell_type": "code",
   "execution_count": 5,
   "id": "0c2481bc",
   "metadata": {},
   "outputs": [
    {
     "data": {
      "text/plain": [
       "array([[ 91.748,  15.547,  13.622],\n",
       "       [ 15.547,  89.698,  -9.799],\n",
       "       [ 13.622,  -9.799, 116.162]])"
      ]
     },
     "execution_count": 5,
     "metadata": {},
     "output_type": "execute_result"
    }
   ],
   "source": [
    "X.T @ X # matrix multiplication"
   ]
  },
  {
   "cell_type": "markdown",
   "id": "8ac0ee96",
   "metadata": {},
   "source": [
    "2. Using cycling in $i$, compute $\\sum_{i=1}^n x_i x_i'$, where each $k \\times 1$ vector $x_i$ is the transposed $i$th row of $X$. Report this sum and make sure it coincides with $X' X$."
   ]
  },
  {
   "cell_type": "code",
   "execution_count": 6,
   "id": "4d071a53",
   "metadata": {},
   "outputs": [
    {
     "data": {
      "text/plain": [
       "array([[ 0.165],\n",
       "       [-1.048],\n",
       "       [-1.927]])"
      ]
     },
     "execution_count": 6,
     "metadata": {},
     "output_type": "execute_result"
    }
   ],
   "source": [
    "i = 1 # take the second row\n",
    "X[i][:, np.newaxis] # get a column vector from it - now it's interpreted\n",
    "# by python as 2D objest, instead of 1D object"
   ]
  },
  {
   "cell_type": "code",
   "execution_count": 7,
   "id": "a0af76c8",
   "metadata": {},
   "outputs": [
    {
     "data": {
      "text/plain": [
       "array([[ 0.165, -1.048, -1.927]])"
      ]
     },
     "execution_count": 7,
     "metadata": {},
     "output_type": "execute_result"
    }
   ],
   "source": [
    "X[i][np.newaxis, :] # row vector"
   ]
  },
  {
   "cell_type": "code",
   "execution_count": 8,
   "id": "3deca84a",
   "metadata": {},
   "outputs": [
    {
     "data": {
      "text/plain": [
       "array([[ 0.027, -0.173, -0.319],\n",
       "       [-0.173,  1.098,  2.019],\n",
       "       [-0.319,  2.019,  3.712]])"
      ]
     },
     "execution_count": 8,
     "metadata": {},
     "output_type": "execute_result"
    }
   ],
   "source": [
    "X[i][:, np.newaxis] @ X[i][np.newaxis, :] # column vector * row vector"
   ]
  },
  {
   "cell_type": "code",
   "execution_count": 9,
   "id": "7ef8c06e",
   "metadata": {},
   "outputs": [
    {
     "name": "stdout",
     "output_type": "stream",
     "text": [
      "0\n",
      "1\n",
      "2\n",
      "3\n",
      "4\n"
     ]
    }
   ],
   "source": [
    "# bsic cycle\n",
    "for i in range(5):\n",
    "    print(i)"
   ]
  },
  {
   "cell_type": "code",
   "execution_count": 10,
   "id": "ef7b675a",
   "metadata": {},
   "outputs": [
    {
     "data": {
      "text/plain": [
       "array([[ 91.748,  15.547,  13.622],\n",
       "       [ 15.547,  89.698,  -9.799],\n",
       "       [ 13.622,  -9.799, 116.162]])"
      ]
     },
     "execution_count": 10,
     "metadata": {},
     "output_type": "execute_result"
    }
   ],
   "source": [
    "# compute the sum of X'X for each observation (#n)\n",
    "S = 0\n",
    "for i in range(n):\n",
    "    S += X[i][:, np.newaxis] @ X[i][np.newaxis, :]\n",
    "S"
   ]
  },
  {
   "cell_type": "markdown",
   "id": "7a2d32d6-ceab-481c-81a8-3e4e293ffb35",
   "metadata": {},
   "source": [
    "Coinsides with the precious result."
   ]
  },
  {
   "cell_type": "code",
   "execution_count": 11,
   "id": "8b1ab1dd",
   "metadata": {},
   "outputs": [
    {
     "data": {
      "text/plain": [
       "array([[False,  True, False],\n",
       "       [ True,  True,  True],\n",
       "       [False,  True, False]])"
      ]
     },
     "execution_count": 11,
     "metadata": {},
     "output_type": "execute_result"
    }
   ],
   "source": [
    "S == X.T @ X # although python is having troubles with stroring float values"
   ]
  },
  {
   "cell_type": "code",
   "execution_count": 12,
   "id": "f23d24e8",
   "metadata": {},
   "outputs": [
    {
     "data": {
      "text/plain": [
       "True"
      ]
     },
     "execution_count": 12,
     "metadata": {},
     "output_type": "execute_result"
    }
   ],
   "source": [
    "np.allclose(S, X.T @ X) # apply the method for close proximity"
   ]
  },
  {
   "cell_type": "code",
   "execution_count": 13,
   "id": "c8454ab3",
   "metadata": {},
   "outputs": [
    {
     "data": {
      "text/plain": [
       "\u001b[1;31mSignature:\u001b[0m       \u001b[0mnp\u001b[0m\u001b[1;33m.\u001b[0m\u001b[0mallclose\u001b[0m\u001b[1;33m(\u001b[0m\u001b[0ma\u001b[0m\u001b[1;33m,\u001b[0m \u001b[0mb\u001b[0m\u001b[1;33m,\u001b[0m \u001b[0mrtol\u001b[0m\u001b[1;33m=\u001b[0m\u001b[1;36m1e-05\u001b[0m\u001b[1;33m,\u001b[0m \u001b[0matol\u001b[0m\u001b[1;33m=\u001b[0m\u001b[1;36m1e-08\u001b[0m\u001b[1;33m,\u001b[0m \u001b[0mequal_nan\u001b[0m\u001b[1;33m=\u001b[0m\u001b[1;32mFalse\u001b[0m\u001b[1;33m)\u001b[0m\u001b[1;33m\u001b[0m\u001b[1;33m\u001b[0m\u001b[0m\n",
       "\u001b[1;31mCall signature:\u001b[0m  \u001b[0mnp\u001b[0m\u001b[1;33m.\u001b[0m\u001b[0mallclose\u001b[0m\u001b[1;33m(\u001b[0m\u001b[1;33m*\u001b[0m\u001b[0margs\u001b[0m\u001b[1;33m,\u001b[0m \u001b[1;33m**\u001b[0m\u001b[0mkwargs\u001b[0m\u001b[1;33m)\u001b[0m\u001b[1;33m\u001b[0m\u001b[1;33m\u001b[0m\u001b[0m\n",
       "\u001b[1;31mType:\u001b[0m            _ArrayFunctionDispatcher\n",
       "\u001b[1;31mString form:\u001b[0m     <function allclose at 0x00000160B359E840>\n",
       "\u001b[1;31mFile:\u001b[0m            c:\\users\\popov\\anaconda3\\envs\\nes\\lib\\site-packages\\numpy\\core\\numeric.py\n",
       "\u001b[1;31mDocstring:\u001b[0m      \n",
       "Returns True if two arrays are element-wise equal within a tolerance.\n",
       "\n",
       "The tolerance values are positive, typically very small numbers.  The\n",
       "relative difference (`rtol` * abs(`b`)) and the absolute difference\n",
       "`atol` are added together to compare against the absolute difference\n",
       "between `a` and `b`.\n",
       "\n",
       "NaNs are treated as equal if they are in the same place and if\n",
       "``equal_nan=True``.  Infs are treated as equal if they are in the same\n",
       "place and of the same sign in both arrays.\n",
       "\n",
       "Parameters\n",
       "----------\n",
       "a, b : array_like\n",
       "    Input arrays to compare.\n",
       "rtol : float\n",
       "    The relative tolerance parameter (see Notes).\n",
       "atol : float\n",
       "    The absolute tolerance parameter (see Notes).\n",
       "equal_nan : bool\n",
       "    Whether to compare NaN's as equal.  If True, NaN's in `a` will be\n",
       "    considered equal to NaN's in `b` in the output array.\n",
       "\n",
       "    .. versionadded:: 1.10.0\n",
       "\n",
       "Returns\n",
       "-------\n",
       "allclose : bool\n",
       "    Returns True if the two arrays are equal within the given\n",
       "    tolerance; False otherwise.\n",
       "\n",
       "See Also\n",
       "--------\n",
       "isclose, all, any, equal\n",
       "\n",
       "Notes\n",
       "-----\n",
       "If the following equation is element-wise True, then allclose returns\n",
       "True.\n",
       "\n",
       " absolute(`a` - `b`) <= (`atol` + `rtol` * absolute(`b`))\n",
       "\n",
       "The above equation is not symmetric in `a` and `b`, so that\n",
       "``allclose(a, b)`` might be different from ``allclose(b, a)`` in\n",
       "some rare cases.\n",
       "\n",
       "The comparison of `a` and `b` uses standard broadcasting, which\n",
       "means that `a` and `b` need not have the same shape in order for\n",
       "``allclose(a, b)`` to evaluate to True.  The same is true for\n",
       "`equal` but not `array_equal`.\n",
       "\n",
       "`allclose` is not defined for non-numeric data types.\n",
       "`bool` is considered a numeric data-type for this purpose.\n",
       "\n",
       "Examples\n",
       "--------\n",
       ">>> np.allclose([1e10,1e-7], [1.00001e10,1e-8])\n",
       "False\n",
       ">>> np.allclose([1e10,1e-8], [1.00001e10,1e-9])\n",
       "True\n",
       ">>> np.allclose([1e10,1e-8], [1.0001e10,1e-9])\n",
       "False\n",
       ">>> np.allclose([1.0, np.nan], [1.0, np.nan])\n",
       "False\n",
       ">>> np.allclose([1.0, np.nan], [1.0, np.nan], equal_nan=True)\n",
       "True\n",
       "\u001b[1;31mClass docstring:\u001b[0m\n",
       "Class to wrap functions with checks for __array_function__ overrides.\n",
       "\n",
       "All arguments are required, and can only be passed by position.\n",
       "\n",
       "Parameters\n",
       "----------\n",
       "dispatcher : function or None\n",
       "    The dispatcher function that returns a single sequence-like object\n",
       "    of all arguments relevant.  It must have the same signature (except\n",
       "    the default values) as the actual implementation.\n",
       "    If ``None``, this is a ``like=`` dispatcher and the\n",
       "    ``_ArrayFunctionDispatcher`` must be called with ``like`` as the\n",
       "    first (additional and positional) argument.\n",
       "implementation : function\n",
       "    Function that implements the operation on NumPy arrays without\n",
       "    overrides.  Arguments passed calling the ``_ArrayFunctionDispatcher``\n",
       "    will be forwarded to this (and the ``dispatcher``) as if using\n",
       "    ``*args, **kwargs``.\n",
       "\n",
       "Attributes\n",
       "----------\n",
       "_implementation : function\n",
       "    The original implementation passed in."
      ]
     },
     "metadata": {},
     "output_type": "display_data"
    }
   ],
   "source": [
    "?np.allclose # anout the method"
   ]
  },
  {
   "cell_type": "markdown",
   "id": "f77649ac",
   "metadata": {},
   "source": [
    "3. Compute and report a sample mean and sample variance of the random vector $x$ whose sample is represented by $X$: How close are they to the population mean and population variance of $x$?"
   ]
  },
  {
   "cell_type": "code",
   "execution_count": 14,
   "id": "89e318da",
   "metadata": {},
   "outputs": [
    {
     "data": {
      "text/plain": [
       "array([-0.124, -0.007, -0.1  ])"
      ]
     },
     "execution_count": 14,
     "metadata": {},
     "output_type": "execute_result"
    }
   ],
   "source": [
    "np.mean(X, axis=0) # compute sample mean of a random variable vector x, which sample \n",
    "# is represented by the matrix X. "
   ]
  },
  {
   "cell_type": "code",
   "execution_count": 15,
   "id": "0cabab89",
   "metadata": {},
   "outputs": [
    {
     "data": {
      "text/plain": [
       "\u001b[1;31mSignature:\u001b[0m      \n",
       "\u001b[0mnp\u001b[0m\u001b[1;33m.\u001b[0m\u001b[0mcov\u001b[0m\u001b[1;33m(\u001b[0m\u001b[1;33m\n",
       "\u001b[0m    \u001b[0mm\u001b[0m\u001b[1;33m,\u001b[0m\u001b[1;33m\n",
       "\u001b[0m    \u001b[0my\u001b[0m\u001b[1;33m=\u001b[0m\u001b[1;32mNone\u001b[0m\u001b[1;33m,\u001b[0m\u001b[1;33m\n",
       "\u001b[0m    \u001b[0mrowvar\u001b[0m\u001b[1;33m=\u001b[0m\u001b[1;32mTrue\u001b[0m\u001b[1;33m,\u001b[0m\u001b[1;33m\n",
       "\u001b[0m    \u001b[0mbias\u001b[0m\u001b[1;33m=\u001b[0m\u001b[1;32mFalse\u001b[0m\u001b[1;33m,\u001b[0m\u001b[1;33m\n",
       "\u001b[0m    \u001b[0mddof\u001b[0m\u001b[1;33m=\u001b[0m\u001b[1;32mNone\u001b[0m\u001b[1;33m,\u001b[0m\u001b[1;33m\n",
       "\u001b[0m    \u001b[0mfweights\u001b[0m\u001b[1;33m=\u001b[0m\u001b[1;32mNone\u001b[0m\u001b[1;33m,\u001b[0m\u001b[1;33m\n",
       "\u001b[0m    \u001b[0maweights\u001b[0m\u001b[1;33m=\u001b[0m\u001b[1;32mNone\u001b[0m\u001b[1;33m,\u001b[0m\u001b[1;33m\n",
       "\u001b[0m    \u001b[1;33m*\u001b[0m\u001b[1;33m,\u001b[0m\u001b[1;33m\n",
       "\u001b[0m    \u001b[0mdtype\u001b[0m\u001b[1;33m=\u001b[0m\u001b[1;32mNone\u001b[0m\u001b[1;33m,\u001b[0m\u001b[1;33m\n",
       "\u001b[0m\u001b[1;33m)\u001b[0m\u001b[1;33m\u001b[0m\u001b[1;33m\u001b[0m\u001b[0m\n",
       "\u001b[1;31mCall signature:\u001b[0m  \u001b[0mnp\u001b[0m\u001b[1;33m.\u001b[0m\u001b[0mcov\u001b[0m\u001b[1;33m(\u001b[0m\u001b[1;33m*\u001b[0m\u001b[0margs\u001b[0m\u001b[1;33m,\u001b[0m \u001b[1;33m**\u001b[0m\u001b[0mkwargs\u001b[0m\u001b[1;33m)\u001b[0m\u001b[1;33m\u001b[0m\u001b[1;33m\u001b[0m\u001b[0m\n",
       "\u001b[1;31mType:\u001b[0m            _ArrayFunctionDispatcher\n",
       "\u001b[1;31mString form:\u001b[0m     <function cov at 0x00000160B36CCFE0>\n",
       "\u001b[1;31mFile:\u001b[0m            c:\\users\\popov\\anaconda3\\envs\\nes\\lib\\site-packages\\numpy\\lib\\function_base.py\n",
       "\u001b[1;31mDocstring:\u001b[0m      \n",
       "Estimate a covariance matrix, given data and weights.\n",
       "\n",
       "Covariance indicates the level to which two variables vary together.\n",
       "If we examine N-dimensional samples, :math:`X = [x_1, x_2, ... x_N]^T`,\n",
       "then the covariance matrix element :math:`C_{ij}` is the covariance of\n",
       ":math:`x_i` and :math:`x_j`. The element :math:`C_{ii}` is the variance\n",
       "of :math:`x_i`.\n",
       "\n",
       "See the notes for an outline of the algorithm.\n",
       "\n",
       "Parameters\n",
       "----------\n",
       "m : array_like\n",
       "    A 1-D or 2-D array containing multiple variables and observations.\n",
       "    Each row of `m` represents a variable, and each column a single\n",
       "    observation of all those variables. Also see `rowvar` below.\n",
       "y : array_like, optional\n",
       "    An additional set of variables and observations. `y` has the same form\n",
       "    as that of `m`.\n",
       "rowvar : bool, optional\n",
       "    If `rowvar` is True (default), then each row represents a\n",
       "    variable, with observations in the columns. Otherwise, the relationship\n",
       "    is transposed: each column represents a variable, while the rows\n",
       "    contain observations.\n",
       "bias : bool, optional\n",
       "    Default normalization (False) is by ``(N - 1)``, where ``N`` is the\n",
       "    number of observations given (unbiased estimate). If `bias` is True,\n",
       "    then normalization is by ``N``. These values can be overridden by using\n",
       "    the keyword ``ddof`` in numpy versions >= 1.5.\n",
       "ddof : int, optional\n",
       "    If not ``None`` the default value implied by `bias` is overridden.\n",
       "    Note that ``ddof=1`` will return the unbiased estimate, even if both\n",
       "    `fweights` and `aweights` are specified, and ``ddof=0`` will return\n",
       "    the simple average. See the notes for the details. The default value\n",
       "    is ``None``.\n",
       "\n",
       "    .. versionadded:: 1.5\n",
       "fweights : array_like, int, optional\n",
       "    1-D array of integer frequency weights; the number of times each\n",
       "    observation vector should be repeated.\n",
       "\n",
       "    .. versionadded:: 1.10\n",
       "aweights : array_like, optional\n",
       "    1-D array of observation vector weights. These relative weights are\n",
       "    typically large for observations considered \"important\" and smaller for\n",
       "    observations considered less \"important\". If ``ddof=0`` the array of\n",
       "    weights can be used to assign probabilities to observation vectors.\n",
       "\n",
       "    .. versionadded:: 1.10\n",
       "dtype : data-type, optional\n",
       "    Data-type of the result. By default, the return data-type will have\n",
       "    at least `numpy.float64` precision.\n",
       "\n",
       "    .. versionadded:: 1.20\n",
       "\n",
       "Returns\n",
       "-------\n",
       "out : ndarray\n",
       "    The covariance matrix of the variables.\n",
       "\n",
       "See Also\n",
       "--------\n",
       "corrcoef : Normalized covariance matrix\n",
       "\n",
       "Notes\n",
       "-----\n",
       "Assume that the observations are in the columns of the observation\n",
       "array `m` and let ``f = fweights`` and ``a = aweights`` for brevity. The\n",
       "steps to compute the weighted covariance are as follows::\n",
       "\n",
       "    >>> m = np.arange(10, dtype=np.float64)\n",
       "    >>> f = np.arange(10) * 2\n",
       "    >>> a = np.arange(10) ** 2.\n",
       "    >>> ddof = 1\n",
       "    >>> w = f * a\n",
       "    >>> v1 = np.sum(w)\n",
       "    >>> v2 = np.sum(w * a)\n",
       "    >>> m -= np.sum(m * w, axis=None, keepdims=True) / v1\n",
       "    >>> cov = np.dot(m * w, m.T) * v1 / (v1**2 - ddof * v2)\n",
       "\n",
       "Note that when ``a == 1``, the normalization factor\n",
       "``v1 / (v1**2 - ddof * v2)`` goes over to ``1 / (np.sum(f) - ddof)``\n",
       "as it should.\n",
       "\n",
       "Examples\n",
       "--------\n",
       "Consider two variables, :math:`x_0` and :math:`x_1`, which\n",
       "correlate perfectly, but in opposite directions:\n",
       "\n",
       ">>> x = np.array([[0, 2], [1, 1], [2, 0]]).T\n",
       ">>> x\n",
       "array([[0, 1, 2],\n",
       "       [2, 1, 0]])\n",
       "\n",
       "Note how :math:`x_0` increases while :math:`x_1` decreases. The covariance\n",
       "matrix shows this clearly:\n",
       "\n",
       ">>> np.cov(x)\n",
       "array([[ 1., -1.],\n",
       "       [-1.,  1.]])\n",
       "\n",
       "Note that element :math:`C_{0,1}`, which shows the correlation between\n",
       ":math:`x_0` and :math:`x_1`, is negative.\n",
       "\n",
       "Further, note how `x` and `y` are combined:\n",
       "\n",
       ">>> x = [-2.1, -1,  4.3]\n",
       ">>> y = [3,  1.1,  0.12]\n",
       ">>> X = np.stack((x, y), axis=0)\n",
       ">>> np.cov(X)\n",
       "array([[11.71      , -4.286     ], # may vary\n",
       "       [-4.286     ,  2.144133]])\n",
       ">>> np.cov(x, y)\n",
       "array([[11.71      , -4.286     ], # may vary\n",
       "       [-4.286     ,  2.144133]])\n",
       ">>> np.cov(x)\n",
       "array(11.71)\n",
       "\u001b[1;31mClass docstring:\u001b[0m\n",
       "Class to wrap functions with checks for __array_function__ overrides.\n",
       "\n",
       "All arguments are required, and can only be passed by position.\n",
       "\n",
       "Parameters\n",
       "----------\n",
       "dispatcher : function or None\n",
       "    The dispatcher function that returns a single sequence-like object\n",
       "    of all arguments relevant.  It must have the same signature (except\n",
       "    the default values) as the actual implementation.\n",
       "    If ``None``, this is a ``like=`` dispatcher and the\n",
       "    ``_ArrayFunctionDispatcher`` must be called with ``like`` as the\n",
       "    first (additional and positional) argument.\n",
       "implementation : function\n",
       "    Function that implements the operation on NumPy arrays without\n",
       "    overrides.  Arguments passed calling the ``_ArrayFunctionDispatcher``\n",
       "    will be forwarded to this (and the ``dispatcher``) as if using\n",
       "    ``*args, **kwargs``.\n",
       "\n",
       "Attributes\n",
       "----------\n",
       "_implementation : function\n",
       "    The original implementation passed in."
      ]
     },
     "metadata": {},
     "output_type": "display_data"
    }
   ],
   "source": [
    "?np.cov # note that for 3 random variables, we have not a covariance matrix,\n",
    "# but a covariance cube))"
   ]
  },
  {
   "cell_type": "code",
   "execution_count": 32,
   "id": "8fad9340",
   "metadata": {},
   "outputs": [
    {
     "data": {
      "text/plain": [
       "array([[ 0.911,  0.156,  0.125],\n",
       "       [ 0.156,  0.906, -0.1  ],\n",
       "       [ 0.125, -0.1  ,  1.163]])"
      ]
     },
     "execution_count": 32,
     "metadata": {},
     "output_type": "execute_result"
    }
   ],
   "source": [
    "np.cov(X.T) # compute our sample 3D covariance matrix \n",
    "# X.T - specifics of the method "
   ]
  },
  {
   "cell_type": "markdown",
   "id": "93c3fc0a-8410-4c9e-a046-b6bfdeada504",
   "metadata": {},
   "source": [
    "Note that a theoretical covariance matrix is just aт identity matrix (1 on the diagonal - std = 1, 0 in other positions - our random variables are independent). However, our sample covariance matrix has only 100 observations, thus, it's only approximately like that. "
   ]
  },
  {
   "cell_type": "code",
   "execution_count": 17,
   "id": "33f9c99e",
   "metadata": {},
   "outputs": [
    {
     "data": {
      "text/plain": [
       "array([0., 0., 0.])"
      ]
     },
     "execution_count": 17,
     "metadata": {},
     "output_type": "execute_result"
    }
   ],
   "source": [
    "np.zeros(3) # get the theoretical mean "
   ]
  },
  {
   "cell_type": "code",
   "execution_count": 33,
   "id": "ef5b325a",
   "metadata": {},
   "outputs": [
    {
     "data": {
      "text/plain": [
       "array([[1., 0., 0.],\n",
       "       [0., 1., 0.],\n",
       "       [0., 0., 1.]])"
      ]
     },
     "execution_count": 33,
     "metadata": {},
     "output_type": "execute_result"
    }
   ],
   "source": [
    "np.identity(3) # get the theoretical covariance matrix "
   ]
  },
  {
   "cell_type": "markdown",
   "id": "14df1ada",
   "metadata": {},
   "source": [
    "4. What is the rank of $n^{-1} X' X$? What is the rank of $Q_{xx} \\equiv \\mathbb{E}[xx']$? What is the rank of $x_i x_i'$? Compute and report the inverse of $n^{-1} X' X$. What is the inverse of $Q_{xx}$?"
   ]
  },
  {
   "cell_type": "code",
   "execution_count": 19,
   "id": "146f41f0",
   "metadata": {},
   "outputs": [
    {
     "data": {
      "text/plain": [
       "3"
      ]
     },
     "execution_count": 19,
     "metadata": {},
     "output_type": "execute_result"
    }
   ],
   "source": [
    "np.linalg.matrix_rank(X.T @ X / n)"
   ]
  },
  {
   "cell_type": "markdown",
   "id": "cff50794-8772-4148-a080-5f011f403a27",
   "metadata": {},
   "source": [
    "It indeed shoyld have full rank - becuase our random variables are independent (no multicollinearity)."
   ]
  },
  {
   "cell_type": "code",
   "execution_count": 34,
   "id": "c02164b3",
   "metadata": {},
   "outputs": [
    {
     "data": {
      "text/plain": [
       "3"
      ]
     },
     "execution_count": 34,
     "metadata": {},
     "output_type": "execute_result"
    }
   ],
   "source": [
    "Qxx = np.identity(3) # this is the th. covariance matrix.\n",
    "np.linalg.matrix_rank(Qxx)"
   ]
  },
  {
   "cell_type": "markdown",
   "id": "c37fe326-9465-4d00-8617-2edcb17f0c56",
   "metadata": {},
   "source": [
    "This is a theoretical analogue of the previous sample matrix."
   ]
  },
  {
   "cell_type": "code",
   "execution_count": 35,
   "id": "74e08b45",
   "metadata": {},
   "outputs": [
    {
     "data": {
      "text/plain": [
       "1"
      ]
     },
     "execution_count": 35,
     "metadata": {},
     "output_type": "execute_result"
    }
   ],
   "source": [
    "i = 5 # for the particular row - realization of the random vector\n",
    "np.linalg.matrix_rank(X[i][:, np.newaxis] @ X[i][np.newaxis, :])"
   ]
  },
  {
   "cell_type": "markdown",
   "id": "e105312e-6e1f-4026-8267-d455c7ddd0f3",
   "metadata": {},
   "source": [
    "It is only one, as it's a multiplication of the two vectors, each with the rank of 1 (linear algebra)."
   ]
  },
  {
   "cell_type": "code",
   "execution_count": 36,
   "id": "d251a809",
   "metadata": {},
   "outputs": [
    {
     "data": {
      "text/plain": [
       "array([[ 1.149, -0.216, -0.153],\n",
       "       [-0.216,  1.166,  0.124],\n",
       "       [-0.153,  0.124,  0.889]])"
      ]
     },
     "execution_count": 36,
     "metadata": {},
     "output_type": "execute_result"
    }
   ],
   "source": [
    "np.linalg.inv(X.T @ X / n) # computing the inverse matrix"
   ]
  },
  {
   "cell_type": "markdown",
   "id": "b8d0e8a6-1035-4cd5-b50b-82e242683e62",
   "metadata": {},
   "source": [
    "Its th. analogue."
   ]
  },
  {
   "cell_type": "code",
   "execution_count": 23,
   "id": "e28fc7b7",
   "metadata": {},
   "outputs": [
    {
     "data": {
      "text/plain": [
       "array([[1., 0., 0.],\n",
       "       [0., 1., 0.],\n",
       "       [0., 0., 1.]])"
      ]
     },
     "execution_count": 23,
     "metadata": {},
     "output_type": "execute_result"
    }
   ],
   "source": [
    "np.linalg.inv(Qxx)"
   ]
  },
  {
   "cell_type": "markdown",
   "id": "ebe90ddb",
   "metadata": {},
   "source": [
    "5. Verify in a similar vein that\n",
    "$$ \\sum_{i=1}^{n} \\omega_i x_i x_i' = X' \\Omega X $$\n",
    "and\n",
    "$$ \\sum_{i=1}^{n} \\frac{x_i x_i'}{\\omega_i} = X' \\Omega^{-1} X, $$\n",
    "where $\\Omega = \\text{diag}\\{\\omega_i\\}_{i=1}^{n}$ is an arbitrary diagonal $n \\times n$ matrix containing (heterogeneous and non-zero!) $\\omega_i$ on the main diagonal."
   ]
  },
  {
   "cell_type": "code",
   "execution_count": 24,
   "id": "c793ea9b",
   "metadata": {},
   "outputs": [
    {
     "data": {
      "text/plain": [
       "array([[0.725, 0.   , 0.   , ..., 0.   , 0.   , 0.   ],\n",
       "       [0.   , 0.797, 0.   , ..., 0.   , 0.   , 0.   ],\n",
       "       [0.   , 0.   , 0.617, ..., 0.   , 0.   , 0.   ],\n",
       "       ...,\n",
       "       [0.   , 0.   , 0.   , ..., 2.856, 0.   , 0.   ],\n",
       "       [0.   , 0.   , 0.   , ..., 0.   , 0.315, 0.   ],\n",
       "       [0.   , 0.   , 0.   , ..., 0.   , 0.   , 5.1  ]])"
      ]
     },
     "execution_count": 24,
     "metadata": {},
     "output_type": "execute_result"
    }
   ],
   "source": [
    "# get the log-normal distribution vector \n",
    "weights = np.exp(scipy.stats.norm.rvs(loc=0, scale=1, size=n))\n",
    "# now construct the diagonal matrix from our vector\n",
    "Omega = np.diag(weights)\n",
    "Omega"
   ]
  },
  {
   "cell_type": "code",
   "execution_count": 25,
   "id": "7a672fd2",
   "metadata": {},
   "outputs": [
    {
     "data": {
      "text/plain": [
       "array([[153.437,  33.099,   6.534],\n",
       "       [ 33.099, 168.706, -17.647],\n",
       "       [  6.534, -17.647, 196.721]])"
      ]
     },
     "execution_count": 25,
     "metadata": {},
     "output_type": "execute_result"
    }
   ],
   "source": [
    "# calculate the first LHS \n",
    "S = 0\n",
    "for i in range(n):\n",
    "    S += X[i][:, np.newaxis] @ X[i][np.newaxis, :] * weights[i]\n",
    "S"
   ]
  },
  {
   "cell_type": "code",
   "execution_count": 26,
   "id": "3c187dd2",
   "metadata": {},
   "outputs": [
    {
     "data": {
      "text/plain": [
       "array([[153.437,  33.099,   6.534],\n",
       "       [ 33.099, 168.706, -17.647],\n",
       "       [  6.534, -17.647, 196.721]])"
      ]
     },
     "execution_count": 26,
     "metadata": {},
     "output_type": "execute_result"
    }
   ],
   "source": [
    "# calculate the first RHS \n",
    "X.T @ Omega @ X"
   ]
  },
  {
   "cell_type": "code",
   "execution_count": 27,
   "id": "f52e7b89",
   "metadata": {},
   "outputs": [
    {
     "data": {
      "text/plain": [
       "array([[134.756,  40.982,  23.904],\n",
       "       [ 40.982, 181.869,   9.425],\n",
       "       [ 23.904,   9.425, 196.447]])"
      ]
     },
     "execution_count": 27,
     "metadata": {},
     "output_type": "execute_result"
    }
   ],
   "source": [
    "# calculate the second LHS\n",
    "S = 0\n",
    "for i in range(n):\n",
    "    S += X[i][:, np.newaxis] @ X[i][np.newaxis, :] / weights[i]\n",
    "S"
   ]
  },
  {
   "cell_type": "code",
   "execution_count": 28,
   "id": "85ff6d92",
   "metadata": {},
   "outputs": [
    {
     "data": {
      "text/plain": [
       "array([[134.756,  40.982,  23.904],\n",
       "       [ 40.982, 181.869,   9.425],\n",
       "       [ 23.904,   9.425, 196.447]])"
      ]
     },
     "execution_count": 28,
     "metadata": {},
     "output_type": "execute_result"
    }
   ],
   "source": [
    "# calculate the second RHS\n",
    "X.T @ np.linalg.inv(Omega) @ X"
   ]
  }
 ],
 "metadata": {
  "kernelspec": {
   "display_name": "Python 3 (ipykernel)",
   "language": "python",
   "name": "python3"
  },
  "language_info": {
   "codemirror_mode": {
    "name": "ipython",
    "version": 3
   },
   "file_extension": ".py",
   "mimetype": "text/x-python",
   "name": "python",
   "nbconvert_exporter": "python",
   "pygments_lexer": "ipython3",
   "version": "3.11.8"
  }
 },
 "nbformat": 4,
 "nbformat_minor": 5
}
