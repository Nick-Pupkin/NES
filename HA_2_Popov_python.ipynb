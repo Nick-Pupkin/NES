{
 "cells": [
  {
   "cell_type": "markdown",
   "metadata": {
    "id": "bcR1qtXrTpMR"
   },
   "source": [
    "# **<center> Introduction to Python for Practical Problems </center>**\n",
    "# **<center> New Economic School, MAE 2025 </center>**\n",
    "## **<center> Home Assignment 2 </center>**"
   ]
  },
  {
   "cell_type": "markdown",
   "metadata": {
    "id": "nCyGaIewT_yl"
   },
   "source": [
    "### Задание 1.\n",
    "\n",
    "Создайте класс **Pizza** (для выбора и определения наполнителя для пиццы в ресторане), который при инициализации принимает аргумент `topping` (отвечает за начинку пиццы). В этом классе реализуйте метод **show_my_topping()**, который выводит «Пицца и {НАЧИНКА}», если начинка присутствует. В противном случае отображайте фразу «Обычная пицца».\n",
    "\n",
    "Не забывайте, что численные, булевы и т.д. элементы не могут быть начинкой. Попробуйте воспользоваться функцией `isinstance()` :)"
   ]
  },
  {
   "cell_type": "code",
   "execution_count": 1,
   "metadata": {
    "id": "vPD31-WsTlbq"
   },
   "outputs": [],
   "source": [
    "class Pizza:\n",
    "    # class constructor - self\n",
    "    def __init__(self, topping): # initializaion with all arguments\n",
    "        #class attribute\n",
    "        self.topping = topping # initializaion of an attribute of the \n",
    "                               # class constructor\n",
    "    \n",
    "    def show_my_topping(self): # one argument - self\n",
    "        \n",
    "        if isinstance(self.topping, str) == True: # check the attribute of self to be str\n",
    "            print(f'Pizza and {self.topping}')\n",
    "        else:\n",
    "            print('usual pizza')"
   ]
  },
  {
   "cell_type": "code",
   "execution_count": 2,
   "metadata": {},
   "outputs": [
    {
     "name": "stdout",
     "output_type": "stream",
     "text": [
      "Pizza and tomatoes\n",
      "Pizza and fish\n",
      "usual pizza\n",
      "usual pizza\n"
     ]
    }
   ],
   "source": [
    "# test \n",
    "pizza_1 = Pizza(topping = 'tomatoes') # initialize a pizza\n",
    "pizza_1.show_my_topping() # show the topping\n",
    "\n",
    "pizza_2 = Pizza(topping = 'fish')\n",
    "pizza_2.show_my_topping()\n",
    "\n",
    "pizza_3 = Pizza(topping = [4,4])\n",
    "pizza_3.show_my_topping()\n",
    "\n",
    "pizza_4 = Pizza(topping = True)\n",
    "pizza_4.show_my_topping()"
   ]
  },
  {
   "cell_type": "markdown",
   "metadata": {},
   "source": [
    "### Задание 2.\n",
    "\n",
    "Для ускорения работы проверки треугольников на валидность, Вы решили написать себе помощника. \n",
    "\n",
    "Создайте класс **TriangleChecker**, который будет принимать на вход 3 положительных аргумента, соответствующих длинам сторон проверяемого треугольника. В этом классе реализуйте метод **is_triangle()**, возвращающий, в зависимости от ситуации, следующие значения:\n",
    "\n",
    "* Треугольник валиден!\n",
    "* Сторона треугольника не может иметь отрицательную длину!;\n",
    "* Разрешен ввод только чисел!;\n",
    "* Треугольник не является валдиным."
   ]
  },
  {
   "cell_type": "code",
   "execution_count": 3,
   "metadata": {},
   "outputs": [],
   "source": [
    "class TriangleChecker:\n",
    "\n",
    "    def __init__(self, a, b, c):\n",
    "        # triangle sides\n",
    "        self.a = a\n",
    "        self.b = b\n",
    "        self.c = c\n",
    "\n",
    "    def is_triangle(self):\n",
    "        \n",
    "        l_sides = [self.a, self.b, self.c] # list of sides\n",
    "\n",
    "        # check for relevant values\n",
    "        flag_1 = True\n",
    "        flag_2 = True\n",
    "        \n",
    "        for i in l_sides:\n",
    "            if isinstance(i, (int,float)) == False:\n",
    "                flag_1 = False\n",
    "            elif  i < 0:\n",
    "                flag_2 = False\n",
    "\n",
    "        if flag_1 == False:\n",
    "            print(\"Only numbers are relevant! \\n\")\n",
    "            return # it invalid value - stop the function from going forward\n",
    "        if flag_2 == False:\n",
    "            print(\"Sides cannot be negative! \\n\")\n",
    "            return\n",
    "                \n",
    "        # check for the triangle inequality    \n",
    "        for i in range(len(l_sides)):\n",
    "            flag = True\n",
    "            if i == 0:\n",
    "                sum = l_sides[1] + l_sides[2]\n",
    "                if sum <= l_sides[i]:\n",
    "                    print(\"Invalid triangle \\n\")\n",
    "                    return # don't need to check other sides\n",
    "                    \n",
    "            if i == 1:\n",
    "                sum = l_sides[0] + l_sides[2]\n",
    "                if sum <= l_sides[i]:\n",
    "                    print(\"Invalid triangle \\n\")\n",
    "                    return\n",
    "                    \n",
    "            if i == 2:\n",
    "                sum = l_sides[0] + l_sides[1]\n",
    "                if sum <= l_sides[i]:\n",
    "                    print(\"Invalid triangle \\n\")\n",
    "                    return\n",
    "            \n",
    "        print(\"Valid triangle \\n\") # appropriate. values, triangle"
   ]
  },
  {
   "cell_type": "code",
   "execution_count": 4,
   "metadata": {},
   "outputs": [
    {
     "name": "stdout",
     "output_type": "stream",
     "text": [
      "Valid triangle \n",
      "\n",
      "Valid triangle \n",
      "\n",
      "Only numbers are relevant! \n",
      "\n",
      "Only numbers are relevant! \n",
      "\n",
      "Invalid triangle \n",
      "\n",
      "Invalid triangle \n",
      "\n",
      "Sides cannot be negative! \n",
      "\n"
     ]
    }
   ],
   "source": [
    "# test\n",
    "triang_1 = TriangleChecker(a = 1, b = 2, c = 2)\n",
    "triang_1.is_triangle()\n",
    "\n",
    "triang_2 = TriangleChecker(a = 1.1, b = 2.1, c = 2.1)\n",
    "triang_2.is_triangle()\n",
    "\n",
    "triang_4 = TriangleChecker(a = 'kol', b = 1, c = 1.2)\n",
    "triang_4.is_triangle()\n",
    "\n",
    "triang_5 = TriangleChecker(a = [0,9], b = (9, 4), c = 1)\n",
    "triang_5.is_triangle()\n",
    "\n",
    "triang_6 = TriangleChecker(a = 0, b = 9, c = 3)\n",
    "triang_6.is_triangle()\n",
    "\n",
    "triang_7 = TriangleChecker(a = 9, b = 9, c = 0)\n",
    "triang_7.is_triangle()\n",
    "\n",
    "triang_7 = TriangleChecker(a = -1, b = 9, c = 0)\n",
    "triang_7.is_triangle()"
   ]
  },
  {
   "cell_type": "markdown",
   "metadata": {},
   "source": [
    "### Задание 3.\n",
    "\n",
    "Вы хотите собрать о человеке на допросе как можно больше информации. Для этого Вы решили написать класс **Suspect**, который принимает на вход обязательные аргументы `name`, `surname` и `age`,  а также неопределенное количество любых других аргументов (информации о человеке), которые, естественно, до допроса неизвестны.\n",
    "\n",
    "Внутри класса реализуйте метод **show_info()**, который принимает в себя аргумент `which`, отвечающие за то, какая информация Вас интересует: только основная (имя, фамилия и возраст); основная и вся дополнительная информация; только дополнительная информация (без имени, фамилии и возраста).\n",
    "\n",
    "Вывод сделайте в следующем формате, в зависимости от запроса в методе **show_info()**:\n",
    "\n",
    "```\n",
    "Основная информация о подозреваемом\n",
    "\n",
    "ИМЯ    : {имя}\n",
    "ФАМИЛИЯ: {фамилия}\n",
    "ВОЗРАСТ: {возраст}\n",
    "----------------------------------------\n",
    "\n",
    "Дополнительна информация о подозреваемом\n",
    "\n",
    "ПОЛ: {пол}\n",
    "и т.д.\n",
    "```\n",
    "\n",
    "Можно не делать оформление. Это просто вариант для примера."
   ]
  },
  {
   "cell_type": "code",
   "execution_count": 5,
   "metadata": {},
   "outputs": [],
   "source": [
    "class Suspect:\n",
    "    # initialization\n",
    "    def __init__(self, name, surname, age, **extr_info):\n",
    "        self.name = name\n",
    "        self.surname = surname # giving attributes to our class\n",
    "        self.age = age\n",
    "        self.info = extr_info\n",
    "    # function     \n",
    "    def show_info(self, which):\n",
    "        \"\"\"\n",
    "        show_info() has the only parameter \"which\":\n",
    "        \n",
    "        which = \"main\" - provides main features of the suspect\n",
    "        which = \"extra\" - provides extra information about the suspect\n",
    "        which = \"all\" - provides all available information about hte suspect\n",
    "        \"\"\"\n",
    "        if which == \"main\":\n",
    "            print(f\" \\\n",
    "                    Main suspect features:\\n \\\n",
    "                    ----------------------\\n \\\n",
    "                    Name   : {self.name} \\n \\\n",
    "                    Surname: {self.surname} \\n \\\n",
    "                    Age: {self.age}\")\n",
    "            \n",
    "        elif which == \"extra\":\n",
    "            print(  f\" \\\n",
    "                    Additional suspect features:\\n \\\n",
    "                    -----------------------------\\n \")\n",
    "            \n",
    "            for i, j in self.info.items(): # note that we packed those \n",
    "            # parameters into a dictionary!\n",
    "                print(f'                     {i}: {j}\\n') # i - key, j - value\n",
    "                \n",
    "        elif which == \"all\":\n",
    "            print(f\" \\\n",
    "                    Main suspect features:\\n \\\n",
    "                    ----------------------\\n \\\n",
    "                    Name   : {self.name} \\n \\\n",
    "                    Surname: {self.surname} \\n \\\n",
    "                    Age: {self.age}\")\n",
    "            print(\"\\\n",
    "                  ====================================\")\n",
    "            print(  f\" \\\n",
    "                    Additional suspect features:\\n \\\n",
    "                    -----------------------------\\n \")\n",
    "            \n",
    "            for i, j in self.info.items(): # note that we packed those \n",
    "            # parameters into a dictionary!\n",
    "                print(f'                     {i}: {j}\\n') # i - key, j - value\n",
    "                \n",
    "        else:\n",
    "            print(\"Wrong parameter\")"
   ]
  },
  {
   "cell_type": "code",
   "execution_count": 6,
   "metadata": {},
   "outputs": [],
   "source": [
    "# test\n",
    "suspect_1 = Suspect(name = 'John', surname = 'Covalenko', age = '35',\n",
    "            sex = \"male\", education = \"college\", job = \"IT\", crime = \"homocide\", hobby = 'sport')"
   ]
  },
  {
   "cell_type": "code",
   "execution_count": 7,
   "metadata": {},
   "outputs": [
    {
     "name": "stdout",
     "output_type": "stream",
     "text": [
      "                     Main suspect features:\n",
      "                     ----------------------\n",
      "                     Name   : John \n",
      "                     Surname: Covalenko \n",
      "                     Age: 35\n"
     ]
    }
   ],
   "source": [
    "suspect_1.show_info(\"main\")"
   ]
  },
  {
   "cell_type": "code",
   "execution_count": 8,
   "metadata": {},
   "outputs": [
    {
     "name": "stdout",
     "output_type": "stream",
     "text": [
      "                     Additional suspect features:\n",
      "                     -----------------------------\n",
      " \n",
      "                     sex: male\n",
      "\n",
      "                     education: college\n",
      "\n",
      "                     job: IT\n",
      "\n",
      "                     crime: homocide\n",
      "\n",
      "                     hobby: sport\n",
      "\n"
     ]
    }
   ],
   "source": [
    "suspect_1.show_info(\"extra\")"
   ]
  },
  {
   "cell_type": "code",
   "execution_count": 9,
   "metadata": {},
   "outputs": [
    {
     "name": "stdout",
     "output_type": "stream",
     "text": [
      "                     Main suspect features:\n",
      "                     ----------------------\n",
      "                     Name   : John \n",
      "                     Surname: Covalenko \n",
      "                     Age: 35\n",
      "                  ====================================\n",
      "                     Additional suspect features:\n",
      "                     -----------------------------\n",
      " \n",
      "                     sex: male\n",
      "\n",
      "                     education: college\n",
      "\n",
      "                     job: IT\n",
      "\n",
      "                     crime: homocide\n",
      "\n",
      "                     hobby: sport\n",
      "\n"
     ]
    }
   ],
   "source": [
    "suspect_1.show_info(\"all\")"
   ]
  },
  {
   "cell_type": "code",
   "execution_count": 10,
   "metadata": {},
   "outputs": [
    {
     "name": "stdout",
     "output_type": "stream",
     "text": [
      "Wrong parameter\n"
     ]
    }
   ],
   "source": [
    "suspect_1.show_info(\"Hi\")"
   ]
  },
  {
   "cell_type": "markdown",
   "metadata": {},
   "source": [
    "### Задание 4.\n",
    "\n",
    "Измените класс **TriangleChecker** из задания 3 так, чтобы при исполнении метода **is_triangle()** подсчитывалось и выводилось время исполнения этого метода. Воспользуйтесь для этого декоратором.\n",
    "\n",
    "Есть несколько вариантов реализации решения для этой задачи. Используйте любой."
   ]
  },
  {
   "cell_type": "code",
   "execution_count": 11,
   "metadata": {},
   "outputs": [],
   "source": [
    "# define time-measuring function\n",
    "import time \n",
    "\n",
    "def measure_time(func):\n",
    "\n",
    "    def wrapper_func(*args):\n",
    "        \n",
    "        start = time.perf_counter()\n",
    "        result = func(*args)\n",
    "        end = time.perf_counter()\n",
    "        \n",
    "        print(f'Time of execution is {end-start} seconds \\n')\n",
    "        \n",
    "        return result\n",
    "\n",
    "    return wrapper_func"
   ]
  },
  {
   "cell_type": "code",
   "execution_count": 12,
   "metadata": {},
   "outputs": [],
   "source": [
    "# lest's optimize the class a bit and add time measurement\n",
    "class TriangleChecker_new:\n",
    "\n",
    "    def __init__(self, a, b, c):\n",
    "        # triangle sides\n",
    "        \n",
    "        self.a = a\n",
    "        self.b = b\n",
    "        self.c = c\n",
    "        \n",
    "    @measure_time    \n",
    "    def is_triangle(self):\n",
    "        \n",
    "        # check for correct input\n",
    "        if not all(isinstance(side, (int, float)) for side in [self.a, self.b, self.c]):\n",
    "            # isinstance(side, (int, float)) - returns True/False; all - every condition returns True \n",
    "            # not - same as ___ == False\n",
    "            print(\"Only numbers are relevant! \\n\")\n",
    "            return # it invalid value - stop the function from going forward; any - at least on condition returns True\n",
    "        elif any(side < 0 for side in [self.a, self.b, self.c]):\n",
    "            # side <= 0 returns True/False\n",
    "            # here we could have also written ___ == True (same thing)\n",
    "            print(\"Sides cannot be negative! \\n\")\n",
    "            return        \n",
    "\n",
    "        # check for triangle inequality\n",
    "        if (self.a + self.b <= self.c) or (self.b + self.c <= self.a) or (self.c + self.a <= self.b):\n",
    "            # ___ == True is missed - done by the default\n",
    "            print(\"Invalid triangle \\n\")\n",
    "        else:\n",
    "            print(\"Valid triangle \\n\") # appropriate. values, triangle"
   ]
  },
  {
   "cell_type": "code",
   "execution_count": 13,
   "metadata": {},
   "outputs": [
    {
     "name": "stdout",
     "output_type": "stream",
     "text": [
      "Valid triangle \n",
      "\n",
      "Time of execution is 4.769999941345304e-05 seconds \n",
      "\n",
      "Valid triangle \n",
      "\n",
      "Time of execution is 7.299997378140688e-06 seconds \n",
      "\n",
      "Only numbers are relevant! \n",
      "\n",
      "Time of execution is 5.49999822396785e-06 seconds \n",
      "\n",
      "Only numbers are relevant! \n",
      "\n",
      "Time of execution is 3.600012860260904e-06 seconds \n",
      "\n",
      "Invalid triangle \n",
      "\n",
      "Time of execution is 4.8000074457377195e-06 seconds \n",
      "\n",
      "Invalid triangle \n",
      "\n",
      "Time of execution is 4.2000028770416975e-06 seconds \n",
      "\n",
      "Sides cannot be negative! \n",
      "\n",
      "Time of execution is 6.50000583846122e-06 seconds \n",
      "\n",
      "Invalid triangle \n",
      "\n",
      "Time of execution is 6.699992809444666e-06 seconds \n",
      "\n"
     ]
    }
   ],
   "source": [
    "# test\n",
    "triang_1 = TriangleChecker_new(a = 1, b = 2, c = 2)\n",
    "triang_1.is_triangle()\n",
    "\n",
    "triang_2 = TriangleChecker_new(a = 1.1, b = 2.1, c = 2.1)\n",
    "triang_2.is_triangle()\n",
    "\n",
    "triang_4 = TriangleChecker_new(a = 'kol', b = 1, c = 1.2)\n",
    "triang_4.is_triangle()\n",
    "\n",
    "triang_5 = TriangleChecker_new(a = [0,9], b = (9, 4), c = 1)\n",
    "triang_5.is_triangle()\n",
    "\n",
    "triang_6 = TriangleChecker_new(a = 0, b = 9, c = 3)\n",
    "triang_6.is_triangle()\n",
    "\n",
    "triang_7 = TriangleChecker_new(a = 9, b = 9, c = 0)\n",
    "triang_7.is_triangle()\n",
    "\n",
    "triang_7 = TriangleChecker_new(a = -1, b = 9, c = 0)\n",
    "triang_7.is_triangle()\n",
    "\n",
    "triang_8 = TriangleChecker_new(a = 5, b = 6, c = 11)\n",
    "triang_8.is_triangle()"
   ]
  },
  {
   "cell_type": "markdown",
   "metadata": {},
   "source": [
    "### * Задание 5.\n",
    "\n",
    "Предлагается реализовать класс-помощник, включающий в себя в качестве методов последние использованные Вами в РЭШ \"функции\". Это может быть вычисление корней квадратного уравнения через дискриминант, вычисление площади окружности или вообще все что угодно (даже не обязательно вычисление чего-то).\n",
    "\n",
    "После реализации такого класса хотелось бы использовать его как модуль, чтобы каждый раз заново не захламлять ячейки, когда этот класс будет Вам нужен. \n",
    "\n",
    "Воспользуйтесь Последним пунктом в `Section 2` для выполнения этого задания."
   ]
  },
  {
   "cell_type": "code",
   "execution_count": 14,
   "metadata": {},
   "outputs": [],
   "source": [
    "# Libraries\n",
    "import time \n",
    "\n",
    "# NES helper\n",
    "class NES_help:\n",
    "\n",
    "    def measure_time(func):\n",
    "        \"\"\"\n",
    "        Function for measuring time\n",
    "        Input - function (with set patameters)\n",
    "        Output - function output + time\n",
    "        \"\"\"\n",
    "        def wrapper_func(*args):\n",
    "            start = time.perf_counter()\n",
    "            result = func(*args)\n",
    "            end = time.perf_counter()\n",
    "            print(f'Time of execution is {end-start} seconds \\n')\n",
    "            return result\n",
    "        return wrapper_func\n",
    "        "
   ]
  },
  {
   "cell_type": "code",
   "execution_count": 15,
   "metadata": {},
   "outputs": [
    {
     "name": "stdout",
     "output_type": "stream",
     "text": [
      "1\n",
      "2\n",
      "3\n",
      "4\n",
      "5\n",
      "6\n",
      "7\n",
      "8\n",
      "9\n",
      "10\n",
      "Time of execution is 7.900000491645187e-05 seconds \n",
      "\n"
     ]
    }
   ],
   "source": [
    "# test\n",
    "@NES_help.measure_time\n",
    "def simple(n):\n",
    "    for i in range(n):\n",
    "        print(i + 1)\n",
    "\n",
    "simple(10)"
   ]
  },
  {
   "cell_type": "markdown",
   "metadata": {},
   "source": [
    "Если вы сделаете это задание, то для загрузки дз на my.NES создайте архив **ОБЯЗАТЕЛЬНО .zip** из ноутбука (.ipynb) и модуля (.py), чтобы я тоже мог запустить Ваш код :)"
   ]
  },
  {
   "cell_type": "code",
   "execution_count": 16,
   "metadata": {},
   "outputs": [],
   "source": [
    "# test - comment previous code cells\n",
    "import sys\n",
    "\n",
    "path = 'C:/Users/Popov/Documents/NES_studies/Python/NES_Helper' # Местоположение файла на диске\n",
    "sys.path.append(path)\n",
    "\n",
    "from NES_helper import T_m\n",
    "from NES_helper import Sys_solver as sys_s"
   ]
  },
  {
   "cell_type": "code",
   "execution_count": 17,
   "metadata": {},
   "outputs": [
    {
     "name": "stdout",
     "output_type": "stream",
     "text": [
      "1\n",
      "2\n",
      "3\n",
      "4\n",
      "5\n",
      "6\n",
      "7\n",
      "8\n",
      "9\n",
      "10\n",
      "Time of execution is 6.27999979769811e-05 seconds \n",
      "\n"
     ]
    }
   ],
   "source": [
    "# test the class T_m\n",
    "@T_m.time_m\n",
    "def simple(n):\n",
    "    for i in range(n):\n",
    "        print(i + 1)\n",
    "\n",
    "simple(10)"
   ]
  },
  {
   "cell_type": "code",
   "execution_count": 18,
   "metadata": {},
   "outputs": [
    {
     "name": "stdout",
     "output_type": "stream",
     "text": [
      "System of equations:\n",
      "x**2 - y\n",
      "2*x**2 - y - 1\n",
      "Solution of the system of equations:\n",
      "{x: -1, y: 1}\n",
      "{x: 1, y: 1}\n"
     ]
    }
   ],
   "source": [
    "# test the class Sys_solver\n",
    "sys_0 = sys_s('x y', 'x**2- y', '2*x**2 - y - 1')\n",
    "sys_0.solve_sys()"
   ]
  },
  {
   "cell_type": "code",
   "execution_count": 19,
   "metadata": {},
   "outputs": [
    {
     "name": "stdout",
     "output_type": "stream",
     "text": [
      "System of equations:\n",
      "2*x**8 - y\n",
      "x - 3\n",
      "p1 - 5\n",
      "Solution of the system of equations:\n",
      "For any value of z:\n",
      "{p1: 5, x: 3, y: 13122}\n"
     ]
    }
   ],
   "source": [
    "# test the class Sys_solver\n",
    "sys_1 = sys_s('x y z p1', '2*x**8 - y ', 'x - 3', 'p1 - 5')\n",
    "sys_1.solve_sys()"
   ]
  },
  {
   "cell_type": "code",
   "execution_count": 20,
   "metadata": {},
   "outputs": [
    {
     "name": "stdout",
     "output_type": "stream",
     "text": [
      "System of equations:\n",
      "x**2 + 1\n",
      "y - 1\n",
      "Solution of the system of equations:\n",
      "{x: -I, y: 1}\n",
      "{x: I, y: 1}\n"
     ]
    }
   ],
   "source": [
    "sys_2 = sys_s('x y', 'x**2 + 1', 'y - 1')\n",
    "sys_2.solve_sys()"
   ]
  },
  {
   "cell_type": "code",
   "execution_count": 21,
   "metadata": {},
   "outputs": [
    {
     "name": "stdout",
     "output_type": "stream",
     "text": [
      "System of equations:\n",
      "x + y - 2\n",
      "2*x + 2*y - 5\n",
      "No roots\n"
     ]
    }
   ],
   "source": [
    "sys_no_solution = sys_s('x y', 'x + y - 2', '2*x + 2*y - 5')\n",
    "sys_no_solution.solve_sys()"
   ]
  }
 ],
 "metadata": {
  "colab": {
   "collapsed_sections": [],
   "name": "Python_HW_1.ipynb",
   "provenance": []
  },
  "kernelspec": {
   "display_name": "Python 3 (ipykernel)",
   "language": "python",
   "name": "python3"
  },
  "language_info": {
   "codemirror_mode": {
    "name": "ipython",
    "version": 3
   },
   "file_extension": ".py",
   "mimetype": "text/x-python",
   "name": "python",
   "nbconvert_exporter": "python",
   "pygments_lexer": "ipython3",
   "version": "3.11.4"
  }
 },
 "nbformat": 4,
 "nbformat_minor": 4
}
