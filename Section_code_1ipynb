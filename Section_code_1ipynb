{
  "nbformat": 4,
  "nbformat_minor": 0,
  "metadata": {
    "colab": {
      "provenance": [],
      "include_colab_link": true
    },
    "kernelspec": {
      "name": "python3",
      "display_name": "Python 3"
    },
    "language_info": {
      "name": "python"
    }
  },
  "cells": [
    {
      "cell_type": "markdown",
      "metadata": {
        "id": "view-in-github",
        "colab_type": "text"
      },
      "source": [
        "<a href=\"https://colab.research.google.com/github/Nick-Pupkin/NES/blob/AI_econ/Section_code_1ipynb\" target=\"_parent\"><img src=\"https://colab.research.google.com/assets/colab-badge.svg\" alt=\"Open In Colab\"/></a>"
      ]
    },
    {
      "cell_type": "code",
      "execution_count": null,
      "metadata": {
        "id": "NFCneS7ypMBc"
      },
      "outputs": [],
      "source": [
        "import cvxpy as cp\n",
        "import numpy as np"
      ]
    },
    {
      "cell_type": "markdown",
      "source": [
        "В этом ноутбуке ты найдешь 5 практических задач, которые тебе нужно решить с помощью CVXPY.\n",
        "\n",
        "В задании ты найдешь ассерты для первичной проверки решения, но финальная оценка будет поставлена по результату ручной проверки."
      ],
      "metadata": {
        "id": "H1y163NtujUj"
      }
    },
    {
      "cell_type": "markdown",
      "source": [
        "# Задача 0. Столы и стулья\n",
        "\n",
        "<img src='https://drive.google.com/uc?id=1HAf5Spb1eMpcluo8Cu9OP1e6Jrd3sBrM\n",
        "' width='800'>\n",
        "\n"
      ],
      "metadata": {
        "id": "5Uddyxevsbdu"
      }
    },
    {
      "cell_type": "markdown",
      "source": [
        "### Решение"
      ],
      "metadata": {
        "id": "Kzx4tCS67IiA"
      }
    },
    {
      "cell_type": "code",
      "source": [
        "# задаем переменные\n",
        "x1 = cp.Variable(integer=True)\n",
        "x2 = cp.Variable(integer=True)"
      ],
      "metadata": {
        "id": "DudxND_2Tu60"
      },
      "execution_count": null,
      "outputs": []
    },
    {
      "cell_type": "code",
      "source": [
        "# задаем целевую функцию\n",
        "value = 200*x1 + 100*x2"
      ],
      "metadata": {
        "id": "Bs-CHrJ7T5_q"
      },
      "execution_count": null,
      "outputs": []
    },
    {
      "cell_type": "code",
      "source": [
        "# задаем ограничения\n",
        "constraints = []\n",
        "\n",
        "constraints.append(x1 + 2*x2 <= 6000)\n",
        "constraints.append(3*x1 + x2 <= 9000)\n",
        "constraints.append(x1 >= 0)\n",
        "constraints.append(x2 >= 0)"
      ],
      "metadata": {
        "id": "izaEvaHBUKXP"
      },
      "execution_count": null,
      "outputs": []
    },
    {
      "cell_type": "code",
      "source": [
        "# решаем задачу\n",
        "problem = cp.Problem(cp.Maximize(value), constraints)\n",
        "problem.solve()"
      ],
      "metadata": {
        "colab": {
          "base_uri": "https://localhost:8080/"
        },
        "id": "NLMnJBtyUcGy",
        "outputId": "ad95f0d5-ae21-4ca9-8936-743d17c64b5b"
      },
      "execution_count": null,
      "outputs": [
        {
          "output_type": "execute_result",
          "data": {
            "text/plain": [
              "660000.0"
            ]
          },
          "metadata": {},
          "execution_count": 5
        }
      ]
    },
    {
      "cell_type": "code",
      "source": [
        "x1.value, x2.value"
      ],
      "metadata": {
        "colab": {
          "base_uri": "https://localhost:8080/"
        },
        "id": "YAa_gq6dUwsF",
        "outputId": "9b58a96b-7921-485f-e832-51c803713d71"
      },
      "execution_count": null,
      "outputs": [
        {
          "output_type": "execute_result",
          "data": {
            "text/plain": [
              "(array(2400.), array(1800.))"
            ]
          },
          "metadata": {},
          "execution_count": 6
        }
      ]
    },
    {
      "cell_type": "markdown",
      "source": [
        "# Решение в векторной форме"
      ],
      "metadata": {
        "id": "qdkxwZhAVWBv"
      }
    },
    {
      "cell_type": "code",
      "source": [
        "# задаем параметры\n",
        "\n",
        "n = 2 #количество товаров\n",
        "prices = [200, 100] # цены за каждый довар\n",
        "iron_coeffs = [1, 2] # расчет потребления железа\n",
        "wood_coeffs = [3, 1] # расчет потребления дерева\n",
        "iron_supply = 6000 # запасы железа\n",
        "wood_supply = 9000 # запасы дерева"
      ],
      "metadata": {
        "id": "zKWWx-QcVVbf"
      },
      "execution_count": null,
      "outputs": []
    },
    {
      "cell_type": "code",
      "source": [
        "# задаем переменные\n",
        "x = cp.Variable(shape=n, integer=True)"
      ],
      "metadata": {
        "id": "LD6yTY7xVaNA"
      },
      "execution_count": null,
      "outputs": []
    },
    {
      "cell_type": "code",
      "source": [
        "# задаем целевую функцию\n",
        "value = x @ prices"
      ],
      "metadata": {
        "id": "5zEmD7CdVaV1"
      },
      "execution_count": null,
      "outputs": []
    },
    {
      "cell_type": "code",
      "source": [
        "# задаем ограничения\n",
        "constraints = []\n",
        "\n",
        "constraints.append(iron_coeffs @ x <= 6000)\n",
        "constraints.append(wood_coeffs @ x <= 9000)\n",
        "constraints.append(x >= 0)"
      ],
      "metadata": {
        "id": "KAjTz-p6V19B"
      },
      "execution_count": null,
      "outputs": []
    },
    {
      "cell_type": "code",
      "source": [
        "# решаем задачу\n",
        "problem = cp.Problem(cp.Maximize(value), constraints)\n",
        "problem.solve()"
      ],
      "metadata": {
        "colab": {
          "base_uri": "https://localhost:8080/"
        },
        "id": "lvGArsCBWMa1",
        "outputId": "be8416dc-b070-4805-d625-be2ca2768fbf"
      },
      "execution_count": null,
      "outputs": [
        {
          "output_type": "execute_result",
          "data": {
            "text/plain": [
              "660000.0"
            ]
          },
          "metadata": {},
          "execution_count": 11
        }
      ]
    },
    {
      "cell_type": "code",
      "source": [
        "x.value"
      ],
      "metadata": {
        "colab": {
          "base_uri": "https://localhost:8080/"
        },
        "id": "zSTdeEUaWNMj",
        "outputId": "071b95ae-de8e-4fc5-8f50-b90706232a93"
      },
      "execution_count": null,
      "outputs": [
        {
          "output_type": "execute_result",
          "data": {
            "text/plain": [
              "array([2400., 1800.])"
            ]
          },
          "metadata": {},
          "execution_count": 12
        }
      ]
    },
    {
      "cell_type": "markdown",
      "source": [
        "# Задача 1. Рюкзак [2 балла]\n",
        "\n",
        "<img src='https://drive.google.com/uc?id=1UsNQLwcLuYUABb_KG7YtNMfmV2Lhvq8i\n",
        "' width='800'>"
      ],
      "metadata": {
        "id": "x7B5iTMIwzNg"
      }
    },
    {
      "cell_type": "code",
      "source": [
        "# задаем параметры\n",
        "n = 5\n",
        "W = 15\n",
        "weights =  np.array([3,  5,  2,  7, 4])\n",
        "values  =  np.array([10, 20, 9, 25, 15])"
      ],
      "metadata": {
        "id": "Uk4dfZjnRxh3"
      },
      "execution_count": null,
      "outputs": []
    },
    {
      "cell_type": "code",
      "source": [
        "# твое решение здесь\n",
        "x = cp.Variable(shape=n, boolean=True)"
      ],
      "metadata": {
        "id": "qiy6dBMx5wE9"
      },
      "execution_count": null,
      "outputs": []
    },
    {
      "cell_type": "code",
      "source": [
        "constraints = []\n",
        "constraints.append(x @ weights <= W)\n",
        "\n",
        "value = x @ values\n",
        "problem = cp.Problem(cp.Maximize(value), constraints)\n",
        "problem.solve()"
      ],
      "metadata": {
        "colab": {
          "base_uri": "https://localhost:8080/"
        },
        "id": "9vfg-NITR_Tv",
        "outputId": "d0d33956-92c0-4d97-afef-66ed3fddcc8a"
      },
      "execution_count": null,
      "outputs": [
        {
          "output_type": "execute_result",
          "data": {
            "text/plain": [
              "55.0"
            ]
          },
          "metadata": {},
          "execution_count": 17
        }
      ]
    },
    {
      "cell_type": "code",
      "source": [
        "assert objective_value == 55.0"
      ],
      "metadata": {
        "id": "WNGi1CWdw2LH"
      },
      "execution_count": null,
      "outputs": []
    },
    {
      "cell_type": "code",
      "source": [
        "x.value"
      ],
      "metadata": {
        "colab": {
          "base_uri": "https://localhost:8080/"
        },
        "id": "9p_L34inSaQU",
        "outputId": "35f009eb-b4e2-43ed-e63c-85759c1c2c31"
      },
      "execution_count": null,
      "outputs": [
        {
          "output_type": "execute_result",
          "data": {
            "text/plain": [
              "array([1., 1., 0., 1., 0.])"
            ]
          },
          "metadata": {},
          "execution_count": 19
        }
      ]
    },
    {
      "cell_type": "markdown",
      "source": [
        "# Задача 2. Склады [2 балла]\n",
        "\n",
        "\n",
        "<img src='https://drive.google.com/uc?id=1yY7PaR3JPaTUwqDHXZz6L90AiwTS6Wj1\n",
        "' width='600'>\n",
        "\n",
        "# Решение\n",
        "\n",
        "**Переменные**\n",
        "\n",
        "1. Для каждой потенциальной локации $i$ вводим бинарную переменную $x_i \\in \\{0, 1\\}$. Переменная $x_i$ равна единице, если мы арендуем склад в локации $i$.\n",
        "\n",
        "2. Для каждой пары (локация, клиент) введем переменную $y_{ij}$: количество партий воды, которые доставляются клиенту $j$ со склада $i$.\n",
        "\n",
        "---\n",
        "\n",
        "\n",
        "**Целевая функция**\n",
        "\n",
        "Комания «X» заинтересована в минимизации суммарных недельных затрат. С помощью введенных переменных суммарные затраты можно записать так:\n",
        "\n",
        "$$\\sum\\limits_i \\texttt{fixed_cost}_i \\cdot x_i + \\sum\\limits_{(i, j)} \\texttt{variable_cost}_{ij} \\cdot y_{ij}.$$\n",
        "\n",
        "- Первое слагаемое отражает суммарную стоимость недельной аренды открытых складов.\n",
        "\n",
        "- Второе слагаемое отражает стоимость, которую компании нужно тратить на доставку воды до клиентов.\n",
        "\n",
        "---\n",
        "\n",
        "**Ограничения**\n",
        "\n",
        "Введем ограничения, чтобы отразить суть задачи.\n",
        "\n",
        "1. Потребность каждого клиента должна быть удовлетворена: $$\\forall j \\quad \\sum\\limits_i y_{ij} = \\texttt{demand}_j.$$\n",
        "\n",
        "2. Со склада нельзя отправить больше воды, чем его вместимость. При этом если компания не взяла склад в аренду, то его вместимость равна 0: $$\\forall i \\quad \\sum\\limits_j y_{ij} \\le \\texttt{capacity}_i \\times x_i.$$\n",
        "\n",
        "3. Допустимые значения переменных: $$x_i \\in \\{0, 1\\}, \\ y \\in \\mathbb{Z}^{+}.$$\n"
      ],
      "metadata": {
        "id": "a8OwMa1t9yGj"
      }
    },
    {
      "cell_type": "code",
      "source": [
        "# задаем параметры\n",
        "\n",
        "#количество локаций и клиентов\n",
        "num_locations = 3\n",
        "num_customers = 4\n",
        "\n",
        "#стоимость недельной аренды складов\n",
        "fixed_costs = np.array([500, 700, 300])\n",
        "\n",
        "#вместимость складов\n",
        "capacities = np.array([100, 80, 120])\n",
        "\n",
        "#потребность клиентов\n",
        "demands = np.array([50, 60, 40, 70])\n",
        "\n",
        "#стоимость доставки\n",
        "variable_costs = np.array([\n",
        "    [2, 3, 1, 4],\n",
        "    [3, 1, 2, 3],\n",
        "    [4, 2, 5, 1]\n",
        "])"
      ],
      "metadata": {
        "id": "rq6Q_mQz9xEO"
      },
      "execution_count": null,
      "outputs": []
    },
    {
      "cell_type": "code",
      "source": [
        "x = cp.Variable(shape=num_locations, boolean=True)\n",
        "y = cp.Variable(shape=(num_locations, num_customers), integer=True)"
      ],
      "metadata": {
        "id": "YINWbxhPT94n"
      },
      "execution_count": null,
      "outputs": []
    },
    {
      "cell_type": "code",
      "source": [
        "constraints = []\n",
        "\n",
        "constraints.append(y >= 0)\n",
        "constraints.append(cp.sum(y, axis=0) == demands)\n",
        "\n",
        "for i in range(num_locations):\n",
        "  constraints.append(cp.sum(y[i]) <= capacities[i] * x[i])\n",
        "\n",
        "objective = x @ fixed_costs + cp.sum(cp.multiply(variable_costs, y))\n",
        "\n",
        "problem = cp.Problem(cp.Minimize(objective), constraints)\n",
        "problem.solve()"
      ],
      "metadata": {
        "colab": {
          "base_uri": "https://localhost:8080/"
        },
        "id": "4m-HpRueUbsP",
        "outputId": "d58b09f4-decb-4ba1-d34d-20e17962face"
      },
      "execution_count": null,
      "outputs": [
        {
          "output_type": "execute_result",
          "data": {
            "text/plain": [
              "1140.0"
            ]
          },
          "metadata": {},
          "execution_count": 31
        }
      ]
    },
    {
      "cell_type": "code",
      "source": [
        "# твое решение здесь\n",
        "\n",
        "objective_value, x, y = ..."
      ],
      "metadata": {
        "id": "Q7ebeGp3-eEd"
      },
      "execution_count": null,
      "outputs": []
    },
    {
      "cell_type": "code",
      "source": [
        "assert objective_value == 1140.0"
      ],
      "metadata": {
        "id": "gQ8Tpi5b-f1e"
      },
      "execution_count": null,
      "outputs": []
    },
    {
      "cell_type": "markdown",
      "source": [
        "# Задача 3. Оптимизация представителей (toy) [3 балла]\n",
        "\n",
        "<img src='https://drive.google.com/uc?id=1pUUArxSgxd1VGT01c2X2ox_NQAlsQG_z\n",
        "' width='1400'>"
      ],
      "metadata": {
        "id": "9KAKLsfU_RJD"
      }
    },
    {
      "cell_type": "code",
      "source": [
        "# задаем параметры\n",
        "\n",
        "#спрос по дням недели\n",
        "demand = np.array([11, 14, 13, 15, 12, 8, 7])\n",
        "\n",
        "\n",
        "#рейтинг\n",
        "employee_rating = np.array([99, 96,  5, 92,  1, 46,  6, 27, 74, 18, 30,  7, 75, 12, 68,  9, 22,\n",
        "       96, 41, 56,  6, 95, 89, 42, 41, 49, 58, 97, 73, 31])\n",
        "\n",
        "#дни, в которые представители недоступны\n",
        "unavailable_days = {0: np.array([6]),\n",
        " 1: np.array([0, 1, 6]),\n",
        " 2: np.array([0, 1, 4, 5, 6]),\n",
        " 3: np.array([3, 6]),\n",
        " 4: np.array([]),\n",
        " 5: np.array([0, 3, 5, 6]),\n",
        " 6: np.array([2, 4]),\n",
        " 7: np.array([0, 1, 2]),\n",
        " 8: np.array([3]),\n",
        " 9: np.array([0, 1, 4, 6]),\n",
        " 10: np.array([0]),\n",
        " 11: np.array([2, 4]),\n",
        " 12: np.array([]),\n",
        " 13: np.array([0]),\n",
        " 14: np.array([3]),\n",
        " 15: np.array([1]),\n",
        " 16: np.array([0, 1, 3, 4, 5]),\n",
        " 17: np.array([]),\n",
        " 18: np.array([0, 1, 2]),\n",
        " 19: np.array([1]),\n",
        " 20: np.array([1, 2, 3, 4, 6]),\n",
        " 21: np.array([1, 3, 4, 6]),\n",
        " 22: np.array([4]),\n",
        " 23: np.array([2, 5]),\n",
        " 24: np.array([2, 3, 6]),\n",
        " 25: np.array([]),\n",
        " 26: np.array([6]),\n",
        " 27: np.array([1, 6]),\n",
        " 28: np.array([0, 5]),\n",
        " 29: np.array([])}"
      ],
      "metadata": {
        "id": "2sci963PJIfw"
      },
      "execution_count": null,
      "outputs": []
    },
    {
      "cell_type": "code",
      "source": [
        "x = cp.Variable(shape=(len(employee_rating), len(demand)), boolean=True)\n",
        "constraints = []\n",
        "constraints.append(cp.sum(x, axis = 0) == demand)\n",
        "\n",
        "for i in range(len(employee_rating)):\n",
        "  for j in unavailable_days[i]:\n",
        "    constraints.append(x[i, j] == 0)\n",
        "\n",
        "objective = cp.sum(x, axis=1) @ employee_rating\n",
        "problem = cp.Problem(cp.Maximize(objective), constraints)\n",
        "problem.solve()"
      ],
      "metadata": {
        "id": "GaTUqSkKJi1c",
        "colab": {
          "base_uri": "https://localhost:8080/"
        },
        "outputId": "ee7e3e09-d952-471d-fad2-e3727e780d51"
      },
      "execution_count": null,
      "outputs": [
        {
          "output_type": "execute_result",
          "data": {
            "text/plain": [
              "6062.0"
            ]
          },
          "metadata": {},
          "execution_count": 37
        }
      ]
    },
    {
      "cell_type": "code",
      "source": [
        "assert objective_value == 6062.0"
      ],
      "metadata": {
        "id": "fTVOIEk5JrqO"
      },
      "execution_count": null,
      "outputs": []
    },
    {
      "cell_type": "markdown",
      "source": [
        "# Задача 4. Оптимизация представителей (easy) [3 балла]\n",
        "\n",
        "Усложним задачу:\n",
        "- теперь у тебя есть два региона (0 и 1)\n",
        "- представители живут в одном из двух регионов\n",
        "- работа представителя в *чужом регионе* один день эквивалентна потери λ единиц суммарного рейтинга\n",
        "- в некоторые дни представителей может не хватать на покрытие всего спроса — в таком случае тебе нужно покрыть столько спроса, сколько возможно\n",
        "\n",
        "**Целевая функция в этой задаче** Сумма рейтингов работающих преставителей - штраф за работу в чужом регионе"
      ],
      "metadata": {
        "id": "Wy9wV2YiJ8l2"
      }
    },
    {
      "cell_type": "code",
      "source": [
        "# задаем параметры\n",
        "\n",
        "demand_1 = [35, 33, 30, 27, 26, 17, 15]\n",
        "demand_2 = [20, 17, 15, 19, 18, 13, 10]\n",
        "\n",
        "employee_rating = np.array([83, 66, 30, 64, 80, 29, 71, 50, 40, 16,  6, 30, 36, 93, 72, 21,  9,\n",
        "                            48, 72, 51, 78, 22, 31,  7, 66, 36, 11, 10, 82, 50, 58, 31, 13, 65,\n",
        "                            48, 35, 10, 14, 81, 91, 41, 80, 28, 39, 61, 39, 97, 85, 48])\n",
        "\n",
        "# регионы, в которых живут представители\n",
        "employee_home_regions = np.array([0, 1, 0, 0, 0, 1, 0, 0, 1, 0, 0, 0, 1, 1, 0, 0, 0, 1, 1, 0, 1, 1,\n",
        "                                  0, 1, 0, 1, 0, 1, 0, 0, 0, 1, 0, 1, 1, 1, 1, 0, 1, 1, 1, 1, 1, 0,\n",
        "                                  0, 0, 0, 0, 0])\n",
        "\n",
        "# штрафы\n",
        "lambda_param = 1\n",
        "\n",
        "unavailable_days = {0:np.array([]),\n",
        "                    1:np.array([0, 1, 2, 4, 6]),\n",
        "                    2:np.array([0, 2, 4, 6]),\n",
        "                    3:np.array([4, 5]),\n",
        "                    4:np.array([0]),\n",
        "                    5:np.array([0, 1, 3, 4, 6]),\n",
        "                    6:np.array([0, 1, 5, 6]),\n",
        "                    7:np.array([5, 6]),\n",
        "                    8:np.array([0, 2]),\n",
        "                    9:np.array([0, 1, 5, 6]),\n",
        "                    10:np.array([5,6]),\n",
        "                    11:np.array([0]),\n",
        "                    12:np.array([]),\n",
        "                    13:np.array([0, 2, 3, 5]),\n",
        "                    14:np.array([]),\n",
        "                    15:np.array([4, 5]),\n",
        "                    16:np.array([0, 4, 5]),\n",
        "                    17:np.array([4]),\n",
        "                    18:np.array([]),\n",
        "                    19:np.array([0, 1, 2, 5]),\n",
        "                    20:np.array([0, 2, 3, 4]),\n",
        "                    21:np.array([2]),\n",
        "                    22:np.array([0, 3, 6]),\n",
        "                    23:np.array([]),\n",
        "                    24:np.array([]),\n",
        "                    25:np.array([2]),\n",
        "                    26:np.array([1, 2, 3, 5, 6]),\n",
        "                    27:np.array([1, 3, 4, 5]),\n",
        "                    28:np.array([0]),\n",
        "                    29:np.array([4, 5]),\n",
        "                    30:np.array([0, 1, 3, 4, 6]),\n",
        "                    31:np.array([0, 1, 2, 6]),\n",
        "                    32:np.array([]),\n",
        "                    33:np.array([1, 4, 5]),\n",
        "                    34:np.array([0, 2, 3, 4, 5]),\n",
        "                    35:np.array([4]),\n",
        "                    36:np.array([1, 2, 3, 5]),\n",
        "                    37:np.array([0, 1, 4, 6]),\n",
        "                    38:np.array([0, 1, 6]),\n",
        "                    39:np.array([1, 2, 4, 6]),\n",
        "                    40:np.array([0, 4, 5]),\n",
        "                    41:np.array([0, 2, 4, 6]),\n",
        "                    42:np.array([3, 4, 5]),\n",
        "                    43:np.array([0, 5, 6]),\n",
        "                    44:np.array([2]),\n",
        "                    45:np.array([0, 1, 2, 3]),\n",
        "                    46:np.array([2, 4, 5]),\n",
        "                    47:np.array([5,6]),\n",
        "                    48:np.array([1, 2])\n",
        "                    }"
      ],
      "metadata": {
        "id": "eWIvWFKrKUAk"
      },
      "execution_count": null,
      "outputs": []
    },
    {
      "cell_type": "code",
      "source": [
        "# твое решение здесь\n",
        "\n",
        "assignment = ...\n",
        "objective_value = ..."
      ],
      "metadata": {
        "id": "C7u41T_DPX3J"
      },
      "execution_count": null,
      "outputs": []
    },
    {
      "cell_type": "code",
      "source": [
        "assert objective_value == 10361.0"
      ],
      "metadata": {
        "id": "NwHTjr7aPYVL"
      },
      "execution_count": null,
      "outputs": []
    }
  ]
}