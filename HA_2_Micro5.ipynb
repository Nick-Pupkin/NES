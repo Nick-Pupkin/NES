{
 "cells": [
  {
   "cell_type": "code",
   "execution_count": 1,
   "id": "da23872a",
   "metadata": {},
   "outputs": [],
   "source": [
    "import numpy as np\n",
    "import pandas as pd\n",
    "import scipy, numpy, math"
   ]
  },
  {
   "cell_type": "markdown",
   "id": "1aa1d6cc-8569-4665-a329-b2c57a1d8793",
   "metadata": {},
   "source": [
    "## Task 2 \n",
    "\n",
    "In the problem of choosing one alternative out of three, calculate the Nitzan-Kelly index and the average manipulability index for the Borda count and the number of agents ( k = 3 )."
   ]
  },
  {
   "cell_type": "code",
   "execution_count": 2,
   "id": "3d8353e1",
   "metadata": {},
   "outputs": [
    {
     "data": {
      "text/plain": [
       "{'ABC': array([3., 2., 1.]),\n",
       " 'ACB': array([3., 1., 2.]),\n",
       " 'BAC': array([2., 3., 1.]),\n",
       " 'BCA': array([1., 3., 2.]),\n",
       " 'CAB': array([2., 1., 3.]),\n",
       " 'CBA': array([1., 2., 3.])}"
      ]
     },
     "execution_count": 2,
     "metadata": {},
     "output_type": "execute_result"
    }
   ],
   "source": [
    "# set of all possible preferences\n",
    "A = ['ABC', 'ACB', 'BAC', 'BCA', 'CAB', 'CBA']\n",
    "\n",
    "# code the position of an alternative - through Borda points\n",
    "# idea: point = {preferences: [points for alternative B, points for alternative A, points for alternative C]}\n",
    "points = {}\n",
    "# those are individual Borda scores\n",
    "for a in A:\n",
    "    points[a] = np.zeros(3)\n",
    "\n",
    "i = 0    \n",
    "for point in points.keys():\n",
    "    points[point][0] = (point[0] == 'A') * 3 + (point[1] == 'A') * 2 + (point[2] == 'A') \n",
    "    points[point][1] = (point[0] == 'B') * 3 + (point[1] == 'B') * 2 + (point[2] == 'B') \n",
    "    points[point][2] = (point[0] == 'C') * 3 + (point[1] == 'C') * 2 + (point[2] == 'C')  \n",
    "points\n"
   ]
  },
  {
   "cell_type": "markdown",
   "id": "ff25e689-a0ee-406e-bc2c-3a71bf071c6d",
   "metadata": {},
   "source": [
    "'BAC': array([2., 3., 1.]) - for preferances 'BAC', A gets 2 poitns, B - 3, C - 1"
   ]
  },
  {
   "cell_type": "code",
   "execution_count": 3,
   "id": "35f56224",
   "metadata": {},
   "outputs": [
    {
     "data": {
      "text/plain": [
       "array([[[False, False, False, False, False, False],\n",
       "        [False, False, False, False, False, False],\n",
       "        [False, False,  True, False, False,  True],\n",
       "        [False, False, False, False,  True, False],\n",
       "        [False, False, False,  True,  True, False],\n",
       "        [False, False,  True, False, False,  True]],\n",
       "\n",
       "       [[False, False, False, False, False, False],\n",
       "        [False, False, False, False, False, False],\n",
       "        [False, False,  True, False, False,  True],\n",
       "        [False, False, False, False,  True, False],\n",
       "        [False, False, False,  True,  True, False],\n",
       "        [False, False,  True, False, False, False]],\n",
       "\n",
       "       [[False, False,  True, False, False,  True],\n",
       "        [False, False,  True, False, False,  True],\n",
       "        [ True,  True, False, False,  True, False],\n",
       "        [False, False, False, False, False, False],\n",
       "        [False, False,  True, False,  True, False],\n",
       "        [ True,  True, False, False, False,  True]],\n",
       "\n",
       "       [[False, False, False, False,  True, False],\n",
       "        [False, False, False, False,  True, False],\n",
       "        [False, False, False, False, False, False],\n",
       "        [False, False, False, False, False, False],\n",
       "        [ True,  True, False, False, False, False],\n",
       "        [False, False, False, False, False,  True]],\n",
       "\n",
       "       [[False, False, False,  True,  True, False],\n",
       "        [False, False, False,  True,  True, False],\n",
       "        [False, False,  True, False,  True, False],\n",
       "        [ True,  True, False, False, False, False],\n",
       "        [ True,  True,  True, False, False, False],\n",
       "        [False, False, False, False, False, False]],\n",
       "\n",
       "       [[False, False,  True, False, False,  True],\n",
       "        [False, False,  True, False, False, False],\n",
       "        [ True,  True, False, False, False,  True],\n",
       "        [False, False, False, False, False,  True],\n",
       "        [False, False, False, False, False, False],\n",
       "        [ True, False,  True,  True, False, False]]])"
      ]
     },
     "execution_count": 3,
     "metadata": {},
     "output_type": "execute_result"
    }
   ],
   "source": [
    "matrix_deviation = np.full((6, 6, 6), False)\n",
    "matrix_ans = np.full((6, 6, 6), 'A')\n",
    "\n",
    "\n",
    "\n",
    "\n",
    "for i in range(6):\n",
    "    for j in range(6):\n",
    "        for k in range(6):\n",
    "            # get total Borda scores\n",
    "            bord = points[A[i]] + points[A[j]] + points[A[k]]\n",
    "            max_value = np.max(bord)\n",
    "            max_indices = np.where(bord == max_value)[0][0]\n",
    "            # get the matrix of winning alternatives (max Borda points)\n",
    "            matrix_ans[i][j][k] = chr(max_indices + ord('A'))\n",
    "\n",
    "\n",
    "# now calculate possible deviations\n",
    "for i in range(6):\n",
    "    for j in range(6):\n",
    "        for k in range(6):\n",
    "            # first condition - the chosen alternative is different from the \n",
    "            # preferred alternative of the player\n",
    "            if matrix_ans[i][j][k] != A[i][0]:\n",
    "                # search whether individ has an opportunity to do the manipulation\n",
    "                # to get their desired alternative on the first place\n",
    "                # (search is done on the set of all posibble winning alternative\n",
    "                # for all of the player's preferences)\n",
    "                if A[i][0] in matrix_ans[:][j][k]:\n",
    "                    matrix_deviation[i][j][k] = True\n",
    "                # now see the possible manipulations with getting the player's secondly desired \n",
    "                # alternative from the third place to the second place\n",
    "                elif matrix_ans[i][j][k] != A[i][1] and A[i][1] in matrix_ans[:][j][k]:\n",
    "                    matrix_deviation[i][j][k] = True\n",
    "            # repeat for all players\n",
    "            if matrix_ans[i][j][k] != A[j][0]:\n",
    "                if A[j][0] in matrix_ans[i][:][k]:\n",
    "                    matrix_deviation[i][j][k] = True\n",
    "                elif matrix_ans[i][j][k] != A[j][1] and A[j][1] in matrix_ans[i][:][k]:\n",
    "                    matrix_deviation[i][j][k] = True\n",
    "\n",
    "            \n",
    "            if matrix_ans[i][j][k] != A[k][0]:\n",
    "                if A[k][0] in matrix_ans[i][j][:]:\n",
    "                    matrix_deviation[i][j][k] = True\n",
    "                elif matrix_ans[i][j][k] != A[k][1] and A[k][1] in matrix_ans[i][j][:]:\n",
    "                    matrix_deviation[i][j][k] = True\n",
    "\n",
    "          \n",
    "\n",
    "            \n",
    "matrix_deviation"
   ]
  },
  {
   "cell_type": "code",
   "execution_count": 19,
   "id": "53f55905",
   "metadata": {},
   "outputs": [
    {
     "name": "stdout",
     "output_type": "stream",
     "text": [
      " Nitzan-Kelly index: 0.2361,\n",
      "\n",
      " Average manipulability index: 0.0787,\n",
      "\n",
      " Number of deviations: 51\n"
     ]
    }
   ],
   "source": [
    "# now compute indexes\n",
    "# np.sum(matrix_deviation) = # of deviations\n",
    "k = 3 # measure of the set of alternatives\n",
    "n = 3 # number of platers\n",
    "\n",
    "# Nitzan-Kelly index\n",
    "IndexNK = np.sum(matrix_deviation) / (math.factorial(k) ** n)\n",
    "# Average manipulability index\n",
    "IndexAEM = np.sum(matrix_deviation) / ((math.factorial(k) ** n) * n)\n",
    "\n",
    "print(f''' Nitzan-Kelly index: {round(IndexNK, 4)},\n",
    "\\n Average manipulability index: {round(IndexAEM, 4)},\n",
    "\\n Number of deviations: {np.sum(matrix_deviation)}''')"
   ]
  },
  {
   "cell_type": "markdown",
   "id": "8009094f-88c3-4f02-bf08-e4d5f7d388bf",
   "metadata": {},
   "source": [
    "## Task 3"
   ]
  },
  {
   "cell_type": "code",
   "execution_count": null,
   "id": "d8adaacb-efa7-40a8-b1b9-aa5cf7b8995e",
   "metadata": {},
   "outputs": [],
   "source": []
  },
  {
   "cell_type": "code",
   "execution_count": null,
   "id": "4b975e8a-fcf9-4d18-8e19-637a0477ec69",
   "metadata": {},
   "outputs": [],
   "source": []
  }
 ],
 "metadata": {
  "kernelspec": {
   "display_name": "Python 3 (ipykernel)",
   "language": "python",
   "name": "python3"
  },
  "language_info": {
   "codemirror_mode": {
    "name": "ipython",
    "version": 3
   },
   "file_extension": ".py",
   "mimetype": "text/x-python",
   "name": "python",
   "nbconvert_exporter": "python",
   "pygments_lexer": "ipython3",
   "version": "3.11.8"
  }
 },
 "nbformat": 4,
 "nbformat_minor": 5
}
